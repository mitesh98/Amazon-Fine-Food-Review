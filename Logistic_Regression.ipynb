{
  "nbformat": 4,
  "nbformat_minor": 0,
  "metadata": {
    "colab": {
      "name": "Logistic Regression.ipynb",
      "version": "0.3.2",
      "provenance": [],
      "include_colab_link": true
    },
    "kernelspec": {
      "name": "python3",
      "display_name": "Python 3"
    }
  },
  "cells": [
    {
      "cell_type": "markdown",
      "metadata": {
        "id": "view-in-github",
        "colab_type": "text"
      },
      "source": [
        "<a href=\"https://colab.research.google.com/github/mitesh98/Amazon-Fine-Food-Review/blob/master/Logistic_Regression.ipynb\" target=\"_parent\"><img src=\"https://colab.research.google.com/assets/colab-badge.svg\" alt=\"Open In Colab\"/></a>"
      ]
    },
    {
      "metadata": {
        "id": "NEwWul4Lu7nW",
        "colab_type": "text"
      },
      "cell_type": "markdown",
      "source": [
        "# Amazon Fine Food Reviews Analysis\n",
        "Data Source: https://www.kaggle.com/snap/amazon-fine-food-reviews\n",
        "\n",
        "The Amazon Fine Food Reviews dataset consists of reviews of fine foods from Amazon.\n",
        "\n",
        "Number of reviews: 568,454\n",
        "\n",
        "Number of users: 256,059\n",
        "\n",
        "Number of products: 74,258\n",
        "\n",
        "Timespan: Oct 1999 - Oct 2012\n",
        "\n",
        "Number of Attributes/Columns in data: 10\n",
        "\n",
        "Attribute Information:\n",
        "\n",
        "Id\n",
        "\n",
        "ProductId - unique identifier for the product\n",
        "\n",
        "UserId - unqiue identifier for the user\n",
        "\n",
        "ProfileName\n",
        "\n",
        "HelpfulnessNumerator - number of users who found the review helpful\n",
        "\n",
        "HelpfulnessDenominator - number of users who indicated whether they found the review helpful or not\n",
        "\n",
        "Score - rating between 1 and 5\n",
        "\n",
        "Time - timestamp for the review\n",
        "\n",
        "Summary - brief summary of the review\n",
        "\n",
        "Text - text of the review\n",
        "\n",
        "Objective: Given a review, determine whether the review is positive (rating of 4 or 5) or negative (rating of 1 or 2)."
      ]
    },
    {
      "metadata": {
        "id": "R-tGyFD1utIS",
        "colab_type": "code",
        "colab": {}
      },
      "cell_type": "code",
      "source": [
        "%matplotlib inline\n",
        "import pandas as pd\n",
        "import numpy as np\n",
        "import matplotlib.pyplot as plt\n",
        "import seaborn as sns\n",
        "\n",
        "from sklearn.feature_extraction.text import CountVectorizer\n",
        "from sklearn.feature_extraction.text import TfidfVectorizer\n",
        "\n",
        "import re\n",
        "import nltk\n",
        "\n",
        "from sklearn import metrics\n",
        "from sklearn.metrics import confusion_matrix\n",
        "\n",
        "import warnings\n",
        "warnings.filterwarnings(\"ignore\")\n",
        "\n",
        "import tqdm"
      ],
      "execution_count": 0,
      "outputs": []
    },
    {
      "metadata": {
        "id": "JziadLn8xIAV",
        "colab_type": "code",
        "colab": {}
      },
      "cell_type": "code",
      "source": [
        "import sqlite3"
      ],
      "execution_count": 0,
      "outputs": []
    },
    {
      "metadata": {
        "id": "1JsIfPpbxAXF",
        "colab_type": "code",
        "colab": {
          "base_uri": "https://localhost:8080/",
          "height": 122
        },
        "outputId": "07fab984-b767-4672-9bdf-36c2ec99b03f"
      },
      "cell_type": "code",
      "source": [
        "from google.colab import drive\n",
        "drive.mount('/content/drive')"
      ],
      "execution_count": 5,
      "outputs": [
        {
          "output_type": "stream",
          "text": [
            "Go to this URL in a browser: https://accounts.google.com/o/oauth2/auth?client_id=947318989803-6bn6qk8qdgf4n4g3pfee6491hc0brc4i.apps.googleusercontent.com&redirect_uri=urn%3Aietf%3Awg%3Aoauth%3A2.0%3Aoob&scope=email%20https%3A%2F%2Fwww.googleapis.com%2Fauth%2Fdocs.test%20https%3A%2F%2Fwww.googleapis.com%2Fauth%2Fdrive%20https%3A%2F%2Fwww.googleapis.com%2Fauth%2Fdrive.photos.readonly%20https%3A%2F%2Fwww.googleapis.com%2Fauth%2Fpeopleapi.readonly&response_type=code\n",
            "\n",
            "Enter your authorization code:\n",
            "··········\n",
            "Mounted at /content/drive\n"
          ],
          "name": "stdout"
        }
      ]
    },
    {
      "metadata": {
        "id": "EYX0GwdKxVWq",
        "colab_type": "code",
        "colab": {}
      },
      "cell_type": "code",
      "source": [
        "!cp \"/content/drive/My Drive/database.sqlite\" \"database.sqlite\""
      ],
      "execution_count": 0,
      "outputs": []
    },
    {
      "metadata": {
        "id": "-PYnySivxZEh",
        "colab_type": "text"
      },
      "cell_type": "markdown",
      "source": [
        "# Reading Data"
      ]
    },
    {
      "metadata": {
        "id": "Vsascm5dxbIT",
        "colab_type": "code",
        "colab": {}
      },
      "cell_type": "code",
      "source": [
        "con=sqlite3.connect(\"database.sqlite\")"
      ],
      "execution_count": 0,
      "outputs": []
    },
    {
      "metadata": {
        "id": "uNyTdj8PxfFP",
        "colab_type": "code",
        "colab": {
          "base_uri": "https://localhost:8080/",
          "height": 323
        },
        "outputId": "de9e58ee-6bec-458a-b2fe-099c2568bb95"
      },
      "cell_type": "code",
      "source": [
        "filtered_data=pd.read_sql_query(\"SELECT * FROM `Reviews` WHERE `Score` !=3\",con)\n",
        "filtered_data.shape\n",
        "filtered_data.head()"
      ],
      "execution_count": 8,
      "outputs": [
        {
          "output_type": "execute_result",
          "data": {
            "text/html": [
              "<div>\n",
              "<style scoped>\n",
              "    .dataframe tbody tr th:only-of-type {\n",
              "        vertical-align: middle;\n",
              "    }\n",
              "\n",
              "    .dataframe tbody tr th {\n",
              "        vertical-align: top;\n",
              "    }\n",
              "\n",
              "    .dataframe thead th {\n",
              "        text-align: right;\n",
              "    }\n",
              "</style>\n",
              "<table border=\"1\" class=\"dataframe\">\n",
              "  <thead>\n",
              "    <tr style=\"text-align: right;\">\n",
              "      <th></th>\n",
              "      <th>Id</th>\n",
              "      <th>ProductId</th>\n",
              "      <th>UserId</th>\n",
              "      <th>ProfileName</th>\n",
              "      <th>HelpfulnessNumerator</th>\n",
              "      <th>HelpfulnessDenominator</th>\n",
              "      <th>Score</th>\n",
              "      <th>Time</th>\n",
              "      <th>Summary</th>\n",
              "      <th>Text</th>\n",
              "    </tr>\n",
              "  </thead>\n",
              "  <tbody>\n",
              "    <tr>\n",
              "      <th>0</th>\n",
              "      <td>1</td>\n",
              "      <td>B001E4KFG0</td>\n",
              "      <td>A3SGXH7AUHU8GW</td>\n",
              "      <td>delmartian</td>\n",
              "      <td>1</td>\n",
              "      <td>1</td>\n",
              "      <td>5</td>\n",
              "      <td>1303862400</td>\n",
              "      <td>Good Quality Dog Food</td>\n",
              "      <td>I have bought several of the Vitality canned d...</td>\n",
              "    </tr>\n",
              "    <tr>\n",
              "      <th>1</th>\n",
              "      <td>2</td>\n",
              "      <td>B00813GRG4</td>\n",
              "      <td>A1D87F6ZCVE5NK</td>\n",
              "      <td>dll pa</td>\n",
              "      <td>0</td>\n",
              "      <td>0</td>\n",
              "      <td>1</td>\n",
              "      <td>1346976000</td>\n",
              "      <td>Not as Advertised</td>\n",
              "      <td>Product arrived labeled as Jumbo Salted Peanut...</td>\n",
              "    </tr>\n",
              "    <tr>\n",
              "      <th>2</th>\n",
              "      <td>3</td>\n",
              "      <td>B000LQOCH0</td>\n",
              "      <td>ABXLMWJIXXAIN</td>\n",
              "      <td>Natalia Corres \"Natalia Corres\"</td>\n",
              "      <td>1</td>\n",
              "      <td>1</td>\n",
              "      <td>4</td>\n",
              "      <td>1219017600</td>\n",
              "      <td>\"Delight\" says it all</td>\n",
              "      <td>This is a confection that has been around a fe...</td>\n",
              "    </tr>\n",
              "    <tr>\n",
              "      <th>3</th>\n",
              "      <td>4</td>\n",
              "      <td>B000UA0QIQ</td>\n",
              "      <td>A395BORC6FGVXV</td>\n",
              "      <td>Karl</td>\n",
              "      <td>3</td>\n",
              "      <td>3</td>\n",
              "      <td>2</td>\n",
              "      <td>1307923200</td>\n",
              "      <td>Cough Medicine</td>\n",
              "      <td>If you are looking for the secret ingredient i...</td>\n",
              "    </tr>\n",
              "    <tr>\n",
              "      <th>4</th>\n",
              "      <td>5</td>\n",
              "      <td>B006K2ZZ7K</td>\n",
              "      <td>A1UQRSCLF8GW1T</td>\n",
              "      <td>Michael D. Bigham \"M. Wassir\"</td>\n",
              "      <td>0</td>\n",
              "      <td>0</td>\n",
              "      <td>5</td>\n",
              "      <td>1350777600</td>\n",
              "      <td>Great taffy</td>\n",
              "      <td>Great taffy at a great price.  There was a wid...</td>\n",
              "    </tr>\n",
              "  </tbody>\n",
              "</table>\n",
              "</div>"
            ],
            "text/plain": [
              "   Id   ProductId          UserId                      ProfileName  \\\n",
              "0   1  B001E4KFG0  A3SGXH7AUHU8GW                       delmartian   \n",
              "1   2  B00813GRG4  A1D87F6ZCVE5NK                           dll pa   \n",
              "2   3  B000LQOCH0   ABXLMWJIXXAIN  Natalia Corres \"Natalia Corres\"   \n",
              "3   4  B000UA0QIQ  A395BORC6FGVXV                             Karl   \n",
              "4   5  B006K2ZZ7K  A1UQRSCLF8GW1T    Michael D. Bigham \"M. Wassir\"   \n",
              "\n",
              "   HelpfulnessNumerator  HelpfulnessDenominator  Score        Time  \\\n",
              "0                     1                       1      5  1303862400   \n",
              "1                     0                       0      1  1346976000   \n",
              "2                     1                       1      4  1219017600   \n",
              "3                     3                       3      2  1307923200   \n",
              "4                     0                       0      5  1350777600   \n",
              "\n",
              "                 Summary                                               Text  \n",
              "0  Good Quality Dog Food  I have bought several of the Vitality canned d...  \n",
              "1      Not as Advertised  Product arrived labeled as Jumbo Salted Peanut...  \n",
              "2  \"Delight\" says it all  This is a confection that has been around a fe...  \n",
              "3         Cough Medicine  If you are looking for the secret ingredient i...  \n",
              "4            Great taffy  Great taffy at a great price.  There was a wid...  "
            ]
          },
          "metadata": {
            "tags": []
          },
          "execution_count": 8
        }
      ]
    },
    {
      "metadata": {
        "id": "sg1P383-xiRA",
        "colab_type": "code",
        "colab": {}
      },
      "cell_type": "code",
      "source": [
        "# Give reviews with Score>3 a positive rating(1), and reviews with a score<3 a negative rating(0).\n",
        "def partition(x):\n",
        "    if x < 3:\n",
        "        return 0\n",
        "    return 1"
      ],
      "execution_count": 0,
      "outputs": []
    },
    {
      "metadata": {
        "id": "biURpwTMxl_o",
        "colab_type": "code",
        "colab": {
          "base_uri": "https://localhost:8080/",
          "height": 323
        },
        "outputId": "59ae20e0-dcad-4ae7-b5cb-4700dc2f64df"
      },
      "cell_type": "code",
      "source": [
        "actual_score=filtered_data['Score']\n",
        "posnegative=actual_score.map(partition)\n",
        "filtered_data['Score']=posnegative\n",
        "filtered_data.head(5)"
      ],
      "execution_count": 10,
      "outputs": [
        {
          "output_type": "execute_result",
          "data": {
            "text/html": [
              "<div>\n",
              "<style scoped>\n",
              "    .dataframe tbody tr th:only-of-type {\n",
              "        vertical-align: middle;\n",
              "    }\n",
              "\n",
              "    .dataframe tbody tr th {\n",
              "        vertical-align: top;\n",
              "    }\n",
              "\n",
              "    .dataframe thead th {\n",
              "        text-align: right;\n",
              "    }\n",
              "</style>\n",
              "<table border=\"1\" class=\"dataframe\">\n",
              "  <thead>\n",
              "    <tr style=\"text-align: right;\">\n",
              "      <th></th>\n",
              "      <th>Id</th>\n",
              "      <th>ProductId</th>\n",
              "      <th>UserId</th>\n",
              "      <th>ProfileName</th>\n",
              "      <th>HelpfulnessNumerator</th>\n",
              "      <th>HelpfulnessDenominator</th>\n",
              "      <th>Score</th>\n",
              "      <th>Time</th>\n",
              "      <th>Summary</th>\n",
              "      <th>Text</th>\n",
              "    </tr>\n",
              "  </thead>\n",
              "  <tbody>\n",
              "    <tr>\n",
              "      <th>0</th>\n",
              "      <td>1</td>\n",
              "      <td>B001E4KFG0</td>\n",
              "      <td>A3SGXH7AUHU8GW</td>\n",
              "      <td>delmartian</td>\n",
              "      <td>1</td>\n",
              "      <td>1</td>\n",
              "      <td>1</td>\n",
              "      <td>1303862400</td>\n",
              "      <td>Good Quality Dog Food</td>\n",
              "      <td>I have bought several of the Vitality canned d...</td>\n",
              "    </tr>\n",
              "    <tr>\n",
              "      <th>1</th>\n",
              "      <td>2</td>\n",
              "      <td>B00813GRG4</td>\n",
              "      <td>A1D87F6ZCVE5NK</td>\n",
              "      <td>dll pa</td>\n",
              "      <td>0</td>\n",
              "      <td>0</td>\n",
              "      <td>0</td>\n",
              "      <td>1346976000</td>\n",
              "      <td>Not as Advertised</td>\n",
              "      <td>Product arrived labeled as Jumbo Salted Peanut...</td>\n",
              "    </tr>\n",
              "    <tr>\n",
              "      <th>2</th>\n",
              "      <td>3</td>\n",
              "      <td>B000LQOCH0</td>\n",
              "      <td>ABXLMWJIXXAIN</td>\n",
              "      <td>Natalia Corres \"Natalia Corres\"</td>\n",
              "      <td>1</td>\n",
              "      <td>1</td>\n",
              "      <td>1</td>\n",
              "      <td>1219017600</td>\n",
              "      <td>\"Delight\" says it all</td>\n",
              "      <td>This is a confection that has been around a fe...</td>\n",
              "    </tr>\n",
              "    <tr>\n",
              "      <th>3</th>\n",
              "      <td>4</td>\n",
              "      <td>B000UA0QIQ</td>\n",
              "      <td>A395BORC6FGVXV</td>\n",
              "      <td>Karl</td>\n",
              "      <td>3</td>\n",
              "      <td>3</td>\n",
              "      <td>0</td>\n",
              "      <td>1307923200</td>\n",
              "      <td>Cough Medicine</td>\n",
              "      <td>If you are looking for the secret ingredient i...</td>\n",
              "    </tr>\n",
              "    <tr>\n",
              "      <th>4</th>\n",
              "      <td>5</td>\n",
              "      <td>B006K2ZZ7K</td>\n",
              "      <td>A1UQRSCLF8GW1T</td>\n",
              "      <td>Michael D. Bigham \"M. Wassir\"</td>\n",
              "      <td>0</td>\n",
              "      <td>0</td>\n",
              "      <td>1</td>\n",
              "      <td>1350777600</td>\n",
              "      <td>Great taffy</td>\n",
              "      <td>Great taffy at a great price.  There was a wid...</td>\n",
              "    </tr>\n",
              "  </tbody>\n",
              "</table>\n",
              "</div>"
            ],
            "text/plain": [
              "   Id   ProductId          UserId                      ProfileName  \\\n",
              "0   1  B001E4KFG0  A3SGXH7AUHU8GW                       delmartian   \n",
              "1   2  B00813GRG4  A1D87F6ZCVE5NK                           dll pa   \n",
              "2   3  B000LQOCH0   ABXLMWJIXXAIN  Natalia Corres \"Natalia Corres\"   \n",
              "3   4  B000UA0QIQ  A395BORC6FGVXV                             Karl   \n",
              "4   5  B006K2ZZ7K  A1UQRSCLF8GW1T    Michael D. Bigham \"M. Wassir\"   \n",
              "\n",
              "   HelpfulnessNumerator  HelpfulnessDenominator  Score        Time  \\\n",
              "0                     1                       1      1  1303862400   \n",
              "1                     0                       0      0  1346976000   \n",
              "2                     1                       1      1  1219017600   \n",
              "3                     3                       3      0  1307923200   \n",
              "4                     0                       0      1  1350777600   \n",
              "\n",
              "                 Summary                                               Text  \n",
              "0  Good Quality Dog Food  I have bought several of the Vitality canned d...  \n",
              "1      Not as Advertised  Product arrived labeled as Jumbo Salted Peanut...  \n",
              "2  \"Delight\" says it all  This is a confection that has been around a fe...  \n",
              "3         Cough Medicine  If you are looking for the secret ingredient i...  \n",
              "4            Great taffy  Great taffy at a great price.  There was a wid...  "
            ]
          },
          "metadata": {
            "tags": []
          },
          "execution_count": 10
        }
      ]
    },
    {
      "metadata": {
        "id": "8qFEfWIsxq8V",
        "colab_type": "text"
      },
      "cell_type": "markdown",
      "source": [
        "# 2. Exploratory Data Analysis\n",
        "# 2.1 Data Cleaning: Deduplication\n",
        "It is observed (as shown in the table below) that the reviews data had many duplicate entries. Hence it was necessary to remove duplicates in order to get unbiased results for the analysis of the data."
      ]
    },
    {
      "metadata": {
        "id": "ueeyzMppxz63",
        "colab_type": "code",
        "colab": {
          "base_uri": "https://localhost:8080/",
          "height": 34
        },
        "outputId": "b8208471-4ba5-49fb-d718-c6f1b4c6de34"
      },
      "cell_type": "code",
      "source": [
        "#Sorting data according to ProductId in ascending order\n",
        "sorted_data=filtered_data.sort_values('ProductId',axis=0,ascending=True)\n",
        "sorted_data.shape"
      ],
      "execution_count": 11,
      "outputs": [
        {
          "output_type": "execute_result",
          "data": {
            "text/plain": [
              "(525814, 10)"
            ]
          },
          "metadata": {
            "tags": []
          },
          "execution_count": 11
        }
      ]
    },
    {
      "metadata": {
        "id": "m-V4J6d-x431",
        "colab_type": "code",
        "colab": {
          "base_uri": "https://localhost:8080/",
          "height": 34
        },
        "outputId": "fc9342a2-90b7-4b0f-b2fe-eac66f8a805c"
      },
      "cell_type": "code",
      "source": [
        "#Deduplication of entries\n",
        "final=sorted_data.drop_duplicates(subset={'UserId','ProfileName','Time','Text'},keep='first',inplace=False)\n",
        "final.shape"
      ],
      "execution_count": 12,
      "outputs": [
        {
          "output_type": "execute_result",
          "data": {
            "text/plain": [
              "(364173, 10)"
            ]
          },
          "metadata": {
            "tags": []
          },
          "execution_count": 12
        }
      ]
    },
    {
      "metadata": {
        "id": "XsdaXB49x_Ge",
        "colab_type": "text"
      },
      "cell_type": "markdown",
      "source": [
        "**Observation:- **bold text**  **  It was also seen that in two rows given below the value of HelpfulnessNumerator is greater than HelpfulnessDenominator which is not practically possible hence these two rows too are removed from calcualtions\n"
      ]
    },
    {
      "metadata": {
        "id": "9ThCYHK1x8Z3",
        "colab_type": "code",
        "colab": {
          "base_uri": "https://localhost:8080/",
          "height": 34
        },
        "outputId": "0029cfbb-a63a-4def-c0b9-a1a7e817d0af"
      },
      "cell_type": "code",
      "source": [
        "final=final[final.HelpfulnessNumerator<=final.HelpfulnessDenominator]\n",
        "final.shape"
      ],
      "execution_count": 13,
      "outputs": [
        {
          "output_type": "execute_result",
          "data": {
            "text/plain": [
              "(364171, 10)"
            ]
          },
          "metadata": {
            "tags": []
          },
          "execution_count": 13
        }
      ]
    },
    {
      "metadata": {
        "id": "SFSZpAlVyOW3",
        "colab_type": "code",
        "colab": {
          "base_uri": "https://localhost:8080/",
          "height": 68
        },
        "outputId": "a22c7c9d-227e-4911-fa9a-74b7f0a525e6"
      },
      "cell_type": "code",
      "source": [
        "final['Score'].value_counts()"
      ],
      "execution_count": 14,
      "outputs": [
        {
          "output_type": "execute_result",
          "data": {
            "text/plain": [
              "1    307061\n",
              "0     57110\n",
              "Name: Score, dtype: int64"
            ]
          },
          "metadata": {
            "tags": []
          },
          "execution_count": 14
        }
      ]
    },
    {
      "metadata": {
        "id": "5hC7YDVgySbr",
        "colab_type": "text"
      },
      "cell_type": "markdown",
      "source": [
        "# 3. Preprocessing\n",
        "In the Preprocessing phase we do the following in the order below:-\n",
        "\n",
        "1.Begin by removing the linksand html tags\n",
        "\n",
        "2.Expand English language contractions and Remove any punctuations or limited set of special characters like , or . or # etc.\n",
        "\n",
        "3.Check if the word is made up of english letters and is not alpha-numeric\n",
        "\n",
        "4.Check to see if the length of the word is greater than 2 (as it was researched that there is no adjective in 2-letters)\n",
        "\n",
        "5.Convert the word to lowercase\n",
        "\n",
        "6.Remove Stopwords\n",
        "\n",
        "7.Finally Snowball Stemming the word (it was obsereved to be better than Porter Stemming)"
      ]
    },
    {
      "metadata": {
        "id": "1hnL0wlIyVAc",
        "colab_type": "code",
        "colab": {
          "base_uri": "https://localhost:8080/",
          "height": 425
        },
        "outputId": "eeddb952-ec6c-49f1-be04-f845fc0fe105"
      },
      "cell_type": "code",
      "source": [
        "#print(link)\n",
        "for i in range(0,1000):\n",
        "  links=re.findall(r'http\\S+',final['Text'].values[i])\n",
        "  for link in links:\n",
        "    print(link)"
      ],
      "execution_count": 15,
      "outputs": [
        {
          "output_type": "stream",
          "text": [
            "http://www.amazon.com/gp/product/B0002DGRSY\">Pro-Treat\n",
            "http://www.amazon.com/gp/product/B0019O5Z0Q\">Charlee\n",
            "http://www.amazon.com/VICTOR-FLY-MAGNET-BAIT-REFILL/dp/B00004RBDY<br\n",
            "http://www.amazon.com/gp/product/B0088EDMMS\">Hocus\n",
            "http://www.amazon.com/gp/product/B001AGXEAG\">Beetlejuice\n",
            "http://www.amazon.com/gp/product/B001AGXEAG\">here</a>.\n",
            "http://www.amazon.com/gp/product/B001AGXEA6\">here</a>.\n",
            "http://www.amazon.com/gp/product/0790700506\">Gremlins</a><br\n",
            "http://www.amazon.com/gp/product/6301871952\">Gremlins\n",
            "http://www.amazon.com/gp/product/6303347657\">Mask</a><br\n",
            "http://www.amazon.com/gp/product/6304826141\">Rocketman</a><br\n",
            "http://www.amazon.com/gp/product/B001B504LI\">The\n",
            "http://www.amazon.com/gp/product/B001AGXEA6\">Beetlejuice\n",
            "http://www.amazon.com/gp/product/B00004RAMX\">Victor\n",
            "http://www.amazon.com/gp/product/B00004RAMY\">Victor\n",
            "http://www.amazon.com/gp/product/B00004RAMY\">Victor\n",
            "http://www.amazon.com/gp/product/B001VJ3FP6\">SentryHOME\n",
            "http://www.amazon.com/gp/product/B0051GCTAW\">Fiproguard\n",
            "http://www.amazon.com/gp/product/B000668Z96\">Victor\n",
            "http://www.amazon.com/gp/product/B000668Z96\">Victor\n",
            "http://www.amazon.com/gp/product/B000BQRQ8C\">Rescue\n",
            "http://www.amazon.com/gp/product/B00004RBDZ\">Victor\n",
            "http://www.amazon.com/gp/product/B00005344V\">Traditional\n",
            "http://www.amazon.com/gp/product/B00005C2M2\">Astronaut\n"
          ],
          "name": "stdout"
        }
      ]
    },
    {
      "metadata": {
        "id": "DcC538p6ycHQ",
        "colab_type": "code",
        "colab": {}
      },
      "cell_type": "code",
      "source": [
        "for i in range(0,364171):\n",
        "  final['Text'].values[i] = re.sub(r\"http\\S+\", \"\", final['Text'].values[i])"
      ],
      "execution_count": 0,
      "outputs": []
    },
    {
      "metadata": {
        "id": "la8Xb683yfHs",
        "colab_type": "code",
        "colab": {}
      },
      "cell_type": "code",
      "source": [
        "#Remove HTML tags\n",
        "from bs4 import BeautifulSoup\n",
        "for i in range(1,364171):\n",
        "  soup = BeautifulSoup(final['Text'].values[i],'lxml')\n",
        "  text = soup.get_text()\n",
        "  final['Text'].values[i]=text"
      ],
      "execution_count": 0,
      "outputs": []
    },
    {
      "metadata": {
        "id": "--tLUIJhyiKl",
        "colab_type": "code",
        "colab": {}
      },
      "cell_type": "code",
      "source": [
        "#Expanding English language contractions\n",
        "def decontracted(phrase):\n",
        "  # specific\n",
        "  phrase = re.sub(r\"won\\'t\", \"will not\", phrase)\n",
        "  phrase = re.sub(r\"can\\'t\", \"can not\", phrase)\n",
        "\n",
        "  # general\n",
        "  phrase = re.sub(r\"n\\'t\", \" not\", phrase)\n",
        "  phrase = re.sub(r\"\\'re\", \" are\", phrase)\n",
        "  phrase = re.sub(r\"\\'s\", \" is\", phrase)\n",
        "  phrase = re.sub(r\"\\'d\", \" would\", phrase)\n",
        "  phrase = re.sub(r\"\\'ll\", \" will\", phrase)\n",
        "  phrase = re.sub(r\"\\'t\", \" not\", phrase)\n",
        "  phrase = re.sub(r\"\\'ve\", \" have\", phrase)\n",
        "  phrase = re.sub(r\"\\'m\", \" am\", phrase)\n",
        "  return phrase\n"
      ],
      "execution_count": 0,
      "outputs": []
    },
    {
      "metadata": {
        "id": "bARc-yR2yk1k",
        "colab_type": "code",
        "colab": {}
      },
      "cell_type": "code",
      "source": [
        "for i in range(0,364171):\n",
        "  #print(final['Text'].values[i])\n",
        "  final['Text'].values[i]=decontracted(final['Text'].values[i])\n",
        "  #print(final['Text'].values[i])"
      ],
      "execution_count": 0,
      "outputs": []
    },
    {
      "metadata": {
        "id": "NfyDvK74ynL0",
        "colab_type": "code",
        "colab": {}
      },
      "cell_type": "code",
      "source": [
        "#remove words with numbers python\n",
        "for i in range(1,364171):\n",
        "  #print(final['Text'].values[i])\n",
        "  final['Text'].values[i] = re.sub(\"\\S*\\d\\S*\", \"\", final['Text'].values[i]).strip()\n",
        "  #print(final['Text'].values[i])"
      ],
      "execution_count": 0,
      "outputs": []
    },
    {
      "metadata": {
        "id": "su990z0zypw7",
        "colab_type": "code",
        "colab": {}
      },
      "cell_type": "code",
      "source": [
        "#remove spacial character:\n",
        "for i in range(1,364171):\n",
        "  final['Text'].values[i]= re.sub('[^A-Za-z0-9]+', ' ', final['Text'].values[i])\n"
      ],
      "execution_count": 0,
      "outputs": []
    },
    {
      "metadata": {
        "id": "3p7iR9X1ysTW",
        "colab_type": "code",
        "colab": {}
      },
      "cell_type": "code",
      "source": [
        "#Remove punctution\n",
        "for i in range(1,364171):\n",
        "  final['Text'].values[i]= re.sub(r'[!|#|$\\%|&|*|?|,|.|\\'|/|\"|)|(]',r'', final['Text'].values[i])"
      ],
      "execution_count": 0,
      "outputs": []
    },
    {
      "metadata": {
        "id": "uwJPVkkMyv3n",
        "colab_type": "code",
        "colab": {}
      },
      "cell_type": "code",
      "source": [
        "# https://gist.github.com/sebleier/554280\n",
        "# we are removing the words from the stop words list: 'no', 'nor', 'not'\n",
        "# <br /><br /> ==> after the above steps, we are getting \"br br\"\n",
        "# we are including them into stop words list\n",
        "# instead of <br /> if we have <br/> these tags would have revmoved in the 1st step\n",
        "\n",
        "stopwords= set(['br', 'the', 'i', 'me', 'my', 'myself', 'we', 'our', 'ours', 'ourselves', 'you', \"you're\", \"you've\",\\\n",
        "            \"you'll\", \"you'd\", 'your', 'yours', 'yourself', 'yourselves', 'he', 'him', 'his', 'himself', \\\n",
        "            'she', \"she's\", 'her', 'hers', 'herself', 'it', \"it's\", 'its', 'itself', 'they', 'them', 'their',\\\n",
        "            'theirs', 'themselves', 'what', 'which', 'who', 'whom', 'this', 'that', \"that'll\", 'these', 'those', \\\n",
        "            'am', 'is', 'are', 'was', 'were', 'be', 'been', 'being', 'have', 'has', 'had', 'having', 'do', 'does', \\\n",
        "            'did', 'doing', 'a', 'an', 'the', 'and', 'but', 'if', 'or', 'because', 'as', 'until', 'while', 'of', \\\n",
        "            'at', 'by', 'for', 'with', 'about', 'against', 'between', 'into', 'through', 'during', 'before', 'after',\\\n",
        "            'above', 'below', 'to', 'from', 'up', 'down', 'in', 'out', 'on', 'off', 'over', 'under', 'again', 'further',\\\n",
        "            'then', 'once', 'here', 'there', 'when', 'where', 'why', 'how', 'all', 'any', 'both', 'each', 'few', 'more',\\\n",
        "            'most', 'other', 'some', 'such', 'only', 'own', 'same', 'so', 'than', 'too', 'very', \\\n",
        "            's', 't', 'can', 'will', 'just', 'don', \"don't\", 'should', \"should've\", 'now', 'd', 'll', 'm', 'o', 're', \\\n",
        "            've', 'y', 'ain', 'aren', \"aren't\", 'couldn', \"couldn't\", 'didn', \"didn't\", 'doesn', \"doesn't\", 'hadn',\\\n",
        "            \"hadn't\", 'hasn', \"hasn't\", 'haven', \"haven't\", 'isn', \"isn't\", 'ma', 'mightn', \"mightn't\", 'mustn',\\\n",
        "            \"mustn't\", 'needn', \"needn't\", 'shan', \"shan't\", 'shouldn', \"shouldn't\", 'wasn', \"wasn't\", 'weren', \"weren't\", \\\n",
        "            'won', \"won't\", 'wouldn', \"wouldn't\"])"
      ],
      "execution_count": 0,
      "outputs": []
    },
    {
      "metadata": {
        "id": "-4A3427Xyyvy",
        "colab_type": "code",
        "colab": {
          "base_uri": "https://localhost:8080/",
          "height": 34
        },
        "outputId": "f52e745e-67b6-4b99-c75c-61b8d7ec1bf2"
      },
      "cell_type": "code",
      "source": [
        "#tqdm\n",
        "#Instantly make your loops show a smart progress meter\n",
        "# just wrap any iterable with tqdm(iterable), and you’re done!\n",
        "from tqdm import tqdm\n",
        "preprocessed_reviews = []\n",
        "for i in tqdm(range(0,364171)):\n",
        "  sentence=\"\"\n",
        "  #print(final['Text'].values[i])\n",
        "  for word in final['Text'].values[i].split():\n",
        "    #print(word)\n",
        "    word =word.lower()\n",
        "    if word not in stopwords:\n",
        "      sentence+=\" \"+word\n",
        "  #print(sentence)\n",
        "  preprocessed_reviews.append(sentence.strip())"
      ],
      "execution_count": 24,
      "outputs": [
        {
          "output_type": "stream",
          "text": [
            "100%|██████████| 364171/364171 [00:15<00:00, 23440.20it/s]\n"
          ],
          "name": "stderr"
        }
      ]
    },
    {
      "metadata": {
        "id": "DuwySWKVy1m_",
        "colab_type": "code",
        "colab": {
          "base_uri": "https://localhost:8080/",
          "height": 54
        },
        "outputId": "b04b2377-4d03-4323-91ca-b0527ada9548"
      },
      "cell_type": "code",
      "source": [
        "preprocessed_reviews[364170]"
      ],
      "execution_count": 25,
      "outputs": [
        {
          "output_type": "execute_result",
          "data": {
            "text/plain": [
              "'purchased send son away college delivered right dorm room fast shipping loved much called thank sadly hardly ever calls anymore want kids call home good snack get midterms send'"
            ]
          },
          "metadata": {
            "tags": []
          },
          "execution_count": 25
        }
      ]
    },
    {
      "metadata": {
        "id": "zDgCgEZAy4Q2",
        "colab_type": "code",
        "colab": {
          "base_uri": "https://localhost:8080/",
          "height": 714
        },
        "outputId": "e352a305-c6ac-4d52-90da-587e7cc25833"
      },
      "cell_type": "code",
      "source": [
        "final['Cleaned_text']=preprocessed_reviews\n",
        "final.head()"
      ],
      "execution_count": 26,
      "outputs": [
        {
          "output_type": "execute_result",
          "data": {
            "text/html": [
              "<div>\n",
              "<style scoped>\n",
              "    .dataframe tbody tr th:only-of-type {\n",
              "        vertical-align: middle;\n",
              "    }\n",
              "\n",
              "    .dataframe tbody tr th {\n",
              "        vertical-align: top;\n",
              "    }\n",
              "\n",
              "    .dataframe thead th {\n",
              "        text-align: right;\n",
              "    }\n",
              "</style>\n",
              "<table border=\"1\" class=\"dataframe\">\n",
              "  <thead>\n",
              "    <tr style=\"text-align: right;\">\n",
              "      <th></th>\n",
              "      <th>Id</th>\n",
              "      <th>ProductId</th>\n",
              "      <th>UserId</th>\n",
              "      <th>ProfileName</th>\n",
              "      <th>HelpfulnessNumerator</th>\n",
              "      <th>HelpfulnessDenominator</th>\n",
              "      <th>Score</th>\n",
              "      <th>Time</th>\n",
              "      <th>Summary</th>\n",
              "      <th>Text</th>\n",
              "      <th>Cleaned_text</th>\n",
              "    </tr>\n",
              "  </thead>\n",
              "  <tbody>\n",
              "    <tr>\n",
              "      <th>138706</th>\n",
              "      <td>150524</td>\n",
              "      <td>0006641040</td>\n",
              "      <td>ACITT7DI6IDDL</td>\n",
              "      <td>shari zychinski</td>\n",
              "      <td>0</td>\n",
              "      <td>0</td>\n",
              "      <td>1</td>\n",
              "      <td>939340800</td>\n",
              "      <td>EVERY book is educational</td>\n",
              "      <td>this witty little book makes my son laugh at l...</td>\n",
              "      <td>witty little book makes son laugh loud. recite...</td>\n",
              "    </tr>\n",
              "    <tr>\n",
              "      <th>138688</th>\n",
              "      <td>150506</td>\n",
              "      <td>0006641040</td>\n",
              "      <td>A2IW4PEEKO2R0U</td>\n",
              "      <td>Tracy</td>\n",
              "      <td>1</td>\n",
              "      <td>1</td>\n",
              "      <td>1</td>\n",
              "      <td>1194739200</td>\n",
              "      <td>Love the book, miss the hard cover version</td>\n",
              "      <td>I grew up reading these Sendak books and watch...</td>\n",
              "      <td>grew reading sendak books watching really rosi...</td>\n",
              "    </tr>\n",
              "    <tr>\n",
              "      <th>138689</th>\n",
              "      <td>150507</td>\n",
              "      <td>0006641040</td>\n",
              "      <td>A1S4A3IQ2MU7V4</td>\n",
              "      <td>sally sue \"sally sue\"</td>\n",
              "      <td>1</td>\n",
              "      <td>1</td>\n",
              "      <td>1</td>\n",
              "      <td>1191456000</td>\n",
              "      <td>chicken soup with rice months</td>\n",
              "      <td>This is a fun way for children to learn their ...</td>\n",
              "      <td>fun way children learn months year learn poems...</td>\n",
              "    </tr>\n",
              "    <tr>\n",
              "      <th>138690</th>\n",
              "      <td>150508</td>\n",
              "      <td>0006641040</td>\n",
              "      <td>AZGXZ2UUK6X</td>\n",
              "      <td>Catherine Hallberg \"(Kate)\"</td>\n",
              "      <td>1</td>\n",
              "      <td>1</td>\n",
              "      <td>1</td>\n",
              "      <td>1076025600</td>\n",
              "      <td>a good swingy rhythm for reading aloud</td>\n",
              "      <td>This is a great little book to read aloud it h...</td>\n",
              "      <td>great little book read aloud nice rhythm well ...</td>\n",
              "    </tr>\n",
              "    <tr>\n",
              "      <th>138691</th>\n",
              "      <td>150509</td>\n",
              "      <td>0006641040</td>\n",
              "      <td>A3CMRKGE0P909G</td>\n",
              "      <td>Teresa</td>\n",
              "      <td>3</td>\n",
              "      <td>4</td>\n",
              "      <td>1</td>\n",
              "      <td>1018396800</td>\n",
              "      <td>A great way to learn the months</td>\n",
              "      <td>This is a book of poetry about the months of t...</td>\n",
              "      <td>book poetry months year goes month cute little...</td>\n",
              "    </tr>\n",
              "  </tbody>\n",
              "</table>\n",
              "</div>"
            ],
            "text/plain": [
              "            Id   ProductId          UserId                  ProfileName  \\\n",
              "138706  150524  0006641040   ACITT7DI6IDDL              shari zychinski   \n",
              "138688  150506  0006641040  A2IW4PEEKO2R0U                        Tracy   \n",
              "138689  150507  0006641040  A1S4A3IQ2MU7V4        sally sue \"sally sue\"   \n",
              "138690  150508  0006641040     AZGXZ2UUK6X  Catherine Hallberg \"(Kate)\"   \n",
              "138691  150509  0006641040  A3CMRKGE0P909G                       Teresa   \n",
              "\n",
              "        HelpfulnessNumerator  HelpfulnessDenominator  Score        Time  \\\n",
              "138706                     0                       0      1   939340800   \n",
              "138688                     1                       1      1  1194739200   \n",
              "138689                     1                       1      1  1191456000   \n",
              "138690                     1                       1      1  1076025600   \n",
              "138691                     3                       4      1  1018396800   \n",
              "\n",
              "                                           Summary  \\\n",
              "138706                   EVERY book is educational   \n",
              "138688  Love the book, miss the hard cover version   \n",
              "138689               chicken soup with rice months   \n",
              "138690      a good swingy rhythm for reading aloud   \n",
              "138691             A great way to learn the months   \n",
              "\n",
              "                                                     Text  \\\n",
              "138706  this witty little book makes my son laugh at l...   \n",
              "138688  I grew up reading these Sendak books and watch...   \n",
              "138689  This is a fun way for children to learn their ...   \n",
              "138690  This is a great little book to read aloud it h...   \n",
              "138691  This is a book of poetry about the months of t...   \n",
              "\n",
              "                                             Cleaned_text  \n",
              "138706  witty little book makes son laugh loud. recite...  \n",
              "138688  grew reading sendak books watching really rosi...  \n",
              "138689  fun way children learn months year learn poems...  \n",
              "138690  great little book read aloud nice rhythm well ...  \n",
              "138691  book poetry months year goes month cute little...  "
            ]
          },
          "metadata": {
            "tags": []
          },
          "execution_count": 26
        }
      ]
    },
    {
      "metadata": {
        "id": "SFwefAiu0vLL",
        "colab_type": "code",
        "colab": {}
      },
      "cell_type": "code",
      "source": [
        "#Randomly sample Data 60k points\n",
        "random_sample_data = final.sample(n=100000) "
      ],
      "execution_count": 0,
      "outputs": []
    },
    {
      "metadata": {
        "id": "BVU-vgPk0ylH",
        "colab_type": "code",
        "colab": {}
      },
      "cell_type": "code",
      "source": [
        "final_sorted_time=random_sample_data.sort_values('Time',ascending=True,axis=0)"
      ],
      "execution_count": 0,
      "outputs": []
    },
    {
      "metadata": {
        "id": "DrIk9ens03h6",
        "colab_type": "text"
      },
      "cell_type": "markdown",
      "source": [
        "**Time Dependence Data Splitting **"
      ]
    },
    {
      "metadata": {
        "id": "4Iysyplf02YD",
        "colab_type": "code",
        "colab": {}
      },
      "cell_type": "code",
      "source": [
        "y_Train=final_sorted_time['Score'][0:70000]\n",
        "y_train=final_sorted_time['Score'][0:49000]\n",
        "y_cv=final_sorted_time['Score'][49000:70000]\n",
        "y_test=final_sorted_time['Score'][70000:100000]"
      ],
      "execution_count": 0,
      "outputs": []
    },
    {
      "metadata": {
        "id": "Dc9EOK9U_gvR",
        "colab_type": "code",
        "colab": {
          "base_uri": "https://localhost:8080/",
          "height": 68
        },
        "outputId": "a4bf64cf-8dda-4474-f418-9665b3d604dc"
      },
      "cell_type": "code",
      "source": [
        "y_train.value_counts()"
      ],
      "execution_count": 30,
      "outputs": [
        {
          "output_type": "execute_result",
          "data": {
            "text/plain": [
              "1    42101\n",
              "0     6899\n",
              "Name: Score, dtype: int64"
            ]
          },
          "metadata": {
            "tags": []
          },
          "execution_count": 30
        }
      ]
    },
    {
      "metadata": {
        "id": "S6VfW-rs_l_7",
        "colab_type": "code",
        "colab": {
          "base_uri": "https://localhost:8080/",
          "height": 68
        },
        "outputId": "8f562b7a-b2b0-4068-faf6-5350e992b6d6"
      },
      "cell_type": "code",
      "source": [
        "y_Train.value_counts()"
      ],
      "execution_count": 31,
      "outputs": [
        {
          "output_type": "execute_result",
          "data": {
            "text/plain": [
              "1    59459\n",
              "0    10541\n",
              "Name: Score, dtype: int64"
            ]
          },
          "metadata": {
            "tags": []
          },
          "execution_count": 31
        }
      ]
    },
    {
      "metadata": {
        "id": "2HVUUqpN1Evc",
        "colab_type": "code",
        "colab": {}
      },
      "cell_type": "code",
      "source": [
        "Train_data=final_sorted_time['Cleaned_text'][0:70000]\n",
        "train_data=final_sorted_time['Cleaned_text'][0:49000]\n",
        "cv_data=final_sorted_time['Cleaned_text'][49000:70000]\n",
        "test_data=final_sorted_time['Cleaned_text'][70000:100000]"
      ],
      "execution_count": 0,
      "outputs": []
    },
    {
      "metadata": {
        "id": "TASQe3VL1N_Y",
        "colab_type": "text"
      },
      "cell_type": "markdown",
      "source": [
        "# **Bag Of Words**"
      ]
    },
    {
      "metadata": {
        "id": "rvj05jBS1Y2q",
        "colab_type": "code",
        "colab": {}
      },
      "cell_type": "code",
      "source": [
        "from sklearn.linear_model import LogisticRegression\n",
        "from sklearn.model_selection import GridSearchCV"
      ],
      "execution_count": 0,
      "outputs": []
    },
    {
      "metadata": {
        "id": "Sa6VNdKU2GCF",
        "colab_type": "code",
        "colab": {}
      },
      "cell_type": "code",
      "source": [
        "from sklearn.metrics import roc_curve, auc"
      ],
      "execution_count": 0,
      "outputs": []
    },
    {
      "metadata": {
        "id": "y4Ty2UKo16tU",
        "colab_type": "code",
        "colab": {}
      },
      "cell_type": "code",
      "source": [
        "count_vector=CountVectorizer()\n",
        "train_bows=count_vector.fit_transform(train_data)\n",
        "cv_bows=count_vector.transform(cv_data)"
      ],
      "execution_count": 0,
      "outputs": []
    },
    {
      "metadata": {
        "id": "BaJmC2rm9nEU",
        "colab_type": "text"
      },
      "cell_type": "markdown",
      "source": [
        "**Grid Search for optimal HyperParameter**"
      ]
    },
    {
      "metadata": {
        "id": "ZN8y-ysO2Fk3",
        "colab_type": "code",
        "colab": {}
      },
      "cell_type": "code",
      "source": [
        "#tuned_parameter=[{'C':[10**-4,10**-3,10**-2,10**-1,1,10**1,10**2,10**3,10**4]}]\n",
        "#model = GridSearchCV(LogisticRegression(), tuned_parameters, scoring = 'f1', cv=5)\n",
        "#model.fit(X_train, y_train)\n",
        "#model=GridSearchCV(LogisticRegression(),tuned_parameter,scoring='roc_auc',cv=5)\n",
        "#tqdm(model.fit(train_bows,y_train))"
      ],
      "execution_count": 0,
      "outputs": []
    },
    {
      "metadata": {
        "id": "foK4cDhrDf2L",
        "colab_type": "text"
      },
      "cell_type": "markdown",
      "source": [
        "Grid Search Cross Validation Taking too much time"
      ]
    },
    {
      "metadata": {
        "id": "Pf3pkCJ_Doza",
        "colab_type": "text"
      },
      "cell_type": "markdown",
      "source": [
        "**Simple Cross Validation**"
      ]
    },
    {
      "metadata": {
        "id": "g-39cGnDG1Xv",
        "colab_type": "code",
        "colab": {}
      },
      "cell_type": "code",
      "source": [
        "clf = LogisticRegression(C=0.01, penalty='l2',class_weight={0: 0.6,1:0.2}) "
      ],
      "execution_count": 0,
      "outputs": []
    },
    {
      "metadata": {
        "id": "d8kaB_CCHeOY",
        "colab_type": "code",
        "colab": {}
      },
      "cell_type": "code",
      "source": [
        "import math"
      ],
      "execution_count": 0,
      "outputs": []
    },
    {
      "metadata": {
        "id": "utc9-Lz8Dti-",
        "colab_type": "code",
        "colab": {}
      },
      "cell_type": "code",
      "source": [
        "AUC_training=[]\n",
        "AUC_cv=[]\n",
        "C=[]\n",
        "c=0.0001\n",
        "while(c<100000):\n",
        "  C.append(math.ceil(math.log(c,10)))\n",
        "  clf = LogisticRegression(C=c, penalty='l2',class_weight={0: 0.6,1:0.4}) #Default penalty=l2\n",
        "  clf.fit(train_bows, y_train)\n",
        "  \n",
        "   #Training Curve\n",
        "  y_predict_training=clf.predict(train_bows)\n",
        "  fpr, tpr, thresholds = roc_curve(y_predict_training, y_train)\n",
        "  AUC_training.append(metrics.auc(fpr, tpr))\n",
        "  \n",
        "  #CV Curve\n",
        "  y_predict_cv=clf.predict(cv_bows)\n",
        "  fpr, tpr, thresholds = roc_curve(y_predict_cv, y_cv)\n",
        "  AUC_cv.append(metrics.auc(fpr, tpr))\n",
        "  c*=10\n",
        "  "
      ],
      "execution_count": 0,
      "outputs": []
    },
    {
      "metadata": {
        "id": "IDtJRcozH7cT",
        "colab_type": "code",
        "colab": {
          "base_uri": "https://localhost:8080/",
          "height": 294
        },
        "outputId": "abaae812-27f2-4262-fa67-20a43b119778"
      },
      "cell_type": "code",
      "source": [
        "plt.plot(C,AUC_training,label='Training')\n",
        "plt.plot(C,AUC_cv,label=\"CV\")\n",
        "plt.ylabel('AUC')\n",
        "plt.xlabel('LOG C')\n",
        "plt.title('LOG C vs AUC ')\n",
        "plt.legend()\n",
        "plt.show()"
      ],
      "execution_count": 39,
      "outputs": [
        {
          "output_type": "display_data",
          "data": {
            "image/png": "[encoded data removed]",
            "text/plain": [
              "<matplotlib.figure.Figure at 0x7fa81aa5a550>"
            ]
          },
          "metadata": {
            "tags": []
          }
        }
      ]
    },
    {
      "metadata": {
        "id": "TjznurTdJHm2",
        "colab_type": "text"
      },
      "cell_type": "markdown",
      "source": [
        "**Observation:** C=1 is optimal hyperparmeter having AUC=0.87 with class_weight={0: 0.6,1:0.4}"
      ]
    },
    {
      "metadata": {
        "id": "opNJ7co5MvJA",
        "colab_type": "text"
      },
      "cell_type": "markdown",
      "source": [
        "**Simple Cross Validation with model without class weight**"
      ]
    },
    {
      "metadata": {
        "id": "4Ud9JkB_MqfF",
        "colab_type": "code",
        "colab": {}
      },
      "cell_type": "code",
      "source": [
        "AUC_training=[]\n",
        "AUC_cv=[]\n",
        "C=[]\n",
        "c=0.0001\n",
        "while(c<100000):\n",
        "  C.append(math.ceil(math.log(c,10)))\n",
        "  clf = LogisticRegression(C=c, penalty='l2') #Default penalty=l2\n",
        "  clf.fit(train_bows, y_train)\n",
        "  \n",
        "   #Training Curve\n",
        "  y_predict_training=clf.predict(train_bows)\n",
        "  fpr, tpr, thresholds = roc_curve(y_predict_training, y_train)\n",
        "  AUC_training.append(metrics.auc(fpr, tpr))\n",
        "  \n",
        "  #CV Curve\n",
        "  y_predict_cv=clf.predict(cv_bows)\n",
        "  fpr, tpr, thresholds = roc_curve(y_predict_cv, y_cv)\n",
        "  AUC_cv.append(metrics.auc(fpr, tpr))\n",
        "  c*=10\n",
        "  "
      ],
      "execution_count": 0,
      "outputs": []
    },
    {
      "metadata": {
        "id": "Z-6k2jQ2JZRv",
        "colab_type": "code",
        "colab": {
          "base_uri": "https://localhost:8080/",
          "height": 294
        },
        "outputId": "0382a51d-284b-41dd-b89f-696e2bd2ff5a"
      },
      "cell_type": "code",
      "source": [
        "plt.plot(C,AUC_training,label='Training')\n",
        "plt.plot(C,AUC_cv,label=\"CV\")\n",
        "plt.ylabel('AUC')\n",
        "plt.xlabel('Log c')\n",
        "plt.title('Log c vs AUC ')\n",
        "plt.legend()\n",
        "plt.show()"
      ],
      "execution_count": 41,
      "outputs": [
        {
          "output_type": "display_data",
          "data": {
            "image/png": "[encoded data removed]",
            "text/plain": [
              "<matplotlib.figure.Figure at 0x7fa820205a90>"
            ]
          },
          "metadata": {
            "tags": []
          }
        }
      ]
    },
    {
      "metadata": {
        "id": "urLaEVI9dNCK",
        "colab_type": "text"
      },
      "cell_type": "markdown",
      "source": [
        "**Observation**: C=1 is optimal hyperparmeter having AUC=0.88 without class_weight"
      ]
    },
    {
      "metadata": {
        "id": "_nQC1rTWTJjY",
        "colab_type": "code",
        "colab": {
          "base_uri": "https://localhost:8080/",
          "height": 255
        },
        "outputId": "22f02fcd-24bc-4ca2-e777-f0bdae5e8f69"
      },
      "cell_type": "code",
      "source": [
        "clf.get_params()"
      ],
      "execution_count": 42,
      "outputs": [
        {
          "output_type": "execute_result",
          "data": {
            "text/plain": [
              "{'C': 10000.0,\n",
              " 'class_weight': None,\n",
              " 'dual': False,\n",
              " 'fit_intercept': True,\n",
              " 'intercept_scaling': 1,\n",
              " 'max_iter': 100,\n",
              " 'multi_class': 'warn',\n",
              " 'n_jobs': None,\n",
              " 'penalty': 'l2',\n",
              " 'random_state': None,\n",
              " 'solver': 'warn',\n",
              " 'tol': 0.0001,\n",
              " 'verbose': 0,\n",
              " 'warm_start': False}"
            ]
          },
          "metadata": {
            "tags": []
          },
          "execution_count": 42
        }
      ]
    },
    {
      "metadata": {
        "id": "bOy3fKljgi7b",
        "colab_type": "code",
        "colab": {}
      },
      "cell_type": "code",
      "source": [
        "#For Optimal on test data\n",
        "count_vectorizer=CountVectorizer()\n",
        "Train_bows=count_vectorizer.fit_transform(Train_data)\n",
        "test_bows=count_vectorizer.transform(test_data)\n"
      ],
      "execution_count": 0,
      "outputs": []
    },
    {
      "metadata": {
        "id": "46fURSDEfZy6",
        "colab_type": "code",
        "colab": {
          "base_uri": "https://localhost:8080/",
          "height": 515
        },
        "outputId": "198f3102-ab82-4b48-c5e6-6734b250c574"
      },
      "cell_type": "code",
      "source": [
        "clf = LogisticRegression(C=1, penalty='l2') \n",
        "clf.fit(Train_bows,y_Train)\n",
        "y_pred=clf.predict(test_bows)\n",
        " #Drawing ROC curve\n",
        "fpr, tpr, thresholds = roc_curve(y_pred, y_test)\n",
        "roc_auc = auc(fpr, tpr)\n",
        "print(' AUC = ',metrics.auc(fpr, tpr))\n",
        "plt.figure()\n",
        "plt.plot(fpr, tpr, color='darkorange', lw=1, label='ROC curve (area = %0.2f)' % roc_auc)\n",
        "plt.plot([0, 1], [0, 1], color='navy', lw=1, linestyle='--')\n",
        "plt.xlim([0.0, 1.0])\n",
        "plt.ylim([0.0, 1.05])\n",
        "plt.xlabel('False Positive Rate')\n",
        "plt.ylabel('True Positive Rate')\n",
        "plt.title('Receiver operating characteristic')\n",
        "plt.legend(loc=\"lower right\")\n",
        "plt.show()\n",
        "print(\"\\n\\n\")\n",
        "print(metrics.classification_report(y_test,y_pred))"
      ],
      "execution_count": 44,
      "outputs": [
        {
          "output_type": "stream",
          "text": [
            " AUC =  0.8654517410143953\n"
          ],
          "name": "stdout"
        },
        {
          "output_type": "display_data",
          "data": {
            "image/png": "[encoded data removed]",
            "text/plain": [
              "<matplotlib.figure.Figure at 0x7fa81a9ee470>"
            ]
          },
          "metadata": {
            "tags": []
          }
        },
        {
          "output_type": "stream",
          "text": [
            "\n",
            "\n",
            "\n",
            "              precision    recall  f1-score   support\n",
            "\n",
            "           0       0.80      0.68      0.73      5292\n",
            "           1       0.93      0.96      0.95     24708\n",
            "\n",
            "   micro avg       0.91      0.91      0.91     30000\n",
            "   macro avg       0.87      0.82      0.84     30000\n",
            "weighted avg       0.91      0.91      0.91     30000\n",
            "\n"
          ],
          "name": "stdout"
        }
      ]
    },
    {
      "metadata": {
        "id": "P1rg237LjF8l",
        "colab_type": "code",
        "colab": {
          "base_uri": "https://localhost:8080/",
          "height": 51
        },
        "outputId": "75ae49dc-e6cc-4f80-8067-d4dec191ede6"
      },
      "cell_type": "code",
      "source": [
        "#Checking Sparsity\n",
        "w=clf.coef_\n",
        "print(np.count_nonzero(w))\n",
        "w.shape"
      ],
      "execution_count": 45,
      "outputs": [
        {
          "output_type": "stream",
          "text": [
            "50721\n"
          ],
          "name": "stdout"
        },
        {
          "output_type": "execute_result",
          "data": {
            "text/plain": [
              "(1, 50721)"
            ]
          },
          "metadata": {
            "tags": []
          },
          "execution_count": 45
        }
      ]
    },
    {
      "metadata": {
        "id": "nTRpIZUe8Yuj",
        "colab_type": "text"
      },
      "cell_type": "markdown",
      "source": [
        "## Pertubation"
      ]
    },
    {
      "metadata": {
        "id": "u-mGaqzLD9Kl",
        "colab_type": "code",
        "colab": {
          "base_uri": "https://localhost:8080/",
          "height": 34
        },
        "outputId": "9ceae120-1765-4670-8592-66a5c2c46f39"
      },
      "cell_type": "code",
      "source": [
        "count_vectorizer_dash=CountVectorizer()\n",
        "Train_bows_dash=count_vectorizer_dash.fit_transform(Train_data)\n",
        "Train_bows_dash.shape"
      ],
      "execution_count": 50,
      "outputs": [
        {
          "output_type": "execute_result",
          "data": {
            "text/plain": [
              "(70000, 50721)"
            ]
          },
          "metadata": {
            "tags": []
          },
          "execution_count": 50
        }
      ]
    },
    {
      "metadata": {
        "id": "3FIg6D_T9M7E",
        "colab_type": "code",
        "colab": {}
      },
      "cell_type": "code",
      "source": [
        "mu=0.1\n",
        "sigma=0\n",
        "size=50721\n",
        "s = np.random.normal(mu, sigma,size)\n",
        "\n"
      ],
      "execution_count": 0,
      "outputs": []
    },
    {
      "metadata": {
        "id": "dxS9M-34-9xN",
        "colab_type": "code",
        "colab": {}
      },
      "cell_type": "code",
      "source": [
        "for x in Train_bows_dash:\n",
        "  x=x+s"
      ],
      "execution_count": 0,
      "outputs": []
    },
    {
      "metadata": {
        "id": "qn-bdKtA_PKX",
        "colab_type": "code",
        "colab": {
          "base_uri": "https://localhost:8080/",
          "height": 85
        },
        "outputId": "dc5c614e-ee8c-435f-f383-013782e9c987"
      },
      "cell_type": "code",
      "source": [
        "clf_dash = LogisticRegression(C=1, penalty='l2') \n",
        "clf_dash.fit(Train_bows_dash,y_Train)"
      ],
      "execution_count": 53,
      "outputs": [
        {
          "output_type": "execute_result",
          "data": {
            "text/plain": [
              "LogisticRegression(C=1, class_weight=None, dual=False, fit_intercept=True,\n",
              "          intercept_scaling=1, max_iter=100, multi_class='warn',\n",
              "          n_jobs=None, penalty='l2', random_state=None, solver='warn',\n",
              "          tol=0.0001, verbose=0, warm_start=False)"
            ]
          },
          "metadata": {
            "tags": []
          },
          "execution_count": 53
        }
      ]
    },
    {
      "metadata": {
        "id": "_Vmk5ErjHMVI",
        "colab_type": "code",
        "colab": {}
      },
      "cell_type": "code",
      "source": [
        "w_dash=clf.coef_"
      ],
      "execution_count": 0,
      "outputs": []
    },
    {
      "metadata": {
        "id": "OQaMvYeoHVqT",
        "colab_type": "code",
        "colab": {}
      },
      "cell_type": "code",
      "source": [
        "w_dash = w_dash+10**-6"
      ],
      "execution_count": 0,
      "outputs": []
    },
    {
      "metadata": {
        "id": "_RX_tpYmHqYz",
        "colab_type": "code",
        "colab": {}
      },
      "cell_type": "code",
      "source": [
        "percentage_change_vector = ((w-w_dash)/w )*100"
      ],
      "execution_count": 0,
      "outputs": []
    },
    {
      "metadata": {
        "id": "BL6akHY6JpmV",
        "colab_type": "code",
        "colab": {}
      },
      "cell_type": "code",
      "source": [
        "percentage_change_vector[0].shape\n",
        "#print(percentage_change_vector.max)\n",
        "l=50720"
      ],
      "execution_count": 0,
      "outputs": []
    },
    {
      "metadata": {
        "id": "cYli30pZH_Ib",
        "colab_type": "code",
        "colab": {
          "base_uri": "https://localhost:8080/",
          "height": 51
        },
        "outputId": "d6263029-b600-4bdf-a451-6732d5a2f386"
      },
      "cell_type": "code",
      "source": [
        "print (np.percentile(percentage_change_vector,0))\n",
        "print (np.percentile(percentage_change_vector,10))"
      ],
      "execution_count": 99,
      "outputs": [
        {
          "output_type": "stream",
          "text": [
            "-529187.0987371551\n",
            "-1.0694211646983915\n"
          ],
          "name": "stdout"
        }
      ]
    },
    {
      "metadata": {
        "id": "kuKvGSRYQpzR",
        "colab_type": "code",
        "colab": {
          "base_uri": "https://localhost:8080/",
          "height": 51
        },
        "outputId": "aae8db45-fb2b-427b-e143-f803198113b8"
      },
      "cell_type": "code",
      "source": [
        "percentage_change_vector[0][25000]\n",
        "print(percentage_change_vector[0][0])\n",
        "percentage_change_vector[0][50720]"
      ],
      "execution_count": 100,
      "outputs": [
        {
          "output_type": "stream",
          "text": [
            "-0.0001991068279870264\n"
          ],
          "name": "stdout"
        },
        {
          "output_type": "execute_result",
          "data": {
            "text/plain": [
              "-659.5896805001869"
            ]
          },
          "metadata": {
            "tags": []
          },
          "execution_count": 100
        }
      ]
    },
    {
      "metadata": {
        "id": "HxRWXe_dKPEr",
        "colab_type": "code",
        "colab": {}
      },
      "cell_type": "code",
      "source": [
        "change=[]\n",
        "percentile=[]\n",
        "per=0\n",
        "while(per<=100):\n",
        "  percentile.append(per)\n",
        "  change.append(np.percentile(percentage_change_vector,per))\n",
        "  per+=10"
      ],
      "execution_count": 0,
      "outputs": []
    },
    {
      "metadata": {
        "id": "pwW0bYeDK4i2",
        "colab_type": "code",
        "colab": {
          "base_uri": "https://localhost:8080/",
          "height": 294
        },
        "outputId": "6d45a7ae-febc-4bb4-bce8-ada0c21957f0"
      },
      "cell_type": "code",
      "source": [
        "plt.plot(percentile,change)\n",
        "plt.xlabel('Percentile')\n",
        "plt.ylabel('%Change')\n",
        "plt.title('Percentile Vs %Change ')\n",
        "plt.show()"
      ],
      "execution_count": 104,
      "outputs": [
        {
          "output_type": "display_data",
          "data": {
            "image/png": "[encoded data removed]",
            "text/plain": [
              "<matplotlib.figure.Figure at 0x7fa818309710>"
            ]
          },
          "metadata": {
            "tags": []
          }
        }
      ]
    },
    {
      "metadata": {
        "id": "TXl4BkvfLa_z",
        "colab_type": "code",
        "colab": {}
      },
      "cell_type": "code",
      "source": [
        "change=[]\n",
        "percentile=[]\n",
        "per=90\n",
        "while(per<=100):\n",
        "  percentile.append(per)\n",
        "  change.append(np.percentile(percentage_change_vector,per))\n",
        "  per+=1"
      ],
      "execution_count": 0,
      "outputs": []
    },
    {
      "metadata": {
        "id": "4JRRT6tFLhzk",
        "colab_type": "code",
        "colab": {
          "base_uri": "https://localhost:8080/",
          "height": 294
        },
        "outputId": "73b73f3c-3735-4336-fef2-bd6364ffc731"
      },
      "cell_type": "code",
      "source": [
        "plt.plot(percentile,change)\n",
        "plt.xlabel('Percentile')\n",
        "plt.ylabel('%Change')\n",
        "plt.title('Percentile Vs %Change ')\n",
        "plt.show()"
      ],
      "execution_count": 106,
      "outputs": [
        {
          "output_type": "display_data",
          "data": {
            "image/png": "[encoded data removed]",
            "text/plain": [
              "<matplotlib.figure.Figure at 0x7fa818287710>"
            ]
          },
          "metadata": {
            "tags": []
          }
        }
      ]
    },
    {
      "metadata": {
        "id": "SpMtom1pLzfR",
        "colab_type": "code",
        "colab": {}
      },
      "cell_type": "code",
      "source": [
        "change=[]\n",
        "percentile=[]\n",
        "per=99\n",
        "while(per<=100):\n",
        "  percentile.append(per)\n",
        "  change.append(np.percentile(percentage_change_vector,per))\n",
        "  per+=0.1"
      ],
      "execution_count": 0,
      "outputs": []
    },
    {
      "metadata": {
        "id": "uCjzOxfQL5PO",
        "colab_type": "code",
        "colab": {
          "base_uri": "https://localhost:8080/",
          "height": 294
        },
        "outputId": "6f452e57-dda6-4c56-98e2-0882040a2e4b"
      },
      "cell_type": "code",
      "source": [
        "plt.plot(percentile,change)\n",
        "plt.xlabel('Percentile')\n",
        "plt.ylabel('%Change')\n",
        "plt.title('Percentile Vs %Change ')\n",
        "plt.show()"
      ],
      "execution_count": 108,
      "outputs": [
        {
          "output_type": "display_data",
          "data": {
            "image/png": "[encoded data removed]",
            "text/plain": [
              "<matplotlib.figure.Figure at 0x7fa818343240>"
            ]
          },
          "metadata": {
            "tags": []
          }
        }
      ]
    },
    {
      "metadata": {
        "id": "iye9lgASOD2e",
        "colab_type": "code",
        "colab": {}
      },
      "cell_type": "code",
      "source": [
        "change=[]\n",
        "percentile=[]\n",
        "per=99.8\n",
        "while(per<=100):\n",
        "  percentile.append(per)\n",
        "  change.append(np.percentile(percentage_change_vector,per))\n",
        "  per+=0.01"
      ],
      "execution_count": 0,
      "outputs": []
    },
    {
      "metadata": {
        "id": "TJaZvfOpOKuf",
        "colab_type": "code",
        "colab": {
          "base_uri": "https://localhost:8080/",
          "height": 294
        },
        "outputId": "cae68bde-4c0a-4134-8f23-3cd469e5dc63"
      },
      "cell_type": "code",
      "source": [
        "plt.plot(percentile,change)\n",
        "plt.xlabel('Percentile')\n",
        "plt.ylabel('%Change')\n",
        "plt.title('Percentile Vs %Change ')\n",
        "plt.show()"
      ],
      "execution_count": 110,
      "outputs": [
        {
          "output_type": "display_data",
          "data": {
            "image/png": "[encoded data removed]",
            "text/plain": [
              "<matplotlib.figure.Figure at 0x7fa8183e0f28>"
            ]
          },
          "metadata": {
            "tags": []
          }
        }
      ]
    },
    {
      "metadata": {
        "id": "_1x9QOKXNX53",
        "colab_type": "text"
      },
      "cell_type": "markdown",
      "source": [
        "**Observation:** 99.8 th percentile has sudden increase in %change in their weight.Hence threshold value is 2000"
      ]
    },
    {
      "metadata": {
        "id": "FoU27xxNNqMH",
        "colab_type": "code",
        "colab": {
          "base_uri": "https://localhost:8080/",
          "height": 1445
        },
        "outputId": "19dfea2b-e9cf-40d1-bf4b-608c592a702f"
      },
      "cell_type": "code",
      "source": [
        "feature_names=count_vector.get_feature_names()\n",
        "w=clf.coef_\n",
        "collinear=zip(percentage_change_vector[0],feature_names)\n",
        "collinear=list(collinear)\n",
        "collinear.sort(reverse=True,key=lambda x:x[0])\n",
        "i=0\n",
        "change=collinear[i][0]\n",
        "print('%Change\\tFeature Name')\n",
        "while(change>2000):\n",
        "  print('%.2f\\t'%collinear[i][0],collinear[i][1])\n",
        "  i+=1\n",
        "  change=collinear[i][0]\n"
      ],
      "execution_count": 114,
      "outputs": [
        {
          "output_type": "stream",
          "text": [
            "%Change\tFeature Name\n",
            "60224.49\t diaphragm\n",
            "19650.57\t neighbourhood\n",
            "18041.97\t bethiner\n",
            "18041.97\t unsuspecting\n",
            "16139.58\t bifidobacgterium\n",
            "13854.21\t outgrow\n",
            "13738.79\t additonal\n",
            "13738.79\t spokes\n",
            "12922.84\t beautician\n",
            "11175.52\t expecially\n",
            "8791.48\t felafels\n",
            "8781.06\t areal\n",
            "8781.06\t eucharist\n",
            "8781.06\t forexotic\n",
            "8781.06\t viral\n",
            "8608.73\t vian\n",
            "8211.88\t jonesing\n",
            "8211.88\t mucked\n",
            "8211.88\t naomi\n",
            "8211.88\t penutbutter\n",
            "7879.81\t refreshment\n",
            "5450.41\t peet\n",
            "5157.64\t workhorse\n",
            "5012.39\t delish\n",
            "5012.39\t paul\n",
            "4859.66\t conesville\n",
            "4806.42\t marjoram\n",
            "4806.42\t redesigned\n",
            "4475.60\t glossier\n",
            "4475.60\t grownup\n",
            "4411.37\t benji\n",
            "4411.37\t exhausting\n",
            "4411.37\t grandcat\n",
            "4411.37\t grandchild\n",
            "4411.37\t handeling\n",
            "4411.37\t horseradishdark\n",
            "4411.37\t iew\n",
            "4411.37\t importance\n",
            "4411.37\t importers\n",
            "4411.37\t mannheim\n",
            "4411.37\t switched\n",
            "4411.37\t unfettered\n",
            "4193.66\t sew\n",
            "4034.89\t salami\n",
            "3939.51\t screeching\n",
            "3858.68\t deb\n",
            "3744.21\t subjecting\n",
            "3678.09\t confetti\n",
            "3663.63\t ane\n",
            "3663.63\t astonished\n",
            "3663.63\t gem\n",
            "3663.63\t indifference\n",
            "3663.63\t indigenous\n",
            "3663.63\t oblivious\n",
            "3663.63\t outfit\n",
            "3663.63\t tropical\n",
            "3663.63\t unpset\n",
            "3132.77\t stockpile\n",
            "3126.25\t farls\n",
            "3126.25\t kats\n",
            "2890.69\t juvenile\n",
            "2859.74\t futile\n",
            "2766.72\t shrinkage\n",
            "2733.25\t renders\n",
            "2685.89\t distinctions\n",
            "2685.89\t kikland\n",
            "2675.92\t hardest\n",
            "2675.92\t kittynip\n",
            "2675.92\t manhattanites\n",
            "2664.83\t dam\n",
            "2664.83\t habbit\n",
            "2663.15\t motner\n",
            "2514.10\t cusinart\n",
            "2443.55\t wymans\n",
            "2340.32\t ade\n",
            "2340.32\t hood\n",
            "2205.69\t coccoa\n",
            "2117.96\t drake\n",
            "2117.96\t maz\n",
            "2117.96\t touches\n",
            "2099.73\t varietiesmultigrain\n",
            "2051.74\t norman\n",
            "2051.74\t picks\n"
          ],
          "name": "stdout"
        }
      ]
    },
    {
      "metadata": {
        "id": "sZ0Ky9qTS6bD",
        "colab_type": "text"
      },
      "cell_type": "markdown",
      "source": [
        "**Top Important Positive Feature**"
      ]
    },
    {
      "metadata": {
        "id": "F5E_gU9XWPYL",
        "colab_type": "code",
        "colab": {
          "base_uri": "https://localhost:8080/",
          "height": 357
        },
        "outputId": "238d880e-b987-444d-ee5a-cedae6909a87"
      },
      "cell_type": "code",
      "source": [
        "feature_names=count_vector.get_feature_names()\n",
        "w=clf.coef_\n",
        "top=zip(w[0],feature_names)\n",
        "top=list(top)\n",
        "top.sort(reverse=True,key=lambda x:x[0])\n",
        "l=len(top[0])\n",
        "print('Weight\\t\\tTop Positive Feature')\n",
        "for i in range (1,20):\n",
        "  print(\"%.2f\\t\\t\"%top[i][0],top[i][1])"
      ],
      "execution_count": 115,
      "outputs": [
        {
          "output_type": "stream",
          "text": [
            "Weight\t\tTop Positive Feature\n",
            "2.58\t\t lechithin\n",
            "2.33\t\t verities\n",
            "1.96\t\t supposed\n",
            "1.94\t\t gastric\n",
            "1.93\t\t biting\n",
            "1.89\t\t shicken\n",
            "1.82\t\t earliest\n",
            "1.79\t\t fanfreakintastic\n",
            "1.76\t\t schar\n",
            "1.74\t\t earthy\n",
            "1.72\t\t lackof\n",
            "1.69\t\t orbit\n",
            "1.64\t\t transit\n",
            "1.58\t\t andevery\n",
            "1.58\t\t jamican\n",
            "1.57\t\t jo\n",
            "1.55\t\t justifiably\n",
            "1.55\t\t adjusted\n",
            "1.50\t\t excess\n"
          ],
          "name": "stdout"
        }
      ]
    },
    {
      "metadata": {
        "id": "Jkv50vGPTD3G",
        "colab_type": "text"
      },
      "cell_type": "markdown",
      "source": [
        "**Top Important Negative Feature**"
      ]
    },
    {
      "metadata": {
        "id": "1DUsOWS_cs-J",
        "colab_type": "code",
        "colab": {
          "base_uri": "https://localhost:8080/",
          "height": 357
        },
        "outputId": "710f0fc4-b9ca-4801-d8b5-3f972f94a643"
      },
      "cell_type": "code",
      "source": [
        "feature_names=count_vector.get_feature_names()\n",
        "w=clf.coef_\n",
        "top=zip(w[0],feature_names)\n",
        "top=list(top)\n",
        "top.sort(key=lambda x:x[0])\n",
        "l=len(top[0])\n",
        "print('Weight\\t\\tTop Positive Feature')\n",
        "for i in range (1,20):\n",
        "  print(\"%.2f\\t\\t\"%top[i][0],top[i][1])"
      ],
      "execution_count": 116,
      "outputs": [
        {
          "output_type": "stream",
          "text": [
            "Weight\t\tTop Positive Feature\n",
            "-2.43\t\t escondido\n",
            "-2.35\t\t eschew\n",
            "-2.32\t\t battled\n",
            "-2.24\t\t lemonaid\n",
            "-2.22\t\t leeson\n",
            "-2.05\t\t euthanized\n",
            "-2.00\t\t englanders\n",
            "-2.00\t\t teawas\n",
            "-1.94\t\t brevity\n",
            "-1.92\t\t cyanogenic\n",
            "-1.92\t\t nelly\n",
            "-1.92\t\t pomrerain\n",
            "-1.86\t\t hall\n",
            "-1.84\t\t pthey\n",
            "-1.82\t\t eightish\n",
            "-1.80\t\t pemproke\n",
            "-1.76\t\t teazonline\n",
            "-1.74\t\t chemo\n",
            "-1.74\t\t teavana\n"
          ],
          "name": "stdout"
        }
      ]
    },
    {
      "metadata": {
        "id": "jBnKCUkfhU60",
        "colab_type": "text"
      },
      "cell_type": "markdown",
      "source": [
        "**Linear Regression Model with L1 Regularization**"
      ]
    },
    {
      "metadata": {
        "id": "MxhJPJUTdsQP",
        "colab_type": "code",
        "colab": {
          "base_uri": "https://localhost:8080/",
          "height": 515
        },
        "outputId": "baea18a6-12f0-4399-8908-9bd6b9d31065"
      },
      "cell_type": "code",
      "source": [
        "clf=LogisticRegression(C=1,penalty='l1')\n",
        "clf.fit(Train_bows,y_Train)\n",
        "y_pred=clf.predict(test_bows)\n",
        " #Drawing ROC curve\n",
        "fpr, tpr, thresholds = roc_curve(y_pred, y_test)\n",
        "roc_auc = auc(fpr, tpr)\n",
        "print(' AUC = ',metrics.auc(fpr, tpr))\n",
        "plt.figure()\n",
        "plt.plot(fpr, tpr, color='darkorange', lw=1, label='ROC curve (area = %0.2f)' % roc_auc)\n",
        "plt.plot([0, 1], [0, 1], color='navy', lw=1, linestyle='--')\n",
        "plt.xlim([0.0, 1.0])\n",
        "plt.ylim([0.0, 1.05])\n",
        "plt.xlabel('False Positive Rate')\n",
        "plt.ylabel('True Positive Rate')\n",
        "plt.title('Receiver operating characteristic')\n",
        "plt.legend(loc=\"lower right\")\n",
        "plt.show()\n",
        "print(\"\\n\\n\")\n",
        "print(metrics.classification_report(y_test,y_pred))"
      ],
      "execution_count": 117,
      "outputs": [
        {
          "output_type": "stream",
          "text": [
            " AUC =  0.8654670489483345\n"
          ],
          "name": "stdout"
        },
        {
          "output_type": "display_data",
          "data": {
            "image/png": "[encoded data removed]",
            "text/plain": [
              "<matplotlib.figure.Figure at 0x7fa81843ba20>"
            ]
          },
          "metadata": {
            "tags": []
          }
        },
        {
          "output_type": "stream",
          "text": [
            "\n",
            "\n",
            "\n",
            "              precision    recall  f1-score   support\n",
            "\n",
            "           0       0.80      0.68      0.73      5292\n",
            "           1       0.93      0.96      0.95     24708\n",
            "\n",
            "   micro avg       0.91      0.91      0.91     30000\n",
            "   macro avg       0.87      0.82      0.84     30000\n",
            "weighted avg       0.91      0.91      0.91     30000\n",
            "\n"
          ],
          "name": "stdout"
        }
      ]
    },
    {
      "metadata": {
        "id": "h2cdVy7_jsxC",
        "colab_type": "text"
      },
      "cell_type": "markdown",
      "source": [
        "**Checking Sparsity with L1 Regularization**"
      ]
    },
    {
      "metadata": {
        "id": "m-5cw3N_ipNt",
        "colab_type": "code",
        "colab": {
          "base_uri": "https://localhost:8080/",
          "height": 34
        },
        "outputId": "f27b8bcf-1725-43a1-a06e-8b30c8c42ac9"
      },
      "cell_type": "code",
      "source": [
        "w=clf.coef_\n",
        "print(np.count_nonzero(w))\n",
        "\n"
      ],
      "execution_count": 118,
      "outputs": [
        {
          "output_type": "stream",
          "text": [
            "4948\n"
          ],
          "name": "stdout"
        }
      ]
    },
    {
      "metadata": {
        "id": "iRkMmYPHj1_Q",
        "colab_type": "text"
      },
      "cell_type": "markdown",
      "source": [
        "**Observation:**\n",
        "\n",
        "1.No of Nonzero weights in L2 Regularization is 50527\n",
        "\n",
        "2.No of Nonzero weights in L1 Regularization is 4936\n",
        "\n",
        "Huge increase in sparsity"
      ]
    },
    {
      "metadata": {
        "id": "aHPznoDqkp5u",
        "colab_type": "code",
        "colab": {
          "base_uri": "https://localhost:8080/",
          "height": 136
        },
        "outputId": "71ff3d24-0056-4e54-aab7-6c8b8ac7a572"
      },
      "cell_type": "code",
      "source": [
        "# More Sparsity (Fewer elements of W* being non-zero) by increasing Lambda (decreasing C) \n",
        "Nonzero=[]\n",
        "C=[]\n",
        "c=0.001\n",
        "print('C\\t\\tNumber of Nonzero Weights')\n",
        "while(c<1000):\n",
        "  C.append(math.ceil(math.log(c,10)))\n",
        "  clf=LogisticRegression(C=c,penalty='l1')\n",
        "  clf.fit(Train_bows,y_Train)\n",
        "  w=clf.coef_\n",
        "  Nonzero.append(np.count_nonzero(w))\n",
        "  print(c,'\\t\\t',np.count_nonzero(w))\n",
        "  c*=10"
      ],
      "execution_count": 119,
      "outputs": [
        {
          "output_type": "stream",
          "text": [
            "C\t\tNumber of Nonzero Weights\n",
            "0.001 \t\t 6\n",
            "0.01 \t\t 129\n",
            "0.1 \t\t 938\n",
            "1.0 \t\t 4945\n",
            "10.0 \t\t 10583\n",
            "100.0 \t\t 12715\n"
          ],
          "name": "stdout"
        }
      ]
    },
    {
      "metadata": {
        "id": "lsg-hj4dm3zj",
        "colab_type": "code",
        "colab": {
          "base_uri": "https://localhost:8080/",
          "height": 311
        },
        "outputId": "d526fd60-26f1-433a-a722-69ecac69ee8c"
      },
      "cell_type": "code",
      "source": [
        "plt.plot(C,Nonzero)\n",
        "plt.ylabel('No of Nonzero Weight')\n",
        "plt.xlabel('Log C')\n",
        "plt.title('Log C vs No of Nonzero Weight ')\n",
        "plt.legend()\n",
        "plt.show()"
      ],
      "execution_count": 120,
      "outputs": [
        {
          "output_type": "stream",
          "text": [
            "No handles with labels found to put in legend.\n"
          ],
          "name": "stderr"
        },
        {
          "output_type": "display_data",
          "data": {
            "image/png": "[encoded data removed]",
            "text/plain": [
              "<matplotlib.figure.Figure at 0x7fa81789b5f8>"
            ]
          },
          "metadata": {
            "tags": []
          }
        }
      ]
    },
    {
      "metadata": {
        "id": "oEHuiYt0Xopm",
        "colab_type": "text"
      },
      "cell_type": "markdown",
      "source": [
        "# TFIDF"
      ]
    },
    {
      "metadata": {
        "id": "CJc3aPkhyi-X",
        "colab_type": "code",
        "colab": {}
      },
      "cell_type": "code",
      "source": [
        "tfidf_vector=TfidfVectorizer()\n",
        "train_tfidf=tfidf_vector.fit_transform(train_data)\n",
        "cv_tfidf=tfidf_vector.transform(cv_data)"
      ],
      "execution_count": 0,
      "outputs": []
    },
    {
      "metadata": {
        "id": "wpyURVQBYsMi",
        "colab_type": "text"
      },
      "cell_type": "markdown",
      "source": [
        "**Simple Cross Validation**"
      ]
    },
    {
      "metadata": {
        "id": "8sHvGRWRYOEC",
        "colab_type": "code",
        "colab": {}
      },
      "cell_type": "code",
      "source": [
        "AUC_training=[]\n",
        "AUC_cv=[]\n",
        "C=[]\n",
        "c=-3\n",
        "while(c<4):\n",
        "  C.append(c)\n",
        "  clf = LogisticRegression(C=10**c, penalty='l2') #Default penalty=l2\n",
        "  clf.fit(train_tfidf, y_train)\n",
        "  \n",
        "   #Training Curve\n",
        "  y_predict_training=clf.predict(train_tfidf)\n",
        "  fpr, tpr, thresholds = roc_curve(y_predict_training, y_train)\n",
        "  AUC_training.append(metrics.auc(fpr, tpr))\n",
        "  \n",
        "  #CV Curve\n",
        "  y_predict_cv=clf.predict(cv_tfidf)\n",
        "  fpr, tpr, thresholds = roc_curve(y_predict_cv, y_cv)\n",
        "  AUC_cv.append(metrics.auc(fpr, tpr))\n",
        "  c+=1\n",
        "  "
      ],
      "execution_count": 0,
      "outputs": []
    },
    {
      "metadata": {
        "id": "BVW-8teKYohx",
        "colab_type": "code",
        "colab": {
          "base_uri": "https://localhost:8080/",
          "height": 294
        },
        "outputId": "9490babf-ec27-44a7-b9cd-59743c9ed380"
      },
      "cell_type": "code",
      "source": [
        "plt.plot(C,AUC_training,label='Training')\n",
        "plt.plot(C,AUC_cv,label=\"CV\")\n",
        "plt.ylabel('AUC')\n",
        "plt.xlabel('Log c')\n",
        "plt.title('Log c vs AUC ')\n",
        "plt.legend()\n",
        "plt.show()"
      ],
      "execution_count": 126,
      "outputs": [
        {
          "output_type": "display_data",
          "data": {
            "image/png": "[encoded data removed]",
            "text/plain": [
              "<matplotlib.figure.Figure at 0x7fa817ef2e80>"
            ]
          },
          "metadata": {
            "tags": []
          }
        }
      ]
    },
    {
      "metadata": {
        "id": "6JkKH8vmaSVw",
        "colab_type": "text"
      },
      "cell_type": "markdown",
      "source": [
        "**Observation:** C=1 is optimal hyperparmeter having AUC=0.90 without class_weight"
      ]
    },
    {
      "metadata": {
        "id": "JBRhZZ5YZHnm",
        "colab_type": "code",
        "colab": {}
      },
      "cell_type": "code",
      "source": [
        "#For Optimal on test data\n",
        "tfidf_vector=TfidfVectorizer()\n",
        "Train_tfidf=tfidf_vector.fit_transform(Train_data)\n",
        "test_tfidf=tfidf_vector.transform(test_data)"
      ],
      "execution_count": 0,
      "outputs": []
    },
    {
      "metadata": {
        "id": "jlkiEqXwa6x7",
        "colab_type": "code",
        "colab": {
          "base_uri": "https://localhost:8080/",
          "height": 520
        },
        "outputId": "ae7c445c-82d5-4cc2-8a04-9e18ea851f42"
      },
      "cell_type": "code",
      "source": [
        "clf = LogisticRegression(C=1, penalty='l2') \n",
        "clf.fit(Train_tfidf,y_Train)\n",
        "y_pred=clf.predict(test_tfidf)\n",
        " #Drawing ROC curve\n",
        "fpr, tpr, thresholds = roc_curve(y_pred, y_test)\n",
        "roc_auc = auc(fpr, tpr)\n",
        "print(' AUC = ',metrics.auc(fpr, tpr))\n",
        "plt.figure()\n",
        "plt.plot(fpr, tpr, color='darkorange', lw=1, label='ROC curve (area = %0.2f)' % roc_auc)\n",
        "plt.plot([0, 1], [0, 1], color='navy', lw=1, linestyle='--')\n",
        "plt.xlim([0.0, 1.0])\n",
        "plt.ylim([0.0, 1.05])\n",
        "plt.xlabel('False Positive Rate')\n",
        "plt.ylabel('True Positive Rate')\n",
        "plt.title('Receiver operating characteristic')\n",
        "plt.legend(loc=\"lower right\")\n",
        "plt.show()\n",
        "print(\"\\n\\n\")\n",
        "print(metrics.classification_report(y_test,y_pred))"
      ],
      "execution_count": 128,
      "outputs": [
        {
          "output_type": "stream",
          "text": [
            " AUC =  0.8895992593962324\n"
          ],
          "name": "stdout"
        },
        {
          "output_type": "display_data",
          "data": {
            "image/png": "[encoded data removed]",
            "text/plain": [
              "<matplotlib.figure.Figure at 0x7fa8183b14e0>"
            ]
          },
          "metadata": {
            "tags": []
          }
        },
        {
          "output_type": "stream",
          "text": [
            "\n",
            "\n",
            "\n",
            "              precision    recall  f1-score   support\n",
            "\n",
            "           0       0.86      0.58      0.70      5292\n",
            "           1       0.92      0.98      0.95     24708\n",
            "\n",
            "   micro avg       0.91      0.91      0.91     30000\n",
            "   macro avg       0.89      0.78      0.82     30000\n",
            "weighted avg       0.91      0.91      0.90     30000\n",
            "\n"
          ],
          "name": "stdout"
        }
      ]
    },
    {
      "metadata": {
        "id": "wkzkqiREbXah",
        "colab_type": "text"
      },
      "cell_type": "markdown",
      "source": [
        "**Top Positive Features**"
      ]
    },
    {
      "metadata": {
        "id": "AziDTdKGbV4J",
        "colab_type": "code",
        "colab": {
          "base_uri": "https://localhost:8080/",
          "height": 364
        },
        "outputId": "aca25f5d-def0-4708-874d-0b2cfdbe83fc"
      },
      "cell_type": "code",
      "source": [
        "feature_names=tfidf_vector.get_feature_names()\n",
        "w=clf.coef_\n",
        "top=zip(w[0],feature_names)\n",
        "top=list(top)\n",
        "top.sort(reverse=True,key=lambda x:x[0])\n",
        "l=len(top[0])\n",
        "print('Weight\\t\\tTop Positive Feature')\n",
        "for i in range (1,20):\n",
        "  print(\"%.2f\\t\\t\"%top[i][0],top[i][1])"
      ],
      "execution_count": 130,
      "outputs": [
        {
          "output_type": "stream",
          "text": [
            "Weight\t\tTop Positive Feature\n",
            "8.66\t\t best\n",
            "8.05\t\t delicious\n",
            "7.17\t\t perfect\n",
            "7.15\t\t good\n",
            "6.55\t\t excellent\n",
            "6.47\t\t loves\n",
            "6.39\t\t love\n",
            "5.72\t\t highly\n",
            "5.60\t\t wonderful\n",
            "5.20\t\t nice\n",
            "5.05\t\t favorite\n",
            "4.60\t\t pleased\n",
            "4.55\t\t amazing\n",
            "4.54\t\t tasty\n",
            "4.50\t\t happy\n",
            "4.49\t\t easy\n",
            "4.27\t\t yummy\n",
            "4.24\t\t smooth\n",
            "4.22\t\t definitely\n"
          ],
          "name": "stdout"
        }
      ]
    },
    {
      "metadata": {
        "id": "IndXjRvQbkoC",
        "colab_type": "text"
      },
      "cell_type": "markdown",
      "source": [
        "**Top Negative Features**"
      ]
    },
    {
      "metadata": {
        "id": "F6Bvo11oboG_",
        "colab_type": "code",
        "colab": {
          "base_uri": "https://localhost:8080/",
          "height": 357
        },
        "outputId": "926a8fa9-778c-44df-bfd7-a6c3960fd77b"
      },
      "cell_type": "code",
      "source": [
        "feature_names=tfidf_vector.get_feature_names()\n",
        "w=clf.coef_\n",
        "top=zip(w[0],feature_names)\n",
        "top=list(top)\n",
        "top.sort(key=lambda x:x[0])\n",
        "l=len(top[0])\n",
        "print('Weight\\t\\tTop Negative Feature')\n",
        "for i in range (1,20):\n",
        "  print(\"%.2f\\t\\t\"%top[i][0],top[i][1])"
      ],
      "execution_count": 132,
      "outputs": [
        {
          "output_type": "stream",
          "text": [
            "Weight\t\tTop Negative Feature\n",
            "-7.80\t\t worst\n",
            "-6.36\t\t disappointed\n",
            "-6.35\t\t awful\n",
            "-6.20\t\t terrible\n",
            "-6.12\t\t horrible\n",
            "-5.85\t\t disappointing\n",
            "-5.57\t\t disappointment\n",
            "-5.52\t\t bland\n",
            "-5.47\t\t threw\n",
            "-5.16\t\t unfortunately\n",
            "-5.10\t\t return\n",
            "-4.60\t\t tasteless\n",
            "-4.51\t\t disgusting\n",
            "-4.37\t\t hoping\n",
            "-4.37\t\t waste\n",
            "-4.34\t\t worse\n",
            "-4.33\t\t money\n",
            "-4.26\t\t stale\n",
            "-3.92\t\t sorry\n"
          ],
          "name": "stdout"
        }
      ]
    },
    {
      "metadata": {
        "id": "fTEetCOqdG6t",
        "colab_type": "text"
      },
      "cell_type": "markdown",
      "source": [
        "# Word2Vec"
      ]
    },
    {
      "metadata": {
        "id": "ltE8vI5KdKPV",
        "colab_type": "code",
        "colab": {}
      },
      "cell_type": "code",
      "source": [
        "#Train own W2V with train data\n",
        "i=0\n",
        "list_of_sentence=[]\n",
        "for sent in train_data.values:\n",
        "  list_of_sentence.append(sent.split())"
      ],
      "execution_count": 0,
      "outputs": []
    },
    {
      "metadata": {
        "id": "xbXK4_O4eK9o",
        "colab_type": "code",
        "colab": {}
      },
      "cell_type": "code",
      "source": [
        "w2v_model=gensim.models.Word2Vec(list_of_sentence,min_count=5,size=50,workers=4)"
      ],
      "execution_count": 0,
      "outputs": []
    },
    {
      "metadata": {
        "id": "65EKjb3XpiYN",
        "colab_type": "code",
        "colab": {}
      },
      "cell_type": "code",
      "source": [
        "w2v_words = list(w2v_model.wv.vocab)"
      ],
      "execution_count": 0,
      "outputs": []
    },
    {
      "metadata": {
        "id": "2oefbDuxpAmr",
        "colab_type": "code",
        "colab": {
          "base_uri": "https://localhost:8080/",
          "height": 51
        },
        "outputId": "92bcec75-80b4-47ce-e1f8-7fc1f842fa33"
      },
      "cell_type": "code",
      "source": [
        "# Average W2V with training Data\n",
        "sent_vectors = []; # the avg-w2v for each sentence/review is stored in this list\n",
        "for sent in list_of_sentence: # for each review/sentence\n",
        "    sent_vec = np.zeros(50) # as word vectors are of zero length 50, you might need to change this to 300 if you use google's w2v\n",
        "    cnt_words =0; # num of words with a valid vector in the sentence/review\n",
        "    for word in sent: # for each word in a review/sentence\n",
        "        if word in w2v_words:\n",
        "            vec = w2v_model.wv[word]\n",
        "            #print(\"vec= \",vec)\n",
        "            sent_vec += vec\n",
        "            cnt_words += 1\n",
        "    if cnt_words != 0:\n",
        "        sent_vec /= cnt_words\n",
        "    sent_vectors.append(sent_vec)\n",
        "print(len(sent_vectors))\n",
        "#print(sent_vectors)\n",
        "print(len(sent_vectors[0]))"
      ],
      "execution_count": 181,
      "outputs": [
        {
          "output_type": "stream",
          "text": [
            "49000\n",
            "50\n"
          ],
          "name": "stdout"
        }
      ]
    },
    {
      "metadata": {
        "id": "yJESMFn-p2p-",
        "colab_type": "code",
        "colab": {
          "base_uri": "https://localhost:8080/",
          "height": 187
        },
        "outputId": "219aa521-4982-4c32-919a-5bd123628bbe"
      },
      "cell_type": "code",
      "source": [
        "sent_vectors[49]"
      ],
      "execution_count": 180,
      "outputs": [
        {
          "output_type": "execute_result",
          "data": {
            "text/plain": [
              "array([-0.03635443, -0.20117255,  0.28932798,  0.12100915, -1.29773333,\n",
              "       -0.14045732,  0.38774436,  0.01730783,  0.25027181,  0.99703476,\n",
              "       -0.14590456,  0.46319224, -0.13865868,  0.41011202, -0.49298705,\n",
              "       -0.48523868, -0.16020769,  0.0524766 , -0.15539374, -0.27439437,\n",
              "       -1.21323375,  0.0731979 ,  0.28794207,  0.01360976,  0.17986842,\n",
              "       -0.45636012, -0.27563123, -0.77005464, -0.20762008,  0.12917916,\n",
              "        0.15112045, -0.23642529, -0.02588361, -0.13747826, -0.41617008,\n",
              "       -0.24458788, -0.02496167,  0.26504465,  0.51069165,  0.02348844,\n",
              "        0.03542238,  0.18670231,  0.25767448,  0.19802293, -0.41889921,\n",
              "       -0.23788456,  0.42469777, -0.35686992,  0.1083397 ,  0.25322425])"
            ]
          },
          "metadata": {
            "tags": []
          },
          "execution_count": 180
        }
      ]
    },
    {
      "metadata": {
        "id": "7G99XKIdeSav",
        "colab_type": "code",
        "colab": {}
      },
      "cell_type": "code",
      "source": [
        "#Train own W2V with cv data\n",
        "i=0\n",
        "list_of_sentence_cv=[]\n",
        "for sent in cv_data.values:\n",
        "  list_of_sentence_cv.append(sent.split())"
      ],
      "execution_count": 0,
      "outputs": []
    },
    {
      "metadata": {
        "id": "7vrjLmivjZVv",
        "colab_type": "code",
        "colab": {}
      },
      "cell_type": "code",
      "source": [
        "w2v_model_cv=gensim.models.Word2Vec(list_of_sentence_cv,min_count=5,size=50,workers=4)"
      ],
      "execution_count": 0,
      "outputs": []
    },
    {
      "metadata": {
        "id": "yi6walCmvOlN",
        "colab_type": "code",
        "colab": {}
      },
      "cell_type": "code",
      "source": [
        "w2v_words_cv = list(w2v_model_cv.wv.vocab)"
      ],
      "execution_count": 0,
      "outputs": []
    },
    {
      "metadata": {
        "id": "AkGbhj7sg32a",
        "colab_type": "code",
        "colab": {
          "base_uri": "https://localhost:8080/",
          "height": 51
        },
        "outputId": "56b1996e-881c-417d-f378-11b87f842769"
      },
      "cell_type": "code",
      "source": [
        "# Average W2V with cv Data\n",
        "sent_vectors_cv = []; # the avg-w2v for each sentence/review is stored in this list\n",
        "for sent in list_of_sentence_cv: # for each review/sentence\n",
        "    sent_vec = np.zeros(50) # as word vectors are of zero length 50, you might need to change this to 300 if you use google's w2v\n",
        "    cnt_words =0; # num of words with a valid vector in the sentence/review\n",
        "    for word in sent: # for each word in a review/sentence\n",
        "        if word in w2v_words_cv:\n",
        "            vec = w2v_model_cv.wv[word]\n",
        "            #print(\"vec= \",vec)\n",
        "            sent_vec += vec\n",
        "            cnt_words += 1\n",
        "    if cnt_words != 0:\n",
        "        sent_vec /= cnt_words\n",
        "    sent_vectors_cv.append(sent_vec)\n",
        "print(len(sent_vectors_cv))\n",
        "#print(sent_vectors)\n",
        "print(len(sent_vectors_cv[0]))"
      ],
      "execution_count": 188,
      "outputs": [
        {
          "output_type": "stream",
          "text": [
            "21000\n",
            "50\n"
          ],
          "name": "stdout"
        }
      ]
    },
    {
      "metadata": {
        "id": "Dry9BQlmhbK5",
        "colab_type": "text"
      },
      "cell_type": "markdown",
      "source": [
        "**Simple Cross Validation**"
      ]
    },
    {
      "metadata": {
        "id": "adJXUp-ixceF",
        "colab_type": "code",
        "colab": {
          "base_uri": "https://localhost:8080/",
          "height": 34
        },
        "outputId": "002f1c59-6646-4394-a113-ea0edb813b2b"
      },
      "cell_type": "code",
      "source": [
        "y_train.shape"
      ],
      "execution_count": 192,
      "outputs": [
        {
          "output_type": "execute_result",
          "data": {
            "text/plain": [
              "(49000,)"
            ]
          },
          "metadata": {
            "tags": []
          },
          "execution_count": 192
        }
      ]
    },
    {
      "metadata": {
        "id": "CdfyaO_ohZ62",
        "colab_type": "code",
        "colab": {}
      },
      "cell_type": "code",
      "source": [
        "AUC_training=[]\n",
        "AUC_cv=[]\n",
        "C=[]\n",
        "c=-3\n",
        "while(c<4):\n",
        "  C.append(c)\n",
        "  clf = LogisticRegression(C=10**c, penalty='l2') #Default penalty=l2\n",
        "  clf.fit(sent_vectors, y_train)\n",
        "  \n",
        "   #Training Curve\n",
        "  y_predict_training=clf.predict(sent_vectors)\n",
        "  fpr, tpr, thresholds = roc_curve(y_predict_training, y_train)\n",
        "  AUC_training.append(metrics.auc(fpr, tpr))\n",
        "  \n",
        "  #CV Curve\n",
        "  y_predict_cv=clf.predict(sent_vectors_cv)\n",
        "  fpr, tpr, thresholds = roc_curve(y_predict_cv, y_cv)\n",
        "  AUC_cv.append(metrics.auc(fpr, tpr))\n",
        "  c+=1"
      ],
      "execution_count": 0,
      "outputs": []
    },
    {
      "metadata": {
        "id": "GCo2lkxkjJFk",
        "colab_type": "code",
        "colab": {
          "base_uri": "https://localhost:8080/",
          "height": 136
        },
        "outputId": "1f90b8af-a52d-4654-d00d-1e642b5c567c"
      },
      "cell_type": "code",
      "source": [
        "AUC_training"
      ],
      "execution_count": 194,
      "outputs": [
        {
          "output_type": "execute_result",
          "data": {
            "text/plain": [
              "[0.8441160437701973,\n",
              " 0.8147751935954463,\n",
              " 0.8060927823809658,\n",
              " 0.8046791717851987,\n",
              " 0.8044920500861514,\n",
              " 0.8044520183210622,\n",
              " 0.8044520183210622]"
            ]
          },
          "metadata": {
            "tags": []
          },
          "execution_count": 194
        }
      ]
    },
    {
      "metadata": {
        "id": "YYXvbhD1if-A",
        "colab_type": "code",
        "colab": {
          "base_uri": "https://localhost:8080/",
          "height": 294
        },
        "outputId": "85e82f00-762c-492b-fde3-a1c8c7e4d60e"
      },
      "cell_type": "code",
      "source": [
        "plt.plot(C,AUC_training,label='Training')\n",
        "plt.plot(C,AUC_cv,label=\"CV\")\n",
        "plt.ylabel('AUC')\n",
        "plt.xlabel('Log c')\n",
        "plt.title('Log c vs AUC ')\n",
        "plt.legend()\n",
        "plt.show()"
      ],
      "execution_count": 195,
      "outputs": [
        {
          "output_type": "display_data",
          "data": {
            "image/png": "[encoded data removed]",
            "text/plain": [
              "<matplotlib.figure.Figure at 0x7fa809ecdbe0>"
            ]
          },
          "metadata": {
            "tags": []
          }
        }
      ]
    },
    {
      "metadata": {
        "id": "_2vSChoEyB1r",
        "colab_type": "text"
      },
      "cell_type": "markdown",
      "source": [
        "**Observation:** Optimal Value of C=10^-3 having AUC score 0.805"
      ]
    },
    {
      "metadata": {
        "id": "4V_0xXUw-Cjx",
        "colab_type": "code",
        "colab": {}
      },
      "cell_type": "code",
      "source": [
        ""
      ],
      "execution_count": 0,
      "outputs": []
    },
    {
      "metadata": {
        "id": "9uEepY5nydCN",
        "colab_type": "text"
      },
      "cell_type": "markdown",
      "source": [
        "**Avg W2V for test data**"
      ]
    },
    {
      "metadata": {
        "id": "GdotizhYyViM",
        "colab_type": "code",
        "colab": {}
      },
      "cell_type": "code",
      "source": [
        "#Train own W2V with cv data\n",
        "i=0\n",
        "list_of_sentence_test=[]\n",
        "for sent in test_data.values:\n",
        "  list_of_sentence_test.append(sent.split())"
      ],
      "execution_count": 0,
      "outputs": []
    },
    {
      "metadata": {
        "id": "EaPWKrxyytGb",
        "colab_type": "code",
        "colab": {}
      },
      "cell_type": "code",
      "source": [
        "w2v_model_test=gensim.models.Word2Vec(list_of_sentence_test,min_count=5,size=50,workers=4)"
      ],
      "execution_count": 0,
      "outputs": []
    },
    {
      "metadata": {
        "id": "61ucdLzSy2rr",
        "colab_type": "code",
        "colab": {}
      },
      "cell_type": "code",
      "source": [
        "w2v_words_test = list(w2v_model_test.wv.vocab)"
      ],
      "execution_count": 0,
      "outputs": []
    },
    {
      "metadata": {
        "id": "y9vJSozQy9pT",
        "colab_type": "code",
        "colab": {
          "base_uri": "https://localhost:8080/",
          "height": 51
        },
        "outputId": "e6c2e089-4cc0-44c0-8ad4-676e0ffb5ca9"
      },
      "cell_type": "code",
      "source": [
        "# Average W2V with test Data\n",
        "sent_vectors_test = []; # the avg-w2v for each sentence/review is stored in this list\n",
        "for sent in list_of_sentence_test: # for each review/sentence\n",
        "    sent_vec = np.zeros(50) # as word vectors are of zero length 50, you might need to change this to 300 if you use google's w2v\n",
        "    cnt_words =0; # num of words with a valid vector in the sentence/review\n",
        "    for word in sent: # for each word in a review/sentence\n",
        "        if word in w2v_words_test:\n",
        "            vec = w2v_model_test.wv[word]\n",
        "            #print(\"vec= \",vec)\n",
        "            sent_vec += vec\n",
        "            cnt_words += 1\n",
        "    if cnt_words != 0:\n",
        "        sent_vec /= cnt_words\n",
        "    sent_vectors_test.append(sent_vec)\n",
        "print(len(sent_vectors_test))\n",
        "#print(sent_vectors)\n",
        "print(len(sent_vectors_test[0]))\n"
      ],
      "execution_count": 199,
      "outputs": [
        {
          "output_type": "stream",
          "text": [
            "30000\n",
            "50\n"
          ],
          "name": "stdout"
        }
      ]
    },
    {
      "metadata": {
        "id": "VeZS30qjzaDU",
        "colab_type": "code",
        "colab": {
          "base_uri": "https://localhost:8080/",
          "height": 515
        },
        "outputId": "a45b3815-2ff9-4f7c-e9d3-5c95cafcb1bf"
      },
      "cell_type": "code",
      "source": [
        "clf = LogisticRegression(C=0.001, penalty='l2') \n",
        "clf.fit(sent_vectors,y_train)\n",
        "y_pred=clf.predict(sent_vectors_test)\n",
        " #Drawing ROC curve\n",
        "fpr, tpr, thresholds = roc_curve(y_pred, y_test)\n",
        "roc_auc = auc(fpr, tpr)\n",
        "print(' AUC = ',metrics.auc(fpr, tpr))\n",
        "plt.figure()\n",
        "plt.plot(fpr, tpr, color='darkorange', lw=1, label='ROC curve (area = %0.2f)' % roc_auc)\n",
        "plt.plot([0, 1], [0, 1], color='navy', lw=1, linestyle='--')\n",
        "plt.xlim([0.0, 1.0])\n",
        "plt.ylim([0.0, 1.05])\n",
        "plt.xlabel('False Positive Rate')\n",
        "plt.ylabel('True Positive Rate')\n",
        "plt.title('Receiver operating characteristic')\n",
        "plt.legend(loc=\"lower right\")\n",
        "plt.show()\n",
        "print(\"\\n\\n\")\n",
        "print(metrics.classification_report(y_test,y_pred))"
      ],
      "execution_count": 201,
      "outputs": [
        {
          "output_type": "stream",
          "text": [
            " AUC =  0.7727290708468711\n"
          ],
          "name": "stdout"
        },
        {
          "output_type": "display_data",
          "data": {
            "image/png": "[encoded data removed]",
            "text/plain": [
              "<matplotlib.figure.Figure at 0x7fa8012d0c50>"
            ]
          },
          "metadata": {
            "tags": []
          }
        },
        {
          "output_type": "stream",
          "text": [
            "\n",
            "\n",
            "\n",
            "              precision    recall  f1-score   support\n",
            "\n",
            "           0       0.71      0.11      0.19      5292\n",
            "           1       0.84      0.99      0.91     24708\n",
            "\n",
            "   micro avg       0.84      0.84      0.84     30000\n",
            "   macro avg       0.77      0.55      0.55     30000\n",
            "weighted avg       0.82      0.84      0.78     30000\n",
            "\n"
          ],
          "name": "stdout"
        }
      ]
    },
    {
      "metadata": {
        "id": "w_qRb-eSfkO1",
        "colab_type": "text"
      },
      "cell_type": "markdown",
      "source": [
        "# TF_IDF Avg W2V"
      ]
    },
    {
      "metadata": {
        "id": "ehbIPTikfpvT",
        "colab_type": "code",
        "colab": {}
      },
      "cell_type": "code",
      "source": [
        "#TF-IDF Avg W2V for train Data\n",
        "model_train = TfidfVectorizer()\n",
        "tf_idf_matrix_train = model_train.fit_transform(train_data)\n",
        "dictionary = dict(zip(model_train.get_feature_names(), list(model.idf_)))"
      ],
      "execution_count": 0,
      "outputs": []
    },
    {
      "metadata": {
        "id": "fH0gsg9O3tpE",
        "colab_type": "code",
        "colab": {}
      },
      "cell_type": "code",
      "source": [
        "tfidf_feat_train = model_train.get_feature_names() \n",
        "\n",
        "tfidf_sent_vectors_train = []; # the tfidf-w2v for each sentence/review is stored in this list\n",
        "row=0;\n",
        "for sent in list_of_sentence: \n",
        "  sent_vec = np.zeros(50) \n",
        "  weight_sum =0; \n",
        "  for word in sent: \n",
        "    try:\n",
        "      vec = w2v_model.wv[word]\n",
        "      tf_idf = dictionary[word]*(sent.count(word)/len(sent))\n",
        "      sent_vec += (vec * tf_idf)\n",
        "      weight_sum += tf_idf\n",
        "    except:\n",
        "      pass\n",
        "          \n",
        "  if weight_sum != 0:\n",
        "    sent_vec /= weight_sum\n",
        "  tfidf_sent_vectors_train.append(sent_vec)\n",
        "  row += 1"
      ],
      "execution_count": 0,
      "outputs": []
    },
    {
      "metadata": {
        "id": "P358XPsG6j0K",
        "colab_type": "code",
        "colab": {}
      },
      "cell_type": "code",
      "source": [
        "#TF-IDF Avg W2V for cv Data\n",
        "model_cv = TfidfVectorizer()\n",
        "tf_idf_matrix_cv = model_cv.fit_transform(cv_data)\n",
        "dictionary = dict(zip(model_cv.get_feature_names(), list(model.idf_)))"
      ],
      "execution_count": 0,
      "outputs": []
    },
    {
      "metadata": {
        "id": "QgCZc1TA7rcV",
        "colab_type": "code",
        "colab": {}
      },
      "cell_type": "code",
      "source": [
        "tfidf_feat_cv = model_cv.get_feature_names() \n",
        "\n",
        "tfidf_sent_vectors_cv = []; # the tfidf-w2v for each sentence/review is stored in this list\n",
        "row=0;\n",
        "for sent in list_of_sentence_cv: \n",
        "  sent_vec = np.zeros(50) \n",
        "  weight_sum =0; \n",
        "  for word in sent:\n",
        "    try:\n",
        "      vec = w2v_model_cv.wv[word]\n",
        "      tf_idf = dictionary[word]*(sent.count(word)/len(sent))\n",
        "      sent_vec += (vec * tf_idf)\n",
        "      weight_sum += tf_idf\n",
        "    except:\n",
        "      pass\n",
        "          \n",
        "  if weight_sum != 0:\n",
        "    sent_vec /= weight_sum\n",
        "  tfidf_sent_vectors_cv.append(sent_vec)\n",
        "  row += 1"
      ],
      "execution_count": 0,
      "outputs": []
    },
    {
      "metadata": {
        "id": "Uos_h9159Ul5",
        "colab_type": "text"
      },
      "cell_type": "markdown",
      "source": [
        "**Simple Cross Validation**"
      ]
    },
    {
      "metadata": {
        "id": "9VIZSTTO9ZAP",
        "colab_type": "code",
        "colab": {}
      },
      "cell_type": "code",
      "source": [
        "AUC_training=[]\n",
        "AUC_cv=[]\n",
        "C=[]\n",
        "c=-3\n",
        "while(c<4):\n",
        "  C.append(c)\n",
        "  clf = LogisticRegression(C=10**c, penalty='l2') #Default penalty=l2\n",
        "  clf.fit(tfidf_sent_vectors_train, y_train)\n",
        "  \n",
        "   #Training Curve\n",
        "  y_predict_training=clf.predict(tfidf_sent_vectors_train)\n",
        "  fpr, tpr, thresholds = roc_curve(y_predict_training, y_train)\n",
        "  AUC_training.append(metrics.auc(fpr, tpr))\n",
        "  \n",
        "  #CV Curve\n",
        "  y_predict_cv=clf.predict(tfidf_sent_vectors_cv)\n",
        "  fpr, tpr, thresholds = roc_curve(y_predict_cv, y_cv)\n",
        "  AUC_cv.append(metrics.auc(fpr, tpr))\n",
        "  c+=1"
      ],
      "execution_count": 0,
      "outputs": []
    },
    {
      "metadata": {
        "id": "vZU_cdJY-H2T",
        "colab_type": "code",
        "colab": {
          "base_uri": "https://localhost:8080/",
          "height": 294
        },
        "outputId": "32723bb4-a162-4b61-b591-427e4e2066f2"
      },
      "cell_type": "code",
      "source": [
        "plt.plot(C,AUC_training,label='Training')\n",
        "plt.plot(C,AUC_cv,label=\"CV\")\n",
        "plt.ylabel('AUC')\n",
        "plt.xlabel('Log c')\n",
        "plt.title('Log c vs AUC ')\n",
        "plt.legend()\n",
        "plt.show()"
      ],
      "execution_count": 223,
      "outputs": [
        {
          "output_type": "display_data",
          "data": {
            "image/png": "[encoded data removed]",
            "text/plain": [
              "<matplotlib.figure.Figure at 0x7fa80dc6a438>"
            ]
          },
          "metadata": {
            "tags": []
          }
        }
      ]
    },
    {
      "metadata": {
        "id": "RAs1H7WN-OBf",
        "colab_type": "text"
      },
      "cell_type": "markdown",
      "source": [
        "**Observation:** Optimal value of C=0.01 having AUC score =0.807"
      ]
    },
    {
      "metadata": {
        "id": "EdneXd1I-d4e",
        "colab_type": "code",
        "colab": {}
      },
      "cell_type": "code",
      "source": [
        "#TF-IDF Avg W2V for test Data\n",
        "model_test = TfidfVectorizer()\n",
        "tf_idf_matrix_test = model_test.fit_transform(test_data)\n",
        "dictionary = dict(zip(model_test.get_feature_names(), list(model.idf_)))"
      ],
      "execution_count": 0,
      "outputs": []
    },
    {
      "metadata": {
        "id": "l5-Ife0L-yDg",
        "colab_type": "code",
        "colab": {}
      },
      "cell_type": "code",
      "source": [
        "tfidf_feat_test = model_test.get_feature_names() \n",
        "\n",
        "tfidf_sent_vectors_test = []; # the tfidf-w2v for each sentence/review is stored in this list\n",
        "row=0;\n",
        "for sent in list_of_sentence_test: \n",
        "  sent_vec = np.zeros(50) \n",
        "  weight_sum =0; \n",
        "  for word in sent:\n",
        "    try:\n",
        "      vec = w2v_model_test.wv[word]\n",
        "      tf_idf = dictionary[word]*(sent.count(word)/len(sent))\n",
        "      sent_vec += (vec * tf_idf)\n",
        "      weight_sum += tf_idf\n",
        "    except:\n",
        "      pass\n",
        "          \n",
        "  if weight_sum != 0:\n",
        "    sent_vec /= weight_sum\n",
        "  tfidf_sent_vectors_test.append(sent_vec)\n",
        "  row += 1"
      ],
      "execution_count": 0,
      "outputs": []
    },
    {
      "metadata": {
        "id": "U3adYzRi_Ete",
        "colab_type": "code",
        "colab": {
          "base_uri": "https://localhost:8080/",
          "height": 515
        },
        "outputId": "385e0e9a-e599-4549-9b49-01b62ed91084"
      },
      "cell_type": "code",
      "source": [
        "clf = LogisticRegression(C=0.01, penalty='l2') \n",
        "clf.fit(tfidf_sent_vectors_train,y_train)\n",
        "y_pred=clf.predict(tfidf_sent_vectors_test)\n",
        " #Drawing ROC curve\n",
        "fpr, tpr, thresholds = roc_curve(y_pred, y_test)\n",
        "roc_auc = auc(fpr, tpr)\n",
        "print(' AUC = ',metrics.auc(fpr, tpr))\n",
        "plt.figure()\n",
        "plt.plot(fpr, tpr, color='darkorange', lw=1, label='ROC curve (area = %0.2f)' % roc_auc)\n",
        "plt.plot([0, 1], [0, 1], color='navy', lw=1, linestyle='--')\n",
        "plt.xlim([0.0, 1.0])\n",
        "plt.ylim([0.0, 1.05])\n",
        "plt.xlabel('False Positive Rate')\n",
        "plt.ylabel('True Positive Rate')\n",
        "plt.title('Receiver operating characteristic')\n",
        "plt.legend(loc=\"lower right\")\n",
        "plt.show()\n",
        "print(\"\\n\\n\")\n",
        "print(metrics.classification_report(y_test,y_pred))"
      ],
      "execution_count": 226,
      "outputs": [
        {
          "output_type": "stream",
          "text": [
            " AUC =  0.7041761554009247\n"
          ],
          "name": "stdout"
        },
        {
          "output_type": "display_data",
          "data": {
            "image/png": "[encoded data removed]",
            "text/plain": [
              "<matplotlib.figure.Figure at 0x7fa7f4e1a908>"
            ]
          },
          "metadata": {
            "tags": []
          }
        },
        {
          "output_type": "stream",
          "text": [
            "\n",
            "\n",
            "\n",
            "              precision    recall  f1-score   support\n",
            "\n",
            "           0       0.57      0.15      0.24      5292\n",
            "           1       0.84      0.97      0.90     24708\n",
            "\n",
            "   micro avg       0.83      0.83      0.83     30000\n",
            "   macro avg       0.70      0.56      0.57     30000\n",
            "weighted avg       0.79      0.83      0.79     30000\n",
            "\n"
          ],
          "name": "stdout"
        }
      ]
    }
  ]
}