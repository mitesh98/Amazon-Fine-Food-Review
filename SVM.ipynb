{
  "nbformat": 4,
  "nbformat_minor": 0,
  "metadata": {
    "colab": {
      "name": "SVM.ipynb",
      "version": "0.3.2",
      "provenance": [],
      "collapsed_sections": [
        "VaDIZqZarRU1",
        "dqt6pQRoxxKq"
      ],
      "include_colab_link": true
    },
    "kernelspec": {
      "name": "python3",
      "display_name": "Python 3"
    },
    "accelerator": "GPU"
  },
  "cells": [
    {
      "cell_type": "markdown",
      "metadata": {
        "id": "view-in-github",
        "colab_type": "text"
      },
      "source": [
        "<a href=\"https://colab.research.google.com/github/mitesh98/Amazon-Fine-Food-Review/blob/master/SVM.ipynb\" target=\"_parent\"><img src=\"https://colab.research.google.com/assets/colab-badge.svg\" alt=\"Open In Colab\"/></a>"
      ]
    },
    {
      "metadata": {
        "id": "LYzrt5Zeh5wm",
        "colab_type": "text"
      },
      "cell_type": "markdown",
      "source": [
        "# Amazon Fine Food Reviews Analysis\n",
        "Data Source: https://www.kaggle.com/snap/amazon-fine-food-reviews\n",
        "\n",
        "The Amazon Fine Food Reviews dataset consists of reviews of fine foods from Amazon.\n",
        "\n",
        "Number of reviews: 568,454\n",
        "\n",
        "Number of users: 256,059\n",
        "\n",
        "Number of products: 74,258\n",
        "\n",
        "Timespan: Oct 1999 - Oct 2012\n",
        "\n",
        "Number of Attributes/Columns in data: 10\n",
        "\n",
        "Attribute Information:\n",
        "\n",
        "Id\n",
        "\n",
        "ProductId - unique identifier for the product\n",
        "\n",
        "UserId - unqiue identifier for the user\n",
        "\n",
        "ProfileName\n",
        "\n",
        "HelpfulnessNumerator - number of users who found the review helpful\n",
        "\n",
        "HelpfulnessDenominator - number of users who indicated whether they found the review helpful or not\n",
        "\n",
        "Score - rating between 1 and 5\n",
        "\n",
        "Time - timestamp for the review\n",
        "\n",
        "Summary - brief summary of the review\n",
        "Text - text of the review\n",
        "\n",
        "Objective: Given a review, determine whether the review is positive (rating of 4 or 5) or negative (rating of 1 or 2)."
      ]
    },
    {
      "metadata": {
        "id": "CRGr-R5piNUy",
        "colab_type": "code",
        "colab": {}
      },
      "cell_type": "code",
      "source": [
        "%matplotlib inline\n",
        "import pandas as pd\n",
        "import numpy as np\n",
        "import matplotlib.pyplot as plt\n",
        "import seaborn as sns\n",
        "\n",
        "from sklearn.feature_extraction.text import CountVectorizer\n",
        "from sklearn.feature_extraction.text import TfidfVectorizer\n",
        "\n",
        "import re\n",
        "import nltk\n",
        "\n",
        "from sklearn import metrics\n",
        "from sklearn.metrics import confusion_matrix\n",
        "\n",
        "import warnings\n",
        "warnings.filterwarnings(\"ignore\")\n",
        "\n",
        "import tqdm"
      ],
      "execution_count": 0,
      "outputs": []
    },
    {
      "metadata": {
        "id": "RA2HNei6iTs6",
        "colab_type": "code",
        "colab": {}
      },
      "cell_type": "code",
      "source": [
        "import sqlite3"
      ],
      "execution_count": 0,
      "outputs": []
    },
    {
      "metadata": {
        "id": "XGaWfVCaiWs3",
        "colab_type": "code",
        "outputId": "c66cf49a-54ca-4c8d-fb55-d149dd9b8e4b",
        "colab": {
          "base_uri": "https://localhost:8080/",
          "height": 124
        }
      },
      "cell_type": "code",
      "source": [
        "from google.colab import drive\n",
        "drive.mount('/content/drive')"
      ],
      "execution_count": 3,
      "outputs": [
        {
          "output_type": "stream",
          "text": [
            "Go to this URL in a browser: https://accounts.google.com/o/oauth2/auth?client_id=947318989803-6bn6qk8qdgf4n4g3pfee6491hc0brc4i.apps.googleusercontent.com&redirect_uri=urn%3Aietf%3Awg%3Aoauth%3A2.0%3Aoob&scope=email%20https%3A%2F%2Fwww.googleapis.com%2Fauth%2Fdocs.test%20https%3A%2F%2Fwww.googleapis.com%2Fauth%2Fdrive%20https%3A%2F%2Fwww.googleapis.com%2Fauth%2Fdrive.photos.readonly%20https%3A%2F%2Fwww.googleapis.com%2Fauth%2Fpeopleapi.readonly&response_type=code\n",
            "\n",
            "Enter your authorization code:\n",
            "··········\n",
            "Mounted at /content/drive\n"
          ],
          "name": "stdout"
        }
      ]
    },
    {
      "metadata": {
        "id": "coJQ7y_oi7GP",
        "colab_type": "code",
        "colab": {}
      },
      "cell_type": "code",
      "source": [
        "!cp \"/content/drive/My Drive/database.sqlite\" \"database.sqlite\""
      ],
      "execution_count": 0,
      "outputs": []
    },
    {
      "metadata": {
        "id": "JLrYRYAxiouT",
        "colab_type": "text"
      },
      "cell_type": "markdown",
      "source": [
        "# Readind Data"
      ]
    },
    {
      "metadata": {
        "id": "2RA8ZUbDia7Z",
        "colab_type": "code",
        "colab": {}
      },
      "cell_type": "code",
      "source": [
        "con=sqlite3.connect(\"database.sqlite\")"
      ],
      "execution_count": 0,
      "outputs": []
    },
    {
      "metadata": {
        "id": "dX2kwJhhivqt",
        "colab_type": "code",
        "outputId": "7b6404d3-86fe-4bf5-bd59-2b74cd7c4c3d",
        "colab": {
          "base_uri": "https://localhost:8080/",
          "height": 690
        }
      },
      "cell_type": "code",
      "source": [
        "filtered_data=pd.read_sql_query(\"SELECT * FROM `Reviews` WHERE `Score` !=3\",con)\n",
        "filtered_data.shape\n",
        "filtered_data.head()"
      ],
      "execution_count": 6,
      "outputs": [
        {
          "output_type": "execute_result",
          "data": {
            "text/html": [
              "<div>\n",
              "<style scoped>\n",
              "    .dataframe tbody tr th:only-of-type {\n",
              "        vertical-align: middle;\n",
              "    }\n",
              "\n",
              "    .dataframe tbody tr th {\n",
              "        vertical-align: top;\n",
              "    }\n",
              "\n",
              "    .dataframe thead th {\n",
              "        text-align: right;\n",
              "    }\n",
              "</style>\n",
              "<table border=\"1\" class=\"dataframe\">\n",
              "  <thead>\n",
              "    <tr style=\"text-align: right;\">\n",
              "      <th></th>\n",
              "      <th>Id</th>\n",
              "      <th>ProductId</th>\n",
              "      <th>UserId</th>\n",
              "      <th>ProfileName</th>\n",
              "      <th>HelpfulnessNumerator</th>\n",
              "      <th>HelpfulnessDenominator</th>\n",
              "      <th>Score</th>\n",
              "      <th>Time</th>\n",
              "      <th>Summary</th>\n",
              "      <th>Text</th>\n",
              "    </tr>\n",
              "  </thead>\n",
              "  <tbody>\n",
              "    <tr>\n",
              "      <th>0</th>\n",
              "      <td>1</td>\n",
              "      <td>B001E4KFG0</td>\n",
              "      <td>A3SGXH7AUHU8GW</td>\n",
              "      <td>delmartian</td>\n",
              "      <td>1</td>\n",
              "      <td>1</td>\n",
              "      <td>5</td>\n",
              "      <td>1303862400</td>\n",
              "      <td>Good Quality Dog Food</td>\n",
              "      <td>I have bought several of the Vitality canned d...</td>\n",
              "    </tr>\n",
              "    <tr>\n",
              "      <th>1</th>\n",
              "      <td>2</td>\n",
              "      <td>B00813GRG4</td>\n",
              "      <td>A1D87F6ZCVE5NK</td>\n",
              "      <td>dll pa</td>\n",
              "      <td>0</td>\n",
              "      <td>0</td>\n",
              "      <td>1</td>\n",
              "      <td>1346976000</td>\n",
              "      <td>Not as Advertised</td>\n",
              "      <td>Product arrived labeled as Jumbo Salted Peanut...</td>\n",
              "    </tr>\n",
              "    <tr>\n",
              "      <th>2</th>\n",
              "      <td>3</td>\n",
              "      <td>B000LQOCH0</td>\n",
              "      <td>ABXLMWJIXXAIN</td>\n",
              "      <td>Natalia Corres \"Natalia Corres\"</td>\n",
              "      <td>1</td>\n",
              "      <td>1</td>\n",
              "      <td>4</td>\n",
              "      <td>1219017600</td>\n",
              "      <td>\"Delight\" says it all</td>\n",
              "      <td>This is a confection that has been around a fe...</td>\n",
              "    </tr>\n",
              "    <tr>\n",
              "      <th>3</th>\n",
              "      <td>4</td>\n",
              "      <td>B000UA0QIQ</td>\n",
              "      <td>A395BORC6FGVXV</td>\n",
              "      <td>Karl</td>\n",
              "      <td>3</td>\n",
              "      <td>3</td>\n",
              "      <td>2</td>\n",
              "      <td>1307923200</td>\n",
              "      <td>Cough Medicine</td>\n",
              "      <td>If you are looking for the secret ingredient i...</td>\n",
              "    </tr>\n",
              "    <tr>\n",
              "      <th>4</th>\n",
              "      <td>5</td>\n",
              "      <td>B006K2ZZ7K</td>\n",
              "      <td>A1UQRSCLF8GW1T</td>\n",
              "      <td>Michael D. Bigham \"M. Wassir\"</td>\n",
              "      <td>0</td>\n",
              "      <td>0</td>\n",
              "      <td>5</td>\n",
              "      <td>1350777600</td>\n",
              "      <td>Great taffy</td>\n",
              "      <td>Great taffy at a great price.  There was a wid...</td>\n",
              "    </tr>\n",
              "  </tbody>\n",
              "</table>\n",
              "</div>"
            ],
            "text/plain": [
              "   Id   ProductId          UserId                      ProfileName  \\\n",
              "0   1  B001E4KFG0  A3SGXH7AUHU8GW                       delmartian   \n",
              "1   2  B00813GRG4  A1D87F6ZCVE5NK                           dll pa   \n",
              "2   3  B000LQOCH0   ABXLMWJIXXAIN  Natalia Corres \"Natalia Corres\"   \n",
              "3   4  B000UA0QIQ  A395BORC6FGVXV                             Karl   \n",
              "4   5  B006K2ZZ7K  A1UQRSCLF8GW1T    Michael D. Bigham \"M. Wassir\"   \n",
              "\n",
              "   HelpfulnessNumerator  HelpfulnessDenominator  Score        Time  \\\n",
              "0                     1                       1      5  1303862400   \n",
              "1                     0                       0      1  1346976000   \n",
              "2                     1                       1      4  1219017600   \n",
              "3                     3                       3      2  1307923200   \n",
              "4                     0                       0      5  1350777600   \n",
              "\n",
              "                 Summary                                               Text  \n",
              "0  Good Quality Dog Food  I have bought several of the Vitality canned d...  \n",
              "1      Not as Advertised  Product arrived labeled as Jumbo Salted Peanut...  \n",
              "2  \"Delight\" says it all  This is a confection that has been around a fe...  \n",
              "3         Cough Medicine  If you are looking for the secret ingredient i...  \n",
              "4            Great taffy  Great taffy at a great price.  There was a wid...  "
            ]
          },
          "metadata": {
            "tags": []
          },
          "execution_count": 6
        }
      ]
    },
    {
      "metadata": {
        "id": "IcmNh_1vjEfU",
        "colab_type": "code",
        "colab": {}
      },
      "cell_type": "code",
      "source": [
        "# Give reviews with Score>3 a positive rating(1), and reviews with a score<3 a negative rating(0).\n",
        "def partition(x):\n",
        "    if x < 3:\n",
        "        return 0\n",
        "    return 1"
      ],
      "execution_count": 0,
      "outputs": []
    },
    {
      "metadata": {
        "id": "4kCEeex1jHeY",
        "colab_type": "code",
        "outputId": "089c9d9a-f211-4a76-8338-c2739f677286",
        "colab": {
          "base_uri": "https://localhost:8080/",
          "height": 690
        }
      },
      "cell_type": "code",
      "source": [
        "actual_score=filtered_data['Score']\n",
        "posnegative=actual_score.map(partition)\n",
        "filtered_data['Score']=posnegative\n",
        "filtered_data.head(5)"
      ],
      "execution_count": 8,
      "outputs": [
        {
          "output_type": "execute_result",
          "data": {
            "text/html": [
              "<div>\n",
              "<style scoped>\n",
              "    .dataframe tbody tr th:only-of-type {\n",
              "        vertical-align: middle;\n",
              "    }\n",
              "\n",
              "    .dataframe tbody tr th {\n",
              "        vertical-align: top;\n",
              "    }\n",
              "\n",
              "    .dataframe thead th {\n",
              "        text-align: right;\n",
              "    }\n",
              "</style>\n",
              "<table border=\"1\" class=\"dataframe\">\n",
              "  <thead>\n",
              "    <tr style=\"text-align: right;\">\n",
              "      <th></th>\n",
              "      <th>Id</th>\n",
              "      <th>ProductId</th>\n",
              "      <th>UserId</th>\n",
              "      <th>ProfileName</th>\n",
              "      <th>HelpfulnessNumerator</th>\n",
              "      <th>HelpfulnessDenominator</th>\n",
              "      <th>Score</th>\n",
              "      <th>Time</th>\n",
              "      <th>Summary</th>\n",
              "      <th>Text</th>\n",
              "    </tr>\n",
              "  </thead>\n",
              "  <tbody>\n",
              "    <tr>\n",
              "      <th>0</th>\n",
              "      <td>1</td>\n",
              "      <td>B001E4KFG0</td>\n",
              "      <td>A3SGXH7AUHU8GW</td>\n",
              "      <td>delmartian</td>\n",
              "      <td>1</td>\n",
              "      <td>1</td>\n",
              "      <td>1</td>\n",
              "      <td>1303862400</td>\n",
              "      <td>Good Quality Dog Food</td>\n",
              "      <td>I have bought several of the Vitality canned d...</td>\n",
              "    </tr>\n",
              "    <tr>\n",
              "      <th>1</th>\n",
              "      <td>2</td>\n",
              "      <td>B00813GRG4</td>\n",
              "      <td>A1D87F6ZCVE5NK</td>\n",
              "      <td>dll pa</td>\n",
              "      <td>0</td>\n",
              "      <td>0</td>\n",
              "      <td>0</td>\n",
              "      <td>1346976000</td>\n",
              "      <td>Not as Advertised</td>\n",
              "      <td>Product arrived labeled as Jumbo Salted Peanut...</td>\n",
              "    </tr>\n",
              "    <tr>\n",
              "      <th>2</th>\n",
              "      <td>3</td>\n",
              "      <td>B000LQOCH0</td>\n",
              "      <td>ABXLMWJIXXAIN</td>\n",
              "      <td>Natalia Corres \"Natalia Corres\"</td>\n",
              "      <td>1</td>\n",
              "      <td>1</td>\n",
              "      <td>1</td>\n",
              "      <td>1219017600</td>\n",
              "      <td>\"Delight\" says it all</td>\n",
              "      <td>This is a confection that has been around a fe...</td>\n",
              "    </tr>\n",
              "    <tr>\n",
              "      <th>3</th>\n",
              "      <td>4</td>\n",
              "      <td>B000UA0QIQ</td>\n",
              "      <td>A395BORC6FGVXV</td>\n",
              "      <td>Karl</td>\n",
              "      <td>3</td>\n",
              "      <td>3</td>\n",
              "      <td>0</td>\n",
              "      <td>1307923200</td>\n",
              "      <td>Cough Medicine</td>\n",
              "      <td>If you are looking for the secret ingredient i...</td>\n",
              "    </tr>\n",
              "    <tr>\n",
              "      <th>4</th>\n",
              "      <td>5</td>\n",
              "      <td>B006K2ZZ7K</td>\n",
              "      <td>A1UQRSCLF8GW1T</td>\n",
              "      <td>Michael D. Bigham \"M. Wassir\"</td>\n",
              "      <td>0</td>\n",
              "      <td>0</td>\n",
              "      <td>1</td>\n",
              "      <td>1350777600</td>\n",
              "      <td>Great taffy</td>\n",
              "      <td>Great taffy at a great price.  There was a wid...</td>\n",
              "    </tr>\n",
              "  </tbody>\n",
              "</table>\n",
              "</div>"
            ],
            "text/plain": [
              "   Id   ProductId          UserId                      ProfileName  \\\n",
              "0   1  B001E4KFG0  A3SGXH7AUHU8GW                       delmartian   \n",
              "1   2  B00813GRG4  A1D87F6ZCVE5NK                           dll pa   \n",
              "2   3  B000LQOCH0   ABXLMWJIXXAIN  Natalia Corres \"Natalia Corres\"   \n",
              "3   4  B000UA0QIQ  A395BORC6FGVXV                             Karl   \n",
              "4   5  B006K2ZZ7K  A1UQRSCLF8GW1T    Michael D. Bigham \"M. Wassir\"   \n",
              "\n",
              "   HelpfulnessNumerator  HelpfulnessDenominator  Score        Time  \\\n",
              "0                     1                       1      1  1303862400   \n",
              "1                     0                       0      0  1346976000   \n",
              "2                     1                       1      1  1219017600   \n",
              "3                     3                       3      0  1307923200   \n",
              "4                     0                       0      1  1350777600   \n",
              "\n",
              "                 Summary                                               Text  \n",
              "0  Good Quality Dog Food  I have bought several of the Vitality canned d...  \n",
              "1      Not as Advertised  Product arrived labeled as Jumbo Salted Peanut...  \n",
              "2  \"Delight\" says it all  This is a confection that has been around a fe...  \n",
              "3         Cough Medicine  If you are looking for the secret ingredient i...  \n",
              "4            Great taffy  Great taffy at a great price.  There was a wid...  "
            ]
          },
          "metadata": {
            "tags": []
          },
          "execution_count": 8
        }
      ]
    },
    {
      "metadata": {
        "id": "qqzp2HDGjMuS",
        "colab_type": "text"
      },
      "cell_type": "markdown",
      "source": [
        "# 2. Exploratory Data Analysis\n",
        "# 2.1 Data Cleaning: Deduplication\n",
        "It is observed (as shown in the table below) that the reviews data had many duplicate entries. Hence it was necessary to remove duplicates in order to get unbiased results for the analysis of the data."
      ]
    },
    {
      "metadata": {
        "id": "M07r41E3jcrB",
        "colab_type": "code",
        "outputId": "3c139e06-3422-4b13-a0a6-ecc544279274",
        "colab": {
          "base_uri": "https://localhost:8080/",
          "height": 35
        }
      },
      "cell_type": "code",
      "source": [
        "#Sorting data according to ProductId in ascending order\n",
        "sorted_data=filtered_data.sort_values('ProductId',axis=0,ascending=True)\n",
        "sorted_data.shape"
      ],
      "execution_count": 9,
      "outputs": [
        {
          "output_type": "execute_result",
          "data": {
            "text/plain": [
              "(525814, 10)"
            ]
          },
          "metadata": {
            "tags": []
          },
          "execution_count": 9
        }
      ]
    },
    {
      "metadata": {
        "id": "QkRjsIlxjicc",
        "colab_type": "code",
        "outputId": "41f75423-e841-4eb6-a4dd-6ec63d63dc74",
        "colab": {
          "base_uri": "https://localhost:8080/",
          "height": 35
        }
      },
      "cell_type": "code",
      "source": [
        "#Deduplication of entries\n",
        "final=sorted_data.drop_duplicates(subset={'UserId','ProfileName','Time','Text'},keep='first',inplace=False)\n",
        "final.shape"
      ],
      "execution_count": 10,
      "outputs": [
        {
          "output_type": "execute_result",
          "data": {
            "text/plain": [
              "(364173, 10)"
            ]
          },
          "metadata": {
            "tags": []
          },
          "execution_count": 10
        }
      ]
    },
    {
      "metadata": {
        "id": "iI13Rkx_jotz",
        "colab_type": "text"
      },
      "cell_type": "markdown",
      "source": [
        "**Observation**:- bold text It was also seen that in two rows given below the value of HelpfulnessNumerator is greater than HelpfulnessDenominator which is not practically possible hence these two rows too are removed from calcualtions\n",
        "\n"
      ]
    },
    {
      "metadata": {
        "id": "etLKfyaUjmkL",
        "colab_type": "code",
        "outputId": "2e4e72b7-1965-4905-bff0-cc4a6e97f251",
        "colab": {
          "base_uri": "https://localhost:8080/",
          "height": 35
        }
      },
      "cell_type": "code",
      "source": [
        "final=final[final.HelpfulnessNumerator<=final.HelpfulnessDenominator]\n",
        "final.shape"
      ],
      "execution_count": 11,
      "outputs": [
        {
          "output_type": "execute_result",
          "data": {
            "text/plain": [
              "(364171, 10)"
            ]
          },
          "metadata": {
            "tags": []
          },
          "execution_count": 11
        }
      ]
    },
    {
      "metadata": {
        "id": "tfHdqphKjx5O",
        "colab_type": "code",
        "outputId": "ee193476-9822-4391-9034-d943e0f65310",
        "colab": {
          "base_uri": "https://localhost:8080/",
          "height": 69
        }
      },
      "cell_type": "code",
      "source": [
        "final['Score'].value_counts()"
      ],
      "execution_count": 12,
      "outputs": [
        {
          "output_type": "execute_result",
          "data": {
            "text/plain": [
              "1    307061\n",
              "0     57110\n",
              "Name: Score, dtype: int64"
            ]
          },
          "metadata": {
            "tags": []
          },
          "execution_count": 12
        }
      ]
    },
    {
      "metadata": {
        "id": "wK0CmiL7j2Wt",
        "colab_type": "text"
      },
      "cell_type": "markdown",
      "source": [
        "# 3. Preprocessing\n",
        "In the Preprocessing phase we do the following in the order below:-\n",
        "\n",
        "1.Begin by removing the linksand html tags\n",
        "\n",
        "2.Expand English language contractions and Remove any punctuations or limited set of special characters like , or . or # etc.\n",
        "\n",
        "3.Check if the word is made up of english letters and is not alpha-numeric\n",
        "\n",
        "4.Check to see if the length of the word is greater than 2 (as it was researched that there is no adjective in 2-letters)\n",
        "\n",
        "5.Convert the word to lowercase\n",
        "\n",
        "6.Remove Stopwords\n",
        "\n",
        "7.Finally Snowball Stemming the word (it was obsereved to be better than Porter Stemming)"
      ]
    },
    {
      "metadata": {
        "id": "ZNEQZGx8j5BT",
        "colab_type": "code",
        "outputId": "00617b79-302f-4c48-a51e-7cc8c6ea3bba",
        "colab": {
          "base_uri": "https://localhost:8080/",
          "height": 433
        }
      },
      "cell_type": "code",
      "source": [
        "#print(link)\n",
        "for i in range(0,1000):\n",
        "  links=re.findall(r'http\\S+',final['Text'].values[i])\n",
        "  for link in links:\n",
        "    print(link)"
      ],
      "execution_count": 13,
      "outputs": [
        {
          "output_type": "stream",
          "text": [
            "http://www.amazon.com/gp/product/B0002DGRSY\">Pro-Treat\n",
            "http://www.amazon.com/gp/product/B0019O5Z0Q\">Charlee\n",
            "http://www.amazon.com/VICTOR-FLY-MAGNET-BAIT-REFILL/dp/B00004RBDY<br\n",
            "http://www.amazon.com/gp/product/B0088EDMMS\">Hocus\n",
            "http://www.amazon.com/gp/product/B001AGXEAG\">Beetlejuice\n",
            "http://www.amazon.com/gp/product/B001AGXEAG\">here</a>.\n",
            "http://www.amazon.com/gp/product/B001AGXEA6\">here</a>.\n",
            "http://www.amazon.com/gp/product/0790700506\">Gremlins</a><br\n",
            "http://www.amazon.com/gp/product/6301871952\">Gremlins\n",
            "http://www.amazon.com/gp/product/6303347657\">Mask</a><br\n",
            "http://www.amazon.com/gp/product/6304826141\">Rocketman</a><br\n",
            "http://www.amazon.com/gp/product/B001B504LI\">The\n",
            "http://www.amazon.com/gp/product/B001AGXEA6\">Beetlejuice\n",
            "http://www.amazon.com/gp/product/B00004RAMX\">Victor\n",
            "http://www.amazon.com/gp/product/B00004RAMY\">Victor\n",
            "http://www.amazon.com/gp/product/B00004RAMY\">Victor\n",
            "http://www.amazon.com/gp/product/B001VJ3FP6\">SentryHOME\n",
            "http://www.amazon.com/gp/product/B0051GCTAW\">Fiproguard\n",
            "http://www.amazon.com/gp/product/B000668Z96\">Victor\n",
            "http://www.amazon.com/gp/product/B000668Z96\">Victor\n",
            "http://www.amazon.com/gp/product/B000BQRQ8C\">Rescue\n",
            "http://www.amazon.com/gp/product/B00004RBDZ\">Victor\n",
            "http://www.amazon.com/gp/product/B00005344V\">Traditional\n",
            "http://www.amazon.com/gp/product/B00005C2M2\">Astronaut\n"
          ],
          "name": "stdout"
        }
      ]
    },
    {
      "metadata": {
        "id": "ESXW3P4WkAOQ",
        "colab_type": "code",
        "colab": {}
      },
      "cell_type": "code",
      "source": [
        "for i in range(0,364171):\n",
        "  final['Text'].values[i] = re.sub(r\"http\\S+\", \"\", final['Text'].values[i])"
      ],
      "execution_count": 0,
      "outputs": []
    },
    {
      "metadata": {
        "id": "vED8DSMakE5W",
        "colab_type": "code",
        "colab": {}
      },
      "cell_type": "code",
      "source": [
        "#Remove HTML tags\n",
        "from bs4 import BeautifulSoup\n",
        "for i in range(1,364171):\n",
        "  soup = BeautifulSoup(final['Text'].values[i],'lxml')\n",
        "  text = soup.get_text()\n",
        "  final['Text'].values[i]=text"
      ],
      "execution_count": 0,
      "outputs": []
    },
    {
      "metadata": {
        "id": "yss9cy_QkIzo",
        "colab_type": "code",
        "colab": {}
      },
      "cell_type": "code",
      "source": [
        "#Expanding English language contractions\n",
        "def decontracted(phrase):\n",
        "  # specific\n",
        "  phrase = re.sub(r\"won\\'t\", \"will not\", phrase)\n",
        "  phrase = re.sub(r\"can\\'t\", \"can not\", phrase)\n",
        "\n",
        "  # general\n",
        "  phrase = re.sub(r\"n\\'t\", \" not\", phrase)\n",
        "  phrase = re.sub(r\"\\'re\", \" are\", phrase)\n",
        "  phrase = re.sub(r\"\\'s\", \" is\", phrase)\n",
        "  phrase = re.sub(r\"\\'d\", \" would\", phrase)\n",
        "  phrase = re.sub(r\"\\'ll\", \" will\", phrase)\n",
        "  phrase = re.sub(r\"\\'t\", \" not\", phrase)\n",
        "  phrase = re.sub(r\"\\'ve\", \" have\", phrase)\n",
        "  phrase = re.sub(r\"\\'m\", \" am\", phrase)\n",
        "  return phrase\n"
      ],
      "execution_count": 0,
      "outputs": []
    },
    {
      "metadata": {
        "id": "g0ZPPWRrkMUm",
        "colab_type": "code",
        "colab": {}
      },
      "cell_type": "code",
      "source": [
        "for i in range(0,364171):\n",
        "  #print(final['Text'].values[i])\n",
        "  final['Text'].values[i]=decontracted(final['Text'].values[i])\n",
        "  #print(final['Text'].values[i])"
      ],
      "execution_count": 0,
      "outputs": []
    },
    {
      "metadata": {
        "id": "qpwomVP1kY5B",
        "colab_type": "code",
        "colab": {}
      },
      "cell_type": "code",
      "source": [
        "#remove words with numbers python\n",
        "for i in range(1,364171):\n",
        "  #print(final['Text'].values[i])\n",
        "  final['Text'].values[i] = re.sub(\"\\S*\\d\\S*\", \"\", final['Text'].values[i]).strip()\n",
        "  #print(final['Text'].values[i])"
      ],
      "execution_count": 0,
      "outputs": []
    },
    {
      "metadata": {
        "id": "47nYnNzYkcu2",
        "colab_type": "code",
        "colab": {}
      },
      "cell_type": "code",
      "source": [
        "#remove spacial character:\n",
        "for i in range(1,364171):\n",
        "  final['Text'].values[i]= re.sub('[^A-Za-z0-9]+', ' ', final['Text'].values[i])\n"
      ],
      "execution_count": 0,
      "outputs": []
    },
    {
      "metadata": {
        "id": "wdxr3k_2kjLq",
        "colab_type": "code",
        "colab": {}
      },
      "cell_type": "code",
      "source": [
        "#Remove punctution\n",
        "for i in range(1,364171):\n",
        "  final['Text'].values[i]= re.sub(r'[!|#|$\\%|&|*|?|,|.|\\'|/|\"|)|(]',r'', final['Text'].values[i])"
      ],
      "execution_count": 0,
      "outputs": []
    },
    {
      "metadata": {
        "id": "4JEtffX5komo",
        "colab_type": "code",
        "colab": {}
      },
      "cell_type": "code",
      "source": [
        "# https://gist.github.com/sebleier/554280\n",
        "# we are removing the words from the stop words list: 'no', 'nor', 'not'\n",
        "# <br /><br /> ==> after the above steps, we are getting \"br br\"\n",
        "# we are including them into stop words list\n",
        "# instead of <br /> if we have <br/> these tags would have revmoved in the 1st step\n",
        "\n",
        "stopwords= set(['br', 'the', 'i', 'me', 'my', 'myself', 'we', 'our', 'ours', 'ourselves', 'you', \"you're\", \"you've\",\\\n",
        "            \"you'll\", \"you'd\", 'your', 'yours', 'yourself', 'yourselves', 'he', 'him', 'his', 'himself', \\\n",
        "            'she', \"she's\", 'her', 'hers', 'herself', 'it', \"it's\", 'its', 'itself', 'they', 'them', 'their',\\\n",
        "            'theirs', 'themselves', 'what', 'which', 'who', 'whom', 'this', 'that', \"that'll\", 'these', 'those', \\\n",
        "            'am', 'is', 'are', 'was', 'were', 'be', 'been', 'being', 'have', 'has', 'had', 'having', 'do', 'does', \\\n",
        "            'did', 'doing', 'a', 'an', 'the', 'and', 'but', 'if', 'or', 'because', 'as', 'until', 'while', 'of', \\\n",
        "            'at', 'by', 'for', 'with', 'about', 'against', 'between', 'into', 'through', 'during', 'before', 'after',\\\n",
        "            'above', 'below', 'to', 'from', 'up', 'down', 'in', 'out', 'on', 'off', 'over', 'under', 'again', 'further',\\\n",
        "            'then', 'once', 'here', 'there', 'when', 'where', 'why', 'how', 'all', 'any', 'both', 'each', 'few', 'more',\\\n",
        "            'most', 'other', 'some', 'such', 'only', 'own', 'same', 'so', 'than', 'too', 'very', \\\n",
        "            's', 't', 'can', 'will', 'just', 'don', \"don't\", 'should', \"should've\", 'now', 'd', 'll', 'm', 'o', 're', \\\n",
        "            've', 'y', 'ain', 'aren', \"aren't\", 'couldn', \"couldn't\", 'didn', \"didn't\", 'doesn', \"doesn't\", 'hadn',\\\n",
        "            \"hadn't\", 'hasn', \"hasn't\", 'haven', \"haven't\", 'isn', \"isn't\", 'ma', 'mightn', \"mightn't\", 'mustn',\\\n",
        "            \"mustn't\", 'needn', \"needn't\", 'shan', \"shan't\", 'shouldn', \"shouldn't\", 'wasn', \"wasn't\", 'weren', \"weren't\", \\\n",
        "            'won', \"won't\", 'wouldn', \"wouldn't\"])"
      ],
      "execution_count": 0,
      "outputs": []
    },
    {
      "metadata": {
        "id": "yy4IqUCnksdX",
        "colab_type": "code",
        "outputId": "20a97f52-2b45-44a5-96c0-3db94e7f2fba",
        "colab": {
          "base_uri": "https://localhost:8080/",
          "height": 35
        }
      },
      "cell_type": "code",
      "source": [
        "#tqdm\n",
        "#Instantly make your loops show a smart progress meter\n",
        "# just wrap any iterable with tqdm(iterable), and you’re done!\n",
        "from tqdm import tqdm\n",
        "preprocessed_reviews = []\n",
        "for i in tqdm(range(0,364171)):\n",
        "  sentence=\"\"\n",
        "  #print(final['Text'].values[i])\n",
        "  for word in final['Text'].values[i].split():\n",
        "    #print(word)\n",
        "    word =word.lower()\n",
        "    if word not in stopwords:\n",
        "      sentence+=\" \"+word\n",
        "  #print(sentence)\n",
        "  preprocessed_reviews.append(sentence.strip())"
      ],
      "execution_count": 22,
      "outputs": [
        {
          "output_type": "stream",
          "text": [
            "100%|██████████| 364171/364171 [00:16<00:00, 22657.46it/s]\n"
          ],
          "name": "stderr"
        }
      ]
    },
    {
      "metadata": {
        "id": "RkdQZ0vYkxlY",
        "colab_type": "code",
        "outputId": "706b0e94-2582-443c-bcdb-0be1d8d3e5e4",
        "colab": {
          "base_uri": "https://localhost:8080/",
          "height": 55
        }
      },
      "cell_type": "code",
      "source": [
        "preprocessed_reviews[364170]"
      ],
      "execution_count": 23,
      "outputs": [
        {
          "output_type": "execute_result",
          "data": {
            "text/plain": [
              "'purchased send son away college delivered right dorm room fast shipping loved much called thank sadly hardly ever calls anymore want kids call home good snack get midterms send'"
            ]
          },
          "metadata": {
            "tags": []
          },
          "execution_count": 23
        }
      ]
    },
    {
      "metadata": {
        "id": "uInMfiomk1wK",
        "colab_type": "code",
        "outputId": "875107cf-9b3d-4b6b-b680-1f734aeedb3a",
        "colab": {
          "base_uri": "https://localhost:8080/",
          "height": 777
        }
      },
      "cell_type": "code",
      "source": [
        "final['Cleaned_text']=preprocessed_reviews\n",
        "final.head()"
      ],
      "execution_count": 24,
      "outputs": [
        {
          "output_type": "execute_result",
          "data": {
            "text/html": [
              "<div>\n",
              "<style scoped>\n",
              "    .dataframe tbody tr th:only-of-type {\n",
              "        vertical-align: middle;\n",
              "    }\n",
              "\n",
              "    .dataframe tbody tr th {\n",
              "        vertical-align: top;\n",
              "    }\n",
              "\n",
              "    .dataframe thead th {\n",
              "        text-align: right;\n",
              "    }\n",
              "</style>\n",
              "<table border=\"1\" class=\"dataframe\">\n",
              "  <thead>\n",
              "    <tr style=\"text-align: right;\">\n",
              "      <th></th>\n",
              "      <th>Id</th>\n",
              "      <th>ProductId</th>\n",
              "      <th>UserId</th>\n",
              "      <th>ProfileName</th>\n",
              "      <th>HelpfulnessNumerator</th>\n",
              "      <th>HelpfulnessDenominator</th>\n",
              "      <th>Score</th>\n",
              "      <th>Time</th>\n",
              "      <th>Summary</th>\n",
              "      <th>Text</th>\n",
              "      <th>Cleaned_text</th>\n",
              "    </tr>\n",
              "  </thead>\n",
              "  <tbody>\n",
              "    <tr>\n",
              "      <th>138706</th>\n",
              "      <td>150524</td>\n",
              "      <td>0006641040</td>\n",
              "      <td>ACITT7DI6IDDL</td>\n",
              "      <td>shari zychinski</td>\n",
              "      <td>0</td>\n",
              "      <td>0</td>\n",
              "      <td>1</td>\n",
              "      <td>939340800</td>\n",
              "      <td>EVERY book is educational</td>\n",
              "      <td>this witty little book makes my son laugh at l...</td>\n",
              "      <td>witty little book makes son laugh loud. recite...</td>\n",
              "    </tr>\n",
              "    <tr>\n",
              "      <th>138688</th>\n",
              "      <td>150506</td>\n",
              "      <td>0006641040</td>\n",
              "      <td>A2IW4PEEKO2R0U</td>\n",
              "      <td>Tracy</td>\n",
              "      <td>1</td>\n",
              "      <td>1</td>\n",
              "      <td>1</td>\n",
              "      <td>1194739200</td>\n",
              "      <td>Love the book, miss the hard cover version</td>\n",
              "      <td>I grew up reading these Sendak books and watch...</td>\n",
              "      <td>grew reading sendak books watching really rosi...</td>\n",
              "    </tr>\n",
              "    <tr>\n",
              "      <th>138689</th>\n",
              "      <td>150507</td>\n",
              "      <td>0006641040</td>\n",
              "      <td>A1S4A3IQ2MU7V4</td>\n",
              "      <td>sally sue \"sally sue\"</td>\n",
              "      <td>1</td>\n",
              "      <td>1</td>\n",
              "      <td>1</td>\n",
              "      <td>1191456000</td>\n",
              "      <td>chicken soup with rice months</td>\n",
              "      <td>This is a fun way for children to learn their ...</td>\n",
              "      <td>fun way children learn months year learn poems...</td>\n",
              "    </tr>\n",
              "    <tr>\n",
              "      <th>138690</th>\n",
              "      <td>150508</td>\n",
              "      <td>0006641040</td>\n",
              "      <td>AZGXZ2UUK6X</td>\n",
              "      <td>Catherine Hallberg \"(Kate)\"</td>\n",
              "      <td>1</td>\n",
              "      <td>1</td>\n",
              "      <td>1</td>\n",
              "      <td>1076025600</td>\n",
              "      <td>a good swingy rhythm for reading aloud</td>\n",
              "      <td>This is a great little book to read aloud it h...</td>\n",
              "      <td>great little book read aloud nice rhythm well ...</td>\n",
              "    </tr>\n",
              "    <tr>\n",
              "      <th>138691</th>\n",
              "      <td>150509</td>\n",
              "      <td>0006641040</td>\n",
              "      <td>A3CMRKGE0P909G</td>\n",
              "      <td>Teresa</td>\n",
              "      <td>3</td>\n",
              "      <td>4</td>\n",
              "      <td>1</td>\n",
              "      <td>1018396800</td>\n",
              "      <td>A great way to learn the months</td>\n",
              "      <td>This is a book of poetry about the months of t...</td>\n",
              "      <td>book poetry months year goes month cute little...</td>\n",
              "    </tr>\n",
              "  </tbody>\n",
              "</table>\n",
              "</div>"
            ],
            "text/plain": [
              "            Id   ProductId          UserId                  ProfileName  \\\n",
              "138706  150524  0006641040   ACITT7DI6IDDL              shari zychinski   \n",
              "138688  150506  0006641040  A2IW4PEEKO2R0U                        Tracy   \n",
              "138689  150507  0006641040  A1S4A3IQ2MU7V4        sally sue \"sally sue\"   \n",
              "138690  150508  0006641040     AZGXZ2UUK6X  Catherine Hallberg \"(Kate)\"   \n",
              "138691  150509  0006641040  A3CMRKGE0P909G                       Teresa   \n",
              "\n",
              "        HelpfulnessNumerator  HelpfulnessDenominator  Score        Time  \\\n",
              "138706                     0                       0      1   939340800   \n",
              "138688                     1                       1      1  1194739200   \n",
              "138689                     1                       1      1  1191456000   \n",
              "138690                     1                       1      1  1076025600   \n",
              "138691                     3                       4      1  1018396800   \n",
              "\n",
              "                                           Summary  \\\n",
              "138706                   EVERY book is educational   \n",
              "138688  Love the book, miss the hard cover version   \n",
              "138689               chicken soup with rice months   \n",
              "138690      a good swingy rhythm for reading aloud   \n",
              "138691             A great way to learn the months   \n",
              "\n",
              "                                                     Text  \\\n",
              "138706  this witty little book makes my son laugh at l...   \n",
              "138688  I grew up reading these Sendak books and watch...   \n",
              "138689  This is a fun way for children to learn their ...   \n",
              "138690  This is a great little book to read aloud it h...   \n",
              "138691  This is a book of poetry about the months of t...   \n",
              "\n",
              "                                             Cleaned_text  \n",
              "138706  witty little book makes son laugh loud. recite...  \n",
              "138688  grew reading sendak books watching really rosi...  \n",
              "138689  fun way children learn months year learn poems...  \n",
              "138690  great little book read aloud nice rhythm well ...  \n",
              "138691  book poetry months year goes month cute little...  "
            ]
          },
          "metadata": {
            "tags": []
          },
          "execution_count": 24
        }
      ]
    },
    {
      "metadata": {
        "id": "UlSREDKBlQ5h",
        "colab_type": "code",
        "colab": {}
      },
      "cell_type": "code",
      "source": [
        "#Randomly sample Data 100k points\n",
        "random_sample_data = final.sample(n=100000) "
      ],
      "execution_count": 0,
      "outputs": []
    },
    {
      "metadata": {
        "id": "CEB6f4F-2yon",
        "colab_type": "code",
        "colab": {}
      },
      "cell_type": "code",
      "source": [
        "#Randomly sample Data 20k points\n",
        "random_sample_data_rbf = final.sample(n=20000) "
      ],
      "execution_count": 0,
      "outputs": []
    },
    {
      "metadata": {
        "id": "7c08A_pklSEw",
        "colab_type": "code",
        "colab": {}
      },
      "cell_type": "code",
      "source": [
        "final_sorted_time=random_sample_data.sort_values('Time',ascending=True,axis=0)"
      ],
      "execution_count": 0,
      "outputs": []
    },
    {
      "metadata": {
        "id": "H0h64MyM3F64",
        "colab_type": "code",
        "colab": {}
      },
      "cell_type": "code",
      "source": [
        "final_sorted_time_rbf=random_sample_data_rbf.sort_values('Time',ascending=True,axis=0)"
      ],
      "execution_count": 0,
      "outputs": []
    },
    {
      "metadata": {
        "id": "BPV04JLnlfZS",
        "colab_type": "text"
      },
      "cell_type": "markdown",
      "source": [
        "**Time dependent Splitting**"
      ]
    },
    {
      "metadata": {
        "id": "fg8RK8HpljZR",
        "colab_type": "code",
        "colab": {}
      },
      "cell_type": "code",
      "source": [
        "y_Train=final_sorted_time['Score'][0:70000]\n",
        "y_train=final_sorted_time['Score'][0:49000]\n",
        "y_cv=final_sorted_time['Score'][49000:70000]\n",
        "y_test=final_sorted_time['Score'][70000:100000]"
      ],
      "execution_count": 0,
      "outputs": []
    },
    {
      "metadata": {
        "id": "C2WCrri23O3V",
        "colab_type": "code",
        "colab": {}
      },
      "cell_type": "code",
      "source": [
        "y_Train_rbf=final_sorted_time_rbf['Score'][0:14000]\n",
        "y_train_rbf=final_sorted_time_rbf['Score'][0:9800]\n",
        "y_cv_rbf=final_sorted_time_rbf['Score'][9800:14000]\n",
        "y_test_rbf=final_sorted_time_rbf['Score'][14000:20000]"
      ],
      "execution_count": 0,
      "outputs": []
    },
    {
      "metadata": {
        "id": "j7OyUr9olny8",
        "colab_type": "code",
        "outputId": "fb28161c-1a12-41f9-bd15-13c5d8b9579c",
        "colab": {
          "base_uri": "https://localhost:8080/",
          "height": 69
        }
      },
      "cell_type": "code",
      "source": [
        "y_train.value_counts()"
      ],
      "execution_count": 31,
      "outputs": [
        {
          "output_type": "execute_result",
          "data": {
            "text/plain": [
              "1    42075\n",
              "0     6925\n",
              "Name: Score, dtype: int64"
            ]
          },
          "metadata": {
            "tags": []
          },
          "execution_count": 31
        }
      ]
    },
    {
      "metadata": {
        "id": "ooFTcDiH3mcn",
        "colab_type": "code",
        "outputId": "a5e2deca-bba1-4fb3-d488-71e119988e05",
        "colab": {
          "base_uri": "https://localhost:8080/",
          "height": 69
        }
      },
      "cell_type": "code",
      "source": [
        "y_train_rbf.value_counts()"
      ],
      "execution_count": 32,
      "outputs": [
        {
          "output_type": "execute_result",
          "data": {
            "text/plain": [
              "1    8461\n",
              "0    1339\n",
              "Name: Score, dtype: int64"
            ]
          },
          "metadata": {
            "tags": []
          },
          "execution_count": 32
        }
      ]
    },
    {
      "metadata": {
        "id": "Tz7D7J3ClrKA",
        "colab_type": "code",
        "outputId": "699afe16-2d2e-4c83-df12-ce31aaf81120",
        "colab": {
          "base_uri": "https://localhost:8080/",
          "height": 69
        }
      },
      "cell_type": "code",
      "source": [
        "y_Train.value_counts()"
      ],
      "execution_count": 33,
      "outputs": [
        {
          "output_type": "execute_result",
          "data": {
            "text/plain": [
              "1    59480\n",
              "0    10520\n",
              "Name: Score, dtype: int64"
            ]
          },
          "metadata": {
            "tags": []
          },
          "execution_count": 33
        }
      ]
    },
    {
      "metadata": {
        "id": "jBa90OVK3u5X",
        "colab_type": "code",
        "outputId": "7fa8a122-837e-4f5c-e835-f7e2708137e7",
        "colab": {
          "base_uri": "https://localhost:8080/",
          "height": 69
        }
      },
      "cell_type": "code",
      "source": [
        "y_Train_rbf.value_counts()"
      ],
      "execution_count": 34,
      "outputs": [
        {
          "output_type": "execute_result",
          "data": {
            "text/plain": [
              "1    11952\n",
              "0     2048\n",
              "Name: Score, dtype: int64"
            ]
          },
          "metadata": {
            "tags": []
          },
          "execution_count": 34
        }
      ]
    },
    {
      "metadata": {
        "id": "SCeu3MN9lzpT",
        "colab_type": "code",
        "colab": {}
      },
      "cell_type": "code",
      "source": [
        "Train_data=final_sorted_time['Cleaned_text'][0:70000]\n",
        "train_data=final_sorted_time['Cleaned_text'][0:49000]\n",
        "cv_data=final_sorted_time['Cleaned_text'][49000:70000]\n",
        "test_data=final_sorted_time['Cleaned_text'][70000:100000]"
      ],
      "execution_count": 0,
      "outputs": []
    },
    {
      "metadata": {
        "id": "NWrU-13S3025",
        "colab_type": "code",
        "colab": {}
      },
      "cell_type": "code",
      "source": [
        "Train_data_rbf=final_sorted_time_rbf['Cleaned_text'][0:14000]\n",
        "train_data_rbf=final_sorted_time_rbf['Cleaned_text'][0:9800]\n",
        "cv_data_rbf=final_sorted_time_rbf['Cleaned_text'][9800:14000]\n",
        "test_data_rbf=final_sorted_time_rbf['Cleaned_text'][14000:20000]"
      ],
      "execution_count": 0,
      "outputs": []
    },
    {
      "metadata": {
        "id": "VaDIZqZarRU1",
        "colab_type": "text"
      },
      "cell_type": "markdown",
      "source": [
        "# 4. Featurization"
      ]
    },
    {
      "metadata": {
        "id": "QB_fvZjgmMAY",
        "colab_type": "text"
      },
      "cell_type": "markdown",
      "source": [
        "# 4.1Bag of Words"
      ]
    },
    {
      "metadata": {
        "id": "qhDwTNsGmT3O",
        "colab_type": "code",
        "colab": {}
      },
      "cell_type": "code",
      "source": [
        "count_vector=CountVectorizer()\n",
        "count_vector.fit(train_data)\n",
        "train_bows=count_vector.transform(train_data)\n",
        "cv_bows=count_vector.transform(cv_data)\n",
        "Train_bows=count_vector.transform(Train_data)\n",
        "test_bows=count_vector.transform(test_data)"
      ],
      "execution_count": 0,
      "outputs": []
    },
    {
      "metadata": {
        "id": "gT6Cx2jV4owC",
        "colab_type": "code",
        "colab": {}
      },
      "cell_type": "code",
      "source": [
        "count_vector_rbf=CountVectorizer(min_df = 10, max_features = 500)\n",
        "count_vector_rbf.fit(train_data_rbf)\n",
        "train_bows_rbf=count_vector_rbf.transform(train_data_rbf)\n",
        "cv_bows_rbf=count_vector_rbf.transform(cv_data_rbf)\n",
        "Train_bows_rbf=count_vector.transform(Train_data_rbf)\n",
        "test_bows_rbf=count_vector.transform(test_data_rbf)"
      ],
      "execution_count": 0,
      "outputs": []
    },
    {
      "metadata": {
        "id": "QHSeHqKfr2SW",
        "colab_type": "text"
      },
      "cell_type": "markdown",
      "source": [
        "# 4.2 TFIDF"
      ]
    },
    {
      "metadata": {
        "id": "nz_Zfw7Mr4j8",
        "colab_type": "code",
        "colab": {}
      },
      "cell_type": "code",
      "source": [
        "tfidf_vector=TfidfVectorizer()\n",
        "tfidf_vector.fit(train_data)\n",
        "train_tfidf=tfidf_vector.transform(train_data)\n",
        "cv_tfidf=tfidf_vector.transform(cv_data)\n",
        "Train_tfidf=tfidf_vector.transform(Train_data)\n",
        "test_tfidf=tfidf_vector.transform(test_data)"
      ],
      "execution_count": 0,
      "outputs": []
    },
    {
      "metadata": {
        "id": "rUNrU3OY5TPk",
        "colab_type": "code",
        "colab": {}
      },
      "cell_type": "code",
      "source": [
        "tfidf_vector_rbf=TfidfVectorizer()\n",
        "tfidf_vector_rbf.fit(train_data_rbf)\n",
        "train_tfidf_rbf=tfidf_vector_rbf.transform(train_data_rbf)\n",
        "cv_tfidf_rbf=tfidf_vector_rbf.transform(cv_data_rbf)\n",
        "Train_tfidf_rbf=tfidf_vector_rbf.transform(Train_data_rbf)\n",
        "test_tfidf_rbf=tfidf_vector_rbf.transform(test_data_rbf)"
      ],
      "execution_count": 0,
      "outputs": []
    },
    {
      "metadata": {
        "id": "fmrhZRZZr839",
        "colab_type": "text"
      },
      "cell_type": "markdown",
      "source": [
        "# 4.3 Word2Vec"
      ]
    },
    {
      "metadata": {
        "id": "-VC2xTy9siES",
        "colab_type": "code",
        "colab": {}
      },
      "cell_type": "code",
      "source": [
        "import gensim\n",
        "from gensim.models import Word2Vec"
      ],
      "execution_count": 0,
      "outputs": []
    },
    {
      "metadata": {
        "id": "0YHY1mZEsFAS",
        "colab_type": "code",
        "colab": {}
      },
      "cell_type": "code",
      "source": [
        "#Train own W2V with train data\n",
        "i=0\n",
        "list_of_sentence=[]\n",
        "for sent in train_data.values:\n",
        "  list_of_sentence.append(sent.split())"
      ],
      "execution_count": 0,
      "outputs": []
    },
    {
      "metadata": {
        "id": "Oa95S0lOsIre",
        "colab_type": "code",
        "colab": {}
      },
      "cell_type": "code",
      "source": [
        "w2v_model=gensim.models.Word2Vec(list_of_sentence,min_count=5,size=50,workers=4)"
      ],
      "execution_count": 0,
      "outputs": []
    },
    {
      "metadata": {
        "id": "tY59e3e9sygJ",
        "colab_type": "code",
        "colab": {}
      },
      "cell_type": "code",
      "source": [
        "w2v_words = list(w2v_model.wv.vocab)"
      ],
      "execution_count": 0,
      "outputs": []
    },
    {
      "metadata": {
        "id": "xgJBDQcKs21K",
        "colab_type": "code",
        "outputId": "47a7cff8-3f44-4d74-c3ba-2322cd4ac5a4",
        "colab": {
          "base_uri": "https://localhost:8080/",
          "height": 52
        }
      },
      "cell_type": "code",
      "source": [
        "# Average W2V with training Data\n",
        "sent_vectors = []; # the avg-w2v for each sentence/review is stored in this list\n",
        "for sent in list_of_sentence: # for each review/sentence\n",
        "    sent_vec = np.zeros(50) # as word vectors are of zero length 50, you might need to change this to 300 if you use google's w2v\n",
        "    cnt_words =0; # num of words with a valid vector in the sentence/review\n",
        "    for word in sent: # for each word in a review/sentence\n",
        "        if word in w2v_words:\n",
        "            vec = w2v_model.wv[word]\n",
        "            #print(\"vec= \",vec)\n",
        "            sent_vec += vec\n",
        "            cnt_words += 1\n",
        "    if cnt_words != 0:\n",
        "        sent_vec /= cnt_words\n",
        "    sent_vectors.append(sent_vec)\n",
        "print(len(sent_vectors))\n",
        "#print(sent_vectors)\n",
        "print(len(sent_vectors[0]))"
      ],
      "execution_count": 56,
      "outputs": [
        {
          "output_type": "stream",
          "text": [
            "49000\n",
            "50\n"
          ],
          "name": "stdout"
        }
      ]
    },
    {
      "metadata": {
        "id": "Nalzx3ZJs8ZS",
        "colab_type": "code",
        "colab": {}
      },
      "cell_type": "code",
      "source": [
        "#Train own W2V with cv data\n",
        "i=0\n",
        "list_of_sentence_cv=[]\n",
        "for sent in cv_data.values:\n",
        "  list_of_sentence_cv.append(sent.split())"
      ],
      "execution_count": 0,
      "outputs": []
    },
    {
      "metadata": {
        "id": "3SC1Eca2tHZA",
        "colab_type": "code",
        "colab": {}
      },
      "cell_type": "code",
      "source": [
        "w2v_model_cv=gensim.models.Word2Vec(list_of_sentence_cv,min_count=5,size=50,workers=4)"
      ],
      "execution_count": 0,
      "outputs": []
    },
    {
      "metadata": {
        "id": "Bas0AsFPtKDA",
        "colab_type": "code",
        "colab": {}
      },
      "cell_type": "code",
      "source": [
        "w2v_words_cv = list(w2v_model_cv.wv.vocab)"
      ],
      "execution_count": 0,
      "outputs": []
    },
    {
      "metadata": {
        "id": "qNWkG66btM40",
        "colab_type": "code",
        "outputId": "1ee8b713-2f5d-48af-e542-02bdcb67acd7",
        "colab": {
          "base_uri": "https://localhost:8080/",
          "height": 52
        }
      },
      "cell_type": "code",
      "source": [
        "# Average W2V with cv Data\n",
        "sent_vectors_cv = []; # the avg-w2v for each sentence/review is stored in this list\n",
        "for sent in list_of_sentence_cv: # for each review/sentence\n",
        "    sent_vec = np.zeros(50) # as word vectors are of zero length 50, you might need to change this to 300 if you use google's w2v\n",
        "    cnt_words =0; # num of words with a valid vector in the sentence/review\n",
        "    for word in sent: # for each word in a review/sentence\n",
        "        if word in w2v_words_cv:\n",
        "            vec = w2v_model_cv.wv[word]\n",
        "            #print(\"vec= \",vec)\n",
        "            sent_vec += vec\n",
        "            cnt_words += 1\n",
        "    if cnt_words != 0:\n",
        "        sent_vec /= cnt_words\n",
        "    sent_vectors_cv.append(sent_vec)\n",
        "print(len(sent_vectors_cv))\n",
        "#print(sent_vectors)\n",
        "print(len(sent_vectors_cv[0]))"
      ],
      "execution_count": 60,
      "outputs": [
        {
          "output_type": "stream",
          "text": [
            "21000\n",
            "50\n"
          ],
          "name": "stdout"
        }
      ]
    },
    {
      "metadata": {
        "id": "zX24OVXXtXbs",
        "colab_type": "code",
        "colab": {}
      },
      "cell_type": "code",
      "source": [
        "#Train own W2V with Test data\n",
        "i=0\n",
        "list_of_sentence_test=[]\n",
        "for sent in test_data.values:\n",
        "  list_of_sentence_test.append(sent.split())"
      ],
      "execution_count": 0,
      "outputs": []
    },
    {
      "metadata": {
        "id": "U-tpFxWYtp5u",
        "colab_type": "code",
        "colab": {}
      },
      "cell_type": "code",
      "source": [
        "w2v_model_test=gensim.models.Word2Vec(list_of_sentence_test,min_count=5,size=50,workers=4)"
      ],
      "execution_count": 0,
      "outputs": []
    },
    {
      "metadata": {
        "id": "bb1aCvx1twQW",
        "colab_type": "code",
        "colab": {}
      },
      "cell_type": "code",
      "source": [
        "w2v_words_test = list(w2v_model_test.wv.vocab)"
      ],
      "execution_count": 0,
      "outputs": []
    },
    {
      "metadata": {
        "id": "RJv1n1xrtzRd",
        "colab_type": "code",
        "outputId": "3729cb4c-a634-455c-9ba2-bcd856afddc2",
        "colab": {
          "base_uri": "https://localhost:8080/",
          "height": 52
        }
      },
      "cell_type": "code",
      "source": [
        "# Average W2V with test Data\n",
        "sent_vectors_test = []; # the avg-w2v for each sentence/review is stored in this list\n",
        "for sent in list_of_sentence_test: # for each review/sentence\n",
        "    sent_vec = np.zeros(50) # as word vectors are of zero length 50, you might need to change this to 300 if you use google's w2v\n",
        "    cnt_words =0; # num of words with a valid vector in the sentence/review\n",
        "    for word in sent: # for each word in a review/sentence\n",
        "        if word in w2v_words_test:\n",
        "            vec = w2v_model_test.wv[word]\n",
        "            #print(\"vec= \",vec)\n",
        "            sent_vec += vec\n",
        "            cnt_words += 1\n",
        "    if cnt_words != 0:\n",
        "        sent_vec /= cnt_words\n",
        "    sent_vectors_test.append(sent_vec)\n",
        "print(len(sent_vectors_test))\n",
        "#print(sent_vectors)\n",
        "print(len(sent_vectors_test[0]))"
      ],
      "execution_count": 64,
      "outputs": [
        {
          "output_type": "stream",
          "text": [
            "30000\n",
            "50\n"
          ],
          "name": "stdout"
        }
      ]
    },
    {
      "metadata": {
        "id": "1RaBrB1K5jGp",
        "colab_type": "text"
      },
      "cell_type": "markdown",
      "source": [
        "**Word2Vec For RBF**"
      ]
    },
    {
      "metadata": {
        "id": "zZrq-vYv5pEO",
        "colab_type": "code",
        "colab": {}
      },
      "cell_type": "code",
      "source": [
        "import gensim\n",
        "from gensim.models import Word2Vec"
      ],
      "execution_count": 0,
      "outputs": []
    },
    {
      "metadata": {
        "id": "vbj2jiB85x5j",
        "colab_type": "code",
        "colab": {}
      },
      "cell_type": "code",
      "source": [
        "#Train own W2V with train data\n",
        "i=0\n",
        "list_of_sentence_rbf=[]\n",
        "for sent in train_data_rbf.values:\n",
        "  list_of_sentence_rbf.append(sent.split())"
      ],
      "execution_count": 0,
      "outputs": []
    },
    {
      "metadata": {
        "id": "GWG7uc446BUy",
        "colab_type": "code",
        "colab": {}
      },
      "cell_type": "code",
      "source": [
        "w2v_model_rbf=gensim.models.Word2Vec(list_of_sentence_rbf,min_count=5,size=50,workers=4)"
      ],
      "execution_count": 0,
      "outputs": []
    },
    {
      "metadata": {
        "id": "1Yrl-q1l6L88",
        "colab_type": "code",
        "colab": {}
      },
      "cell_type": "code",
      "source": [
        "w2v_words_rbf = list(w2v_model_rbf.wv.vocab)"
      ],
      "execution_count": 0,
      "outputs": []
    },
    {
      "metadata": {
        "id": "WlbW-0hP6Uoj",
        "colab_type": "code",
        "outputId": "a2a83ff5-5b72-44a9-cc0c-bf5888b4646d",
        "colab": {
          "base_uri": "https://localhost:8080/",
          "height": 52
        }
      },
      "cell_type": "code",
      "source": [
        "# Average W2V with training Data\n",
        "sent_vectors_rbf = []; # the avg-w2v for each sentence/review is stored in this list\n",
        "for sent in list_of_sentence_rbf: # for each review/sentence\n",
        "    sent_vec = np.zeros(50) # as word vectors are of zero length 50, you might need to change this to 300 if you use google's w2v\n",
        "    cnt_words =0; # num of words with a valid vector in the sentence/review\n",
        "    for word in sent: # for each word in a review/sentence\n",
        "        if word in w2v_words_rbf:\n",
        "            vec = w2v_model_rbf.wv[word]\n",
        "            #print(\"vec= \",vec)\n",
        "            sent_vec += vec\n",
        "            cnt_words += 1\n",
        "    if cnt_words != 0:\n",
        "        sent_vec /= cnt_words\n",
        "    sent_vectors_rbf.append(sent_vec)\n",
        "print(len(sent_vectors_rbf))\n",
        "#print(sent_vectors)\n",
        "print(len(sent_vectors_rbf[0]))"
      ],
      "execution_count": 69,
      "outputs": [
        {
          "output_type": "stream",
          "text": [
            "9800\n",
            "50\n"
          ],
          "name": "stdout"
        }
      ]
    },
    {
      "metadata": {
        "id": "fL6aO0wU6wnA",
        "colab_type": "code",
        "colab": {}
      },
      "cell_type": "code",
      "source": [
        "#Train own W2V with cv data\n",
        "i=0\n",
        "list_of_sentence_rbf_cv=[]\n",
        "for sent in cv_data_rbf.values:\n",
        "  list_of_sentence_rbf_cv.append(sent.split())"
      ],
      "execution_count": 0,
      "outputs": []
    },
    {
      "metadata": {
        "id": "W0yfVT0e69th",
        "colab_type": "code",
        "colab": {}
      },
      "cell_type": "code",
      "source": [
        "w2v_model_rbf_cv=gensim.models.Word2Vec(list_of_sentence_rbf_cv,min_count=5,size=50,workers=4)"
      ],
      "execution_count": 0,
      "outputs": []
    },
    {
      "metadata": {
        "id": "SH93-gfF7GSd",
        "colab_type": "code",
        "colab": {}
      },
      "cell_type": "code",
      "source": [
        "w2v_words_rbf_cv = list(w2v_model_rbf_cv.wv.vocab)"
      ],
      "execution_count": 0,
      "outputs": []
    },
    {
      "metadata": {
        "id": "k6IeJOuY7Xts",
        "colab_type": "code",
        "outputId": "1bba2df0-7f0d-4b64-f58d-9541ec2740ab",
        "colab": {
          "base_uri": "https://localhost:8080/",
          "height": 52
        }
      },
      "cell_type": "code",
      "source": [
        "# Average W2V with cv Data\n",
        "sent_vectors_rbf_cv = []; # the avg-w2v for each sentence/review is stored in this list\n",
        "for sent in list_of_sentence_rbf_cv: # for each review/sentence\n",
        "    sent_vec = np.zeros(50) # as word vectors are of zero length 50, you might need to change this to 300 if you use google's w2v\n",
        "    cnt_words =0; # num of words with a valid vector in the sentence/review\n",
        "    for word in sent: # for each word in a review/sentence\n",
        "        if word in w2v_words_rbf_cv:\n",
        "            vec = w2v_model_rbf_cv.wv[word]\n",
        "            #print(\"vec= \",vec)\n",
        "            sent_vec += vec\n",
        "            cnt_words += 1\n",
        "    if cnt_words != 0:\n",
        "        sent_vec /= cnt_words\n",
        "    sent_vectors_rbf_cv.append(sent_vec)\n",
        "print(len(sent_vectors_rbf_cv))\n",
        "#print(sent_vectors)\n",
        "print(len(sent_vectors_rbf_cv[0]))"
      ],
      "execution_count": 73,
      "outputs": [
        {
          "output_type": "stream",
          "text": [
            "4200\n",
            "50\n"
          ],
          "name": "stdout"
        }
      ]
    },
    {
      "metadata": {
        "id": "3YWmy70m7q6Z",
        "colab_type": "code",
        "colab": {}
      },
      "cell_type": "code",
      "source": [
        "#Train own W2V with Test data\n",
        "i=0\n",
        "list_of_sentence_rbf_test=[]\n",
        "for sent in test_data_rbf.values:\n",
        "  list_of_sentence_rbf_test.append(sent.split())"
      ],
      "execution_count": 0,
      "outputs": []
    },
    {
      "metadata": {
        "id": "nd20bkmh70w0",
        "colab_type": "code",
        "colab": {}
      },
      "cell_type": "code",
      "source": [
        "w2v_model_rbf_test=gensim.models.Word2Vec(list_of_sentence_rbf_test,min_count=5,size=50,workers=4)"
      ],
      "execution_count": 0,
      "outputs": []
    },
    {
      "metadata": {
        "id": "sQcGCEW_8Ad1",
        "colab_type": "code",
        "colab": {}
      },
      "cell_type": "code",
      "source": [
        "w2v_words_rbf_test = list(w2v_model_rbf_test.wv.vocab)"
      ],
      "execution_count": 0,
      "outputs": []
    },
    {
      "metadata": {
        "id": "gv4cWLg78LqQ",
        "colab_type": "code",
        "outputId": "06fab2c4-da9b-4027-fc52-7a6de8dd0348",
        "colab": {
          "base_uri": "https://localhost:8080/",
          "height": 52
        }
      },
      "cell_type": "code",
      "source": [
        "# Average W2V with test Data\n",
        "sent_vectors_rbf_test = []; # the avg-w2v for each sentence/review is stored in this list\n",
        "for sent in list_of_sentence_rbf_test: # for each review/sentence\n",
        "    sent_vec = np.zeros(50) # as word vectors are of zero length 50, you might need to change this to 300 if you use google's w2v\n",
        "    cnt_words =0; # num of words with a valid vector in the sentence/review\n",
        "    for word in sent: # for each word in a review/sentence\n",
        "        if word in w2v_words_rbf_test:\n",
        "            vec = w2v_model_rbf_test.wv[word]\n",
        "            #print(\"vec= \",vec)\n",
        "            sent_vec += vec\n",
        "            cnt_words += 1\n",
        "    if cnt_words != 0:\n",
        "        sent_vec /= cnt_words\n",
        "    sent_vectors_rbf_test.append(sent_vec)\n",
        "print(len(sent_vectors_rbf_test))\n",
        "#print(sent_vectors)\n",
        "print(len(sent_vectors_rbf_test[0]))"
      ],
      "execution_count": 77,
      "outputs": [
        {
          "output_type": "stream",
          "text": [
            "6000\n",
            "50\n"
          ],
          "name": "stdout"
        }
      ]
    },
    {
      "metadata": {
        "id": "RKLfzDyTt4Tz",
        "colab_type": "text"
      },
      "cell_type": "markdown",
      "source": [
        "# TF-IDF Word2Vec"
      ]
    },
    {
      "metadata": {
        "id": "1Mm-nq47t9KZ",
        "colab_type": "code",
        "colab": {}
      },
      "cell_type": "code",
      "source": [
        "#TF-IDF Avg W2V for train Data\n",
        "model_train = TfidfVectorizer()\n",
        "tf_idf_matrix_train = model_train.fit_transform(train_data)\n",
        "dictionary = dict(zip(model_train.get_feature_names(), list(model_train.idf_)))"
      ],
      "execution_count": 0,
      "outputs": []
    },
    {
      "metadata": {
        "id": "nfcKlUUeuKiu",
        "colab_type": "code",
        "colab": {}
      },
      "cell_type": "code",
      "source": [
        "tfidf_feat_train = model_train.get_feature_names() \n",
        "\n",
        "tfidf_sent_vectors_train = []; # the tfidf-w2v for each sentence/review is stored in this list\n",
        "row=0;\n",
        "for sent in list_of_sentence: \n",
        "  sent_vec = np.zeros(50) \n",
        "  weight_sum =0; \n",
        "  for word in sent: \n",
        "    try:\n",
        "      vec = w2v_model.wv[word]\n",
        "      tf_idf = dictionary[word]*(sent.count(word)/len(sent))\n",
        "      sent_vec += (vec * tf_idf)\n",
        "      weight_sum += tf_idf\n",
        "    except:\n",
        "      pass\n",
        "          \n",
        "  if weight_sum != 0:\n",
        "    sent_vec /= weight_sum\n",
        "  tfidf_sent_vectors_train.append(sent_vec)\n",
        "  row += 1"
      ],
      "execution_count": 0,
      "outputs": []
    },
    {
      "metadata": {
        "id": "8ixVDERxuQuj",
        "colab_type": "code",
        "colab": {}
      },
      "cell_type": "code",
      "source": [
        "#TF-IDF Avg W2V for cv Data\n",
        "model_cv = TfidfVectorizer()\n",
        "tf_idf_matrix_cv = model_cv.fit_transform(cv_data)\n",
        "dictionary = dict(zip(model_cv.get_feature_names(), list(model_cv.idf_)))"
      ],
      "execution_count": 0,
      "outputs": []
    },
    {
      "metadata": {
        "id": "0RSjOiiouUrJ",
        "colab_type": "code",
        "colab": {}
      },
      "cell_type": "code",
      "source": [
        "tfidf_feat_cv = model_cv.get_feature_names() \n",
        "\n",
        "tfidf_sent_vectors_cv = []; # the tfidf-w2v for each sentence/review is stored in this list\n",
        "row=0;\n",
        "for sent in list_of_sentence_cv: \n",
        "  sent_vec = np.zeros(50) \n",
        "  weight_sum =0; \n",
        "  for word in sent:\n",
        "    try:\n",
        "      vec = w2v_model_cv.wv[word]\n",
        "      tf_idf = dictionary[word]*(sent.count(word)/len(sent))\n",
        "      sent_vec += (vec * tf_idf)\n",
        "      weight_sum += tf_idf\n",
        "    except:\n",
        "      pass\n",
        "          \n",
        "  if weight_sum != 0:\n",
        "    sent_vec /= weight_sum\n",
        "  tfidf_sent_vectors_cv.append(sent_vec)\n",
        "  row += 1"
      ],
      "execution_count": 0,
      "outputs": []
    },
    {
      "metadata": {
        "id": "Q89J-TNKue8O",
        "colab_type": "code",
        "colab": {}
      },
      "cell_type": "code",
      "source": [
        "#TF-IDF Avg W2V for test Data\n",
        "model_test = TfidfVectorizer()\n",
        "tf_idf_matrix_test = model_test.fit_transform(test_data)\n",
        "dictionary = dict(zip(model_test.get_feature_names(), list(model_test.idf_)))"
      ],
      "execution_count": 0,
      "outputs": []
    },
    {
      "metadata": {
        "id": "dhXlMuu_uiJn",
        "colab_type": "code",
        "colab": {}
      },
      "cell_type": "code",
      "source": [
        "tfidf_feat_test = model_test.get_feature_names() \n",
        "\n",
        "tfidf_sent_vectors_test = []; # the tfidf-w2v for each sentence/review is stored in this list\n",
        "row=0;\n",
        "for sent in list_of_sentence_test: \n",
        "  sent_vec = np.zeros(50) \n",
        "  weight_sum =0; \n",
        "  for word in sent:\n",
        "    try:\n",
        "      vec = w2v_model_test.wv[word]\n",
        "      tf_idf = dictionary[word]*(sent.count(word)/len(sent))\n",
        "      sent_vec += (vec * tf_idf)\n",
        "      weight_sum += tf_idf\n",
        "    except:\n",
        "      pass\n",
        "          \n",
        "  if weight_sum != 0:\n",
        "    sent_vec /= weight_sum\n",
        "  tfidf_sent_vectors_test.append(sent_vec)\n",
        "  row += 1"
      ],
      "execution_count": 0,
      "outputs": []
    },
    {
      "metadata": {
        "id": "cMucgij48e05",
        "colab_type": "text"
      },
      "cell_type": "markdown",
      "source": [
        "**TFIDF weighted W2V for RBF SVM**"
      ]
    },
    {
      "metadata": {
        "id": "h0jKvltQ8nhn",
        "colab_type": "code",
        "colab": {}
      },
      "cell_type": "code",
      "source": [
        "#TF-IDF Avg W2V for train Data\n",
        "model_rbf_train = TfidfVectorizer(min_df = 10, max_features = 500)\n",
        "tf_idf_matrix_rbf_train = model_rbf_train.fit_transform(train_data_rbf)\n",
        "dictionary_rbf = dict(zip(model_rbf_train.get_feature_names(), list(model_rbf_train.idf_)))"
      ],
      "execution_count": 0,
      "outputs": []
    },
    {
      "metadata": {
        "id": "9MJYwQ5s9IwL",
        "colab_type": "code",
        "colab": {}
      },
      "cell_type": "code",
      "source": [
        "tfidf_feat_rbf_train = model_rbf_train.get_feature_names() \n",
        "\n",
        "tfidf_sent_vectors_rbf_train = []; # the tfidf-w2v for each sentence/review is stored in this list\n",
        "row=0;\n",
        "for sent in list_of_sentence_rbf: \n",
        "  sent_vec = np.zeros(50) \n",
        "  weight_sum =0; \n",
        "  for word in sent: \n",
        "    try:\n",
        "      vec = w2v_model_rbf.wv[word]\n",
        "      tf_idf = dictionary_rbf[word]*(sent.count(word)/len(sent))\n",
        "      sent_vec += (vec * tf_idf)\n",
        "      weight_sum += tf_idf\n",
        "    except:\n",
        "      pass\n",
        "          \n",
        "  if weight_sum != 0:\n",
        "    sent_vec /= weight_sum\n",
        "  tfidf_sent_vectors_rbf_train.append(sent_vec)\n",
        "  row += 1"
      ],
      "execution_count": 0,
      "outputs": []
    },
    {
      "metadata": {
        "id": "nQK8MoBh9lcR",
        "colab_type": "code",
        "colab": {}
      },
      "cell_type": "code",
      "source": [
        "#TF-IDF Avg W2V for cv Data\n",
        "model_rbf_cv = TfidfVectorizer(min_df = 10, max_features = 500)\n",
        "tf_idf_matrix_rbf_cv = model_rbf_cv.fit_transform(cv_data_rbf)\n",
        "dictionary_rbf = dict(zip(model_rbf_cv.get_feature_names(), list(model_rbf_cv.idf_)))"
      ],
      "execution_count": 0,
      "outputs": []
    },
    {
      "metadata": {
        "id": "DqcQetgw-EWE",
        "colab_type": "code",
        "colab": {}
      },
      "cell_type": "code",
      "source": [
        "tfidf_feat_rbf_cv = model_rbf_cv.get_feature_names() \n",
        "\n",
        "tfidf_sent_vectors_rbf_cv = []; # the tfidf-w2v for each sentence/review is stored in this list\n",
        "row=0;\n",
        "for sent in list_of_sentence_rbf_cv: \n",
        "  sent_vec = np.zeros(50) \n",
        "  weight_sum =0; \n",
        "  for word in sent:\n",
        "    try:\n",
        "      vec = w2v_model_rbf_cv.wv[word]\n",
        "      tf_idf = dictionary_rbf[word]*(sent.count(word)/len(sent))\n",
        "      sent_vec += (vec * tf_idf)\n",
        "      weight_sum += tf_idf\n",
        "    except:\n",
        "      pass\n",
        "          \n",
        "  if weight_sum != 0:\n",
        "    sent_vec /= weight_sum\n",
        "  tfidf_sent_vectors_rbf_cv.append(sent_vec)\n",
        "  row += 1"
      ],
      "execution_count": 0,
      "outputs": []
    },
    {
      "metadata": {
        "id": "gZuSMZsJ-erF",
        "colab_type": "code",
        "colab": {}
      },
      "cell_type": "code",
      "source": [
        "#TF-IDF Avg W2V for _rbf test Data\n",
        "model_rbf_test = TfidfVectorizer(min_df = 10, max_features = 500)\n",
        "tf_idf_matrix_rbf_test = model_rbf_test.fit_transform(test_data_rbf)\n",
        "dictionary_rbf = dict(zip(model_rbf_test.get_feature_names(), list(model_rbf_test.idf_)))"
      ],
      "execution_count": 0,
      "outputs": []
    },
    {
      "metadata": {
        "id": "YGdz8Cc4-_zx",
        "colab_type": "code",
        "colab": {}
      },
      "cell_type": "code",
      "source": [
        "tfidf_feat_rbf_test = model_rbf_test.get_feature_names() \n",
        "\n",
        "tfidf_sent_vectors_rbf_test = []; # the tfidf-w2v for each sentence/review is stored in this list\n",
        "row=0;\n",
        "for sent in list_of_sentence_rbf_test: \n",
        "  sent_vec = np.zeros(50) \n",
        "  weight_sum =0; \n",
        "  for word in sent:\n",
        "    try:\n",
        "      vec = w2v_model_rbf_test.wv[word]\n",
        "      tf_idf = dictionary_rbf[word]*(sent.count(word)/len(sent))\n",
        "      sent_vec += (vec * tf_idf)\n",
        "      weight_sum += tf_idf\n",
        "    except:\n",
        "      pass\n",
        "          \n",
        "  if weight_sum != 0:\n",
        "    sent_vec /= weight_sum\n",
        "  tfidf_sent_vectors_rbf_test.append(sent_vec)\n",
        "  row += 1"
      ],
      "execution_count": 0,
      "outputs": []
    },
    {
      "metadata": {
        "id": "dqt6pQRoxxKq",
        "colab_type": "text"
      },
      "cell_type": "markdown",
      "source": [
        "#  5. SVM"
      ]
    },
    {
      "metadata": {
        "id": "P91IWS4DyAEP",
        "colab_type": "text"
      },
      "cell_type": "markdown",
      "source": [
        "# 5.1 Linear SVM"
      ]
    },
    {
      "metadata": {
        "id": "LKE-sELpyI8M",
        "colab_type": "text"
      },
      "cell_type": "markdown",
      "source": [
        "**5.1.1 Applying Linear SVM on BOW, SET 1**"
      ]
    },
    {
      "metadata": {
        "id": "B1tLolvQx0rR",
        "colab_type": "code",
        "colab": {}
      },
      "cell_type": "code",
      "source": [
        "from sklearn.linear_model import SGDClassifier\n",
        "from sklearn.metrics import roc_curve,auc\n",
        "import math"
      ],
      "execution_count": 0,
      "outputs": []
    },
    {
      "metadata": {
        "id": "zvbf2X1i2QIV",
        "colab_type": "text"
      },
      "cell_type": "markdown",
      "source": [
        "**Simple Cross Validation  Penalty = 'l2'**"
      ]
    },
    {
      "metadata": {
        "id": "ePFbt8dVVRU1",
        "colab_type": "code",
        "colab": {}
      },
      "cell_type": "code",
      "source": [
        "from sklearn.calibration import CalibratedClassifierCV\n",
        "from sklearn.metrics import roc_auc_score\n"
      ],
      "execution_count": 0,
      "outputs": []
    },
    {
      "metadata": {
        "id": "BPzeEoYE1Jbl",
        "colab_type": "code",
        "outputId": "2f056a5d-543f-4ad0-970f-a408da601ead",
        "colab": {
          "base_uri": "https://localhost:8080/",
          "height": 329
        }
      },
      "cell_type": "code",
      "source": [
        "AUC_score_training=[]\n",
        "AUC_score_cv=[]\n",
        "Alpha=[]\n",
        "alpha=0.0001\n",
        "while(alpha<=10000):\n",
        "  clf=SGDClassifier(loss='hinge',penalty='l2',alpha=alpha)\n",
        "  clf.fit(train_bows,y_train)\n",
        "  \n",
        "  #For Train Curve\n",
        "  calibrator=CalibratedClassifierCV(clf, method='sigmoid', cv='prefit')\n",
        "  calibrator.fit(train_bows,y_train)\n",
        "  y_predict_training=calibrator.predict_proba(train_bows)\n",
        "  auc=roc_auc_score(y_train,y_predict_training[:,1])\n",
        "  if(not np.isnan(auc)):\n",
        "    Alpha.append(math.ceil(math.log(alpha,10)))\n",
        "    AUC_score_training.append(auc)\n",
        "    print(\"T-Alpha= \",alpha,\" \",auc)\n",
        "  \n",
        "  # For CV Curve\n",
        "  y_predict_cv=calibrator.predict_proba(cv_bows)\n",
        "  auc=roc_auc_score(y_cv,y_predict_cv[:,1])\n",
        "  if(not np.isnan(auc)):\n",
        "    #Alpha.append(math.ceil(math.log(alpha,10)))\n",
        "    AUC_score_cv.append(auc)\n",
        "    print(\"Alpha= \",alpha,\" \",auc)\n",
        "  \n",
        "  alpha*=10"
      ],
      "execution_count": 95,
      "outputs": [
        {
          "output_type": "stream",
          "text": [
            "T-Alpha=  0.0001   0.9702363005720831\n",
            "Alpha=  0.0001   0.9243277014622195\n",
            "T-Alpha=  0.001   0.9629687883292469\n",
            "Alpha=  0.001   0.9377307769297185\n",
            "T-Alpha=  0.01   0.9297419744267906\n",
            "Alpha=  0.01   0.926567509935717\n",
            "T-Alpha=  0.1   0.7549217998631461\n",
            "Alpha=  0.1   0.7755325931871766\n",
            "T-Alpha=  1.0   0.49185943615385114\n",
            "Alpha=  1.0   0.47628533037882187\n",
            "T-Alpha=  10.0   0.5621101445544852\n",
            "Alpha=  10.0   0.5534353907702413\n",
            "T-Alpha=  100.0   0.5650546835953504\n",
            "Alpha=  100.0   0.5566488935165226\n",
            "T-Alpha=  1000.0   0.5650545686210158\n",
            "Alpha=  1000.0   0.5566485738795024\n",
            "T-Alpha=  10000.0   0.5650558522150793\n",
            "Alpha=  10000.0   0.5566498923822107\n"
          ],
          "name": "stdout"
        }
      ]
    },
    {
      "metadata": {
        "id": "1WCx2BHG9dpu",
        "colab_type": "code",
        "colab": {
          "base_uri": "https://localhost:8080/",
          "height": 52
        },
        "outputId": "1f719ffb-7de2-450d-ced8-308c676c2f53"
      },
      "cell_type": "code",
      "source": [
        "print(len(Alpha))\n",
        "print(len(AUC_score_training))"
      ],
      "execution_count": 96,
      "outputs": [
        {
          "output_type": "stream",
          "text": [
            "9\n",
            "9\n"
          ],
          "name": "stdout"
        }
      ]
    },
    {
      "metadata": {
        "id": "GMyv2f6c3-kG",
        "colab_type": "code",
        "colab": {
          "base_uri": "https://localhost:8080/",
          "height": 295
        },
        "outputId": "3c0e1a8e-93d0-47ef-ffb7-1511ee10d34c"
      },
      "cell_type": "code",
      "source": [
        "plt.plot(Alpha,AUC_score_training,label='Training')\n",
        "plt.plot(Alpha,AUC_score_cv,label='CV')\n",
        "plt.ylabel('AUC Score')\n",
        "plt.xlabel('Log ALPHA')\n",
        "plt.title('Log ALPHA vs AUC penalty=L2')\n",
        "plt.legend()\n",
        "plt.show()"
      ],
      "execution_count": 97,
      "outputs": [
        {
          "output_type": "display_data",
          "data": {
            "image/png": "[encoded data removed]",
            "text/plain": [
              "<Figure size 432x288 with 1 Axes>"
            ]
          },
          "metadata": {
            "tags": []
          }
        }
      ]
    },
    {
      "metadata": {
        "id": "ui1YCKi2-iiD",
        "colab_type": "text"
      },
      "cell_type": "markdown",
      "source": [
        "**Simple Cross Validation Penalty='l1'**"
      ]
    },
    {
      "metadata": {
        "id": "fcJAQ8Pv-pYW",
        "colab_type": "code",
        "colab": {
          "base_uri": "https://localhost:8080/",
          "height": 329
        },
        "outputId": "5d415f82-f792-45e5-8917-e6f8451ba8dd"
      },
      "cell_type": "code",
      "source": [
        "AUC_score_training=[]\n",
        "AUC_score_cv=[]\n",
        "Alpha=[]\n",
        "alpha=0.0001\n",
        "while(alpha<=10000):\n",
        "  clf=SGDClassifier(loss='hinge',penalty='l1',alpha=alpha)\n",
        "  clf.fit(train_bows,y_train)\n",
        "  \n",
        "  #For Train Curve\n",
        "  calibrator=CalibratedClassifierCV(clf, method='sigmoid', cv='prefit')\n",
        "  calibrator.fit(train_bows,y_train)\n",
        "  y_predict_training=calibrator.predict_proba(train_bows)\n",
        "  auc=roc_auc_score(y_train,y_predict_training[:,1])\n",
        "  if(not np.isnan(auc)):\n",
        "    Alpha.append(math.ceil(math.log(alpha,10)))\n",
        "    AUC_score_training.append(auc)\n",
        "    print(\"T-Alpha= \",alpha,\" \",auc)\n",
        "  \n",
        "  # For CV Curve\n",
        "  y_predict_cv=calibrator.predict_proba(cv_bows)\n",
        "  auc=roc_auc_score(y_cv,y_predict_cv[:,1])\n",
        "  if(not np.isnan(auc)):\n",
        "    #Alpha.append(math.ceil(math.log(alpha,10)))\n",
        "    AUC_score_cv.append(auc)\n",
        "    print(\"Alpha= \",alpha,\" \",auc)\n",
        "  \n",
        "  alpha*=10"
      ],
      "execution_count": 98,
      "outputs": [
        {
          "output_type": "stream",
          "text": [
            "T-Alpha=  0.0001   0.9356517719132287\n",
            "Alpha=  0.0001   0.9107116198844593\n",
            "T-Alpha=  0.001   0.8768526479490165\n",
            "Alpha=  0.001   0.8833029132117567\n",
            "T-Alpha=  0.01   0.6641185351068554\n",
            "Alpha=  0.01   0.6610941894384736\n",
            "T-Alpha=  0.1   0.5067321351120034\n",
            "Alpha=  0.1   0.4936905490125414\n",
            "T-Alpha=  1.0   0.5\n",
            "Alpha=  1.0   0.5\n",
            "T-Alpha=  10.0   0.5\n",
            "Alpha=  10.0   0.5\n",
            "T-Alpha=  100.0   0.5\n",
            "Alpha=  100.0   0.5\n",
            "T-Alpha=  1000.0   0.5\n",
            "Alpha=  1000.0   0.5\n",
            "T-Alpha=  10000.0   0.5\n",
            "Alpha=  10000.0   0.5\n"
          ],
          "name": "stdout"
        }
      ]
    },
    {
      "metadata": {
        "id": "k4v3TdI0-ur3",
        "colab_type": "code",
        "colab": {
          "base_uri": "https://localhost:8080/",
          "height": 295
        },
        "outputId": "77f6bb5c-d73d-435b-f0b2-fc4d4e4dcd8c"
      },
      "cell_type": "code",
      "source": [
        "plt.plot(Alpha,AUC_score_training,label='Training')\n",
        "plt.plot(Alpha,AUC_score_cv,label='CV')\n",
        "plt.ylabel('AUC Score')\n",
        "plt.xlabel('Log ALPHA')\n",
        "plt.title('Log ALPHA vs AUC penalty=L2')\n",
        "plt.legend()\n",
        "plt.show()"
      ],
      "execution_count": 99,
      "outputs": [
        {
          "output_type": "display_data",
          "data": {
            "image/png": "[encoded data removed]",
            "text/plain": [
              "<Figure size 432x288 with 1 Axes>"
            ]
          },
          "metadata": {
            "tags": []
          }
        }
      ]
    },
    {
      "metadata": {
        "id": "3JkkdtK0-1Ne",
        "colab_type": "text"
      },
      "cell_type": "markdown",
      "source": [
        "**Obsrvation:** Optimal value of Alpha=0.01 with Penalty =L2 having AUC Score=0.92"
      ]
    },
    {
      "metadata": {
        "id": "USsHyYUNAduy",
        "colab_type": "code",
        "colab": {
          "base_uri": "https://localhost:8080/",
          "height": 312
        },
        "outputId": "cb000062-6627-40a2-f638-d1e3da2ce5b7"
      },
      "cell_type": "code",
      "source": [
        "\n",
        "clf = SGDClassifier(alpha=0.01, penalty='l2') \n",
        "clf.fit(Train_bows,y_Train)\n",
        "calibrator=CalibratedClassifierCV(clf, method='sigmoid', cv='prefit')\n",
        "calibrator.fit(train_bows,y_train)\n",
        "y_pred=calibrator.predict_proba(test_bows)[:,1]\n",
        " #Drawing ROC curve\n",
        "fpr, tpr, thresholds = roc_curve( y_test,y_pred)\n",
        "roc_auc = metrics.auc(fpr, tpr)\n",
        "print(' AUC = ',metrics.auc(fpr, tpr))\n",
        "plt.figure()\n",
        "plt.plot(fpr, tpr, color='darkorange', lw=1, label='ROC curve (area = %0.2f)' % roc_auc)\n",
        "plt.plot([0, 1], [0, 1], color='navy', lw=1, linestyle='--')\n",
        "plt.xlim([0.0, 1.0])\n",
        "plt.ylim([0.0, 1.05])\n",
        "plt.xlabel('False Positive Rate')\n",
        "plt.ylabel('True Positive Rate')\n",
        "plt.title('Receiver operating characteristic')\n",
        "plt.legend(loc=\"lower right\")\n",
        "plt.show()\n"
      ],
      "execution_count": 102,
      "outputs": [
        {
          "output_type": "stream",
          "text": [
            " AUC =  0.9257603577577427\n"
          ],
          "name": "stdout"
        },
        {
          "output_type": "display_data",
          "data": {
            "image/png": "[encoded data removed]",
            "text/plain": [
              "<Figure size 432x288 with 1 Axes>"
            ]
          },
          "metadata": {
            "tags": []
          }
        }
      ]
    },
    {
      "metadata": {
        "id": "o8PXg1DkoRbe",
        "colab_type": "code",
        "colab": {
          "base_uri": "https://localhost:8080/",
          "height": 173
        },
        "outputId": "5ef53719-a339-4048-ffc0-5c8701cd2c41"
      },
      "cell_type": "code",
      "source": [
        "#Confusion Matrix\n",
        "y_pred=clf.predict(test_bows)\n",
        "print(metrics.classification_report(y_test,y_pred))"
      ],
      "execution_count": 103,
      "outputs": [
        {
          "output_type": "stream",
          "text": [
            "              precision    recall  f1-score   support\n",
            "\n",
            "           0       0.90      0.33      0.48      5267\n",
            "           1       0.87      0.99      0.93     24733\n",
            "\n",
            "   micro avg       0.88      0.88      0.88     30000\n",
            "   macro avg       0.88      0.66      0.70     30000\n",
            "weighted avg       0.88      0.88      0.85     30000\n",
            "\n"
          ],
          "name": "stdout"
        }
      ]
    },
    {
      "metadata": {
        "id": "-2EBdXTEBfuV",
        "colab_type": "text"
      },
      "cell_type": "markdown",
      "source": [
        "**Top Positive Features**"
      ]
    },
    {
      "metadata": {
        "id": "SsgwWyIdBkAr",
        "colab_type": "code",
        "colab": {
          "base_uri": "https://localhost:8080/",
          "height": 364
        },
        "outputId": "8f9edc9b-f245-4b69-e8cb-7ea1316d7b9b"
      },
      "cell_type": "code",
      "source": [
        "feature_names=count_vector.get_feature_names()\n",
        "w=clf.coef_\n",
        "top=zip(w[0],feature_names)\n",
        "top=list(top)\n",
        "top.sort(reverse=True,key=lambda x:x[0])\n",
        "l=len(top[0])\n",
        "print('Weight\\t\\tTop Positive Feature')\n",
        "for i in range (1,20):\n",
        "  print(\"%.2f\\t\\t\"%top[i][0],top[i][1])"
      ],
      "execution_count": 104,
      "outputs": [
        {
          "output_type": "stream",
          "text": [
            "Weight\t\tTop Positive Feature\n",
            "0.34\t\t best\n",
            "0.32\t\t delicious\n",
            "0.27\t\t excellent\n",
            "0.26\t\t perfect\n",
            "0.26\t\t loves\n",
            "0.25\t\t wonderful\n",
            "0.24\t\t love\n",
            "0.23\t\t good\n",
            "0.22\t\t amazing\n",
            "0.22\t\t tasty\n",
            "0.21\t\t favorite\n",
            "0.21\t\t nice\n",
            "0.20\t\t pleased\n",
            "0.19\t\t easy\n",
            "0.18\t\t awesome\n",
            "0.18\t\t loved\n",
            "0.18\t\t highly\n",
            "0.18\t\t yummy\n",
            "0.17\t\t happy\n"
          ],
          "name": "stdout"
        }
      ]
    },
    {
      "metadata": {
        "id": "f0OUllvpBstd",
        "colab_type": "text"
      },
      "cell_type": "markdown",
      "source": [
        "**Top Negative Features**"
      ]
    },
    {
      "metadata": {
        "id": "4sHGfL5PBwfz",
        "colab_type": "code",
        "colab": {
          "base_uri": "https://localhost:8080/",
          "height": 364
        },
        "outputId": "b12cb127-69b5-49f2-a461-bed6e8d768ef"
      },
      "cell_type": "code",
      "source": [
        "feature_names=count_vector.get_feature_names()\n",
        "w=clf.coef_\n",
        "top=zip(w[0],feature_names)\n",
        "top=list(top)\n",
        "top.sort(key=lambda x:x[0])\n",
        "l=len(top[0])\n",
        "print('Weight\\t\\tTop Negative Feature')\n",
        "for i in range (1,20):\n",
        "  print(\"%.2f\\t\\t\"%top[i][0],top[i][1])"
      ],
      "execution_count": 105,
      "outputs": [
        {
          "output_type": "stream",
          "text": [
            "Weight\t\tTop Negative Feature\n",
            "-0.38\t\t worst\n",
            "-0.36\t\t awful\n",
            "-0.34\t\t horrible\n",
            "-0.34\t\t money\n",
            "-0.32\t\t waste\n",
            "-0.32\t\t terrible\n",
            "-0.28\t\t threw\n",
            "-0.28\t\t stale\n",
            "-0.27\t\t return\n",
            "-0.25\t\t bad\n",
            "-0.25\t\t disappointing\n",
            "-0.24\t\t unfortunately\n",
            "-0.22\t\t maybe\n",
            "-0.22\t\t away\n",
            "-0.21\t\t disappointment\n",
            "-0.21\t\t worse\n",
            "-0.20\t\t bland\n",
            "-0.19\t\t refund\n",
            "-0.19\t\t nasty\n"
          ],
          "name": "stdout"
        }
      ]
    },
    {
      "metadata": {
        "id": "wXbbp_O7A4an",
        "colab_type": "text"
      },
      "cell_type": "markdown",
      "source": [
        "**5.1.2 TFIDF**"
      ]
    },
    {
      "metadata": {
        "id": "SdV-h1YcD7-0",
        "colab_type": "code",
        "colab": {}
      },
      "cell_type": "code",
      "source": [
        "from sklearn.calibration import CalibratedClassifierCV"
      ],
      "execution_count": 0,
      "outputs": []
    },
    {
      "metadata": {
        "id": "BfYCNhc6CML7",
        "colab_type": "text"
      },
      "cell_type": "markdown",
      "source": [
        "**Simple Cross Validation penalty=l2**"
      ]
    },
    {
      "metadata": {
        "id": "JmXWux4tA8wT",
        "colab_type": "code",
        "colab": {
          "base_uri": "https://localhost:8080/",
          "height": 329
        },
        "outputId": "51b87242-7d69-47af-9bf8-89ea2d921aa2"
      },
      "cell_type": "code",
      "source": [
        "AUC_score_training=[]\n",
        "AUC_score_cv=[]\n",
        "Alpha_training=[]\n",
        "Alpha_cv=[]\n",
        "alpha=0.0001\n",
        "while(alpha<=10000):\n",
        "  clf=SGDClassifier(loss='hinge',penalty='l2',alpha=alpha)\n",
        "  calibarator=CalibratedClassifierCV(clf,cv=3,method='sigmoid')\n",
        "  calibarator.fit(train_tfidf,y_train)\n",
        "  \n",
        "  #For Train Curve\n",
        "  y_predict_training=calibarator.predict_proba(train_tfidf)[:,1]\n",
        "  fpr,tpr,thresholds=roc_curve(y_train,y_predict_training)\n",
        "  if(not np.isnan(metrics.auc(fpr,tpr))):\n",
        "    Alpha_training.append(math.ceil(math.log(alpha,10)))\n",
        "    AUC_score_training.append(metrics.auc(fpr,tpr))\n",
        "    print(\"Alpha= \",alpha,\" \",metrics.auc(fpr,tpr))\n",
        "  \n",
        "  # For CV Curve\n",
        "  clf.fit(train_tfidf,y_train)\n",
        "  calibarator=CalibratedClassifierCV(clf,cv='prefit',method='sigmoid')\n",
        "  calibarator.fit(train_tfidf,y_train)\n",
        "  y_predict_cv=calibarator.predict_proba(cv_tfidf)[:,1]\n",
        "  fpr,tpr,thresholds=roc_curve(y_cv,y_predict_cv)\n",
        "  if(not np.isnan(metrics.auc(fpr,tpr))):\n",
        "    Alpha_cv.append(math.ceil(math.log(alpha,10)))\n",
        "    AUC_score_cv.append(metrics.auc(fpr,tpr))\n",
        "    print(\"Alpha= \",alpha,\" \",metrics.auc(fpr,tpr))\n",
        "  \n",
        "  alpha*=10\n",
        "  "
      ],
      "execution_count": 108,
      "outputs": [
        {
          "output_type": "stream",
          "text": [
            "Alpha=  0.0001   0.9641722040966041\n",
            "Alpha=  0.0001   0.9485185023886873\n",
            "Alpha=  0.001   0.9547059140995857\n",
            "Alpha=  0.001   0.9444515208529195\n",
            "Alpha=  0.01   0.954955888895324\n",
            "Alpha=  0.01   0.9445598458390652\n",
            "Alpha=  0.1   0.6011483790978376\n",
            "Alpha=  0.1   0.6071457492871095\n",
            "Alpha=  1.0   0.5995655669028359\n",
            "Alpha=  1.0   0.6069990998222419\n",
            "Alpha=  10.0   0.5995655669028359\n",
            "Alpha=  10.0   0.6069990998222419\n",
            "Alpha=  100.0   0.5995655669028359\n",
            "Alpha=  100.0   0.6069990998222419\n",
            "Alpha=  1000.0   0.5995655669028359\n",
            "Alpha=  1000.0   0.6069990998222419\n",
            "Alpha=  10000.0   0.5995655669028359\n",
            "Alpha=  10000.0   0.6069990998222419\n"
          ],
          "name": "stdout"
        }
      ]
    },
    {
      "metadata": {
        "id": "Xzk-IkyeDAtQ",
        "colab_type": "code",
        "colab": {
          "base_uri": "https://localhost:8080/",
          "height": 295
        },
        "outputId": "c75fe487-9ea9-46f7-952f-4842efc0ca77"
      },
      "cell_type": "code",
      "source": [
        "plt.plot(Alpha_training,AUC_score_training,label='Training')\n",
        "plt.plot(Alpha_cv,AUC_score_cv,label='CV')\n",
        "plt.ylabel('AUC Score')\n",
        "plt.xlabel('Log ALPHA')\n",
        "plt.title('Log ALPHA vs AUC penalty=L2')\n",
        "plt.legend()\n",
        "plt.show()"
      ],
      "execution_count": 109,
      "outputs": [
        {
          "output_type": "display_data",
          "data": {
            "image/png": "[encoded data removed]",
            "text/plain": [
              "<Figure size 432x288 with 1 Axes>"
            ]
          },
          "metadata": {
            "tags": []
          }
        }
      ]
    },
    {
      "metadata": {
        "id": "7A8FoWcRHu0Y",
        "colab_type": "text"
      },
      "cell_type": "markdown",
      "source": [
        "**Simple Cross Validation Penalty-L2**"
      ]
    },
    {
      "metadata": {
        "id": "YNMHLE1PH3oQ",
        "colab_type": "code",
        "colab": {
          "base_uri": "https://localhost:8080/",
          "height": 329
        },
        "outputId": "597ae20c-e58d-4f74-862e-589ec5790b94"
      },
      "cell_type": "code",
      "source": [
        "AUC_score_training=[]\n",
        "AUC_score_cv=[]\n",
        "Alpha_training=[]\n",
        "Alpha_cv=[]\n",
        "alpha=0.0001\n",
        "while(alpha<=10000):\n",
        "  clf=SGDClassifier(loss='hinge',penalty='l1',alpha=alpha)\n",
        "  calibarator=CalibratedClassifierCV(clf,cv=3,method='sigmoid')\n",
        "  calibarator.fit(train_tfidf,y_train)\n",
        "  \n",
        "  #For Train Curve\n",
        "  y_predict_training=calibarator.predict_proba(train_tfidf)[:,1]\n",
        "  fpr,tpr,thresholds=roc_curve(y_train,y_predict_training)\n",
        "  if(not np.isnan(metrics.auc(fpr,tpr))):\n",
        "    Alpha_training.append(math.ceil(math.log(alpha,10)))\n",
        "    AUC_score_training.append(metrics.auc(fpr,tpr))\n",
        "    print(\"Alpha= \",alpha,\" \",metrics.auc(fpr,tpr))\n",
        "  \n",
        "  # For CV Curve\n",
        "  clf.fit(train_tfidf,y_train)\n",
        "  calibarator=CalibratedClassifierCV(clf,cv='prefit',method='sigmoid')\n",
        "  calibarator.fit(train_tfidf,y_train)\n",
        "  y_predict_cv=calibarator.predict_proba(cv_tfidf)[:,1]\n",
        "  fpr,tpr,thresholds=roc_curve(y_cv,y_predict_cv)\n",
        "  if(not np.isnan(metrics.auc(fpr,tpr))):\n",
        "    Alpha_cv.append(math.ceil(math.log(alpha,10)))\n",
        "    AUC_score_cv.append(metrics.auc(fpr,tpr))\n",
        "    print(\"Alpha= \",alpha,\" \",metrics.auc(fpr,tpr))\n",
        "  \n",
        "  alpha*=10\n",
        "  "
      ],
      "execution_count": 110,
      "outputs": [
        {
          "output_type": "stream",
          "text": [
            "Alpha=  0.0001   0.932785460036766\n",
            "Alpha=  0.0001   0.9332213778033664\n",
            "Alpha=  0.001   0.7606707551196827\n",
            "Alpha=  0.001   0.7481873664266858\n",
            "Alpha=  0.01   0.5\n",
            "Alpha=  0.01   0.5\n",
            "Alpha=  0.1   0.5\n",
            "Alpha=  0.1   0.5\n",
            "Alpha=  1.0   0.5\n",
            "Alpha=  1.0   0.5\n",
            "Alpha=  10.0   0.5\n",
            "Alpha=  10.0   0.5\n",
            "Alpha=  100.0   0.5\n",
            "Alpha=  100.0   0.5\n",
            "Alpha=  1000.0   0.5\n",
            "Alpha=  1000.0   0.5\n",
            "Alpha=  10000.0   0.5\n",
            "Alpha=  10000.0   0.5\n"
          ],
          "name": "stdout"
        }
      ]
    },
    {
      "metadata": {
        "id": "NF-EMDwVH-fd",
        "colab_type": "text"
      },
      "cell_type": "markdown",
      "source": [
        "**Observation :** Optimal Value of ALPHA=10^-2"
      ]
    },
    {
      "metadata": {
        "id": "3NDvDfNXIt_-",
        "colab_type": "code",
        "colab": {
          "base_uri": "https://localhost:8080/",
          "height": 312
        },
        "outputId": "4071eb75-4364-4a20-99d0-7345d9c2da7c"
      },
      "cell_type": "code",
      "source": [
        "clf = SGDClassifier(loss='hinge',alpha=0.001, penalty='l2') \n",
        "clf.fit(Train_tfidf,y_Train)\n",
        "calibarator=CalibratedClassifierCV(clf,cv='prefit',method='sigmoid')\n",
        "calibarator.fit(Train_tfidf,y_Train)\n",
        "y_pred=calibarator.predict_proba(test_tfidf)[:,1]\n",
        " #Drawing ROC curve\n",
        "fpr, tpr, thresholds = roc_curve(y_test,y_pred)\n",
        "roc_auc = metrics.auc(fpr, tpr)\n",
        "print(' AUC = ',metrics.auc(fpr, tpr))\n",
        "plt.figure()\n",
        "plt.plot(fpr, tpr, color='darkorange', lw=1, label='ROC curve (area = %0.2f)' % roc_auc)\n",
        "plt.plot([0, 1], [0, 1], color='navy', lw=1, linestyle='--')\n",
        "plt.xlim([0.0, 1.0])\n",
        "plt.ylim([0.0, 1.05])\n",
        "plt.xlabel('False Positive Rate')\n",
        "plt.ylabel('True Positive Rate')\n",
        "plt.title('Receiver operating characteristic')\n",
        "plt.legend(loc=\"lower right\")\n",
        "plt.show()\n"
      ],
      "execution_count": 112,
      "outputs": [
        {
          "output_type": "stream",
          "text": [
            " AUC =  0.9417379473417834\n"
          ],
          "name": "stdout"
        },
        {
          "output_type": "display_data",
          "data": {
            "image/png": "[encoded data removed]",
            "text/plain": [
              "<Figure size 432x288 with 1 Axes>"
            ]
          },
          "metadata": {
            "tags": []
          }
        }
      ]
    },
    {
      "metadata": {
        "id": "SuI1tniAp4Js",
        "colab_type": "code",
        "colab": {
          "base_uri": "https://localhost:8080/",
          "height": 173
        },
        "outputId": "24e705e1-bde7-4965-e344-5e939899b811"
      },
      "cell_type": "code",
      "source": [
        "#Confusion_Metrics\n",
        "y_pred=clf.predict(test_tfidf)\n",
        "print(metrics.classification_report(y_test,y_pred))"
      ],
      "execution_count": 113,
      "outputs": [
        {
          "output_type": "stream",
          "text": [
            "              precision    recall  f1-score   support\n",
            "\n",
            "           0       0.00      0.00      0.00      5267\n",
            "           1       0.82      1.00      0.90     24733\n",
            "\n",
            "   micro avg       0.82      0.82      0.82     30000\n",
            "   macro avg       0.41      0.50      0.45     30000\n",
            "weighted avg       0.68      0.82      0.75     30000\n",
            "\n"
          ],
          "name": "stdout"
        }
      ]
    },
    {
      "metadata": {
        "id": "C1A3xcMLI-da",
        "colab_type": "text"
      },
      "cell_type": "markdown",
      "source": [
        "**Top Positive Features**"
      ]
    },
    {
      "metadata": {
        "id": "7k1fiyKtJCvx",
        "colab_type": "code",
        "colab": {
          "base_uri": "https://localhost:8080/",
          "height": 364
        },
        "outputId": "8714a1ec-40f5-43b9-9e1e-2569dbaa0e7c"
      },
      "cell_type": "code",
      "source": [
        "feature_names=count_vector.get_feature_names()\n",
        "w=clf.coef_\n",
        "top=zip(w[0],feature_names)\n",
        "top=list(top)\n",
        "top.sort(reverse=True,key=lambda x:x[0])\n",
        "l=len(top[0])\n",
        "print('Weight\\t\\tTop Positive Feature')\n",
        "for i in range (1,20):\n",
        "  print(\"%.2f\\t\\t\"%top[i][0],top[i][1])"
      ],
      "execution_count": 114,
      "outputs": [
        {
          "output_type": "stream",
          "text": [
            "Weight\t\tTop Positive Feature\n",
            "0.52\t\t best\n",
            "0.41\t\t delicious\n",
            "0.40\t\t good\n",
            "0.37\t\t love\n",
            "0.34\t\t perfect\n",
            "0.32\t\t excellent\n",
            "0.29\t\t wonderful\n",
            "0.29\t\t loves\n",
            "0.27\t\t nice\n",
            "0.27\t\t amazing\n",
            "0.25\t\t tasty\n",
            "0.24\t\t find\n",
            "0.24\t\t favorite\n",
            "0.22\t\t easy\n",
            "0.22\t\t highly\n",
            "0.22\t\t pleased\n",
            "0.20\t\t awesome\n",
            "0.20\t\t smooth\n",
            "0.20\t\t little\n"
          ],
          "name": "stdout"
        }
      ]
    },
    {
      "metadata": {
        "id": "o8c9_YUcJYgV",
        "colab_type": "text"
      },
      "cell_type": "markdown",
      "source": [
        "**Top Negative Features**"
      ]
    },
    {
      "metadata": {
        "id": "hZrCnlgaJW4D",
        "colab_type": "code",
        "colab": {
          "base_uri": "https://localhost:8080/",
          "height": 364
        },
        "outputId": "8e9b077a-688d-442e-c90c-316602704419"
      },
      "cell_type": "code",
      "source": [
        "feature_names=count_vector.get_feature_names()\n",
        "w=clf.coef_\n",
        "top=zip(w[0],feature_names)\n",
        "top=list(top)\n",
        "top.sort(key=lambda x:x[0])\n",
        "l=len(top[0])\n",
        "print('Weight\\t\\tTop Negative Feature')\n",
        "for i in range (1,20):\n",
        "  print(\"%.2f\\t\\t\"%top[i][0],top[i][1])"
      ],
      "execution_count": 115,
      "outputs": [
        {
          "output_type": "stream",
          "text": [
            "Weight\t\tTop Negative Feature\n",
            "-0.77\t\t waste\n",
            "-0.76\t\t awful\n",
            "-0.71\t\t horrible\n",
            "-0.67\t\t terrible\n",
            "-0.63\t\t threw\n",
            "-0.63\t\t return\n",
            "-0.61\t\t money\n",
            "-0.59\t\t disappointed\n",
            "-0.56\t\t stale\n",
            "-0.52\t\t not\n",
            "-0.48\t\t disappointing\n",
            "-0.44\t\t refund\n",
            "-0.41\t\t bad\n",
            "-0.39\t\t disappointment\n",
            "-0.38\t\t worse\n",
            "-0.38\t\t disgusting\n",
            "-0.37\t\t away\n",
            "-0.33\t\t maybe\n",
            "-0.33\t\t unfortunately\n"
          ],
          "name": "stdout"
        }
      ]
    },
    {
      "metadata": {
        "id": "zgedJ1zQJdOC",
        "colab_type": "text"
      },
      "cell_type": "markdown",
      "source": [
        "**5.1.3 Linear SVM on Avg Word2Vec**"
      ]
    },
    {
      "metadata": {
        "id": "gncXra0AJgi5",
        "colab_type": "code",
        "colab": {
          "base_uri": "https://localhost:8080/",
          "height": 329
        },
        "outputId": "8f881a3a-0625-4ce1-8e8d-09dbd4a0add5"
      },
      "cell_type": "code",
      "source": [
        "AUC_score_training=[]\n",
        "AUC_score_cv=[]\n",
        "Alpha_training=[]\n",
        "Alpha_cv=[]\n",
        "alpha=0.0001\n",
        "while(alpha<=10000):\n",
        "  clf=SGDClassifier(loss='hinge',penalty='l2',alpha=alpha)\n",
        "  calibarator=CalibratedClassifierCV(clf,cv=3,method='sigmoid')\n",
        "  calibarator.fit(sent_vectors,y_train)\n",
        "  \n",
        "  #For Train Curve\n",
        "  y_predict_training=calibarator.predict_proba(sent_vectors)[:,1]\n",
        "  fpr,tpr,thresholds=roc_curve(y_train,y_predict_training)\n",
        "  if(not np.isnan(metrics.auc(fpr,tpr))):\n",
        "    Alpha_training.append(math.ceil(math.log(alpha,10)))\n",
        "    AUC_score_training.append(metrics.auc(fpr,tpr))\n",
        "    print(\"Alpha= \",alpha,\" \",metrics.auc(fpr,tpr))\n",
        "  \n",
        "  # For CV Curve\n",
        "  clf.fit(sent_vectors,y_train)\n",
        "  calibarator=CalibratedClassifierCV(clf,cv='prefit',method='sigmoid')\n",
        "  calibarator.fit(sent_vectors,y_train)\n",
        "  y_predict_cv=calibarator.predict_proba(sent_vectors_cv)[:,1]\n",
        "  fpr,tpr,thresholds=roc_curve(y_cv,y_predict_cv)\n",
        "  if(not np.isnan(metrics.auc(fpr,tpr))):\n",
        "    Alpha_cv.append(math.ceil(math.log(alpha,10)))\n",
        "    AUC_score_cv.append(metrics.auc(fpr,tpr))\n",
        "    print(\"Alpha= \",alpha,\" \",metrics.auc(fpr,tpr))\n",
        "  \n",
        "  alpha*=10"
      ],
      "execution_count": 116,
      "outputs": [
        {
          "output_type": "stream",
          "text": [
            "Alpha=  0.0001   0.8885253966721794\n",
            "Alpha=  0.0001   0.7277184828908292\n",
            "Alpha=  0.001   0.8955995787134459\n",
            "Alpha=  0.001   0.7533509107058025\n",
            "Alpha=  0.01   0.8944477589657459\n",
            "Alpha=  0.01   0.7680591040814051\n",
            "Alpha=  0.1   0.893144389316825\n",
            "Alpha=  0.1   0.7544612498047217\n",
            "Alpha=  1.0   0.8922240111885472\n",
            "Alpha=  1.0   0.7724603620128981\n",
            "Alpha=  10.0   0.7453827070878675\n",
            "Alpha=  10.0   0.7000118185788219\n",
            "Alpha=  100.0   0.6250597321698618\n",
            "Alpha=  100.0   0.6398522158237105\n",
            "Alpha=  1000.0   0.625060840728371\n",
            "Alpha=  1000.0   0.6398520080596475\n",
            "Alpha=  10000.0   0.6250602160916878\n",
            "Alpha=  10000.0   0.6398522158237105\n"
          ],
          "name": "stdout"
        }
      ]
    },
    {
      "metadata": {
        "id": "ZdH66ec3Ks-e",
        "colab_type": "code",
        "colab": {
          "base_uri": "https://localhost:8080/",
          "height": 295
        },
        "outputId": "899ba0c0-1265-4773-9977-f15fec892cad"
      },
      "cell_type": "code",
      "source": [
        "plt.plot(Alpha_training,AUC_score_training,label='Training')\n",
        "plt.plot(Alpha_cv,AUC_score_cv,label='CV')\n",
        "plt.ylabel('AUC Score')\n",
        "plt.xlabel('Log ALPHA')\n",
        "plt.title('Log ALPHA vs AUC penalty=L2')\n",
        "plt.legend()\n",
        "plt.show()"
      ],
      "execution_count": 117,
      "outputs": [
        {
          "output_type": "display_data",
          "data": {
            "image/png": "[encoded data removed]",
            "text/plain": [
              "<Figure size 432x288 with 1 Axes>"
            ]
          },
          "metadata": {
            "tags": []
          }
        }
      ]
    },
    {
      "metadata": {
        "id": "sXTm5ZR3K2eV",
        "colab_type": "text"
      },
      "cell_type": "markdown",
      "source": [
        " **Observation:** Optimal value of ALPHA=1"
      ]
    },
    {
      "metadata": {
        "id": "uFt4TBWhLAV9",
        "colab_type": "code",
        "colab": {
          "base_uri": "https://localhost:8080/",
          "height": 312
        },
        "outputId": "206ba260-460f-44ce-a4e9-50ebc73aef24"
      },
      "cell_type": "code",
      "source": [
        "clf = SGDClassifier(loss='hinge',alpha=0.01, penalty='l2') \n",
        "clf.fit(sent_vectors,y_train)\n",
        "calibarator=CalibratedClassifierCV(clf,cv='prefit',method='sigmoid')\n",
        "calibarator.fit(sent_vectors,y_train)\n",
        "y_pred=calibarator.predict_proba(sent_vectors_test)[:,1]\n",
        " #Drawing ROC curve\n",
        "fpr, tpr, thresholds = roc_curve(y_test,y_pred)\n",
        "roc_auc = metrics.auc(fpr, tpr)\n",
        "print(' AUC = ',metrics.auc(fpr, tpr))\n",
        "plt.figure()\n",
        "plt.plot(fpr, tpr, color='darkorange', lw=1, label='ROC curve (area = %0.2f)' % roc_auc)\n",
        "plt.plot([0, 1], [0, 1], color='navy', lw=1, linestyle='--')\n",
        "plt.xlim([0.0, 1.0])\n",
        "plt.ylim([0.0, 1.05])\n",
        "plt.xlabel('False Positive Rate')\n",
        "plt.ylabel('True Positive Rate')\n",
        "plt.title('Receiver operating characteristic')\n",
        "plt.legend(loc=\"lower right\")\n",
        "plt.show()\n"
      ],
      "execution_count": 119,
      "outputs": [
        {
          "output_type": "stream",
          "text": [
            " AUC =  0.7896474810440091\n"
          ],
          "name": "stdout"
        },
        {
          "output_type": "display_data",
          "data": {
            "image/png": "[encoded data removed]",
            "text/plain": [
              "<Figure size 432x288 with 1 Axes>"
            ]
          },
          "metadata": {
            "tags": []
          }
        }
      ]
    },
    {
      "metadata": {
        "id": "oQ1w1a6lr4sP",
        "colab_type": "code",
        "colab": {
          "base_uri": "https://localhost:8080/",
          "height": 173
        },
        "outputId": "da6bb7ad-fb4a-4564-a4b3-ccaf079510e7"
      },
      "cell_type": "code",
      "source": [
        "#Confusion_Metrices\n",
        "y_pred=clf.predict(sent_vectors_test)\n",
        "print(metrics.classification_report(y_test,y_pred))"
      ],
      "execution_count": 120,
      "outputs": [
        {
          "output_type": "stream",
          "text": [
            "              precision    recall  f1-score   support\n",
            "\n",
            "           0       0.69      0.01      0.02      5267\n",
            "           1       0.83      1.00      0.90     24733\n",
            "\n",
            "   micro avg       0.83      0.83      0.83     30000\n",
            "   macro avg       0.76      0.51      0.46     30000\n",
            "weighted avg       0.80      0.83      0.75     30000\n",
            "\n"
          ],
          "name": "stdout"
        }
      ]
    },
    {
      "metadata": {
        "id": "_VGVdV-qMKTJ",
        "colab_type": "text"
      },
      "cell_type": "markdown",
      "source": [
        "**5.1.4 Linear SVM on TF-IDF Weighted Word2Vec**"
      ]
    },
    {
      "metadata": {
        "id": "fWCnZEHjMVXj",
        "colab_type": "code",
        "colab": {
          "base_uri": "https://localhost:8080/",
          "height": 329
        },
        "outputId": "2c514b46-6a75-4694-fc11-7a1c63b3c561"
      },
      "cell_type": "code",
      "source": [
        "AUC_score_training=[]\n",
        "AUC_score_cv=[]\n",
        "Alpha_training=[]\n",
        "Alpha_cv=[]\n",
        "alpha=0.0001\n",
        "while(alpha<=10000):\n",
        "  clf=SGDClassifier(loss='hinge',penalty='l2',alpha=alpha)\n",
        "  calibarator=CalibratedClassifierCV(clf,cv=3,method='sigmoid')\n",
        "  calibarator.fit(tfidf_sent_vectors_train,y_train)\n",
        "  \n",
        "  #For Train Curve\n",
        "  y_predict_training=calibarator.predict_proba(tfidf_sent_vectors_train)[:,1]\n",
        "  fpr,tpr,thresholds=roc_curve(y_train,y_predict_training)\n",
        "  if(not np.isnan(metrics.auc(fpr,tpr))):\n",
        "    Alpha_training.append(math.ceil(math.log(alpha,10)))\n",
        "    AUC_score_training.append(metrics.auc(fpr,tpr))\n",
        "    print(\"Alpha= \",alpha,\" \",metrics.auc(fpr,tpr))\n",
        "  \n",
        "  # For CV Curve\n",
        "  clf.fit(tfidf_sent_vectors_train,y_train)\n",
        "  calibarator=CalibratedClassifierCV(clf,cv='prefit',method='sigmoid')\n",
        "  calibarator.fit(tfidf_sent_vectors_train,y_train)\n",
        "  y_predict_cv=calibarator.predict_proba(tfidf_sent_vectors_cv)[:,1]\n",
        "  fpr,tpr,thresholds=roc_curve(y_cv,y_predict_cv)\n",
        "  if(not np.isnan(metrics.auc(fpr,tpr))):\n",
        "    Alpha_cv.append(math.ceil(math.log(alpha,10)))\n",
        "    AUC_score_cv.append(metrics.auc(fpr,tpr))\n",
        "    print(\"Alpha= \",alpha,\" \",metrics.auc(fpr,tpr))\n",
        "  \n",
        "  alpha*=10"
      ],
      "execution_count": 121,
      "outputs": [
        {
          "output_type": "stream",
          "text": [
            "Alpha=  0.0001   0.862560550503978\n",
            "Alpha=  0.0001   0.6718185468581879\n",
            "Alpha=  0.001   0.8673441795315655\n",
            "Alpha=  0.001   0.7616582369061693\n",
            "Alpha=  0.01   0.86801871164394\n",
            "Alpha=  0.01   0.7383961413418922\n",
            "Alpha=  0.1   0.8683304190771595\n",
            "Alpha=  0.1   0.7348510791145575\n",
            "Alpha=  1.0   0.8689327850602007\n",
            "Alpha=  1.0   0.7269792024177345\n",
            "Alpha=  10.0   0.7557602836605597\n",
            "Alpha=  10.0   0.6754391712770977\n",
            "Alpha=  100.0   0.6192875332213621\n",
            "Alpha=  100.0   0.6190173878543526\n",
            "Alpha=  1000.0   0.6192871625578358\n",
            "Alpha=  1000.0   0.6190173239269485\n",
            "Alpha=  10000.0   0.6192867198208459\n",
            "Alpha=  10000.0   0.6190177714187769\n"
          ],
          "name": "stdout"
        }
      ]
    },
    {
      "metadata": {
        "id": "Rp1pgqUlNOCT",
        "colab_type": "code",
        "colab": {
          "base_uri": "https://localhost:8080/",
          "height": 295
        },
        "outputId": "b282ed0a-01bd-45b0-de8a-e55323b82e2f"
      },
      "cell_type": "code",
      "source": [
        "plt.plot(Alpha_training,AUC_score_training,label='Training')\n",
        "plt.plot(Alpha_cv,AUC_score_cv,label='CV')\n",
        "plt.ylabel('AUC Score')\n",
        "plt.xlabel('Log ALPHA')\n",
        "plt.title('Log ALPHA vs AUC penalty=L2')\n",
        "plt.legend()\n",
        "plt.show()"
      ],
      "execution_count": 122,
      "outputs": [
        {
          "output_type": "display_data",
          "data": {
            "image/png": "[encoded data removed]",
            "text/plain": [
              "<Figure size 432x288 with 1 Axes>"
            ]
          },
          "metadata": {
            "tags": []
          }
        }
      ]
    },
    {
      "metadata": {
        "id": "Y15ua2z3NTaY",
        "colab_type": "text"
      },
      "cell_type": "markdown",
      "source": [
        "**OBSERVATION:-** Optimal value of ALPHA =0.01"
      ]
    },
    {
      "metadata": {
        "id": "5ZLlc_UENcph",
        "colab_type": "code",
        "colab": {
          "base_uri": "https://localhost:8080/",
          "height": 312
        },
        "outputId": "e540ef12-e97a-4c71-cac5-e375b854f9c3"
      },
      "cell_type": "code",
      "source": [
        "clf = SGDClassifier(loss='hinge',alpha=0.01, penalty='l2') \n",
        "clf.fit(tfidf_sent_vectors_train,y_train)\n",
        "calibarator=CalibratedClassifierCV(clf,cv='prefit',method='sigmoid')\n",
        "calibarator.fit(tfidf_sent_vectors_train,y_train)\n",
        "y_pred=calibarator.predict_proba(tfidf_sent_vectors_test)[:,1]\n",
        " #Drawing ROC curve\n",
        "fpr, tpr, thresholds = roc_curve(y_test,y_pred)\n",
        "roc_auc = metrics.auc(fpr, tpr)\n",
        "print(' AUC = ',metrics.auc(fpr, tpr))\n",
        "plt.figure()\n",
        "plt.plot(fpr, tpr, color='darkorange', lw=1, label='ROC curve (area = %0.2f)' % roc_auc)\n",
        "plt.plot([0, 1], [0, 1], color='navy', lw=1, linestyle='--')\n",
        "plt.xlim([0.0, 1.0])\n",
        "plt.ylim([0.0, 1.05])\n",
        "plt.xlabel('False Positive Rate')\n",
        "plt.ylabel('True Positive Rate')\n",
        "plt.title('Receiver operating characteristic')\n",
        "plt.legend(loc=\"lower right\")\n",
        "plt.show()\n"
      ],
      "execution_count": 124,
      "outputs": [
        {
          "output_type": "stream",
          "text": [
            " AUC =  0.7337065805464215\n"
          ],
          "name": "stdout"
        },
        {
          "output_type": "display_data",
          "data": {
            "image/png": "[encoded data removed]",
            "text/plain": [
              "<Figure size 432x288 with 1 Axes>"
            ]
          },
          "metadata": {
            "tags": []
          }
        }
      ]
    },
    {
      "metadata": {
        "id": "HGUvTQjOs-ud",
        "colab_type": "code",
        "colab": {
          "base_uri": "https://localhost:8080/",
          "height": 173
        },
        "outputId": "cd02719a-bf8f-43e3-f764-7e4707327451"
      },
      "cell_type": "code",
      "source": [
        "#Confusion_Metrices\n",
        "y_pred=clf.predict(tfidf_sent_vectors_test)\n",
        "print(metrics.classification_report(y_test,y_pred))"
      ],
      "execution_count": 125,
      "outputs": [
        {
          "output_type": "stream",
          "text": [
            "              precision    recall  f1-score   support\n",
            "\n",
            "           0       0.00      0.00      0.00      5267\n",
            "           1       0.82      1.00      0.90     24733\n",
            "\n",
            "   micro avg       0.82      0.82      0.82     30000\n",
            "   macro avg       0.41      0.50      0.45     30000\n",
            "weighted avg       0.68      0.82      0.75     30000\n",
            "\n"
          ],
          "name": "stdout"
        }
      ]
    },
    {
      "metadata": {
        "id": "Ku3JPJBpOHF-",
        "colab_type": "text"
      },
      "cell_type": "markdown",
      "source": [
        "# 5.2 RBF SVM"
      ]
    },
    {
      "metadata": {
        "id": "3Nx11heKOOyj",
        "colab_type": "code",
        "colab": {}
      },
      "cell_type": "code",
      "source": [
        "from sklearn.svm import SVC"
      ],
      "execution_count": 0,
      "outputs": []
    },
    {
      "metadata": {
        "id": "BO5JZt6ahxJc",
        "colab_type": "text"
      },
      "cell_type": "markdown",
      "source": [
        "**5.2.1 RBF SVM on BOWs**"
      ]
    },
    {
      "metadata": {
        "id": "YpiZW5i1Psc0",
        "colab_type": "text"
      },
      "cell_type": "markdown",
      "source": [
        "**Simple Cross Validation**"
      ]
    },
    {
      "metadata": {
        "id": "_l391BrcPXUg",
        "colab_type": "code",
        "colab": {
          "base_uri": "https://localhost:8080/",
          "height": 329
        },
        "outputId": "487ac893-b86d-4825-8128-4be32e8f22de"
      },
      "cell_type": "code",
      "source": [
        "AUC_score_training=[]\n",
        "AUC_score_cv=[]\n",
        "C=[]\n",
        "c=0.0001\n",
        "while(c<=10000):\n",
        "  clf=SVC(C=c,kernel='rbf',gamma='auto')\n",
        "  calibarator=CalibratedClassifierCV(clf,cv=3,method='sigmoid')\n",
        "  calibarator.fit(train_bows_rbf,y_train_rbf)\n",
        "  #For Train Curve\n",
        "  y_predict_training=calibarator.predict_proba(train_bows_rbf)[:,1]\n",
        "  fpr,tpr,thresholds=roc_curve(y_train_rbf,y_predict_training)\n",
        "  if(not np.isnan(metrics.auc(fpr,tpr))):\n",
        "    C.append(math.ceil(math.log(c,10)))\n",
        "    AUC_score_training.append(metrics.auc(fpr,tpr))\n",
        "    print(\"Train->C= \",c,\" \",metrics.auc(fpr,tpr))\n",
        "  \n",
        "  # For CV Curve\n",
        "  clf.fit(train_bows_rbf,y_train_rbf)\n",
        "  calibarator=CalibratedClassifierCV(clf,cv='prefit',method='sigmoid')\n",
        "  calibarator.fit(train_bows_rbf,y_train_rbf)\n",
        "  y_predict_cv=calibarator.predict_proba(cv_bows_rbf)[:,1]\n",
        "  fpr,tpr,thresholds=roc_curve(y_cv_rbf,y_predict_cv)\n",
        "  if(not np.isnan(metrics.auc(fpr,tpr))):\n",
        "    #Alpha.append(math.ceil(math.log(alpha,10)))\n",
        "    AUC_score_cv.append(metrics.auc(fpr,tpr))\n",
        "    print(\"CV->C= \",c,\" \",metrics.auc(fpr,tpr))\n",
        "  \n",
        "  c*=10"
      ],
      "execution_count": 127,
      "outputs": [
        {
          "output_type": "stream",
          "text": [
            "Train->C=  0.0001   0.71312931740846\n",
            "CV->C=  0.0001   0.7262462936125496\n",
            "Train->C=  0.001   0.8505284405124104\n",
            "CV->C=  0.001   0.8464999056611017\n",
            "Train->C=  0.01   0.9144570453247731\n",
            "CV->C=  0.01   0.8838815426652213\n",
            "Train->C=  0.1   0.9162769316564628\n",
            "CV->C=  0.1   0.8848120029784426\n",
            "Train->C=  1.0   0.9164401370996337\n",
            "CV->C=  1.0   0.884916240390866\n",
            "Train->C=  10.0   0.9312293394840043\n",
            "CV->C=  10.0   0.8908747417800922\n",
            "Train->C=  100.0   0.9617520232311343\n",
            "CV->C=  100.0   0.892738894574362\n",
            "Train->C=  1000.0   0.9900201945772542\n",
            "CV->C=  1000.0   0.8712696238039463\n",
            "Train->C=  10000.0   0.9952141702927431\n",
            "CV->C=  10000.0   0.8325320923963656\n"
          ],
          "name": "stdout"
        }
      ]
    },
    {
      "metadata": {
        "id": "a9oxPdu7TRmq",
        "colab_type": "code",
        "colab": {
          "base_uri": "https://localhost:8080/",
          "height": 295
        },
        "outputId": "254e882a-8de2-45d7-db8f-9fe5d364fbc4"
      },
      "cell_type": "code",
      "source": [
        "plt.plot(C,AUC_score_training,label='Training')\n",
        "plt.plot(C,AUC_score_cv,label='CV')\n",
        "plt.ylabel('AUC Score')\n",
        "plt.xlabel('Log C')\n",
        "plt.title('Log C vs AUC ')\n",
        "plt.legend()\n",
        "plt.show()"
      ],
      "execution_count": 128,
      "outputs": [
        {
          "output_type": "display_data",
          "data": {
            "image/png": "[encoded data removed]",
            "text/plain": [
              "<Figure size 432x288 with 1 Axes>"
            ]
          },
          "metadata": {
            "tags": []
          }
        }
      ]
    },
    {
      "metadata": {
        "id": "IctFf0Z1T2lq",
        "colab_type": "text"
      },
      "cell_type": "markdown",
      "source": [
        "**Observation:** Optimal value of C=0.1 having auc=0.87"
      ]
    },
    {
      "metadata": {
        "id": "pK3qHLcbVUen",
        "colab_type": "code",
        "colab": {
          "base_uri": "https://localhost:8080/",
          "height": 312
        },
        "outputId": "172a467b-b4ef-4c9b-a1f1-e89b2ddeb595"
      },
      "cell_type": "code",
      "source": [
        "clf = SVC(C=0.1,kernel='rbf',gamma='auto')\n",
        "clf.fit(Train_bows_rbf,y_Train_rbf)\n",
        "calibarator=CalibratedClassifierCV(clf,cv='prefit',method='sigmoid')\n",
        "calibarator.fit(Train_bows_rbf,y_Train_rbf)\n",
        "y_pred=calibarator.predict_proba(test_bows_rbf)[:,1]\n",
        " #Drawing ROC curve\n",
        "fpr, tpr, thresholds = roc_curve(y_test_rbf,y_pred)\n",
        "roc_auc = metrics.auc(fpr, tpr)\n",
        "print(' AUC = ',metrics.auc(fpr, tpr))\n",
        "plt.figure()\n",
        "plt.plot(fpr, tpr, color='darkorange', lw=1, label='ROC curve (area = %0.2f)' % roc_auc)\n",
        "plt.plot([0, 1], [0, 1], color='navy', lw=1, linestyle='--')\n",
        "plt.xlim([0.0, 1.0])\n",
        "plt.ylim([0.0, 1.05])\n",
        "plt.xlabel('False Positive Rate')\n",
        "plt.ylabel('True Positive Rate')\n",
        "plt.title('Receiver operating characteristic')\n",
        "plt.legend(loc=\"lower right\")\n",
        "plt.show()\n"
      ],
      "execution_count": 129,
      "outputs": [
        {
          "output_type": "stream",
          "text": [
            " AUC =  0.9096241206512959\n"
          ],
          "name": "stdout"
        },
        {
          "output_type": "display_data",
          "data": {
            "image/png": "[encoded data removed]",
            "text/plain": [
              "<Figure size 432x288 with 1 Axes>"
            ]
          },
          "metadata": {
            "tags": []
          }
        }
      ]
    },
    {
      "metadata": {
        "id": "Iyrz1I9punt5",
        "colab_type": "code",
        "colab": {
          "base_uri": "https://localhost:8080/",
          "height": 173
        },
        "outputId": "6f4862b0-634f-41e4-907d-7d579421e421"
      },
      "cell_type": "code",
      "source": [
        "#Confusion_Matrices\n",
        "y_pred=clf.predict(test_bows_rbf)\n",
        "print(metrics.classification_report(y_test_rbf,y_pred))"
      ],
      "execution_count": 130,
      "outputs": [
        {
          "output_type": "stream",
          "text": [
            "              precision    recall  f1-score   support\n",
            "\n",
            "           0       0.00      0.00      0.00      1084\n",
            "           1       0.82      1.00      0.90      4916\n",
            "\n",
            "   micro avg       0.82      0.82      0.82      6000\n",
            "   macro avg       0.41      0.50      0.45      6000\n",
            "weighted avg       0.67      0.82      0.74      6000\n",
            "\n"
          ],
          "name": "stdout"
        }
      ]
    },
    {
      "metadata": {
        "id": "20P1OC7ZV11M",
        "colab_type": "text"
      },
      "cell_type": "markdown",
      "source": [
        "**5.1.2 RBF SVM on TFIDF**"
      ]
    },
    {
      "metadata": {
        "id": "Ds4AkZdJV9A3",
        "colab_type": "code",
        "colab": {
          "base_uri": "https://localhost:8080/",
          "height": 323
        },
        "outputId": "6382df3e-a9fe-43b7-9d89-8912d2cfba6b"
      },
      "cell_type": "code",
      "source": [
        "AUC_score_training=[]\n",
        "AUC_score_cv=[]\n",
        "C=[]\n",
        "c=0.0001\n",
        "while(c<=10000):\n",
        "  clf=SVC(C=c,kernel='rbf',gamma='auto')\n",
        "  calibarator=CalibratedClassifierCV(clf,cv=3,method='sigmoid')\n",
        "  calibarator.fit(train_tfidf_rbf,y_train_rbf)\n",
        "  \n",
        "  #For Train Curve\n",
        "  y_predict_training=calibarator.predict_proba(train_tfidf_rbf)[:,1]\n",
        "  fpr,tpr,thresholds=roc_curve(y_train_rbf,y_predict_training)\n",
        "  if(not np.isnan(metrics.auc(fpr,tpr))):\n",
        "    C.append(math.ceil(math.log(c,10)))\n",
        "    AUC_score_training.append(metrics.auc(fpr,tpr))\n",
        "    print(\"Train->C= \",c,\" \",metrics.auc(fpr,tpr))\n",
        "  \n",
        "  # For CV Curve\n",
        "  clf.fit(train_tfidf_rbf,y_train_rbf)\n",
        "  calibarator=CalibratedClassifierCV(clf,cv='prefit',method='sigmoid')\n",
        "  calibarator.fit(train_tfidf_rbf,y_train_rbf)\n",
        "  y_predict_cv=calibarator.predict_proba(cv_tfidf_rbf)[:,1]\n",
        "  fpr,tpr,thresholds=roc_curve(y_cv_rbf,y_predict_cv)\n",
        "  if(not np.isnan(metrics.auc(fpr,tpr))):\n",
        "    #Alpha.append(math.ceil(math.log(alpha,10)))\n",
        "    AUC_score_cv.append(metrics.auc(fpr,tpr))\n",
        "    print(\"CV->C= \",c,\" \",metrics.auc(fpr,tpr))\n",
        "  \n",
        "  c*=10\n",
        "  "
      ],
      "execution_count": 131,
      "outputs": [
        {
          "output_type": "stream",
          "text": [
            "Train->C=  0.0001   0.9145448708607142\n",
            "CV->C=  0.0001   0.8847150379436303\n",
            "Train->C=  0.001   0.9153015827397313\n",
            "CV->C=  0.001   0.8847150379436303\n",
            "Train->C=  0.01   0.9213074371281703\n",
            "CV->C=  0.01   0.8847150379436303\n",
            "Train->C=  0.1   0.9202898083805686\n",
            "CV->C=  0.1   0.8847150379436303\n",
            "Train->C=  1.0   0.9368840682624198\n",
            "CV->C=  1.0   0.9083579415777585\n",
            "Train->C=  10.0   0.9798559996624674\n",
            "CV->C=  10.0   0.9261134515148566\n",
            "Train->C=  100.0   0.981399345889531\n",
            "CV->C=  100.0   0.9278725588547461\n",
            "Train->C=  1000.0   0.9813579487273639\n",
            "CV->C=  1000.0   0.9278430653233238\n",
            "Train->C=  10000.0   0.9894460185860019\n",
            "CV->C=  10000.0   0.9289654356012782\n"
          ],
          "name": "stdout"
        }
      ]
    },
    {
      "metadata": {
        "id": "h2HTqesJeX-X",
        "colab_type": "code",
        "colab": {
          "base_uri": "https://localhost:8080/",
          "height": 294
        },
        "outputId": "c8d39c21-01e6-44a9-d2f4-4ab5a61f08d9"
      },
      "cell_type": "code",
      "source": [
        "plt.plot(C,AUC_score_training,label='Training')\n",
        "plt.plot(C,AUC_score_cv,label='CV')\n",
        "plt.ylabel('AUC Score')\n",
        "plt.xlabel('Log C')\n",
        "plt.title('Log C vs AUC ')\n",
        "plt.legend()\n",
        "plt.show()"
      ],
      "execution_count": 132,
      "outputs": [
        {
          "output_type": "display_data",
          "data": {
            "image/png": "[encoded data removed]",
            "text/plain": [
              "<Figure size 432x288 with 1 Axes>"
            ]
          },
          "metadata": {
            "tags": []
          }
        }
      ]
    },
    {
      "metadata": {
        "id": "f-4WVOO3fTJC",
        "colab_type": "text"
      },
      "cell_type": "markdown",
      "source": [
        "**Observation:** Optimal Value of C=100"
      ]
    },
    {
      "metadata": {
        "id": "esAYkE20fyYq",
        "colab_type": "code",
        "colab": {
          "base_uri": "https://localhost:8080/",
          "height": 311
        },
        "outputId": "d8f46aca-e065-493a-d95d-b9374e079231"
      },
      "cell_type": "code",
      "source": [
        "clf = SVC(C=100,kernel='rbf',gamma='auto')\n",
        "clf.fit(Train_tfidf_rbf,y_Train_rbf)\n",
        "calibarator=CalibratedClassifierCV(clf,cv='prefit',method='sigmoid')\n",
        "calibarator.fit(Train_tfidf_rbf,y_Train_rbf)\n",
        "y_pred=calibarator.predict_proba(test_tfidf_rbf)[:,1]\n",
        " #Drawing ROC curve\n",
        "fpr, tpr, thresholds = roc_curve(y_test_rbf,y_pred)\n",
        "roc_auc = metrics.auc(fpr, tpr)\n",
        "print(' AUC = ',metrics.auc(fpr, tpr))\n",
        "plt.figure()\n",
        "plt.plot(fpr, tpr, color='darkorange', lw=1, label='ROC curve (area = %0.2f)' % roc_auc)\n",
        "plt.plot([0, 1], [0, 1], color='navy', lw=1, linestyle='--')\n",
        "plt.xlim([0.0, 1.0])\n",
        "plt.ylim([0.0, 1.05])\n",
        "plt.xlabel('False Positive Rate')\n",
        "plt.ylabel('True Positive Rate')\n",
        "plt.title('Receiver operating characteristic')\n",
        "plt.legend(loc=\"lower right\")\n",
        "plt.show()\n"
      ],
      "execution_count": 133,
      "outputs": [
        {
          "output_type": "stream",
          "text": [
            " AUC =  0.9329234835269427\n"
          ],
          "name": "stdout"
        },
        {
          "output_type": "display_data",
          "data": {
            "image/png": "[encoded data removed]",
            "text/plain": [
              "<Figure size 432x288 with 1 Axes>"
            ]
          },
          "metadata": {
            "tags": []
          }
        }
      ]
    },
    {
      "metadata": {
        "id": "OAGw4kSMvxRU",
        "colab_type": "code",
        "colab": {
          "base_uri": "https://localhost:8080/",
          "height": 170
        },
        "outputId": "3b9baa2b-5c14-4600-b2c9-642326b8b1c0"
      },
      "cell_type": "code",
      "source": [
        "#Confusion_Metrices\n",
        "y_pred=clf.predict(test_tfidf_rbf)\n",
        "print(metrics.classification_report(y_test_rbf,y_pred))"
      ],
      "execution_count": 134,
      "outputs": [
        {
          "output_type": "stream",
          "text": [
            "              precision    recall  f1-score   support\n",
            "\n",
            "           0       0.00      0.00      0.00      1084\n",
            "           1       0.82      1.00      0.90      4916\n",
            "\n",
            "   micro avg       0.82      0.82      0.82      6000\n",
            "   macro avg       0.41      0.50      0.45      6000\n",
            "weighted avg       0.67      0.82      0.74      6000\n",
            "\n"
          ],
          "name": "stdout"
        }
      ]
    },
    {
      "metadata": {
        "id": "0xFHihxBhY_i",
        "colab_type": "text"
      },
      "cell_type": "markdown",
      "source": [
        "**5.2.3 RBF SVM on Avg Word2Vec**"
      ]
    },
    {
      "metadata": {
        "id": "sIaVSf9qh8Ao",
        "colab_type": "code",
        "colab": {
          "base_uri": "https://localhost:8080/",
          "height": 329
        },
        "outputId": "52b001e1-e6e8-4630-e469-654f1a1cbbee"
      },
      "cell_type": "code",
      "source": [
        "AUC_score_training=[]\n",
        "AUC_score_cv=[]\n",
        "C=[]\n",
        "c=0.0001\n",
        "while(c<=10000):\n",
        "  clf=SVC(C=c,kernel='rbf',gamma='auto')\n",
        "  calibarator=CalibratedClassifierCV(clf,cv=3,method='sigmoid')\n",
        "  calibarator.fit(sent_vectors_rbf,y_train_rbf)\n",
        "  \n",
        " \n",
        "  #For Train Curve\n",
        "  y_predict_training=calibarator.predict_proba(sent_vectors_rbf)[:,1]\n",
        "  fpr,tpr,thresholds=roc_curve(y_train_rbf,y_predict_training)\n",
        "  if(not np.isnan(metrics.auc(fpr,tpr))):\n",
        "    C.append(math.ceil(math.log(c,10)))\n",
        "    AUC_score_training.append(metrics.auc(fpr,tpr))\n",
        "    print(\"Train->C= \",c,\" \",metrics.auc(fpr,tpr))\n",
        "  \n",
        "  # For CV Curve\n",
        "  clf.fit(sent_vectors_rbf,y_train_rbf)\n",
        "  calibarator=CalibratedClassifierCV(clf,cv='prefit',method='sigmoid')\n",
        "  calibarator.fit(sent_vectors_rbf,y_train_rbf)\n",
        "  y_predict_cv=calibarator.predict_proba(sent_vectors_rbf_cv)[:,1]\n",
        "  fpr,tpr,thresholds=roc_curve(y_cv_rbf,y_predict_cv)\n",
        "  if(not np.isnan(metrics.auc(fpr,tpr))):\n",
        "    #Alpha.append(math.ceil(math.log(alpha,10)))\n",
        "    AUC_score_cv.append(metrics.auc(fpr,tpr))\n",
        "    print(\"CV->C= \",c,\" \",metrics.auc(fpr,tpr))\n",
        "  \n",
        "  c*=10\n",
        "  "
      ],
      "execution_count": 135,
      "outputs": [
        {
          "output_type": "stream",
          "text": [
            "Train->C=  0.0001   0.7462280697650752\n",
            "CV->C=  0.0001   0.5384133045724266\n",
            "Train->C=  0.001   0.7933686689152946\n",
            "CV->C=  0.001   0.4586688559216749\n",
            "Train->C=  0.01   0.8055242526907493\n",
            "CV->C=  0.01   0.4929981144340939\n",
            "Train->C=  0.1   0.8310560627909331\n",
            "CV->C=  0.1   0.411627077324363\n",
            "Train->C=  1.0   0.8658114960360672\n",
            "CV->C=  1.0   0.4088235757553475\n",
            "Train->C=  10.0   0.873475178782339\n",
            "CV->C=  10.0   0.40952334008991087\n",
            "Train->C=  100.0   0.8740447648963363\n",
            "CV->C=  100.0   0.4101996712077277\n",
            "Train->C=  1000.0   0.8768357633349837\n",
            "CV->C=  1000.0   0.4113935531988563\n",
            "Train->C=  10000.0   0.8913008497716403\n",
            "CV->C=  10000.0   0.41985456052820086\n"
          ],
          "name": "stdout"
        }
      ]
    },
    {
      "metadata": {
        "id": "VJTeAfHviP5I",
        "colab_type": "code",
        "colab": {
          "base_uri": "https://localhost:8080/",
          "height": 295
        },
        "outputId": "2eb7fb4f-e533-4094-bfcd-35cf1453b9d5"
      },
      "cell_type": "code",
      "source": [
        "plt.plot(C,AUC_score_training,label='Training')\n",
        "plt.plot(C,AUC_score_cv,label='CV')\n",
        "plt.ylabel('AUC Score')\n",
        "plt.xlabel('Log C')\n",
        "plt.title('Log C vs AUC ')\n",
        "plt.legend()\n",
        "plt.show()"
      ],
      "execution_count": 136,
      "outputs": [
        {
          "output_type": "display_data",
          "data": {
            "image/png": "[encoded data removed]",
            "text/plain": [
              "<Figure size 432x288 with 1 Axes>"
            ]
          },
          "metadata": {
            "tags": []
          }
        }
      ]
    },
    {
      "metadata": {
        "id": "9WKUxDhL1B_h",
        "colab_type": "text"
      },
      "cell_type": "markdown",
      "source": [
        "**Optimal value of c= 0.0001**"
      ]
    },
    {
      "metadata": {
        "id": "WyLx7ctUiWGN",
        "colab_type": "code",
        "colab": {
          "base_uri": "https://localhost:8080/",
          "height": 312
        },
        "outputId": "2b6d5703-ad0c-41e7-cb98-34537559fdb7"
      },
      "cell_type": "code",
      "source": [
        "clf = SVC(C=0.0001,kernel='rbf',gamma='auto')\n",
        "clf.fit(sent_vectors_rbf,y_train_rbf)\n",
        "calibarator=CalibratedClassifierCV(clf,cv='prefit',method='sigmoid')\n",
        "calibarator.fit(sent_vectors_rbf,y_train_rbf)\n",
        "y_pred=calibarator.predict_proba(sent_vectors_rbf_test)[:,1]\n",
        " #Drawing ROC curve\n",
        "fpr, tpr, thresholds = roc_curve(y_test_rbf,y_pred)\n",
        "roc_auc = metrics.auc(fpr, tpr)\n",
        "print(' AUC = ',metrics.auc(fpr, tpr))\n",
        "plt.figure()\n",
        "plt.plot(fpr, tpr, color='darkorange', lw=1, label='ROC curve (area = %0.2f)' % roc_auc)\n",
        "plt.plot([0, 1], [0, 1], color='navy', lw=1, linestyle='--')\n",
        "plt.xlim([0.0, 1.0])\n",
        "plt.ylim([0.0, 1.05])\n",
        "plt.xlabel('False Positive Rate')\n",
        "plt.ylabel('True Positive Rate')\n",
        "plt.title('Receiver operating characteristic')\n",
        "plt.legend(loc=\"lower right\")\n",
        "plt.show()\n"
      ],
      "execution_count": 144,
      "outputs": [
        {
          "output_type": "stream",
          "text": [
            " AUC =  0.6069802947826062\n"
          ],
          "name": "stdout"
        },
        {
          "output_type": "display_data",
          "data": {
            "image/png": "[encoded data removed]",
            "text/plain": [
              "<Figure size 432x288 with 1 Axes>"
            ]
          },
          "metadata": {
            "tags": []
          }
        }
      ]
    },
    {
      "metadata": {
        "id": "T_8eNj7MyPn7",
        "colab_type": "code",
        "colab": {
          "base_uri": "https://localhost:8080/",
          "height": 173
        },
        "outputId": "28cfd5b3-a6e7-4a62-b95f-eff856b30088"
      },
      "cell_type": "code",
      "source": [
        "#Confusion_Metrices\n",
        "y_pred=clf.predict(sent_vectors_rbf_test)\n",
        "print(metrics.classification_report(y_test_rbf,y_pred))"
      ],
      "execution_count": 145,
      "outputs": [
        {
          "output_type": "stream",
          "text": [
            "              precision    recall  f1-score   support\n",
            "\n",
            "           0       0.00      0.00      0.00      1084\n",
            "           1       0.82      1.00      0.90      4916\n",
            "\n",
            "   micro avg       0.82      0.82      0.82      6000\n",
            "   macro avg       0.41      0.50      0.45      6000\n",
            "weighted avg       0.67      0.82      0.74      6000\n",
            "\n"
          ],
          "name": "stdout"
        }
      ]
    },
    {
      "metadata": {
        "id": "zIASIyBTi_Vr",
        "colab_type": "text"
      },
      "cell_type": "markdown",
      "source": [
        "**5.2.4  RBF SVM on TFIDF-W2Vec**"
      ]
    },
    {
      "metadata": {
        "id": "kQYm5RrRj3Ld",
        "colab_type": "code",
        "colab": {
          "base_uri": "https://localhost:8080/",
          "height": 329
        },
        "outputId": "a8128623-037e-4fec-d988-21c45d8e4ae2"
      },
      "cell_type": "code",
      "source": [
        "AUC_score_training=[]\n",
        "AUC_score_cv=[]\n",
        "C=[]\n",
        "c=0.0001\n",
        "while(c<=10000):\n",
        "  clf=SVC(C=c,kernel='rbf',gamma='auto')\n",
        "  calibarator=CalibratedClassifierCV(clf,cv=3,method='sigmoid')\n",
        "  calibarator.fit(tfidf_sent_vectors_rbf_train,y_train_rbf)\n",
        "  #For Train Curve\n",
        "  y_predict_training=calibarator.predict_proba(tfidf_sent_vectors_rbf_train)[:,1]\n",
        "  fpr,tpr,thresholds=roc_curve(y_train_rbf,y_predict_training)\n",
        "  if(not np.isnan(metrics.auc(fpr,tpr))):\n",
        "    C.append(math.ceil(math.log(c,10)))\n",
        "    AUC_score_training.append(metrics.auc(fpr,tpr))\n",
        "    print(\"Train->C= \",c,\" \",metrics.auc(fpr,tpr))\n",
        "  \n",
        "  # For CV Curve\n",
        "  clf.fit(tfidf_sent_vectors_rbf_train,y_train_rbf)\n",
        "  calibarator=CalibratedClassifierCV(clf,cv='prefit',method='sigmoid')\n",
        "  calibarator.fit(tfidf_sent_vectors_rbf_train,y_train_rbf)\n",
        "  y_predict_cv=calibarator.predict_proba(tfidf_sent_vectors_rbf_cv)[:,1]\n",
        "  fpr,tpr,thresholds=roc_curve(y_cv_rbf,y_predict_cv)\n",
        "  if(not np.isnan(metrics.auc(fpr,tpr))):\n",
        "    #Alpha.append(math.ceil(math.log(alpha,10)))\n",
        "    AUC_score_cv.append(metrics.auc(fpr,tpr))\n",
        "    print(\"CV->C= \",c,\" \",metrics.auc(fpr,tpr))\n",
        "  \n",
        "  c*=10\n",
        "  "
      ],
      "execution_count": 140,
      "outputs": [
        {
          "output_type": "stream",
          "text": [
            "Train->C=  0.0001   0.7039654509346976\n",
            "CV->C=  0.0001   0.5880202123615067\n",
            "Train->C=  0.001   0.7437588040686438\n",
            "CV->C=  0.001   0.5988532268549512\n",
            "Train->C=  0.01   0.7821574523850987\n",
            "CV->C=  0.01   0.5529136174866743\n",
            "Train->C=  0.1   0.7971811798438365\n",
            "CV->C=  0.1   0.5254272622851668\n",
            "Train->C=  1.0   0.8527555019167593\n",
            "CV->C=  1.0   0.5339048344746253\n",
            "Train->C=  10.0   0.859249913432267\n",
            "CV->C=  10.0   0.5379446402374997\n",
            "Train->C=  100.0   0.8605460241556413\n",
            "CV->C=  100.0   0.5381135210064647\n",
            "Train->C=  1000.0   0.867331981143725\n",
            "CV->C=  1000.0   0.5445152334089796\n",
            "Train->C=  10000.0   0.8926517742214664\n",
            "CV->C=  10000.0   0.48549382878156566\n"
          ],
          "name": "stdout"
        }
      ]
    },
    {
      "metadata": {
        "id": "SjxA__IxpQdF",
        "colab_type": "code",
        "colab": {
          "base_uri": "https://localhost:8080/",
          "height": 295
        },
        "outputId": "7cad4378-ea6a-42aa-a80c-5813b1394f14"
      },
      "cell_type": "code",
      "source": [
        "plt.plot(C,AUC_score_training,label='Training')\n",
        "plt.plot(C,AUC_score_cv,label='CV')\n",
        "plt.ylabel('AUC Score')\n",
        "plt.xlabel('Log C')\n",
        "plt.title('Log C vs AUC ')\n",
        "plt.legend()\n",
        "plt.show()"
      ],
      "execution_count": 141,
      "outputs": [
        {
          "output_type": "display_data",
          "data": {
            "image/png": "[encoded data removed]",
            "text/plain": [
              "<Figure size 432x288 with 1 Axes>"
            ]
          },
          "metadata": {
            "tags": []
          }
        }
      ]
    },
    {
      "metadata": {
        "id": "_qH9zRXNqNWJ",
        "colab_type": "text"
      },
      "cell_type": "markdown",
      "source": [
        "**Observation:** Optimal Value of C=0.01"
      ]
    },
    {
      "metadata": {
        "id": "UjErDGY9pfJ6",
        "colab_type": "code",
        "colab": {
          "base_uri": "https://localhost:8080/",
          "height": 312
        },
        "outputId": "ce178a75-6b1c-4082-ba62-3786b17c5984"
      },
      "cell_type": "code",
      "source": [
        "clf = SVC(C=0.01,kernel='rbf',gamma='auto')\n",
        "clf.fit(tfidf_sent_vectors_rbf_train,y_train_rbf)\n",
        "calibarator=CalibratedClassifierCV(clf,cv='prefit',method='sigmoid')\n",
        "calibarator.fit(tfidf_sent_vectors_rbf_train,y_train_rbf)\n",
        "y_pred=calibarator.predict_proba(tfidf_sent_vectors_rbf_test)[:,1]\n",
        " #Drawing ROC curve\n",
        "fpr, tpr, thresholds = roc_curve(y_test_rbf,y_pred)\n",
        "roc_auc = metrics.auc(fpr, tpr)\n",
        "print(' AUC = ',metrics.auc(fpr, tpr))\n",
        "plt.figure()\n",
        "plt.plot(fpr, tpr, color='darkorange', lw=1, label='ROC curve (area = %0.2f)' % roc_auc)\n",
        "plt.plot([0, 1], [0, 1], color='navy', lw=1, linestyle='--')\n",
        "plt.xlim([0.0, 1.0])\n",
        "plt.ylim([0.0, 1.05])\n",
        "plt.xlabel('False Positive Rate')\n",
        "plt.ylabel('True Positive Rate')\n",
        "plt.title('Receiver operating characteristic')\n",
        "plt.legend(loc=\"lower right\")\n",
        "plt.show()\n"
      ],
      "execution_count": 142,
      "outputs": [
        {
          "output_type": "stream",
          "text": [
            " AUC =  0.5738173454252851\n"
          ],
          "name": "stdout"
        },
        {
          "output_type": "display_data",
          "data": {
            "image/png": "[encoded data removed]",
            "text/plain": [
              "<Figure size 432x288 with 1 Axes>"
            ]
          },
          "metadata": {
            "tags": []
          }
        }
      ]
    },
    {
      "metadata": {
        "id": "QDeiacjb0E2k",
        "colab_type": "code",
        "colab": {
          "base_uri": "https://localhost:8080/",
          "height": 173
        },
        "outputId": "01ed730f-bb60-4d12-813f-0b98bbfc56b8"
      },
      "cell_type": "code",
      "source": [
        "#Confusion_Metrices\n",
        "y_pred=clf.predict(tfidf_sent_vectors_rbf_test)\n",
        "print(metrics.classification_report(y_test_rbf,y_pred))"
      ],
      "execution_count": 143,
      "outputs": [
        {
          "output_type": "stream",
          "text": [
            "              precision    recall  f1-score   support\n",
            "\n",
            "           0       0.00      0.00      0.00      1084\n",
            "           1       0.82      1.00      0.90      4916\n",
            "\n",
            "   micro avg       0.82      0.82      0.82      6000\n",
            "   macro avg       0.41      0.50      0.45      6000\n",
            "weighted avg       0.67      0.82      0.74      6000\n",
            "\n"
          ],
          "name": "stdout"
        }
      ]
    }
  ]
}