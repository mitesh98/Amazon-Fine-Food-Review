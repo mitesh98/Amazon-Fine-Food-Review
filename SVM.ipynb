{
  "nbformat": 4,
  "nbformat_minor": 0,
  "metadata": {
    "colab": {
      "name": "SVM.ipynb",
      "version": "0.3.2",
      "provenance": [],
      "collapsed_sections": [
        "VaDIZqZarRU1",
        "dqt6pQRoxxKq",
        "P91IWS4DyAEP"
      ],
      "include_colab_link": true
    },
    "kernelspec": {
      "name": "python3",
      "display_name": "Python 3"
    }
  },
  "cells": [
    {
      "cell_type": "markdown",
      "metadata": {
        "id": "view-in-github",
        "colab_type": "text"
      },
      "source": [
        "<a href=\"https://colab.research.google.com/github/mitesh98/Amazon-Fine-Food-Review/blob/master/SVM.ipynb\" target=\"_parent\"><img src=\"https://colab.research.google.com/assets/colab-badge.svg\" alt=\"Open In Colab\"/></a>"
      ]
    },
    {
      "metadata": {
        "id": "LYzrt5Zeh5wm",
        "colab_type": "text"
      },
      "cell_type": "markdown",
      "source": [
        "# Amazon Fine Food Reviews Analysis\n",
        "Data Source: https://www.kaggle.com/snap/amazon-fine-food-reviews\n",
        "\n",
        "The Amazon Fine Food Reviews dataset consists of reviews of fine foods from Amazon.\n",
        "\n",
        "Number of reviews: 568,454\n",
        "\n",
        "Number of users: 256,059\n",
        "\n",
        "Number of products: 74,258\n",
        "\n",
        "Timespan: Oct 1999 - Oct 2012\n",
        "\n",
        "Number of Attributes/Columns in data: 10\n",
        "\n",
        "Attribute Information:\n",
        "\n",
        "Id\n",
        "\n",
        "ProductId - unique identifier for the product\n",
        "\n",
        "UserId - unqiue identifier for the user\n",
        "\n",
        "ProfileName\n",
        "\n",
        "HelpfulnessNumerator - number of users who found the review helpful\n",
        "\n",
        "HelpfulnessDenominator - number of users who indicated whether they found the review helpful or not\n",
        "\n",
        "Score - rating between 1 and 5\n",
        "\n",
        "Time - timestamp for the review\n",
        "\n",
        "Summary - brief summary of the review\n",
        "Text - text of the review\n",
        "\n",
        "Objective: Given a review, determine whether the review is positive (rating of 4 or 5) or negative (rating of 1 or 2)."
      ]
    },
    {
      "metadata": {
        "id": "CRGr-R5piNUy",
        "colab_type": "code",
        "colab": {}
      },
      "cell_type": "code",
      "source": [
        "%matplotlib inline\n",
        "import pandas as pd\n",
        "import numpy as np\n",
        "import matplotlib.pyplot as plt\n",
        "import seaborn as sns\n",
        "\n",
        "from sklearn.feature_extraction.text import CountVectorizer\n",
        "from sklearn.feature_extraction.text import TfidfVectorizer\n",
        "\n",
        "import re\n",
        "import nltk\n",
        "\n",
        "from sklearn import metrics\n",
        "from sklearn.metrics import confusion_matrix\n",
        "\n",
        "import warnings\n",
        "warnings.filterwarnings(\"ignore\")\n",
        "\n",
        "import tqdm"
      ],
      "execution_count": 0,
      "outputs": []
    },
    {
      "metadata": {
        "id": "RA2HNei6iTs6",
        "colab_type": "code",
        "colab": {}
      },
      "cell_type": "code",
      "source": [
        "import sqlite3"
      ],
      "execution_count": 0,
      "outputs": []
    },
    {
      "metadata": {
        "id": "XGaWfVCaiWs3",
        "colab_type": "code",
        "outputId": "e46d88d5-482b-4332-cf04-0727f55ae7bf",
        "colab": {
          "base_uri": "https://localhost:8080/",
          "height": 122
        }
      },
      "cell_type": "code",
      "source": [
        "from google.colab import drive\n",
        "drive.mount('/content/drive')"
      ],
      "execution_count": 0,
      "outputs": [
        {
          "output_type": "stream",
          "text": [
            "Go to this URL in a browser: https://accounts.google.com/o/oauth2/auth?client_id=947318989803-6bn6qk8qdgf4n4g3pfee6491hc0brc4i.apps.googleusercontent.com&redirect_uri=urn%3Aietf%3Awg%3Aoauth%3A2.0%3Aoob&scope=email%20https%3A%2F%2Fwww.googleapis.com%2Fauth%2Fdocs.test%20https%3A%2F%2Fwww.googleapis.com%2Fauth%2Fdrive%20https%3A%2F%2Fwww.googleapis.com%2Fauth%2Fdrive.photos.readonly%20https%3A%2F%2Fwww.googleapis.com%2Fauth%2Fpeopleapi.readonly&response_type=code\n",
            "\n",
            "Enter your authorization code:\n",
            "··········\n",
            "Mounted at /content/drive\n"
          ],
          "name": "stdout"
        }
      ]
    },
    {
      "metadata": {
        "id": "coJQ7y_oi7GP",
        "colab_type": "code",
        "colab": {}
      },
      "cell_type": "code",
      "source": [
        "!cp \"/content/drive/My Drive/database.sqlite\" \"database.sqlite\""
      ],
      "execution_count": 0,
      "outputs": []
    },
    {
      "metadata": {
        "id": "JLrYRYAxiouT",
        "colab_type": "text"
      },
      "cell_type": "markdown",
      "source": [
        "# Readind Data"
      ]
    },
    {
      "metadata": {
        "id": "2RA8ZUbDia7Z",
        "colab_type": "code",
        "colab": {}
      },
      "cell_type": "code",
      "source": [
        "con=sqlite3.connect(\"database.sqlite\")"
      ],
      "execution_count": 0,
      "outputs": []
    },
    {
      "metadata": {
        "id": "dX2kwJhhivqt",
        "colab_type": "code",
        "outputId": "9fa1de05-25a4-4aff-e9e4-b6cce89f23c9",
        "colab": {
          "base_uri": "https://localhost:8080/",
          "height": 323
        }
      },
      "cell_type": "code",
      "source": [
        "filtered_data=pd.read_sql_query(\"SELECT * FROM `Reviews` WHERE `Score` !=3\",con)\n",
        "filtered_data.shape\n",
        "filtered_data.head()"
      ],
      "execution_count": 0,
      "outputs": [
        {
          "output_type": "execute_result",
          "data": {
            "text/html": [
              "<div>\n",
              "<style scoped>\n",
              "    .dataframe tbody tr th:only-of-type {\n",
              "        vertical-align: middle;\n",
              "    }\n",
              "\n",
              "    .dataframe tbody tr th {\n",
              "        vertical-align: top;\n",
              "    }\n",
              "\n",
              "    .dataframe thead th {\n",
              "        text-align: right;\n",
              "    }\n",
              "</style>\n",
              "<table border=\"1\" class=\"dataframe\">\n",
              "  <thead>\n",
              "    <tr style=\"text-align: right;\">\n",
              "      <th></th>\n",
              "      <th>Id</th>\n",
              "      <th>ProductId</th>\n",
              "      <th>UserId</th>\n",
              "      <th>ProfileName</th>\n",
              "      <th>HelpfulnessNumerator</th>\n",
              "      <th>HelpfulnessDenominator</th>\n",
              "      <th>Score</th>\n",
              "      <th>Time</th>\n",
              "      <th>Summary</th>\n",
              "      <th>Text</th>\n",
              "    </tr>\n",
              "  </thead>\n",
              "  <tbody>\n",
              "    <tr>\n",
              "      <th>0</th>\n",
              "      <td>1</td>\n",
              "      <td>B001E4KFG0</td>\n",
              "      <td>A3SGXH7AUHU8GW</td>\n",
              "      <td>delmartian</td>\n",
              "      <td>1</td>\n",
              "      <td>1</td>\n",
              "      <td>5</td>\n",
              "      <td>1303862400</td>\n",
              "      <td>Good Quality Dog Food</td>\n",
              "      <td>I have bought several of the Vitality canned d...</td>\n",
              "    </tr>\n",
              "    <tr>\n",
              "      <th>1</th>\n",
              "      <td>2</td>\n",
              "      <td>B00813GRG4</td>\n",
              "      <td>A1D87F6ZCVE5NK</td>\n",
              "      <td>dll pa</td>\n",
              "      <td>0</td>\n",
              "      <td>0</td>\n",
              "      <td>1</td>\n",
              "      <td>1346976000</td>\n",
              "      <td>Not as Advertised</td>\n",
              "      <td>Product arrived labeled as Jumbo Salted Peanut...</td>\n",
              "    </tr>\n",
              "    <tr>\n",
              "      <th>2</th>\n",
              "      <td>3</td>\n",
              "      <td>B000LQOCH0</td>\n",
              "      <td>ABXLMWJIXXAIN</td>\n",
              "      <td>Natalia Corres \"Natalia Corres\"</td>\n",
              "      <td>1</td>\n",
              "      <td>1</td>\n",
              "      <td>4</td>\n",
              "      <td>1219017600</td>\n",
              "      <td>\"Delight\" says it all</td>\n",
              "      <td>This is a confection that has been around a fe...</td>\n",
              "    </tr>\n",
              "    <tr>\n",
              "      <th>3</th>\n",
              "      <td>4</td>\n",
              "      <td>B000UA0QIQ</td>\n",
              "      <td>A395BORC6FGVXV</td>\n",
              "      <td>Karl</td>\n",
              "      <td>3</td>\n",
              "      <td>3</td>\n",
              "      <td>2</td>\n",
              "      <td>1307923200</td>\n",
              "      <td>Cough Medicine</td>\n",
              "      <td>If you are looking for the secret ingredient i...</td>\n",
              "    </tr>\n",
              "    <tr>\n",
              "      <th>4</th>\n",
              "      <td>5</td>\n",
              "      <td>B006K2ZZ7K</td>\n",
              "      <td>A1UQRSCLF8GW1T</td>\n",
              "      <td>Michael D. Bigham \"M. Wassir\"</td>\n",
              "      <td>0</td>\n",
              "      <td>0</td>\n",
              "      <td>5</td>\n",
              "      <td>1350777600</td>\n",
              "      <td>Great taffy</td>\n",
              "      <td>Great taffy at a great price.  There was a wid...</td>\n",
              "    </tr>\n",
              "  </tbody>\n",
              "</table>\n",
              "</div>"
            ],
            "text/plain": [
              "   Id   ProductId          UserId                      ProfileName  \\\n",
              "0   1  B001E4KFG0  A3SGXH7AUHU8GW                       delmartian   \n",
              "1   2  B00813GRG4  A1D87F6ZCVE5NK                           dll pa   \n",
              "2   3  B000LQOCH0   ABXLMWJIXXAIN  Natalia Corres \"Natalia Corres\"   \n",
              "3   4  B000UA0QIQ  A395BORC6FGVXV                             Karl   \n",
              "4   5  B006K2ZZ7K  A1UQRSCLF8GW1T    Michael D. Bigham \"M. Wassir\"   \n",
              "\n",
              "   HelpfulnessNumerator  HelpfulnessDenominator  Score        Time  \\\n",
              "0                     1                       1      5  1303862400   \n",
              "1                     0                       0      1  1346976000   \n",
              "2                     1                       1      4  1219017600   \n",
              "3                     3                       3      2  1307923200   \n",
              "4                     0                       0      5  1350777600   \n",
              "\n",
              "                 Summary                                               Text  \n",
              "0  Good Quality Dog Food  I have bought several of the Vitality canned d...  \n",
              "1      Not as Advertised  Product arrived labeled as Jumbo Salted Peanut...  \n",
              "2  \"Delight\" says it all  This is a confection that has been around a fe...  \n",
              "3         Cough Medicine  If you are looking for the secret ingredient i...  \n",
              "4            Great taffy  Great taffy at a great price.  There was a wid...  "
            ]
          },
          "metadata": {
            "tags": []
          },
          "execution_count": 8
        }
      ]
    },
    {
      "metadata": {
        "id": "IcmNh_1vjEfU",
        "colab_type": "code",
        "colab": {}
      },
      "cell_type": "code",
      "source": [
        "# Give reviews with Score>3 a positive rating(1), and reviews with a score<3 a negative rating(0).\n",
        "def partition(x):\n",
        "    if x < 3:\n",
        "        return 0\n",
        "    return 1"
      ],
      "execution_count": 0,
      "outputs": []
    },
    {
      "metadata": {
        "id": "4kCEeex1jHeY",
        "colab_type": "code",
        "outputId": "23040b19-c832-4fc0-a977-62b3c65f51df",
        "colab": {
          "base_uri": "https://localhost:8080/",
          "height": 323
        }
      },
      "cell_type": "code",
      "source": [
        "actual_score=filtered_data['Score']\n",
        "posnegative=actual_score.map(partition)\n",
        "filtered_data['Score']=posnegative\n",
        "filtered_data.head(5)"
      ],
      "execution_count": 0,
      "outputs": [
        {
          "output_type": "execute_result",
          "data": {
            "text/html": [
              "<div>\n",
              "<style scoped>\n",
              "    .dataframe tbody tr th:only-of-type {\n",
              "        vertical-align: middle;\n",
              "    }\n",
              "\n",
              "    .dataframe tbody tr th {\n",
              "        vertical-align: top;\n",
              "    }\n",
              "\n",
              "    .dataframe thead th {\n",
              "        text-align: right;\n",
              "    }\n",
              "</style>\n",
              "<table border=\"1\" class=\"dataframe\">\n",
              "  <thead>\n",
              "    <tr style=\"text-align: right;\">\n",
              "      <th></th>\n",
              "      <th>Id</th>\n",
              "      <th>ProductId</th>\n",
              "      <th>UserId</th>\n",
              "      <th>ProfileName</th>\n",
              "      <th>HelpfulnessNumerator</th>\n",
              "      <th>HelpfulnessDenominator</th>\n",
              "      <th>Score</th>\n",
              "      <th>Time</th>\n",
              "      <th>Summary</th>\n",
              "      <th>Text</th>\n",
              "    </tr>\n",
              "  </thead>\n",
              "  <tbody>\n",
              "    <tr>\n",
              "      <th>0</th>\n",
              "      <td>1</td>\n",
              "      <td>B001E4KFG0</td>\n",
              "      <td>A3SGXH7AUHU8GW</td>\n",
              "      <td>delmartian</td>\n",
              "      <td>1</td>\n",
              "      <td>1</td>\n",
              "      <td>1</td>\n",
              "      <td>1303862400</td>\n",
              "      <td>Good Quality Dog Food</td>\n",
              "      <td>I have bought several of the Vitality canned d...</td>\n",
              "    </tr>\n",
              "    <tr>\n",
              "      <th>1</th>\n",
              "      <td>2</td>\n",
              "      <td>B00813GRG4</td>\n",
              "      <td>A1D87F6ZCVE5NK</td>\n",
              "      <td>dll pa</td>\n",
              "      <td>0</td>\n",
              "      <td>0</td>\n",
              "      <td>0</td>\n",
              "      <td>1346976000</td>\n",
              "      <td>Not as Advertised</td>\n",
              "      <td>Product arrived labeled as Jumbo Salted Peanut...</td>\n",
              "    </tr>\n",
              "    <tr>\n",
              "      <th>2</th>\n",
              "      <td>3</td>\n",
              "      <td>B000LQOCH0</td>\n",
              "      <td>ABXLMWJIXXAIN</td>\n",
              "      <td>Natalia Corres \"Natalia Corres\"</td>\n",
              "      <td>1</td>\n",
              "      <td>1</td>\n",
              "      <td>1</td>\n",
              "      <td>1219017600</td>\n",
              "      <td>\"Delight\" says it all</td>\n",
              "      <td>This is a confection that has been around a fe...</td>\n",
              "    </tr>\n",
              "    <tr>\n",
              "      <th>3</th>\n",
              "      <td>4</td>\n",
              "      <td>B000UA0QIQ</td>\n",
              "      <td>A395BORC6FGVXV</td>\n",
              "      <td>Karl</td>\n",
              "      <td>3</td>\n",
              "      <td>3</td>\n",
              "      <td>0</td>\n",
              "      <td>1307923200</td>\n",
              "      <td>Cough Medicine</td>\n",
              "      <td>If you are looking for the secret ingredient i...</td>\n",
              "    </tr>\n",
              "    <tr>\n",
              "      <th>4</th>\n",
              "      <td>5</td>\n",
              "      <td>B006K2ZZ7K</td>\n",
              "      <td>A1UQRSCLF8GW1T</td>\n",
              "      <td>Michael D. Bigham \"M. Wassir\"</td>\n",
              "      <td>0</td>\n",
              "      <td>0</td>\n",
              "      <td>1</td>\n",
              "      <td>1350777600</td>\n",
              "      <td>Great taffy</td>\n",
              "      <td>Great taffy at a great price.  There was a wid...</td>\n",
              "    </tr>\n",
              "  </tbody>\n",
              "</table>\n",
              "</div>"
            ],
            "text/plain": [
              "   Id   ProductId          UserId                      ProfileName  \\\n",
              "0   1  B001E4KFG0  A3SGXH7AUHU8GW                       delmartian   \n",
              "1   2  B00813GRG4  A1D87F6ZCVE5NK                           dll pa   \n",
              "2   3  B000LQOCH0   ABXLMWJIXXAIN  Natalia Corres \"Natalia Corres\"   \n",
              "3   4  B000UA0QIQ  A395BORC6FGVXV                             Karl   \n",
              "4   5  B006K2ZZ7K  A1UQRSCLF8GW1T    Michael D. Bigham \"M. Wassir\"   \n",
              "\n",
              "   HelpfulnessNumerator  HelpfulnessDenominator  Score        Time  \\\n",
              "0                     1                       1      1  1303862400   \n",
              "1                     0                       0      0  1346976000   \n",
              "2                     1                       1      1  1219017600   \n",
              "3                     3                       3      0  1307923200   \n",
              "4                     0                       0      1  1350777600   \n",
              "\n",
              "                 Summary                                               Text  \n",
              "0  Good Quality Dog Food  I have bought several of the Vitality canned d...  \n",
              "1      Not as Advertised  Product arrived labeled as Jumbo Salted Peanut...  \n",
              "2  \"Delight\" says it all  This is a confection that has been around a fe...  \n",
              "3         Cough Medicine  If you are looking for the secret ingredient i...  \n",
              "4            Great taffy  Great taffy at a great price.  There was a wid...  "
            ]
          },
          "metadata": {
            "tags": []
          },
          "execution_count": 10
        }
      ]
    },
    {
      "metadata": {
        "id": "qqzp2HDGjMuS",
        "colab_type": "text"
      },
      "cell_type": "markdown",
      "source": [
        "# 2. Exploratory Data Analysis\n",
        "# 2.1 Data Cleaning: Deduplication\n",
        "It is observed (as shown in the table below) that the reviews data had many duplicate entries. Hence it was necessary to remove duplicates in order to get unbiased results for the analysis of the data."
      ]
    },
    {
      "metadata": {
        "id": "M07r41E3jcrB",
        "colab_type": "code",
        "outputId": "cbd0045b-5d6d-459b-c395-d2fe678243c7",
        "colab": {
          "base_uri": "https://localhost:8080/",
          "height": 34
        }
      },
      "cell_type": "code",
      "source": [
        "#Sorting data according to ProductId in ascending order\n",
        "sorted_data=filtered_data.sort_values('ProductId',axis=0,ascending=True)\n",
        "sorted_data.shape"
      ],
      "execution_count": 0,
      "outputs": [
        {
          "output_type": "execute_result",
          "data": {
            "text/plain": [
              "(525814, 10)"
            ]
          },
          "metadata": {
            "tags": []
          },
          "execution_count": 11
        }
      ]
    },
    {
      "metadata": {
        "id": "QkRjsIlxjicc",
        "colab_type": "code",
        "outputId": "ce5fd199-abc7-4ca8-b36a-08143939fb0e",
        "colab": {
          "base_uri": "https://localhost:8080/",
          "height": 34
        }
      },
      "cell_type": "code",
      "source": [
        "#Deduplication of entries\n",
        "final=sorted_data.drop_duplicates(subset={'UserId','ProfileName','Time','Text'},keep='first',inplace=False)\n",
        "final.shape"
      ],
      "execution_count": 0,
      "outputs": [
        {
          "output_type": "execute_result",
          "data": {
            "text/plain": [
              "(364173, 10)"
            ]
          },
          "metadata": {
            "tags": []
          },
          "execution_count": 12
        }
      ]
    },
    {
      "metadata": {
        "id": "iI13Rkx_jotz",
        "colab_type": "text"
      },
      "cell_type": "markdown",
      "source": [
        "**Observation**:- bold text It was also seen that in two rows given below the value of HelpfulnessNumerator is greater than HelpfulnessDenominator which is not practically possible hence these two rows too are removed from calcualtions\n",
        "\n"
      ]
    },
    {
      "metadata": {
        "id": "etLKfyaUjmkL",
        "colab_type": "code",
        "outputId": "f1ad2f70-4ee1-449d-d239-b8530ca6fd6d",
        "colab": {
          "base_uri": "https://localhost:8080/",
          "height": 34
        }
      },
      "cell_type": "code",
      "source": [
        "final=final[final.HelpfulnessNumerator<=final.HelpfulnessDenominator]\n",
        "final.shape"
      ],
      "execution_count": 0,
      "outputs": [
        {
          "output_type": "execute_result",
          "data": {
            "text/plain": [
              "(364171, 10)"
            ]
          },
          "metadata": {
            "tags": []
          },
          "execution_count": 13
        }
      ]
    },
    {
      "metadata": {
        "id": "tfHdqphKjx5O",
        "colab_type": "code",
        "outputId": "885c61a7-fc6b-465e-c702-a67478ec3427",
        "colab": {
          "base_uri": "https://localhost:8080/",
          "height": 68
        }
      },
      "cell_type": "code",
      "source": [
        "final['Score'].value_counts()"
      ],
      "execution_count": 0,
      "outputs": [
        {
          "output_type": "execute_result",
          "data": {
            "text/plain": [
              "1    307061\n",
              "0     57110\n",
              "Name: Score, dtype: int64"
            ]
          },
          "metadata": {
            "tags": []
          },
          "execution_count": 14
        }
      ]
    },
    {
      "metadata": {
        "id": "wK0CmiL7j2Wt",
        "colab_type": "text"
      },
      "cell_type": "markdown",
      "source": [
        "# 3. Preprocessing\n",
        "In the Preprocessing phase we do the following in the order below:-\n",
        "\n",
        "1.Begin by removing the linksand html tags\n",
        "\n",
        "2.Expand English language contractions and Remove any punctuations or limited set of special characters like , or . or # etc.\n",
        "\n",
        "3.Check if the word is made up of english letters and is not alpha-numeric\n",
        "\n",
        "4.Check to see if the length of the word is greater than 2 (as it was researched that there is no adjective in 2-letters)\n",
        "\n",
        "5.Convert the word to lowercase\n",
        "\n",
        "6.Remove Stopwords\n",
        "\n",
        "7.Finally Snowball Stemming the word (it was obsereved to be better than Porter Stemming)"
      ]
    },
    {
      "metadata": {
        "id": "ZNEQZGx8j5BT",
        "colab_type": "code",
        "outputId": "1b9309b4-0a35-4dd6-8521-2120c1ad391c",
        "colab": {
          "base_uri": "https://localhost:8080/",
          "height": 425
        }
      },
      "cell_type": "code",
      "source": [
        "#print(link)\n",
        "for i in range(0,1000):\n",
        "  links=re.findall(r'http\\S+',final['Text'].values[i])\n",
        "  for link in links:\n",
        "    print(link)"
      ],
      "execution_count": 0,
      "outputs": [
        {
          "output_type": "stream",
          "text": [
            "http://www.amazon.com/gp/product/B0002DGRSY\">Pro-Treat\n",
            "http://www.amazon.com/gp/product/B0019O5Z0Q\">Charlee\n",
            "http://www.amazon.com/VICTOR-FLY-MAGNET-BAIT-REFILL/dp/B00004RBDY<br\n",
            "http://www.amazon.com/gp/product/B0088EDMMS\">Hocus\n",
            "http://www.amazon.com/gp/product/B001AGXEAG\">Beetlejuice\n",
            "http://www.amazon.com/gp/product/B001AGXEAG\">here</a>.\n",
            "http://www.amazon.com/gp/product/B001AGXEA6\">here</a>.\n",
            "http://www.amazon.com/gp/product/0790700506\">Gremlins</a><br\n",
            "http://www.amazon.com/gp/product/6301871952\">Gremlins\n",
            "http://www.amazon.com/gp/product/6303347657\">Mask</a><br\n",
            "http://www.amazon.com/gp/product/6304826141\">Rocketman</a><br\n",
            "http://www.amazon.com/gp/product/B001B504LI\">The\n",
            "http://www.amazon.com/gp/product/B001AGXEA6\">Beetlejuice\n",
            "http://www.amazon.com/gp/product/B00004RAMX\">Victor\n",
            "http://www.amazon.com/gp/product/B00004RAMY\">Victor\n",
            "http://www.amazon.com/gp/product/B00004RAMY\">Victor\n",
            "http://www.amazon.com/gp/product/B001VJ3FP6\">SentryHOME\n",
            "http://www.amazon.com/gp/product/B0051GCTAW\">Fiproguard\n",
            "http://www.amazon.com/gp/product/B000668Z96\">Victor\n",
            "http://www.amazon.com/gp/product/B000668Z96\">Victor\n",
            "http://www.amazon.com/gp/product/B000BQRQ8C\">Rescue\n",
            "http://www.amazon.com/gp/product/B00004RBDZ\">Victor\n",
            "http://www.amazon.com/gp/product/B00005344V\">Traditional\n",
            "http://www.amazon.com/gp/product/B00005C2M2\">Astronaut\n"
          ],
          "name": "stdout"
        }
      ]
    },
    {
      "metadata": {
        "id": "ESXW3P4WkAOQ",
        "colab_type": "code",
        "colab": {}
      },
      "cell_type": "code",
      "source": [
        "for i in range(0,364171):\n",
        "  final['Text'].values[i] = re.sub(r\"http\\S+\", \"\", final['Text'].values[i])"
      ],
      "execution_count": 0,
      "outputs": []
    },
    {
      "metadata": {
        "id": "vED8DSMakE5W",
        "colab_type": "code",
        "colab": {}
      },
      "cell_type": "code",
      "source": [
        "#Remove HTML tags\n",
        "from bs4 import BeautifulSoup\n",
        "for i in range(1,364171):\n",
        "  soup = BeautifulSoup(final['Text'].values[i],'lxml')\n",
        "  text = soup.get_text()\n",
        "  final['Text'].values[i]=text"
      ],
      "execution_count": 0,
      "outputs": []
    },
    {
      "metadata": {
        "id": "yss9cy_QkIzo",
        "colab_type": "code",
        "colab": {}
      },
      "cell_type": "code",
      "source": [
        "#Expanding English language contractions\n",
        "def decontracted(phrase):\n",
        "  # specific\n",
        "  phrase = re.sub(r\"won\\'t\", \"will not\", phrase)\n",
        "  phrase = re.sub(r\"can\\'t\", \"can not\", phrase)\n",
        "\n",
        "  # general\n",
        "  phrase = re.sub(r\"n\\'t\", \" not\", phrase)\n",
        "  phrase = re.sub(r\"\\'re\", \" are\", phrase)\n",
        "  phrase = re.sub(r\"\\'s\", \" is\", phrase)\n",
        "  phrase = re.sub(r\"\\'d\", \" would\", phrase)\n",
        "  phrase = re.sub(r\"\\'ll\", \" will\", phrase)\n",
        "  phrase = re.sub(r\"\\'t\", \" not\", phrase)\n",
        "  phrase = re.sub(r\"\\'ve\", \" have\", phrase)\n",
        "  phrase = re.sub(r\"\\'m\", \" am\", phrase)\n",
        "  return phrase\n"
      ],
      "execution_count": 0,
      "outputs": []
    },
    {
      "metadata": {
        "id": "g0ZPPWRrkMUm",
        "colab_type": "code",
        "colab": {}
      },
      "cell_type": "code",
      "source": [
        "for i in range(0,364171):\n",
        "  #print(final['Text'].values[i])\n",
        "  final['Text'].values[i]=decontracted(final['Text'].values[i])\n",
        "  #print(final['Text'].values[i])"
      ],
      "execution_count": 0,
      "outputs": []
    },
    {
      "metadata": {
        "id": "qpwomVP1kY5B",
        "colab_type": "code",
        "colab": {}
      },
      "cell_type": "code",
      "source": [
        "#remove words with numbers python\n",
        "for i in range(1,364171):\n",
        "  #print(final['Text'].values[i])\n",
        "  final['Text'].values[i] = re.sub(\"\\S*\\d\\S*\", \"\", final['Text'].values[i]).strip()\n",
        "  #print(final['Text'].values[i])"
      ],
      "execution_count": 0,
      "outputs": []
    },
    {
      "metadata": {
        "id": "47nYnNzYkcu2",
        "colab_type": "code",
        "colab": {}
      },
      "cell_type": "code",
      "source": [
        "#remove spacial character:\n",
        "for i in range(1,364171):\n",
        "  final['Text'].values[i]= re.sub('[^A-Za-z0-9]+', ' ', final['Text'].values[i])\n"
      ],
      "execution_count": 0,
      "outputs": []
    },
    {
      "metadata": {
        "id": "wdxr3k_2kjLq",
        "colab_type": "code",
        "colab": {}
      },
      "cell_type": "code",
      "source": [
        "#Remove punctution\n",
        "for i in range(1,364171):\n",
        "  final['Text'].values[i]= re.sub(r'[!|#|$\\%|&|*|?|,|.|\\'|/|\"|)|(]',r'', final['Text'].values[i])"
      ],
      "execution_count": 0,
      "outputs": []
    },
    {
      "metadata": {
        "id": "4JEtffX5komo",
        "colab_type": "code",
        "colab": {}
      },
      "cell_type": "code",
      "source": [
        "# https://gist.github.com/sebleier/554280\n",
        "# we are removing the words from the stop words list: 'no', 'nor', 'not'\n",
        "# <br /><br /> ==> after the above steps, we are getting \"br br\"\n",
        "# we are including them into stop words list\n",
        "# instead of <br /> if we have <br/> these tags would have revmoved in the 1st step\n",
        "\n",
        "stopwords= set(['br', 'the', 'i', 'me', 'my', 'myself', 'we', 'our', 'ours', 'ourselves', 'you', \"you're\", \"you've\",\\\n",
        "            \"you'll\", \"you'd\", 'your', 'yours', 'yourself', 'yourselves', 'he', 'him', 'his', 'himself', \\\n",
        "            'she', \"she's\", 'her', 'hers', 'herself', 'it', \"it's\", 'its', 'itself', 'they', 'them', 'their',\\\n",
        "            'theirs', 'themselves', 'what', 'which', 'who', 'whom', 'this', 'that', \"that'll\", 'these', 'those', \\\n",
        "            'am', 'is', 'are', 'was', 'were', 'be', 'been', 'being', 'have', 'has', 'had', 'having', 'do', 'does', \\\n",
        "            'did', 'doing', 'a', 'an', 'the', 'and', 'but', 'if', 'or', 'because', 'as', 'until', 'while', 'of', \\\n",
        "            'at', 'by', 'for', 'with', 'about', 'against', 'between', 'into', 'through', 'during', 'before', 'after',\\\n",
        "            'above', 'below', 'to', 'from', 'up', 'down', 'in', 'out', 'on', 'off', 'over', 'under', 'again', 'further',\\\n",
        "            'then', 'once', 'here', 'there', 'when', 'where', 'why', 'how', 'all', 'any', 'both', 'each', 'few', 'more',\\\n",
        "            'most', 'other', 'some', 'such', 'only', 'own', 'same', 'so', 'than', 'too', 'very', \\\n",
        "            's', 't', 'can', 'will', 'just', 'don', \"don't\", 'should', \"should've\", 'now', 'd', 'll', 'm', 'o', 're', \\\n",
        "            've', 'y', 'ain', 'aren', \"aren't\", 'couldn', \"couldn't\", 'didn', \"didn't\", 'doesn', \"doesn't\", 'hadn',\\\n",
        "            \"hadn't\", 'hasn', \"hasn't\", 'haven', \"haven't\", 'isn', \"isn't\", 'ma', 'mightn', \"mightn't\", 'mustn',\\\n",
        "            \"mustn't\", 'needn', \"needn't\", 'shan', \"shan't\", 'shouldn', \"shouldn't\", 'wasn', \"wasn't\", 'weren', \"weren't\", \\\n",
        "            'won', \"won't\", 'wouldn', \"wouldn't\"])"
      ],
      "execution_count": 0,
      "outputs": []
    },
    {
      "metadata": {
        "id": "yy4IqUCnksdX",
        "colab_type": "code",
        "outputId": "043fcd49-c41c-496e-f294-8a1544ae6c82",
        "colab": {
          "base_uri": "https://localhost:8080/",
          "height": 34
        }
      },
      "cell_type": "code",
      "source": [
        "#tqdm\n",
        "#Instantly make your loops show a smart progress meter\n",
        "# just wrap any iterable with tqdm(iterable), and you’re done!\n",
        "from tqdm import tqdm\n",
        "preprocessed_reviews = []\n",
        "for i in tqdm(range(0,364171)):\n",
        "  sentence=\"\"\n",
        "  #print(final['Text'].values[i])\n",
        "  for word in final['Text'].values[i].split():\n",
        "    #print(word)\n",
        "    word =word.lower()\n",
        "    if word not in stopwords:\n",
        "      sentence+=\" \"+word\n",
        "  #print(sentence)\n",
        "  preprocessed_reviews.append(sentence.strip())"
      ],
      "execution_count": 0,
      "outputs": [
        {
          "output_type": "stream",
          "text": [
            "100%|██████████| 364171/364171 [00:15<00:00, 23969.65it/s]\n"
          ],
          "name": "stderr"
        }
      ]
    },
    {
      "metadata": {
        "id": "RkdQZ0vYkxlY",
        "colab_type": "code",
        "outputId": "3a924c1a-40c2-4fdf-df56-98a43019f96d",
        "colab": {
          "base_uri": "https://localhost:8080/",
          "height": 54
        }
      },
      "cell_type": "code",
      "source": [
        "preprocessed_reviews[364170]"
      ],
      "execution_count": 0,
      "outputs": [
        {
          "output_type": "execute_result",
          "data": {
            "text/plain": [
              "'purchased send son away college delivered right dorm room fast shipping loved much called thank sadly hardly ever calls anymore want kids call home good snack get midterms send'"
            ]
          },
          "metadata": {
            "tags": []
          },
          "execution_count": 25
        }
      ]
    },
    {
      "metadata": {
        "id": "uInMfiomk1wK",
        "colab_type": "code",
        "outputId": "9aa27d19-7288-43e6-f5ee-c47b0b902b04",
        "colab": {
          "base_uri": "https://localhost:8080/",
          "height": 714
        }
      },
      "cell_type": "code",
      "source": [
        "final['Cleaned_text']=preprocessed_reviews\n",
        "final.head()"
      ],
      "execution_count": 0,
      "outputs": [
        {
          "output_type": "execute_result",
          "data": {
            "text/html": [
              "<div>\n",
              "<style scoped>\n",
              "    .dataframe tbody tr th:only-of-type {\n",
              "        vertical-align: middle;\n",
              "    }\n",
              "\n",
              "    .dataframe tbody tr th {\n",
              "        vertical-align: top;\n",
              "    }\n",
              "\n",
              "    .dataframe thead th {\n",
              "        text-align: right;\n",
              "    }\n",
              "</style>\n",
              "<table border=\"1\" class=\"dataframe\">\n",
              "  <thead>\n",
              "    <tr style=\"text-align: right;\">\n",
              "      <th></th>\n",
              "      <th>Id</th>\n",
              "      <th>ProductId</th>\n",
              "      <th>UserId</th>\n",
              "      <th>ProfileName</th>\n",
              "      <th>HelpfulnessNumerator</th>\n",
              "      <th>HelpfulnessDenominator</th>\n",
              "      <th>Score</th>\n",
              "      <th>Time</th>\n",
              "      <th>Summary</th>\n",
              "      <th>Text</th>\n",
              "      <th>Cleaned_text</th>\n",
              "    </tr>\n",
              "  </thead>\n",
              "  <tbody>\n",
              "    <tr>\n",
              "      <th>138706</th>\n",
              "      <td>150524</td>\n",
              "      <td>0006641040</td>\n",
              "      <td>ACITT7DI6IDDL</td>\n",
              "      <td>shari zychinski</td>\n",
              "      <td>0</td>\n",
              "      <td>0</td>\n",
              "      <td>1</td>\n",
              "      <td>939340800</td>\n",
              "      <td>EVERY book is educational</td>\n",
              "      <td>this witty little book makes my son laugh at l...</td>\n",
              "      <td>witty little book makes son laugh loud. recite...</td>\n",
              "    </tr>\n",
              "    <tr>\n",
              "      <th>138688</th>\n",
              "      <td>150506</td>\n",
              "      <td>0006641040</td>\n",
              "      <td>A2IW4PEEKO2R0U</td>\n",
              "      <td>Tracy</td>\n",
              "      <td>1</td>\n",
              "      <td>1</td>\n",
              "      <td>1</td>\n",
              "      <td>1194739200</td>\n",
              "      <td>Love the book, miss the hard cover version</td>\n",
              "      <td>I grew up reading these Sendak books and watch...</td>\n",
              "      <td>grew reading sendak books watching really rosi...</td>\n",
              "    </tr>\n",
              "    <tr>\n",
              "      <th>138689</th>\n",
              "      <td>150507</td>\n",
              "      <td>0006641040</td>\n",
              "      <td>A1S4A3IQ2MU7V4</td>\n",
              "      <td>sally sue \"sally sue\"</td>\n",
              "      <td>1</td>\n",
              "      <td>1</td>\n",
              "      <td>1</td>\n",
              "      <td>1191456000</td>\n",
              "      <td>chicken soup with rice months</td>\n",
              "      <td>This is a fun way for children to learn their ...</td>\n",
              "      <td>fun way children learn months year learn poems...</td>\n",
              "    </tr>\n",
              "    <tr>\n",
              "      <th>138690</th>\n",
              "      <td>150508</td>\n",
              "      <td>0006641040</td>\n",
              "      <td>AZGXZ2UUK6X</td>\n",
              "      <td>Catherine Hallberg \"(Kate)\"</td>\n",
              "      <td>1</td>\n",
              "      <td>1</td>\n",
              "      <td>1</td>\n",
              "      <td>1076025600</td>\n",
              "      <td>a good swingy rhythm for reading aloud</td>\n",
              "      <td>This is a great little book to read aloud it h...</td>\n",
              "      <td>great little book read aloud nice rhythm well ...</td>\n",
              "    </tr>\n",
              "    <tr>\n",
              "      <th>138691</th>\n",
              "      <td>150509</td>\n",
              "      <td>0006641040</td>\n",
              "      <td>A3CMRKGE0P909G</td>\n",
              "      <td>Teresa</td>\n",
              "      <td>3</td>\n",
              "      <td>4</td>\n",
              "      <td>1</td>\n",
              "      <td>1018396800</td>\n",
              "      <td>A great way to learn the months</td>\n",
              "      <td>This is a book of poetry about the months of t...</td>\n",
              "      <td>book poetry months year goes month cute little...</td>\n",
              "    </tr>\n",
              "  </tbody>\n",
              "</table>\n",
              "</div>"
            ],
            "text/plain": [
              "            Id   ProductId          UserId                  ProfileName  \\\n",
              "138706  150524  0006641040   ACITT7DI6IDDL              shari zychinski   \n",
              "138688  150506  0006641040  A2IW4PEEKO2R0U                        Tracy   \n",
              "138689  150507  0006641040  A1S4A3IQ2MU7V4        sally sue \"sally sue\"   \n",
              "138690  150508  0006641040     AZGXZ2UUK6X  Catherine Hallberg \"(Kate)\"   \n",
              "138691  150509  0006641040  A3CMRKGE0P909G                       Teresa   \n",
              "\n",
              "        HelpfulnessNumerator  HelpfulnessDenominator  Score        Time  \\\n",
              "138706                     0                       0      1   939340800   \n",
              "138688                     1                       1      1  1194739200   \n",
              "138689                     1                       1      1  1191456000   \n",
              "138690                     1                       1      1  1076025600   \n",
              "138691                     3                       4      1  1018396800   \n",
              "\n",
              "                                           Summary  \\\n",
              "138706                   EVERY book is educational   \n",
              "138688  Love the book, miss the hard cover version   \n",
              "138689               chicken soup with rice months   \n",
              "138690      a good swingy rhythm for reading aloud   \n",
              "138691             A great way to learn the months   \n",
              "\n",
              "                                                     Text  \\\n",
              "138706  this witty little book makes my son laugh at l...   \n",
              "138688  I grew up reading these Sendak books and watch...   \n",
              "138689  This is a fun way for children to learn their ...   \n",
              "138690  This is a great little book to read aloud it h...   \n",
              "138691  This is a book of poetry about the months of t...   \n",
              "\n",
              "                                             Cleaned_text  \n",
              "138706  witty little book makes son laugh loud. recite...  \n",
              "138688  grew reading sendak books watching really rosi...  \n",
              "138689  fun way children learn months year learn poems...  \n",
              "138690  great little book read aloud nice rhythm well ...  \n",
              "138691  book poetry months year goes month cute little...  "
            ]
          },
          "metadata": {
            "tags": []
          },
          "execution_count": 26
        }
      ]
    },
    {
      "metadata": {
        "id": "UlSREDKBlQ5h",
        "colab_type": "code",
        "colab": {}
      },
      "cell_type": "code",
      "source": [
        "#Randomly sample Data 100k points\n",
        "random_sample_data = final.sample(n=100000) "
      ],
      "execution_count": 0,
      "outputs": []
    },
    {
      "metadata": {
        "id": "CEB6f4F-2yon",
        "colab_type": "code",
        "colab": {}
      },
      "cell_type": "code",
      "source": [
        "#Randomly sample Data 20k points\n",
        "random_sample_data_rbf = final.sample(n=20000) "
      ],
      "execution_count": 0,
      "outputs": []
    },
    {
      "metadata": {
        "id": "7c08A_pklSEw",
        "colab_type": "code",
        "colab": {}
      },
      "cell_type": "code",
      "source": [
        "final_sorted_time=random_sample_data.sort_values('Time',ascending=True,axis=0)"
      ],
      "execution_count": 0,
      "outputs": []
    },
    {
      "metadata": {
        "id": "H0h64MyM3F64",
        "colab_type": "code",
        "colab": {}
      },
      "cell_type": "code",
      "source": [
        "final_sorted_time_rbf=random_sample_data_rbf.sort_values('Time',ascending=True,axis=0)"
      ],
      "execution_count": 0,
      "outputs": []
    },
    {
      "metadata": {
        "id": "BPV04JLnlfZS",
        "colab_type": "text"
      },
      "cell_type": "markdown",
      "source": [
        "**Time dependent Splitting**"
      ]
    },
    {
      "metadata": {
        "id": "fg8RK8HpljZR",
        "colab_type": "code",
        "colab": {}
      },
      "cell_type": "code",
      "source": [
        "y_Train=final_sorted_time['Score'][0:70000]\n",
        "y_train=final_sorted_time['Score'][0:49000]\n",
        "y_cv=final_sorted_time['Score'][49000:70000]\n",
        "y_test=final_sorted_time['Score'][70000:100000]"
      ],
      "execution_count": 0,
      "outputs": []
    },
    {
      "metadata": {
        "id": "C2WCrri23O3V",
        "colab_type": "code",
        "colab": {}
      },
      "cell_type": "code",
      "source": [
        "y_Train_rbf=final_sorted_time_rbf['Score'][0:14000]\n",
        "y_train_rbf=final_sorted_time_rbf['Score'][0:9800]\n",
        "y_cv_rbf=final_sorted_time_rbf['Score'][9800:14000]\n",
        "y_test_rbf=final_sorted_time_rbf['Score'][14000:20000]"
      ],
      "execution_count": 0,
      "outputs": []
    },
    {
      "metadata": {
        "id": "j7OyUr9olny8",
        "colab_type": "code",
        "outputId": "89a47231-7a2b-45d4-e36a-235663b5ac4f",
        "colab": {
          "base_uri": "https://localhost:8080/",
          "height": 68
        }
      },
      "cell_type": "code",
      "source": [
        "y_train.value_counts()"
      ],
      "execution_count": 0,
      "outputs": [
        {
          "output_type": "execute_result",
          "data": {
            "text/plain": [
              "1    42232\n",
              "0     6768\n",
              "Name: Score, dtype: int64"
            ]
          },
          "metadata": {
            "tags": []
          },
          "execution_count": 30
        }
      ]
    },
    {
      "metadata": {
        "id": "ooFTcDiH3mcn",
        "colab_type": "code",
        "outputId": "f939ebd2-1e5a-43de-bc9f-126f833d8172",
        "colab": {
          "base_uri": "https://localhost:8080/",
          "height": 69
        }
      },
      "cell_type": "code",
      "source": [
        "y_train_rbf.value_counts()"
      ],
      "execution_count": 0,
      "outputs": [
        {
          "output_type": "execute_result",
          "data": {
            "text/plain": [
              "1    8446\n",
              "0    1354\n",
              "Name: Score, dtype: int64"
            ]
          },
          "metadata": {
            "tags": []
          },
          "execution_count": 133
        }
      ]
    },
    {
      "metadata": {
        "id": "Tz7D7J3ClrKA",
        "colab_type": "code",
        "outputId": "99261a63-9d78-47d3-e38a-34413c0740a1",
        "colab": {
          "base_uri": "https://localhost:8080/",
          "height": 69
        }
      },
      "cell_type": "code",
      "source": [
        "y_Train.value_counts()"
      ],
      "execution_count": 0,
      "outputs": [
        {
          "output_type": "execute_result",
          "data": {
            "text/plain": [
              "1    59710\n",
              "0    10290\n",
              "Name: Score, dtype: int64"
            ]
          },
          "metadata": {
            "tags": []
          },
          "execution_count": 31
        }
      ]
    },
    {
      "metadata": {
        "id": "jBa90OVK3u5X",
        "colab_type": "code",
        "outputId": "68d054af-d693-4403-f041-b6f09be8ffb9",
        "colab": {
          "base_uri": "https://localhost:8080/",
          "height": 69
        }
      },
      "cell_type": "code",
      "source": [
        "y_Train_rbf.value_counts()"
      ],
      "execution_count": 0,
      "outputs": [
        {
          "output_type": "execute_result",
          "data": {
            "text/plain": [
              "1    11901\n",
              "0     2099\n",
              "Name: Score, dtype: int64"
            ]
          },
          "metadata": {
            "tags": []
          },
          "execution_count": 134
        }
      ]
    },
    {
      "metadata": {
        "id": "SCeu3MN9lzpT",
        "colab_type": "code",
        "colab": {}
      },
      "cell_type": "code",
      "source": [
        "Train_data=final_sorted_time['Cleaned_text'][0:70000]\n",
        "train_data=final_sorted_time['Cleaned_text'][0:49000]\n",
        "cv_data=final_sorted_time['Cleaned_text'][49000:70000]\n",
        "test_data=final_sorted_time['Cleaned_text'][70000:100000]"
      ],
      "execution_count": 0,
      "outputs": []
    },
    {
      "metadata": {
        "id": "NWrU-13S3025",
        "colab_type": "code",
        "colab": {}
      },
      "cell_type": "code",
      "source": [
        "Train_data_rbf=final_sorted_time_rbf['Cleaned_text'][0:14000]\n",
        "train_data_rbf=final_sorted_time_rbf['Cleaned_text'][0:9800]\n",
        "cv_data_rbf=final_sorted_time_rbf['Cleaned_text'][9800:14000]\n",
        "test_data_rbf=final_sorted_time_rbf['Cleaned_text'][14000:20000]"
      ],
      "execution_count": 0,
      "outputs": []
    },
    {
      "metadata": {
        "id": "VaDIZqZarRU1",
        "colab_type": "text"
      },
      "cell_type": "markdown",
      "source": [
        "# 4. Featurization"
      ]
    },
    {
      "metadata": {
        "id": "QB_fvZjgmMAY",
        "colab_type": "text"
      },
      "cell_type": "markdown",
      "source": [
        "# 4.1Bag of Words"
      ]
    },
    {
      "metadata": {
        "id": "qhDwTNsGmT3O",
        "colab_type": "code",
        "colab": {}
      },
      "cell_type": "code",
      "source": [
        "count_vector=CountVectorizer()\n",
        "train_bows=count_vector.fit_transform(train_data)\n",
        "cv_bows=count_vector.transform(cv_data)"
      ],
      "execution_count": 0,
      "outputs": []
    },
    {
      "metadata": {
        "id": "gT6Cx2jV4owC",
        "colab_type": "code",
        "colab": {}
      },
      "cell_type": "code",
      "source": [
        "count_vector_rbf=CountVectorizer(min_df = 10, max_features = 500)\n",
        "train_bows_rbf=count_vector_rbf.fit_transform(train_data_rbf)\n",
        "cv_bows_rbf=count_vector_rbf.transform(cv_data_rbf)"
      ],
      "execution_count": 0,
      "outputs": []
    },
    {
      "metadata": {
        "id": "QHSeHqKfr2SW",
        "colab_type": "text"
      },
      "cell_type": "markdown",
      "source": [
        "# 4.2 TFIDF"
      ]
    },
    {
      "metadata": {
        "id": "nz_Zfw7Mr4j8",
        "colab_type": "code",
        "colab": {}
      },
      "cell_type": "code",
      "source": [
        "tfidf_vector=TfidfVectorizer()\n",
        "train_tfidf=tfidf_vector.fit_transform(train_data)\n",
        "cv_tfidf=tfidf_vector.transform(cv_data)"
      ],
      "execution_count": 0,
      "outputs": []
    },
    {
      "metadata": {
        "id": "rUNrU3OY5TPk",
        "colab_type": "code",
        "colab": {}
      },
      "cell_type": "code",
      "source": [
        "tfidf_vector_rbf=TfidfVectorizer()\n",
        "train_tfidf_rbf=tfidf_vector_rbf.fit_transform(train_data_rbf)\n",
        "cv_tfidf_rbf=tfidf_vector_rbf.transform(cv_data_rbf)"
      ],
      "execution_count": 0,
      "outputs": []
    },
    {
      "metadata": {
        "id": "fmrhZRZZr839",
        "colab_type": "text"
      },
      "cell_type": "markdown",
      "source": [
        "# 4.3 Word2Vec"
      ]
    },
    {
      "metadata": {
        "id": "-VC2xTy9siES",
        "colab_type": "code",
        "colab": {}
      },
      "cell_type": "code",
      "source": [
        "import gensim\n",
        "from gensim.models import Word2Vec"
      ],
      "execution_count": 0,
      "outputs": []
    },
    {
      "metadata": {
        "id": "0YHY1mZEsFAS",
        "colab_type": "code",
        "colab": {}
      },
      "cell_type": "code",
      "source": [
        "#Train own W2V with train data\n",
        "i=0\n",
        "list_of_sentence=[]\n",
        "for sent in train_data.values:\n",
        "  list_of_sentence.append(sent.split())"
      ],
      "execution_count": 0,
      "outputs": []
    },
    {
      "metadata": {
        "id": "Oa95S0lOsIre",
        "colab_type": "code",
        "colab": {}
      },
      "cell_type": "code",
      "source": [
        "w2v_model=gensim.models.Word2Vec(list_of_sentence,min_count=5,size=50,workers=4)"
      ],
      "execution_count": 0,
      "outputs": []
    },
    {
      "metadata": {
        "id": "tY59e3e9sygJ",
        "colab_type": "code",
        "colab": {}
      },
      "cell_type": "code",
      "source": [
        "w2v_words = list(w2v_model.wv.vocab)"
      ],
      "execution_count": 0,
      "outputs": []
    },
    {
      "metadata": {
        "id": "xgJBDQcKs21K",
        "colab_type": "code",
        "outputId": "7b172ee4-2b2d-4d54-dfa5-b3a90df4715b",
        "colab": {
          "base_uri": "https://localhost:8080/",
          "height": 52
        }
      },
      "cell_type": "code",
      "source": [
        "# Average W2V with training Data\n",
        "sent_vectors = []; # the avg-w2v for each sentence/review is stored in this list\n",
        "for sent in list_of_sentence: # for each review/sentence\n",
        "    sent_vec = np.zeros(50) # as word vectors are of zero length 50, you might need to change this to 300 if you use google's w2v\n",
        "    cnt_words =0; # num of words with a valid vector in the sentence/review\n",
        "    for word in sent: # for each word in a review/sentence\n",
        "        if word in w2v_words:\n",
        "            vec = w2v_model.wv[word]\n",
        "            #print(\"vec= \",vec)\n",
        "            sent_vec += vec\n",
        "            cnt_words += 1\n",
        "    if cnt_words != 0:\n",
        "        sent_vec /= cnt_words\n",
        "    sent_vectors.append(sent_vec)\n",
        "print(len(sent_vectors))\n",
        "#print(sent_vectors)\n",
        "print(len(sent_vectors[0]))"
      ],
      "execution_count": 0,
      "outputs": [
        {
          "output_type": "stream",
          "text": [
            "49000\n",
            "50\n"
          ],
          "name": "stdout"
        }
      ]
    },
    {
      "metadata": {
        "id": "Nalzx3ZJs8ZS",
        "colab_type": "code",
        "colab": {}
      },
      "cell_type": "code",
      "source": [
        "#Train own W2V with cv data\n",
        "i=0\n",
        "list_of_sentence_cv=[]\n",
        "for sent in cv_data.values:\n",
        "  list_of_sentence_cv.append(sent.split())"
      ],
      "execution_count": 0,
      "outputs": []
    },
    {
      "metadata": {
        "id": "3SC1Eca2tHZA",
        "colab_type": "code",
        "colab": {}
      },
      "cell_type": "code",
      "source": [
        "w2v_model_cv=gensim.models.Word2Vec(list_of_sentence_cv,min_count=5,size=50,workers=4)"
      ],
      "execution_count": 0,
      "outputs": []
    },
    {
      "metadata": {
        "id": "Bas0AsFPtKDA",
        "colab_type": "code",
        "colab": {}
      },
      "cell_type": "code",
      "source": [
        "w2v_words_cv = list(w2v_model_cv.wv.vocab)"
      ],
      "execution_count": 0,
      "outputs": []
    },
    {
      "metadata": {
        "id": "qNWkG66btM40",
        "colab_type": "code",
        "outputId": "a4ccb113-bdba-4e69-8e49-0bfbab2b1cda",
        "colab": {
          "base_uri": "https://localhost:8080/",
          "height": 54
        }
      },
      "cell_type": "code",
      "source": [
        "# Average W2V with cv Data\n",
        "sent_vectors_cv = []; # the avg-w2v for each sentence/review is stored in this list\n",
        "for sent in list_of_sentence_cv: # for each review/sentence\n",
        "    sent_vec = np.zeros(50) # as word vectors are of zero length 50, you might need to change this to 300 if you use google's w2v\n",
        "    cnt_words =0; # num of words with a valid vector in the sentence/review\n",
        "    for word in sent: # for each word in a review/sentence\n",
        "        if word in w2v_words_cv:\n",
        "            vec = w2v_model_cv.wv[word]\n",
        "            #print(\"vec= \",vec)\n",
        "            sent_vec += vec\n",
        "            cnt_words += 1\n",
        "    if cnt_words != 0:\n",
        "        sent_vec /= cnt_words\n",
        "    sent_vectors_cv.append(sent_vec)\n",
        "print(len(sent_vectors_cv))\n",
        "#print(sent_vectors)\n",
        "print(len(sent_vectors_cv[0]))"
      ],
      "execution_count": 0,
      "outputs": [
        {
          "output_type": "stream",
          "text": [
            "21000\n",
            "50\n"
          ],
          "name": "stdout"
        }
      ]
    },
    {
      "metadata": {
        "id": "zX24OVXXtXbs",
        "colab_type": "code",
        "colab": {}
      },
      "cell_type": "code",
      "source": [
        "#Train own W2V with Test data\n",
        "i=0\n",
        "list_of_sentence_test=[]\n",
        "for sent in test_data.values:\n",
        "  list_of_sentence_test.append(sent.split())"
      ],
      "execution_count": 0,
      "outputs": []
    },
    {
      "metadata": {
        "id": "U-tpFxWYtp5u",
        "colab_type": "code",
        "colab": {}
      },
      "cell_type": "code",
      "source": [
        "w2v_model_test=gensim.models.Word2Vec(list_of_sentence_test,min_count=5,size=50,workers=4)"
      ],
      "execution_count": 0,
      "outputs": []
    },
    {
      "metadata": {
        "id": "bb1aCvx1twQW",
        "colab_type": "code",
        "colab": {}
      },
      "cell_type": "code",
      "source": [
        "w2v_words_test = list(w2v_model_test.wv.vocab)"
      ],
      "execution_count": 0,
      "outputs": []
    },
    {
      "metadata": {
        "id": "RJv1n1xrtzRd",
        "colab_type": "code",
        "outputId": "f4d42bd3-4289-4b2f-a5c3-4d1e34e2117d",
        "colab": {
          "base_uri": "https://localhost:8080/",
          "height": 54
        }
      },
      "cell_type": "code",
      "source": [
        "# Average W2V with test Data\n",
        "sent_vectors_test = []; # the avg-w2v for each sentence/review is stored in this list\n",
        "for sent in list_of_sentence_test: # for each review/sentence\n",
        "    sent_vec = np.zeros(50) # as word vectors are of zero length 50, you might need to change this to 300 if you use google's w2v\n",
        "    cnt_words =0; # num of words with a valid vector in the sentence/review\n",
        "    for word in sent: # for each word in a review/sentence\n",
        "        if word in w2v_words_test:\n",
        "            vec = w2v_model_test.wv[word]\n",
        "            #print(\"vec= \",vec)\n",
        "            sent_vec += vec\n",
        "            cnt_words += 1\n",
        "    if cnt_words != 0:\n",
        "        sent_vec /= cnt_words\n",
        "    sent_vectors_test.append(sent_vec)\n",
        "print(len(sent_vectors_test))\n",
        "#print(sent_vectors)\n",
        "print(len(sent_vectors_test[0]))"
      ],
      "execution_count": 0,
      "outputs": [
        {
          "output_type": "stream",
          "text": [
            "30000\n",
            "50\n"
          ],
          "name": "stdout"
        }
      ]
    },
    {
      "metadata": {
        "id": "1RaBrB1K5jGp",
        "colab_type": "text"
      },
      "cell_type": "markdown",
      "source": [
        "**Word2Vec For RBF**"
      ]
    },
    {
      "metadata": {
        "id": "zZrq-vYv5pEO",
        "colab_type": "code",
        "colab": {}
      },
      "cell_type": "code",
      "source": [
        "import gensim\n",
        "from gensim.models import Word2Vec"
      ],
      "execution_count": 0,
      "outputs": []
    },
    {
      "metadata": {
        "id": "vbj2jiB85x5j",
        "colab_type": "code",
        "colab": {}
      },
      "cell_type": "code",
      "source": [
        "#Train own W2V with train data\n",
        "i=0\n",
        "list_of_sentence_rbf=[]\n",
        "for sent in train_data_rbf.values:\n",
        "  list_of_sentence_rbf.append(sent.split())"
      ],
      "execution_count": 0,
      "outputs": []
    },
    {
      "metadata": {
        "id": "GWG7uc446BUy",
        "colab_type": "code",
        "colab": {}
      },
      "cell_type": "code",
      "source": [
        "w2v_model_rbf=gensim.models.Word2Vec(list_of_sentence_rbf,min_count=5,size=50,workers=4)"
      ],
      "execution_count": 0,
      "outputs": []
    },
    {
      "metadata": {
        "id": "1Yrl-q1l6L88",
        "colab_type": "code",
        "colab": {}
      },
      "cell_type": "code",
      "source": [
        "w2v_words_rbf = list(w2v_model_rbf.wv.vocab)"
      ],
      "execution_count": 0,
      "outputs": []
    },
    {
      "metadata": {
        "id": "WlbW-0hP6Uoj",
        "colab_type": "code",
        "outputId": "d2db5474-3b01-43bd-d4a7-76440e6a2eb4",
        "colab": {
          "base_uri": "https://localhost:8080/",
          "height": 52
        }
      },
      "cell_type": "code",
      "source": [
        "# Average W2V with training Data\n",
        "sent_vectors_rbf = []; # the avg-w2v for each sentence/review is stored in this list\n",
        "for sent in list_of_sentence_rbf: # for each review/sentence\n",
        "    sent_vec = np.zeros(50) # as word vectors are of zero length 50, you might need to change this to 300 if you use google's w2v\n",
        "    cnt_words =0; # num of words with a valid vector in the sentence/review\n",
        "    for word in sent: # for each word in a review/sentence\n",
        "        if word in w2v_words_rbf:\n",
        "            vec = w2v_model_rbf.wv[word]\n",
        "            #print(\"vec= \",vec)\n",
        "            sent_vec += vec\n",
        "            cnt_words += 1\n",
        "    if cnt_words != 0:\n",
        "        sent_vec /= cnt_words\n",
        "    sent_vectors_rbf.append(sent_vec)\n",
        "print(len(sent_vectors_rbf))\n",
        "#print(sent_vectors)\n",
        "print(len(sent_vectors_rbf[0]))"
      ],
      "execution_count": 0,
      "outputs": [
        {
          "output_type": "stream",
          "text": [
            "9800\n",
            "50\n"
          ],
          "name": "stdout"
        }
      ]
    },
    {
      "metadata": {
        "id": "fL6aO0wU6wnA",
        "colab_type": "code",
        "colab": {}
      },
      "cell_type": "code",
      "source": [
        "#Train own W2V with cv data\n",
        "i=0\n",
        "list_of_sentence_rbf_cv=[]\n",
        "for sent in cv_data_rbf.values:\n",
        "  list_of_sentence_rbf_cv.append(sent.split())"
      ],
      "execution_count": 0,
      "outputs": []
    },
    {
      "metadata": {
        "id": "W0yfVT0e69th",
        "colab_type": "code",
        "colab": {}
      },
      "cell_type": "code",
      "source": [
        "w2v_model_rbf_cv=gensim.models.Word2Vec(list_of_sentence_rbf_cv,min_count=5,size=50,workers=4)"
      ],
      "execution_count": 0,
      "outputs": []
    },
    {
      "metadata": {
        "id": "SH93-gfF7GSd",
        "colab_type": "code",
        "colab": {}
      },
      "cell_type": "code",
      "source": [
        "w2v_words_rbf_cv = list(w2v_model_rbf_cv.wv.vocab)"
      ],
      "execution_count": 0,
      "outputs": []
    },
    {
      "metadata": {
        "id": "k6IeJOuY7Xts",
        "colab_type": "code",
        "outputId": "691c321e-7182-47ce-8d37-4cd1c3aaa356",
        "colab": {
          "base_uri": "https://localhost:8080/",
          "height": 52
        }
      },
      "cell_type": "code",
      "source": [
        "# Average W2V with cv Data\n",
        "sent_vectors_rbf_cv = []; # the avg-w2v for each sentence/review is stored in this list\n",
        "for sent in list_of_sentence_rbf_cv: # for each review/sentence\n",
        "    sent_vec = np.zeros(50) # as word vectors are of zero length 50, you might need to change this to 300 if you use google's w2v\n",
        "    cnt_words =0; # num of words with a valid vector in the sentence/review\n",
        "    for word in sent: # for each word in a review/sentence\n",
        "        if word in w2v_words_rbf_cv:\n",
        "            vec = w2v_model_rbf_cv.wv[word]\n",
        "            #print(\"vec= \",vec)\n",
        "            sent_vec += vec\n",
        "            cnt_words += 1\n",
        "    if cnt_words != 0:\n",
        "        sent_vec /= cnt_words\n",
        "    sent_vectors_rbf_cv.append(sent_vec)\n",
        "print(len(sent_vectors_rbf_cv))\n",
        "#print(sent_vectors)\n",
        "print(len(sent_vectors_rbf_cv[0]))"
      ],
      "execution_count": 0,
      "outputs": [
        {
          "output_type": "stream",
          "text": [
            "4200\n",
            "50\n"
          ],
          "name": "stdout"
        }
      ]
    },
    {
      "metadata": {
        "id": "3YWmy70m7q6Z",
        "colab_type": "code",
        "colab": {}
      },
      "cell_type": "code",
      "source": [
        "#Train own W2V with Test data\n",
        "i=0\n",
        "list_of_sentence_rbf_test=[]\n",
        "for sent in test_data_rbf.values:\n",
        "  list_of_sentence_rbf_test.append(sent.split())"
      ],
      "execution_count": 0,
      "outputs": []
    },
    {
      "metadata": {
        "id": "nd20bkmh70w0",
        "colab_type": "code",
        "colab": {}
      },
      "cell_type": "code",
      "source": [
        "w2v_model_rbf_test=gensim.models.Word2Vec(list_of_sentence_rbf_test,min_count=5,size=50,workers=4)"
      ],
      "execution_count": 0,
      "outputs": []
    },
    {
      "metadata": {
        "id": "sQcGCEW_8Ad1",
        "colab_type": "code",
        "colab": {}
      },
      "cell_type": "code",
      "source": [
        "w2v_words_rbf_test = list(w2v_model_rbf_test.wv.vocab)"
      ],
      "execution_count": 0,
      "outputs": []
    },
    {
      "metadata": {
        "id": "gv4cWLg78LqQ",
        "colab_type": "code",
        "outputId": "76e610f7-ee53-4402-f824-ee424c2bbf00",
        "colab": {
          "base_uri": "https://localhost:8080/",
          "height": 52
        }
      },
      "cell_type": "code",
      "source": [
        "# Average W2V with test Data\n",
        "sent_vectors_rbf_test = []; # the avg-w2v for each sentence/review is stored in this list\n",
        "for sent in list_of_sentence_rbf_test: # for each review/sentence\n",
        "    sent_vec = np.zeros(50) # as word vectors are of zero length 50, you might need to change this to 300 if you use google's w2v\n",
        "    cnt_words =0; # num of words with a valid vector in the sentence/review\n",
        "    for word in sent: # for each word in a review/sentence\n",
        "        if word in w2v_words_rbf_test:\n",
        "            vec = w2v_model_rbf_test.wv[word]\n",
        "            #print(\"vec= \",vec)\n",
        "            sent_vec += vec\n",
        "            cnt_words += 1\n",
        "    if cnt_words != 0:\n",
        "        sent_vec /= cnt_words\n",
        "    sent_vectors_rbf_test.append(sent_vec)\n",
        "print(len(sent_vectors_rbf_test))\n",
        "#print(sent_vectors)\n",
        "print(len(sent_vectors_rbf_test[0]))"
      ],
      "execution_count": 0,
      "outputs": [
        {
          "output_type": "stream",
          "text": [
            "6000\n",
            "50\n"
          ],
          "name": "stdout"
        }
      ]
    },
    {
      "metadata": {
        "id": "RKLfzDyTt4Tz",
        "colab_type": "text"
      },
      "cell_type": "markdown",
      "source": [
        "# TF-IDF Word2Vec"
      ]
    },
    {
      "metadata": {
        "id": "1Mm-nq47t9KZ",
        "colab_type": "code",
        "colab": {}
      },
      "cell_type": "code",
      "source": [
        "#TF-IDF Avg W2V for train Data\n",
        "model_train = TfidfVectorizer()\n",
        "tf_idf_matrix_train = model_train.fit_transform(train_data)\n",
        "dictionary = dict(zip(model_train.get_feature_names(), list(model_train.idf_)))"
      ],
      "execution_count": 0,
      "outputs": []
    },
    {
      "metadata": {
        "id": "nfcKlUUeuKiu",
        "colab_type": "code",
        "colab": {}
      },
      "cell_type": "code",
      "source": [
        "tfidf_feat_train = model_train.get_feature_names() \n",
        "\n",
        "tfidf_sent_vectors_train = []; # the tfidf-w2v for each sentence/review is stored in this list\n",
        "row=0;\n",
        "for sent in list_of_sentence: \n",
        "  sent_vec = np.zeros(50) \n",
        "  weight_sum =0; \n",
        "  for word in sent: \n",
        "    try:\n",
        "      vec = w2v_model.wv[word]\n",
        "      tf_idf = dictionary[word]*(sent.count(word)/len(sent))\n",
        "      sent_vec += (vec * tf_idf)\n",
        "      weight_sum += tf_idf\n",
        "    except:\n",
        "      pass\n",
        "          \n",
        "  if weight_sum != 0:\n",
        "    sent_vec /= weight_sum\n",
        "  tfidf_sent_vectors_train.append(sent_vec)\n",
        "  row += 1"
      ],
      "execution_count": 0,
      "outputs": []
    },
    {
      "metadata": {
        "id": "8ixVDERxuQuj",
        "colab_type": "code",
        "colab": {}
      },
      "cell_type": "code",
      "source": [
        "#TF-IDF Avg W2V for cv Data\n",
        "model_cv = TfidfVectorizer()\n",
        "tf_idf_matrix_cv = model_cv.fit_transform(cv_data)\n",
        "dictionary = dict(zip(model_cv.get_feature_names(), list(model_cv.idf_)))"
      ],
      "execution_count": 0,
      "outputs": []
    },
    {
      "metadata": {
        "id": "0RSjOiiouUrJ",
        "colab_type": "code",
        "colab": {}
      },
      "cell_type": "code",
      "source": [
        "tfidf_feat_cv = model_cv.get_feature_names() \n",
        "\n",
        "tfidf_sent_vectors_cv = []; # the tfidf-w2v for each sentence/review is stored in this list\n",
        "row=0;\n",
        "for sent in list_of_sentence_cv: \n",
        "  sent_vec = np.zeros(50) \n",
        "  weight_sum =0; \n",
        "  for word in sent:\n",
        "    try:\n",
        "      vec = w2v_model_cv.wv[word]\n",
        "      tf_idf = dictionary[word]*(sent.count(word)/len(sent))\n",
        "      sent_vec += (vec * tf_idf)\n",
        "      weight_sum += tf_idf\n",
        "    except:\n",
        "      pass\n",
        "          \n",
        "  if weight_sum != 0:\n",
        "    sent_vec /= weight_sum\n",
        "  tfidf_sent_vectors_cv.append(sent_vec)\n",
        "  row += 1"
      ],
      "execution_count": 0,
      "outputs": []
    },
    {
      "metadata": {
        "id": "Q89J-TNKue8O",
        "colab_type": "code",
        "colab": {}
      },
      "cell_type": "code",
      "source": [
        "#TF-IDF Avg W2V for test Data\n",
        "model_test = TfidfVectorizer()\n",
        "tf_idf_matrix_test = model_test.fit_transform(test_data)\n",
        "dictionary = dict(zip(model_test.get_feature_names(), list(model_test.idf_)))"
      ],
      "execution_count": 0,
      "outputs": []
    },
    {
      "metadata": {
        "id": "dhXlMuu_uiJn",
        "colab_type": "code",
        "colab": {}
      },
      "cell_type": "code",
      "source": [
        "tfidf_feat_test = model_test.get_feature_names() \n",
        "\n",
        "tfidf_sent_vectors_test = []; # the tfidf-w2v for each sentence/review is stored in this list\n",
        "row=0;\n",
        "for sent in list_of_sentence_test: \n",
        "  sent_vec = np.zeros(50) \n",
        "  weight_sum =0; \n",
        "  for word in sent:\n",
        "    try:\n",
        "      vec = w2v_model_test.wv[word]\n",
        "      tf_idf = dictionary[word]*(sent.count(word)/len(sent))\n",
        "      sent_vec += (vec * tf_idf)\n",
        "      weight_sum += tf_idf\n",
        "    except:\n",
        "      pass\n",
        "          \n",
        "  if weight_sum != 0:\n",
        "    sent_vec /= weight_sum\n",
        "  tfidf_sent_vectors_test.append(sent_vec)\n",
        "  row += 1"
      ],
      "execution_count": 0,
      "outputs": []
    },
    {
      "metadata": {
        "id": "cMucgij48e05",
        "colab_type": "text"
      },
      "cell_type": "markdown",
      "source": [
        "**TFIDF weighted W2V for RBF SVM**"
      ]
    },
    {
      "metadata": {
        "id": "h0jKvltQ8nhn",
        "colab_type": "code",
        "colab": {}
      },
      "cell_type": "code",
      "source": [
        "#TF-IDF Avg W2V for train Data\n",
        "model_rbf_train = TfidfVectorizer(min_df = 10, max_features = 500)\n",
        "tf_idf_matrix_rbf_train = model_rbf_train.fit_transform(train_data_rbf)\n",
        "dictionary_rbf = dict(zip(model_rbf_train.get_feature_names(), list(model_rbf_train.idf_)))"
      ],
      "execution_count": 0,
      "outputs": []
    },
    {
      "metadata": {
        "id": "9MJYwQ5s9IwL",
        "colab_type": "code",
        "colab": {}
      },
      "cell_type": "code",
      "source": [
        "tfidf_feat_rbf_train = model_rbf_train.get_feature_names() \n",
        "\n",
        "tfidf_sent_vectors_rbf_train = []; # the tfidf-w2v for each sentence/review is stored in this list\n",
        "row=0;\n",
        "for sent in list_of_sentence_rbf: \n",
        "  sent_vec = np.zeros(50) \n",
        "  weight_sum =0; \n",
        "  for word in sent: \n",
        "    try:\n",
        "      vec = w2v_model_rbf.wv[word]\n",
        "      tf_idf = dictionary_rbf[word]*(sent.count(word)/len(sent))\n",
        "      sent_vec += (vec * tf_idf)\n",
        "      weight_sum += tf_idf\n",
        "    except:\n",
        "      pass\n",
        "          \n",
        "  if weight_sum != 0:\n",
        "    sent_vec /= weight_sum\n",
        "  tfidf_sent_vectors_rbf_train.append(sent_vec)\n",
        "  row += 1"
      ],
      "execution_count": 0,
      "outputs": []
    },
    {
      "metadata": {
        "id": "nQK8MoBh9lcR",
        "colab_type": "code",
        "colab": {}
      },
      "cell_type": "code",
      "source": [
        "#TF-IDF Avg W2V for cv Data\n",
        "model_rbf_cv = TfidfVectorizer(min_df = 10, max_features = 500)\n",
        "tf_idf_matrix_rbf_cv = model_rbf_cv.fit_transform(cv_data_rbf)\n",
        "dictionary_rbf = dict(zip(model_rbf_cv.get_feature_names(), list(model_rbf_cv.idf_)))"
      ],
      "execution_count": 0,
      "outputs": []
    },
    {
      "metadata": {
        "id": "DqcQetgw-EWE",
        "colab_type": "code",
        "colab": {}
      },
      "cell_type": "code",
      "source": [
        "tfidf_feat_rbf_cv = model_rbf_cv.get_feature_names() \n",
        "\n",
        "tfidf_sent_vectors_rbf_cv = []; # the tfidf-w2v for each sentence/review is stored in this list\n",
        "row=0;\n",
        "for sent in list_of_sentence_rbf_cv: \n",
        "  sent_vec = np.zeros(50) \n",
        "  weight_sum =0; \n",
        "  for word in sent:\n",
        "    try:\n",
        "      vec = w2v_model_rbf_cv.wv[word]\n",
        "      tf_idf = dictionary_rbf[word]*(sent.count(word)/len(sent))\n",
        "      sent_vec += (vec * tf_idf)\n",
        "      weight_sum += tf_idf\n",
        "    except:\n",
        "      pass\n",
        "          \n",
        "  if weight_sum != 0:\n",
        "    sent_vec /= weight_sum\n",
        "  tfidf_sent_vectors_rbf_cv.append(sent_vec)\n",
        "  row += 1"
      ],
      "execution_count": 0,
      "outputs": []
    },
    {
      "metadata": {
        "id": "gZuSMZsJ-erF",
        "colab_type": "code",
        "colab": {}
      },
      "cell_type": "code",
      "source": [
        "#TF-IDF Avg W2V for _rbf test Data\n",
        "model_rbf_test = TfidfVectorizer(min_df = 10, max_features = 500)\n",
        "tf_idf_matrix_rbf_test = model_rbf_test.fit_transform(test_data_rbf)\n",
        "dictionary_rbf = dict(zip(model_rbf_test.get_feature_names(), list(model_rbf_test.idf_)))"
      ],
      "execution_count": 0,
      "outputs": []
    },
    {
      "metadata": {
        "id": "YGdz8Cc4-_zx",
        "colab_type": "code",
        "colab": {}
      },
      "cell_type": "code",
      "source": [
        "tfidf_feat_rbf_test = model_rbf_test.get_feature_names() \n",
        "\n",
        "tfidf_sent_vectors_rbf_test = []; # the tfidf-w2v for each sentence/review is stored in this list\n",
        "row=0;\n",
        "for sent in list_of_sentence_rbf_test: \n",
        "  sent_vec = np.zeros(50) \n",
        "  weight_sum =0; \n",
        "  for word in sent:\n",
        "    try:\n",
        "      vec = w2v_model_rbf_test.wv[word]\n",
        "      tf_idf = dictionary_rbf[word]*(sent.count(word)/len(sent))\n",
        "      sent_vec += (vec * tf_idf)\n",
        "      weight_sum += tf_idf\n",
        "    except:\n",
        "      pass\n",
        "          \n",
        "  if weight_sum != 0:\n",
        "    sent_vec /= weight_sum\n",
        "  tfidf_sent_vectors_rbf_test.append(sent_vec)\n",
        "  row += 1"
      ],
      "execution_count": 0,
      "outputs": []
    },
    {
      "metadata": {
        "id": "dqt6pQRoxxKq",
        "colab_type": "text"
      },
      "cell_type": "markdown",
      "source": [
        "#  5. SVM"
      ]
    },
    {
      "metadata": {
        "id": "P91IWS4DyAEP",
        "colab_type": "text"
      },
      "cell_type": "markdown",
      "source": [
        "# 5.1 Linear SVM"
      ]
    },
    {
      "metadata": {
        "id": "LKE-sELpyI8M",
        "colab_type": "text"
      },
      "cell_type": "markdown",
      "source": [
        "**5.1.1 Applying Linear SVM on BOW, SET 1**"
      ]
    },
    {
      "metadata": {
        "id": "B1tLolvQx0rR",
        "colab_type": "code",
        "colab": {}
      },
      "cell_type": "code",
      "source": [
        "from sklearn.linear_model import SGDClassifier\n",
        "from sklearn.metrics import roc_curve,auc\n",
        "import math"
      ],
      "execution_count": 0,
      "outputs": []
    },
    {
      "metadata": {
        "id": "zvbf2X1i2QIV",
        "colab_type": "text"
      },
      "cell_type": "markdown",
      "source": [
        "**Simple Cross Validation  Penalty = 'l2'**"
      ]
    },
    {
      "metadata": {
        "id": "BPzeEoYE1Jbl",
        "colab_type": "code",
        "outputId": "37909528-1ae3-46a3-885d-4607f70c6dd6",
        "colab": {
          "base_uri": "https://localhost:8080/",
          "height": 156
        }
      },
      "cell_type": "code",
      "source": [
        "AUC_score_training=[]\n",
        "AUC_score_cv=[]\n",
        "Alpha=[]\n",
        "alpha=0.0001\n",
        "while(alpha<=10000):\n",
        "  clf=SGDClassifier(loss='hinge',penalty='l2',alpha=alpha)\n",
        "  clf.fit(train_bows,y_train)\n",
        "  \n",
        "  #For Train Curve\n",
        "  y_predict_training=clf.predict(train_bows)\n",
        "  fpr,tpr,thresholds=roc_curve(y_predict_training,y_train)\n",
        "  if(not np.isnan(metrics.auc(fpr,tpr))):\n",
        "    Alpha.append(math.ceil(math.log(alpha,10)))\n",
        "    AUC_score_training.append(metrics.auc(fpr,tpr))\n",
        "    print(\"Alpha= \",alpha,\" \",metrics.auc(fpr,tpr))\n",
        "  \n",
        "  # For CV Curve\n",
        "  y_predict_cv=clf.predict(cv_bows)\n",
        "  fpr,tpr,thresholds=roc_curve(y_predict_cv,y_cv)\n",
        "  if(not np.isnan(metrics.auc(fpr,tpr))):\n",
        "    #Alpha.append(math.ceil(math.log(alpha,10)))\n",
        "    AUC_score_cv.append(metrics.auc(fpr,tpr))\n",
        "    print(\"Alpha= \",alpha,\" \",metrics.auc(fpr,tpr))\n",
        "  \n",
        "  alpha*=10"
      ],
      "execution_count": 0,
      "outputs": [
        {
          "output_type": "stream",
          "text": [
            "Alpha=  0.0001   0.9127424928135678\n",
            "Alpha=  0.0001   0.8378572908885225\n",
            "Alpha=  0.001   0.9248985952487481\n",
            "Alpha=  0.001   0.8669402709480113\n",
            "Alpha=  0.01   0.9119561962055809\n",
            "Alpha=  0.01   0.8874354114802026\n",
            "Alpha=  0.1   0.8925813912953359\n",
            "Alpha=  0.1   0.9163609509743198\n"
          ],
          "name": "stdout"
        }
      ]
    },
    {
      "metadata": {
        "id": "1WCx2BHG9dpu",
        "colab_type": "code",
        "outputId": "29a534bf-5058-472a-d183-b01493ab3d1a",
        "colab": {
          "base_uri": "https://localhost:8080/",
          "height": 52
        }
      },
      "cell_type": "code",
      "source": [
        "print(len(Alpha))\n",
        "print(len(AUC_score_training))"
      ],
      "execution_count": 0,
      "outputs": [
        {
          "output_type": "stream",
          "text": [
            "4\n",
            "4\n"
          ],
          "name": "stdout"
        }
      ]
    },
    {
      "metadata": {
        "id": "GMyv2f6c3-kG",
        "colab_type": "code",
        "outputId": "e270cd0c-9c69-448d-84e6-0295430e46bb",
        "colab": {
          "base_uri": "https://localhost:8080/",
          "height": 295
        }
      },
      "cell_type": "code",
      "source": [
        "plt.plot(Alpha,AUC_score_training,label='Training')\n",
        "plt.plot(Alpha,AUC_score_cv,label='CV')\n",
        "plt.ylabel('AUC Score')\n",
        "plt.xlabel('Log ALPHA')\n",
        "plt.title('Log ALPHA vs AUC penalty=L2')\n",
        "plt.legend()\n",
        "plt.show()"
      ],
      "execution_count": 0,
      "outputs": [
        {
          "output_type": "display_data",
          "data": {
            "image/png": "[encoded data removed]",
            "text/plain": [
              "<matplotlib.figure.Figure at 0x7f6c69267978>"
            ]
          },
          "metadata": {
            "tags": []
          }
        }
      ]
    },
    {
      "metadata": {
        "id": "ui1YCKi2-iiD",
        "colab_type": "text"
      },
      "cell_type": "markdown",
      "source": [
        "**Simple Cross Validation Penalty='l1'**"
      ]
    },
    {
      "metadata": {
        "id": "fcJAQ8Pv-pYW",
        "colab_type": "code",
        "outputId": "69428324-70b1-40cd-c26b-c27a734daebc",
        "colab": {
          "base_uri": "https://localhost:8080/",
          "height": 87
        }
      },
      "cell_type": "code",
      "source": [
        "AUC_score_training=[]\n",
        "AUC_score_cv=[]\n",
        "Alpha=[]\n",
        "alpha=0.0001\n",
        "while(alpha<=10000):\n",
        "  clf=SGDClassifier(loss='hinge',penalty='l1',alpha=alpha)\n",
        "  clf.fit(train_bows,y_train)\n",
        "  \n",
        "  #For Train Curve\n",
        "  y_predict_training=clf.predict(train_bows)\n",
        "  fpr,tpr,thresholds=roc_curve(y_predict_training,y_train)\n",
        "  if(not np.isnan(metrics.auc(fpr,tpr))):\n",
        "    Alpha.append(math.ceil(math.log(alpha,10)))\n",
        "    AUC_score_training.append(metrics.auc(fpr,tpr))\n",
        "    print(\"Alpha= \",alpha,\" \",metrics.auc(fpr,tpr))\n",
        "  \n",
        "  # For CV Curve\n",
        "  y_predict_cv=clf.predict(cv_bows)\n",
        "  fpr,tpr,thresholds=roc_curve(y_predict_cv,y_cv)\n",
        "  if(not np.isnan(metrics.auc(fpr,tpr))):\n",
        "    #Alpha.append(math.ceil(math.log(alpha,10)))\n",
        "    AUC_score_cv.append(metrics.auc(fpr,tpr))\n",
        "    print(\"Alpha= \",alpha,\" \",metrics.auc(fpr,tpr))\n",
        "  \n",
        "  alpha*=10"
      ],
      "execution_count": 0,
      "outputs": [
        {
          "output_type": "stream",
          "text": [
            "Alpha=  0.0001   0.8467244902555786\n",
            "Alpha=  0.0001   0.8215854006273167\n",
            "Alpha=  0.001   0.825490622104355\n",
            "Alpha=  0.001   0.8317487987823721\n"
          ],
          "name": "stdout"
        }
      ]
    },
    {
      "metadata": {
        "id": "k4v3TdI0-ur3",
        "colab_type": "code",
        "outputId": "50ca3d28-d6fb-4c52-9f68-7818f5162748",
        "colab": {
          "base_uri": "https://localhost:8080/",
          "height": 295
        }
      },
      "cell_type": "code",
      "source": [
        "plt.plot(Alpha,AUC_score_training,label='Training')\n",
        "plt.plot(Alpha,AUC_score_cv,label='CV')\n",
        "plt.ylabel('AUC Score')\n",
        "plt.xlabel('Log ALPHA')\n",
        "plt.title('Log ALPHA vs AUC penalty=L2')\n",
        "plt.legend()\n",
        "plt.show()"
      ],
      "execution_count": 0,
      "outputs": [
        {
          "output_type": "display_data",
          "data": {
            "image/png": "[encoded data removed]",
            "text/plain": [
              "<matplotlib.figure.Figure at 0x7f6c6910d748>"
            ]
          },
          "metadata": {
            "tags": []
          }
        }
      ]
    },
    {
      "metadata": {
        "id": "3JkkdtK0-1Ne",
        "colab_type": "text"
      },
      "cell_type": "markdown",
      "source": [
        "**Obsrvation:** Optimal value of Alpha=1 with Penalty =L2 having AUC Score=0.92"
      ]
    },
    {
      "metadata": {
        "id": "1yplxD7GAYyd",
        "colab_type": "code",
        "colab": {}
      },
      "cell_type": "code",
      "source": [
        "#For Optimal on test data\n",
        "count_vectorizer=CountVectorizer()\n",
        "Train_bows=count_vectorizer.fit_transform(Train_data)\n",
        "test_bows=count_vectorizer.transform(test_data)\n"
      ],
      "execution_count": 0,
      "outputs": []
    },
    {
      "metadata": {
        "id": "USsHyYUNAduy",
        "colab_type": "code",
        "outputId": "098d56f0-ee36-47fa-e177-23d1f599d941",
        "colab": {
          "base_uri": "https://localhost:8080/",
          "height": 520
        }
      },
      "cell_type": "code",
      "source": [
        "clf = SGDClassifier(alpha=0.1, penalty='l2') \n",
        "clf.fit(Train_bows,y_Train)\n",
        "y_pred=clf.predict(test_bows)\n",
        " #Drawing ROC curve\n",
        "fpr, tpr, thresholds = roc_curve(y_pred, y_test)\n",
        "roc_auc = auc(fpr, tpr)\n",
        "print(' AUC = ',metrics.auc(fpr, tpr))\n",
        "plt.figure()\n",
        "plt.plot(fpr, tpr, color='darkorange', lw=1, label='ROC curve (area = %0.2f)' % roc_auc)\n",
        "plt.plot([0, 1], [0, 1], color='navy', lw=1, linestyle='--')\n",
        "plt.xlim([0.0, 1.0])\n",
        "plt.ylim([0.0, 1.05])\n",
        "plt.xlabel('False Positive Rate')\n",
        "plt.ylabel('True Positive Rate')\n",
        "plt.title('Receiver operating characteristic')\n",
        "plt.legend(loc=\"lower right\")\n",
        "plt.show()\n",
        "print(\"\\n\\n\")\n",
        "print(metrics.classification_report(y_test,y_pred))"
      ],
      "execution_count": 0,
      "outputs": [
        {
          "output_type": "stream",
          "text": [
            " AUC =  0.8982164308595836\n"
          ],
          "name": "stdout"
        },
        {
          "output_type": "display_data",
          "data": {
            "image/png": "[encoded data removed]",
            "text/plain": [
              "<matplotlib.figure.Figure at 0x7f6c68a3d710>"
            ]
          },
          "metadata": {
            "tags": []
          }
        },
        {
          "output_type": "stream",
          "text": [
            "\n",
            "\n",
            "\n",
            "              precision    recall  f1-score   support\n",
            "\n",
            "           0       0.97      0.01      0.01      5195\n",
            "           1       0.83      1.00      0.91     24805\n",
            "\n",
            "   micro avg       0.83      0.83      0.83     30000\n",
            "   macro avg       0.90      0.50      0.46     30000\n",
            "weighted avg       0.85      0.83      0.75     30000\n",
            "\n"
          ],
          "name": "stdout"
        }
      ]
    },
    {
      "metadata": {
        "id": "-2EBdXTEBfuV",
        "colab_type": "text"
      },
      "cell_type": "markdown",
      "source": [
        "**Top Positive Features**"
      ]
    },
    {
      "metadata": {
        "id": "SsgwWyIdBkAr",
        "colab_type": "code",
        "outputId": "4bcbf25a-6532-47f9-d84b-e70241818897",
        "colab": {
          "base_uri": "https://localhost:8080/",
          "height": 364
        }
      },
      "cell_type": "code",
      "source": [
        "feature_names=count_vector.get_feature_names()\n",
        "w=clf.coef_\n",
        "top=zip(w[0],feature_names)\n",
        "top=list(top)\n",
        "top.sort(reverse=True,key=lambda x:x[0])\n",
        "l=len(top[0])\n",
        "print('Weight\\t\\tTop Positive Feature')\n",
        "for i in range (1,20):\n",
        "  print(\"%.2f\\t\\t\"%top[i][0],top[i][1])"
      ],
      "execution_count": 0,
      "outputs": [
        {
          "output_type": "stream",
          "text": [
            "Weight\t\tTop Positive Feature\n",
            "0.26\t\t optionalonion\n",
            "0.24\t\t informal\n",
            "0.24\t\t bookcase\n",
            "0.20\t\t dye\n",
            "0.16\t\t orally\n",
            "0.14\t\t graaaaaaaandmama\n",
            "0.14\t\t grogg\n",
            "0.13\t\t gasm\n",
            "0.13\t\t schillings\n",
            "0.11\t\t pureeing\n",
            "0.11\t\t final\n",
            "0.10\t\t sobeys\n",
            "0.10\t\t oevres\n",
            "0.09\t\t juces\n",
            "0.09\t\t optioned\n",
            "0.08\t\t zuppa\n",
            "0.08\t\t sublimer\n",
            "0.08\t\t sulfites\n",
            "0.08\t\t kronung\n"
          ],
          "name": "stdout"
        }
      ]
    },
    {
      "metadata": {
        "id": "f0OUllvpBstd",
        "colab_type": "text"
      },
      "cell_type": "markdown",
      "source": [
        "**Top Negative Features**"
      ]
    },
    {
      "metadata": {
        "id": "4sHGfL5PBwfz",
        "colab_type": "code",
        "outputId": "0b29ff38-1be0-487e-926a-dee85c2ad6cc",
        "colab": {
          "base_uri": "https://localhost:8080/",
          "height": 364
        }
      },
      "cell_type": "code",
      "source": [
        "feature_names=count_vector.get_feature_names()\n",
        "w=clf.coef_\n",
        "top=zip(w[0],feature_names)\n",
        "top=list(top)\n",
        "top.sort(key=lambda x:x[0])\n",
        "l=len(top[0])\n",
        "print('Weight\\t\\tTop Negative Feature')\n",
        "for i in range (1,20):\n",
        "  print(\"%.2f\\t\\t\"%top[i][0],top[i][1])"
      ],
      "execution_count": 0,
      "outputs": [
        {
          "output_type": "stream",
          "text": [
            "Weight\t\tTop Negative Feature\n",
            "-0.07\t\t racoons\n",
            "-0.07\t\t escalating\n",
            "-0.07\t\t poppie\n",
            "-0.05\t\t teeths\n",
            "-0.05\t\t bbcs\n",
            "-0.05\t\t patties\n",
            "-0.05\t\t leaks\n",
            "-0.05\t\t tempts\n",
            "-0.05\t\t bavarian\n",
            "-0.04\t\t fuzzy\n",
            "-0.04\t\t xoxo\n",
            "-0.04\t\t relied\n",
            "-0.04\t\t werw\n",
            "-0.03\t\t eggs\n",
            "-0.03\t\t waffles\n",
            "-0.03\t\t cafes\n",
            "-0.03\t\t necessacity\n",
            "-0.03\t\t survey\n",
            "-0.03\t\t rainfall\n"
          ],
          "name": "stdout"
        }
      ]
    },
    {
      "metadata": {
        "id": "wXbbp_O7A4an",
        "colab_type": "text"
      },
      "cell_type": "markdown",
      "source": [
        "**5.1.2 TFIDF**"
      ]
    },
    {
      "metadata": {
        "id": "SdV-h1YcD7-0",
        "colab_type": "code",
        "colab": {}
      },
      "cell_type": "code",
      "source": [
        "from sklearn.calibration import CalibratedClassifierCV"
      ],
      "execution_count": 0,
      "outputs": []
    },
    {
      "metadata": {
        "id": "BfYCNhc6CML7",
        "colab_type": "text"
      },
      "cell_type": "markdown",
      "source": [
        "**Simple Cross Validation penalty=l2**"
      ]
    },
    {
      "metadata": {
        "id": "JmXWux4tA8wT",
        "colab_type": "code",
        "outputId": "0c630664-1a53-43f5-951e-f37d187b572d",
        "colab": {
          "base_uri": "https://localhost:8080/",
          "height": 121
        }
      },
      "cell_type": "code",
      "source": [
        "AUC_score_training=[]\n",
        "AUC_score_cv=[]\n",
        "Alpha_training=[]\n",
        "Alpha_cv=[]\n",
        "alpha=0.0001\n",
        "while(alpha<=10000):\n",
        "  clf=SGDClassifier(loss='hinge',penalty='l2',alpha=alpha)\n",
        "  calibarator=CalibratedClassifierCV(clf,cv=3,method='sigmoid')\n",
        "  calibarator.fit(train_tfidf,y_train)\n",
        "  \n",
        "  #For Train Curve\n",
        "  y_predict_training=calibarator.predict(train_tfidf)\n",
        "  fpr,tpr,thresholds=roc_curve(y_predict_training,y_train)\n",
        "  if(not np.isnan(metrics.auc(fpr,tpr))):\n",
        "    Alpha_training.append(math.ceil(math.log(alpha,10)))\n",
        "    AUC_score_training.append(metrics.auc(fpr,tpr))\n",
        "    print(\"Alpha= \",alpha,\" \",metrics.auc(fpr,tpr))\n",
        "  \n",
        "  # For CV Curve\n",
        "  clf.fit(train_tfidf,y_train)\n",
        "  calibarator=CalibratedClassifierCV(clf,cv='prefit',method='sigmoid')\n",
        "  calibarator.fit(train_tfidf,y_train)\n",
        "  y_predict_cv=calibarator.predict(cv_tfidf)\n",
        "  fpr,tpr,thresholds=roc_curve(y_predict_cv,y_cv)\n",
        "  if(not np.isnan(metrics.auc(fpr,tpr))):\n",
        "    Alpha_cv.append(math.ceil(math.log(alpha,10)))\n",
        "    AUC_score_cv.append(metrics.auc(fpr,tpr))\n",
        "    print(\"Alpha= \",alpha,\" \",metrics.auc(fpr,tpr))\n",
        "  \n",
        "  alpha*=10\n",
        "  "
      ],
      "execution_count": 0,
      "outputs": [
        {
          "output_type": "stream",
          "text": [
            "Alpha=  0.0001   0.9105533384296854\n",
            "Alpha=  0.0001   0.8672409879910187\n",
            "Alpha=  0.001   0.8926648324908542\n",
            "Alpha=  0.001   0.8647018209487822\n",
            "Alpha=  0.01   0.8922778982780752\n",
            "Alpha=  0.01   0.8645082020555322\n"
          ],
          "name": "stdout"
        }
      ]
    },
    {
      "metadata": {
        "id": "Xzk-IkyeDAtQ",
        "colab_type": "code",
        "outputId": "40c41299-a628-4d59-9249-70fd85fa9be7",
        "colab": {
          "base_uri": "https://localhost:8080/",
          "height": 295
        }
      },
      "cell_type": "code",
      "source": [
        "plt.plot(Alpha_training,AUC_score_training,label='Training')\n",
        "plt.plot(Alpha_cv,AUC_score_cv,label='CV')\n",
        "plt.ylabel('AUC Score')\n",
        "plt.xlabel('Log ALPHA')\n",
        "plt.title('Log ALPHA vs AUC penalty=L2')\n",
        "plt.legend()\n",
        "plt.show()"
      ],
      "execution_count": 0,
      "outputs": [
        {
          "output_type": "display_data",
          "data": {
            "image/png": "[encoded data removed]",
            "text/plain": [
              "<matplotlib.figure.Figure at 0x7f6c68e49e80>"
            ]
          },
          "metadata": {
            "tags": []
          }
        }
      ]
    },
    {
      "metadata": {
        "id": "7A8FoWcRHu0Y",
        "colab_type": "text"
      },
      "cell_type": "markdown",
      "source": [
        "**Simple Cross Validation Penalty-L2**"
      ]
    },
    {
      "metadata": {
        "id": "YNMHLE1PH3oQ",
        "colab_type": "code",
        "outputId": "dede4cf2-8721-4122-f41c-445633523bed",
        "colab": {
          "base_uri": "https://localhost:8080/",
          "height": 52
        }
      },
      "cell_type": "code",
      "source": [
        "AUC_score_training=[]\n",
        "AUC_score_cv=[]\n",
        "Alpha_training=[]\n",
        "Alpha_cv=[]\n",
        "alpha=0.0001\n",
        "while(alpha<=10000):\n",
        "  clf=SGDClassifier(loss='hinge',penalty='l1',alpha=alpha)\n",
        "  calibarator=CalibratedClassifierCV(clf,cv=3,method='sigmoid')\n",
        "  calibarator.fit(train_tfidf,y_train)\n",
        "  \n",
        "  #For Train Curve\n",
        "  y_predict_training=calibarator.predict(train_tfidf)\n",
        "  fpr,tpr,thresholds=roc_curve(y_predict_training,y_train)\n",
        "  if(not np.isnan(metrics.auc(fpr,tpr))):\n",
        "    Alpha_training.append(math.ceil(math.log(alpha,10)))\n",
        "    AUC_score_training.append(metrics.auc(fpr,tpr))\n",
        "    print(\"Alpha= \",alpha,\" \",metrics.auc(fpr,tpr))\n",
        "  \n",
        "  # For CV Curve\n",
        "  clf.fit(train_tfidf,y_train)\n",
        "  calibarator=CalibratedClassifierCV(clf,cv='prefit',method='sigmoid')\n",
        "  calibarator.fit(train_tfidf,y_train)\n",
        "  y_predict_cv=calibarator.predict(cv_tfidf)\n",
        "  fpr,tpr,thresholds=roc_curve(y_predict_cv,y_cv)\n",
        "  if(not np.isnan(metrics.auc(fpr,tpr))):\n",
        "    Alpha_cv.append(math.ceil(math.log(alpha,10)))\n",
        "    AUC_score_cv.append(metrics.auc(fpr,tpr))\n",
        "    print(\"Alpha= \",alpha,\" \",metrics.auc(fpr,tpr))\n",
        "  \n",
        "  alpha*=10\n",
        "  "
      ],
      "execution_count": 0,
      "outputs": [
        {
          "output_type": "stream",
          "text": [
            "Alpha=  0.0001   0.8667890550186259\n",
            "Alpha=  0.0001   0.8548126425949726\n"
          ],
          "name": "stdout"
        }
      ]
    },
    {
      "metadata": {
        "id": "NF-EMDwVH-fd",
        "colab_type": "text"
      },
      "cell_type": "markdown",
      "source": [
        "**Observation :** Optimal Value of ALPHA=10^-2"
      ]
    },
    {
      "metadata": {
        "id": "vG6CgqaNIKYc",
        "colab_type": "code",
        "colab": {}
      },
      "cell_type": "code",
      "source": [
        "#For Optimal on test data\n",
        "tfidf_vector=TfidfVectorizer()\n",
        "Train_tfidf=tfidf_vector.fit_transform(Train_data)\n",
        "test_tfidf=tfidf_vector.transform(test_data)"
      ],
      "execution_count": 0,
      "outputs": []
    },
    {
      "metadata": {
        "id": "3NDvDfNXIt_-",
        "colab_type": "code",
        "outputId": "094d88c0-da99-41e7-fc2e-f383f1c9a3b4",
        "colab": {
          "base_uri": "https://localhost:8080/",
          "height": 520
        }
      },
      "cell_type": "code",
      "source": [
        "clf = SGDClassifier(loss='hinge',alpha=0.001, penalty='l2') \n",
        "clf.fit(Train_tfidf,y_Train)\n",
        "y_pred=clf.predict(test_tfidf)\n",
        " #Drawing ROC curve\n",
        "fpr, tpr, thresholds = roc_curve(y_pred, y_test)\n",
        "roc_auc = auc(fpr, tpr)\n",
        "print(' AUC = ',metrics.auc(fpr, tpr))\n",
        "plt.figure()\n",
        "plt.plot(fpr, tpr, color='darkorange', lw=1, label='ROC curve (area = %0.2f)' % roc_auc)\n",
        "plt.plot([0, 1], [0, 1], color='navy', lw=1, linestyle='--')\n",
        "plt.xlim([0.0, 1.0])\n",
        "plt.ylim([0.0, 1.05])\n",
        "plt.xlabel('False Positive Rate')\n",
        "plt.ylabel('True Positive Rate')\n",
        "plt.title('Receiver operating characteristic')\n",
        "plt.legend(loc=\"lower right\")\n",
        "plt.show()\n",
        "print(\"\\n\\n\")\n",
        "print(metrics.classification_report(y_test,y_pred))"
      ],
      "execution_count": 0,
      "outputs": [
        {
          "output_type": "stream",
          "text": [
            " AUC =  0.9134304476815893\n"
          ],
          "name": "stdout"
        },
        {
          "output_type": "display_data",
          "data": {
            "image/png": "[encoded data removed]",
            "text/plain": [
              "<matplotlib.figure.Figure at 0x7f6c6881ba90>"
            ]
          },
          "metadata": {
            "tags": []
          }
        },
        {
          "output_type": "stream",
          "text": [
            "\n",
            "\n",
            "\n",
            "              precision    recall  f1-score   support\n",
            "\n",
            "           0       1.00      0.00      0.00      5195\n",
            "           1       0.83      1.00      0.91     24805\n",
            "\n",
            "   micro avg       0.83      0.83      0.83     30000\n",
            "   macro avg       0.91      0.50      0.45     30000\n",
            "weighted avg       0.86      0.83      0.75     30000\n",
            "\n"
          ],
          "name": "stdout"
        }
      ]
    },
    {
      "metadata": {
        "id": "C1A3xcMLI-da",
        "colab_type": "text"
      },
      "cell_type": "markdown",
      "source": [
        "**Top Positive Features**"
      ]
    },
    {
      "metadata": {
        "id": "7k1fiyKtJCvx",
        "colab_type": "code",
        "outputId": "a17f5e1c-9f9b-4ac5-e0cf-c2ee146d6e6f",
        "colab": {
          "base_uri": "https://localhost:8080/",
          "height": 364
        }
      },
      "cell_type": "code",
      "source": [
        "feature_names=count_vector.get_feature_names()\n",
        "w=clf.coef_\n",
        "top=zip(w[0],feature_names)\n",
        "top=list(top)\n",
        "top.sort(reverse=True,key=lambda x:x[0])\n",
        "l=len(top[0])\n",
        "print('Weight\\t\\tTop Positive Feature')\n",
        "for i in range (1,20):\n",
        "  print(\"%.2f\\t\\t\"%top[i][0],top[i][1])"
      ],
      "execution_count": 0,
      "outputs": [
        {
          "output_type": "stream",
          "text": [
            "Weight\t\tTop Positive Feature\n",
            "0.47\t\t bookcase\n",
            "0.39\t\t informal\n",
            "0.39\t\t dye\n",
            "0.38\t\t optionalonion\n",
            "0.31\t\t schillings\n",
            "0.29\t\t gasm\n",
            "0.28\t\t pureeing\n",
            "0.27\t\t orally\n",
            "0.24\t\t grogg\n",
            "0.23\t\t andmakes\n",
            "0.23\t\t shine\n",
            "0.22\t\t final\n",
            "0.22\t\t graaaaaaaandmama\n",
            "0.21\t\t kronung\n",
            "0.21\t\t zuppa\n",
            "0.21\t\t juces\n",
            "0.21\t\t walkers\n",
            "0.20\t\t optioned\n",
            "0.19\t\t bazaar\n"
          ],
          "name": "stdout"
        }
      ]
    },
    {
      "metadata": {
        "id": "o8c9_YUcJYgV",
        "colab_type": "text"
      },
      "cell_type": "markdown",
      "source": [
        "**Top Negative Features**"
      ]
    },
    {
      "metadata": {
        "id": "hZrCnlgaJW4D",
        "colab_type": "code",
        "outputId": "07560245-e480-4bfc-d6ff-131cbaca946a",
        "colab": {
          "base_uri": "https://localhost:8080/",
          "height": 364
        }
      },
      "cell_type": "code",
      "source": [
        "feature_names=count_vector.get_feature_names()\n",
        "w=clf.coef_\n",
        "top=zip(w[0],feature_names)\n",
        "top=list(top)\n",
        "top.sort(key=lambda x:x[0])\n",
        "l=len(top[0])\n",
        "print('Weight\\t\\tTop Negative Feature')\n",
        "for i in range (1,20):\n",
        "  print(\"%.2f\\t\\t\"%top[i][0],top[i][1])"
      ],
      "execution_count": 0,
      "outputs": [
        {
          "output_type": "stream",
          "text": [
            "Weight\t\tTop Negative Feature\n",
            "-0.69\t\t teeths\n",
            "-0.67\t\t leaks\n",
            "-0.55\t\t escalating\n",
            "-0.53\t\t poppie\n",
            "-0.50\t\t xoxo\n",
            "-0.48\t\t racoons\n",
            "-0.45\t\t escaped\n",
            "-0.43\t\t eukanuba\n",
            "-0.39\t\t survey\n",
            "-0.36\t\t beech\n",
            "-0.34\t\t bavarian\n",
            "-0.33\t\t isculpted\n",
            "-0.33\t\t eggs\n",
            "-0.33\t\t escapesit\n",
            "-0.32\t\t bos\n",
            "-0.32\t\t prohibitive\n",
            "-0.31\t\t concentated\n",
            "-0.30\t\t bribed\n",
            "-0.27\t\t simplifying\n"
          ],
          "name": "stdout"
        }
      ]
    },
    {
      "metadata": {
        "id": "zgedJ1zQJdOC",
        "colab_type": "text"
      },
      "cell_type": "markdown",
      "source": [
        "**5.1.3 Linear SVM on Avg Word2Vec**"
      ]
    },
    {
      "metadata": {
        "id": "gncXra0AJgi5",
        "colab_type": "code",
        "outputId": "0f9d445b-55b2-4e86-ebfd-c73a9d974061",
        "colab": {
          "base_uri": "https://localhost:8080/",
          "height": 225
        }
      },
      "cell_type": "code",
      "source": [
        "AUC_score_training=[]\n",
        "AUC_score_cv=[]\n",
        "Alpha_training=[]\n",
        "Alpha_cv=[]\n",
        "alpha=0.0001\n",
        "while(alpha<=10000):\n",
        "  clf=SGDClassifier(loss='hinge',penalty='l2',alpha=alpha)\n",
        "  calibarator=CalibratedClassifierCV(clf,cv=3,method='sigmoid')\n",
        "  calibarator.fit(sent_vectors,y_train)\n",
        "  \n",
        "  #For Train Curve\n",
        "  y_predict_training=calibarator.predict(sent_vectors)\n",
        "  fpr,tpr,thresholds=roc_curve(y_predict_training,y_train)\n",
        "  if(not np.isnan(metrics.auc(fpr,tpr))):\n",
        "    Alpha_training.append(math.ceil(math.log(alpha,10)))\n",
        "    AUC_score_training.append(metrics.auc(fpr,tpr))\n",
        "    print(\"Alpha= \",alpha,\" \",metrics.auc(fpr,tpr))\n",
        "  \n",
        "  # For CV Curve\n",
        "  clf.fit(sent_vectors,y_train)\n",
        "  calibarator=CalibratedClassifierCV(clf,cv='prefit',method='sigmoid')\n",
        "  calibarator.fit(sent_vectors,y_train)\n",
        "  y_predict_cv=calibarator.predict(sent_vectors_cv)\n",
        "  fpr,tpr,thresholds=roc_curve(y_predict_cv,y_cv)\n",
        "  if(not np.isnan(metrics.auc(fpr,tpr))):\n",
        "    Alpha_cv.append(math.ceil(math.log(alpha,10)))\n",
        "    AUC_score_cv.append(metrics.auc(fpr,tpr))\n",
        "    print(\"Alpha= \",alpha,\" \",metrics.auc(fpr,tpr))\n",
        "  \n",
        "  alpha*=10"
      ],
      "execution_count": 0,
      "outputs": [
        {
          "output_type": "stream",
          "text": [
            "Alpha=  0.0001   0.8149347446472874\n",
            "Alpha=  0.0001   0.6530155648156404\n",
            "Alpha=  0.001   0.8052316758747697\n",
            "Alpha=  0.001   0.6572267096576034\n",
            "Alpha=  0.01   0.8041421636915285\n",
            "Alpha=  0.01   0.6586127714272283\n",
            "Alpha=  0.1   0.8035116465645655\n",
            "Alpha=  0.1   0.6567667363617083\n",
            "Alpha=  1.0   0.8031964576952313\n",
            "Alpha=  1.0   0.6456350480283706\n",
            "Alpha=  10.0   0.5009912723087011\n",
            "Alpha=  10.0   0.6006006247880036\n"
          ],
          "name": "stdout"
        }
      ]
    },
    {
      "metadata": {
        "id": "ZdH66ec3Ks-e",
        "colab_type": "code",
        "outputId": "c3bb4cfc-f3eb-4b33-c313-04cb020a4a10",
        "colab": {
          "base_uri": "https://localhost:8080/",
          "height": 295
        }
      },
      "cell_type": "code",
      "source": [
        "plt.plot(Alpha_training,AUC_score_training,label='Training')\n",
        "plt.plot(Alpha_cv,AUC_score_cv,label='CV')\n",
        "plt.ylabel('AUC Score')\n",
        "plt.xlabel('Log ALPHA')\n",
        "plt.title('Log ALPHA vs AUC penalty=L2')\n",
        "plt.legend()\n",
        "plt.show()"
      ],
      "execution_count": 0,
      "outputs": [
        {
          "output_type": "display_data",
          "data": {
            "image/png": "[encoded data removed]",
            "text/plain": [
              "<matplotlib.figure.Figure at 0x7f6c80154cc0>"
            ]
          },
          "metadata": {
            "tags": []
          }
        }
      ]
    },
    {
      "metadata": {
        "id": "sXTm5ZR3K2eV",
        "colab_type": "text"
      },
      "cell_type": "markdown",
      "source": [
        " **Observation:** Optimal value of ALPHA=1"
      ]
    },
    {
      "metadata": {
        "id": "uFt4TBWhLAV9",
        "colab_type": "code",
        "outputId": "2c169249-3439-4afc-b9c8-f99258ffe658",
        "colab": {
          "base_uri": "https://localhost:8080/",
          "height": 520
        }
      },
      "cell_type": "code",
      "source": [
        "clf = SGDClassifier(loss='hinge',alpha=0.01, penalty='l2') \n",
        "clf.fit(sent_vectors,y_train)\n",
        "y_pred=clf.predict(sent_vectors_test)\n",
        " #Drawing ROC curve\n",
        "fpr, tpr, thresholds = roc_curve(y_pred, y_test)\n",
        "roc_auc = auc(fpr, tpr)\n",
        "print(' AUC = ',metrics.auc(fpr, tpr))\n",
        "plt.figure()\n",
        "plt.plot(fpr, tpr, color='darkorange', lw=1, label='ROC curve (area = %0.2f)' % roc_auc)\n",
        "plt.plot([0, 1], [0, 1], color='navy', lw=1, linestyle='--')\n",
        "plt.xlim([0.0, 1.0])\n",
        "plt.ylim([0.0, 1.05])\n",
        "plt.xlabel('False Positive Rate')\n",
        "plt.ylabel('True Positive Rate')\n",
        "plt.title('Receiver operating characteristic')\n",
        "plt.legend(loc=\"lower right\")\n",
        "plt.show()\n",
        "print(\"\\n\\n\")\n",
        "print(metrics.classification_report(y_test,y_pred))"
      ],
      "execution_count": 0,
      "outputs": [
        {
          "output_type": "stream",
          "text": [
            " AUC =  0.68982385374194\n"
          ],
          "name": "stdout"
        },
        {
          "output_type": "display_data",
          "data": {
            "image/png": "[encoded data removed]",
            "text/plain": [
              "<matplotlib.figure.Figure at 0x7f6c63f7fa90>"
            ]
          },
          "metadata": {
            "tags": []
          }
        },
        {
          "output_type": "stream",
          "text": [
            "\n",
            "\n",
            "\n",
            "              precision    recall  f1-score   support\n",
            "\n",
            "           0       0.55      0.02      0.04      5195\n",
            "           1       0.83      1.00      0.91     24805\n",
            "\n",
            "   micro avg       0.83      0.83      0.83     30000\n",
            "   macro avg       0.69      0.51      0.47     30000\n",
            "weighted avg       0.78      0.83      0.75     30000\n",
            "\n"
          ],
          "name": "stdout"
        }
      ]
    },
    {
      "metadata": {
        "id": "_VGVdV-qMKTJ",
        "colab_type": "text"
      },
      "cell_type": "markdown",
      "source": [
        "**5.1.4 Linear SVM on TF-IDF Weighted Word2Vec**"
      ]
    },
    {
      "metadata": {
        "id": "fWCnZEHjMVXj",
        "colab_type": "code",
        "outputId": "6ee4ee8a-2892-40cb-ce65-e2df909da0a9",
        "colab": {
          "base_uri": "https://localhost:8080/",
          "height": 225
        }
      },
      "cell_type": "code",
      "source": [
        "AUC_score_training=[]\n",
        "AUC_score_cv=[]\n",
        "Alpha_training=[]\n",
        "Alpha_cv=[]\n",
        "alpha=0.0001\n",
        "while(alpha<=10000):\n",
        "  clf=SGDClassifier(loss='hinge',penalty='l2',alpha=alpha)\n",
        "  calibarator=CalibratedClassifierCV(clf,cv=3,method='sigmoid')\n",
        "  calibarator.fit(tfidf_sent_vectors_train,y_train)\n",
        "  \n",
        "  #For Train Curve\n",
        "  y_predict_training=calibarator.predict(tfidf_sent_vectors_train)\n",
        "  fpr,tpr,thresholds=roc_curve(y_predict_training,y_train)\n",
        "  if(not np.isnan(metrics.auc(fpr,tpr))):\n",
        "    Alpha_training.append(math.ceil(math.log(alpha,10)))\n",
        "    AUC_score_training.append(metrics.auc(fpr,tpr))\n",
        "    print(\"Alpha= \",alpha,\" \",metrics.auc(fpr,tpr))\n",
        "  \n",
        "  # For CV Curve\n",
        "  clf.fit(tfidf_sent_vectors_train,y_train)\n",
        "  calibarator=CalibratedClassifierCV(clf,cv='prefit',method='sigmoid')\n",
        "  calibarator.fit(tfidf_sent_vectors_train,y_train)\n",
        "  y_predict_cv=calibarator.predict(tfidf_sent_vectors_cv)\n",
        "  fpr,tpr,thresholds=roc_curve(y_predict_cv,y_cv)\n",
        "  if(not np.isnan(metrics.auc(fpr,tpr))):\n",
        "    Alpha_cv.append(math.ceil(math.log(alpha,10)))\n",
        "    AUC_score_cv.append(metrics.auc(fpr,tpr))\n",
        "    print(\"Alpha= \",alpha,\" \",metrics.auc(fpr,tpr))\n",
        "  \n",
        "  alpha*=10"
      ],
      "execution_count": 0,
      "outputs": [
        {
          "output_type": "stream",
          "text": [
            "Alpha=  0.0001   0.7951202128576083\n",
            "Alpha=  0.0001   0.6265252389896125\n",
            "Alpha=  0.001   0.7875056049462079\n",
            "Alpha=  0.001   0.6686059174873505\n",
            "Alpha=  0.01   0.7878853488664248\n",
            "Alpha=  0.01   0.6779696240236912\n",
            "Alpha=  0.1   0.7829895202366216\n",
            "Alpha=  0.1   0.6833423759606929\n",
            "Alpha=  1.0   0.80172763211522\n",
            "Alpha=  1.0   0.6594592125343026\n",
            "Alpha=  10.0   0.5338300795296481\n",
            "Alpha=  10.0   0.5718814413113962\n"
          ],
          "name": "stdout"
        }
      ]
    },
    {
      "metadata": {
        "id": "Rp1pgqUlNOCT",
        "colab_type": "code",
        "outputId": "bf066bef-d26a-44d5-f997-f6fa78610d8b",
        "colab": {
          "base_uri": "https://localhost:8080/",
          "height": 295
        }
      },
      "cell_type": "code",
      "source": [
        "plt.plot(Alpha_training,AUC_score_training,label='Training')\n",
        "plt.plot(Alpha_cv,AUC_score_cv,label='CV')\n",
        "plt.ylabel('AUC Score')\n",
        "plt.xlabel('Log ALPHA')\n",
        "plt.title('Log ALPHA vs AUC penalty=L2')\n",
        "plt.legend()\n",
        "plt.show()"
      ],
      "execution_count": 0,
      "outputs": [
        {
          "output_type": "display_data",
          "data": {
            "image/png": "[encoded data removed]",
            "text/plain": [
              "<matplotlib.figure.Figure at 0x7f6c687df550>"
            ]
          },
          "metadata": {
            "tags": []
          }
        }
      ]
    },
    {
      "metadata": {
        "id": "Y15ua2z3NTaY",
        "colab_type": "text"
      },
      "cell_type": "markdown",
      "source": [
        "**OBSERVATION:-** Optimal value of ALPHA =1"
      ]
    },
    {
      "metadata": {
        "id": "5ZLlc_UENcph",
        "colab_type": "code",
        "outputId": "3a945de1-7b7c-416e-d594-79796b6466d1",
        "colab": {
          "base_uri": "https://localhost:8080/",
          "height": 520
        }
      },
      "cell_type": "code",
      "source": [
        "clf = SGDClassifier(loss='hinge',alpha=0.001, penalty='l2') \n",
        "clf.fit(tfidf_sent_vectors_train,y_train)\n",
        "y_pred=clf.predict(tfidf_sent_vectors_test)\n",
        " #Drawing ROC curve\n",
        "fpr, tpr, thresholds = roc_curve(y_pred, y_test)\n",
        "roc_auc = auc(fpr, tpr)\n",
        "print(' AUC = ',metrics.auc(fpr, tpr))\n",
        "plt.figure()\n",
        "plt.plot(fpr, tpr, color='darkorange', lw=1, label='ROC curve (area = %0.2f)' % roc_auc)\n",
        "plt.plot([0, 1], [0, 1], color='navy', lw=1, linestyle='--')\n",
        "plt.xlim([0.0, 1.0])\n",
        "plt.ylim([0.0, 1.05])\n",
        "plt.xlabel('False Positive Rate')\n",
        "plt.ylabel('True Positive Rate')\n",
        "plt.title('Receiver operating characteristic')\n",
        "plt.legend(loc=\"lower right\")\n",
        "plt.show()\n",
        "print(\"\\n\\n\")\n",
        "print(metrics.classification_report(y_test,y_pred))"
      ],
      "execution_count": 0,
      "outputs": [
        {
          "output_type": "stream",
          "text": [
            " AUC =  0.6407675720769213\n"
          ],
          "name": "stdout"
        },
        {
          "output_type": "display_data",
          "data": {
            "image/png": "[encoded data removed]",
            "text/plain": [
              "<matplotlib.figure.Figure at 0x7f6c684e8e10>"
            ]
          },
          "metadata": {
            "tags": []
          }
        },
        {
          "output_type": "stream",
          "text": [
            "\n",
            "\n",
            "\n",
            "              precision    recall  f1-score   support\n",
            "\n",
            "           0       0.44      0.15      0.22      5195\n",
            "           1       0.84      0.96      0.90     24805\n",
            "\n",
            "   micro avg       0.82      0.82      0.82     30000\n",
            "   macro avg       0.64      0.55      0.56     30000\n",
            "weighted avg       0.77      0.82      0.78     30000\n",
            "\n"
          ],
          "name": "stdout"
        }
      ]
    },
    {
      "metadata": {
        "id": "Ku3JPJBpOHF-",
        "colab_type": "text"
      },
      "cell_type": "markdown",
      "source": [
        "# 5.2 RBF SVM"
      ]
    },
    {
      "metadata": {
        "id": "3Nx11heKOOyj",
        "colab_type": "code",
        "colab": {}
      },
      "cell_type": "code",
      "source": [
        "from sklearn.svm import SVC"
      ],
      "execution_count": 0,
      "outputs": []
    },
    {
      "metadata": {
        "id": "BO5JZt6ahxJc",
        "colab_type": "text"
      },
      "cell_type": "markdown",
      "source": [
        "**5.2.1 RBF SVM on BOWs**"
      ]
    },
    {
      "metadata": {
        "id": "YpiZW5i1Psc0",
        "colab_type": "text"
      },
      "cell_type": "markdown",
      "source": [
        "**Simple Cross Validation**"
      ]
    },
    {
      "metadata": {
        "id": "_l391BrcPXUg",
        "colab_type": "code",
        "outputId": "9ed730b3-91b0-424d-98cf-1dd7b882f765",
        "colab": {
          "base_uri": "https://localhost:8080/",
          "height": 191
        }
      },
      "cell_type": "code",
      "source": [
        "AUC_score_training=[]\n",
        "AUC_score_cv=[]\n",
        "C=[]\n",
        "c=0.0001\n",
        "while(c<=10000):\n",
        "  clf=SVC(C=c,kernel='rbf',gamma='auto')\n",
        "  clf.fit(train_bows_rbf,y_train_rbf)\n",
        "  \n",
        "  #For Train Curve\n",
        "  y_predict_training=clf.predict(train_bows_rbf)\n",
        "  fpr,tpr,thresholds=roc_curve(y_predict_training,y_train_rbf)\n",
        "  if(not np.isnan(metrics.auc(fpr,tpr))):\n",
        "    C.append(math.ceil(math.log(c,10)))\n",
        "    AUC_score_training.append(metrics.auc(fpr,tpr))\n",
        "    print(\"Train->C= \",c,\" \",metrics.auc(fpr,tpr))\n",
        "  \n",
        "  # For CV Curve\n",
        "  y_predict_cv=clf.predict(cv_bows_rbf)\n",
        "  fpr,tpr,thresholds=roc_curve(y_predict_cv,y_cv_rbf)\n",
        "  if(not np.isnan(metrics.auc(fpr,tpr))):\n",
        "    #Alpha.append(math.ceil(math.log(alpha,10)))\n",
        "    AUC_score_cv.append(metrics.auc(fpr,tpr))\n",
        "    print(\"CV->C= \",c,\" \",metrics.auc(fpr,tpr))\n",
        "  \n",
        "  c*=10"
      ],
      "execution_count": 0,
      "outputs": [
        {
          "output_type": "stream",
          "text": [
            "Train->C=  1.0   0.9318437468043768\n",
            "CV->C=  1.0   0.9115054787994283\n",
            "Train->C=  10.0   0.9096772222713321\n",
            "CV->C=  10.0   0.8185929055729211\n",
            "Train->C=  100.0   0.9477571340610438\n",
            "CV->C=  100.0   0.7935450282242494\n",
            "Train->C=  1000.0   0.9889360707012821\n",
            "CV->C=  1000.0   0.7666090899574098\n",
            "Train->C=  10000.0   0.9992149769478472\n",
            "CV->C=  10000.0   0.746185565777856\n"
          ],
          "name": "stdout"
        }
      ]
    },
    {
      "metadata": {
        "id": "a9oxPdu7TRmq",
        "colab_type": "code",
        "outputId": "b53b1081-2be3-471a-9b1c-572746da66b7",
        "colab": {
          "base_uri": "https://localhost:8080/",
          "height": 295
        }
      },
      "cell_type": "code",
      "source": [
        "plt.plot(C,AUC_score_training,label='Training')\n",
        "plt.plot(C,AUC_score_cv,label='CV')\n",
        "plt.ylabel('AUC Score')\n",
        "plt.xlabel('Log C')\n",
        "plt.title('Log C vs AUC ')\n",
        "plt.legend()\n",
        "plt.show()"
      ],
      "execution_count": 0,
      "outputs": [
        {
          "output_type": "display_data",
          "data": {
            "image/png": "[encoded data removed]",
            "text/plain": [
              "<matplotlib.figure.Figure at 0x7f6c63bef748>"
            ]
          },
          "metadata": {
            "tags": []
          }
        }
      ]
    },
    {
      "metadata": {
        "id": "IctFf0Z1T2lq",
        "colab_type": "text"
      },
      "cell_type": "markdown",
      "source": [
        "**Observation:** Optimal value of C=1"
      ]
    },
    {
      "metadata": {
        "id": "w1XjYk-9T8u3",
        "colab_type": "code",
        "colab": {}
      },
      "cell_type": "code",
      "source": [
        "#For Optimal on test data\n",
        "count_vectorizer_rbf=CountVectorizer()\n",
        "Train_bows_rbf=count_vectorizer_rbf.fit_transform(Train_data_rbf)\n",
        "test_bows_rbf=count_vectorizer_rbf.transform(test_data_rbf)\n"
      ],
      "execution_count": 0,
      "outputs": []
    },
    {
      "metadata": {
        "id": "pK3qHLcbVUen",
        "colab_type": "code",
        "outputId": "4aa925c3-408c-4bab-a01e-ab2bc33c8f01",
        "colab": {
          "base_uri": "https://localhost:8080/",
          "height": 531
        }
      },
      "cell_type": "code",
      "source": [
        "clf = SVC(C=10,kernel='rbf',gamma='auto')\n",
        "clf.fit(Train_bows_rbf,y_Train_rbf)\n",
        "y_pred=clf.predict(test_bows_rbf)\n",
        " #Drawing ROC curve\n",
        "fpr, tpr, thresholds = roc_curve(y_pred, y_test_rbf)\n",
        "roc_auc = auc(fpr, tpr)\n",
        "print(' AUC = ',metrics.auc(fpr, tpr))\n",
        "plt.figure()\n",
        "plt.plot(fpr, tpr, color='darkorange', lw=1, label='ROC curve (area = %0.2f)' % roc_auc)\n",
        "plt.plot([0, 1], [0, 1], color='navy', lw=1, linestyle='--')\n",
        "plt.xlim([0.0, 1.0])\n",
        "plt.ylim([0.0, 1.05])\n",
        "plt.xlabel('False Positive Rate')\n",
        "plt.ylabel('True Positive Rate')\n",
        "plt.title('Receiver operating characteristic')\n",
        "plt.legend(loc=\"lower right\")\n",
        "plt.show()\n",
        "print(\"\\n\\n\")\n",
        "print(metrics.classification_report(y_test_rbf,y_pred))"
      ],
      "execution_count": 204,
      "outputs": [
        {
          "output_type": "stream",
          "text": [
            " AUC =  0.9133188864810802\n"
          ],
          "name": "stdout"
        },
        {
          "output_type": "display_data",
          "data": {
            "image/png": "[encoded data removed]",
            "text/plain": [
              "<matplotlib.figure.Figure at 0x7f6c680192e8>"
            ]
          },
          "metadata": {
            "tags": []
          }
        },
        {
          "output_type": "stream",
          "text": [
            "\n",
            "\n",
            "\n",
            "              precision    recall  f1-score   support\n",
            "\n",
            "           0       1.00      0.00      0.00      1041\n",
            "           1       0.83      1.00      0.91      4959\n",
            "\n",
            "   micro avg       0.83      0.83      0.83      6000\n",
            "   macro avg       0.91      0.50      0.45      6000\n",
            "weighted avg       0.86      0.83      0.75      6000\n",
            "\n"
          ],
          "name": "stdout"
        }
      ]
    },
    {
      "metadata": {
        "id": "20P1OC7ZV11M",
        "colab_type": "text"
      },
      "cell_type": "markdown",
      "source": [
        "**5.1.2 RBF SVM on TFIDF**"
      ]
    },
    {
      "metadata": {
        "id": "Ds4AkZdJV9A3",
        "colab_type": "code",
        "colab": {
          "base_uri": "https://localhost:8080/",
          "height": 90
        },
        "outputId": "8dd2d3c8-ea7a-4261-8095-98bec31f2834"
      },
      "cell_type": "code",
      "source": [
        "AUC_score_training=[]\n",
        "AUC_score_cv=[]\n",
        "C=[]\n",
        "c=0.0001\n",
        "while(c<=10000):\n",
        "  clf=SVC(C=c,kernel='rbf',gamma='auto')\n",
        "  clf.fit(train_tfidf_rbf,y_train_rbf)\n",
        "  \n",
        "  #For Train Curve\n",
        "  y_predict_training=clf.predict(train_tfidf_rbf)\n",
        "  fpr,tpr,thresholds=roc_curve(y_predict_training,y_train_rbf)\n",
        "  if(not np.isnan(metrics.auc(fpr,tpr))):\n",
        "    C.append(math.ceil(math.log(c,10)))\n",
        "    AUC_score_training.append(metrics.auc(fpr,tpr))\n",
        "    print(\"Train->C= \",c,\" \",metrics.auc(fpr,tpr))\n",
        "  \n",
        "  # For CV Curve\n",
        "  y_predict_cv=clf.predict(cv_tfidf_rbf)\n",
        "  fpr,tpr,thresholds=roc_curve(y_predict_cv,y_cv_rbf)\n",
        "  if(not np.isnan(metrics.auc(fpr,tpr))):\n",
        "    #Alpha.append(math.ceil(math.log(alpha,10)))\n",
        "    AUC_score_cv.append(metrics.auc(fpr,tpr))\n",
        "    print(\"CV->C= \",c,\" \",metrics.auc(fpr,tpr))\n",
        "  \n",
        "  c*=10\n",
        "  "
      ],
      "execution_count": 203,
      "outputs": [
        {
          "output_type": "stream",
          "text": [
            "Train->C=  1000.0   0.9309623430962344\n",
            "CV->C=  1000.0   0.9114074779709455\n",
            "Train->C=  10000.0   0.9730043217476936\n",
            "CV->C=  10000.0   0.8844883314360058\n"
          ],
          "name": "stdout"
        }
      ]
    },
    {
      "metadata": {
        "id": "h2HTqesJeX-X",
        "colab_type": "code",
        "colab": {
          "base_uri": "https://localhost:8080/",
          "height": 295
        },
        "outputId": "2c57430a-4efe-44fe-ce0f-004161e246fd"
      },
      "cell_type": "code",
      "source": [
        "plt.plot(C,AUC_score_training,label='Training')\n",
        "plt.plot(C,AUC_score_cv,label='CV')\n",
        "plt.ylabel('AUC Score')\n",
        "plt.xlabel('Log C')\n",
        "plt.title('Log C vs AUC ')\n",
        "plt.legend()\n",
        "plt.show()"
      ],
      "execution_count": 205,
      "outputs": [
        {
          "output_type": "display_data",
          "data": {
            "image/png": "[encoded data removed]",
            "text/plain": [
              "<matplotlib.figure.Figure at 0x7f6c68034e80>"
            ]
          },
          "metadata": {
            "tags": []
          }
        }
      ]
    },
    {
      "metadata": {
        "id": "f-4WVOO3fTJC",
        "colab_type": "text"
      },
      "cell_type": "markdown",
      "source": [
        "**Observation:** Optimal Value of C=10"
      ]
    },
    {
      "metadata": {
        "id": "pVkdhBHdfb45",
        "colab_type": "code",
        "colab": {
          "base_uri": "https://localhost:8080/",
          "height": 90
        },
        "outputId": "9ddc2bce-9687-49de-bfad-eb9763d70b7e"
      },
      "cell_type": "code",
      "source": [
        "clf"
      ],
      "execution_count": 206,
      "outputs": [
        {
          "output_type": "execute_result",
          "data": {
            "text/plain": [
              "SVC(C=10, cache_size=200, class_weight=None, coef0=0.0,\n",
              "  decision_function_shape='ovr', degree=3, gamma='auto', kernel='rbf',\n",
              "  max_iter=-1, probability=False, random_state=None, shrinking=True,\n",
              "  tol=0.001, verbose=False)"
            ]
          },
          "metadata": {
            "tags": []
          },
          "execution_count": 206
        }
      ]
    },
    {
      "metadata": {
        "id": "4I8nNooog353",
        "colab_type": "code",
        "colab": {}
      },
      "cell_type": "code",
      "source": [
        "#For Optimal on test data\n",
        "tfidf_vectorizer_rbf=TfidfVectorizer()\n",
        "Train_tfidf_rbf=tfidf_vectorizer_rbf.fit_transform(Train_data_rbf)\n",
        "test_tfidf_rbf=tfidf_vectorizer_rbf.transform(test_data_rbf)\n"
      ],
      "execution_count": 0,
      "outputs": []
    },
    {
      "metadata": {
        "id": "esAYkE20fyYq",
        "colab_type": "code",
        "colab": {
          "base_uri": "https://localhost:8080/",
          "height": 531
        },
        "outputId": "0dc8708c-1f8d-4d88-eca4-db0b203a68bb"
      },
      "cell_type": "code",
      "source": [
        "clf = SVC(C=100,kernel='rbf',gamma='auto')\n",
        "clf.fit(Train_tfidf_rbf,y_Train_rbf)\n",
        "y_pred=clf.predict(test_bows_rbf)\n",
        " #Drawing ROC curve\n",
        "fpr, tpr, thresholds = roc_curve(y_pred, y_test_rbf)\n",
        "roc_auc = auc(fpr, tpr)\n",
        "print(' AUC = ',metrics.auc(fpr, tpr))\n",
        "plt.figure()\n",
        "plt.plot(fpr, tpr, color='darkorange', lw=1, label='ROC curve (area = %0.2f)' % roc_auc)\n",
        "plt.plot([0, 1], [0, 1], color='navy', lw=1, linestyle='--')\n",
        "plt.xlim([0.0, 1.0])\n",
        "plt.ylim([0.0, 1.05])\n",
        "plt.xlabel('False Positive Rate')\n",
        "plt.ylabel('True Positive Rate')\n",
        "plt.title('Receiver operating characteristic')\n",
        "plt.legend(loc=\"lower right\")\n",
        "plt.show()\n",
        "print(\"\\n\\n\")\n",
        "print(metrics.classification_report(y_test_rbf,y_pred))"
      ],
      "execution_count": 210,
      "outputs": [
        {
          "output_type": "stream",
          "text": [
            " AUC =  0.7260514018691588\n"
          ],
          "name": "stdout"
        },
        {
          "output_type": "display_data",
          "data": {
            "image/png": "[encoded data removed]",
            "text/plain": [
              "<matplotlib.figure.Figure at 0x7f6c67cfe5c0>"
            ]
          },
          "metadata": {
            "tags": []
          }
        },
        {
          "output_type": "stream",
          "text": [
            "\n",
            "\n",
            "\n",
            "              precision    recall  f1-score   support\n",
            "\n",
            "           0       0.62      0.00      0.01      1041\n",
            "           1       0.83      1.00      0.91      4959\n",
            "\n",
            "   micro avg       0.83      0.83      0.83      6000\n",
            "   macro avg       0.73      0.50      0.46      6000\n",
            "weighted avg       0.79      0.83      0.75      6000\n",
            "\n"
          ],
          "name": "stdout"
        }
      ]
    },
    {
      "metadata": {
        "id": "0xFHihxBhY_i",
        "colab_type": "text"
      },
      "cell_type": "markdown",
      "source": [
        "**5.2.3 RBF SVM on Avg Word2Vec**"
      ]
    },
    {
      "metadata": {
        "id": "sIaVSf9qh8Ao",
        "colab_type": "code",
        "colab": {
          "base_uri": "https://localhost:8080/",
          "height": 126
        },
        "outputId": "9f97f847-72a0-472d-e60e-4c477ae63a54"
      },
      "cell_type": "code",
      "source": [
        "AUC_score_training=[]\n",
        "AUC_score_cv=[]\n",
        "C=[]\n",
        "c=0.0001\n",
        "while(c<=10000):\n",
        "  clf=SVC(C=c,kernel='rbf',gamma='auto')\n",
        "  clf.fit(sent_vectors_rbf,y_train_rbf)\n",
        "  \n",
        "  #For Train Curve\n",
        "  y_predict_training=clf.predict(sent_vectors_rbf)\n",
        "  fpr,tpr,thresholds=roc_curve(y_predict_training,y_train_rbf)\n",
        "  if(not np.isnan(metrics.auc(fpr,tpr))):\n",
        "    C.append(math.ceil(math.log(c,10)))\n",
        "    AUC_score_training.append(metrics.auc(fpr,tpr))\n",
        "    print(\"Train->C= \",c,\" \",metrics.auc(fpr,tpr))\n",
        "  \n",
        "  # For CV Curve\n",
        "  y_predict_cv=clf.predict(sent_vectors_rbf_cv)\n",
        "  fpr,tpr,thresholds=roc_curve(y_predict_cv,y_cv_rbf)\n",
        "  if(not np.isnan(metrics.auc(fpr,tpr))):\n",
        "    #Alpha.append(math.ceil(math.log(alpha,10)))\n",
        "    AUC_score_cv.append(metrics.auc(fpr,tpr))\n",
        "    print(\"CV->C= \",c,\" \",metrics.auc(fpr,tpr))\n",
        "  \n",
        "  c*=10\n",
        "  "
      ],
      "execution_count": 211,
      "outputs": [
        {
          "output_type": "stream",
          "text": [
            "Train->C=  100.0   0.6809552969993876\n",
            "CV->C=  100.0   0.4787508877233003\n",
            "Train->C=  1000.0   0.8688704547843249\n",
            "CV->C=  1000.0   0.538782816229117\n",
            "Train->C=  10000.0   0.8439315955801923\n",
            "CV->C=  10000.0   0.538782816229117\n"
          ],
          "name": "stdout"
        }
      ]
    },
    {
      "metadata": {
        "id": "VJTeAfHviP5I",
        "colab_type": "code",
        "colab": {
          "base_uri": "https://localhost:8080/",
          "height": 295
        },
        "outputId": "d39b4aed-cafe-434b-b317-1fab6a2ce5ec"
      },
      "cell_type": "code",
      "source": [
        "plt.plot(C,AUC_score_training,label='Training')\n",
        "plt.plot(C,AUC_score_cv,label='CV')\n",
        "plt.ylabel('AUC Score')\n",
        "plt.xlabel('Log C')\n",
        "plt.title('Log C vs AUC ')\n",
        "plt.legend()\n",
        "plt.show()"
      ],
      "execution_count": 212,
      "outputs": [
        {
          "output_type": "display_data",
          "data": {
            "image/png": "[encoded data removed]",
            "text/plain": [
              "<matplotlib.figure.Figure at 0x7f6c6373da20>"
            ]
          },
          "metadata": {
            "tags": []
          }
        }
      ]
    },
    {
      "metadata": {
        "id": "lFZfgCbolC9U",
        "colab_type": "code",
        "colab": {
          "base_uri": "https://localhost:8080/",
          "height": 90
        },
        "outputId": "95e0d10f-197f-49a7-9462-1e730c2841e2"
      },
      "cell_type": "code",
      "source": [
        "clf"
      ],
      "execution_count": 219,
      "outputs": [
        {
          "output_type": "execute_result",
          "data": {
            "text/plain": [
              "SVC(C=10000, cache_size=200, class_weight=None, coef0=0.0,\n",
              "  decision_function_shape='ovr', degree=3, gamma='auto', kernel='rbf',\n",
              "  max_iter=-1, probability=False, random_state=None, shrinking=True,\n",
              "  tol=0.001, verbose=False)"
            ]
          },
          "metadata": {
            "tags": []
          },
          "execution_count": 219
        }
      ]
    },
    {
      "metadata": {
        "id": "WyLx7ctUiWGN",
        "colab_type": "code",
        "colab": {
          "base_uri": "https://localhost:8080/",
          "height": 515
        },
        "outputId": "8c649144-aa94-4e6d-cf69-c53eb03815df"
      },
      "cell_type": "code",
      "source": [
        "clf = SVC(C=1000,kernel='rbf',gamma='auto')\n",
        "clf.fit(sent_vectors_rbf,y_train_rbf)\n",
        "y_pred=clf.predict(sent_vectors_rbf_test)\n",
        " #Drawing ROC curve\n",
        "fpr, tpr, thresholds = roc_curve(y_pred, y_test_rbf)\n",
        "roc_auc = auc(fpr, tpr)\n",
        "print(' AUC = ',metrics.auc(fpr, tpr))\n",
        "plt.figure()\n",
        "plt.plot(fpr, tpr, color='darkorange', lw=1, label='ROC curve (area = %0.2f)' % roc_auc)\n",
        "plt.plot([0, 1], [0, 1], color='navy', lw=1, linestyle='--')\n",
        "plt.xlim([0.0, 1.0])\n",
        "plt.ylim([0.0, 1.05])\n",
        "plt.xlabel('False Positive Rate')\n",
        "plt.ylabel('True Positive Rate')\n",
        "plt.title('Receiver operating characteristic')\n",
        "plt.legend(loc=\"lower right\")\n",
        "plt.show()\n",
        "print(\"\\n\\n\")\n",
        "print(metrics.classification_report(y_test_rbf,y_pred))"
      ],
      "execution_count": 228,
      "outputs": [
        {
          "output_type": "stream",
          "text": [
            " AUC =  0.5061918462460087\n"
          ],
          "name": "stdout"
        },
        {
          "output_type": "display_data",
          "data": {
            "image/png": "[encoded data removed]",
            "text/plain": [
              "<matplotlib.figure.Figure at 0x7f6c8004e9e8>"
            ]
          },
          "metadata": {
            "tags": []
          }
        },
        {
          "output_type": "stream",
          "text": [
            "\n",
            "\n",
            "\n",
            "              precision    recall  f1-score   support\n",
            "\n",
            "           0       0.18      0.43      0.25      1041\n",
            "           1       0.83      0.59      0.69      4959\n",
            "\n",
            "   micro avg       0.56      0.56      0.56      6000\n",
            "   macro avg       0.51      0.51      0.47      6000\n",
            "weighted avg       0.72      0.56      0.61      6000\n",
            "\n"
          ],
          "name": "stdout"
        }
      ]
    },
    {
      "metadata": {
        "id": "zIASIyBTi_Vr",
        "colab_type": "text"
      },
      "cell_type": "markdown",
      "source": [
        "**5.2.4  RBF SVM on TFIDF-W2Vec**"
      ]
    },
    {
      "metadata": {
        "id": "kQYm5RrRj3Ld",
        "colab_type": "code",
        "colab": {
          "base_uri": "https://localhost:8080/",
          "height": 119
        },
        "outputId": "bdff58f7-2ccd-43e7-8bd8-9161cfd379d5"
      },
      "cell_type": "code",
      "source": [
        "AUC_score_training=[]\n",
        "AUC_score_cv=[]\n",
        "C=[]\n",
        "c=0.0001\n",
        "while(c<=10000):\n",
        "  clf=SVC(C=c,kernel='rbf',gamma='auto')\n",
        "  clf.fit(tfidf_sent_vectors_rbf_train,y_train_rbf)\n",
        "  \n",
        "  #For Train Curve\n",
        "  y_predict_training=clf.predict(tfidf_sent_vectors_rbf_train)\n",
        "  fpr,tpr,thresholds=roc_curve(y_predict_training,y_train_rbf)\n",
        "  if(not np.isnan(metrics.auc(fpr,tpr))):\n",
        "    C.append(math.ceil(math.log(c,10)))\n",
        "    AUC_score_training.append(metrics.auc(fpr,tpr))\n",
        "    print(\"Train->C= \",c,\" \",metrics.auc(fpr,tpr))\n",
        "  \n",
        "  # For CV Curve\n",
        "  y_predict_cv=clf.predict(tfidf_sent_vectors_rbf_cv)\n",
        "  fpr,tpr,thresholds=roc_curve(y_predict_cv,y_cv_rbf)\n",
        "  if(not np.isnan(metrics.auc(fpr,tpr))):\n",
        "    #Alpha.append(math.ceil(math.log(alpha,10)))\n",
        "    AUC_score_cv.append(metrics.auc(fpr,tpr))\n",
        "    print(\"CV->C= \",c,\" \",metrics.auc(fpr,tpr))\n",
        "  \n",
        "  c*=10\n",
        "  "
      ],
      "execution_count": 231,
      "outputs": [
        {
          "output_type": "stream",
          "text": [
            "Train->C=  100.0   0.9310943242139649\n",
            "CV->C=  100.0   0.5031833981484668\n",
            "Train->C=  1000.0   0.8694263016616495\n",
            "CV->C=  1000.0   0.538782816229117\n",
            "Train->C=  10000.0   0.8703771584818554\n",
            "CV->C=  10000.0   0.538782816229117\n"
          ],
          "name": "stdout"
        }
      ]
    },
    {
      "metadata": {
        "id": "SjxA__IxpQdF",
        "colab_type": "code",
        "colab": {
          "base_uri": "https://localhost:8080/",
          "height": 294
        },
        "outputId": "300abf2a-ff6d-4bfd-8f00-8455483d1226"
      },
      "cell_type": "code",
      "source": [
        "plt.plot(C,AUC_score_training,label='Training')\n",
        "plt.plot(C,AUC_score_cv,label='CV')\n",
        "plt.ylabel('AUC Score')\n",
        "plt.xlabel('Log C')\n",
        "plt.title('Log C vs AUC ')\n",
        "plt.legend()\n",
        "plt.show()"
      ],
      "execution_count": 232,
      "outputs": [
        {
          "output_type": "display_data",
          "data": {
            "image/png": "[encoded data removed]",
            "text/plain": [
              "<matplotlib.figure.Figure at 0x7f6c63c03908>"
            ]
          },
          "metadata": {
            "tags": []
          }
        }
      ]
    },
    {
      "metadata": {
        "id": "_qH9zRXNqNWJ",
        "colab_type": "text"
      },
      "cell_type": "markdown",
      "source": [
        "**Observation:** Optimal Value of C=1000"
      ]
    },
    {
      "metadata": {
        "id": "UjErDGY9pfJ6",
        "colab_type": "code",
        "colab": {
          "base_uri": "https://localhost:8080/",
          "height": 531
        },
        "outputId": "35bf6f1f-6926-4352-e1ad-fe75b4d90949"
      },
      "cell_type": "code",
      "source": [
        "clf = SVC(C=1000,kernel='rbf',gamma='auto')\n",
        "clf.fit(tfidf_sent_vectors_rbf_train,y_train_rbf)\n",
        "y_pred=clf.predict(tfidf_sent_vectors_rbf_test)\n",
        " #Drawing ROC curve\n",
        "fpr, tpr, thresholds = roc_curve(y_pred, y_test_rbf)\n",
        "roc_auc = auc(fpr, tpr)\n",
        "print(' AUC = ',metrics.auc(fpr, tpr))\n",
        "plt.figure()\n",
        "plt.plot(fpr, tpr, color='darkorange', lw=1, label='ROC curve (area = %0.2f)' % roc_auc)\n",
        "plt.plot([0, 1], [0, 1], color='navy', lw=1, linestyle='--')\n",
        "plt.xlim([0.0, 1.0])\n",
        "plt.ylim([0.0, 1.05])\n",
        "plt.xlabel('False Positive Rate')\n",
        "plt.ylabel('True Positive Rate')\n",
        "plt.title('Receiver operating characteristic')\n",
        "plt.legend(loc=\"lower right\")\n",
        "plt.show()\n",
        "print(\"\\n\\n\")\n",
        "print(metrics.classification_report(y_test_rbf,y_pred))"
      ],
      "execution_count": 237,
      "outputs": [
        {
          "output_type": "stream",
          "text": [
            " AUC =  0.5119170493884453\n"
          ],
          "name": "stdout"
        },
        {
          "output_type": "display_data",
          "data": {
            "image/png": "[encoded data removed]",
            "text/plain": [
              "<matplotlib.figure.Figure at 0x7f6c63a924e0>"
            ]
          },
          "metadata": {
            "tags": []
          }
        },
        {
          "output_type": "stream",
          "text": [
            "\n",
            "\n",
            "\n",
            "              precision    recall  f1-score   support\n",
            "\n",
            "           0       0.19      0.53      0.27      1041\n",
            "           1       0.84      0.51      0.64      4959\n",
            "\n",
            "   micro avg       0.52      0.52      0.52      6000\n",
            "   macro avg       0.51      0.52      0.46      6000\n",
            "weighted avg       0.73      0.52      0.57      6000\n",
            "\n"
          ],
          "name": "stdout"
        }
      ]
    }
  ]
}