{
  "nbformat": 4,
  "nbformat_minor": 0,
  "metadata": {
    "colab": {
      "name": "XGBoost.ipynb",
      "version": "0.3.2",
      "provenance": [],
      "collapsed_sections": [
        "CQYBeeWcDo-0",
        "diblWz03G1mK"
      ],
      "include_colab_link": true
    },
    "kernelspec": {
      "name": "python3",
      "display_name": "Python 3"
    },
    "accelerator": "TPU"
  },
  "cells": [
    {
      "cell_type": "markdown",
      "metadata": {
        "id": "view-in-github",
        "colab_type": "text"
      },
      "source": [
        "<a href=\"https://colab.research.google.com/github/mitesh98/Amazon-Fine-Food-Review/blob/master/XGBoost.ipynb\" target=\"_parent\"><img src=\"https://colab.research.google.com/assets/colab-badge.svg\" alt=\"Open In Colab\"/></a>"
      ]
    },
    {
      "metadata": {
        "id": "AwKGS6_g7tgA",
        "colab_type": "text"
      },
      "cell_type": "markdown",
      "source": [
        "# Amazon Fine Food Reviews Analysis\n",
        "Data Source: https://www.kaggle.com/snap/amazon-fine-food-reviews\n",
        "\n",
        "The Amazon Fine Food Reviews dataset consists of reviews of fine foods from Amazon.\n",
        "\n",
        "Number of reviews: 568,454\n",
        "\n",
        "Number of users: 256,059\n",
        "\n",
        "Number of products: 74,258\n",
        "\n",
        "Timespan: Oct 1999 - Oct 2012\n",
        "\n",
        "Number of Attributes/Columns in data: 10\n",
        "\n",
        "Attribute Information:\n",
        "\n",
        "Id\n",
        "\n",
        "ProductId - unique identifier for the product\n",
        "\n",
        "UserId - unqiue identifier for the user\n",
        "\n",
        "ProfileName\n",
        "\n",
        "HelpfulnessNumerator - number of users who found the review helpful\n",
        "\n",
        "HelpfulnessDenominator - number of users who indicated whether they found the review helpful or not\n",
        "\n",
        "Score - rating between 1 and 5\n",
        "\n",
        "Time - timestamp for the review\n",
        "\n",
        "Summary - brief summary of the review Text - text of the review\n",
        "\n",
        "Objective: Given a review, determine whether the review is positive (rating of 4 or 5) or negative (rating of 1 or 2).\n",
        "\n"
      ]
    },
    {
      "metadata": {
        "id": "ppwG3J-87vcU",
        "colab_type": "code",
        "colab": {}
      },
      "cell_type": "code",
      "source": [
        "%matplotlib inline \n",
        "import pandas as pd\n",
        "import numpy as np\n",
        "import matplotlib.pyplot as plt\n",
        "import seaborn as sns\n",
        "\n",
        "from sklearn.feature_extraction.text import CountVectorizer\n",
        "from sklearn.feature_extraction.text import TfidfVectorizer\n",
        "\n",
        "import re\n",
        "import nltk\n",
        "\n",
        "from sklearn import metrics\n",
        "from sklearn.metrics import confusion_matrix\n",
        "\n",
        "import tqdm\n",
        "\n",
        "import warnings\n",
        "warnings.filterwarnings(\"ignore\")\n",
        "\n",
        "from sklearn.metrics import roc_auc_score\n",
        "from sklearn.metrics import roc_curve, auc\n",
        "\n",
        "from mpl_toolkits.mplot3d import Axes3D"
      ],
      "execution_count": 0,
      "outputs": []
    },
    {
      "metadata": {
        "id": "wOnIyha9DT3e",
        "colab_type": "code",
        "colab": {}
      },
      "cell_type": "code",
      "source": [
        "import sqlite3"
      ],
      "execution_count": 0,
      "outputs": []
    },
    {
      "metadata": {
        "id": "sf-DfJspDfbq",
        "colab_type": "code",
        "outputId": "fbc8abe8-dfcb-42f5-8f9b-a1ff4bef9ebd",
        "colab": {
          "base_uri": "https://localhost:8080/",
          "height": 34
        }
      },
      "cell_type": "code",
      "source": [
        "from google.colab import drive\n",
        "drive.mount('/content/drive')"
      ],
      "execution_count": 3,
      "outputs": [
        {
          "output_type": "stream",
          "text": [
            "Drive already mounted at /content/drive; to attempt to forcibly remount, call drive.mount(\"/content/drive\", force_remount=True).\n"
          ],
          "name": "stdout"
        }
      ]
    },
    {
      "metadata": {
        "id": "g_Hphsa0DjRk",
        "colab_type": "code",
        "colab": {}
      },
      "cell_type": "code",
      "source": [
        "!cp \"/content/drive/My Drive/database.sqlite\" \"database.sqlite\""
      ],
      "execution_count": 0,
      "outputs": []
    },
    {
      "metadata": {
        "id": "CQYBeeWcDo-0",
        "colab_type": "text"
      },
      "cell_type": "markdown",
      "source": [
        "# Reading Data"
      ]
    },
    {
      "metadata": {
        "id": "Gl0D3IbYDrWu",
        "colab_type": "code",
        "colab": {}
      },
      "cell_type": "code",
      "source": [
        "con=sqlite3.connect(\"database.sqlite\")"
      ],
      "execution_count": 0,
      "outputs": []
    },
    {
      "metadata": {
        "id": "seEBdzRODu9F",
        "colab_type": "code",
        "outputId": "ec41c6cd-084b-4b1c-ae02-65f670863084",
        "colab": {
          "base_uri": "https://localhost:8080/",
          "height": 683
        }
      },
      "cell_type": "code",
      "source": [
        "filtered_data=pd.read_sql_query(\"SELECT * FROM `Reviews` WHERE `Score` !=3\",con)\n",
        "filtered_data.shape\n",
        "filtered_data.head()"
      ],
      "execution_count": 6,
      "outputs": [
        {
          "output_type": "execute_result",
          "data": {
            "text/html": [
              "<div>\n",
              "<style scoped>\n",
              "    .dataframe tbody tr th:only-of-type {\n",
              "        vertical-align: middle;\n",
              "    }\n",
              "\n",
              "    .dataframe tbody tr th {\n",
              "        vertical-align: top;\n",
              "    }\n",
              "\n",
              "    .dataframe thead th {\n",
              "        text-align: right;\n",
              "    }\n",
              "</style>\n",
              "<table border=\"1\" class=\"dataframe\">\n",
              "  <thead>\n",
              "    <tr style=\"text-align: right;\">\n",
              "      <th></th>\n",
              "      <th>Id</th>\n",
              "      <th>ProductId</th>\n",
              "      <th>UserId</th>\n",
              "      <th>ProfileName</th>\n",
              "      <th>HelpfulnessNumerator</th>\n",
              "      <th>HelpfulnessDenominator</th>\n",
              "      <th>Score</th>\n",
              "      <th>Time</th>\n",
              "      <th>Summary</th>\n",
              "      <th>Text</th>\n",
              "    </tr>\n",
              "  </thead>\n",
              "  <tbody>\n",
              "    <tr>\n",
              "      <th>0</th>\n",
              "      <td>1</td>\n",
              "      <td>B001E4KFG0</td>\n",
              "      <td>A3SGXH7AUHU8GW</td>\n",
              "      <td>delmartian</td>\n",
              "      <td>1</td>\n",
              "      <td>1</td>\n",
              "      <td>5</td>\n",
              "      <td>1303862400</td>\n",
              "      <td>Good Quality Dog Food</td>\n",
              "      <td>I have bought several of the Vitality canned d...</td>\n",
              "    </tr>\n",
              "    <tr>\n",
              "      <th>1</th>\n",
              "      <td>2</td>\n",
              "      <td>B00813GRG4</td>\n",
              "      <td>A1D87F6ZCVE5NK</td>\n",
              "      <td>dll pa</td>\n",
              "      <td>0</td>\n",
              "      <td>0</td>\n",
              "      <td>1</td>\n",
              "      <td>1346976000</td>\n",
              "      <td>Not as Advertised</td>\n",
              "      <td>Product arrived labeled as Jumbo Salted Peanut...</td>\n",
              "    </tr>\n",
              "    <tr>\n",
              "      <th>2</th>\n",
              "      <td>3</td>\n",
              "      <td>B000LQOCH0</td>\n",
              "      <td>ABXLMWJIXXAIN</td>\n",
              "      <td>Natalia Corres \"Natalia Corres\"</td>\n",
              "      <td>1</td>\n",
              "      <td>1</td>\n",
              "      <td>4</td>\n",
              "      <td>1219017600</td>\n",
              "      <td>\"Delight\" says it all</td>\n",
              "      <td>This is a confection that has been around a fe...</td>\n",
              "    </tr>\n",
              "    <tr>\n",
              "      <th>3</th>\n",
              "      <td>4</td>\n",
              "      <td>B000UA0QIQ</td>\n",
              "      <td>A395BORC6FGVXV</td>\n",
              "      <td>Karl</td>\n",
              "      <td>3</td>\n",
              "      <td>3</td>\n",
              "      <td>2</td>\n",
              "      <td>1307923200</td>\n",
              "      <td>Cough Medicine</td>\n",
              "      <td>If you are looking for the secret ingredient i...</td>\n",
              "    </tr>\n",
              "    <tr>\n",
              "      <th>4</th>\n",
              "      <td>5</td>\n",
              "      <td>B006K2ZZ7K</td>\n",
              "      <td>A1UQRSCLF8GW1T</td>\n",
              "      <td>Michael D. Bigham \"M. Wassir\"</td>\n",
              "      <td>0</td>\n",
              "      <td>0</td>\n",
              "      <td>5</td>\n",
              "      <td>1350777600</td>\n",
              "      <td>Great taffy</td>\n",
              "      <td>Great taffy at a great price.  There was a wid...</td>\n",
              "    </tr>\n",
              "  </tbody>\n",
              "</table>\n",
              "</div>"
            ],
            "text/plain": [
              "   Id   ProductId          UserId                      ProfileName  \\\n",
              "0   1  B001E4KFG0  A3SGXH7AUHU8GW                       delmartian   \n",
              "1   2  B00813GRG4  A1D87F6ZCVE5NK                           dll pa   \n",
              "2   3  B000LQOCH0   ABXLMWJIXXAIN  Natalia Corres \"Natalia Corres\"   \n",
              "3   4  B000UA0QIQ  A395BORC6FGVXV                             Karl   \n",
              "4   5  B006K2ZZ7K  A1UQRSCLF8GW1T    Michael D. Bigham \"M. Wassir\"   \n",
              "\n",
              "   HelpfulnessNumerator  HelpfulnessDenominator  Score        Time  \\\n",
              "0                     1                       1      5  1303862400   \n",
              "1                     0                       0      1  1346976000   \n",
              "2                     1                       1      4  1219017600   \n",
              "3                     3                       3      2  1307923200   \n",
              "4                     0                       0      5  1350777600   \n",
              "\n",
              "                 Summary                                               Text  \n",
              "0  Good Quality Dog Food  I have bought several of the Vitality canned d...  \n",
              "1      Not as Advertised  Product arrived labeled as Jumbo Salted Peanut...  \n",
              "2  \"Delight\" says it all  This is a confection that has been around a fe...  \n",
              "3         Cough Medicine  If you are looking for the secret ingredient i...  \n",
              "4            Great taffy  Great taffy at a great price.  There was a wid...  "
            ]
          },
          "metadata": {
            "tags": []
          },
          "execution_count": 6
        }
      ]
    },
    {
      "metadata": {
        "id": "dlmSlj5fDy1l",
        "colab_type": "code",
        "colab": {}
      },
      "cell_type": "code",
      "source": [
        "# Give reviews with Score>3 a positive rating(1), and reviews with a score<3 a negative rating(0).\n",
        "def partition(x):\n",
        "    if x < 3:\n",
        "        return 0\n",
        "    return 1"
      ],
      "execution_count": 0,
      "outputs": []
    },
    {
      "metadata": {
        "id": "P841QT7tD1uk",
        "colab_type": "code",
        "outputId": "fc1a2c39-e168-4366-aab2-c40cedb086df",
        "colab": {
          "base_uri": "https://localhost:8080/",
          "height": 683
        }
      },
      "cell_type": "code",
      "source": [
        "actual_score=filtered_data['Score']\n",
        "posnegative=actual_score.map(partition)\n",
        "filtered_data['Score']=posnegative\n",
        "filtered_data.head(5)"
      ],
      "execution_count": 8,
      "outputs": [
        {
          "output_type": "execute_result",
          "data": {
            "text/html": [
              "<div>\n",
              "<style scoped>\n",
              "    .dataframe tbody tr th:only-of-type {\n",
              "        vertical-align: middle;\n",
              "    }\n",
              "\n",
              "    .dataframe tbody tr th {\n",
              "        vertical-align: top;\n",
              "    }\n",
              "\n",
              "    .dataframe thead th {\n",
              "        text-align: right;\n",
              "    }\n",
              "</style>\n",
              "<table border=\"1\" class=\"dataframe\">\n",
              "  <thead>\n",
              "    <tr style=\"text-align: right;\">\n",
              "      <th></th>\n",
              "      <th>Id</th>\n",
              "      <th>ProductId</th>\n",
              "      <th>UserId</th>\n",
              "      <th>ProfileName</th>\n",
              "      <th>HelpfulnessNumerator</th>\n",
              "      <th>HelpfulnessDenominator</th>\n",
              "      <th>Score</th>\n",
              "      <th>Time</th>\n",
              "      <th>Summary</th>\n",
              "      <th>Text</th>\n",
              "    </tr>\n",
              "  </thead>\n",
              "  <tbody>\n",
              "    <tr>\n",
              "      <th>0</th>\n",
              "      <td>1</td>\n",
              "      <td>B001E4KFG0</td>\n",
              "      <td>A3SGXH7AUHU8GW</td>\n",
              "      <td>delmartian</td>\n",
              "      <td>1</td>\n",
              "      <td>1</td>\n",
              "      <td>1</td>\n",
              "      <td>1303862400</td>\n",
              "      <td>Good Quality Dog Food</td>\n",
              "      <td>I have bought several of the Vitality canned d...</td>\n",
              "    </tr>\n",
              "    <tr>\n",
              "      <th>1</th>\n",
              "      <td>2</td>\n",
              "      <td>B00813GRG4</td>\n",
              "      <td>A1D87F6ZCVE5NK</td>\n",
              "      <td>dll pa</td>\n",
              "      <td>0</td>\n",
              "      <td>0</td>\n",
              "      <td>0</td>\n",
              "      <td>1346976000</td>\n",
              "      <td>Not as Advertised</td>\n",
              "      <td>Product arrived labeled as Jumbo Salted Peanut...</td>\n",
              "    </tr>\n",
              "    <tr>\n",
              "      <th>2</th>\n",
              "      <td>3</td>\n",
              "      <td>B000LQOCH0</td>\n",
              "      <td>ABXLMWJIXXAIN</td>\n",
              "      <td>Natalia Corres \"Natalia Corres\"</td>\n",
              "      <td>1</td>\n",
              "      <td>1</td>\n",
              "      <td>1</td>\n",
              "      <td>1219017600</td>\n",
              "      <td>\"Delight\" says it all</td>\n",
              "      <td>This is a confection that has been around a fe...</td>\n",
              "    </tr>\n",
              "    <tr>\n",
              "      <th>3</th>\n",
              "      <td>4</td>\n",
              "      <td>B000UA0QIQ</td>\n",
              "      <td>A395BORC6FGVXV</td>\n",
              "      <td>Karl</td>\n",
              "      <td>3</td>\n",
              "      <td>3</td>\n",
              "      <td>0</td>\n",
              "      <td>1307923200</td>\n",
              "      <td>Cough Medicine</td>\n",
              "      <td>If you are looking for the secret ingredient i...</td>\n",
              "    </tr>\n",
              "    <tr>\n",
              "      <th>4</th>\n",
              "      <td>5</td>\n",
              "      <td>B006K2ZZ7K</td>\n",
              "      <td>A1UQRSCLF8GW1T</td>\n",
              "      <td>Michael D. Bigham \"M. Wassir\"</td>\n",
              "      <td>0</td>\n",
              "      <td>0</td>\n",
              "      <td>1</td>\n",
              "      <td>1350777600</td>\n",
              "      <td>Great taffy</td>\n",
              "      <td>Great taffy at a great price.  There was a wid...</td>\n",
              "    </tr>\n",
              "  </tbody>\n",
              "</table>\n",
              "</div>"
            ],
            "text/plain": [
              "   Id   ProductId          UserId                      ProfileName  \\\n",
              "0   1  B001E4KFG0  A3SGXH7AUHU8GW                       delmartian   \n",
              "1   2  B00813GRG4  A1D87F6ZCVE5NK                           dll pa   \n",
              "2   3  B000LQOCH0   ABXLMWJIXXAIN  Natalia Corres \"Natalia Corres\"   \n",
              "3   4  B000UA0QIQ  A395BORC6FGVXV                             Karl   \n",
              "4   5  B006K2ZZ7K  A1UQRSCLF8GW1T    Michael D. Bigham \"M. Wassir\"   \n",
              "\n",
              "   HelpfulnessNumerator  HelpfulnessDenominator  Score        Time  \\\n",
              "0                     1                       1      1  1303862400   \n",
              "1                     0                       0      0  1346976000   \n",
              "2                     1                       1      1  1219017600   \n",
              "3                     3                       3      0  1307923200   \n",
              "4                     0                       0      1  1350777600   \n",
              "\n",
              "                 Summary                                               Text  \n",
              "0  Good Quality Dog Food  I have bought several of the Vitality canned d...  \n",
              "1      Not as Advertised  Product arrived labeled as Jumbo Salted Peanut...  \n",
              "2  \"Delight\" says it all  This is a confection that has been around a fe...  \n",
              "3         Cough Medicine  If you are looking for the secret ingredient i...  \n",
              "4            Great taffy  Great taffy at a great price.  There was a wid...  "
            ]
          },
          "metadata": {
            "tags": []
          },
          "execution_count": 8
        }
      ]
    },
    {
      "metadata": {
        "id": "gmRa0c2QD8GS",
        "colab_type": "text"
      },
      "cell_type": "markdown",
      "source": [
        "# 2. Exploratory Data Analysis\n",
        "# 2.1 Data Cleaning: Deduplication\n",
        "It is observed (as shown in the table below) that the reviews data had many duplicate entries. Hence it was necessary to remove duplicates in order to get unbiased results for the analysis of the data."
      ]
    },
    {
      "metadata": {
        "id": "9hh2YqrUD9i4",
        "colab_type": "code",
        "outputId": "45556608-36d3-4948-8bfc-85d9b40210e7",
        "colab": {
          "base_uri": "https://localhost:8080/",
          "height": 34
        }
      },
      "cell_type": "code",
      "source": [
        "#Sorting data according to ProductId in ascending order\n",
        "sorted_data=filtered_data.sort_values('ProductId',axis=0,ascending=True)\n",
        "sorted_data.shape"
      ],
      "execution_count": 9,
      "outputs": [
        {
          "output_type": "execute_result",
          "data": {
            "text/plain": [
              "(525814, 10)"
            ]
          },
          "metadata": {
            "tags": []
          },
          "execution_count": 9
        }
      ]
    },
    {
      "metadata": {
        "id": "mulPKwYDEDU6",
        "colab_type": "code",
        "outputId": "26875acc-fc40-44da-f483-9d0a3c8dfd89",
        "colab": {
          "base_uri": "https://localhost:8080/",
          "height": 34
        }
      },
      "cell_type": "code",
      "source": [
        "#Deduplication of entries\n",
        "final=sorted_data.drop_duplicates(subset={'UserId','ProfileName','Time','Text'},keep='first',inplace=False)\n",
        "final.shape"
      ],
      "execution_count": 10,
      "outputs": [
        {
          "output_type": "execute_result",
          "data": {
            "text/plain": [
              "(364173, 10)"
            ]
          },
          "metadata": {
            "tags": []
          },
          "execution_count": 10
        }
      ]
    },
    {
      "metadata": {
        "id": "sYjyWZmWEHdF",
        "colab_type": "text"
      },
      "cell_type": "markdown",
      "source": [
        "**Observation:-** bold text It was also seen that in two rows given below the value of HelpfulnessNumerator is greater than HelpfulnessDenominator which is not practically possible hence these two rows too are removed from calcualtions"
      ]
    },
    {
      "metadata": {
        "id": "tmKE8qLUEIa4",
        "colab_type": "code",
        "outputId": "9a724a3a-4c59-4345-8383-0d9979f816f8",
        "colab": {
          "base_uri": "https://localhost:8080/",
          "height": 34
        }
      },
      "cell_type": "code",
      "source": [
        "final=final[final.HelpfulnessNumerator<=final.HelpfulnessDenominator]\n",
        "final.shape"
      ],
      "execution_count": 11,
      "outputs": [
        {
          "output_type": "execute_result",
          "data": {
            "text/plain": [
              "(364171, 10)"
            ]
          },
          "metadata": {
            "tags": []
          },
          "execution_count": 11
        }
      ]
    },
    {
      "metadata": {
        "id": "1F7EkGGCEONt",
        "colab_type": "code",
        "outputId": "d80a0c87-137b-4bf2-9f73-12d33fd6d69a",
        "colab": {
          "base_uri": "https://localhost:8080/",
          "height": 68
        }
      },
      "cell_type": "code",
      "source": [
        "final['Score'].value_counts()"
      ],
      "execution_count": 12,
      "outputs": [
        {
          "output_type": "execute_result",
          "data": {
            "text/plain": [
              "1    307061\n",
              "0     57110\n",
              "Name: Score, dtype: int64"
            ]
          },
          "metadata": {
            "tags": []
          },
          "execution_count": 12
        }
      ]
    },
    {
      "metadata": {
        "id": "r3W8UO39ETTj",
        "colab_type": "text"
      },
      "cell_type": "markdown",
      "source": [
        "# 3. Preprocessing\n",
        "In the Preprocessing phase we do the following in the order below:-\n",
        "\n",
        "1.Begin by removing the linksand html tags\n",
        "\n",
        "2.Expand English language contractions and Remove any punctuations or limited set of special characters like , or . or # etc.\n",
        "\n",
        "3.Check if the word is made up of english letters and is not alpha-numeric\n",
        "\n",
        "4.Check to see if the length of the word is greater than 2 (as it was researched that there is no adjective in 2-letters)\n",
        "\n",
        "5.Convert the word to lowercase\n",
        "\n",
        "6.Remove Stopwords\n",
        "\n",
        "7.Finally Snowball Stemming the word (it was obsereved to be better than Porter Stemming)\n",
        "\n"
      ]
    },
    {
      "metadata": {
        "id": "XK8LIv7sEUpi",
        "colab_type": "code",
        "outputId": "5bc30352-226b-4cb0-99f4-bf60954f261a",
        "colab": {
          "base_uri": "https://localhost:8080/",
          "height": 425
        }
      },
      "cell_type": "code",
      "source": [
        "#print(link)\n",
        "for i in range(0,1000):\n",
        "  links=re.findall(r'http\\S+',final['Text'].values[i])\n",
        "  for link in links:\n",
        "    print(link)"
      ],
      "execution_count": 13,
      "outputs": [
        {
          "output_type": "stream",
          "text": [
            "http://www.amazon.com/gp/product/B0002DGRSY\">Pro-Treat\n",
            "http://www.amazon.com/gp/product/B0019O5Z0Q\">Charlee\n",
            "http://www.amazon.com/VICTOR-FLY-MAGNET-BAIT-REFILL/dp/B00004RBDY<br\n",
            "http://www.amazon.com/gp/product/B0088EDMMS\">Hocus\n",
            "http://www.amazon.com/gp/product/B001AGXEAG\">Beetlejuice\n",
            "http://www.amazon.com/gp/product/B001AGXEAG\">here</a>.\n",
            "http://www.amazon.com/gp/product/B001AGXEA6\">here</a>.\n",
            "http://www.amazon.com/gp/product/0790700506\">Gremlins</a><br\n",
            "http://www.amazon.com/gp/product/6301871952\">Gremlins\n",
            "http://www.amazon.com/gp/product/6303347657\">Mask</a><br\n",
            "http://www.amazon.com/gp/product/6304826141\">Rocketman</a><br\n",
            "http://www.amazon.com/gp/product/B001B504LI\">The\n",
            "http://www.amazon.com/gp/product/B001AGXEA6\">Beetlejuice\n",
            "http://www.amazon.com/gp/product/B00004RAMX\">Victor\n",
            "http://www.amazon.com/gp/product/B00004RAMY\">Victor\n",
            "http://www.amazon.com/gp/product/B00004RAMY\">Victor\n",
            "http://www.amazon.com/gp/product/B001VJ3FP6\">SentryHOME\n",
            "http://www.amazon.com/gp/product/B0051GCTAW\">Fiproguard\n",
            "http://www.amazon.com/gp/product/B000668Z96\">Victor\n",
            "http://www.amazon.com/gp/product/B000668Z96\">Victor\n",
            "http://www.amazon.com/gp/product/B000BQRQ8C\">Rescue\n",
            "http://www.amazon.com/gp/product/B00004RBDZ\">Victor\n",
            "http://www.amazon.com/gp/product/B00005344V\">Traditional\n",
            "http://www.amazon.com/gp/product/B00005C2M2\">Astronaut\n"
          ],
          "name": "stdout"
        }
      ]
    },
    {
      "metadata": {
        "id": "dhFhsqXjEZRp",
        "colab_type": "code",
        "colab": {}
      },
      "cell_type": "code",
      "source": [
        "for i in range(0,364171):\n",
        "  final['Text'].values[i] = re.sub(r\"http\\S+\", \"\", final['Text'].values[i])"
      ],
      "execution_count": 0,
      "outputs": []
    },
    {
      "metadata": {
        "id": "ohv2k52yEe7M",
        "colab_type": "code",
        "colab": {}
      },
      "cell_type": "code",
      "source": [
        "#Remove HTML tags\n",
        "from bs4 import BeautifulSoup\n",
        "for i in range(1,364171):\n",
        "  soup = BeautifulSoup(final['Text'].values[i],'lxml')\n",
        "  text = soup.get_text()\n",
        "  final['Text'].values[i]=text"
      ],
      "execution_count": 0,
      "outputs": []
    },
    {
      "metadata": {
        "id": "CS-hK54bEiAL",
        "colab_type": "code",
        "colab": {}
      },
      "cell_type": "code",
      "source": [
        "#Expanding English language contractions\n",
        "def decontracted(phrase):\n",
        "  # specific\n",
        "  phrase = re.sub(r\"won\\'t\", \"will not\", phrase)\n",
        "  phrase = re.sub(r\"can\\'t\", \"can not\", phrase)\n",
        "\n",
        "  # general\n",
        "  phrase = re.sub(r\"n\\'t\", \" not\", phrase)\n",
        "  phrase = re.sub(r\"\\'re\", \" are\", phrase)\n",
        "  phrase = re.sub(r\"\\'s\", \" is\", phrase)\n",
        "  phrase = re.sub(r\"\\'d\", \" would\", phrase)\n",
        "  phrase = re.sub(r\"\\'ll\", \" will\", phrase)\n",
        "  phrase = re.sub(r\"\\'t\", \" not\", phrase)\n",
        "  phrase = re.sub(r\"\\'ve\", \" have\", phrase)\n",
        "  phrase = re.sub(r\"\\'m\", \" am\", phrase)\n",
        "  return phrase\n"
      ],
      "execution_count": 0,
      "outputs": []
    },
    {
      "metadata": {
        "id": "i3qThKicElOv",
        "colab_type": "code",
        "colab": {}
      },
      "cell_type": "code",
      "source": [
        "for i in range(0,364171):\n",
        "  #print(final['Text'].values[i])\n",
        "  final['Text'].values[i]=decontracted(final['Text'].values[i])\n",
        "  #print(final['Text'].values[i])"
      ],
      "execution_count": 0,
      "outputs": []
    },
    {
      "metadata": {
        "id": "z7F_zcNMEn_h",
        "colab_type": "code",
        "colab": {}
      },
      "cell_type": "code",
      "source": [
        "#remove words with numbers python\n",
        "for i in range(1,364171):\n",
        "  #print(final['Text'].values[i])\n",
        "  final['Text'].values[i] = re.sub(\"\\S*\\d\\S*\", \"\", final['Text'].values[i]).strip()\n",
        "  #print(final['Text'].values[i])"
      ],
      "execution_count": 0,
      "outputs": []
    },
    {
      "metadata": {
        "id": "c-7NhwkFErLF",
        "colab_type": "code",
        "colab": {}
      },
      "cell_type": "code",
      "source": [
        "#remove spacial character:\n",
        "for i in range(1,364171):\n",
        "  final['Text'].values[i]= re.sub('[^A-Za-z0-9]+', ' ', final['Text'].values[i])\n"
      ],
      "execution_count": 0,
      "outputs": []
    },
    {
      "metadata": {
        "id": "iIL6JEBlEuJh",
        "colab_type": "code",
        "colab": {}
      },
      "cell_type": "code",
      "source": [
        "#Remove punctution\n",
        "for i in range(1,364171):\n",
        "  final['Text'].values[i]= re.sub(r'[!|#|$\\%|&|*|?|,|.|\\'|/|\"|)|(]',r'', final['Text'].values[i])"
      ],
      "execution_count": 0,
      "outputs": []
    },
    {
      "metadata": {
        "id": "zznO4I3gEw8q",
        "colab_type": "code",
        "colab": {}
      },
      "cell_type": "code",
      "source": [
        "# https://gist.github.com/sebleier/554280\n",
        "# we are removing the words from the stop words list: 'no', 'nor', 'not'\n",
        "# <br /><br /> ==> after the above steps, we are getting \"br br\"\n",
        "# we are including them into stop words list\n",
        "# instead of <br /> if we have <br/> these tags would have revmoved in the 1st step\n",
        "\n",
        "stopwords= set(['br', 'the', 'i', 'me', 'my', 'myself', 'we', 'our', 'ours', 'ourselves', 'you', \"you're\", \"you've\",\\\n",
        "            \"you'll\", \"you'd\", 'your', 'yours', 'yourself', 'yourselves', 'he', 'him', 'his', 'himself', \\\n",
        "            'she', \"she's\", 'her', 'hers', 'herself', 'it', \"it's\", 'its', 'itself', 'they', 'them', 'their',\\\n",
        "            'theirs', 'themselves', 'what', 'which', 'who', 'whom', 'this', 'that', \"that'll\", 'these', 'those', \\\n",
        "            'am', 'is', 'are', 'was', 'were', 'be', 'been', 'being', 'have', 'has', 'had', 'having', 'do', 'does', \\\n",
        "            'did', 'doing', 'a', 'an', 'the', 'and', 'but', 'if', 'or', 'because', 'as', 'until', 'while', 'of', \\\n",
        "            'at', 'by', 'for', 'with', 'about', 'against', 'between', 'into', 'through', 'during', 'before', 'after',\\\n",
        "            'above', 'below', 'to', 'from', 'up', 'down', 'in', 'out', 'on', 'off', 'over', 'under', 'again', 'further',\\\n",
        "            'then', 'once', 'here', 'there', 'when', 'where', 'why', 'how', 'all', 'any', 'both', 'each', 'few', 'more',\\\n",
        "            'most', 'other', 'some', 'such', 'only', 'own', 'same', 'so', 'than', 'too', 'very', \\\n",
        "            's', 't', 'can', 'will', 'just', 'don', \"don't\", 'should', \"should've\", 'now', 'd', 'll', 'm', 'o', 're', \\\n",
        "            've', 'y', 'ain', 'aren', \"aren't\", 'couldn', \"couldn't\", 'didn', \"didn't\", 'doesn', \"doesn't\", 'hadn',\\\n",
        "            \"hadn't\", 'hasn', \"hasn't\", 'haven', \"haven't\", 'isn', \"isn't\", 'ma', 'mightn', \"mightn't\", 'mustn',\\\n",
        "            \"mustn't\", 'needn', \"needn't\", 'shan', \"shan't\", 'shouldn', \"shouldn't\", 'wasn', \"wasn't\", 'weren', \"weren't\", \\\n",
        "            'won', \"won't\", 'wouldn', \"wouldn't\"])"
      ],
      "execution_count": 0,
      "outputs": []
    },
    {
      "metadata": {
        "id": "tpkBA6Z5E0Q8",
        "colab_type": "code",
        "outputId": "ac3214fe-44fb-4e78-b2a0-2f8854b90a7d",
        "colab": {
          "base_uri": "https://localhost:8080/",
          "height": 34
        }
      },
      "cell_type": "code",
      "source": [
        "#tqdm\n",
        "#Instantly make your loops show a smart progress meter\n",
        "# just wrap any iterable with tqdm(iterable), and you’re done!\n",
        "from tqdm import tqdm\n",
        "preprocessed_reviews = []\n",
        "for i in tqdm(range(0,364171)):\n",
        "  sentence=\"\"\n",
        "  #print(final['Text'].values[i])\n",
        "  for word in final['Text'].values[i].split():\n",
        "    #print(word)\n",
        "    word =word.lower()\n",
        "    if word not in stopwords:\n",
        "      sentence+=\" \"+word\n",
        "  #print(sentence)\n",
        "  preprocessed_reviews.append(sentence.strip())"
      ],
      "execution_count": 22,
      "outputs": [
        {
          "output_type": "stream",
          "text": [
            "100%|██████████| 364171/364171 [00:15<00:00, 23392.21it/s]\n"
          ],
          "name": "stderr"
        }
      ]
    },
    {
      "metadata": {
        "id": "ETUwleiRE3RX",
        "colab_type": "code",
        "outputId": "a1e43c9c-1b70-4180-ac70-7848c81c26ac",
        "colab": {
          "base_uri": "https://localhost:8080/",
          "height": 753
        }
      },
      "cell_type": "code",
      "source": [
        "final['Cleaned_text']=preprocessed_reviews\n",
        "final.head()"
      ],
      "execution_count": 23,
      "outputs": [
        {
          "output_type": "execute_result",
          "data": {
            "text/html": [
              "<div>\n",
              "<style scoped>\n",
              "    .dataframe tbody tr th:only-of-type {\n",
              "        vertical-align: middle;\n",
              "    }\n",
              "\n",
              "    .dataframe tbody tr th {\n",
              "        vertical-align: top;\n",
              "    }\n",
              "\n",
              "    .dataframe thead th {\n",
              "        text-align: right;\n",
              "    }\n",
              "</style>\n",
              "<table border=\"1\" class=\"dataframe\">\n",
              "  <thead>\n",
              "    <tr style=\"text-align: right;\">\n",
              "      <th></th>\n",
              "      <th>Id</th>\n",
              "      <th>ProductId</th>\n",
              "      <th>UserId</th>\n",
              "      <th>ProfileName</th>\n",
              "      <th>HelpfulnessNumerator</th>\n",
              "      <th>HelpfulnessDenominator</th>\n",
              "      <th>Score</th>\n",
              "      <th>Time</th>\n",
              "      <th>Summary</th>\n",
              "      <th>Text</th>\n",
              "      <th>Cleaned_text</th>\n",
              "    </tr>\n",
              "  </thead>\n",
              "  <tbody>\n",
              "    <tr>\n",
              "      <th>138706</th>\n",
              "      <td>150524</td>\n",
              "      <td>0006641040</td>\n",
              "      <td>ACITT7DI6IDDL</td>\n",
              "      <td>shari zychinski</td>\n",
              "      <td>0</td>\n",
              "      <td>0</td>\n",
              "      <td>1</td>\n",
              "      <td>939340800</td>\n",
              "      <td>EVERY book is educational</td>\n",
              "      <td>this witty little book makes my son laugh at l...</td>\n",
              "      <td>witty little book makes son laugh loud. recite...</td>\n",
              "    </tr>\n",
              "    <tr>\n",
              "      <th>138688</th>\n",
              "      <td>150506</td>\n",
              "      <td>0006641040</td>\n",
              "      <td>A2IW4PEEKO2R0U</td>\n",
              "      <td>Tracy</td>\n",
              "      <td>1</td>\n",
              "      <td>1</td>\n",
              "      <td>1</td>\n",
              "      <td>1194739200</td>\n",
              "      <td>Love the book, miss the hard cover version</td>\n",
              "      <td>I grew up reading these Sendak books and watch...</td>\n",
              "      <td>grew reading sendak books watching really rosi...</td>\n",
              "    </tr>\n",
              "    <tr>\n",
              "      <th>138689</th>\n",
              "      <td>150507</td>\n",
              "      <td>0006641040</td>\n",
              "      <td>A1S4A3IQ2MU7V4</td>\n",
              "      <td>sally sue \"sally sue\"</td>\n",
              "      <td>1</td>\n",
              "      <td>1</td>\n",
              "      <td>1</td>\n",
              "      <td>1191456000</td>\n",
              "      <td>chicken soup with rice months</td>\n",
              "      <td>This is a fun way for children to learn their ...</td>\n",
              "      <td>fun way children learn months year learn poems...</td>\n",
              "    </tr>\n",
              "    <tr>\n",
              "      <th>138690</th>\n",
              "      <td>150508</td>\n",
              "      <td>0006641040</td>\n",
              "      <td>AZGXZ2UUK6X</td>\n",
              "      <td>Catherine Hallberg \"(Kate)\"</td>\n",
              "      <td>1</td>\n",
              "      <td>1</td>\n",
              "      <td>1</td>\n",
              "      <td>1076025600</td>\n",
              "      <td>a good swingy rhythm for reading aloud</td>\n",
              "      <td>This is a great little book to read aloud it h...</td>\n",
              "      <td>great little book read aloud nice rhythm well ...</td>\n",
              "    </tr>\n",
              "    <tr>\n",
              "      <th>138691</th>\n",
              "      <td>150509</td>\n",
              "      <td>0006641040</td>\n",
              "      <td>A3CMRKGE0P909G</td>\n",
              "      <td>Teresa</td>\n",
              "      <td>3</td>\n",
              "      <td>4</td>\n",
              "      <td>1</td>\n",
              "      <td>1018396800</td>\n",
              "      <td>A great way to learn the months</td>\n",
              "      <td>This is a book of poetry about the months of t...</td>\n",
              "      <td>book poetry months year goes month cute little...</td>\n",
              "    </tr>\n",
              "  </tbody>\n",
              "</table>\n",
              "</div>"
            ],
            "text/plain": [
              "            Id   ProductId          UserId                  ProfileName  \\\n",
              "138706  150524  0006641040   ACITT7DI6IDDL              shari zychinski   \n",
              "138688  150506  0006641040  A2IW4PEEKO2R0U                        Tracy   \n",
              "138689  150507  0006641040  A1S4A3IQ2MU7V4        sally sue \"sally sue\"   \n",
              "138690  150508  0006641040     AZGXZ2UUK6X  Catherine Hallberg \"(Kate)\"   \n",
              "138691  150509  0006641040  A3CMRKGE0P909G                       Teresa   \n",
              "\n",
              "        HelpfulnessNumerator  HelpfulnessDenominator  Score        Time  \\\n",
              "138706                     0                       0      1   939340800   \n",
              "138688                     1                       1      1  1194739200   \n",
              "138689                     1                       1      1  1191456000   \n",
              "138690                     1                       1      1  1076025600   \n",
              "138691                     3                       4      1  1018396800   \n",
              "\n",
              "                                           Summary  \\\n",
              "138706                   EVERY book is educational   \n",
              "138688  Love the book, miss the hard cover version   \n",
              "138689               chicken soup with rice months   \n",
              "138690      a good swingy rhythm for reading aloud   \n",
              "138691             A great way to learn the months   \n",
              "\n",
              "                                                     Text  \\\n",
              "138706  this witty little book makes my son laugh at l...   \n",
              "138688  I grew up reading these Sendak books and watch...   \n",
              "138689  This is a fun way for children to learn their ...   \n",
              "138690  This is a great little book to read aloud it h...   \n",
              "138691  This is a book of poetry about the months of t...   \n",
              "\n",
              "                                             Cleaned_text  \n",
              "138706  witty little book makes son laugh loud. recite...  \n",
              "138688  grew reading sendak books watching really rosi...  \n",
              "138689  fun way children learn months year learn poems...  \n",
              "138690  great little book read aloud nice rhythm well ...  \n",
              "138691  book poetry months year goes month cute little...  "
            ]
          },
          "metadata": {
            "tags": []
          },
          "execution_count": 23
        }
      ]
    },
    {
      "metadata": {
        "id": "aDfk-1bKE4hK",
        "colab_type": "code",
        "colab": {}
      },
      "cell_type": "code",
      "source": [
        "#Randomly sample Data 100k points\n",
        "random_sample_data = final.sample(n=100000) "
      ],
      "execution_count": 0,
      "outputs": []
    },
    {
      "metadata": {
        "id": "5cCKPuBNE4Ut",
        "colab_type": "code",
        "colab": {}
      },
      "cell_type": "code",
      "source": [
        "final_sorted_time=random_sample_data.sort_values('Time',ascending=True,axis=0)"
      ],
      "execution_count": 0,
      "outputs": []
    },
    {
      "metadata": {
        "id": "_lbegZ-sFDeE",
        "colab_type": "text"
      },
      "cell_type": "markdown",
      "source": [
        "**Time Based Splitting**"
      ]
    },
    {
      "metadata": {
        "id": "uN305XdjFHDp",
        "colab_type": "code",
        "colab": {}
      },
      "cell_type": "code",
      "source": [
        "#y_Train=final_sorted_time['Score'][0:70000]\n",
        "y_train=final_sorted_time['Score'][0:49000]\n",
        "y_cv=final_sorted_time['Score'][49000:70000]\n",
        "y_test=final_sorted_time['Score'][70000:100000]"
      ],
      "execution_count": 0,
      "outputs": []
    },
    {
      "metadata": {
        "id": "blt1yzTdFJ_k",
        "colab_type": "code",
        "outputId": "51800480-aab1-4830-9639-637344bac761",
        "colab": {
          "base_uri": "https://localhost:8080/",
          "height": 67
        }
      },
      "cell_type": "code",
      "source": [
        "y_train.value_counts()"
      ],
      "execution_count": 27,
      "outputs": [
        {
          "output_type": "execute_result",
          "data": {
            "text/plain": [
              "1    42181\n",
              "0     6819\n",
              "Name: Score, dtype: int64"
            ]
          },
          "metadata": {
            "tags": []
          },
          "execution_count": 27
        }
      ]
    },
    {
      "metadata": {
        "id": "dcfmw0krFQRE",
        "colab_type": "code",
        "colab": {}
      },
      "cell_type": "code",
      "source": [
        "Train_data=final_sorted_time['Cleaned_text'][0:70000]\n",
        "train_data=final_sorted_time['Cleaned_text'][0:49000]\n",
        "cv_data=final_sorted_time['Cleaned_text'][49000:70000]\n",
        "test_data=final_sorted_time['Cleaned_text'][70000:100000]"
      ],
      "execution_count": 0,
      "outputs": []
    },
    {
      "metadata": {
        "id": "GjSI0qZqFU_X",
        "colab_type": "text"
      },
      "cell_type": "markdown",
      "source": [
        "# 4. Featurization\n",
        "# 4.1Bag of Words"
      ]
    },
    {
      "metadata": {
        "id": "b4jNLI9qFWoS",
        "colab_type": "code",
        "colab": {}
      },
      "cell_type": "code",
      "source": [
        "count_vector=CountVectorizer()\n",
        "count_vector.fit(train_data)\n",
        "train_bows=count_vector.transform(train_data)\n",
        "cv_bows=count_vector.transform(cv_data)\n",
        "test_bows=count_vector.transform(test_data)"
      ],
      "execution_count": 0,
      "outputs": []
    },
    {
      "metadata": {
        "id": "WINxkX5OFemH",
        "colab_type": "text"
      },
      "cell_type": "markdown",
      "source": [
        "# 4.2 TFIDF"
      ]
    },
    {
      "metadata": {
        "id": "RK4aHITCFdkX",
        "colab_type": "code",
        "colab": {}
      },
      "cell_type": "code",
      "source": [
        "tfidf_vector=TfidfVectorizer()\n",
        "tfidf_vector.fit(train_data)\n",
        "train_tfidf=tfidf_vector.transform(train_data)\n",
        "cv_tfidf=tfidf_vector.transform(cv_data)\n",
        "test_tfidf=tfidf_vector.transform(test_data)"
      ],
      "execution_count": 0,
      "outputs": []
    },
    {
      "metadata": {
        "id": "vFW3X2PZFkoM",
        "colab_type": "text"
      },
      "cell_type": "markdown",
      "source": [
        "# 4.3 Word2Vec"
      ]
    },
    {
      "metadata": {
        "id": "OAHWZtcCFn9-",
        "colab_type": "code",
        "colab": {}
      },
      "cell_type": "code",
      "source": [
        "import gensim\n",
        "from gensim.models import Word2Vec"
      ],
      "execution_count": 0,
      "outputs": []
    },
    {
      "metadata": {
        "id": "Y4ZkL1WDFrTE",
        "colab_type": "code",
        "colab": {}
      },
      "cell_type": "code",
      "source": [
        "#Train own W2V with train data\n",
        "i=0\n",
        "list_of_sentence=[]\n",
        "for sent in train_data.values:\n",
        "  list_of_sentence.append(sent.split())"
      ],
      "execution_count": 0,
      "outputs": []
    },
    {
      "metadata": {
        "id": "EAhcrBGdFuu9",
        "colab_type": "code",
        "colab": {}
      },
      "cell_type": "code",
      "source": [
        "w2v_model=gensim.models.Word2Vec(list_of_sentence,min_count=5,size=50,workers=4)\n",
        "w2v_words = list(w2v_model.wv.vocab)"
      ],
      "execution_count": 0,
      "outputs": []
    },
    {
      "metadata": {
        "id": "HruCx0WgF2Ww",
        "colab_type": "code",
        "outputId": "76efee36-28f5-4f60-a59a-ca2ff385b020",
        "colab": {
          "base_uri": "https://localhost:8080/",
          "height": 50
        }
      },
      "cell_type": "code",
      "source": [
        "# Average W2V with training Data\n",
        "sent_vectors = []; # the avg-w2v for each sentence/review is stored in this list\n",
        "for sent in list_of_sentence: # for each review/sentence\n",
        "    sent_vec = np.zeros(50) # as word vectors are of zero length 50, you might need to change this to 300 if you use google's w2v\n",
        "    cnt_words =0; # num of words with a valid vector in the sentence/review\n",
        "    for word in sent: # for each word in a review/sentence\n",
        "        if word in w2v_words:\n",
        "            vec = w2v_model.wv[word]\n",
        "            #print(\"vec= \",vec)\n",
        "            sent_vec += vec\n",
        "            cnt_words += 1\n",
        "    if cnt_words != 0:\n",
        "        sent_vec /= cnt_words\n",
        "    sent_vectors.append(sent_vec)\n",
        "print(len(sent_vectors))\n",
        "#print(sent_vectors)\n",
        "print(len(sent_vectors[0]))"
      ],
      "execution_count": 35,
      "outputs": [
        {
          "output_type": "stream",
          "text": [
            "49000\n",
            "50\n"
          ],
          "name": "stdout"
        }
      ]
    },
    {
      "metadata": {
        "id": "rS4sZPylF57H",
        "colab_type": "code",
        "colab": {}
      },
      "cell_type": "code",
      "source": [
        "#Train own W2V with cv data\n",
        "i=0\n",
        "list_of_sentence_cv=[]\n",
        "for sent in cv_data.values:\n",
        "  list_of_sentence_cv.append(sent.split())"
      ],
      "execution_count": 0,
      "outputs": []
    },
    {
      "metadata": {
        "id": "0Wy5jn6eF9O2",
        "colab_type": "code",
        "colab": {}
      },
      "cell_type": "code",
      "source": [
        "w2v_model_cv=gensim.models.Word2Vec(list_of_sentence_cv,min_count=5,size=50,workers=4)\n",
        "w2v_words_cv = list(w2v_model_cv.wv.vocab)"
      ],
      "execution_count": 0,
      "outputs": []
    },
    {
      "metadata": {
        "id": "a2aAk8qBGC3_",
        "colab_type": "code",
        "outputId": "e33f8591-685a-475a-8632-8500f9b7bb41",
        "colab": {
          "base_uri": "https://localhost:8080/",
          "height": 50
        }
      },
      "cell_type": "code",
      "source": [
        "# Average W2V with cv Data\n",
        "sent_vectors_cv = []; # the avg-w2v for each sentence/review is stored in this list\n",
        "for sent in list_of_sentence_cv: # for each review/sentence\n",
        "    sent_vec = np.zeros(50) # as word vectors are of zero length 50, you might need to change this to 300 if you use google's w2v\n",
        "    cnt_words =0; # num of words with a valid vector in the sentence/review\n",
        "    for word in sent: # for each word in a review/sentence\n",
        "        if word in w2v_words_cv:\n",
        "            vec = w2v_model_cv.wv[word]\n",
        "            #print(\"vec= \",vec)\n",
        "            sent_vec += vec\n",
        "            cnt_words += 1\n",
        "    if cnt_words != 0:\n",
        "        sent_vec /= cnt_words\n",
        "    sent_vectors_cv.append(sent_vec)\n",
        "print(len(sent_vectors_cv))\n",
        "#print(sent_vectors)\n",
        "print(len(sent_vectors_cv[0]))"
      ],
      "execution_count": 38,
      "outputs": [
        {
          "output_type": "stream",
          "text": [
            "21000\n",
            "50\n"
          ],
          "name": "stdout"
        }
      ]
    },
    {
      "metadata": {
        "id": "fI7xPM2EGGWo",
        "colab_type": "code",
        "colab": {}
      },
      "cell_type": "code",
      "source": [
        "#Train own W2V with Test data\n",
        "i=0\n",
        "list_of_sentence_test=[]\n",
        "for sent in test_data.values:\n",
        "  list_of_sentence_test.append(sent.split())"
      ],
      "execution_count": 0,
      "outputs": []
    },
    {
      "metadata": {
        "id": "djiPEElYGJVe",
        "colab_type": "code",
        "colab": {}
      },
      "cell_type": "code",
      "source": [
        "w2v_model_test=gensim.models.Word2Vec(list_of_sentence_test,min_count=5,size=50,workers=4)\n",
        "w2v_words_test = list(w2v_model_test.wv.vocab)"
      ],
      "execution_count": 0,
      "outputs": []
    },
    {
      "metadata": {
        "id": "TkwxdN4LGPMR",
        "colab_type": "code",
        "outputId": "fdef6f02-cf1b-4cb9-a669-517fc2297440",
        "colab": {
          "base_uri": "https://localhost:8080/",
          "height": 50
        }
      },
      "cell_type": "code",
      "source": [
        "# Average W2V with test Data\n",
        "sent_vectors_test = []; # the avg-w2v for each sentence/review is stored in this list\n",
        "for sent in list_of_sentence_test: # for each review/sentence\n",
        "    sent_vec = np.zeros(50) # as word vectors are of zero length 50, you might need to change this to 300 if you use google's w2v\n",
        "    cnt_words =0; # num of words with a valid vector in the sentence/review\n",
        "    for word in sent: # for each word in a review/sentence\n",
        "        if word in w2v_words_test:\n",
        "            vec = w2v_model_test.wv[word]\n",
        "            #print(\"vec= \",vec)\n",
        "            sent_vec += vec\n",
        "            cnt_words += 1\n",
        "    if cnt_words != 0:\n",
        "        sent_vec /= cnt_words\n",
        "    sent_vectors_test.append(sent_vec)\n",
        "print(len(sent_vectors_test))\n",
        "#print(sent_vectors)\n",
        "print(len(sent_vectors_test[0]))"
      ],
      "execution_count": 41,
      "outputs": [
        {
          "output_type": "stream",
          "text": [
            "30000\n",
            "50\n"
          ],
          "name": "stdout"
        }
      ]
    },
    {
      "metadata": {
        "id": "gSqdfhuHGTw7",
        "colab_type": "text"
      },
      "cell_type": "markdown",
      "source": [
        "# 4.4 TFIDF-W2Vec"
      ]
    },
    {
      "metadata": {
        "id": "xuFkmLgBGY1a",
        "colab_type": "code",
        "colab": {}
      },
      "cell_type": "code",
      "source": [
        "#TF-IDF Avg W2V for train Data\n",
        "model_train = TfidfVectorizer()\n",
        "model_train.fit(train_data)\n",
        "tf_idf_matrix_train = model_train.transform(train_data)\n",
        "dictionary = dict(zip(model_train.get_feature_names(), list(model_train.idf_)))"
      ],
      "execution_count": 0,
      "outputs": []
    },
    {
      "metadata": {
        "id": "uwB-QTG5Gce-",
        "colab_type": "code",
        "colab": {}
      },
      "cell_type": "code",
      "source": [
        "tfidf_feat_train = model_train.get_feature_names() \n",
        "\n",
        "tfidf_sent_vectors_train = []; # the tfidf-w2v for each sentence/review is stored in this list\n",
        "row=0;\n",
        "for sent in list_of_sentence: \n",
        "  sent_vec = np.zeros(50) \n",
        "  weight_sum =0; \n",
        "  for word in sent: \n",
        "    try:\n",
        "      vec = w2v_model.wv[word]\n",
        "      tf_idf = dictionary[word]*(sent.count(word)/len(sent))\n",
        "      sent_vec += (vec * tf_idf)\n",
        "      weight_sum += tf_idf\n",
        "    except:\n",
        "      pass\n",
        "          \n",
        "  if weight_sum != 0:\n",
        "    sent_vec /= weight_sum\n",
        "  tfidf_sent_vectors_train.append(sent_vec)\n",
        "  row += 1"
      ],
      "execution_count": 0,
      "outputs": []
    },
    {
      "metadata": {
        "id": "ZSNymb5xGgdC",
        "colab_type": "code",
        "colab": {}
      },
      "cell_type": "code",
      "source": [
        "#TF-IDF Avg W2V for cv Data\n",
        "model_cv = TfidfVectorizer()\n",
        "tf_idf_matrix_cv = model_cv.fit_transform(cv_data)\n",
        "dictionary = dict(zip(model_cv.get_feature_names(), list(model_cv.idf_)))"
      ],
      "execution_count": 0,
      "outputs": []
    },
    {
      "metadata": {
        "id": "Z-nfaLLQGj4r",
        "colab_type": "code",
        "colab": {}
      },
      "cell_type": "code",
      "source": [
        "tfidf_feat_cv = model_cv.get_feature_names() \n",
        "\n",
        "tfidf_sent_vectors_cv = []; # the tfidf-w2v for each sentence/review is stored in this list\n",
        "row=0;\n",
        "for sent in list_of_sentence_cv: \n",
        "  sent_vec = np.zeros(50) \n",
        "  weight_sum =0; \n",
        "  for word in sent:\n",
        "    try:\n",
        "      vec = w2v_model_cv.wv[word]\n",
        "      tf_idf = dictionary[word]*(sent.count(word)/len(sent))\n",
        "      sent_vec += (vec * tf_idf)\n",
        "      weight_sum += tf_idf\n",
        "    except:\n",
        "      pass\n",
        "          \n",
        "  if weight_sum != 0:\n",
        "    sent_vec /= weight_sum\n",
        "  tfidf_sent_vectors_cv.append(sent_vec)\n",
        "  row += 1"
      ],
      "execution_count": 0,
      "outputs": []
    },
    {
      "metadata": {
        "id": "4APTYrvKGnKC",
        "colab_type": "code",
        "colab": {}
      },
      "cell_type": "code",
      "source": [
        "#TF-IDF Avg W2V for test Data\n",
        "model_test = TfidfVectorizer()\n",
        "tf_idf_matrix_test = model_test.fit_transform(test_data)\n",
        "dictionary = dict(zip(model_test.get_feature_names(), list(model_test.idf_)))"
      ],
      "execution_count": 0,
      "outputs": []
    },
    {
      "metadata": {
        "id": "Wnzw9iyDGqhH",
        "colab_type": "code",
        "colab": {}
      },
      "cell_type": "code",
      "source": [
        "tfidf_feat_test = model_test.get_feature_names() \n",
        "\n",
        "tfidf_sent_vectors_test = []; # the tfidf-w2v for each sentence/review is stored in this list\n",
        "row=0;\n",
        "for sent in list_of_sentence_test: \n",
        "  sent_vec = np.zeros(50) \n",
        "  weight_sum =0; \n",
        "  for word in sent:\n",
        "    try:\n",
        "      vec = w2v_model_test.wv[word]\n",
        "      tf_idf = dictionary[word]*(sent.count(word)/len(sent))\n",
        "      sent_vec += (vec * tf_idf)\n",
        "      weight_sum += tf_idf\n",
        "    except:\n",
        "      pass\n",
        "          \n",
        "  if weight_sum != 0:\n",
        "    sent_vec /= weight_sum\n",
        "  tfidf_sent_vectors_test.append(sent_vec)\n",
        "  row += 1"
      ],
      "execution_count": 0,
      "outputs": []
    },
    {
      "metadata": {
        "id": "diblWz03G1mK",
        "colab_type": "text"
      },
      "cell_type": "markdown",
      "source": [
        "# 5.XGBoost"
      ]
    },
    {
      "metadata": {
        "id": "Asm3jswjMAYk",
        "colab_type": "text"
      },
      "cell_type": "markdown",
      "source": [
        "# 5.2.1 XGBoost on BoWs"
      ]
    },
    {
      "metadata": {
        "id": "xjMUcy-HG8Hs",
        "colab_type": "code",
        "colab": {}
      },
      "cell_type": "code",
      "source": [
        "import xgboost as xgb"
      ],
      "execution_count": 0,
      "outputs": []
    },
    {
      "metadata": {
        "id": "Ny8DGfSbN0PB",
        "colab_type": "code",
        "colab": {}
      },
      "cell_type": "code",
      "source": [
        "#n_estimators\n",
        "N=[5,10,50,100,500]\n",
        "Depth=[2,3,5,8,10]"
      ],
      "execution_count": 0,
      "outputs": []
    },
    {
      "metadata": {
        "id": "g5gq22pjMssx",
        "colab_type": "code",
        "outputId": "f23d04b4-e37b-4294-fb75-ea0e317a6da4",
        "colab": {
          "base_uri": "https://localhost:8080/",
          "height": 1361
        }
      },
      "cell_type": "code",
      "source": [
        "AUC_training=[]\n",
        "AUC_cv=[]\n",
        "for d in Depth:\n",
        "  print(\"========For d= \",d,\"=============\")\n",
        "  for n in N:\n",
        "    print(\" ----n = \",n,\"-----\")\n",
        "    clf=xgb.XGBClassifier(n_estimators=n,max_depth=d)\n",
        "    clf.fit(train_bows,y_train)\n",
        "   \n",
        "    \n",
        "    #Training Data\n",
        "    y_predict_training=clf.predict_proba(train_bows)[:,1]\n",
        "    auc=roc_auc_score(y_train,y_predict_training)\n",
        "    AUC_training.append(auc)\n",
        "    print(\"Train AUC = \",auc)\n",
        "    #CV Curve\n",
        "    y_predict_cv=clf.predict_proba(cv_bows)[:,1]\n",
        "    auc=roc_auc_score(y_cv,y_predict_cv)\n",
        "    AUC_cv.append(auc)\n",
        "    print(\"Test AUC = \",auc)\n"
      ],
      "execution_count": 50,
      "outputs": [
        {
          "output_type": "stream",
          "text": [
            "========For d=  2 =============\n",
            " ----n =  5 -----\n",
            "Train AUC =  0.6959881242658615\n",
            "Test AUC =  0.706559639548298\n",
            " ----n =  10 -----\n",
            "Train AUC =  0.7304721655349629\n",
            "Test AUC =  0.738980895851578\n",
            " ----n =  50 -----\n",
            "Train AUC =  0.8252113352286633\n",
            "Test AUC =  0.8298604939472896\n",
            " ----n =  100 -----\n",
            "Train AUC =  0.864045888472189\n",
            "Test AUC =  0.8657160842201872\n",
            " ----n =  500 -----\n",
            "Train AUC =  0.9284056263248016\n",
            "Test AUC =  0.9208504026931368\n",
            "========For d=  3 =============\n",
            " ----n =  5 -----\n",
            "Train AUC =  0.7161882016987671\n",
            "Test AUC =  0.7239163404157513\n",
            " ----n =  10 -----\n",
            "Train AUC =  0.7498993063152424\n",
            "Test AUC =  0.7562902257668348\n",
            " ----n =  50 -----\n",
            "Train AUC =  0.849866740772407\n",
            "Test AUC =  0.8497620040115149\n",
            " ----n =  100 -----\n",
            "Train AUC =  0.887617992293277\n",
            "Test AUC =  0.8825309142513688\n",
            " ----n =  500 -----\n",
            "Train AUC =  0.9486125006314052\n",
            "Test AUC =  0.930373766022734\n",
            "========For d=  5 =============\n",
            " ----n =  5 -----\n",
            "Train AUC =  0.7470487339911851\n",
            "Test AUC =  0.7552332809169542\n",
            " ----n =  10 -----\n",
            "Train AUC =  0.7895029145185635\n",
            "Test AUC =  0.7915806000934607\n",
            " ----n =  50 -----\n",
            "Train AUC =  0.8858274454415384\n",
            "Test AUC =  0.8746882066350565\n",
            " ----n =  100 -----\n",
            "Train AUC =  0.9201844216774324\n",
            "Test AUC =  0.9013971267495318\n",
            " ----n =  500 -----\n",
            "Train AUC =  0.9735781982352819\n",
            "Test AUC =  0.9391851795791554\n",
            "========For d=  8 =============\n",
            " ----n =  5 -----\n",
            "Train AUC =  0.7994202972497808\n",
            "Test AUC =  0.7934873149559667\n",
            " ----n =  10 -----\n",
            "Train AUC =  0.8329744201587916\n",
            "Test AUC =  0.8218841225622279\n",
            " ----n =  50 -----\n",
            "Train AUC =  0.9216050864868455\n",
            "Test AUC =  0.8903934832305627\n",
            " ----n =  100 -----\n",
            "Train AUC =  0.9512063823276778\n",
            "Test AUC =  0.9138760370654676\n",
            " ----n =  500 -----\n",
            "Train AUC =  0.9892913725154432\n",
            "Test AUC =  0.9427555318500579\n",
            "========For d=  10 =============\n",
            " ----n =  5 -----\n",
            "Train AUC =  0.8223579676685686\n",
            "Test AUC =  0.8098025436159132\n",
            " ----n =  10 -----\n",
            "Train AUC =  0.8560128407580905\n",
            "Test AUC =  0.8332457991815998\n",
            " ----n =  50 -----\n",
            "Train AUC =  0.9401688365677257\n",
            "Test AUC =  0.8982264363549435\n",
            " ----n =  100 -----\n",
            "Train AUC =  0.965472135409689\n",
            "Test AUC =  0.9199893165088369\n",
            " ----n =  500 -----\n",
            "Train AUC =  0.9941707316751793\n",
            "Test AUC =  0.9434264454847634\n"
          ],
          "name": "stdout"
        }
      ]
    },
    {
      "metadata": {
        "id": "-h42m_Sw9hfJ",
        "colab_type": "text"
      },
      "cell_type": "markdown",
      "source": [
        "**Note :**  *Test AUC is CV AUC (type error)"
      ]
    },
    {
      "metadata": {
        "id": "X4EpyPKFH2zX",
        "colab_type": "code",
        "colab": {}
      },
      "cell_type": "code",
      "source": [
        "#Heatmap Representation\n",
        "AUC_cv_matrices=[AUC_cv[0:5],AUC_cv[5:10],AUC_cv[10:15],AUC_cv[15:20],AUC_cv[20:25]]\n",
        "AUC_training_matrices=[AUC_training[0:5],AUC_training[5:10],AUC_training[10:15],AUC_training[15:20],AUC_training[20:25]]"
      ],
      "execution_count": 0,
      "outputs": []
    },
    {
      "metadata": {
        "id": "3QQpXsweGrWw",
        "colab_type": "code",
        "colab": {}
      },
      "cell_type": "code",
      "source": [
        "df_cv = pd.DataFrame(AUC_cv_matrices, index = [i for i in N],\n",
        "                  columns = [i for i in Depth])\n",
        "df_training = pd.DataFrame(AUC_training_matrices, index = [i for i in N],\n",
        "                  columns = [i for i in Depth])"
      ],
      "execution_count": 0,
      "outputs": []
    },
    {
      "metadata": {
        "id": "nlgpAL5NKIS8",
        "colab_type": "code",
        "outputId": "55cbf0e4-45c5-4bb7-e825-6a22fdb9a97b",
        "colab": {
          "base_uri": "https://localhost:8080/",
          "height": 280
        }
      },
      "cell_type": "code",
      "source": [
        "ax = sns.heatmap(df_training,annot=True, fmt=\".2f\")\n",
        "ax.set_title(\"Train AUC Representation \")\n",
        "ax.collections[0].colorbar.set_label(\"AUC\")"
      ],
      "execution_count": 53,
      "outputs": [
        {
          "output_type": "display_data",
          "data": {
            "image/png": "[encoded data removed]",
            "text/plain": [
              "<Figure size 432x288 with 2 Axes>"
            ]
          },
          "metadata": {
            "tags": []
          }
        }
      ]
    },
    {
      "metadata": {
        "id": "7ntHTePtN7DJ",
        "colab_type": "code",
        "outputId": "9b3f40a4-adc3-41cc-d25f-554af1845377",
        "colab": {
          "base_uri": "https://localhost:8080/",
          "height": 280
        }
      },
      "cell_type": "code",
      "source": [
        "ax = sns.heatmap(df_cv,annot=True, fmt=\".2f\")\n",
        "ax.set_title(\"CV AUC Representation \")\n",
        "ax.collections[0].colorbar.set_label(\"AUC\")"
      ],
      "execution_count": 54,
      "outputs": [
        {
          "output_type": "display_data",
          "data": {
            "image/png": "[encoded data removed]",
            "text/plain": [
              "<Figure size 432x288 with 2 Axes>"
            ]
          },
          "metadata": {
            "tags": []
          }
        }
      ]
    },
    {
      "metadata": {
        "id": "Hakbiiy-NwO2",
        "colab_type": "text"
      },
      "cell_type": "markdown",
      "source": [
        "**Observation:** Optimal value of n_estimators=50 and max_depth=10 having AUC = 0.94"
      ]
    },
    {
      "metadata": {
        "id": "LTAjjtFLOgOF",
        "colab_type": "code",
        "outputId": "5e818698-2a20-4b83-d9ef-42bfdcc8aa0f",
        "colab": {
          "base_uri": "https://localhost:8080/",
          "height": 327
        }
      },
      "cell_type": "code",
      "source": [
        "clf=xgb.XGBClassifier(n_estimators=50,max_depth=10 )\n",
        "clf.fit(train_bows,y_train)\n",
        "\n",
        "#Train Curve\n",
        "y_pred_train=clf.predict_proba(train_bows)[:,1]\n",
        "fpr_train, tpr_train, thresholds_train = roc_curve(y_train,y_pred_train)\n",
        "roc_auc_train = metrics.auc(fpr_train, tpr_train)\n",
        "\n",
        "#Test Curve\n",
        "y_pred=clf.predict_proba(test_bows)[:,1]\n",
        "fpr, tpr, thresholds = roc_curve(y_test,y_pred)\n",
        "roc_auc = metrics.auc(fpr, tpr)\n",
        "\n",
        "#Drawing ROC curve\n",
        "print('Train AUC = ',metrics.auc(fpr_train, tpr_train))\n",
        "print('Test AUC = ',metrics.auc(fpr, tpr))\n",
        "plt.figure()\n",
        "plt.plot(fpr, tpr, color='darkorange', lw=1, label=' Test ROC curve (area = %0.2f)' % roc_auc)\n",
        "plt.plot(fpr_train, tpr_train, lw=1, label='Train ROC curve (area = %0.2f)' % roc_auc_train)\n",
        "\n",
        "plt.plot([0, 1], [0, 1], color='navy', lw=1, linestyle='--')\n",
        "plt.xlim([0.0, 1.0])\n",
        "plt.ylim([0.0, 1.05])\n",
        "plt.xlabel('False Positive Rate')\n",
        "plt.ylabel('True Positive Rate')\n",
        "plt.title('Receiver operating characteristic')\n",
        "plt.legend(loc=\"lower right\")\n",
        "plt.show()\n"
      ],
      "execution_count": 55,
      "outputs": [
        {
          "output_type": "stream",
          "text": [
            "Train AUC =  0.9401688365677257\n",
            "Test AUC =  0.8948758135964694\n"
          ],
          "name": "stdout"
        },
        {
          "output_type": "display_data",
          "data": {
            "image/png": "[encoded data removed]",
            "text/plain": [
              "<Figure size 432x288 with 1 Axes>"
            ]
          },
          "metadata": {
            "tags": []
          }
        }
      ]
    },
    {
      "metadata": {
        "id": "xJVDcez9PtyF",
        "colab_type": "code",
        "outputId": "461242db-70e4-4875-99d8-96b6280f78be",
        "colab": {
          "base_uri": "https://localhost:8080/",
          "height": 353
        }
      },
      "cell_type": "code",
      "source": [
        "#Confusion_Matrices\n",
        "y_pred_train=clf.predict(train_bows)\n",
        "print(\"Confusion_Matrices Report for Train Data\")\n",
        "print(metrics.classification_report(y_train,y_pred_train))\n",
        "\n",
        "y_pred=clf.predict(test_bows)\n",
        "print(\"Confusion_Matrices Report for Test Data\")\n",
        "print(metrics.classification_report(y_test,y_pred))"
      ],
      "execution_count": 56,
      "outputs": [
        {
          "output_type": "stream",
          "text": [
            "Confusion_Matrices Report for Train Data\n",
            "              precision    recall  f1-score   support\n",
            "\n",
            "           0       0.97      0.36      0.53      6819\n",
            "           1       0.91      1.00      0.95     42181\n",
            "\n",
            "   micro avg       0.91      0.91      0.91     49000\n",
            "   macro avg       0.94      0.68      0.74     49000\n",
            "weighted avg       0.91      0.91      0.89     49000\n",
            "\n",
            "Confusion_Matrices Report for Test Data\n",
            "              precision    recall  f1-score   support\n",
            "\n",
            "           0       0.88      0.27      0.41      5268\n",
            "           1       0.86      0.99      0.92     24732\n",
            "\n",
            "   micro avg       0.87      0.87      0.87     30000\n",
            "   macro avg       0.87      0.63      0.67     30000\n",
            "weighted avg       0.87      0.87      0.83     30000\n",
            "\n"
          ],
          "name": "stdout"
        }
      ]
    },
    {
      "metadata": {
        "id": "RHV9yagqP14t",
        "colab_type": "code",
        "colab": {}
      },
      "cell_type": "code",
      "source": [
        "cnf_matrix = confusion_matrix(y_test,y_pred)\n",
        "cnf_matrix_train = confusion_matrix(y_train,y_pred_train)\n",
        "df_cm = pd.DataFrame(cnf_matrix, index = [i for i in [0,1]],\n",
        "                  columns = [i for i in [0,1]])\n",
        "df_cm_train = pd.DataFrame(cnf_matrix_train, index = [i for i in [0,1]],\n",
        "                  columns = [i for i in [0,1]])"
      ],
      "execution_count": 0,
      "outputs": []
    },
    {
      "metadata": {
        "id": "DOcIUcVeP7Pc",
        "colab_type": "code",
        "outputId": "704c14c9-d898-4314-a78f-38efc83d6921",
        "colab": {
          "base_uri": "https://localhost:8080/",
          "height": 297
        }
      },
      "cell_type": "code",
      "source": [
        "ax = sns.heatmap(df_cm,annot=True, fmt=\".2f\")\n",
        "ax.set_title(\"Confusion Matrices for test Data\")"
      ],
      "execution_count": 58,
      "outputs": [
        {
          "output_type": "execute_result",
          "data": {
            "text/plain": [
              "Text(0.5, 1.0, 'Confusion Matrices for test Data')"
            ]
          },
          "metadata": {
            "tags": []
          },
          "execution_count": 58
        },
        {
          "output_type": "display_data",
          "data": {
            "image/png": "[encoded data removed]",
            "text/plain": [
              "<Figure size 432x288 with 2 Axes>"
            ]
          },
          "metadata": {
            "tags": []
          }
        }
      ]
    },
    {
      "metadata": {
        "id": "dhzMiEXUQK44",
        "colab_type": "code",
        "outputId": "2c06d288-48af-49e4-e92c-0ee8f2d9e7dd",
        "colab": {
          "base_uri": "https://localhost:8080/",
          "height": 282
        }
      },
      "cell_type": "code",
      "source": [
        "print(\"Confusion Matrices for Train Data\")\n",
        "ax_train = sns.heatmap(df_cm_train,annot=True, fmt=\".2f\")"
      ],
      "execution_count": 59,
      "outputs": [
        {
          "output_type": "stream",
          "text": [
            "Confusion Matrices for Train Data\n"
          ],
          "name": "stdout"
        },
        {
          "output_type": "display_data",
          "data": {
            "image/png": "[encoded data removed]",
            "text/plain": [
              "<Figure size 432x288 with 2 Axes>"
            ]
          },
          "metadata": {
            "tags": []
          }
        }
      ]
    },
    {
      "metadata": {
        "id": "0_F3ZEfUSluA",
        "colab_type": "text"
      },
      "cell_type": "markdown",
      "source": [
        "**top 20 important features**"
      ]
    },
    {
      "metadata": {
        "id": "EWqknMBeSuwP",
        "colab_type": "code",
        "outputId": "71faa32a-a688-4ecb-81a4-97ce5930fe08",
        "colab": {
          "base_uri": "https://localhost:8080/",
          "height": 54
        }
      },
      "cell_type": "code",
      "source": [
        "feature_names=count_vector.get_feature_names()\n",
        "a=clf.feature_importances_\n",
        "top =zip( feature_names,a)\n",
        "top=list(top)\n",
        "top.sort(reverse=True,key=lambda x: x[1])\n",
        "top_20_features_names=top[0:20]\n",
        "#top_20_features_vlues=top[1][0:20]\n",
        "for i in range(1,50):\n",
        "  print(top[i][0],end=\"\\t\")"
      ],
      "execution_count": 60,
      "outputs": [
        {
          "output_type": "stream",
          "text": [
            "like\tgood\twould\tone\tproduct\ttaste\tgreat\tamazon\tno\tbest\tlove\tunfortunately\tflavor\tthought\teven\ttried\tdisappointed\tterrible\talso\tfind\tget\tdelicious\tlittle\tmake\tuse\tday\thowever\tdisappointing\tbad\tbought\tdisappointment\tmuch\tfood\thorrible\treally\ttry\tmoney\tprice\twell\tbuy\ttasty\tcould\tloves\tworst\tbetter\tfirst\tperfect\tawful\treviews\t"
          ],
          "name": "stdout"
        }
      ]
    },
    {
      "metadata": {
        "id": "acnn1P68iVI8",
        "colab_type": "code",
        "outputId": "e1b90893-6183-4e7a-ab84-21c9695d38d5",
        "colab": {
          "base_uri": "https://localhost:8080/",
          "height": 353
        }
      },
      "cell_type": "code",
      "source": [
        "top_20_features_names"
      ],
      "execution_count": 61,
      "outputs": [
        {
          "output_type": "execute_result",
          "data": {
            "text/plain": [
              "[('not', 0.03986761),\n",
              " ('like', 0.028734768),\n",
              " ('good', 0.023017902),\n",
              " ('would', 0.020761246),\n",
              " ('one', 0.018504588),\n",
              " ('product', 0.01700015),\n",
              " ('taste', 0.016699262),\n",
              " ('great', 0.014743493),\n",
              " ('amazon', 0.013840831),\n",
              " ('no', 0.011584173),\n",
              " ('best', 0.011132842),\n",
              " ('love', 0.010681511),\n",
              " ('unfortunately', 0.009026629),\n",
              " ('flavor', 0.008575297),\n",
              " ('thought', 0.007823078),\n",
              " ('even', 0.0076726344),\n",
              " ('tried', 0.0076726344),\n",
              " ('disappointed', 0.0075221905),\n",
              " ('terrible', 0.0073717465),\n",
              " ('also', 0.007221303)]"
            ]
          },
          "metadata": {
            "tags": []
          },
          "execution_count": 61
        }
      ]
    },
    {
      "metadata": {
        "id": "KWlOp28GbrqI",
        "colab_type": "code",
        "colab": {}
      },
      "cell_type": "code",
      "source": [
        "feature_dict={}\n",
        "i=0\n",
        "for f,v in top_20_features_names:\n",
        "  feature_dict[f]=v\n",
        "  "
      ],
      "execution_count": 0,
      "outputs": []
    },
    {
      "metadata": {
        "id": "IpduhmC-h4Ys",
        "colab_type": "code",
        "outputId": "751b0aba-1844-49c9-e575-d8879f2cc743",
        "colab": {
          "base_uri": "https://localhost:8080/",
          "height": 689
        }
      },
      "cell_type": "code",
      "source": [
        "for f ,v in feature_dict.items():\n",
        "  print(f)\n",
        "  print(v)"
      ],
      "execution_count": 63,
      "outputs": [
        {
          "output_type": "stream",
          "text": [
            "not\n",
            "0.03986761\n",
            "like\n",
            "0.028734768\n",
            "good\n",
            "0.023017902\n",
            "would\n",
            "0.020761246\n",
            "one\n",
            "0.018504588\n",
            "product\n",
            "0.01700015\n",
            "taste\n",
            "0.016699262\n",
            "great\n",
            "0.014743493\n",
            "amazon\n",
            "0.013840831\n",
            "no\n",
            "0.011584173\n",
            "best\n",
            "0.011132842\n",
            "love\n",
            "0.010681511\n",
            "unfortunately\n",
            "0.009026629\n",
            "flavor\n",
            "0.008575297\n",
            "thought\n",
            "0.007823078\n",
            "even\n",
            "0.0076726344\n",
            "tried\n",
            "0.0076726344\n",
            "disappointed\n",
            "0.0075221905\n",
            "terrible\n",
            "0.0073717465\n",
            "also\n",
            "0.007221303\n"
          ],
          "name": "stdout"
        }
      ]
    },
    {
      "metadata": {
        "id": "qnrpeLzeWrT9",
        "colab_type": "code",
        "outputId": "25a75364-fb86-4a30-beb7-5824fbce796b",
        "colab": {
          "base_uri": "https://localhost:8080/",
          "height": 470
        }
      },
      "cell_type": "code",
      "source": [
        "from wordcloud import WordCloud\n",
        "wordcloud=WordCloud(background_color='black',width=1600,height=800).fit_words(feature_dict)\n",
        "fig=plt.figure(figsize=(15,15))\n",
        "plt.imshow(wordcloud)\n",
        "plt.axis('off')\n",
        "fig.savefig(\"feature3.png\")\n",
        "plt.show()"
      ],
      "execution_count": 64,
      "outputs": [
        {
          "output_type": "display_data",
          "data": {
            "image/png": "[encoded data removed]",
            "text/plain": [
              "<Figure size 1080x1080 with 1 Axes>"
            ]
          },
          "metadata": {
            "tags": []
          }
        }
      ]
    },
    {
      "metadata": {
        "id": "1GCawmYYjf3M",
        "colab_type": "code",
        "colab": {}
      },
      "cell_type": "code",
      "source": [
        "from google.colab import files\n",
        "files.download('feature3.png')"
      ],
      "execution_count": 0,
      "outputs": []
    },
    {
      "metadata": {
        "id": "uqYUsSrKQtIw",
        "colab_type": "text"
      },
      "cell_type": "markdown",
      "source": [
        "# 5.2.2 XGBoost on TFIDF"
      ]
    },
    {
      "metadata": {
        "id": "v5GdIPx2naq-",
        "colab_type": "code",
        "colab": {}
      },
      "cell_type": "code",
      "source": [
        "y_train=final_sorted_time['Score'][0:49000]\n",
        "y_cv=final_sorted_time['Score'][49000:70000]\n",
        "y_test=final_sorted_time['Score'][70000:100000]"
      ],
      "execution_count": 0,
      "outputs": []
    },
    {
      "metadata": {
        "id": "80Le8nUXQv99",
        "colab_type": "code",
        "outputId": "52e8d8e4-f392-4daa-a453-c63f2bf9a752",
        "colab": {
          "base_uri": "https://localhost:8080/",
          "height": 1361
        }
      },
      "cell_type": "code",
      "source": [
        "#n_estimators\n",
        "N=[5,10,50,100,500]\n",
        "Depth=[2,3,5,8,10]\n",
        "AUC_training=[]\n",
        "AUC_cv=[]\n",
        "for d in Depth:\n",
        "  print(\"========For d= \",d,\"=============\")\n",
        "  for n in N:\n",
        "    print(\" ----n = \",n,\"-----\")\n",
        "    clf=xgb.XGBClassifier(n_estimators=n,max_depth=d )\n",
        "    clf.fit(train_tfidf,y_train)\n",
        "   \n",
        "    \n",
        "    #Training Data\n",
        "    y_predict_training=clf.predict_proba(train_tfidf)[:,1]\n",
        "    auc=roc_auc_score(y_train,y_predict_training)\n",
        "    AUC_training.append(auc)\n",
        "    print(\"Train AUC = \",auc)\n",
        "    \n",
        "    #CV Curve\n",
        "    y_predict_cv=clf.predict_proba(cv_tfidf)[:,1]\n",
        "    auc=roc_auc_score(y_cv,y_predict_cv)\n",
        "    AUC_cv.append(auc)\n",
        "    print(\"Test AUC = \",auc)"
      ],
      "execution_count": 67,
      "outputs": [
        {
          "output_type": "stream",
          "text": [
            "========For d=  2 =============\n",
            " ----n =  5 -----\n",
            "Train AUC =  0.6999231682092493\n",
            "Test AUC =  0.7063997635857128\n",
            " ----n =  10 -----\n",
            "Train AUC =  0.7361562728022293\n",
            "Test AUC =  0.7421919096179851\n",
            " ----n =  50 -----\n",
            "Train AUC =  0.8310802183756598\n",
            "Test AUC =  0.8329400543224291\n",
            " ----n =  100 -----\n",
            "Train AUC =  0.8708189452991046\n",
            "Test AUC =  0.867753155293834\n",
            " ----n =  500 -----\n",
            "Train AUC =  0.9372101470169344\n",
            "Test AUC =  0.9229683047085446\n",
            "========For d=  3 =============\n",
            " ----n =  5 -----\n",
            "Train AUC =  0.7245815202238161\n",
            "Test AUC =  0.7322039425606182\n",
            " ----n =  10 -----\n",
            "Train AUC =  0.7597316881436228\n",
            "Test AUC =  0.7652321076549937\n",
            " ----n =  50 -----\n",
            "Train AUC =  0.8573939620168932\n",
            "Test AUC =  0.8530702423526745\n",
            " ----n =  100 -----\n",
            "Train AUC =  0.8947884002669115\n",
            "Test AUC =  0.883873638485555\n",
            " ----n =  500 -----\n",
            "Train AUC =  0.9569507644794991\n",
            "Test AUC =  0.9322046152841997\n",
            "========For d=  5 =============\n",
            " ----n =  5 -----\n",
            "Train AUC =  0.7524661587048315\n",
            "Test AUC =  0.7560442491944335\n",
            " ----n =  10 -----\n",
            "Train AUC =  0.7839641664785706\n",
            "Test AUC =  0.7842745336884354\n",
            " ----n =  50 -----\n",
            "Train AUC =  0.892821054735801\n",
            "Test AUC =  0.8752081018343332\n",
            " ----n =  100 -----\n",
            "Train AUC =  0.9281067811734414\n",
            "Test AUC =  0.9011194600912742\n",
            " ----n =  500 -----\n",
            "Train AUC =  0.9803319178696099\n",
            "Test AUC =  0.9393268279361282\n",
            "========For d=  8 =============\n",
            " ----n =  5 -----\n",
            "Train AUC =  0.8009652005664081\n",
            "Test AUC =  0.7957704667139975\n",
            " ----n =  10 -----\n",
            "Train AUC =  0.8372923523360676\n",
            "Test AUC =  0.820942325565378\n",
            " ----n =  50 -----\n",
            "Train AUC =  0.9292281923237402\n",
            "Test AUC =  0.8898585238282297\n",
            " ----n =  100 -----\n",
            "Train AUC =  0.9593099645551207\n",
            "Test AUC =  0.9134106645107478\n",
            " ----n =  500 -----\n",
            "Train AUC =  0.9938899408282256\n",
            "Test AUC =  0.9420803416154416\n",
            "========For d=  10 =============\n",
            " ----n =  5 -----\n",
            "Train AUC =  0.8098194914096538\n",
            "Test AUC =  0.7983856476025613\n",
            " ----n =  10 -----\n",
            "Train AUC =  0.8576701619320218\n",
            "Test AUC =  0.8318676128043323\n",
            " ----n =  50 -----\n",
            "Train AUC =  0.9460563841732638\n",
            "Test AUC =  0.8954394306516089\n",
            " ----n =  100 -----\n",
            "Train AUC =  0.9730037146496642\n",
            "Test AUC =  0.9183828525962524\n",
            " ----n =  500 -----\n",
            "Train AUC =  0.9973236101673568\n",
            "Test AUC =  0.942581616787016\n"
          ],
          "name": "stdout"
        }
      ]
    },
    {
      "metadata": {
        "id": "I0XxiOzxCoDZ",
        "colab_type": "text"
      },
      "cell_type": "markdown",
      "source": [
        "TypeError: Read Test AUC as CV AUC-"
      ]
    },
    {
      "metadata": {
        "id": "gn6o_W2lnstX",
        "colab_type": "text"
      },
      "cell_type": "markdown",
      "source": [
        "**Heatmap Representation**"
      ]
    },
    {
      "metadata": {
        "id": "9uZl1T2lnql8",
        "colab_type": "code",
        "outputId": "31ae49a8-b5da-477c-a795-d4cd05a49dd7",
        "colab": {
          "base_uri": "https://localhost:8080/",
          "height": 280
        }
      },
      "cell_type": "code",
      "source": [
        "AUC_cv_matrices=[AUC_cv[0:5],AUC_cv[5:10],AUC_cv[10:15],AUC_cv[15:20],AUC_cv[20:25]]\n",
        "AUC_training_matrices=[AUC_training[0:5],AUC_training[5:10],AUC_training[10:15],AUC_training[15:20],AUC_training[20:25]]\n",
        "df_cv = pd.DataFrame(AUC_cv_matrices, index = [i for i in N],\n",
        "                  columns = [i for i in Depth])\n",
        "df_training = pd.DataFrame(AUC_training_matrices, index = [i for i in N],\n",
        "                  columns = [i for i in Depth])\n",
        "ax = sns.heatmap(df_training,annot=True, fmt=\".2f\")\n",
        "ax.set_title(\"Train AUC Representation \")\n",
        "ax.collections[0].colorbar.set_label(\"AUC\")"
      ],
      "execution_count": 68,
      "outputs": [
        {
          "output_type": "display_data",
          "data": {
            "image/png": "[encoded data removed]",
            "text/plain": [
              "<Figure size 432x288 with 2 Axes>"
            ]
          },
          "metadata": {
            "tags": []
          }
        }
      ]
    },
    {
      "metadata": {
        "id": "BbMxDr8WoH18",
        "colab_type": "code",
        "outputId": "2e358210-c37e-4327-af35-89ae19107b50",
        "colab": {
          "base_uri": "https://localhost:8080/",
          "height": 280
        }
      },
      "cell_type": "code",
      "source": [
        "ax = sns.heatmap(df_cv,annot=True, fmt=\".2f\")\n",
        "ax.set_title(\"CV AUC Representation \")\n",
        "ax.collections[0].colorbar.set_label(\"AUC\")"
      ],
      "execution_count": 69,
      "outputs": [
        {
          "output_type": "display_data",
          "data": {
            "image/png": "[encoded data removed]",
            "text/plain": [
              "<Figure size 432x288 with 2 Axes>"
            ]
          },
          "metadata": {
            "tags": []
          }
        }
      ]
    },
    {
      "metadata": {
        "id": "rtMLOe7RoQAt",
        "colab_type": "text"
      },
      "cell_type": "markdown",
      "source": [
        "**observation:** Optimal value of n_estimators=50, max_depth10\n",
        "\n",
        "\n",
        "\n"
      ]
    },
    {
      "metadata": {
        "id": "MKLjxSUOocIg",
        "colab_type": "code",
        "outputId": "961aa39a-dea0-4d94-a98f-d1d4c5304a0b",
        "colab": {
          "base_uri": "https://localhost:8080/",
          "height": 327
        }
      },
      "cell_type": "code",
      "source": [
        "clf=xgb.XGBClassifier(n_estimators=50,max_depth=10 )\n",
        "clf.fit(train_tfidf,y_train)\n",
        "\n",
        "#Train Curve\n",
        "y_pred_train=clf.predict_proba(train_tfidf)[:,1]\n",
        "fpr_train, tpr_train, thresholds_train = roc_curve(y_train,y_pred_train)\n",
        "roc_auc_train = metrics.auc(fpr_train, tpr_train)\n",
        "\n",
        "#Test Curve\n",
        "y_pred=clf.predict_proba(test_tfidf)[:,1]\n",
        "fpr, tpr, thresholds = roc_curve(y_test,y_pred)\n",
        "roc_auc = metrics.auc(fpr, tpr)\n",
        "\n",
        "#Drawing ROC curve\n",
        "print('Train AUC = ',metrics.auc(fpr_train, tpr_train))\n",
        "print('Test AUC = ',metrics.auc(fpr, tpr))\n",
        "plt.figure()\n",
        "plt.plot(fpr, tpr, color='darkorange', lw=1, label=' Test ROC curve (area = %0.2f)' % roc_auc)\n",
        "plt.plot(fpr_train, tpr_train, lw=1, label='Train ROC curve (area = %0.2f)' % roc_auc_train)\n",
        "\n",
        "plt.plot([0, 1], [0, 1], color='navy', lw=1, linestyle='--')\n",
        "plt.xlim([0.0, 1.0])\n",
        "plt.ylim([0.0, 1.05])\n",
        "plt.xlabel('False Positive Rate')\n",
        "plt.ylabel('True Positive Rate')\n",
        "plt.title('Receiver operating characteristic')\n",
        "plt.legend(loc=\"lower right\")\n",
        "plt.show()"
      ],
      "execution_count": 70,
      "outputs": [
        {
          "output_type": "stream",
          "text": [
            "Train AUC =  0.9460563841732638\n",
            "Test AUC =  0.8948935588752122\n"
          ],
          "name": "stdout"
        },
        {
          "output_type": "display_data",
          "data": {
            "image/png": "[encoded data removed]",
            "text/plain": [
              "<Figure size 432x288 with 1 Axes>"
            ]
          },
          "metadata": {
            "tags": []
          }
        }
      ]
    },
    {
      "metadata": {
        "id": "yLULcrxzo20q",
        "colab_type": "code",
        "outputId": "e5ece7db-30d4-44c5-bb16-9f1465d6276c",
        "colab": {
          "base_uri": "https://localhost:8080/",
          "height": 353
        }
      },
      "cell_type": "code",
      "source": [
        "#Confusion_Matrices\n",
        "y_pred_train=clf.predict(train_tfidf)\n",
        "print(\"Confusion_Matrices Report for Train Data\")\n",
        "print(metrics.classification_report(y_train,y_pred_train))\n",
        "\n",
        "y_pred=clf.predict(test_tfidf)\n",
        "print(\"Confusion_Matrices Report for Test Data\")\n",
        "print(metrics.classification_report(y_test,y_pred))"
      ],
      "execution_count": 71,
      "outputs": [
        {
          "output_type": "stream",
          "text": [
            "Confusion_Matrices Report for Train Data\n",
            "              precision    recall  f1-score   support\n",
            "\n",
            "           0       0.97      0.37      0.54      6819\n",
            "           1       0.91      1.00      0.95     42181\n",
            "\n",
            "   micro avg       0.91      0.91      0.91     49000\n",
            "   macro avg       0.94      0.68      0.74     49000\n",
            "weighted avg       0.92      0.91      0.89     49000\n",
            "\n",
            "Confusion_Matrices Report for Test Data\n",
            "              precision    recall  f1-score   support\n",
            "\n",
            "           0       0.89      0.27      0.42      5268\n",
            "           1       0.87      0.99      0.92     24732\n",
            "\n",
            "   micro avg       0.87      0.87      0.87     30000\n",
            "   macro avg       0.88      0.63      0.67     30000\n",
            "weighted avg       0.87      0.87      0.84     30000\n",
            "\n"
          ],
          "name": "stdout"
        }
      ]
    },
    {
      "metadata": {
        "id": "iCG6E8ODpGDu",
        "colab_type": "code",
        "outputId": "7e4e25bc-31aa-4098-a460-ffc0a0831f80",
        "colab": {
          "base_uri": "https://localhost:8080/",
          "height": 297
        }
      },
      "cell_type": "code",
      "source": [
        "cnf_matrix = confusion_matrix(y_test,y_pred)\n",
        "cnf_matrix_train = confusion_matrix(y_train,y_pred_train)\n",
        "df_cm = pd.DataFrame(cnf_matrix, index = [i for i in [0,1]],\n",
        "                  columns = [i for i in [0,1]])\n",
        "df_cm_train = pd.DataFrame(cnf_matrix_train, index = [i for i in [0,1]],\n",
        "                  columns = [i for i in [0,1]])\n",
        "ax = sns.heatmap(df_cm,annot=True, fmt=\".2f\")\n",
        "ax.set_title(\"Confusion Matrices for test Data\")"
      ],
      "execution_count": 72,
      "outputs": [
        {
          "output_type": "execute_result",
          "data": {
            "text/plain": [
              "Text(0.5, 1.0, 'Confusion Matrices for test Data')"
            ]
          },
          "metadata": {
            "tags": []
          },
          "execution_count": 72
        },
        {
          "output_type": "display_data",
          "data": {
            "image/png": "[encoded data removed]",
            "text/plain": [
              "<Figure size 432x288 with 2 Axes>"
            ]
          },
          "metadata": {
            "tags": []
          }
        }
      ]
    },
    {
      "metadata": {
        "id": "Lv8l53HCpSTi",
        "colab_type": "code",
        "outputId": "414fa726-8d27-4a1f-c29b-9b6ceca3b1d6",
        "colab": {
          "base_uri": "https://localhost:8080/",
          "height": 282
        }
      },
      "cell_type": "code",
      "source": [
        "print(\"Confusion Matrices for Train Data\")\n",
        "ax_train = sns.heatmap(df_cm_train,annot=True, fmt=\".2f\")"
      ],
      "execution_count": 73,
      "outputs": [
        {
          "output_type": "stream",
          "text": [
            "Confusion Matrices for Train Data\n"
          ],
          "name": "stdout"
        },
        {
          "output_type": "display_data",
          "data": {
            "image/png": "[encoded data removed]",
            "text/plain": [
              "<Figure size 432x288 with 2 Axes>"
            ]
          },
          "metadata": {
            "tags": []
          }
        }
      ]
    },
    {
      "metadata": {
        "id": "Cxk7DpEGpcO7",
        "colab_type": "text"
      },
      "cell_type": "markdown",
      "source": [
        "**Top 20 Features**"
      ]
    },
    {
      "metadata": {
        "id": "FugPnUespbLO",
        "colab_type": "code",
        "outputId": "c756862f-6f56-4a82-d4ad-f600ce811f6e",
        "colab": {
          "base_uri": "https://localhost:8080/",
          "height": 54
        }
      },
      "cell_type": "code",
      "source": [
        "feature_names=tfidf_vector.get_feature_names()\n",
        "a=clf.feature_importances_\n",
        "top =zip( feature_names,a)\n",
        "top=list(top)\n",
        "top.sort(reverse=True,key=lambda x: x[1])\n",
        "top_20_features_names=top[0:20]\n",
        "#top_20_features_vlues=top[1][0:20]\n",
        "for i in range(1,50):\n",
        "  print(top[i][0],end=\"\\t\")"
      ],
      "execution_count": 74,
      "outputs": [
        {
          "output_type": "stream",
          "text": [
            "like\tgreat\tgood\twould\tdisappointed\ttaste\tproduct\tbest\tone\tlove\tamazon\tunfortunately\tthought\tterrible\tfind\thowever\tdelicious\tmoney\tno\tbad\tlittle\tawful\tflavor\treally\teven\tloves\treviews\tget\ttry\tmuch\ttried\taway\tdate\thorrible\topened\tperfect\tprice\twell\tbuy\tdisappointment\tbought\tcould\tdisappointing\tmake\tworst\treceived\tuse\twaste\tday\t"
          ],
          "name": "stdout"
        }
      ]
    },
    {
      "metadata": {
        "id": "WU_cOA0cp0KJ",
        "colab_type": "code",
        "outputId": "de13290d-d010-4823-df41-68427883fc87",
        "colab": {
          "base_uri": "https://localhost:8080/",
          "height": 470
        }
      },
      "cell_type": "code",
      "source": [
        "feature_dict={}\n",
        "for f,v in top_20_features_names:\n",
        "  feature_dict[f]=v\n",
        "from wordcloud import WordCloud\n",
        "wordcloud=WordCloud(background_color='black',width=1600,height=800).fit_words(feature_dict)\n",
        "fig=plt.figure(figsize=(15,15))\n",
        "plt.imshow(wordcloud)\n",
        "plt.axis('off')\n",
        "fig.savefig(\"feature4.png\")\n",
        "plt.show() \n",
        "from google.colab import files\n",
        "files.download('feature4.png')"
      ],
      "execution_count": 75,
      "outputs": [
        {
          "output_type": "display_data",
          "data": {
            "image/png": "[encoded data removed]",
            "text/plain": [
              "<Figure size 1080x1080 with 1 Axes>"
            ]
          },
          "metadata": {
            "tags": []
          }
        }
      ]
    },
    {
      "metadata": {
        "id": "y1BfBrnSqsRj",
        "colab_type": "text"
      },
      "cell_type": "markdown",
      "source": [
        "# 5.2.3 XGBoost on Word2Vec"
      ]
    },
    {
      "metadata": {
        "id": "6-x_5p0fqviv",
        "colab_type": "code",
        "colab": {}
      },
      "cell_type": "code",
      "source": [
        "y_train=final_sorted_time['Score'][0:49000]\n",
        "y_cv=final_sorted_time['Score'][49000:70000]\n",
        "y_test=final_sorted_time['Score'][70000:100000]"
      ],
      "execution_count": 0,
      "outputs": []
    },
    {
      "metadata": {
        "id": "h9IfL6dIH_cI",
        "colab_type": "code",
        "colab": {}
      },
      "cell_type": "code",
      "source": [
        "sent_vectors=np.matrix(sent_vectors)\n",
        "sent_vectors_cv=np.matrix(sent_vectors_cv)\n",
        "sent_vectors_test=np.matrix(sent_vectors_test)\n"
      ],
      "execution_count": 0,
      "outputs": []
    },
    {
      "metadata": {
        "id": "NvWx1sKJq98L",
        "colab_type": "code",
        "outputId": "a9d83491-6385-4d48-b393-6182893f2d9f",
        "colab": {
          "base_uri": "https://localhost:8080/",
          "height": 1361
        }
      },
      "cell_type": "code",
      "source": [
        "#n_estimators\n",
        "N=[5,10,50,100,500]\n",
        "Depth=[2,3,5,8,10]\n",
        "AUC_training=[]\n",
        "AUC_cv=[]\n",
        "for d in Depth:\n",
        "  print(\"========For d= \",d,\"=============\")\n",
        "  for n in N:\n",
        "    print(\" ----n = \",n,\"-----\")\n",
        "    clf=xgb.XGBClassifier(n_estimators=n,max_depth=d )\n",
        "    clf.fit(sent_vectors,y_train)\n",
        "   \n",
        "    \n",
        "    #Training Data\n",
        "    y_predict_training=clf.predict_proba(sent_vectors)[:,1]\n",
        "    auc=roc_auc_score(y_train,y_predict_training)\n",
        "    AUC_training.append(auc)\n",
        "    print(\"Train AUC = \",auc)\n",
        "    \n",
        "    #CV Curve\n",
        "    y_predict_cv=clf.predict_proba(sent_vectors_cv)[:,1]\n",
        "    auc=roc_auc_score(y_cv,y_predict_cv)\n",
        "    AUC_cv.append(auc)\n",
        "    print(\"Test AUC = \",auc)"
      ],
      "execution_count": 81,
      "outputs": [
        {
          "output_type": "stream",
          "text": [
            "========For d=  2 =============\n",
            " ----n =  5 -----\n",
            "Train AUC =  0.7585805619654478\n",
            "Test AUC =  0.6576876007834026\n",
            " ----n =  10 -----\n",
            "Train AUC =  0.799748488902873\n",
            "Test AUC =  0.6761623442174404\n",
            " ----n =  50 -----\n",
            "Train AUC =  0.8660197718656982\n",
            "Test AUC =  0.7391574617658753\n",
            " ----n =  100 -----\n",
            "Train AUC =  0.8910332666151515\n",
            "Test AUC =  0.7420721728290949\n",
            " ----n =  500 -----\n",
            "Train AUC =  0.9209617424005103\n",
            "Test AUC =  0.7649293820433258\n",
            "========For d=  3 =============\n",
            " ----n =  5 -----\n",
            "Train AUC =  0.7925582013774193\n",
            "Test AUC =  0.6663199897810085\n",
            " ----n =  10 -----\n",
            "Train AUC =  0.815745068479615\n",
            "Test AUC =  0.6858906239551261\n",
            " ----n =  50 -----\n",
            "Train AUC =  0.8868388289394777\n",
            "Test AUC =  0.7445679132474889\n",
            " ----n =  100 -----\n",
            "Train AUC =  0.9076229333944724\n",
            "Test AUC =  0.749503558027014\n",
            " ----n =  500 -----\n",
            "Train AUC =  0.94257378603516\n",
            "Test AUC =  0.7668376665941887\n",
            "========For d=  5 =============\n",
            " ----n =  5 -----\n",
            "Train AUC =  0.841233137986316\n",
            "Test AUC =  0.6873835577547209\n",
            " ----n =  10 -----\n",
            "Train AUC =  0.8581050818854836\n",
            "Test AUC =  0.7164226722262466\n",
            " ----n =  50 -----\n",
            "Train AUC =  0.9196131418356063\n",
            "Test AUC =  0.7600065990979897\n",
            " ----n =  100 -----\n",
            "Train AUC =  0.9406913753503132\n",
            "Test AUC =  0.7679654075924064\n",
            " ----n =  500 -----\n",
            "Train AUC =  0.9874108218446265\n",
            "Test AUC =  0.7705651879161225\n",
            "========For d=  8 =============\n",
            " ----n =  5 -----\n",
            "Train AUC =  0.9085631513649621\n",
            "Test AUC =  0.6923490986905516\n",
            " ----n =  10 -----\n",
            "Train AUC =  0.9293664087494726\n",
            "Test AUC =  0.7260971981463262\n",
            " ----n =  50 -----\n",
            "Train AUC =  0.9767893890364634\n",
            "Test AUC =  0.7561866904041987\n",
            " ----n =  100 -----\n",
            "Train AUC =  0.9892367054862721\n",
            "Test AUC =  0.7614723836959032\n",
            " ----n =  500 -----\n",
            "Train AUC =  0.9999806315174565\n",
            "Test AUC =  0.7535925481447846\n",
            "========For d=  10 =============\n",
            " ----n =  5 -----\n",
            "Train AUC =  0.949036983646329\n",
            "Test AUC =  0.6694886459876243\n",
            " ----n =  10 -----\n",
            "Train AUC =  0.9698455672766222\n",
            "Test AUC =  0.6976841971224249\n",
            " ----n =  50 -----\n",
            "Train AUC =  0.9955719723754611\n",
            "Test AUC =  0.7382367514498595\n",
            " ----n =  100 -----\n",
            "Train AUC =  0.9991246843508388\n",
            "Test AUC =  0.7399593402663905\n",
            " ----n =  500 -----\n",
            "Train AUC =  0.9999954003765203\n",
            "Test AUC =  0.7418425418380009\n"
          ],
          "name": "stdout"
        }
      ]
    },
    {
      "metadata": {
        "id": "hUyeFaLVrXdV",
        "colab_type": "text"
      },
      "cell_type": "markdown",
      "source": [
        "**Heatmap Representation**"
      ]
    },
    {
      "metadata": {
        "id": "kTpQEYQfrWSR",
        "colab_type": "code",
        "outputId": "ade8e50c-226e-4ef9-c58a-abc8828b3fd0",
        "colab": {
          "base_uri": "https://localhost:8080/",
          "height": 280
        }
      },
      "cell_type": "code",
      "source": [
        "AUC_cv_matrices=[AUC_cv[0:5],AUC_cv[5:10],AUC_cv[10:15],AUC_cv[15:20],AUC_cv[20:25]]\n",
        "AUC_training_matrices=[AUC_training[0:5],AUC_training[5:10],AUC_training[10:15],AUC_training[15:20],AUC_training[20:25]]\n",
        "df_cv = pd.DataFrame(AUC_cv_matrices, index = [i for i in N],\n",
        "                  columns = [i for i in Depth])\n",
        "df_training = pd.DataFrame(AUC_training_matrices, index = [i for i in N],\n",
        "                  columns = [i for i in Depth])\n",
        "ax = sns.heatmap(df_training,annot=True, fmt=\".2f\")\n",
        "ax.set_title(\"Train AUC Representation \")\n",
        "ax.collections[0].colorbar.set_label(\"AUC\")"
      ],
      "execution_count": 82,
      "outputs": [
        {
          "output_type": "display_data",
          "data": {
            "image/png": "[encoded data removed]",
            "text/plain": [
              "<Figure size 432x288 with 2 Axes>"
            ]
          },
          "metadata": {
            "tags": []
          }
        }
      ]
    },
    {
      "metadata": {
        "id": "5KyVeLShrgUu",
        "colab_type": "code",
        "outputId": "4350043b-1705-41be-9ec6-a88ec3f02158",
        "colab": {
          "base_uri": "https://localhost:8080/",
          "height": 280
        }
      },
      "cell_type": "code",
      "source": [
        "ax = sns.heatmap(df_cv,annot=True, fmt=\".2f\")\n",
        "ax.set_title(\"CV AUC Representation \")\n",
        "ax.collections[0].colorbar.set_label(\"AUC\")"
      ],
      "execution_count": 83,
      "outputs": [
        {
          "output_type": "display_data",
          "data": {
            "image/png": "[encoded data removed]",
            "text/plain": [
              "<Figure size 432x288 with 2 Axes>"
            ]
          },
          "metadata": {
            "tags": []
          }
        }
      ]
    },
    {
      "metadata": {
        "id": "QHVbJ4BHrolv",
        "colab_type": "text"
      },
      "cell_type": "markdown",
      "source": [
        "**observation:** Optimal value of n_estimators=50, max_depth=8"
      ]
    },
    {
      "metadata": {
        "id": "1ObyJqu4rpkI",
        "colab_type": "code",
        "outputId": "7c71d53d-9ee6-4735-daad-40ed65f87e42",
        "colab": {
          "base_uri": "https://localhost:8080/",
          "height": 327
        }
      },
      "cell_type": "code",
      "source": [
        "clf=xgb.XGBClassifier(n_estimators=50,max_depth=8 )\n",
        "clf.fit(sent_vectors,y_train)\n",
        "\n",
        "#Train Curve\n",
        "y_pred_train=clf.predict_proba(sent_vectors)[:,1]\n",
        "fpr_train, tpr_train, thresholds_train = roc_curve(y_train,y_pred_train)\n",
        "roc_auc_train = metrics.auc(fpr_train, tpr_train)\n",
        "\n",
        "#Test Curve\n",
        "y_pred=clf.predict_proba(sent_vectors_test)[:,1]\n",
        "fpr, tpr, thresholds = roc_curve(y_test,y_pred)\n",
        "roc_auc = metrics.auc(fpr, tpr)\n",
        "\n",
        "#Drawing ROC curve\n",
        "print('Train AUC = ',metrics.auc(fpr_train, tpr_train))\n",
        "print('Test AUC = ',metrics.auc(fpr, tpr))\n",
        "plt.figure()\n",
        "plt.plot(fpr, tpr, color='darkorange', lw=1, label=' Test ROC curve (area = %0.2f)' % roc_auc)\n",
        "plt.plot(fpr_train, tpr_train, lw=1, label='Train ROC curve (area = %0.2f)' % roc_auc_train)\n",
        "\n",
        "plt.plot([0, 1], [0, 1], color='navy', lw=1, linestyle='--')\n",
        "plt.xlim([0.0, 1.0])\n",
        "plt.ylim([0.0, 1.05])\n",
        "plt.xlabel('False Positive Rate')\n",
        "plt.ylabel('True Positive Rate')\n",
        "plt.title('Receiver operating characteristic')\n",
        "plt.legend(loc=\"lower right\")\n",
        "plt.show()"
      ],
      "execution_count": 84,
      "outputs": [
        {
          "output_type": "stream",
          "text": [
            "Train AUC =  0.9767893890364634\n",
            "Test AUC =  0.7329069331663681\n"
          ],
          "name": "stdout"
        },
        {
          "output_type": "display_data",
          "data": {
            "image/png": "[encoded data removed]",
            "text/plain": [
              "<Figure size 432x288 with 1 Axes>"
            ]
          },
          "metadata": {
            "tags": []
          }
        }
      ]
    },
    {
      "metadata": {
        "id": "wgDVevcTsDK2",
        "colab_type": "code",
        "outputId": "3546c82f-2294-4e4a-c096-7cd9545f9dcb",
        "colab": {
          "base_uri": "https://localhost:8080/",
          "height": 353
        }
      },
      "cell_type": "code",
      "source": [
        "#Confusion_Matrices\n",
        "y_pred_train=clf.predict(sent_vectors)\n",
        "print(\"Confusion_Matrices Report for Train Data\")\n",
        "print(metrics.classification_report(y_train,y_pred_train))\n",
        "\n",
        "y_pred=clf.predict(sent_vectors_test)\n",
        "print(\"Confusion_Matrices Report for Test Data\")\n",
        "print(metrics.classification_report(y_test,y_pred))"
      ],
      "execution_count": 85,
      "outputs": [
        {
          "output_type": "stream",
          "text": [
            "Confusion_Matrices Report for Train Data\n",
            "              precision    recall  f1-score   support\n",
            "\n",
            "           0       0.91      0.61      0.73      6819\n",
            "           1       0.94      0.99      0.96     42181\n",
            "\n",
            "   micro avg       0.94      0.94      0.94     49000\n",
            "   macro avg       0.92      0.80      0.85     49000\n",
            "weighted avg       0.94      0.94      0.93     49000\n",
            "\n",
            "Confusion_Matrices Report for Test Data\n",
            "              precision    recall  f1-score   support\n",
            "\n",
            "           0       0.72      0.06      0.11      5268\n",
            "           1       0.83      1.00      0.91     24732\n",
            "\n",
            "   micro avg       0.83      0.83      0.83     30000\n",
            "   macro avg       0.78      0.53      0.51     30000\n",
            "weighted avg       0.81      0.83      0.77     30000\n",
            "\n"
          ],
          "name": "stdout"
        }
      ]
    },
    {
      "metadata": {
        "id": "RxpEDwWzsTY2",
        "colab_type": "code",
        "colab": {}
      },
      "cell_type": "code",
      "source": [
        "cnf_matrix = confusion_matrix(y_test,y_pred)\n",
        "cnf_matrix_train = confusion_matrix(y_train,y_pred_train)\n",
        "df_cm = pd.DataFrame(cnf_matrix, index = [i for i in [0,1]],\n",
        "                  columns = [i for i in [0,1]])\n",
        "df_cm_train = pd.DataFrame(cnf_matrix_train, index = [i for i in [0,1]],\n",
        "                  columns = [i for i in [0,1]])"
      ],
      "execution_count": 0,
      "outputs": []
    },
    {
      "metadata": {
        "id": "WS0tILIbwhY9",
        "colab_type": "code",
        "outputId": "68a34ddf-4f94-4b13-b154-3afec3404e00",
        "colab": {
          "base_uri": "https://localhost:8080/",
          "height": 297
        }
      },
      "cell_type": "code",
      "source": [
        "ax = sns.heatmap(df_cm,annot=True, fmt=\".2f\")\n",
        "ax.set_title(\"Confusion Matrices for test Data\")"
      ],
      "execution_count": 87,
      "outputs": [
        {
          "output_type": "execute_result",
          "data": {
            "text/plain": [
              "Text(0.5, 1.0, 'Confusion Matrices for test Data')"
            ]
          },
          "metadata": {
            "tags": []
          },
          "execution_count": 87
        },
        {
          "output_type": "display_data",
          "data": {
            "image/png": "[encoded data removed]",
            "text/plain": [
              "<Figure size 432x288 with 2 Axes>"
            ]
          },
          "metadata": {
            "tags": []
          }
        }
      ]
    },
    {
      "metadata": {
        "id": "tVV7wWUzsYfF",
        "colab_type": "code",
        "outputId": "4620212d-0306-41c8-8078-0dd8de37365e",
        "colab": {
          "base_uri": "https://localhost:8080/",
          "height": 282
        }
      },
      "cell_type": "code",
      "source": [
        "ax_train = sns.heatmap(df_cm_train,annot=True, fmt=\".2f\")\n",
        "ax.set_title(\"Confusion Matrices for Train Data\")"
      ],
      "execution_count": 88,
      "outputs": [
        {
          "output_type": "execute_result",
          "data": {
            "text/plain": [
              "Text(0.5, 1.0, 'Confusion Matrices for Train Data')"
            ]
          },
          "metadata": {
            "tags": []
          },
          "execution_count": 88
        },
        {
          "output_type": "display_data",
          "data": {
            "image/png": "[encoded data removed]",
            "text/plain": [
              "<Figure size 432x288 with 2 Axes>"
            ]
          },
          "metadata": {
            "tags": []
          }
        }
      ]
    },
    {
      "metadata": {
        "id": "MHkwjzauus-V",
        "colab_type": "text"
      },
      "cell_type": "markdown",
      "source": [
        "# 5.2.4 XGBoost on TFIDF Word2Vec\n"
      ]
    },
    {
      "metadata": {
        "id": "UU_O1pptvRLJ",
        "colab_type": "code",
        "colab": {}
      },
      "cell_type": "code",
      "source": [
        "y_train=final_sorted_time['Score'][0:49000]\n",
        "y_cv=final_sorted_time['Score'][49000:70000]\n",
        "y_test=final_sorted_time['Score'][70000:100000]"
      ],
      "execution_count": 0,
      "outputs": []
    },
    {
      "metadata": {
        "id": "LnbLbsCuIftL",
        "colab_type": "code",
        "colab": {}
      },
      "cell_type": "code",
      "source": [
        "tfidf_sent_vectors_train=np.matrix(tfidf_sent_vectors_train)\n",
        "tfidf_sent_vectors_cv=np.matrix(tfidf_sent_vectors_cv)\n",
        "tfidf_sent_vectors_test=np.matrix(tfidf_sent_vectors_test)\n"
      ],
      "execution_count": 0,
      "outputs": []
    },
    {
      "metadata": {
        "id": "-T_CG5bgvVYM",
        "colab_type": "code",
        "outputId": "c9af1c4c-49b2-4db1-fe21-05be632b2eee",
        "colab": {
          "base_uri": "https://localhost:8080/",
          "height": 1361
        }
      },
      "cell_type": "code",
      "source": [
        "#n_estimators\n",
        "N=[5,10,50,100,500]\n",
        "Depth=[2,3,5,8,10]\n",
        "AUC_training=[]\n",
        "AUC_cv=[]\n",
        "for d in Depth:\n",
        "  print(\"========For d= \",d,\"=============\")\n",
        "  for n in N:\n",
        "    print(\" ----n = \",n,\"-----\")\n",
        "    clf=xgb.XGBClassifier(n_estimators=n,max_depth=d, )\n",
        "    clf.fit(tfidf_sent_vectors_train,y_train)\n",
        "   \n",
        "    \n",
        "    #Training Data\n",
        "    y_predict_training=clf.predict_proba(tfidf_sent_vectors_train)[:,1]\n",
        "    auc=roc_auc_score(y_train,y_predict_training)\n",
        "    AUC_training.append(auc)\n",
        "    print(\"Train AUC = \",auc)\n",
        "    \n",
        "    #CV Curve\n",
        "    y_predict_cv=clf.predict_proba(tfidf_sent_vectors_cv)[:,1]\n",
        "    auc=roc_auc_score(y_cv,y_predict_cv)\n",
        "    AUC_cv.append(auc)\n",
        "    print(\"Test AUC = \",auc)"
      ],
      "execution_count": 91,
      "outputs": [
        {
          "output_type": "stream",
          "text": [
            "========For d=  2 =============\n",
            " ----n =  5 -----\n",
            "Train AUC =  0.7286033225225493\n",
            "Test AUC =  0.6802003514980712\n",
            " ----n =  10 -----\n",
            "Train AUC =  0.7510302939302989\n",
            "Test AUC =  0.6676706665689617\n",
            " ----n =  50 -----\n",
            "Train AUC =  0.8307928548996901\n",
            "Test AUC =  0.7178571911948493\n",
            " ----n =  100 -----\n",
            "Train AUC =  0.8598420238282121\n",
            "Test AUC =  0.7265278133160027\n",
            " ----n =  500 -----\n",
            "Train AUC =  0.901435641920515\n",
            "Test AUC =  0.7428086770129951\n",
            "========For d=  3 =============\n",
            " ----n =  5 -----\n",
            "Train AUC =  0.7683835190672073\n",
            "Test AUC =  0.6577536558322131\n",
            " ----n =  10 -----\n",
            "Train AUC =  0.7840468536630207\n",
            "Test AUC =  0.6830833084065221\n",
            " ----n =  50 -----\n",
            "Train AUC =  0.8579762854747308\n",
            "Test AUC =  0.719888856454002\n",
            " ----n =  100 -----\n",
            "Train AUC =  0.8844588888382572\n",
            "Test AUC =  0.7273133462352106\n",
            " ----n =  500 -----\n",
            "Train AUC =  0.9300011515746676\n",
            "Test AUC =  0.7445380651428677\n",
            "========For d=  5 =============\n",
            " ----n =  5 -----\n",
            "Train AUC =  0.8153067361826571\n",
            "Test AUC =  0.6878644510034994\n",
            " ----n =  10 -----\n",
            "Train AUC =  0.8347816862768294\n",
            "Test AUC =  0.6997623523862265\n",
            " ----n =  50 -----\n",
            "Train AUC =  0.9017647861789234\n",
            "Test AUC =  0.730124874314813\n",
            " ----n =  100 -----\n",
            "Train AUC =  0.9280778675160958\n",
            "Test AUC =  0.7308251955803662\n",
            " ----n =  500 -----\n",
            "Train AUC =  0.9836947345808478\n",
            "Test AUC =  0.7288037573213748\n",
            "========For d=  8 =============\n",
            " ----n =  5 -----\n",
            "Train AUC =  0.8953653435907092\n",
            "Test AUC =  0.6817805551651357\n",
            " ----n =  10 -----\n",
            "Train AUC =  0.9179865091548378\n",
            "Test AUC =  0.6981006050107497\n",
            " ----n =  50 -----\n",
            "Train AUC =  0.9758231326078854\n",
            "Test AUC =  0.7126340772134508\n",
            " ----n =  100 -----\n",
            "Train AUC =  0.9899643638347508\n",
            "Test AUC =  0.7196536354502903\n",
            " ----n =  500 -----\n",
            "Train AUC =  0.9999781909009164\n",
            "Test AUC =  0.7254636126617791\n",
            "========For d=  10 =============\n",
            " ----n =  5 -----\n",
            "Train AUC =  0.9420174488854847\n",
            "Test AUC =  0.6609554196493749\n",
            " ----n =  10 -----\n",
            "Train AUC =  0.9652749374175682\n",
            "Test AUC =  0.6839317249633705\n",
            " ----n =  50 -----\n",
            "Train AUC =  0.9965029250424186\n",
            "Test AUC =  0.7318368437090935\n",
            " ----n =  100 -----\n",
            "Train AUC =  0.9993926862975885\n",
            "Test AUC =  0.7348704106136561\n",
            " ----n =  500 -----\n",
            "Train AUC =  0.9999954003765203\n",
            "Test AUC =  0.7162078411539452\n"
          ],
          "name": "stdout"
        }
      ]
    },
    {
      "metadata": {
        "id": "YDWfnd0qvsNP",
        "colab_type": "text"
      },
      "cell_type": "markdown",
      "source": [
        "** Representation in Seaborn Heatmap**"
      ]
    },
    {
      "metadata": {
        "id": "gTRf3LPEvrAk",
        "colab_type": "code",
        "outputId": "38d86144-348d-4552-d650-5a3a50e5057a",
        "colab": {
          "base_uri": "https://localhost:8080/",
          "height": 280
        }
      },
      "cell_type": "code",
      "source": [
        "AUC_cv_matrices=[AUC_cv[0:5],AUC_cv[5:10],AUC_cv[10:15],AUC_cv[15:20],AUC_cv[20:25]]\n",
        "AUC_training_matrices=[AUC_training[0:5],AUC_training[5:10],AUC_training[10:15],AUC_training[15:20],AUC_training[20:25]]\n",
        "df_cv = pd.DataFrame(AUC_cv_matrices, index = [i for i in N],\n",
        "                  columns = [i for i in Depth])\n",
        "df_training = pd.DataFrame(AUC_training_matrices, index = [i for i in N],\n",
        "                  columns = [i for i in Depth])\n",
        "ax = sns.heatmap(df_training,annot=True, fmt=\".2f\")\n",
        "ax.set_title(\"Train AUC Representation \")\n",
        "ax.collections[0].colorbar.set_label(\"AUC\")"
      ],
      "execution_count": 92,
      "outputs": [
        {
          "output_type": "display_data",
          "data": {
            "image/png": "[encoded data removed]",
            "text/plain": [
              "<Figure size 432x288 with 2 Axes>"
            ]
          },
          "metadata": {
            "tags": []
          }
        }
      ]
    },
    {
      "metadata": {
        "id": "eGQ9f-6Ov_Ag",
        "colab_type": "code",
        "outputId": "4bf92d6c-bdda-454f-821f-3a71e3858988",
        "colab": {
          "base_uri": "https://localhost:8080/",
          "height": 280
        }
      },
      "cell_type": "code",
      "source": [
        "ax = sns.heatmap(df_cv,annot=True, fmt=\".2f\")\n",
        "ax.set_title(\"CV AUC Representation \")\n",
        "ax.collections[0].colorbar.set_label(\"AUC\")"
      ],
      "execution_count": 93,
      "outputs": [
        {
          "output_type": "display_data",
          "data": {
            "image/png": "[encoded data removed]",
            "text/plain": [
              "<Figure size 432x288 with 2 Axes>"
            ]
          },
          "metadata": {
            "tags": []
          }
        }
      ]
    },
    {
      "metadata": {
        "id": "u0dmnTjbwNoD",
        "colab_type": "text"
      },
      "cell_type": "markdown",
      "source": [
        "**observation**: Optimal value of n_estimators=10, max_depth10\n",
        "\n"
      ]
    },
    {
      "metadata": {
        "id": "mHgxmExlwPjM",
        "colab_type": "code",
        "outputId": "b59acf42-f6cc-4331-e1c9-9b4b1c8b87ba",
        "colab": {
          "base_uri": "https://localhost:8080/",
          "height": 327
        }
      },
      "cell_type": "code",
      "source": [
        "clf=xgb.XGBClassifier(n_estimators=10,max_depth=10 )\n",
        "clf.fit(tfidf_sent_vectors_train,y_train)\n",
        "\n",
        "#Train Curve\n",
        "y_pred_train=clf.predict_proba(tfidf_sent_vectors_train)[:,1]\n",
        "fpr_train, tpr_train, thresholds_train = roc_curve(y_train,y_pred_train)\n",
        "roc_auc_train = metrics.auc(fpr_train, tpr_train)\n",
        "\n",
        "#Test Curve\n",
        "y_pred=clf.predict_proba(tfidf_sent_vectors_test)[:,1]\n",
        "fpr, tpr, thresholds = roc_curve(y_test,y_pred)\n",
        "roc_auc = metrics.auc(fpr, tpr)\n",
        "\n",
        "#Drawing ROC curve\n",
        "print('Train AUC = ',metrics.auc(fpr_train, tpr_train))\n",
        "print('Test AUC = ',metrics.auc(fpr, tpr))\n",
        "plt.figure()\n",
        "plt.plot(fpr, tpr, color='darkorange', lw=1, label=' Test ROC curve (area = %0.2f)' % roc_auc)\n",
        "plt.plot(fpr_train, tpr_train, lw=1, label='Train ROC curve (area = %0.2f)' % roc_auc_train)\n",
        "\n",
        "plt.plot([0, 1], [0, 1], color='navy', lw=1, linestyle='--')\n",
        "plt.xlim([0.0, 1.0])\n",
        "plt.ylim([0.0, 1.05])\n",
        "plt.xlabel('False Positive Rate')\n",
        "plt.ylabel('True Positive Rate')\n",
        "plt.title('Receiver operating characteristic')\n",
        "plt.legend(loc=\"lower right\")\n",
        "plt.show()"
      ],
      "execution_count": 95,
      "outputs": [
        {
          "output_type": "stream",
          "text": [
            "Train AUC =  0.9652749374175682\n",
            "Test AUC =  0.6668339496901086\n"
          ],
          "name": "stdout"
        },
        {
          "output_type": "display_data",
          "data": {
            "image/png": "[encoded data removed]",
            "text/plain": [
              "<Figure size 432x288 with 1 Axes>"
            ]
          },
          "metadata": {
            "tags": []
          }
        }
      ]
    },
    {
      "metadata": {
        "id": "kVF0JUuRxEHr",
        "colab_type": "code",
        "outputId": "3f0e61a3-91ab-4cf5-f809-7db9975a5d53",
        "colab": {
          "base_uri": "https://localhost:8080/",
          "height": 357
        }
      },
      "cell_type": "code",
      "source": [
        "#Confusion_Matrices Report\n",
        "y_pred_train=clf.predict(tfidf_sent_vectors_train)\n",
        "print(\"Confusion_Matrices Report for Train Data\")\n",
        "print(metrics.classification_report(y_train,y_pred_train))\n",
        "\n",
        "y_pred=clf.predict(tfidf_sent_vectors_test)\n",
        "print(\"Confusion_Matrices Report for Test Data\")\n",
        "print(metrics.classification_report(y_test,y_pred))"
      ],
      "execution_count": 96,
      "outputs": [
        {
          "output_type": "stream",
          "text": [
            "Confusion_Matrices Report for Train Data\n",
            "              precision    recall  f1-score   support\n",
            "\n",
            "           0       0.94      0.51      0.66      6819\n",
            "           1       0.93      1.00      0.96     42181\n",
            "\n",
            "   micro avg       0.93      0.93      0.93     49000\n",
            "   macro avg       0.94      0.75      0.81     49000\n",
            "weighted avg       0.93      0.93      0.92     49000\n",
            "\n",
            "Confusion_Matrices Report for Test Data\n",
            "              precision    recall  f1-score   support\n",
            "\n",
            "           0       0.57      0.06      0.11      5268\n",
            "           1       0.83      0.99      0.90     24732\n",
            "\n",
            "   micro avg       0.83      0.83      0.83     30000\n",
            "   macro avg       0.70      0.53      0.51     30000\n",
            "weighted avg       0.79      0.83      0.76     30000\n",
            "\n"
          ],
          "name": "stdout"
        }
      ]
    },
    {
      "metadata": {
        "id": "5AmsEH1oxUX2",
        "colab_type": "code",
        "outputId": "e5164d47-711b-4ea0-84b3-7ae1a057fdfa",
        "colab": {
          "base_uri": "https://localhost:8080/",
          "height": 297
        }
      },
      "cell_type": "code",
      "source": [
        "cnf_matrix = confusion_matrix(y_test,y_pred)\n",
        "cnf_matrix_train = confusion_matrix(y_train,y_pred_train)\n",
        "df_cm = pd.DataFrame(cnf_matrix, index = [i for i in [0,1]],\n",
        "                  columns = [i for i in [0,1]])\n",
        "df_cm_train = pd.DataFrame(cnf_matrix_train, index = [i for i in [0,1]],\n",
        "                  columns = [i for i in [0,1]])\n",
        "ax = sns.heatmap(df_cm,annot=True, fmt=\".2f\")\n",
        "ax.set_title(\"Confusion Matrices for test Data\")"
      ],
      "execution_count": 97,
      "outputs": [
        {
          "output_type": "execute_result",
          "data": {
            "text/plain": [
              "Text(0.5, 1.0, 'Confusion Matrices for test Data')"
            ]
          },
          "metadata": {
            "tags": []
          },
          "execution_count": 97
        },
        {
          "output_type": "display_data",
          "data": {
            "image/png": "[encoded data removed]",
            "text/plain": [
              "<Figure size 432x288 with 2 Axes>"
            ]
          },
          "metadata": {
            "tags": []
          }
        }
      ]
    },
    {
      "metadata": {
        "id": "d1xRUH8Uxb23",
        "colab_type": "code",
        "outputId": "6ad20afc-8cb4-4ab7-d499-2c041d28ba3e",
        "colab": {
          "base_uri": "https://localhost:8080/",
          "height": 282
        }
      },
      "cell_type": "code",
      "source": [
        "ax_train = sns.heatmap(df_cm_train,annot=True, fmt=\".2f\")\n",
        "ax.set_title(\"Confusion Matrices for Train Data\")"
      ],
      "execution_count": 98,
      "outputs": [
        {
          "output_type": "execute_result",
          "data": {
            "text/plain": [
              "Text(0.5, 1.0, 'Confusion Matrices for Train Data')"
            ]
          },
          "metadata": {
            "tags": []
          },
          "execution_count": 98
        },
        {
          "output_type": "display_data",
          "data": {
            "image/png": "[encoded data removed]",
            "text/plain": [
              "<Figure size 432x288 with 2 Axes>"
            ]
          },
          "metadata": {
            "tags": []
          }
        }
      ]
    },
    {
      "metadata": {
        "id": "cwcUII7qQRby",
        "colab_type": "text"
      },
      "cell_type": "markdown",
      "source": [
        "# Conclusion table-2:"
      ]
    },
    {
      "metadata": {
        "id": "PZ2cHaNtQUlO",
        "colab_type": "code",
        "outputId": "43d3deef-f2f6-4993-969a-0960a2445933",
        "colab": {
          "base_uri": "https://localhost:8080/",
          "height": 153
        }
      },
      "cell_type": "code",
      "source": [
        "from prettytable import PrettyTable\n",
        "x = PrettyTable()\n",
        "x.field_names = [\"Vectorizer\", \"N_estimators\", \"Max_Depth\", \"AUC\"]\n",
        "x.add_row([\"BOWs\",50, 10, 0.89])\n",
        "x.add_row([\"TFIDF\",50, 10, 0.89])\n",
        "x.add_row([\"W2Vec\",50, 8, 0.73])\n",
        "x.add_row([\"TFIDFW2Vec\",10, 10, 0.66])\n",
        "print (x)"
      ],
      "execution_count": 99,
      "outputs": [
        {
          "output_type": "stream",
          "text": [
            "+------------+--------------+-----------+------+\n",
            "| Vectorizer | N_estimators | Max_Depth | AUC  |\n",
            "+------------+--------------+-----------+------+\n",
            "|    BOWs    |      50      |     10    | 0.89 |\n",
            "|   TFIDF    |      50      |     10    | 0.89 |\n",
            "|   W2Vec    |      50      |     8     | 0.73 |\n",
            "| TFIDFW2Vec |      10      |     10    | 0.66 |\n",
            "+------------+--------------+-----------+------+\n"
          ],
          "name": "stdout"
        }
      ]
    }
  ]
}