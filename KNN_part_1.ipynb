{
  "nbformat": 4,
  "nbformat_minor": 0,
  "metadata": {
    "colab": {
      "name": "KNN part-1.ipynb",
      "version": "0.3.2",
      "provenance": [],
      "collapsed_sections": [],
      "include_colab_link": true
    },
    "kernelspec": {
      "name": "python3",
      "display_name": "Python 3"
    }
  },
  "cells": [
    {
      "cell_type": "markdown",
      "metadata": {
        "id": "view-in-github",
        "colab_type": "text"
      },
      "source": [
        "<a href=\"https://colab.research.google.com/github/mitesh98/Amazon-Fine-Food-Review/blob/master/KNN_part_1.ipynb\" target=\"_parent\"><img src=\"https://colab.research.google.com/assets/colab-badge.svg\" alt=\"Open In Colab\"/></a>"
      ]
    },
    {
      "metadata": {
        "id": "FixL8YyBiP8t",
        "colab_type": "text"
      },
      "cell_type": "markdown",
      "source": [
        "# Amazon Fine Food Reviews Analysis\n",
        "Data Source: https://www.kaggle.com/snap/amazon-fine-food-reviews\n",
        "\n",
        "The Amazon Fine Food Reviews dataset consists of reviews of fine foods from Amazon.\n",
        "\n",
        "Number of reviews: 568,454\n",
        "\n",
        "Number of users: 256,059\n",
        "\n",
        "Number of products: 74,258\n",
        "\n",
        "Timespan: Oct 1999 - Oct 2012\n",
        "\n",
        "Number of Attributes/Columns in data: 10\n",
        "\n",
        "Attribute Information:\n",
        "\n",
        "Id\n",
        "\n",
        "ProductId - unique identifier for the product\n",
        "\n",
        "UserId - unqiue identifier for the user\n",
        "\n",
        "ProfileName\n",
        "\n",
        "HelpfulnessNumerator - number of users who found the review helpful\n",
        "\n",
        "HelpfulnessDenominator - number of users who indicated whether they found the review helpful or not\n",
        "\n",
        "Score - rating between 1 and 5\n",
        "\n",
        "Time - timestamp for the review\n",
        "\n",
        "Summary - brief summary of the review Text - text of the review\n",
        "\n",
        "Objective: Given a review, determine whether the review is positive (rating of 4 or 5) or negative (rating of 1 or 2).\n",
        "\n"
      ]
    },
    {
      "metadata": {
        "id": "7M-3VgYDiG7S",
        "colab_type": "code",
        "colab": {}
      },
      "cell_type": "code",
      "source": [
        "%matplotlib inline\n",
        "import pandas as pd\n",
        "import numpy as np\n",
        "import matplotlib.pyplot as plt\n",
        "import seaborn as sns\n",
        "\n",
        "from sklearn.feature_extraction.text import CountVectorizer\n",
        "from sklearn.feature_extraction.text import TfidfVectorizer\n",
        "\n",
        "import re\n",
        "import nltk\n",
        "\n",
        "from sklearn import metrics\n",
        "from sklearn.metrics import confusion_matrix\n",
        "\n",
        "import warnings\n",
        "warnings.filterwarnings(\"ignore\")\n",
        "\n",
        "import tqdm"
      ],
      "execution_count": 0,
      "outputs": []
    },
    {
      "metadata": {
        "id": "ml9K-nO6iety",
        "colab_type": "code",
        "colab": {
          "base_uri": "https://localhost:8080/",
          "height": 54
        },
        "outputId": "744c33c6-e1e7-4f93-9fce-065467b864ea"
      },
      "cell_type": "code",
      "source": [
        "from google.colab import drive\n",
        "drive.mount('/content/drive')"
      ],
      "execution_count": 105,
      "outputs": [
        {
          "output_type": "stream",
          "text": [
            "Drive already mounted at /content/drive; to attempt to forcibly remount, call drive.mount(\"/content/drive\", force_remount=True).\n"
          ],
          "name": "stdout"
        }
      ]
    },
    {
      "metadata": {
        "id": "E98-vAREii26",
        "colab_type": "code",
        "colab": {}
      },
      "cell_type": "code",
      "source": [
        "!cp \"/content/drive/My Drive/database.sqlite\" \"database.sqlite\""
      ],
      "execution_count": 0,
      "outputs": []
    },
    {
      "metadata": {
        "id": "hgLo0oLbiwW5",
        "colab_type": "text"
      },
      "cell_type": "markdown",
      "source": [
        "# 1. Reading Data"
      ]
    },
    {
      "metadata": {
        "id": "ExwFpuT1imto",
        "colab_type": "code",
        "colab": {}
      },
      "cell_type": "code",
      "source": [
        "import sqlite3\n",
        "con=sqlite3.connect(\"database.sqlite\")"
      ],
      "execution_count": 0,
      "outputs": []
    },
    {
      "metadata": {
        "id": "i5ZmnOsxiuQQ",
        "colab_type": "code",
        "colab": {
          "base_uri": "https://localhost:8080/",
          "height": 652
        },
        "outputId": "91c03873-93f3-4be1-f731-4c2d19e0f63c"
      },
      "cell_type": "code",
      "source": [
        "filtered_data=pd.read_sql_query(\"SELECT * FROM `Reviews` WHERE `Score` !=3\",con)\n",
        "filtered_data.shape\n",
        "filtered_data.head()"
      ],
      "execution_count": 108,
      "outputs": [
        {
          "output_type": "execute_result",
          "data": {
            "text/html": [
              "<div>\n",
              "<style scoped>\n",
              "    .dataframe tbody tr th:only-of-type {\n",
              "        vertical-align: middle;\n",
              "    }\n",
              "\n",
              "    .dataframe tbody tr th {\n",
              "        vertical-align: top;\n",
              "    }\n",
              "\n",
              "    .dataframe thead th {\n",
              "        text-align: right;\n",
              "    }\n",
              "</style>\n",
              "<table border=\"1\" class=\"dataframe\">\n",
              "  <thead>\n",
              "    <tr style=\"text-align: right;\">\n",
              "      <th></th>\n",
              "      <th>Id</th>\n",
              "      <th>ProductId</th>\n",
              "      <th>UserId</th>\n",
              "      <th>ProfileName</th>\n",
              "      <th>HelpfulnessNumerator</th>\n",
              "      <th>HelpfulnessDenominator</th>\n",
              "      <th>Score</th>\n",
              "      <th>Time</th>\n",
              "      <th>Summary</th>\n",
              "      <th>Text</th>\n",
              "    </tr>\n",
              "  </thead>\n",
              "  <tbody>\n",
              "    <tr>\n",
              "      <th>0</th>\n",
              "      <td>1</td>\n",
              "      <td>B001E4KFG0</td>\n",
              "      <td>A3SGXH7AUHU8GW</td>\n",
              "      <td>delmartian</td>\n",
              "      <td>1</td>\n",
              "      <td>1</td>\n",
              "      <td>5</td>\n",
              "      <td>1303862400</td>\n",
              "      <td>Good Quality Dog Food</td>\n",
              "      <td>I have bought several of the Vitality canned d...</td>\n",
              "    </tr>\n",
              "    <tr>\n",
              "      <th>1</th>\n",
              "      <td>2</td>\n",
              "      <td>B00813GRG4</td>\n",
              "      <td>A1D87F6ZCVE5NK</td>\n",
              "      <td>dll pa</td>\n",
              "      <td>0</td>\n",
              "      <td>0</td>\n",
              "      <td>1</td>\n",
              "      <td>1346976000</td>\n",
              "      <td>Not as Advertised</td>\n",
              "      <td>Product arrived labeled as Jumbo Salted Peanut...</td>\n",
              "    </tr>\n",
              "    <tr>\n",
              "      <th>2</th>\n",
              "      <td>3</td>\n",
              "      <td>B000LQOCH0</td>\n",
              "      <td>ABXLMWJIXXAIN</td>\n",
              "      <td>Natalia Corres \"Natalia Corres\"</td>\n",
              "      <td>1</td>\n",
              "      <td>1</td>\n",
              "      <td>4</td>\n",
              "      <td>1219017600</td>\n",
              "      <td>\"Delight\" says it all</td>\n",
              "      <td>This is a confection that has been around a fe...</td>\n",
              "    </tr>\n",
              "    <tr>\n",
              "      <th>3</th>\n",
              "      <td>4</td>\n",
              "      <td>B000UA0QIQ</td>\n",
              "      <td>A395BORC6FGVXV</td>\n",
              "      <td>Karl</td>\n",
              "      <td>3</td>\n",
              "      <td>3</td>\n",
              "      <td>2</td>\n",
              "      <td>1307923200</td>\n",
              "      <td>Cough Medicine</td>\n",
              "      <td>If you are looking for the secret ingredient i...</td>\n",
              "    </tr>\n",
              "    <tr>\n",
              "      <th>4</th>\n",
              "      <td>5</td>\n",
              "      <td>B006K2ZZ7K</td>\n",
              "      <td>A1UQRSCLF8GW1T</td>\n",
              "      <td>Michael D. Bigham \"M. Wassir\"</td>\n",
              "      <td>0</td>\n",
              "      <td>0</td>\n",
              "      <td>5</td>\n",
              "      <td>1350777600</td>\n",
              "      <td>Great taffy</td>\n",
              "      <td>Great taffy at a great price.  There was a wid...</td>\n",
              "    </tr>\n",
              "  </tbody>\n",
              "</table>\n",
              "</div>"
            ],
            "text/plain": [
              "   Id   ProductId          UserId                      ProfileName  \\\n",
              "0   1  B001E4KFG0  A3SGXH7AUHU8GW                       delmartian   \n",
              "1   2  B00813GRG4  A1D87F6ZCVE5NK                           dll pa   \n",
              "2   3  B000LQOCH0   ABXLMWJIXXAIN  Natalia Corres \"Natalia Corres\"   \n",
              "3   4  B000UA0QIQ  A395BORC6FGVXV                             Karl   \n",
              "4   5  B006K2ZZ7K  A1UQRSCLF8GW1T    Michael D. Bigham \"M. Wassir\"   \n",
              "\n",
              "   HelpfulnessNumerator  HelpfulnessDenominator  Score        Time  \\\n",
              "0                     1                       1      5  1303862400   \n",
              "1                     0                       0      1  1346976000   \n",
              "2                     1                       1      4  1219017600   \n",
              "3                     3                       3      2  1307923200   \n",
              "4                     0                       0      5  1350777600   \n",
              "\n",
              "                 Summary                                               Text  \n",
              "0  Good Quality Dog Food  I have bought several of the Vitality canned d...  \n",
              "1      Not as Advertised  Product arrived labeled as Jumbo Salted Peanut...  \n",
              "2  \"Delight\" says it all  This is a confection that has been around a fe...  \n",
              "3         Cough Medicine  If you are looking for the secret ingredient i...  \n",
              "4            Great taffy  Great taffy at a great price.  There was a wid...  "
            ]
          },
          "metadata": {
            "tags": []
          },
          "execution_count": 108
        }
      ]
    },
    {
      "metadata": {
        "id": "hAkqlYbKi3hN",
        "colab_type": "code",
        "colab": {}
      },
      "cell_type": "code",
      "source": [
        "# Give reviews with Score>3 a positive rating(1), and reviews with a score<3 a negative rating(0).\n",
        "def partition(x):\n",
        "    if x < 3:\n",
        "        return 0\n",
        "    return 1"
      ],
      "execution_count": 0,
      "outputs": []
    },
    {
      "metadata": {
        "id": "7s3vAZn6jIht",
        "colab_type": "code",
        "colab": {
          "base_uri": "https://localhost:8080/",
          "height": 652
        },
        "outputId": "b67b2038-48b6-4ab8-a407-b782fb61a3d0"
      },
      "cell_type": "code",
      "source": [
        "actual_score=filtered_data['Score']\n",
        "posnegative=actual_score.map(partition)\n",
        "filtered_data['Score']=posnegative\n",
        "filtered_data.head(5)"
      ],
      "execution_count": 110,
      "outputs": [
        {
          "output_type": "execute_result",
          "data": {
            "text/html": [
              "<div>\n",
              "<style scoped>\n",
              "    .dataframe tbody tr th:only-of-type {\n",
              "        vertical-align: middle;\n",
              "    }\n",
              "\n",
              "    .dataframe tbody tr th {\n",
              "        vertical-align: top;\n",
              "    }\n",
              "\n",
              "    .dataframe thead th {\n",
              "        text-align: right;\n",
              "    }\n",
              "</style>\n",
              "<table border=\"1\" class=\"dataframe\">\n",
              "  <thead>\n",
              "    <tr style=\"text-align: right;\">\n",
              "      <th></th>\n",
              "      <th>Id</th>\n",
              "      <th>ProductId</th>\n",
              "      <th>UserId</th>\n",
              "      <th>ProfileName</th>\n",
              "      <th>HelpfulnessNumerator</th>\n",
              "      <th>HelpfulnessDenominator</th>\n",
              "      <th>Score</th>\n",
              "      <th>Time</th>\n",
              "      <th>Summary</th>\n",
              "      <th>Text</th>\n",
              "    </tr>\n",
              "  </thead>\n",
              "  <tbody>\n",
              "    <tr>\n",
              "      <th>0</th>\n",
              "      <td>1</td>\n",
              "      <td>B001E4KFG0</td>\n",
              "      <td>A3SGXH7AUHU8GW</td>\n",
              "      <td>delmartian</td>\n",
              "      <td>1</td>\n",
              "      <td>1</td>\n",
              "      <td>1</td>\n",
              "      <td>1303862400</td>\n",
              "      <td>Good Quality Dog Food</td>\n",
              "      <td>I have bought several of the Vitality canned d...</td>\n",
              "    </tr>\n",
              "    <tr>\n",
              "      <th>1</th>\n",
              "      <td>2</td>\n",
              "      <td>B00813GRG4</td>\n",
              "      <td>A1D87F6ZCVE5NK</td>\n",
              "      <td>dll pa</td>\n",
              "      <td>0</td>\n",
              "      <td>0</td>\n",
              "      <td>0</td>\n",
              "      <td>1346976000</td>\n",
              "      <td>Not as Advertised</td>\n",
              "      <td>Product arrived labeled as Jumbo Salted Peanut...</td>\n",
              "    </tr>\n",
              "    <tr>\n",
              "      <th>2</th>\n",
              "      <td>3</td>\n",
              "      <td>B000LQOCH0</td>\n",
              "      <td>ABXLMWJIXXAIN</td>\n",
              "      <td>Natalia Corres \"Natalia Corres\"</td>\n",
              "      <td>1</td>\n",
              "      <td>1</td>\n",
              "      <td>1</td>\n",
              "      <td>1219017600</td>\n",
              "      <td>\"Delight\" says it all</td>\n",
              "      <td>This is a confection that has been around a fe...</td>\n",
              "    </tr>\n",
              "    <tr>\n",
              "      <th>3</th>\n",
              "      <td>4</td>\n",
              "      <td>B000UA0QIQ</td>\n",
              "      <td>A395BORC6FGVXV</td>\n",
              "      <td>Karl</td>\n",
              "      <td>3</td>\n",
              "      <td>3</td>\n",
              "      <td>0</td>\n",
              "      <td>1307923200</td>\n",
              "      <td>Cough Medicine</td>\n",
              "      <td>If you are looking for the secret ingredient i...</td>\n",
              "    </tr>\n",
              "    <tr>\n",
              "      <th>4</th>\n",
              "      <td>5</td>\n",
              "      <td>B006K2ZZ7K</td>\n",
              "      <td>A1UQRSCLF8GW1T</td>\n",
              "      <td>Michael D. Bigham \"M. Wassir\"</td>\n",
              "      <td>0</td>\n",
              "      <td>0</td>\n",
              "      <td>1</td>\n",
              "      <td>1350777600</td>\n",
              "      <td>Great taffy</td>\n",
              "      <td>Great taffy at a great price.  There was a wid...</td>\n",
              "    </tr>\n",
              "  </tbody>\n",
              "</table>\n",
              "</div>"
            ],
            "text/plain": [
              "   Id   ProductId          UserId                      ProfileName  \\\n",
              "0   1  B001E4KFG0  A3SGXH7AUHU8GW                       delmartian   \n",
              "1   2  B00813GRG4  A1D87F6ZCVE5NK                           dll pa   \n",
              "2   3  B000LQOCH0   ABXLMWJIXXAIN  Natalia Corres \"Natalia Corres\"   \n",
              "3   4  B000UA0QIQ  A395BORC6FGVXV                             Karl   \n",
              "4   5  B006K2ZZ7K  A1UQRSCLF8GW1T    Michael D. Bigham \"M. Wassir\"   \n",
              "\n",
              "   HelpfulnessNumerator  HelpfulnessDenominator  Score        Time  \\\n",
              "0                     1                       1      1  1303862400   \n",
              "1                     0                       0      0  1346976000   \n",
              "2                     1                       1      1  1219017600   \n",
              "3                     3                       3      0  1307923200   \n",
              "4                     0                       0      1  1350777600   \n",
              "\n",
              "                 Summary                                               Text  \n",
              "0  Good Quality Dog Food  I have bought several of the Vitality canned d...  \n",
              "1      Not as Advertised  Product arrived labeled as Jumbo Salted Peanut...  \n",
              "2  \"Delight\" says it all  This is a confection that has been around a fe...  \n",
              "3         Cough Medicine  If you are looking for the secret ingredient i...  \n",
              "4            Great taffy  Great taffy at a great price.  There was a wid...  "
            ]
          },
          "metadata": {
            "tags": []
          },
          "execution_count": 110
        }
      ]
    },
    {
      "metadata": {
        "id": "F3vL2wNyjOQX",
        "colab_type": "text"
      },
      "cell_type": "markdown",
      "source": [
        "# 2. Exploratory Data Analysis\n",
        "# 2.1 Data Cleaning: Deduplication\n",
        "It is observed (as shown in the table below) that the reviews data had many duplicate entries. Hence it was necessary to remove duplicates in order to get unbiased results for the analysis of the data."
      ]
    },
    {
      "metadata": {
        "id": "GWuQ9rWdjPY-",
        "colab_type": "code",
        "colab": {
          "base_uri": "https://localhost:8080/",
          "height": 34
        },
        "outputId": "06f0b7e1-ade6-4eab-9325-40700287c844"
      },
      "cell_type": "code",
      "source": [
        "#Sorting data according to ProductId in ascending order\n",
        "sorted_data=filtered_data.sort_values('ProductId',axis=0,ascending=True)\n",
        "sorted_data.shape"
      ],
      "execution_count": 111,
      "outputs": [
        {
          "output_type": "execute_result",
          "data": {
            "text/plain": [
              "(525814, 10)"
            ]
          },
          "metadata": {
            "tags": []
          },
          "execution_count": 111
        }
      ]
    },
    {
      "metadata": {
        "id": "dUFLci4tjVCi",
        "colab_type": "code",
        "colab": {
          "base_uri": "https://localhost:8080/",
          "height": 34
        },
        "outputId": "ed0cafdb-8c71-436d-99d1-0cda7c3971ad"
      },
      "cell_type": "code",
      "source": [
        "#Deduplication of entries\n",
        "final=sorted_data.drop_duplicates(subset={'UserId','ProfileName','Time','Text'},keep='first',inplace=False)\n",
        "final.shape"
      ],
      "execution_count": 112,
      "outputs": [
        {
          "output_type": "execute_result",
          "data": {
            "text/plain": [
              "(364173, 10)"
            ]
          },
          "metadata": {
            "tags": []
          },
          "execution_count": 112
        }
      ]
    },
    {
      "metadata": {
        "id": "2SnssWDCjYe_",
        "colab_type": "text"
      },
      "cell_type": "markdown",
      "source": [
        "**Observation**:- bold text It was also seen that in two rows given below the value of HelpfulnessNumerator is greater than HelpfulnessDenominator which is not practically possible hence these two rows too are removed from calcualtions"
      ]
    },
    {
      "metadata": {
        "id": "RC095PSajaWi",
        "colab_type": "code",
        "colab": {
          "base_uri": "https://localhost:8080/",
          "height": 34
        },
        "outputId": "8e212a39-0a69-422a-edae-70f0ad236a1a"
      },
      "cell_type": "code",
      "source": [
        "final=final[final.HelpfulnessNumerator<=final.HelpfulnessDenominator]\n",
        "final.shape"
      ],
      "execution_count": 113,
      "outputs": [
        {
          "output_type": "execute_result",
          "data": {
            "text/plain": [
              "(364171, 10)"
            ]
          },
          "metadata": {
            "tags": []
          },
          "execution_count": 113
        }
      ]
    },
    {
      "metadata": {
        "id": "1FyL7bsjjfxP",
        "colab_type": "code",
        "colab": {
          "base_uri": "https://localhost:8080/",
          "height": 67
        },
        "outputId": "4b0283e2-275a-4a27-a299-a3fd870d974b"
      },
      "cell_type": "code",
      "source": [
        "final['Score'].value_counts()"
      ],
      "execution_count": 114,
      "outputs": [
        {
          "output_type": "execute_result",
          "data": {
            "text/plain": [
              "1    307061\n",
              "0     57110\n",
              "Name: Score, dtype: int64"
            ]
          },
          "metadata": {
            "tags": []
          },
          "execution_count": 114
        }
      ]
    },
    {
      "metadata": {
        "id": "w7lyxqAZjlqO",
        "colab_type": "text"
      },
      "cell_type": "markdown",
      "source": [
        "# 3. Preprocessing\n",
        "In the Preprocessing phase we do the following in the order below:-\n",
        "\n",
        "1.Begin by removing the linksand html tags\n",
        "\n",
        "2.Expand English language contractions and Remove any punctuations or limited set of special characters like , or . or # etc.\n",
        "\n",
        "3.Check if the word is made up of english letters and is not alpha-numeric\n",
        "\n",
        "4.Check to see if the length of the word is greater than 2 (as it was researched that there is no adjective in 2-letters)\n",
        "\n",
        "5.Convert the word to lowercase\n",
        "\n",
        "6.Remove Stopwords\n",
        "\n",
        "7.Finally Snowball Stemming the word (it was obsereved to be better than Porter Stemming)\n",
        "\n"
      ]
    },
    {
      "metadata": {
        "id": "Ox6SCH7jjmt-",
        "colab_type": "code",
        "colab": {
          "base_uri": "https://localhost:8080/",
          "height": 420
        },
        "outputId": "99c5b039-3832-405e-eb82-2c58ecb1a683"
      },
      "cell_type": "code",
      "source": [
        "#print(link)\n",
        "for i in range(0,1000):\n",
        "  links=re.findall(r'http\\S+',final['Text'].values[i])\n",
        "  for link in links:\n",
        "    print(link)"
      ],
      "execution_count": 115,
      "outputs": [
        {
          "output_type": "stream",
          "text": [
            "http://www.amazon.com/gp/product/B0002DGRSY\">Pro-Treat\n",
            "http://www.amazon.com/gp/product/B0019O5Z0Q\">Charlee\n",
            "http://www.amazon.com/VICTOR-FLY-MAGNET-BAIT-REFILL/dp/B00004RBDY<br\n",
            "http://www.amazon.com/gp/product/B0088EDMMS\">Hocus\n",
            "http://www.amazon.com/gp/product/B001AGXEAG\">Beetlejuice\n",
            "http://www.amazon.com/gp/product/B001AGXEAG\">here</a>.\n",
            "http://www.amazon.com/gp/product/B001AGXEA6\">here</a>.\n",
            "http://www.amazon.com/gp/product/0790700506\">Gremlins</a><br\n",
            "http://www.amazon.com/gp/product/6301871952\">Gremlins\n",
            "http://www.amazon.com/gp/product/6303347657\">Mask</a><br\n",
            "http://www.amazon.com/gp/product/6304826141\">Rocketman</a><br\n",
            "http://www.amazon.com/gp/product/B001B504LI\">The\n",
            "http://www.amazon.com/gp/product/B001AGXEA6\">Beetlejuice\n",
            "http://www.amazon.com/gp/product/B00004RAMX\">Victor\n",
            "http://www.amazon.com/gp/product/B00004RAMY\">Victor\n",
            "http://www.amazon.com/gp/product/B00004RAMY\">Victor\n",
            "http://www.amazon.com/gp/product/B001VJ3FP6\">SentryHOME\n",
            "http://www.amazon.com/gp/product/B0051GCTAW\">Fiproguard\n",
            "http://www.amazon.com/gp/product/B000668Z96\">Victor\n",
            "http://www.amazon.com/gp/product/B000668Z96\">Victor\n",
            "http://www.amazon.com/gp/product/B000BQRQ8C\">Rescue\n",
            "http://www.amazon.com/gp/product/B00004RBDZ\">Victor\n",
            "http://www.amazon.com/gp/product/B00005344V\">Traditional\n",
            "http://www.amazon.com/gp/product/B00005C2M2\">Astronaut\n"
          ],
          "name": "stdout"
        }
      ]
    },
    {
      "metadata": {
        "id": "HX8cxNLGjson",
        "colab_type": "code",
        "colab": {}
      },
      "cell_type": "code",
      "source": [
        "for i in range(0,364171):\n",
        "  final['Text'].values[i] = re.sub(r\"http\\S+\", \"\", final['Text'].values[i])"
      ],
      "execution_count": 0,
      "outputs": []
    },
    {
      "metadata": {
        "id": "8w7O5yFAjvg4",
        "colab_type": "code",
        "colab": {}
      },
      "cell_type": "code",
      "source": [
        "#Remove HTML tags\n",
        "from bs4 import BeautifulSoup\n",
        "for i in range(1,364171):\n",
        "  soup = BeautifulSoup(final['Text'].values[i],'lxml')\n",
        "  text = soup.get_text()\n",
        "  final['Text'].values[i]=text"
      ],
      "execution_count": 0,
      "outputs": []
    },
    {
      "metadata": {
        "id": "0S-jq_rkjzn_",
        "colab_type": "code",
        "colab": {}
      },
      "cell_type": "code",
      "source": [
        "#Expanding English language contractions\n",
        "def decontracted(phrase):\n",
        "  # specific\n",
        "  phrase = re.sub(r\"won\\'t\", \"will not\", phrase)\n",
        "  phrase = re.sub(r\"can\\'t\", \"can not\", phrase)\n",
        "\n",
        "  # general\n",
        "  phrase = re.sub(r\"n\\'t\", \" not\", phrase)\n",
        "  phrase = re.sub(r\"\\'re\", \" are\", phrase)\n",
        "  phrase = re.sub(r\"\\'s\", \" is\", phrase)\n",
        "  phrase = re.sub(r\"\\'d\", \" would\", phrase)\n",
        "  phrase = re.sub(r\"\\'ll\", \" will\", phrase)\n",
        "  phrase = re.sub(r\"\\'t\", \" not\", phrase)\n",
        "  phrase = re.sub(r\"\\'ve\", \" have\", phrase)\n",
        "  phrase = re.sub(r\"\\'m\", \" am\", phrase)\n",
        "  return phrase\n"
      ],
      "execution_count": 0,
      "outputs": []
    },
    {
      "metadata": {
        "id": "cEYVgoNzj2xQ",
        "colab_type": "code",
        "colab": {}
      },
      "cell_type": "code",
      "source": [
        "for i in range(0,364171):\n",
        "  #print(final['Text'].values[i])\n",
        "  final['Text'].values[i]=decontracted(final['Text'].values[i])\n",
        "  #print(final['Text'].values[i])"
      ],
      "execution_count": 0,
      "outputs": []
    },
    {
      "metadata": {
        "id": "SzHrOYQZj6Pu",
        "colab_type": "code",
        "colab": {}
      },
      "cell_type": "code",
      "source": [
        "#remove words with numbers python\n",
        "for i in range(1,364171):\n",
        "  #print(final['Text'].values[i])\n",
        "  final['Text'].values[i] = re.sub(\"\\S*\\d\\S*\", \"\", final['Text'].values[i]).strip()\n",
        "  #print(final['Text'].values[i])"
      ],
      "execution_count": 0,
      "outputs": []
    },
    {
      "metadata": {
        "id": "FXEn38dHj9e6",
        "colab_type": "code",
        "colab": {}
      },
      "cell_type": "code",
      "source": [
        "#remove spacial character:\n",
        "for i in range(1,364171):\n",
        "  final['Text'].values[i]= re.sub('[^A-Za-z0-9]+', ' ', final['Text'].values[i])\n"
      ],
      "execution_count": 0,
      "outputs": []
    },
    {
      "metadata": {
        "id": "fUriOpCVkAqA",
        "colab_type": "code",
        "colab": {}
      },
      "cell_type": "code",
      "source": [
        "#Remove punctution\n",
        "for i in range(1,364171):\n",
        "  final['Text'].values[i]= re.sub(r'[!|#|$\\%|&|*|?|,|.|\\'|/|\"|)|(]',r'', final['Text'].values[i])"
      ],
      "execution_count": 0,
      "outputs": []
    },
    {
      "metadata": {
        "id": "hFENEKQMkDwv",
        "colab_type": "code",
        "colab": {}
      },
      "cell_type": "code",
      "source": [
        "# https://gist.github.com/sebleier/554280\n",
        "# we are removing the words from the stop words list: 'no', 'nor', 'not'\n",
        "# <br /><br /> ==> after the above steps, we are getting \"br br\"\n",
        "# we are including them into stop words list\n",
        "# instead of <br /> if we have <br/> these tags would have revmoved in the 1st step\n",
        "\n",
        "stopwords= set(['br', 'the', 'i', 'me', 'my', 'myself', 'we', 'our', 'ours', 'ourselves', 'you', \"you're\", \"you've\",\\\n",
        "            \"you'll\", \"you'd\", 'your', 'yours', 'yourself', 'yourselves', 'he', 'him', 'his', 'himself', \\\n",
        "            'she', \"she's\", 'her', 'hers', 'herself', 'it', \"it's\", 'its', 'itself', 'they', 'them', 'their',\\\n",
        "            'theirs', 'themselves', 'what', 'which', 'who', 'whom', 'this', 'that', \"that'll\", 'these', 'those', \\\n",
        "            'am', 'is', 'are', 'was', 'were', 'be', 'been', 'being', 'have', 'has', 'had', 'having', 'do', 'does', \\\n",
        "            'did', 'doing', 'a', 'an', 'the', 'and', 'but', 'if', 'or', 'because', 'as', 'until', 'while', 'of', \\\n",
        "            'at', 'by', 'for', 'with', 'about', 'against', 'between', 'into', 'through', 'during', 'before', 'after',\\\n",
        "            'above', 'below', 'to', 'from', 'up', 'down', 'in', 'out', 'on', 'off', 'over', 'under', 'again', 'further',\\\n",
        "            'then', 'once', 'here', 'there', 'when', 'where', 'why', 'how', 'all', 'any', 'both', 'each', 'few', 'more',\\\n",
        "            'most', 'other', 'some', 'such', 'only', 'own', 'same', 'so', 'than', 'too', 'very', \\\n",
        "            's', 't', 'can', 'will', 'just', 'don', \"don't\", 'should', \"should've\", 'now', 'd', 'll', 'm', 'o', 're', \\\n",
        "            've', 'y', 'ain', 'aren', \"aren't\", 'couldn', \"couldn't\", 'didn', \"didn't\", 'doesn', \"doesn't\", 'hadn',\\\n",
        "            \"hadn't\", 'hasn', \"hasn't\", 'haven', \"haven't\", 'isn', \"isn't\", 'ma', 'mightn', \"mightn't\", 'mustn',\\\n",
        "            \"mustn't\", 'needn', \"needn't\", 'shan', \"shan't\", 'shouldn', \"shouldn't\", 'wasn', \"wasn't\", 'weren', \"weren't\", \\\n",
        "            'won', \"won't\", 'wouldn', \"wouldn't\"])"
      ],
      "execution_count": 0,
      "outputs": []
    },
    {
      "metadata": {
        "id": "lgPzD_6CkHX2",
        "colab_type": "code",
        "colab": {
          "base_uri": "https://localhost:8080/",
          "height": 34
        },
        "outputId": "e640abcd-56b5-4c0b-c593-6db038dca1bf"
      },
      "cell_type": "code",
      "source": [
        "#tqdm\n",
        "#Instantly make your loops show a smart progress meter\n",
        "# just wrap any iterable with tqdm(iterable), and you’re done!\n",
        "from tqdm import tqdm\n",
        "preprocessed_reviews = []\n",
        "for i in tqdm(range(0,364171)):\n",
        "  sentence=\"\"\n",
        "  #print(final['Text'].values[i])\n",
        "  for word in final['Text'].values[i].split():\n",
        "    #print(word)\n",
        "    word =word.lower()\n",
        "    if word not in stopwords:\n",
        "      sentence+=\" \"+word\n",
        "  #print(sentence)\n",
        "  preprocessed_reviews.append(sentence.strip())"
      ],
      "execution_count": 22,
      "outputs": [
        {
          "output_type": "stream",
          "text": [
            "100%|██████████| 364171/364171 [00:15<00:00, 23589.51it/s]\n"
          ],
          "name": "stderr"
        }
      ]
    },
    {
      "metadata": {
        "id": "wEBYGPzrkKpk",
        "colab_type": "code",
        "colab": {
          "base_uri": "https://localhost:8080/",
          "height": 753
        },
        "outputId": "2ca683fc-6e26-4ef7-bd51-5b1b60c0608f"
      },
      "cell_type": "code",
      "source": [
        "final['Cleaned_text']=preprocessed_reviews\n",
        "final.head()"
      ],
      "execution_count": 124,
      "outputs": [
        {
          "output_type": "execute_result",
          "data": {
            "text/html": [
              "<div>\n",
              "<style scoped>\n",
              "    .dataframe tbody tr th:only-of-type {\n",
              "        vertical-align: middle;\n",
              "    }\n",
              "\n",
              "    .dataframe tbody tr th {\n",
              "        vertical-align: top;\n",
              "    }\n",
              "\n",
              "    .dataframe thead th {\n",
              "        text-align: right;\n",
              "    }\n",
              "</style>\n",
              "<table border=\"1\" class=\"dataframe\">\n",
              "  <thead>\n",
              "    <tr style=\"text-align: right;\">\n",
              "      <th></th>\n",
              "      <th>Id</th>\n",
              "      <th>ProductId</th>\n",
              "      <th>UserId</th>\n",
              "      <th>ProfileName</th>\n",
              "      <th>HelpfulnessNumerator</th>\n",
              "      <th>HelpfulnessDenominator</th>\n",
              "      <th>Score</th>\n",
              "      <th>Time</th>\n",
              "      <th>Summary</th>\n",
              "      <th>Text</th>\n",
              "      <th>Cleaned_text</th>\n",
              "    </tr>\n",
              "  </thead>\n",
              "  <tbody>\n",
              "    <tr>\n",
              "      <th>138706</th>\n",
              "      <td>150524</td>\n",
              "      <td>0006641040</td>\n",
              "      <td>ACITT7DI6IDDL</td>\n",
              "      <td>shari zychinski</td>\n",
              "      <td>0</td>\n",
              "      <td>0</td>\n",
              "      <td>1</td>\n",
              "      <td>939340800</td>\n",
              "      <td>EVERY book is educational</td>\n",
              "      <td>this witty little book makes my son laugh at l...</td>\n",
              "      <td>witty little book makes son laugh loud. recite...</td>\n",
              "    </tr>\n",
              "    <tr>\n",
              "      <th>138688</th>\n",
              "      <td>150506</td>\n",
              "      <td>0006641040</td>\n",
              "      <td>A2IW4PEEKO2R0U</td>\n",
              "      <td>Tracy</td>\n",
              "      <td>1</td>\n",
              "      <td>1</td>\n",
              "      <td>1</td>\n",
              "      <td>1194739200</td>\n",
              "      <td>Love the book, miss the hard cover version</td>\n",
              "      <td>I grew up reading these Sendak books, and watc...</td>\n",
              "      <td>grew reading sendak books watching really rosi...</td>\n",
              "    </tr>\n",
              "    <tr>\n",
              "      <th>138689</th>\n",
              "      <td>150507</td>\n",
              "      <td>0006641040</td>\n",
              "      <td>A1S4A3IQ2MU7V4</td>\n",
              "      <td>sally sue \"sally sue\"</td>\n",
              "      <td>1</td>\n",
              "      <td>1</td>\n",
              "      <td>1</td>\n",
              "      <td>1191456000</td>\n",
              "      <td>chicken soup with rice months</td>\n",
              "      <td>This is a fun way for children to learn their ...</td>\n",
              "      <td>fun way children learn months year learn poems...</td>\n",
              "    </tr>\n",
              "    <tr>\n",
              "      <th>138690</th>\n",
              "      <td>150508</td>\n",
              "      <td>0006641040</td>\n",
              "      <td>AZGXZ2UUK6X</td>\n",
              "      <td>Catherine Hallberg \"(Kate)\"</td>\n",
              "      <td>1</td>\n",
              "      <td>1</td>\n",
              "      <td>1</td>\n",
              "      <td>1076025600</td>\n",
              "      <td>a good swingy rhythm for reading aloud</td>\n",
              "      <td>This is a great little book to read aloud- it ...</td>\n",
              "      <td>great little book read aloud nice rhythm well ...</td>\n",
              "    </tr>\n",
              "    <tr>\n",
              "      <th>138691</th>\n",
              "      <td>150509</td>\n",
              "      <td>0006641040</td>\n",
              "      <td>A3CMRKGE0P909G</td>\n",
              "      <td>Teresa</td>\n",
              "      <td>3</td>\n",
              "      <td>4</td>\n",
              "      <td>1</td>\n",
              "      <td>1018396800</td>\n",
              "      <td>A great way to learn the months</td>\n",
              "      <td>This is a book of poetry about the months of t...</td>\n",
              "      <td>book poetry months year goes month cute little...</td>\n",
              "    </tr>\n",
              "  </tbody>\n",
              "</table>\n",
              "</div>"
            ],
            "text/plain": [
              "            Id   ProductId          UserId                  ProfileName  \\\n",
              "138706  150524  0006641040   ACITT7DI6IDDL              shari zychinski   \n",
              "138688  150506  0006641040  A2IW4PEEKO2R0U                        Tracy   \n",
              "138689  150507  0006641040  A1S4A3IQ2MU7V4        sally sue \"sally sue\"   \n",
              "138690  150508  0006641040     AZGXZ2UUK6X  Catherine Hallberg \"(Kate)\"   \n",
              "138691  150509  0006641040  A3CMRKGE0P909G                       Teresa   \n",
              "\n",
              "        HelpfulnessNumerator  HelpfulnessDenominator  Score        Time  \\\n",
              "138706                     0                       0      1   939340800   \n",
              "138688                     1                       1      1  1194739200   \n",
              "138689                     1                       1      1  1191456000   \n",
              "138690                     1                       1      1  1076025600   \n",
              "138691                     3                       4      1  1018396800   \n",
              "\n",
              "                                           Summary  \\\n",
              "138706                   EVERY book is educational   \n",
              "138688  Love the book, miss the hard cover version   \n",
              "138689               chicken soup with rice months   \n",
              "138690      a good swingy rhythm for reading aloud   \n",
              "138691             A great way to learn the months   \n",
              "\n",
              "                                                     Text  \\\n",
              "138706  this witty little book makes my son laugh at l...   \n",
              "138688  I grew up reading these Sendak books, and watc...   \n",
              "138689  This is a fun way for children to learn their ...   \n",
              "138690  This is a great little book to read aloud- it ...   \n",
              "138691  This is a book of poetry about the months of t...   \n",
              "\n",
              "                                             Cleaned_text  \n",
              "138706  witty little book makes son laugh loud. recite...  \n",
              "138688  grew reading sendak books watching really rosi...  \n",
              "138689  fun way children learn months year learn poems...  \n",
              "138690  great little book read aloud nice rhythm well ...  \n",
              "138691  book poetry months year goes month cute little...  "
            ]
          },
          "metadata": {
            "tags": []
          },
          "execution_count": 124
        }
      ]
    },
    {
      "metadata": {
        "id": "4vpygxt0zVnc",
        "colab_type": "code",
        "colab": {
          "base_uri": "https://localhost:8080/",
          "height": 34
        },
        "outputId": "e516c9f7-3d91-4df0-de6e-30dd15e92a3a"
      },
      "cell_type": "code",
      "source": [
        "final_posive=final[final.Score==1].sample(n=50000) #Only positive review\n",
        "final_negative=final[final.Score==0].sample(n=30000)\n",
        "#final_balanced.append(final_negative)\n",
        "final_balanced = final_posive.append(final_negative, ignore_index=True)\n",
        "print(final_balanced.shape)\n"
      ],
      "execution_count": 156,
      "outputs": [
        {
          "output_type": "stream",
          "text": [
            "(80000, 11)\n"
          ],
          "name": "stdout"
        }
      ]
    },
    {
      "metadata": {
        "id": "m1jTFO0GkTc6",
        "colab_type": "code",
        "colab": {
          "base_uri": "https://localhost:8080/",
          "height": 968
        },
        "outputId": "ac7b6788-4e2e-4346-feeb-68ea2a5eea41"
      },
      "cell_type": "code",
      "source": [
        "final_sorted_time=final_balanced\n",
        "#final_balanced.sort_values('Time',ascending=True,axis=0)\n",
        "final_sorted_time.tail(10)"
      ],
      "execution_count": 157,
      "outputs": [
        {
          "output_type": "execute_result",
          "data": {
            "text/html": [
              "<div>\n",
              "<style scoped>\n",
              "    .dataframe tbody tr th:only-of-type {\n",
              "        vertical-align: middle;\n",
              "    }\n",
              "\n",
              "    .dataframe tbody tr th {\n",
              "        vertical-align: top;\n",
              "    }\n",
              "\n",
              "    .dataframe thead th {\n",
              "        text-align: right;\n",
              "    }\n",
              "</style>\n",
              "<table border=\"1\" class=\"dataframe\">\n",
              "  <thead>\n",
              "    <tr style=\"text-align: right;\">\n",
              "      <th></th>\n",
              "      <th>Id</th>\n",
              "      <th>ProductId</th>\n",
              "      <th>UserId</th>\n",
              "      <th>ProfileName</th>\n",
              "      <th>HelpfulnessNumerator</th>\n",
              "      <th>HelpfulnessDenominator</th>\n",
              "      <th>Score</th>\n",
              "      <th>Time</th>\n",
              "      <th>Summary</th>\n",
              "      <th>Text</th>\n",
              "      <th>Cleaned_text</th>\n",
              "    </tr>\n",
              "  </thead>\n",
              "  <tbody>\n",
              "    <tr>\n",
              "      <th>79990</th>\n",
              "      <td>127938</td>\n",
              "      <td>B002DPWQWA</td>\n",
              "      <td>A1E3FURT63AJGU</td>\n",
              "      <td>Poetwarrior \"RJ\"</td>\n",
              "      <td>0</td>\n",
              "      <td>1</td>\n",
              "      <td>0</td>\n",
              "      <td>1327708800</td>\n",
              "      <td>Dog's review</td>\n",
              "      <td>Basically this is a review from my dog &amp; as u ...</td>\n",
              "      <td>basically review dog u see not fond food tried...</td>\n",
              "    </tr>\n",
              "    <tr>\n",
              "      <th>79991</th>\n",
              "      <td>80278</td>\n",
              "      <td>B004342XH2</td>\n",
              "      <td>A3N50KD48HKCLW</td>\n",
              "      <td>Juan</td>\n",
              "      <td>0</td>\n",
              "      <td>0</td>\n",
              "      <td>0</td>\n",
              "      <td>1321401600</td>\n",
              "      <td>DOES NOT TASTE LIKE MILK CHOCOLATE</td>\n",
              "      <td>I made 6 oz cup of this and it tasted awful.  ...</td>\n",
              "      <td>made oz cup tasted awful lacked milk chocolate...</td>\n",
              "    </tr>\n",
              "    <tr>\n",
              "      <th>79992</th>\n",
              "      <td>221203</td>\n",
              "      <td>B001B2SVOS</td>\n",
              "      <td>A3OKKGCDLL4AWM</td>\n",
              "      <td>Robert F. Geary</td>\n",
              "      <td>0</td>\n",
              "      <td>0</td>\n",
              "      <td>0</td>\n",
              "      <td>1346198400</td>\n",
              "      <td>\"Double\" in what sense?</td>\n",
              "      <td>I guess if they mean \"twice as much matcha as ...</td>\n",
              "      <td>guess mean twice much matcha green teas not ma...</td>\n",
              "    </tr>\n",
              "    <tr>\n",
              "      <th>79993</th>\n",
              "      <td>78845</td>\n",
              "      <td>B003VYH81G</td>\n",
              "      <td>A3U5ZRIAKF92G7</td>\n",
              "      <td>Chitahka</td>\n",
              "      <td>0</td>\n",
              "      <td>0</td>\n",
              "      <td>0</td>\n",
              "      <td>1337644800</td>\n",
              "      <td>Not good</td>\n",
              "      <td>Ok so I ordered this item on line and was disa...</td>\n",
              "      <td>ok ordered item line disappointed not tasted b...</td>\n",
              "    </tr>\n",
              "    <tr>\n",
              "      <th>79994</th>\n",
              "      <td>130102</td>\n",
              "      <td>B002YRBALU</td>\n",
              "      <td>A1BPCAYEK3T1V7</td>\n",
              "      <td>shannon fox</td>\n",
              "      <td>3</td>\n",
              "      <td>8</td>\n",
              "      <td>0</td>\n",
              "      <td>1307318400</td>\n",
              "      <td>Difficult to work with</td>\n",
              "      <td>There is nothing wrong with the way this produ...</td>\n",
              "      <td>nothing wrong way product tastes difficult coo...</td>\n",
              "    </tr>\n",
              "    <tr>\n",
              "      <th>79995</th>\n",
              "      <td>256577</td>\n",
              "      <td>B003JA5KBW</td>\n",
              "      <td>A3GCYKPIA7XQ93</td>\n",
              "      <td>Ange</td>\n",
              "      <td>0</td>\n",
              "      <td>0</td>\n",
              "      <td>0</td>\n",
              "      <td>1350604800</td>\n",
              "      <td>Flavor is awful</td>\n",
              "      <td>Yuck.  I don't use these as often as I could s...</td>\n",
              "      <td>yuck not use often could since flavor awful an...</td>\n",
              "    </tr>\n",
              "    <tr>\n",
              "      <th>79996</th>\n",
              "      <td>147193</td>\n",
              "      <td>B000QV2H36</td>\n",
              "      <td>ASNDALY414KWS</td>\n",
              "      <td>TMoma</td>\n",
              "      <td>0</td>\n",
              "      <td>0</td>\n",
              "      <td>0</td>\n",
              "      <td>1332028800</td>\n",
              "      <td>Misleading Picture!</td>\n",
              "      <td>I needed these for a project I'm working on an...</td>\n",
              "      <td>needed project working misleading picture show...</td>\n",
              "    </tr>\n",
              "    <tr>\n",
              "      <th>79997</th>\n",
              "      <td>467647</td>\n",
              "      <td>B0012KB466</td>\n",
              "      <td>A3MJYQFHRYLUUB</td>\n",
              "      <td>a buyer of stuff</td>\n",
              "      <td>7</td>\n",
              "      <td>7</td>\n",
              "      <td>0</td>\n",
              "      <td>1323475200</td>\n",
              "      <td>Not sure what happened</td>\n",
              "      <td>I have two diabetic cats and this is one of th...</td>\n",
              "      <td>two diabetic cats one favorite flavors price a...</td>\n",
              "    </tr>\n",
              "    <tr>\n",
              "      <th>79998</th>\n",
              "      <td>39210</td>\n",
              "      <td>B0017UDSY2</td>\n",
              "      <td>A3FWE9PPUH74CQ</td>\n",
              "      <td>Karl Schilling \"KH\"</td>\n",
              "      <td>2</td>\n",
              "      <td>3</td>\n",
              "      <td>0</td>\n",
              "      <td>1322352000</td>\n",
              "      <td>Too much coconut oil</td>\n",
              "      <td>These bars have great texture and great ingred...</td>\n",
              "      <td>bars great texture great ingredients made one ...</td>\n",
              "    </tr>\n",
              "    <tr>\n",
              "      <th>79999</th>\n",
              "      <td>450097</td>\n",
              "      <td>B0000CH39R</td>\n",
              "      <td>A23JRZT4BXRRSM</td>\n",
              "      <td>Janet Mack Zaloga</td>\n",
              "      <td>1</td>\n",
              "      <td>2</td>\n",
              "      <td>0</td>\n",
              "      <td>1141948800</td>\n",
              "      <td>Inefficiency</td>\n",
              "      <td>We ordered the box of candy for an anniversary...</td>\n",
              "      <td>ordered box candy anniversary gift along separ...</td>\n",
              "    </tr>\n",
              "  </tbody>\n",
              "</table>\n",
              "</div>"
            ],
            "text/plain": [
              "           Id   ProductId          UserId          ProfileName  \\\n",
              "79990  127938  B002DPWQWA  A1E3FURT63AJGU     Poetwarrior \"RJ\"   \n",
              "79991   80278  B004342XH2  A3N50KD48HKCLW                 Juan   \n",
              "79992  221203  B001B2SVOS  A3OKKGCDLL4AWM      Robert F. Geary   \n",
              "79993   78845  B003VYH81G  A3U5ZRIAKF92G7             Chitahka   \n",
              "79994  130102  B002YRBALU  A1BPCAYEK3T1V7          shannon fox   \n",
              "79995  256577  B003JA5KBW  A3GCYKPIA7XQ93                 Ange   \n",
              "79996  147193  B000QV2H36   ASNDALY414KWS                TMoma   \n",
              "79997  467647  B0012KB466  A3MJYQFHRYLUUB     a buyer of stuff   \n",
              "79998   39210  B0017UDSY2  A3FWE9PPUH74CQ  Karl Schilling \"KH\"   \n",
              "79999  450097  B0000CH39R  A23JRZT4BXRRSM    Janet Mack Zaloga   \n",
              "\n",
              "       HelpfulnessNumerator  HelpfulnessDenominator  Score        Time  \\\n",
              "79990                     0                       1      0  1327708800   \n",
              "79991                     0                       0      0  1321401600   \n",
              "79992                     0                       0      0  1346198400   \n",
              "79993                     0                       0      0  1337644800   \n",
              "79994                     3                       8      0  1307318400   \n",
              "79995                     0                       0      0  1350604800   \n",
              "79996                     0                       0      0  1332028800   \n",
              "79997                     7                       7      0  1323475200   \n",
              "79998                     2                       3      0  1322352000   \n",
              "79999                     1                       2      0  1141948800   \n",
              "\n",
              "                                  Summary  \\\n",
              "79990                        Dog's review   \n",
              "79991  DOES NOT TASTE LIKE MILK CHOCOLATE   \n",
              "79992             \"Double\" in what sense?   \n",
              "79993                            Not good   \n",
              "79994              Difficult to work with   \n",
              "79995                     Flavor is awful   \n",
              "79996                 Misleading Picture!   \n",
              "79997              Not sure what happened   \n",
              "79998                Too much coconut oil   \n",
              "79999                        Inefficiency   \n",
              "\n",
              "                                                    Text  \\\n",
              "79990  Basically this is a review from my dog & as u ...   \n",
              "79991  I made 6 oz cup of this and it tasted awful.  ...   \n",
              "79992  I guess if they mean \"twice as much matcha as ...   \n",
              "79993  Ok so I ordered this item on line and was disa...   \n",
              "79994  There is nothing wrong with the way this produ...   \n",
              "79995  Yuck.  I don't use these as often as I could s...   \n",
              "79996  I needed these for a project I'm working on an...   \n",
              "79997  I have two diabetic cats and this is one of th...   \n",
              "79998  These bars have great texture and great ingred...   \n",
              "79999  We ordered the box of candy for an anniversary...   \n",
              "\n",
              "                                            Cleaned_text  \n",
              "79990  basically review dog u see not fond food tried...  \n",
              "79991  made oz cup tasted awful lacked milk chocolate...  \n",
              "79992  guess mean twice much matcha green teas not ma...  \n",
              "79993  ok ordered item line disappointed not tasted b...  \n",
              "79994  nothing wrong way product tastes difficult coo...  \n",
              "79995  yuck not use often could since flavor awful an...  \n",
              "79996  needed project working misleading picture show...  \n",
              "79997  two diabetic cats one favorite flavors price a...  \n",
              "79998  bars great texture great ingredients made one ...  \n",
              "79999  ordered box candy anniversary gift along separ...  "
            ]
          },
          "metadata": {
            "tags": []
          },
          "execution_count": 157
        }
      ]
    },
    {
      "metadata": {
        "id": "a7FkzG0MkX7W",
        "colab_type": "text"
      },
      "cell_type": "markdown",
      "source": [
        "**Train Test  Splitting**"
      ]
    },
    {
      "metadata": {
        "id": "oAmnaiWD5sMp",
        "colab_type": "code",
        "colab": {}
      },
      "cell_type": "code",
      "source": [
        "from sklearn.model_selection import train_test_split\n",
        "Train_data, test_data, y_Train, y_test = train_test_split(final_sorted_time['Cleaned_text'],\\\n",
        "                                               final_sorted_time['Score']  , test_size=0.20, random_state=42)\n",
        "train_data, cv_data, y_train, y_cv = train_test_split(Train_data, y_Train, test_size=0.20, random_state=42)"
      ],
      "execution_count": 0,
      "outputs": []
    },
    {
      "metadata": {
        "id": "zye0Cqhh4Pk6",
        "colab_type": "code",
        "colab": {
          "base_uri": "https://localhost:8080/",
          "height": 168
        },
        "outputId": "f7c6d609-845c-4288-cc78-33e5b6686e3a"
      },
      "cell_type": "code",
      "source": [
        "print(y_test.value_counts())\n",
        "print(y_cv.value_counts())\n",
        "print(y_train.value_counts())"
      ],
      "execution_count": 187,
      "outputs": [
        {
          "output_type": "stream",
          "text": [
            "1    9939\n",
            "0    6061\n",
            "Name: Score, dtype: int64\n",
            "1    8078\n",
            "0    4722\n",
            "Name: Score, dtype: int64\n",
            "1    31983\n",
            "0    19217\n",
            "Name: Score, dtype: int64\n"
          ],
          "name": "stdout"
        }
      ]
    },
    {
      "metadata": {
        "id": "fu_UHnU7klhU",
        "colab_type": "text"
      },
      "cell_type": "markdown",
      "source": [
        "# 4. Featurization\n",
        "# 4.1Bag of Words"
      ]
    },
    {
      "metadata": {
        "id": "qKtZPruaNiVN",
        "colab_type": "code",
        "colab": {}
      },
      "cell_type": "code",
      "source": [
        "#Normalization\n",
        "from sklearn import preprocessing \n",
        "normalizer = preprocessing.Normalizer()\n",
        "normalizer.fit(train_bows)\n",
        "train_bows=normalizer.transform(train_bows)\n",
        "cv_bows=normalizer.transform(cv_bows)\n",
        "test_bows=normalizer.transform(test_bows)"
      ],
      "execution_count": 0,
      "outputs": []
    },
    {
      "metadata": {
        "id": "U6SKs6FWkxsO",
        "colab_type": "text"
      },
      "cell_type": "markdown",
      "source": [
        "# 4.2 TFIDF"
      ]
    },
    {
      "metadata": {
        "id": "oTo6m3IVksIb",
        "colab_type": "code",
        "colab": {}
      },
      "cell_type": "code",
      "source": [
        "tfidf_vector=TfidfVectorizer()\n",
        "tfidf_vector.fit(train_data)\n",
        "train_tfidf=tfidf_vector.transform(train_data)\n",
        "cv_tfidf=tfidf_vector.transform(cv_data)\n",
        "test_tfidf=tfidf_vector.transform(test_data)"
      ],
      "execution_count": 0,
      "outputs": []
    },
    {
      "metadata": {
        "id": "RW5kKSxxFi70",
        "colab_type": "code",
        "colab": {}
      },
      "cell_type": "code",
      "source": [
        "from sklearn import preprocessing \n",
        "normalizer = preprocessing.Normalizer()\n",
        "normalizer.fit(train_tfidf)\n",
        "train_tfidf=normalizer.transform(train_tfidf)\n",
        "cv_tfidf=normalizer.transform(cv_tfidf)\n",
        "test_tfidf=normalizer.transform(test_tfidf)"
      ],
      "execution_count": 0,
      "outputs": []
    },
    {
      "metadata": {
        "id": "flC_q5Oak2Qa",
        "colab_type": "text"
      },
      "cell_type": "markdown",
      "source": [
        "# 4.3 Word2Vec"
      ]
    },
    {
      "metadata": {
        "id": "UXik97aZk3xJ",
        "colab_type": "code",
        "colab": {}
      },
      "cell_type": "code",
      "source": [
        "import gensim\n",
        "from gensim.models import Word2Vec"
      ],
      "execution_count": 0,
      "outputs": []
    },
    {
      "metadata": {
        "id": "VenioZYkk8kh",
        "colab_type": "code",
        "colab": {}
      },
      "cell_type": "code",
      "source": [
        "#Train own W2V with train data\n",
        "i=0\n",
        "list_of_sentence=[]\n",
        "for sent in train_data.values:\n",
        "  list_of_sentence.append(sent.split())"
      ],
      "execution_count": 0,
      "outputs": []
    },
    {
      "metadata": {
        "id": "SEWByLZBk_IE",
        "colab_type": "code",
        "colab": {}
      },
      "cell_type": "code",
      "source": [
        "w2v_model=gensim.models.Word2Vec(list_of_sentence,min_count=5,size=50,workers=4)"
      ],
      "execution_count": 0,
      "outputs": []
    },
    {
      "metadata": {
        "id": "wY-_6ChllBxh",
        "colab_type": "code",
        "colab": {}
      },
      "cell_type": "code",
      "source": [
        "w2v_words = list(w2v_model.wv.vocab)"
      ],
      "execution_count": 0,
      "outputs": []
    },
    {
      "metadata": {
        "id": "UkVfDTh3lE6u",
        "colab_type": "code",
        "colab": {
          "base_uri": "https://localhost:8080/",
          "height": 50
        },
        "outputId": "8a3412a1-a3b6-4f1d-9acb-50397503e13d"
      },
      "cell_type": "code",
      "source": [
        "# Average W2V with training Data\n",
        "sent_vectors = []; # the avg-w2v for each sentence/review is stored in this list\n",
        "for sent in list_of_sentence: # for each review/sentence\n",
        "    sent_vec = np.zeros(50) # as word vectors are of zero length 50, you might need to change this to 300 if you use google's w2v\n",
        "    cnt_words =0; # num of words with a valid vector in the sentence/review\n",
        "    for word in sent: # for each word in a review/sentence\n",
        "        if word in w2v_words:\n",
        "            vec = w2v_model.wv[word]\n",
        "            #print(\"vec= \",vec)\n",
        "            sent_vec += vec\n",
        "            cnt_words += 1\n",
        "    if cnt_words != 0:\n",
        "        sent_vec /= cnt_words\n",
        "    sent_vectors.append(sent_vec)\n",
        "print(len(sent_vectors))\n",
        "#print(sent_vectors)\n",
        "print(len(sent_vectors[0]))"
      ],
      "execution_count": 196,
      "outputs": [
        {
          "output_type": "stream",
          "text": [
            "51200\n",
            "50\n"
          ],
          "name": "stdout"
        }
      ]
    },
    {
      "metadata": {
        "id": "VXP7fPEylH0P",
        "colab_type": "code",
        "colab": {}
      },
      "cell_type": "code",
      "source": [
        "#Train own W2V with cv data\n",
        "i=0\n",
        "list_of_sentence_cv=[]\n",
        "for sent in cv_data.values:\n",
        "  list_of_sentence_cv.append(sent.split())"
      ],
      "execution_count": 0,
      "outputs": []
    },
    {
      "metadata": {
        "id": "Lkh4-xhClMUD",
        "colab_type": "code",
        "colab": {}
      },
      "cell_type": "code",
      "source": [
        "w2v_model_cv=gensim.models.Word2Vec(list_of_sentence_cv,min_count=5,size=50,workers=4)\n",
        "w2v_words_cv = list(w2v_model_cv.wv.vocab)"
      ],
      "execution_count": 0,
      "outputs": []
    },
    {
      "metadata": {
        "id": "plxL-Xp-lPSa",
        "colab_type": "code",
        "colab": {
          "base_uri": "https://localhost:8080/",
          "height": 50
        },
        "outputId": "3425a46f-c38c-499b-84de-fc9348fce63b"
      },
      "cell_type": "code",
      "source": [
        "# Average W2V with cv Data\n",
        "sent_vectors_cv = []; # the avg-w2v for each sentence/review is stored in this list\n",
        "for sent in list_of_sentence_cv: # for each review/sentence\n",
        "    sent_vec = np.zeros(50) # as word vectors are of zero length 50, you might need to change this to 300 if you use google's w2v\n",
        "    cnt_words =0; # num of words with a valid vector in the sentence/review\n",
        "    for word in sent: # for each word in a review/sentence\n",
        "        if word in w2v_words_cv:\n",
        "            vec = w2v_model_cv.wv[word]\n",
        "            #print(\"vec= \",vec)\n",
        "            sent_vec += vec\n",
        "            cnt_words += 1\n",
        "    if cnt_words != 0:\n",
        "        sent_vec /= cnt_words\n",
        "    sent_vectors_cv.append(sent_vec)\n",
        "print(len(sent_vectors_cv))\n",
        "#print(sent_vectors)\n",
        "print(len(sent_vectors_cv[0]))"
      ],
      "execution_count": 199,
      "outputs": [
        {
          "output_type": "stream",
          "text": [
            "12800\n",
            "50\n"
          ],
          "name": "stdout"
        }
      ]
    },
    {
      "metadata": {
        "id": "y2iTsc52lXMq",
        "colab_type": "code",
        "colab": {}
      },
      "cell_type": "code",
      "source": [
        "#Train own W2V with Test data\n",
        "i=0\n",
        "list_of_sentence_test=[]\n",
        "for sent in test_data.values:\n",
        "  list_of_sentence_test.append(sent.split())"
      ],
      "execution_count": 0,
      "outputs": []
    },
    {
      "metadata": {
        "id": "RFAntKvxlZyP",
        "colab_type": "code",
        "colab": {}
      },
      "cell_type": "code",
      "source": [
        "w2v_model_test=gensim.models.Word2Vec(list_of_sentence_test,min_count=5,size=50,workers=4)\n",
        "w2v_words_test = list(w2v_model_test.wv.vocab)"
      ],
      "execution_count": 0,
      "outputs": []
    },
    {
      "metadata": {
        "id": "dyXFQu3llkgr",
        "colab_type": "code",
        "colab": {
          "base_uri": "https://localhost:8080/",
          "height": 50
        },
        "outputId": "cca2dec3-8401-4f44-e8e6-47c36bc50003"
      },
      "cell_type": "code",
      "source": [
        "# Average W2V with test Data\n",
        "sent_vectors_test = []; # the avg-w2v for each sentence/review is stored in this list\n",
        "for sent in list_of_sentence_test: # for each review/sentence\n",
        "    sent_vec = np.zeros(50) # as word vectors are of zero length 50, you might need to change this to 300 if you use google's w2v\n",
        "    cnt_words =0; # num of words with a valid vector in the sentence/review\n",
        "    for word in sent: # for each word in a review/sentence\n",
        "        if word in w2v_words_test:\n",
        "            vec = w2v_model_test.wv[word]\n",
        "            #print(\"vec= \",vec)\n",
        "            sent_vec += vec\n",
        "            cnt_words += 1\n",
        "    if cnt_words != 0:\n",
        "        sent_vec /= cnt_words\n",
        "    sent_vectors_test.append(sent_vec)\n",
        "print(len(sent_vectors_test))\n",
        "#print(sent_vectors)\n",
        "print(len(sent_vectors_test[0]))"
      ],
      "execution_count": 202,
      "outputs": [
        {
          "output_type": "stream",
          "text": [
            "16000\n",
            "50\n"
          ],
          "name": "stdout"
        }
      ]
    },
    {
      "metadata": {
        "id": "FgP_6x9bPSei",
        "colab_type": "code",
        "colab": {}
      },
      "cell_type": "code",
      "source": [
        "from sklearn import preprocessing \n",
        "normalizer = preprocessing.Normalizer()\n",
        "normalizer.fit(sent_vectors)\n",
        "sent_vectors=normalizer.transform(sent_vectors)\n",
        "sent_vectors_cv=normalizer.transform(sent_vectors_cv)\n",
        "sent_vectors_test=normalizer.transform(sent_vectors_test)"
      ],
      "execution_count": 0,
      "outputs": []
    },
    {
      "metadata": {
        "id": "n0R_nucIloDW",
        "colab_type": "text"
      },
      "cell_type": "markdown",
      "source": [
        "# TFIDF-Word2Vec"
      ]
    },
    {
      "metadata": {
        "id": "M5onoqd9lpUN",
        "colab_type": "code",
        "colab": {}
      },
      "cell_type": "code",
      "source": [
        "#TF-IDF Avg W2V for train Data\n",
        "model_train = TfidfVectorizer()\n",
        "model_train.fit(train_data)\n",
        "tf_idf_matrix_train = model_train.transform(train_data)\n",
        "dictionary = dict(zip(model_train.get_feature_names(), list(model_train.idf_)))"
      ],
      "execution_count": 0,
      "outputs": []
    },
    {
      "metadata": {
        "id": "ZMQmE_VzluPk",
        "colab_type": "code",
        "colab": {}
      },
      "cell_type": "code",
      "source": [
        "tfidf_feat_train = model_train.get_feature_names() \n",
        "\n",
        "tfidf_sent_vectors_train = []; # the tfidf-w2v for each sentence/review is stored in this list\n",
        "row=0;\n",
        "for sent in list_of_sentence: \n",
        "  sent_vec = np.zeros(50) \n",
        "  weight_sum =0; \n",
        "  for word in sent: \n",
        "    try:\n",
        "      vec = w2v_model.wv[word]\n",
        "      tf_idf = dictionary[word]*(sent.count(word)/len(sent))\n",
        "      sent_vec += (vec * tf_idf)\n",
        "      weight_sum += tf_idf\n",
        "    except:\n",
        "      pass\n",
        "          \n",
        "  if weight_sum != 0:\n",
        "    sent_vec /= weight_sum\n",
        "  tfidf_sent_vectors_train.append(sent_vec)\n",
        "  row += 1"
      ],
      "execution_count": 0,
      "outputs": []
    },
    {
      "metadata": {
        "id": "BYlBQzcQlxVU",
        "colab_type": "code",
        "colab": {}
      },
      "cell_type": "code",
      "source": [
        "#TF-IDF Avg W2V for cv Data\n",
        "model_cv = TfidfVectorizer()\n",
        "tf_idf_matrix_cv = model_cv.fit_transform(cv_data)\n",
        "dictionary = dict(zip(model_cv.get_feature_names(), list(model_cv.idf_)))"
      ],
      "execution_count": 0,
      "outputs": []
    },
    {
      "metadata": {
        "id": "xyl0FAhYl0vn",
        "colab_type": "code",
        "colab": {}
      },
      "cell_type": "code",
      "source": [
        "tfidf_feat_cv = model_cv.get_feature_names() \n",
        "\n",
        "tfidf_sent_vectors_cv = []; # the tfidf-w2v for each sentence/review is stored in this list\n",
        "row=0;\n",
        "for sent in list_of_sentence_cv: \n",
        "  sent_vec = np.zeros(50) \n",
        "  weight_sum =0; \n",
        "  for word in sent:\n",
        "    try:\n",
        "      vec = w2v_model_cv.wv[word]\n",
        "      tf_idf = dictionary[word]*(sent.count(word)/len(sent))\n",
        "      sent_vec += (vec * tf_idf)\n",
        "      weight_sum += tf_idf\n",
        "    except:\n",
        "      pass\n",
        "          \n",
        "  if weight_sum != 0:\n",
        "    sent_vec /= weight_sum\n",
        "  tfidf_sent_vectors_cv.append(sent_vec)\n",
        "  row += 1"
      ],
      "execution_count": 0,
      "outputs": []
    },
    {
      "metadata": {
        "id": "bwUSJp2Jl3vm",
        "colab_type": "code",
        "colab": {}
      },
      "cell_type": "code",
      "source": [
        "#TF-IDF Avg W2V for test Data\n",
        "model_test = TfidfVectorizer()\n",
        "tf_idf_matrix_test = model_test.fit_transform(test_data)\n",
        "dictionary = dict(zip(model_test.get_feature_names(), list(model_test.idf_)))"
      ],
      "execution_count": 0,
      "outputs": []
    },
    {
      "metadata": {
        "id": "YUoyANPwl8M4",
        "colab_type": "code",
        "colab": {}
      },
      "cell_type": "code",
      "source": [
        "tfidf_feat_test = model_test.get_feature_names() \n",
        "\n",
        "tfidf_sent_vectors_test = []; # the tfidf-w2v for each sentence/review is stored in this list\n",
        "row=0;\n",
        "for sent in list_of_sentence_test: \n",
        "  sent_vec = np.zeros(50) \n",
        "  weight_sum =0; \n",
        "  for word in sent:\n",
        "    try:\n",
        "      vec = w2v_model_test.wv[word]\n",
        "      tf_idf = dictionary[word]*(sent.count(word)/len(sent))\n",
        "      sent_vec += (vec * tf_idf)\n",
        "      weight_sum += tf_idf\n",
        "    except:\n",
        "      pass\n",
        "          \n",
        "  if weight_sum != 0:\n",
        "    sent_vec /= weight_sum\n",
        "  tfidf_sent_vectors_test.append(sent_vec)\n",
        "  row += 1"
      ],
      "execution_count": 0,
      "outputs": []
    },
    {
      "metadata": {
        "id": "5m3h9Xa1Wxjy",
        "colab_type": "code",
        "colab": {}
      },
      "cell_type": "code",
      "source": [
        "from sklearn import preprocessing \n",
        "normalizer = preprocessing.Normalizer()\n",
        "normalizer.fit(tfidf_sent_vectors_train)\n",
        "tfidf_sent_vectors_train=normalizer.transform(tfidf_sent_vectors_train)\n",
        "tfidf_sent_vectors_cv=normalizer.transform(tfidf_sent_vectors_cv)\n",
        "tfidf_sent_vectors_test=normalizer.transform(tfidf_sent_vectors_test)"
      ],
      "execution_count": 0,
      "outputs": []
    },
    {
      "metadata": {
        "id": "8N3KEvxToT82",
        "colab_type": "text"
      },
      "cell_type": "markdown",
      "source": [
        "# [5]  KNN \n",
        "# [5.1] Knn(bruteforce) on BOWs"
      ]
    },
    {
      "metadata": {
        "id": "1Hx2uHZZosWR",
        "colab_type": "code",
        "colab": {}
      },
      "cell_type": "code",
      "source": [
        "from sklearn.neighbors import KNeighborsClassifier\n",
        "from sklearn.metrics import roc_curve, auc\n",
        "from sklearn.metrics import roc_auc_score"
      ],
      "execution_count": 0,
      "outputs": []
    },
    {
      "metadata": {
        "id": "8PkVB0sto3l2",
        "colab_type": "text"
      },
      "cell_type": "markdown",
      "source": [
        "**Simple Cross Validation**"
      ]
    },
    {
      "metadata": {
        "id": "mP67Oe_oo7Sw",
        "colab_type": "code",
        "colab": {
          "base_uri": "https://localhost:8080/",
          "height": 773
        },
        "outputId": "1fb0f18a-58ae-4009-d3d5-acaee453bb64"
      },
      "cell_type": "code",
      "source": [
        "AUC_training=[]\n",
        "AUC_cv=[]\n",
        "K=[i for i in range(1,30,2)]\n",
        "for i in K:\n",
        "  clf=KNeighborsClassifier(n_neighbors=i,algorithm='brute' )\n",
        "  clf.fit(train_bows,y_train)\n",
        "  \n",
        "  print(\"==== K = \",i,\" =======\")\n",
        "  #Training Data\n",
        "  y_predict_training=clf.predict_proba(train_bows)[:,1]\n",
        "  auc=roc_auc_score(y_train,y_predict_training)\n",
        "  AUC_training.append(auc)\n",
        "  print(\"Training AUC = \",auc) \n",
        "  #CV Curve\n",
        "  y_predict_cv=clf.predict_proba(cv_bows)[:,1]\n",
        "  auc=roc_auc_score(y_cv,y_predict_cv)\n",
        "  AUC_cv.append(auc)\n",
        "  print(\"Test AUC = \",auc) "
      ],
      "execution_count": 229,
      "outputs": [
        {
          "output_type": "stream",
          "text": [
            "==== K =  1  =======\n",
            "Training AUC =  0.9985461026170153\n",
            "Test AUC =  0.5955530307582393\n",
            "==== K =  3  =======\n",
            "Training AUC =  0.8671343004199894\n",
            "Test AUC =  0.6393408129274096\n",
            "==== K =  5  =======\n",
            "Training AUC =  0.8494111858818113\n",
            "Test AUC =  0.6887872756716886\n",
            "==== K =  7  =======\n",
            "Training AUC =  0.8257896253755209\n",
            "Test AUC =  0.695641258844437\n",
            "==== K =  9  =======\n",
            "Training AUC =  0.8095366296963933\n",
            "Test AUC =  0.699404126161287\n",
            "==== K =  11  =======\n",
            "Training AUC =  0.7987648349852613\n",
            "Test AUC =  0.7001857891487686\n",
            "==== K =  13  =======\n",
            "Training AUC =  0.7899687436561643\n",
            "Test AUC =  0.7000345084179775\n",
            "==== K =  15  =======\n",
            "Training AUC =  0.7832765045565077\n",
            "Test AUC =  0.7012701577870737\n",
            "==== K =  17  =======\n",
            "Training AUC =  0.7780299935287699\n",
            "Test AUC =  0.7008191862714225\n",
            "==== K =  19  =======\n",
            "Training AUC =  0.7723696632098277\n",
            "Test AUC =  0.7015380089657394\n",
            "==== K =  21  =======\n",
            "Training AUC =  0.7687064609867458\n",
            "Test AUC =  0.7018625134082886\n",
            "==== K =  23  =======\n",
            "Training AUC =  0.765200601386901\n",
            "Test AUC =  0.7009260436076505\n",
            "==== K =  25  =======\n",
            "Training AUC =  0.7623132665067418\n",
            "Test AUC =  0.7006718510826094\n",
            "==== K =  27  =======\n",
            "Training AUC =  0.7596481040215933\n",
            "Test AUC =  0.6992251217717471\n",
            "==== K =  29  =======\n",
            "Training AUC =  0.7564837935389686\n",
            "Test AUC =  0.6979390323842746\n"
          ],
          "name": "stdout"
        }
      ]
    },
    {
      "metadata": {
        "id": "BcknVuQmsWvP",
        "colab_type": "code",
        "colab": {
          "base_uri": "https://localhost:8080/",
          "height": 294
        },
        "outputId": "b23c5510-7f61-4043-8b92-a5f22b274b89"
      },
      "cell_type": "code",
      "source": [
        "plt.plot(K,AUC_training,label='Training')\n",
        "plt.plot(K,AUC_cv,label='CV')\n",
        "plt.ylabel('AUC Score')\n",
        "plt.xlabel('K')\n",
        "plt.title('K vs AUC ')\n",
        "plt.legend()\n",
        "plt.show()"
      ],
      "execution_count": 230,
      "outputs": [
        {
          "output_type": "display_data",
          "data": {
            "image/png": "[encoded data removed]",
            "text/plain": [
              "<Figure size 432x288 with 1 Axes>"
            ]
          },
          "metadata": {
            "tags": []
          }
        }
      ]
    },
    {
      "metadata": {
        "id": "p8bE6SW26E4c",
        "colab_type": "text"
      },
      "cell_type": "markdown",
      "source": [
        "**Observation:** Optimal value of k=23  having AUC= 0.70"
      ]
    },
    {
      "metadata": {
        "id": "ZOHqmLuyte5E",
        "colab_type": "code",
        "colab": {
          "base_uri": "https://localhost:8080/",
          "height": 327
        },
        "outputId": "ccaa35eb-daad-4efb-f5ae-7a485e96bc81"
      },
      "cell_type": "code",
      "source": [
        "clf = KNeighborsClassifier(n_neighbors=23,algorithm='brute')\n",
        "clf.fit(train_bows,y_train)\n",
        "\n",
        "#Train Curve\n",
        "y_pred_train=clf.predict_proba(train_bows)[:,1]\n",
        "fpr_train, tpr_train, thresholds_train = roc_curve(y_train,y_pred_train)\n",
        "roc_auc_train = metrics.auc(fpr_train, tpr_train)\n",
        "\n",
        "#Test Curve\n",
        "y_pred=clf.predict_proba(test_bows)[:,1]\n",
        "fpr, tpr, thresholds = roc_curve(y_test,y_pred)\n",
        "roc_auc = metrics.auc(fpr, tpr)\n",
        "\n",
        "#Drawing ROC curve\n",
        "print('Train AUC = ',metrics.auc(fpr_train, tpr_train))\n",
        "print('Test AUC = ',metrics.auc(fpr, tpr))\n",
        "plt.figure()\n",
        "plt.plot(fpr, tpr, color='darkorange', lw=1, label=' Test ROC curve (area = %0.2f)' % roc_auc)\n",
        "plt.plot(fpr_train, tpr_train, lw=1, label='Train ROC curve (area = %0.2f)' % roc_auc_train)\n",
        "\n",
        "plt.plot([0, 1], [0, 1], color='navy', lw=1, linestyle='--')\n",
        "plt.xlim([0.0, 1.0])\n",
        "plt.ylim([0.0, 1.05])\n",
        "plt.xlabel('False Positive Rate')\n",
        "plt.ylabel('True Positive Rate')\n",
        "plt.title('Receiver operating characteristic')\n",
        "plt.legend(loc=\"lower right\")\n",
        "plt.show()\n"
      ],
      "execution_count": 231,
      "outputs": [
        {
          "output_type": "stream",
          "text": [
            "Train AUC =  0.765200601386901\n",
            "Test AUC =  0.7032666631573867\n"
          ],
          "name": "stdout"
        },
        {
          "output_type": "display_data",
          "data": {
            "image/png": "[encoded data removed]",
            "text/plain": [
              "<Figure size 432x288 with 1 Axes>"
            ]
          },
          "metadata": {
            "tags": []
          }
        }
      ]
    },
    {
      "metadata": {
        "id": "H7P0-h7hv_-u",
        "colab_type": "code",
        "colab": {
          "base_uri": "https://localhost:8080/",
          "height": 353
        },
        "outputId": "bfb9f504-55ba-4a3a-f3b8-7686f41e5cf2"
      },
      "cell_type": "code",
      "source": [
        "#Confusion_Matrices\n",
        "y_pred_train=clf.predict(train_bows)\n",
        "print(\"Confusion_Matrices Report for Train Data\")\n",
        "print(metrics.classification_report(y_train,y_pred_train))\n",
        "\n",
        "y_pred=clf.predict(test_bows)\n",
        "print(\"Confusion_Matrices Report for Test Data\")\n",
        "print(metrics.classification_report(y_test,y_pred))\n"
      ],
      "execution_count": 232,
      "outputs": [
        {
          "output_type": "stream",
          "text": [
            "Confusion_Matrices Report for Train Data\n",
            "              precision    recall  f1-score   support\n",
            "\n",
            "           0       0.70      0.41      0.52     19217\n",
            "           1       0.72      0.89      0.79     31983\n",
            "\n",
            "   micro avg       0.71      0.71      0.71     51200\n",
            "   macro avg       0.71      0.65      0.66     51200\n",
            "weighted avg       0.71      0.71      0.69     51200\n",
            "\n",
            "Confusion_Matrices Report for Test Data\n",
            "              precision    recall  f1-score   support\n",
            "\n",
            "           0       0.66      0.38      0.48      6061\n",
            "           1       0.70      0.88      0.78      9939\n",
            "\n",
            "   micro avg       0.69      0.69      0.69     16000\n",
            "   macro avg       0.68      0.63      0.63     16000\n",
            "weighted avg       0.69      0.69      0.67     16000\n",
            "\n"
          ],
          "name": "stdout"
        }
      ]
    },
    {
      "metadata": {
        "id": "nu0spsCFw62o",
        "colab_type": "code",
        "colab": {}
      },
      "cell_type": "code",
      "source": [
        "cnf_matrix = confusion_matrix(y_test,y_pred)\n",
        "cnf_matrix_train = confusion_matrix(y_train,y_pred_train)\n",
        "df_cm = pd.DataFrame(cnf_matrix, index = [i for i in [0,1]],\n",
        "                  columns = [i for i in [0,1]])\n",
        "df_cm_train = pd.DataFrame(cnf_matrix_train, index = [i for i in [0,1]],\n",
        "                  columns = [i for i in [0,1]])"
      ],
      "execution_count": 0,
      "outputs": []
    },
    {
      "metadata": {
        "id": "cnrXzd0cxDIR",
        "colab_type": "code",
        "colab": {
          "base_uri": "https://localhost:8080/",
          "height": 282
        },
        "outputId": "af81eb1b-a168-4677-e027-5f1256ecb448"
      },
      "cell_type": "code",
      "source": [
        "print(\"Confusion Matrices for test Data\")\n",
        "ax = sns.heatmap(df_cm,annot=True, fmt=\".2f\")"
      ],
      "execution_count": 234,
      "outputs": [
        {
          "output_type": "stream",
          "text": [
            "Confusion Matrices for test Data\n"
          ],
          "name": "stdout"
        },
        {
          "output_type": "display_data",
          "data": {
            "image/png": "[encoded data removed]",
            "text/plain": [
              "<Figure size 432x288 with 2 Axes>"
            ]
          },
          "metadata": {
            "tags": []
          }
        }
      ]
    },
    {
      "metadata": {
        "id": "kLTB_HNZxHoE",
        "colab_type": "code",
        "colab": {
          "base_uri": "https://localhost:8080/",
          "height": 282
        },
        "outputId": "f94b0353-b97c-4ccf-cde6-32a13cab897c"
      },
      "cell_type": "code",
      "source": [
        "print(\"Confusion Matrices for Train Data\")\n",
        "ax_train = sns.heatmap(df_cm_train,annot=True, fmt=\".2f\")"
      ],
      "execution_count": 235,
      "outputs": [
        {
          "output_type": "stream",
          "text": [
            "Confusion Matrices for Train Data\n"
          ],
          "name": "stdout"
        },
        {
          "output_type": "display_data",
          "data": {
            "image/png": "[encoded data removed]",
            "text/plain": [
              "<Figure size 432x288 with 2 Axes>"
            ]
          },
          "metadata": {
            "tags": []
          }
        }
      ]
    },
    {
      "metadata": {
        "id": "s6ML3VHhxnek",
        "colab_type": "text"
      },
      "cell_type": "markdown",
      "source": [
        "# [5.2] Apply Knn(brute force version) on TFIDF"
      ]
    },
    {
      "metadata": {
        "id": "FAJP7L4SsWF3",
        "colab_type": "code",
        "colab": {}
      },
      "cell_type": "code",
      "source": [
        "from time import time"
      ],
      "execution_count": 0,
      "outputs": []
    },
    {
      "metadata": {
        "id": "P1fGDZnVxrYk",
        "colab_type": "code",
        "colab": {
          "base_uri": "https://localhost:8080/",
          "height": 790
        },
        "outputId": "66403e1c-60d7-4d61-eb35-d7e7e6edea41"
      },
      "cell_type": "code",
      "source": [
        "start = time()\n",
        "AUC_training=[]\n",
        "AUC_cv=[]\n",
        "K=[i for i in range(1,30,2)]\n",
        "for i in K:\n",
        "  clf=KNeighborsClassifier(n_neighbors=i,algorithm='brute' )\n",
        "  clf.fit(train_tfidf,y_train)\n",
        "  \n",
        "  print(\"====== K = \",i,\" ===========\")\n",
        "  #Training Data\n",
        "  y_predict_training=clf.predict_proba(train_tfidf)[:,1]\n",
        "  auc=roc_auc_score(y_train,y_predict_training)\n",
        "  AUC_training.append(auc)\n",
        "  print(\"Train AUC = \",auc)\n",
        "  \n",
        "  #CV Curve\n",
        "  y_predict_cv=clf.predict_proba(cv_tfidf)[:,1]\n",
        "  auc=roc_auc_score(y_cv,y_predict_cv)\n",
        "  AUC_cv.append(auc)\n",
        "  print(\" CV AUC = \",auc)\n",
        "  \n",
        "print(\"Time Taken= \",int((time()-start)/60),\" Minutes\")\n"
      ],
      "execution_count": 242,
      "outputs": [
        {
          "output_type": "stream",
          "text": [
            "====== K =  1  ===========\n",
            "Train AUC =  0.9985461026170153\n",
            " CV AUC =  0.5073260980744811\n",
            "====== K =  3  ===========\n",
            "Train AUC =  0.9776345088984973\n",
            " CV AUC =  0.5169056380510271\n",
            "====== K =  5  ===========\n",
            "Train AUC =  0.7740043877482\n",
            " CV AUC =  0.5076284629143697\n",
            "====== K =  7  ===========\n",
            "Train AUC =  0.7365591383416144\n",
            " CV AUC =  0.5059043135024364\n",
            "====== K =  9  ===========\n",
            "Train AUC =  0.7130006406539369\n",
            " CV AUC =  0.5070146230961383\n",
            "====== K =  11  ===========\n",
            "Train AUC =  0.6951476713287692\n",
            " CV AUC =  0.505456291312184\n",
            "====== K =  13  ===========\n",
            "Train AUC =  0.6825098130045999\n",
            " CV AUC =  0.5125905521546119\n",
            "====== K =  15  ===========\n",
            "Train AUC =  0.6716507623717094\n",
            " CV AUC =  0.5123383258465036\n",
            "====== K =  17  ===========\n",
            "Train AUC =  0.6611345071600171\n",
            " CV AUC =  0.5144598870248452\n",
            "====== K =  19  ===========\n",
            "Train AUC =  0.6547312145264325\n",
            " CV AUC =  0.5181855404092184\n",
            "====== K =  21  ===========\n",
            "Train AUC =  0.6493077926013704\n",
            " CV AUC =  0.5168865526386683\n",
            "====== K =  23  ===========\n",
            "Train AUC =  0.645148752570687\n",
            " CV AUC =  0.51488150947575\n",
            "====== K =  25  ===========\n",
            "Train AUC =  0.6400856215063556\n",
            " CV AUC =  0.5148577444670918\n",
            "====== K =  27  ===========\n",
            "Train AUC =  0.6364078036845272\n",
            " CV AUC =  0.5136117921212692\n",
            "====== K =  29  ===========\n",
            "Train AUC =  0.6327528570050316\n",
            " CV AUC =  0.5133358401288413\n",
            "Time Taken=  41  Minutes\n"
          ],
          "name": "stdout"
        }
      ]
    },
    {
      "metadata": {
        "id": "uGBiL8U6zfVA",
        "colab_type": "code",
        "colab": {
          "base_uri": "https://localhost:8080/",
          "height": 294
        },
        "outputId": "6ca481e1-1a24-4577-f0ce-da6c10d6094e"
      },
      "cell_type": "code",
      "source": [
        "plt.plot(K,AUC_training,label='Training')\n",
        "plt.plot(K,AUC_cv,label='CV')\n",
        "plt.ylabel('AUC Score')\n",
        "plt.xlabel('K')\n",
        "plt.title('K vs AUC ')\n",
        "plt.legend()\n",
        "plt.show()"
      ],
      "execution_count": 243,
      "outputs": [
        {
          "output_type": "display_data",
          "data": {
            "image/png": "[encoded data removed]",
            "text/plain": [
              "<Figure size 432x288 with 1 Axes>"
            ]
          },
          "metadata": {
            "tags": []
          }
        }
      ]
    },
    {
      "metadata": {
        "id": "QQgaeK3s9iG7",
        "colab_type": "text"
      },
      "cell_type": "markdown",
      "source": [
        "**Observation:** Opti,al value of K= 21 having AUC= 0.516"
      ]
    },
    {
      "metadata": {
        "id": "8bA8YmSLcUt2",
        "colab_type": "code",
        "colab": {
          "base_uri": "https://localhost:8080/",
          "height": 327
        },
        "outputId": "4f5a2093-fd8a-47cb-e16b-30d21bc8ba78"
      },
      "cell_type": "code",
      "source": [
        "clf = KNeighborsClassifier(n_neighbors=21,algorithm='brute')\n",
        "clf.fit(train_tfidf,y_train)\n",
        "#Train Curve\n",
        "y_pred_train=clf.predict_proba(train_tfidf)[:,1]\n",
        "fpr_train, tpr_train, thresholds_train = roc_curve(y_train,y_pred_train)\n",
        "roc_auc_train = metrics.auc(fpr_train, tpr_train)\n",
        "#Test Curve\n",
        "y_pred=clf.predict(test_tfidf)\n",
        "fpr, tpr, thresholds = roc_curve(y_test,y_pred)\n",
        "roc_auc = metrics.auc(fpr, tpr)\n",
        "#Drawing ROC curve\n",
        "print('Train AUC = ',metrics.auc(fpr_train, tpr_train))\n",
        "print('Test AUC = ',metrics.auc(fpr, tpr))\n",
        "plt.figure()\n",
        "plt.plot(fpr, tpr, color='darkorange', lw=1, label='Test ROC curve (area = %0.2f)' % roc_auc)\n",
        "plt.plot(fpr_train, tpr_train, lw=1, label='Train ROC curve (area = %0.2f)' % roc_auc_train)\n",
        "\n",
        "plt.plot([0, 1], [0, 1], color='navy', lw=1, linestyle='--')\n",
        "plt.xlim([0.0, 1.0])\n",
        "plt.ylim([0.0, 1.05])\n",
        "plt.xlabel('False Positive Rate')\n",
        "plt.ylabel('True Positive Rate')\n",
        "plt.title('Receiver operating characteristic')\n",
        "plt.legend(loc=\"lower right\")\n",
        "plt.show()"
      ],
      "execution_count": 244,
      "outputs": [
        {
          "output_type": "stream",
          "text": [
            "Train AUC =  0.6493077926013704\n",
            "Test AUC =  0.5011037548481473\n"
          ],
          "name": "stdout"
        },
        {
          "output_type": "display_data",
          "data": {
            "image/png": "[encoded data removed]",
            "text/plain": [
              "<Figure size 432x288 with 1 Axes>"
            ]
          },
          "metadata": {
            "tags": []
          }
        }
      ]
    },
    {
      "metadata": {
        "id": "lReqy5Nc0fOs",
        "colab_type": "code",
        "colab": {
          "base_uri": "https://localhost:8080/",
          "height": 353
        },
        "outputId": "4b1c6e90-174b-490e-ca38-9a60c18ad372"
      },
      "cell_type": "code",
      "source": [
        "#Confusion_Matrices\n",
        "\n",
        "#Confusion_Matrices Report for Train Data\n",
        "y_pred_train=clf.predict(train_tfidf)\n",
        "print(\"Confusion_Matrices Report for Train Data\")\n",
        "print(metrics.classification_report(y_train,y_pred_train))\n",
        "\n",
        "#Confusion_Matrices Report for Test Data\n",
        "y_pred=clf.predict(test_tfidf)\n",
        "print(\"Confusion_Matrices Report for Test Data\")\n",
        "print(metrics.classification_report(y_test,y_pred))\n"
      ],
      "execution_count": 246,
      "outputs": [
        {
          "output_type": "stream",
          "text": [
            "Confusion_Matrices Report for Train Data\n",
            "              precision    recall  f1-score   support\n",
            "\n",
            "           0       0.68      0.03      0.07     19217\n",
            "           1       0.63      0.99      0.77     31983\n",
            "\n",
            "   micro avg       0.63      0.63      0.63     51200\n",
            "   macro avg       0.66      0.51      0.42     51200\n",
            "weighted avg       0.65      0.63      0.51     51200\n",
            "\n",
            "Confusion_Matrices Report for Test Data\n",
            "              precision    recall  f1-score   support\n",
            "\n",
            "           0       0.41      0.02      0.04      6061\n",
            "           1       0.62      0.98      0.76      9939\n",
            "\n",
            "   micro avg       0.62      0.62      0.62     16000\n",
            "   macro avg       0.52      0.50      0.40     16000\n",
            "weighted avg       0.54      0.62      0.49     16000\n",
            "\n"
          ],
          "name": "stdout"
        }
      ]
    },
    {
      "metadata": {
        "id": "BQYn4bAQ1HhS",
        "colab_type": "code",
        "colab": {}
      },
      "cell_type": "code",
      "source": [
        "cnf_matrix = confusion_matrix(y_test,y_pred)\n",
        "cnf_matrix_train = confusion_matrix(y_train,y_pred_train)\n",
        "df_cm = pd.DataFrame(cnf_matrix, index = [i for i in [0,1]],\n",
        "                  columns = [i for i in [0,1]])\n",
        "df_cm_train = pd.DataFrame(cnf_matrix_train, index = [i for i in [0,1]],\n",
        "                  columns = [i for i in [0,1]])"
      ],
      "execution_count": 0,
      "outputs": []
    },
    {
      "metadata": {
        "id": "RRxz8Ufx2i4p",
        "colab_type": "code",
        "colab": {
          "base_uri": "https://localhost:8080/",
          "height": 282
        },
        "outputId": "ad73130b-e71d-4d98-e9b2-253b7044372b"
      },
      "cell_type": "code",
      "source": [
        "print(\"Confusion Matrices for test Data\")\n",
        "ax = sns.heatmap(df_cm,annot=True, fmt=\".2f\")"
      ],
      "execution_count": 248,
      "outputs": [
        {
          "output_type": "stream",
          "text": [
            "Confusion Matrices for test Data\n"
          ],
          "name": "stdout"
        },
        {
          "output_type": "display_data",
          "data": {
            "image/png": "[encoded data removed]",
            "text/plain": [
              "<Figure size 432x288 with 2 Axes>"
            ]
          },
          "metadata": {
            "tags": []
          }
        }
      ]
    },
    {
      "metadata": {
        "id": "CIa1hyYF2pOm",
        "colab_type": "code",
        "colab": {
          "base_uri": "https://localhost:8080/",
          "height": 282
        },
        "outputId": "a9870361-bd0c-4efa-edac-00caf9dce3ad"
      },
      "cell_type": "code",
      "source": [
        "print(\"Confusion Matrices for Train Data\")\n",
        "ax_train = sns.heatmap(df_cm_train,annot=True, fmt=\".2f\")"
      ],
      "execution_count": 249,
      "outputs": [
        {
          "output_type": "stream",
          "text": [
            "Confusion Matrices for Train Data\n"
          ],
          "name": "stdout"
        },
        {
          "output_type": "display_data",
          "data": {
            "image/png": "[encoded data removed]",
            "text/plain": [
              "<Figure size 432x288 with 2 Axes>"
            ]
          },
          "metadata": {
            "tags": []
          }
        }
      ]
    },
    {
      "metadata": {
        "id": "P3lwBwl1OJo7",
        "colab_type": "text"
      },
      "cell_type": "markdown",
      "source": [
        "# 5.1.3 Word2Vec"
      ]
    },
    {
      "metadata": {
        "id": "r0Y-fJYbOPxw",
        "colab_type": "text"
      },
      "cell_type": "markdown",
      "source": [
        "**Simple Cross Validation**"
      ]
    },
    {
      "metadata": {
        "id": "xN54pIoQOONO",
        "colab_type": "code",
        "colab": {
          "base_uri": "https://localhost:8080/",
          "height": 773
        },
        "outputId": "38a25702-de21-4e28-8328-e2b4f298bf7b"
      },
      "cell_type": "code",
      "source": [
        "AUC_training=[]\n",
        "AUC_cv=[]\n",
        "K=[i for i in range(1,30,2)]\n",
        "for i in K:\n",
        "  clf=KNeighborsClassifier(n_neighbors=i,algorithm='brute' )\n",
        "  clf.fit(sent_vectors,y_train)\n",
        "  print(\"===K = \",i,\"======\")\n",
        "  #Training Data\n",
        "  y_predict_training=clf.predict_proba(sent_vectors)[:,1]\n",
        "  auc=roc_auc_score(y_train,y_predict_training)\n",
        "  AUC_training.append(auc)\n",
        "  print(\"Train Auc = \",auc) \n",
        "  #CV Curve\n",
        "  y_predict_cv=clf.predict_proba(sent_vectors_cv)[:,1]\n",
        "  auc=roc_auc_score(y_cv,y_predict_cv)\n",
        "  AUC_cv.append(auc)\n",
        "  print(\"Test Auc = \",auc) "
      ],
      "execution_count": 204,
      "outputs": [
        {
          "output_type": "stream",
          "text": [
            "===K =  1 ======\n",
            "Train Auc =  0.9985461026170153\n",
            "Test Auc =  0.5637056383446488\n",
            "===K =  3 ======\n",
            "Train Auc =  0.9563606499199305\n",
            "Test Auc =  0.6532648271894559\n",
            "===K =  5 ======\n",
            "Train Auc =  0.9443639466575324\n",
            "Test Auc =  0.7058695979762751\n",
            "===K =  7 ======\n",
            "Train Auc =  0.938235515302627\n",
            "Test Auc =  0.7364955764313614\n",
            "===K =  9 ======\n",
            "Train Auc =  0.9339108356158878\n",
            "Test Auc =  0.7555432898573933\n",
            "===K =  11 ======\n",
            "Train Auc =  0.9310162092066424\n",
            "Test Auc =  0.7665824837441049\n",
            "===K =  13 ======\n",
            "Train Auc =  0.9289382145307\n",
            "Test Auc =  0.7738000990763604\n",
            "===K =  15 ======\n",
            "Train Auc =  0.9269070685189341\n",
            "Test Auc =  0.7801272803004253\n",
            "===K =  17 ======\n",
            "Train Auc =  0.9254934205717482\n",
            "Test Auc =  0.7840536188930483\n",
            "===K =  19 ======\n",
            "Train Auc =  0.9243228743031613\n",
            "Test Auc =  0.7882611396151394\n",
            "===K =  21 ======\n",
            "Train Auc =  0.9233195467219765\n",
            "Test Auc =  0.7932755040095619\n",
            "===K =  23 ======\n",
            "Train Auc =  0.9225936381085759\n",
            "Test Auc =  0.7960295185264299\n",
            "===K =  25 ======\n",
            "Train Auc =  0.9217745723403485\n",
            "Test Auc =  0.7979853407254701\n",
            "===K =  27 ======\n",
            "Train Auc =  0.9209774714594723\n",
            "Test Auc =  0.7998581885699563\n",
            "===K =  29 ======\n",
            "Train Auc =  0.9204081236820223\n",
            "Test Auc =  0.8007330895643796\n"
          ],
          "name": "stdout"
        }
      ]
    },
    {
      "metadata": {
        "id": "m0pNsmEBSMjb",
        "colab_type": "code",
        "colab": {
          "base_uri": "https://localhost:8080/",
          "height": 294
        },
        "outputId": "fac9d4e0-1e65-4574-a5db-0f9c2aaa4eed"
      },
      "cell_type": "code",
      "source": [
        "plt.plot(K,AUC_training,label='Training')\n",
        "plt.plot(K,AUC_cv,label='CV')\n",
        "plt.ylabel('AUC Score')\n",
        "plt.xlabel('K')\n",
        "plt.title('K vs AUC ')\n",
        "plt.legend()\n",
        "plt.show()"
      ],
      "execution_count": 205,
      "outputs": [
        {
          "output_type": "display_data",
          "data": {
            "image/png": "[encoded data removed]",
            "text/plain": [
              "<Figure size 432x288 with 1 Axes>"
            ]
          },
          "metadata": {
            "tags": []
          }
        }
      ]
    },
    {
      "metadata": {
        "id": "ttNp2AdHVak6",
        "colab_type": "text"
      },
      "cell_type": "markdown",
      "source": [
        "**Observation :** Optimal value of k is 15 (Not choosing 29 as 15 is more faster and also not much less AUC)"
      ]
    },
    {
      "metadata": {
        "id": "iv3EKt76Sdgc",
        "colab_type": "code",
        "colab": {
          "base_uri": "https://localhost:8080/",
          "height": 327
        },
        "outputId": "85ca9a80-0ea0-4dd6-b55c-6294eb7f09eb"
      },
      "cell_type": "code",
      "source": [
        "clf = KNeighborsClassifier(n_neighbors=15,algorithm='brute')\n",
        "clf.fit(sent_vectors,y_train)\n",
        "\n",
        "#Train Curve\n",
        "y_pred_train=clf.predict_proba(sent_vectors)[:,1]\n",
        "fpr_train, tpr_train, thresholds_train = roc_curve(y_train,y_pred_train)\n",
        "roc_auc_train = metrics.auc(fpr_train, tpr_train)\n",
        "\n",
        "#Test Curve\n",
        "y_pred=clf.predict_proba(sent_vectors_test)[:,1]\n",
        "fpr, tpr, thresholds = roc_curve(y_test,y_pred)\n",
        "roc_auc = metrics.auc(fpr, tpr)\n",
        "\n",
        "#Drawing ROC curve\n",
        "print('Train AUC = ',metrics.auc(fpr_train, tpr_train))\n",
        "print('CV AUC = ',metrics.auc(fpr, tpr))\n",
        "plt.figure()\n",
        "plt.plot(fpr, tpr, color='darkorange', lw=1, label=' Test ROC curve (area = %0.2f)' % roc_auc)\n",
        "plt.plot(fpr_train, tpr_train, lw=1, label='Train ROC curve (area = %0.2f)' % roc_auc_train)\n",
        "\n",
        "plt.plot([0, 1], [0, 1], color='navy', lw=1, linestyle='--')\n",
        "plt.xlim([0.0, 1.0])\n",
        "plt.ylim([0.0, 1.05])\n",
        "plt.xlabel('False Positive Rate')\n",
        "plt.ylabel('True Positive Rate')\n",
        "plt.title('Receiver operating characteristic')\n",
        "plt.legend(loc=\"lower right\")\n",
        "plt.show()\n"
      ],
      "execution_count": 206,
      "outputs": [
        {
          "output_type": "stream",
          "text": [
            "Train AUC =  0.9269070685189341\n",
            "CV AUC =  0.7802127709269076\n"
          ],
          "name": "stdout"
        },
        {
          "output_type": "display_data",
          "data": {
            "image/png": "[encoded data removed]",
            "text/plain": [
              "<Figure size 432x288 with 1 Axes>"
            ]
          },
          "metadata": {
            "tags": []
          }
        }
      ]
    },
    {
      "metadata": {
        "id": "5uHOxeG2TETl",
        "colab_type": "code",
        "colab": {
          "base_uri": "https://localhost:8080/",
          "height": 353
        },
        "outputId": "55bb643a-94d2-4263-f685-55a56068e37c"
      },
      "cell_type": "code",
      "source": [
        "#Confusion_Matrices_Report\n",
        "y_pred_train=clf.predict(sent_vectors)\n",
        "print(\"Confusion_Matrices Report for Train Data\")\n",
        "print(metrics.classification_report(y_train,y_pred_train))\n",
        "\n",
        "y_pred=clf.predict(sent_vectors_test)\n",
        "print(\"Confusion_Matrices Report for Test Data\")\n",
        "print(metrics.classification_report(y_test,y_pred))\n"
      ],
      "execution_count": 207,
      "outputs": [
        {
          "output_type": "stream",
          "text": [
            "Confusion_Matrices Report for Train Data\n",
            "              precision    recall  f1-score   support\n",
            "\n",
            "           0       0.82      0.77      0.80     19217\n",
            "           1       0.87      0.90      0.88     31983\n",
            "\n",
            "   micro avg       0.85      0.85      0.85     51200\n",
            "   macro avg       0.84      0.84      0.84     51200\n",
            "weighted avg       0.85      0.85      0.85     51200\n",
            "\n",
            "Confusion_Matrices Report for Test Data\n",
            "              precision    recall  f1-score   support\n",
            "\n",
            "           0       0.74      0.41      0.53      6061\n",
            "           1       0.72      0.91      0.80      9939\n",
            "\n",
            "   micro avg       0.72      0.72      0.72     16000\n",
            "   macro avg       0.73      0.66      0.67     16000\n",
            "weighted avg       0.73      0.72      0.70     16000\n",
            "\n"
          ],
          "name": "stdout"
        }
      ]
    },
    {
      "metadata": {
        "id": "U36dqezkTFWZ",
        "colab_type": "code",
        "colab": {}
      },
      "cell_type": "code",
      "source": [
        "cnf_matrix = confusion_matrix(y_test,y_pred)\n",
        "cnf_matrix_train = confusion_matrix(y_train,y_pred_train)\n",
        "df_cm = pd.DataFrame(cnf_matrix, index = [i for i in [0,1]],\n",
        "                  columns = [i for i in [0,1]])\n",
        "df_cm_train = pd.DataFrame(cnf_matrix_train, index = [i for i in [0,1]],\n",
        "                  columns = [i for i in [0,1]])"
      ],
      "execution_count": 0,
      "outputs": []
    },
    {
      "metadata": {
        "id": "JDJwvQ6gUqC4",
        "colab_type": "code",
        "colab": {
          "base_uri": "https://localhost:8080/",
          "height": 284
        },
        "outputId": "cc604af4-43f2-45fc-f515-8e4bd87bb462"
      },
      "cell_type": "code",
      "source": [
        "print(\"Confusion Matrices for test Data\")\n",
        "ax = sns.heatmap(df_cm,annot=True, fmt=\".2f\")"
      ],
      "execution_count": 209,
      "outputs": [
        {
          "output_type": "stream",
          "text": [
            "Confusion Matrices for test Data\n"
          ],
          "name": "stdout"
        },
        {
          "output_type": "display_data",
          "data": {
            "image/png": "[encoded data removed]",
            "text/plain": [
              "<Figure size 432x288 with 2 Axes>"
            ]
          },
          "metadata": {
            "tags": []
          }
        }
      ]
    },
    {
      "metadata": {
        "id": "g1mfPimeUzu5",
        "colab_type": "code",
        "colab": {
          "base_uri": "https://localhost:8080/",
          "height": 284
        },
        "outputId": "38489e11-73ac-4df5-adff-be51f93f97e3"
      },
      "cell_type": "code",
      "source": [
        "print(\"Confusion Matrices for Train Data\")\n",
        "ax_train = sns.heatmap(df_cm_train,annot=True, fmt=\".2f\")"
      ],
      "execution_count": 210,
      "outputs": [
        {
          "output_type": "stream",
          "text": [
            "Confusion Matrices for Train Data\n"
          ],
          "name": "stdout"
        },
        {
          "output_type": "display_data",
          "data": {
            "image/png": "[encoded data removed]",
            "text/plain": [
              "<Figure size 432x288 with 2 Axes>"
            ]
          },
          "metadata": {
            "tags": []
          }
        }
      ]
    },
    {
      "metadata": {
        "id": "ZwC9nixkViMS",
        "colab_type": "text"
      },
      "cell_type": "markdown",
      "source": [
        "# 5.1.4 KNN(brute force) on TFIDFW2Vec"
      ]
    },
    {
      "metadata": {
        "id": "1Ob0SlRWV49g",
        "colab_type": "code",
        "colab": {
          "base_uri": "https://localhost:8080/",
          "height": 773
        },
        "outputId": "ef879cd8-6fed-459d-8a39-013775122bcc"
      },
      "cell_type": "code",
      "source": [
        "AUC_training=[]\n",
        "AUC_cv=[]\n",
        "K=[i for i in range(1,30,2)]\n",
        "for i in K:\n",
        "  clf=KNeighborsClassifier(n_neighbors=i,algorithm='brute' )\n",
        "  clf.fit(tfidf_sent_vectors_train,y_train)\n",
        "  print(\"===K = \",i,\"======\")\n",
        "  #Training Data\n",
        "  y_predict_training=clf.predict_proba(tfidf_sent_vectors_train)[:,1]\n",
        "  auc=roc_auc_score(y_train,y_predict_training)\n",
        "  AUC_training.append(auc)\n",
        "  print(\"Train Auc = \",auc) \n",
        "  #CV Curve\n",
        "  y_predict_cv=clf.predict_proba(tfidf_sent_vectors_cv)[:,1]\n",
        "  auc=roc_auc_score(y_cv,y_predict_cv)\n",
        "  AUC_cv.append(auc)\n",
        "  print(\"CV Auc = \",auc) "
      ],
      "execution_count": 219,
      "outputs": [
        {
          "output_type": "stream",
          "text": [
            "===K =  1 ======\n",
            "Train Auc =  0.9985461026170153\n",
            "CV Auc =  0.5616636303033983\n",
            "===K =  3 ======\n",
            "Train Auc =  0.9462980265780376\n",
            "CV Auc =  0.6297492003788979\n",
            "===K =  5 ======\n",
            "Train Auc =  0.929257470100773\n",
            "CV Auc =  0.6673171960928594\n",
            "===K =  7 ======\n",
            "Train Auc =  0.9213467898889037\n",
            "CV Auc =  0.6866655309797663\n",
            "===K =  9 ======\n",
            "Train Auc =  0.9156379033391724\n",
            "CV Auc =  0.7033360619181112\n",
            "===K =  11 ======\n",
            "Train Auc =  0.9119666757970636\n",
            "CV Auc =  0.7187589626721842\n",
            "===K =  13 ======\n",
            "Train Auc =  0.909506051969955\n",
            "CV Auc =  0.7293525462614141\n",
            "===K =  15 ======\n",
            "Train Auc =  0.9066325818148002\n",
            "CV Auc =  0.7382434122032757\n",
            "===K =  17 ======\n",
            "Train Auc =  0.9045603012636264\n",
            "CV Auc =  0.7435463385947201\n",
            "===K =  19 ======\n",
            "Train Auc =  0.9030523011090392\n",
            "CV Auc =  0.7494240033036639\n",
            "===K =  21 ======\n",
            "Train Auc =  0.9016931927906598\n",
            "CV Auc =  0.7552561566446754\n",
            "===K =  23 ======\n",
            "Train Auc =  0.9001509558848075\n",
            "CV Auc =  0.7603598659365133\n",
            "===K =  25 ======\n",
            "Train Auc =  0.8989709891200901\n",
            "CV Auc =  0.7641040017600526\n",
            "===K =  27 ======\n",
            "Train Auc =  0.8980659519692572\n",
            "CV Auc =  0.7677033453686782\n",
            "===K =  29 ======\n",
            "Train Auc =  0.8971042413414873\n",
            "CV Auc =  0.7710331992845277\n"
          ],
          "name": "stdout"
        }
      ]
    },
    {
      "metadata": {
        "id": "i2C1dSmZYeGN",
        "colab_type": "code",
        "colab": {
          "base_uri": "https://localhost:8080/",
          "height": 294
        },
        "outputId": "c3241dc6-dc14-4f69-e8fa-0abafcef1d71"
      },
      "cell_type": "code",
      "source": [
        "plt.plot(K,AUC_training,label='Training')\n",
        "plt.plot(K,AUC_cv,label='CV')\n",
        "plt.ylabel('AUC Score')\n",
        "plt.xlabel('K')\n",
        "plt.title('K vs AUC ')\n",
        "plt.legend()\n",
        "plt.show()"
      ],
      "execution_count": 220,
      "outputs": [
        {
          "output_type": "display_data",
          "data": {
            "image/png": "[encoded data removed]",
            "text/plain": [
              "<Figure size 432x288 with 1 Axes>"
            ]
          },
          "metadata": {
            "tags": []
          }
        }
      ]
    },
    {
      "metadata": {
        "id": "jxuturPOYqUf",
        "colab_type": "text"
      },
      "cell_type": "markdown",
      "source": [
        "**Observation:** Optimal value of K=29"
      ]
    },
    {
      "metadata": {
        "id": "zs7kbW8BYoSa",
        "colab_type": "code",
        "colab": {
          "base_uri": "https://localhost:8080/",
          "height": 327
        },
        "outputId": "2b1a6700-2b74-48bf-eca7-080be397b312"
      },
      "cell_type": "code",
      "source": [
        "clf = KNeighborsClassifier(n_neighbors=29,algorithm='brute')\n",
        "clf.fit(tfidf_sent_vectors_train,y_train)\n",
        "\n",
        "#Train Curve\n",
        "y_pred_train=clf.predict_proba(tfidf_sent_vectors_train)[:,1]\n",
        "fpr_train, tpr_train, thresholds_train = roc_curve(y_train,y_pred_train)\n",
        "roc_auc_train = metrics.auc(fpr_train, tpr_train)\n",
        "\n",
        "#Test Curve\n",
        "y_pred=clf.predict_proba(tfidf_sent_vectors_test)[:,1]\n",
        "fpr, tpr, thresholds = roc_curve(y_test,y_pred)\n",
        "roc_auc = metrics.auc(fpr, tpr)\n",
        "\n",
        "#Drawing ROC curve\n",
        "print('Train AUC = ',metrics.auc(fpr_train, tpr_train))\n",
        "print('CV AUC = ',metrics.auc(fpr, tpr))\n",
        "plt.figure()\n",
        "plt.plot(fpr, tpr, color='darkorange', lw=1, label=' Test ROC curve (area = %0.2f)' % roc_auc)\n",
        "plt.plot(fpr_train, tpr_train, lw=1, label='Train ROC curve (area = %0.2f)' % roc_auc_train)\n",
        "\n",
        "plt.plot([0, 1], [0, 1], color='navy', lw=1, linestyle='--')\n",
        "plt.xlim([0.0, 1.0])\n",
        "plt.ylim([0.0, 1.05])\n",
        "plt.xlabel('False Positive Rate')\n",
        "plt.ylabel('True Positive Rate')\n",
        "plt.title('Receiver operating characteristic')\n",
        "plt.legend(loc=\"lower right\")\n",
        "plt.show()\n"
      ],
      "execution_count": 221,
      "outputs": [
        {
          "output_type": "stream",
          "text": [
            "Train AUC =  0.8971042413414873\n",
            "CV AUC =  0.7780028127027765\n"
          ],
          "name": "stdout"
        },
        {
          "output_type": "display_data",
          "data": {
            "image/png": "[encoded data removed]",
            "text/plain": [
              "<Figure size 432x288 with 1 Axes>"
            ]
          },
          "metadata": {
            "tags": []
          }
        }
      ]
    },
    {
      "metadata": {
        "id": "Ir7tr4bKZ1fP",
        "colab_type": "code",
        "colab": {
          "base_uri": "https://localhost:8080/",
          "height": 353
        },
        "outputId": "e2e5cf07-0d62-4a3c-be20-b15e298c9c96"
      },
      "cell_type": "code",
      "source": [
        "#Confusion_Matrices_Report\n",
        "y_pred_train=clf.predict(tfidf_sent_vectors_train)\n",
        "print(\"Confusion_Matrices Report for Train Data\")\n",
        "print(metrics.classification_report(y_train,y_pred_train))\n",
        "\n",
        "y_pred=clf.predict(tfidf_sent_vectors_test)\n",
        "print(\"Confusion_Matrices Report for Test Data\")\n",
        "print(metrics.classification_report(y_test,y_pred))\n"
      ],
      "execution_count": 222,
      "outputs": [
        {
          "output_type": "stream",
          "text": [
            "Confusion_Matrices Report for Train Data\n",
            "              precision    recall  f1-score   support\n",
            "\n",
            "           0       0.80      0.69      0.74     19217\n",
            "           1       0.83      0.90      0.86     31983\n",
            "\n",
            "   micro avg       0.82      0.82      0.82     51200\n",
            "   macro avg       0.81      0.79      0.80     51200\n",
            "weighted avg       0.82      0.82      0.82     51200\n",
            "\n",
            "Confusion_Matrices Report for Test Data\n",
            "              precision    recall  f1-score   support\n",
            "\n",
            "           0       0.78      0.31      0.44      6061\n",
            "           1       0.69      0.95      0.80      9939\n",
            "\n",
            "   micro avg       0.70      0.70      0.70     16000\n",
            "   macro avg       0.74      0.63      0.62     16000\n",
            "weighted avg       0.73      0.70      0.66     16000\n",
            "\n"
          ],
          "name": "stdout"
        }
      ]
    },
    {
      "metadata": {
        "id": "Q79rc_pmaNTf",
        "colab_type": "code",
        "colab": {}
      },
      "cell_type": "code",
      "source": [
        "cnf_matrix = confusion_matrix(y_test,y_pred)\n",
        "cnf_matrix_train = confusion_matrix(y_train,y_pred_train)\n",
        "df_cm = pd.DataFrame(cnf_matrix, index = [i for i in [0,1]],\n",
        "                  columns = [i for i in [0,1]])\n",
        "df_cm_train = pd.DataFrame(cnf_matrix_train, index = [i for i in [0,1]],\n",
        "                  columns = [i for i in [0,1]])"
      ],
      "execution_count": 0,
      "outputs": []
    },
    {
      "metadata": {
        "id": "eSGQuXJ4aSNE",
        "colab_type": "code",
        "colab": {
          "base_uri": "https://localhost:8080/",
          "height": 282
        },
        "outputId": "1a090b0c-63b9-4c42-9f2f-2b557003ebb7"
      },
      "cell_type": "code",
      "source": [
        "print(\"Confusion Matrices for test Data\")\n",
        "ax = sns.heatmap(df_cm,annot=True, fmt=\".2f\")"
      ],
      "execution_count": 224,
      "outputs": [
        {
          "output_type": "stream",
          "text": [
            "Confusion Matrices for test Data\n"
          ],
          "name": "stdout"
        },
        {
          "output_type": "display_data",
          "data": {
            "image/png": "[encoded data removed]",
            "text/plain": [
              "<Figure size 432x288 with 2 Axes>"
            ]
          },
          "metadata": {
            "tags": []
          }
        }
      ]
    },
    {
      "metadata": {
        "id": "DjktN2jcaW_p",
        "colab_type": "code",
        "colab": {
          "base_uri": "https://localhost:8080/",
          "height": 282
        },
        "outputId": "a3fc8e38-d675-43fb-8f26-eecc4a6eece9"
      },
      "cell_type": "code",
      "source": [
        "print(\"Confusion Matrices for Train Data\")\n",
        "ax_train = sns.heatmap(df_cm_train,annot=True, fmt=\".2f\")"
      ],
      "execution_count": 225,
      "outputs": [
        {
          "output_type": "stream",
          "text": [
            "Confusion Matrices for Train Data\n"
          ],
          "name": "stdout"
        },
        {
          "output_type": "display_data",
          "data": {
            "image/png": "[encoded data removed]",
            "text/plain": [
              "<Figure size 432x288 with 2 Axes>"
            ]
          },
          "metadata": {
            "tags": []
          }
        }
      ]
    },
    {
      "metadata": {
        "id": "sWYjiUhLbfSn",
        "colab_type": "text"
      },
      "cell_type": "markdown",
      "source": [
        "# Conclusion:"
      ]
    },
    {
      "metadata": {
        "id": "EatXHW6Bbi0r",
        "colab_type": "code",
        "colab": {}
      },
      "cell_type": "code",
      "source": [
        "from prettytable import PrettyTable\n",
        "x = PrettyTable()\n",
        "x.field_names = [\"Vectorizer\", \"Algorithm\", \"K\", \"AUC\"]\n",
        "x.add_row([\"BOWs\",\"BruteForce\", 23, 0.70])\n",
        "x.add_row([\"TFIDF\",\"BruteForce\", 500, 0.77])\n",
        "x.add_row([\"W2Vec\",\"BruteForce\", 15, 0.78])\n",
        "x.add_row([\"TFIDFW2Vec\",\"BruteForce\", 29, 0.78])\n",
        "print (x)"
      ],
      "execution_count": 0,
      "outputs": []
    }
  ]
}