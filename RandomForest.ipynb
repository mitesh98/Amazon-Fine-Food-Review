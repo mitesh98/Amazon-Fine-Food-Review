{
  "nbformat": 4,
  "nbformat_minor": 0,
  "metadata": {
    "colab": {
      "name": "RandomForest.ipynb",
      "version": "0.3.2",
      "provenance": [],
      "collapsed_sections": [
        "AwKGS6_g7tgA",
        "CQYBeeWcDo-0",
        "gmRa0c2QD8GS",
        "diblWz03G1mK",
        "Asm3jswjMAYk",
        "uqYUsSrKQtIw"
      ],
      "include_colab_link": true
    },
    "kernelspec": {
      "name": "python3",
      "display_name": "Python 3"
    },
    "accelerator": "TPU"
  },
  "cells": [
    {
      "cell_type": "markdown",
      "metadata": {
        "id": "view-in-github",
        "colab_type": "text"
      },
      "source": [
        "<a href=\"https://colab.research.google.com/github/mitesh98/Amazon-Fine-Food-Review/blob/master/RandomForest.ipynb\" target=\"_parent\"><img src=\"https://colab.research.google.com/assets/colab-badge.svg\" alt=\"Open In Colab\"/></a>"
      ]
    },
    {
      "metadata": {
        "id": "AwKGS6_g7tgA",
        "colab_type": "text"
      },
      "cell_type": "markdown",
      "source": [
        "# Amazon Fine Food Reviews Analysis\n",
        "Data Source: https://www.kaggle.com/snap/amazon-fine-food-reviews\n",
        "\n",
        "The Amazon Fine Food Reviews dataset consists of reviews of fine foods from Amazon.\n",
        "\n",
        "Number of reviews: 568,454\n",
        "\n",
        "Number of users: 256,059\n",
        "\n",
        "Number of products: 74,258\n",
        "\n",
        "Timespan: Oct 1999 - Oct 2012\n",
        "\n",
        "Number of Attributes/Columns in data: 10\n",
        "\n",
        "Attribute Information:\n",
        "\n",
        "Id\n",
        "\n",
        "ProductId - unique identifier for the product\n",
        "\n",
        "UserId - unqiue identifier for the user\n",
        "\n",
        "ProfileName\n",
        "\n",
        "HelpfulnessNumerator - number of users who found the review helpful\n",
        "\n",
        "HelpfulnessDenominator - number of users who indicated whether they found the review helpful or not\n",
        "\n",
        "Score - rating between 1 and 5\n",
        "\n",
        "Time - timestamp for the review\n",
        "\n",
        "Summary - brief summary of the review Text - text of the review\n",
        "\n",
        "Objective: Given a review, determine whether the review is positive (rating of 4 or 5) or negative (rating of 1 or 2).\n",
        "\n"
      ]
    },
    {
      "metadata": {
        "id": "ppwG3J-87vcU",
        "colab_type": "code",
        "colab": {}
      },
      "cell_type": "code",
      "source": [
        "%matplotlib inline \n",
        "import pandas as pd\n",
        "import numpy as np\n",
        "import matplotlib.pyplot as plt\n",
        "import seaborn as sns\n",
        "\n",
        "from sklearn.feature_extraction.text import CountVectorizer\n",
        "from sklearn.feature_extraction.text import TfidfVectorizer\n",
        "\n",
        "import re\n",
        "import nltk\n",
        "\n",
        "from sklearn import metrics\n",
        "from sklearn.metrics import confusion_matrix\n",
        "\n",
        "import tqdm\n",
        "\n",
        "import warnings\n",
        "warnings.filterwarnings(\"ignore\")\n",
        "\n",
        "from sklearn.metrics import roc_auc_score\n",
        "from sklearn.metrics import roc_curve, auc\n",
        "\n",
        "from mpl_toolkits.mplot3d import Axes3D"
      ],
      "execution_count": 0,
      "outputs": []
    },
    {
      "metadata": {
        "id": "wOnIyha9DT3e",
        "colab_type": "code",
        "colab": {}
      },
      "cell_type": "code",
      "source": [
        "import sqlite3"
      ],
      "execution_count": 0,
      "outputs": []
    },
    {
      "metadata": {
        "id": "sf-DfJspDfbq",
        "colab_type": "code",
        "outputId": "37a80f87-8605-4da2-8b77-997b38a6d487",
        "colab": {
          "base_uri": "https://localhost:8080/",
          "height": 54
        }
      },
      "cell_type": "code",
      "source": [
        "from google.colab import drive\n",
        "drive.mount('/content/drive')"
      ],
      "execution_count": 3,
      "outputs": [
        {
          "output_type": "stream",
          "text": [
            "Drive already mounted at /content/drive; to attempt to forcibly remount, call drive.mount(\"/content/drive\", force_remount=True).\n"
          ],
          "name": "stdout"
        }
      ]
    },
    {
      "metadata": {
        "id": "g_Hphsa0DjRk",
        "colab_type": "code",
        "colab": {}
      },
      "cell_type": "code",
      "source": [
        "!cp \"/content/drive/My Drive/database.sqlite\" \"database.sqlite\""
      ],
      "execution_count": 0,
      "outputs": []
    },
    {
      "metadata": {
        "id": "CQYBeeWcDo-0",
        "colab_type": "text"
      },
      "cell_type": "markdown",
      "source": [
        "# Reading Data"
      ]
    },
    {
      "metadata": {
        "id": "Gl0D3IbYDrWu",
        "colab_type": "code",
        "colab": {}
      },
      "cell_type": "code",
      "source": [
        "con=sqlite3.connect(\"database.sqlite\")"
      ],
      "execution_count": 0,
      "outputs": []
    },
    {
      "metadata": {
        "id": "seEBdzRODu9F",
        "colab_type": "code",
        "outputId": "8cfadeac-4c66-4b04-b811-1ac2481e94de",
        "colab": {
          "base_uri": "https://localhost:8080/",
          "height": 374
        }
      },
      "cell_type": "code",
      "source": [
        "filtered_data=pd.read_sql_query(\"SELECT * FROM `Reviews` WHERE `Score` !=3\",con)\n",
        "filtered_data.shape\n",
        "filtered_data.head()"
      ],
      "execution_count": 6,
      "outputs": [
        {
          "output_type": "execute_result",
          "data": {
            "text/html": [
              "<div>\n",
              "<style scoped>\n",
              "    .dataframe tbody tr th:only-of-type {\n",
              "        vertical-align: middle;\n",
              "    }\n",
              "\n",
              "    .dataframe tbody tr th {\n",
              "        vertical-align: top;\n",
              "    }\n",
              "\n",
              "    .dataframe thead th {\n",
              "        text-align: right;\n",
              "    }\n",
              "</style>\n",
              "<table border=\"1\" class=\"dataframe\">\n",
              "  <thead>\n",
              "    <tr style=\"text-align: right;\">\n",
              "      <th></th>\n",
              "      <th>Id</th>\n",
              "      <th>ProductId</th>\n",
              "      <th>UserId</th>\n",
              "      <th>ProfileName</th>\n",
              "      <th>HelpfulnessNumerator</th>\n",
              "      <th>HelpfulnessDenominator</th>\n",
              "      <th>Score</th>\n",
              "      <th>Time</th>\n",
              "      <th>Summary</th>\n",
              "      <th>Text</th>\n",
              "    </tr>\n",
              "  </thead>\n",
              "  <tbody>\n",
              "    <tr>\n",
              "      <th>0</th>\n",
              "      <td>1</td>\n",
              "      <td>B001E4KFG0</td>\n",
              "      <td>A3SGXH7AUHU8GW</td>\n",
              "      <td>delmartian</td>\n",
              "      <td>1</td>\n",
              "      <td>1</td>\n",
              "      <td>5</td>\n",
              "      <td>1303862400</td>\n",
              "      <td>Good Quality Dog Food</td>\n",
              "      <td>I have bought several of the Vitality canned d...</td>\n",
              "    </tr>\n",
              "    <tr>\n",
              "      <th>1</th>\n",
              "      <td>2</td>\n",
              "      <td>B00813GRG4</td>\n",
              "      <td>A1D87F6ZCVE5NK</td>\n",
              "      <td>dll pa</td>\n",
              "      <td>0</td>\n",
              "      <td>0</td>\n",
              "      <td>1</td>\n",
              "      <td>1346976000</td>\n",
              "      <td>Not as Advertised</td>\n",
              "      <td>Product arrived labeled as Jumbo Salted Peanut...</td>\n",
              "    </tr>\n",
              "    <tr>\n",
              "      <th>2</th>\n",
              "      <td>3</td>\n",
              "      <td>B000LQOCH0</td>\n",
              "      <td>ABXLMWJIXXAIN</td>\n",
              "      <td>Natalia Corres \"Natalia Corres\"</td>\n",
              "      <td>1</td>\n",
              "      <td>1</td>\n",
              "      <td>4</td>\n",
              "      <td>1219017600</td>\n",
              "      <td>\"Delight\" says it all</td>\n",
              "      <td>This is a confection that has been around a fe...</td>\n",
              "    </tr>\n",
              "    <tr>\n",
              "      <th>3</th>\n",
              "      <td>4</td>\n",
              "      <td>B000UA0QIQ</td>\n",
              "      <td>A395BORC6FGVXV</td>\n",
              "      <td>Karl</td>\n",
              "      <td>3</td>\n",
              "      <td>3</td>\n",
              "      <td>2</td>\n",
              "      <td>1307923200</td>\n",
              "      <td>Cough Medicine</td>\n",
              "      <td>If you are looking for the secret ingredient i...</td>\n",
              "    </tr>\n",
              "    <tr>\n",
              "      <th>4</th>\n",
              "      <td>5</td>\n",
              "      <td>B006K2ZZ7K</td>\n",
              "      <td>A1UQRSCLF8GW1T</td>\n",
              "      <td>Michael D. Bigham \"M. Wassir\"</td>\n",
              "      <td>0</td>\n",
              "      <td>0</td>\n",
              "      <td>5</td>\n",
              "      <td>1350777600</td>\n",
              "      <td>Great taffy</td>\n",
              "      <td>Great taffy at a great price.  There was a wid...</td>\n",
              "    </tr>\n",
              "  </tbody>\n",
              "</table>\n",
              "</div>"
            ],
            "text/plain": [
              "   Id   ProductId          UserId                      ProfileName  \\\n",
              "0   1  B001E4KFG0  A3SGXH7AUHU8GW                       delmartian   \n",
              "1   2  B00813GRG4  A1D87F6ZCVE5NK                           dll pa   \n",
              "2   3  B000LQOCH0   ABXLMWJIXXAIN  Natalia Corres \"Natalia Corres\"   \n",
              "3   4  B000UA0QIQ  A395BORC6FGVXV                             Karl   \n",
              "4   5  B006K2ZZ7K  A1UQRSCLF8GW1T    Michael D. Bigham \"M. Wassir\"   \n",
              "\n",
              "   HelpfulnessNumerator  HelpfulnessDenominator  Score        Time  \\\n",
              "0                     1                       1      5  1303862400   \n",
              "1                     0                       0      1  1346976000   \n",
              "2                     1                       1      4  1219017600   \n",
              "3                     3                       3      2  1307923200   \n",
              "4                     0                       0      5  1350777600   \n",
              "\n",
              "                 Summary                                               Text  \n",
              "0  Good Quality Dog Food  I have bought several of the Vitality canned d...  \n",
              "1      Not as Advertised  Product arrived labeled as Jumbo Salted Peanut...  \n",
              "2  \"Delight\" says it all  This is a confection that has been around a fe...  \n",
              "3         Cough Medicine  If you are looking for the secret ingredient i...  \n",
              "4            Great taffy  Great taffy at a great price.  There was a wid...  "
            ]
          },
          "metadata": {
            "tags": []
          },
          "execution_count": 6
        }
      ]
    },
    {
      "metadata": {
        "id": "dlmSlj5fDy1l",
        "colab_type": "code",
        "colab": {}
      },
      "cell_type": "code",
      "source": [
        "# Give reviews with Score>3 a positive rating(1), and reviews with a score<3 a negative rating(0).\n",
        "def partition(x):\n",
        "    if x < 3:\n",
        "        return 0\n",
        "    return 1"
      ],
      "execution_count": 0,
      "outputs": []
    },
    {
      "metadata": {
        "id": "P841QT7tD1uk",
        "colab_type": "code",
        "outputId": "a2a5e51a-197f-4444-ac6b-62f114296abe",
        "colab": {
          "base_uri": "https://localhost:8080/",
          "height": 652
        }
      },
      "cell_type": "code",
      "source": [
        "actual_score=filtered_data['Score']\n",
        "posnegative=actual_score.map(partition)\n",
        "filtered_data['Score']=posnegative\n",
        "filtered_data.head(5)"
      ],
      "execution_count": 8,
      "outputs": [
        {
          "output_type": "execute_result",
          "data": {
            "text/html": [
              "<div>\n",
              "<style scoped>\n",
              "    .dataframe tbody tr th:only-of-type {\n",
              "        vertical-align: middle;\n",
              "    }\n",
              "\n",
              "    .dataframe tbody tr th {\n",
              "        vertical-align: top;\n",
              "    }\n",
              "\n",
              "    .dataframe thead th {\n",
              "        text-align: right;\n",
              "    }\n",
              "</style>\n",
              "<table border=\"1\" class=\"dataframe\">\n",
              "  <thead>\n",
              "    <tr style=\"text-align: right;\">\n",
              "      <th></th>\n",
              "      <th>Id</th>\n",
              "      <th>ProductId</th>\n",
              "      <th>UserId</th>\n",
              "      <th>ProfileName</th>\n",
              "      <th>HelpfulnessNumerator</th>\n",
              "      <th>HelpfulnessDenominator</th>\n",
              "      <th>Score</th>\n",
              "      <th>Time</th>\n",
              "      <th>Summary</th>\n",
              "      <th>Text</th>\n",
              "    </tr>\n",
              "  </thead>\n",
              "  <tbody>\n",
              "    <tr>\n",
              "      <th>0</th>\n",
              "      <td>1</td>\n",
              "      <td>B001E4KFG0</td>\n",
              "      <td>A3SGXH7AUHU8GW</td>\n",
              "      <td>delmartian</td>\n",
              "      <td>1</td>\n",
              "      <td>1</td>\n",
              "      <td>1</td>\n",
              "      <td>1303862400</td>\n",
              "      <td>Good Quality Dog Food</td>\n",
              "      <td>I have bought several of the Vitality canned d...</td>\n",
              "    </tr>\n",
              "    <tr>\n",
              "      <th>1</th>\n",
              "      <td>2</td>\n",
              "      <td>B00813GRG4</td>\n",
              "      <td>A1D87F6ZCVE5NK</td>\n",
              "      <td>dll pa</td>\n",
              "      <td>0</td>\n",
              "      <td>0</td>\n",
              "      <td>0</td>\n",
              "      <td>1346976000</td>\n",
              "      <td>Not as Advertised</td>\n",
              "      <td>Product arrived labeled as Jumbo Salted Peanut...</td>\n",
              "    </tr>\n",
              "    <tr>\n",
              "      <th>2</th>\n",
              "      <td>3</td>\n",
              "      <td>B000LQOCH0</td>\n",
              "      <td>ABXLMWJIXXAIN</td>\n",
              "      <td>Natalia Corres \"Natalia Corres\"</td>\n",
              "      <td>1</td>\n",
              "      <td>1</td>\n",
              "      <td>1</td>\n",
              "      <td>1219017600</td>\n",
              "      <td>\"Delight\" says it all</td>\n",
              "      <td>This is a confection that has been around a fe...</td>\n",
              "    </tr>\n",
              "    <tr>\n",
              "      <th>3</th>\n",
              "      <td>4</td>\n",
              "      <td>B000UA0QIQ</td>\n",
              "      <td>A395BORC6FGVXV</td>\n",
              "      <td>Karl</td>\n",
              "      <td>3</td>\n",
              "      <td>3</td>\n",
              "      <td>0</td>\n",
              "      <td>1307923200</td>\n",
              "      <td>Cough Medicine</td>\n",
              "      <td>If you are looking for the secret ingredient i...</td>\n",
              "    </tr>\n",
              "    <tr>\n",
              "      <th>4</th>\n",
              "      <td>5</td>\n",
              "      <td>B006K2ZZ7K</td>\n",
              "      <td>A1UQRSCLF8GW1T</td>\n",
              "      <td>Michael D. Bigham \"M. Wassir\"</td>\n",
              "      <td>0</td>\n",
              "      <td>0</td>\n",
              "      <td>1</td>\n",
              "      <td>1350777600</td>\n",
              "      <td>Great taffy</td>\n",
              "      <td>Great taffy at a great price.  There was a wid...</td>\n",
              "    </tr>\n",
              "  </tbody>\n",
              "</table>\n",
              "</div>"
            ],
            "text/plain": [
              "   Id   ProductId          UserId                      ProfileName  \\\n",
              "0   1  B001E4KFG0  A3SGXH7AUHU8GW                       delmartian   \n",
              "1   2  B00813GRG4  A1D87F6ZCVE5NK                           dll pa   \n",
              "2   3  B000LQOCH0   ABXLMWJIXXAIN  Natalia Corres \"Natalia Corres\"   \n",
              "3   4  B000UA0QIQ  A395BORC6FGVXV                             Karl   \n",
              "4   5  B006K2ZZ7K  A1UQRSCLF8GW1T    Michael D. Bigham \"M. Wassir\"   \n",
              "\n",
              "   HelpfulnessNumerator  HelpfulnessDenominator  Score        Time  \\\n",
              "0                     1                       1      1  1303862400   \n",
              "1                     0                       0      0  1346976000   \n",
              "2                     1                       1      1  1219017600   \n",
              "3                     3                       3      0  1307923200   \n",
              "4                     0                       0      1  1350777600   \n",
              "\n",
              "                 Summary                                               Text  \n",
              "0  Good Quality Dog Food  I have bought several of the Vitality canned d...  \n",
              "1      Not as Advertised  Product arrived labeled as Jumbo Salted Peanut...  \n",
              "2  \"Delight\" says it all  This is a confection that has been around a fe...  \n",
              "3         Cough Medicine  If you are looking for the secret ingredient i...  \n",
              "4            Great taffy  Great taffy at a great price.  There was a wid...  "
            ]
          },
          "metadata": {
            "tags": []
          },
          "execution_count": 8
        }
      ]
    },
    {
      "metadata": {
        "id": "gmRa0c2QD8GS",
        "colab_type": "text"
      },
      "cell_type": "markdown",
      "source": [
        "# 2. Exploratory Data Analysis\n",
        "# 2.1 Data Cleaning: Deduplication\n",
        "It is observed (as shown in the table below) that the reviews data had many duplicate entries. Hence it was necessary to remove duplicates in order to get unbiased results for the analysis of the data."
      ]
    },
    {
      "metadata": {
        "id": "9hh2YqrUD9i4",
        "colab_type": "code",
        "outputId": "05963fd6-fbf5-498a-dd4f-8b966176f120",
        "colab": {
          "base_uri": "https://localhost:8080/",
          "height": 34
        }
      },
      "cell_type": "code",
      "source": [
        "#Sorting data according to ProductId in ascending order\n",
        "sorted_data=filtered_data.sort_values('ProductId',axis=0,ascending=True)\n",
        "sorted_data.shape"
      ],
      "execution_count": 9,
      "outputs": [
        {
          "output_type": "execute_result",
          "data": {
            "text/plain": [
              "(525814, 10)"
            ]
          },
          "metadata": {
            "tags": []
          },
          "execution_count": 9
        }
      ]
    },
    {
      "metadata": {
        "id": "mulPKwYDEDU6",
        "colab_type": "code",
        "outputId": "a2f6b02c-545d-4f27-db67-85d31ca403f3",
        "colab": {
          "base_uri": "https://localhost:8080/",
          "height": 34
        }
      },
      "cell_type": "code",
      "source": [
        "#Deduplication of entries\n",
        "final=sorted_data.drop_duplicates(subset={'UserId','ProfileName','Time','Text'},keep='first',inplace=False)\n",
        "final.shape"
      ],
      "execution_count": 10,
      "outputs": [
        {
          "output_type": "execute_result",
          "data": {
            "text/plain": [
              "(364173, 10)"
            ]
          },
          "metadata": {
            "tags": []
          },
          "execution_count": 10
        }
      ]
    },
    {
      "metadata": {
        "id": "sYjyWZmWEHdF",
        "colab_type": "text"
      },
      "cell_type": "markdown",
      "source": [
        "**Observation:-** bold text It was also seen that in two rows given below the value of HelpfulnessNumerator is greater than HelpfulnessDenominator which is not practically possible hence these two rows too are removed from calcualtions"
      ]
    },
    {
      "metadata": {
        "id": "tmKE8qLUEIa4",
        "colab_type": "code",
        "outputId": "0bc3e5c6-94b0-42f7-96d4-40d3b418eac3",
        "colab": {
          "base_uri": "https://localhost:8080/",
          "height": 34
        }
      },
      "cell_type": "code",
      "source": [
        "final=final[final.HelpfulnessNumerator<=final.HelpfulnessDenominator]\n",
        "final.shape"
      ],
      "execution_count": 11,
      "outputs": [
        {
          "output_type": "execute_result",
          "data": {
            "text/plain": [
              "(364171, 10)"
            ]
          },
          "metadata": {
            "tags": []
          },
          "execution_count": 11
        }
      ]
    },
    {
      "metadata": {
        "id": "1F7EkGGCEONt",
        "colab_type": "code",
        "outputId": "274219e6-bbb6-4ecf-a0a5-9ce4767e2496",
        "colab": {
          "base_uri": "https://localhost:8080/",
          "height": 67
        }
      },
      "cell_type": "code",
      "source": [
        "final['Score'].value_counts()"
      ],
      "execution_count": 12,
      "outputs": [
        {
          "output_type": "execute_result",
          "data": {
            "text/plain": [
              "1    307061\n",
              "0     57110\n",
              "Name: Score, dtype: int64"
            ]
          },
          "metadata": {
            "tags": []
          },
          "execution_count": 12
        }
      ]
    },
    {
      "metadata": {
        "id": "r3W8UO39ETTj",
        "colab_type": "text"
      },
      "cell_type": "markdown",
      "source": [
        "# 3. Preprocessing\n",
        "In the Preprocessing phase we do the following in the order below:-\n",
        "\n",
        "1.Begin by removing the linksand html tags\n",
        "\n",
        "2.Expand English language contractions and Remove any punctuations or limited set of special characters like , or . or # etc.\n",
        "\n",
        "3.Check if the word is made up of english letters and is not alpha-numeric\n",
        "\n",
        "4.Check to see if the length of the word is greater than 2 (as it was researched that there is no adjective in 2-letters)\n",
        "\n",
        "5.Convert the word to lowercase\n",
        "\n",
        "6.Remove Stopwords\n",
        "\n",
        "7.Finally Snowball Stemming the word (it was obsereved to be better than Porter Stemming)\n",
        "\n"
      ]
    },
    {
      "metadata": {
        "id": "XK8LIv7sEUpi",
        "colab_type": "code",
        "outputId": "3740795e-e84b-485e-eec4-bb0f20785123",
        "colab": {
          "base_uri": "https://localhost:8080/",
          "height": 420
        }
      },
      "cell_type": "code",
      "source": [
        "#print(link)\n",
        "for i in range(0,1000):\n",
        "  links=re.findall(r'http\\S+',final['Text'].values[i])\n",
        "  for link in links:\n",
        "    print(link)"
      ],
      "execution_count": 13,
      "outputs": [
        {
          "output_type": "stream",
          "text": [
            "http://www.amazon.com/gp/product/B0002DGRSY\">Pro-Treat\n",
            "http://www.amazon.com/gp/product/B0019O5Z0Q\">Charlee\n",
            "http://www.amazon.com/VICTOR-FLY-MAGNET-BAIT-REFILL/dp/B00004RBDY<br\n",
            "http://www.amazon.com/gp/product/B0088EDMMS\">Hocus\n",
            "http://www.amazon.com/gp/product/B001AGXEAG\">Beetlejuice\n",
            "http://www.amazon.com/gp/product/B001AGXEAG\">here</a>.\n",
            "http://www.amazon.com/gp/product/B001AGXEA6\">here</a>.\n",
            "http://www.amazon.com/gp/product/0790700506\">Gremlins</a><br\n",
            "http://www.amazon.com/gp/product/6301871952\">Gremlins\n",
            "http://www.amazon.com/gp/product/6303347657\">Mask</a><br\n",
            "http://www.amazon.com/gp/product/6304826141\">Rocketman</a><br\n",
            "http://www.amazon.com/gp/product/B001B504LI\">The\n",
            "http://www.amazon.com/gp/product/B001AGXEA6\">Beetlejuice\n",
            "http://www.amazon.com/gp/product/B00004RAMX\">Victor\n",
            "http://www.amazon.com/gp/product/B00004RAMY\">Victor\n",
            "http://www.amazon.com/gp/product/B00004RAMY\">Victor\n",
            "http://www.amazon.com/gp/product/B001VJ3FP6\">SentryHOME\n",
            "http://www.amazon.com/gp/product/B0051GCTAW\">Fiproguard\n",
            "http://www.amazon.com/gp/product/B000668Z96\">Victor\n",
            "http://www.amazon.com/gp/product/B000668Z96\">Victor\n",
            "http://www.amazon.com/gp/product/B000BQRQ8C\">Rescue\n",
            "http://www.amazon.com/gp/product/B00004RBDZ\">Victor\n",
            "http://www.amazon.com/gp/product/B00005344V\">Traditional\n",
            "http://www.amazon.com/gp/product/B00005C2M2\">Astronaut\n"
          ],
          "name": "stdout"
        }
      ]
    },
    {
      "metadata": {
        "id": "dhFhsqXjEZRp",
        "colab_type": "code",
        "colab": {}
      },
      "cell_type": "code",
      "source": [
        "for i in range(0,364171):\n",
        "  final['Text'].values[i] = re.sub(r\"http\\S+\", \"\", final['Text'].values[i])"
      ],
      "execution_count": 0,
      "outputs": []
    },
    {
      "metadata": {
        "id": "ohv2k52yEe7M",
        "colab_type": "code",
        "colab": {}
      },
      "cell_type": "code",
      "source": [
        "#Remove HTML tags\n",
        "from bs4 import BeautifulSoup\n",
        "for i in range(1,364171):\n",
        "  soup = BeautifulSoup(final['Text'].values[i],'lxml')\n",
        "  text = soup.get_text()\n",
        "  final['Text'].values[i]=text"
      ],
      "execution_count": 0,
      "outputs": []
    },
    {
      "metadata": {
        "id": "CS-hK54bEiAL",
        "colab_type": "code",
        "colab": {}
      },
      "cell_type": "code",
      "source": [
        "#Expanding English language contractions\n",
        "def decontracted(phrase):\n",
        "  # specific\n",
        "  phrase = re.sub(r\"won\\'t\", \"will not\", phrase)\n",
        "  phrase = re.sub(r\"can\\'t\", \"can not\", phrase)\n",
        "\n",
        "  # general\n",
        "  phrase = re.sub(r\"n\\'t\", \" not\", phrase)\n",
        "  phrase = re.sub(r\"\\'re\", \" are\", phrase)\n",
        "  phrase = re.sub(r\"\\'s\", \" is\", phrase)\n",
        "  phrase = re.sub(r\"\\'d\", \" would\", phrase)\n",
        "  phrase = re.sub(r\"\\'ll\", \" will\", phrase)\n",
        "  phrase = re.sub(r\"\\'t\", \" not\", phrase)\n",
        "  phrase = re.sub(r\"\\'ve\", \" have\", phrase)\n",
        "  phrase = re.sub(r\"\\'m\", \" am\", phrase)\n",
        "  return phrase\n"
      ],
      "execution_count": 0,
      "outputs": []
    },
    {
      "metadata": {
        "id": "i3qThKicElOv",
        "colab_type": "code",
        "colab": {}
      },
      "cell_type": "code",
      "source": [
        "for i in range(0,364171):\n",
        "  #print(final['Text'].values[i])\n",
        "  final['Text'].values[i]=decontracted(final['Text'].values[i])\n",
        "  #print(final['Text'].values[i])"
      ],
      "execution_count": 0,
      "outputs": []
    },
    {
      "metadata": {
        "id": "z7F_zcNMEn_h",
        "colab_type": "code",
        "colab": {}
      },
      "cell_type": "code",
      "source": [
        "#remove words with numbers python\n",
        "for i in range(1,364171):\n",
        "  #print(final['Text'].values[i])\n",
        "  final['Text'].values[i] = re.sub(\"\\S*\\d\\S*\", \"\", final['Text'].values[i]).strip()\n",
        "  #print(final['Text'].values[i])"
      ],
      "execution_count": 0,
      "outputs": []
    },
    {
      "metadata": {
        "id": "c-7NhwkFErLF",
        "colab_type": "code",
        "colab": {}
      },
      "cell_type": "code",
      "source": [
        "#remove spacial character:\n",
        "for i in range(1,364171):\n",
        "  final['Text'].values[i]= re.sub('[^A-Za-z0-9]+', ' ', final['Text'].values[i])\n"
      ],
      "execution_count": 0,
      "outputs": []
    },
    {
      "metadata": {
        "id": "iIL6JEBlEuJh",
        "colab_type": "code",
        "colab": {}
      },
      "cell_type": "code",
      "source": [
        "#Remove punctution\n",
        "for i in range(1,364171):\n",
        "  final['Text'].values[i]= re.sub(r'[!|#|$\\%|&|*|?|,|.|\\'|/|\"|)|(]',r'', final['Text'].values[i])"
      ],
      "execution_count": 0,
      "outputs": []
    },
    {
      "metadata": {
        "id": "zznO4I3gEw8q",
        "colab_type": "code",
        "colab": {}
      },
      "cell_type": "code",
      "source": [
        "# https://gist.github.com/sebleier/554280\n",
        "# we are removing the words from the stop words list: 'no', 'nor', 'not'\n",
        "# <br /><br /> ==> after the above steps, we are getting \"br br\"\n",
        "# we are including them into stop words list\n",
        "# instead of <br /> if we have <br/> these tags would have revmoved in the 1st step\n",
        "\n",
        "stopwords= set(['br', 'the', 'i', 'me', 'my', 'myself', 'we', 'our', 'ours', 'ourselves', 'you', \"you're\", \"you've\",\\\n",
        "            \"you'll\", \"you'd\", 'your', 'yours', 'yourself', 'yourselves', 'he', 'him', 'his', 'himself', \\\n",
        "            'she', \"she's\", 'her', 'hers', 'herself', 'it', \"it's\", 'its', 'itself', 'they', 'them', 'their',\\\n",
        "            'theirs', 'themselves', 'what', 'which', 'who', 'whom', 'this', 'that', \"that'll\", 'these', 'those', \\\n",
        "            'am', 'is', 'are', 'was', 'were', 'be', 'been', 'being', 'have', 'has', 'had', 'having', 'do', 'does', \\\n",
        "            'did', 'doing', 'a', 'an', 'the', 'and', 'but', 'if', 'or', 'because', 'as', 'until', 'while', 'of', \\\n",
        "            'at', 'by', 'for', 'with', 'about', 'against', 'between', 'into', 'through', 'during', 'before', 'after',\\\n",
        "            'above', 'below', 'to', 'from', 'up', 'down', 'in', 'out', 'on', 'off', 'over', 'under', 'again', 'further',\\\n",
        "            'then', 'once', 'here', 'there', 'when', 'where', 'why', 'how', 'all', 'any', 'both', 'each', 'few', 'more',\\\n",
        "            'most', 'other', 'some', 'such', 'only', 'own', 'same', 'so', 'than', 'too', 'very', \\\n",
        "            's', 't', 'can', 'will', 'just', 'don', \"don't\", 'should', \"should've\", 'now', 'd', 'll', 'm', 'o', 're', \\\n",
        "            've', 'y', 'ain', 'aren', \"aren't\", 'couldn', \"couldn't\", 'didn', \"didn't\", 'doesn', \"doesn't\", 'hadn',\\\n",
        "            \"hadn't\", 'hasn', \"hasn't\", 'haven', \"haven't\", 'isn', \"isn't\", 'ma', 'mightn', \"mightn't\", 'mustn',\\\n",
        "            \"mustn't\", 'needn', \"needn't\", 'shan', \"shan't\", 'shouldn', \"shouldn't\", 'wasn', \"wasn't\", 'weren', \"weren't\", \\\n",
        "            'won', \"won't\", 'wouldn', \"wouldn't\"])"
      ],
      "execution_count": 0,
      "outputs": []
    },
    {
      "metadata": {
        "id": "tpkBA6Z5E0Q8",
        "colab_type": "code",
        "outputId": "c6be5f60-8d0d-41fd-8704-be9f71ff9340",
        "colab": {
          "base_uri": "https://localhost:8080/",
          "height": 34
        }
      },
      "cell_type": "code",
      "source": [
        "#tqdm\n",
        "#Instantly make your loops show a smart progress meter\n",
        "# just wrap any iterable with tqdm(iterable), and you’re done!\n",
        "from tqdm import tqdm\n",
        "preprocessed_reviews = []\n",
        "for i in tqdm(range(0,364171)):\n",
        "  sentence=\"\"\n",
        "  #print(final['Text'].values[i])\n",
        "  for word in final['Text'].values[i].split():\n",
        "    #print(word)\n",
        "    word =word.lower()\n",
        "    if word not in stopwords:\n",
        "      sentence+=\" \"+word\n",
        "  #print(sentence)\n",
        "  preprocessed_reviews.append(sentence.strip())"
      ],
      "execution_count": 22,
      "outputs": [
        {
          "output_type": "stream",
          "text": [
            "100%|██████████| 364171/364171 [00:15<00:00, 23406.19it/s]\n"
          ],
          "name": "stderr"
        }
      ]
    },
    {
      "metadata": {
        "id": "ETUwleiRE3RX",
        "colab_type": "code",
        "outputId": "d0ee30a9-c114-4b5d-8b21-2f545c5efe73",
        "colab": {
          "base_uri": "https://localhost:8080/",
          "height": 753
        }
      },
      "cell_type": "code",
      "source": [
        "final['Cleaned_text']=preprocessed_reviews\n",
        "final.head()"
      ],
      "execution_count": 23,
      "outputs": [
        {
          "output_type": "execute_result",
          "data": {
            "text/html": [
              "<div>\n",
              "<style scoped>\n",
              "    .dataframe tbody tr th:only-of-type {\n",
              "        vertical-align: middle;\n",
              "    }\n",
              "\n",
              "    .dataframe tbody tr th {\n",
              "        vertical-align: top;\n",
              "    }\n",
              "\n",
              "    .dataframe thead th {\n",
              "        text-align: right;\n",
              "    }\n",
              "</style>\n",
              "<table border=\"1\" class=\"dataframe\">\n",
              "  <thead>\n",
              "    <tr style=\"text-align: right;\">\n",
              "      <th></th>\n",
              "      <th>Id</th>\n",
              "      <th>ProductId</th>\n",
              "      <th>UserId</th>\n",
              "      <th>ProfileName</th>\n",
              "      <th>HelpfulnessNumerator</th>\n",
              "      <th>HelpfulnessDenominator</th>\n",
              "      <th>Score</th>\n",
              "      <th>Time</th>\n",
              "      <th>Summary</th>\n",
              "      <th>Text</th>\n",
              "      <th>Cleaned_text</th>\n",
              "    </tr>\n",
              "  </thead>\n",
              "  <tbody>\n",
              "    <tr>\n",
              "      <th>138706</th>\n",
              "      <td>150524</td>\n",
              "      <td>0006641040</td>\n",
              "      <td>ACITT7DI6IDDL</td>\n",
              "      <td>shari zychinski</td>\n",
              "      <td>0</td>\n",
              "      <td>0</td>\n",
              "      <td>1</td>\n",
              "      <td>939340800</td>\n",
              "      <td>EVERY book is educational</td>\n",
              "      <td>this witty little book makes my son laugh at l...</td>\n",
              "      <td>witty little book makes son laugh loud. recite...</td>\n",
              "    </tr>\n",
              "    <tr>\n",
              "      <th>138688</th>\n",
              "      <td>150506</td>\n",
              "      <td>0006641040</td>\n",
              "      <td>A2IW4PEEKO2R0U</td>\n",
              "      <td>Tracy</td>\n",
              "      <td>1</td>\n",
              "      <td>1</td>\n",
              "      <td>1</td>\n",
              "      <td>1194739200</td>\n",
              "      <td>Love the book, miss the hard cover version</td>\n",
              "      <td>I grew up reading these Sendak books and watch...</td>\n",
              "      <td>grew reading sendak books watching really rosi...</td>\n",
              "    </tr>\n",
              "    <tr>\n",
              "      <th>138689</th>\n",
              "      <td>150507</td>\n",
              "      <td>0006641040</td>\n",
              "      <td>A1S4A3IQ2MU7V4</td>\n",
              "      <td>sally sue \"sally sue\"</td>\n",
              "      <td>1</td>\n",
              "      <td>1</td>\n",
              "      <td>1</td>\n",
              "      <td>1191456000</td>\n",
              "      <td>chicken soup with rice months</td>\n",
              "      <td>This is a fun way for children to learn their ...</td>\n",
              "      <td>fun way children learn months year learn poems...</td>\n",
              "    </tr>\n",
              "    <tr>\n",
              "      <th>138690</th>\n",
              "      <td>150508</td>\n",
              "      <td>0006641040</td>\n",
              "      <td>AZGXZ2UUK6X</td>\n",
              "      <td>Catherine Hallberg \"(Kate)\"</td>\n",
              "      <td>1</td>\n",
              "      <td>1</td>\n",
              "      <td>1</td>\n",
              "      <td>1076025600</td>\n",
              "      <td>a good swingy rhythm for reading aloud</td>\n",
              "      <td>This is a great little book to read aloud it h...</td>\n",
              "      <td>great little book read aloud nice rhythm well ...</td>\n",
              "    </tr>\n",
              "    <tr>\n",
              "      <th>138691</th>\n",
              "      <td>150509</td>\n",
              "      <td>0006641040</td>\n",
              "      <td>A3CMRKGE0P909G</td>\n",
              "      <td>Teresa</td>\n",
              "      <td>3</td>\n",
              "      <td>4</td>\n",
              "      <td>1</td>\n",
              "      <td>1018396800</td>\n",
              "      <td>A great way to learn the months</td>\n",
              "      <td>This is a book of poetry about the months of t...</td>\n",
              "      <td>book poetry months year goes month cute little...</td>\n",
              "    </tr>\n",
              "  </tbody>\n",
              "</table>\n",
              "</div>"
            ],
            "text/plain": [
              "            Id   ProductId          UserId                  ProfileName  \\\n",
              "138706  150524  0006641040   ACITT7DI6IDDL              shari zychinski   \n",
              "138688  150506  0006641040  A2IW4PEEKO2R0U                        Tracy   \n",
              "138689  150507  0006641040  A1S4A3IQ2MU7V4        sally sue \"sally sue\"   \n",
              "138690  150508  0006641040     AZGXZ2UUK6X  Catherine Hallberg \"(Kate)\"   \n",
              "138691  150509  0006641040  A3CMRKGE0P909G                       Teresa   \n",
              "\n",
              "        HelpfulnessNumerator  HelpfulnessDenominator  Score        Time  \\\n",
              "138706                     0                       0      1   939340800   \n",
              "138688                     1                       1      1  1194739200   \n",
              "138689                     1                       1      1  1191456000   \n",
              "138690                     1                       1      1  1076025600   \n",
              "138691                     3                       4      1  1018396800   \n",
              "\n",
              "                                           Summary  \\\n",
              "138706                   EVERY book is educational   \n",
              "138688  Love the book, miss the hard cover version   \n",
              "138689               chicken soup with rice months   \n",
              "138690      a good swingy rhythm for reading aloud   \n",
              "138691             A great way to learn the months   \n",
              "\n",
              "                                                     Text  \\\n",
              "138706  this witty little book makes my son laugh at l...   \n",
              "138688  I grew up reading these Sendak books and watch...   \n",
              "138689  This is a fun way for children to learn their ...   \n",
              "138690  This is a great little book to read aloud it h...   \n",
              "138691  This is a book of poetry about the months of t...   \n",
              "\n",
              "                                             Cleaned_text  \n",
              "138706  witty little book makes son laugh loud. recite...  \n",
              "138688  grew reading sendak books watching really rosi...  \n",
              "138689  fun way children learn months year learn poems...  \n",
              "138690  great little book read aloud nice rhythm well ...  \n",
              "138691  book poetry months year goes month cute little...  "
            ]
          },
          "metadata": {
            "tags": []
          },
          "execution_count": 23
        }
      ]
    },
    {
      "metadata": {
        "id": "aDfk-1bKE4hK",
        "colab_type": "code",
        "colab": {}
      },
      "cell_type": "code",
      "source": [
        "#Randomly sample Data 100k points\n",
        "random_sample_data = final.sample(n=100000) "
      ],
      "execution_count": 0,
      "outputs": []
    },
    {
      "metadata": {
        "id": "5cCKPuBNE4Ut",
        "colab_type": "code",
        "colab": {}
      },
      "cell_type": "code",
      "source": [
        "final_sorted_time=random_sample_data.sort_values('Time',ascending=True,axis=0)"
      ],
      "execution_count": 0,
      "outputs": []
    },
    {
      "metadata": {
        "id": "_lbegZ-sFDeE",
        "colab_type": "text"
      },
      "cell_type": "markdown",
      "source": [
        "**Time Based Splitting**"
      ]
    },
    {
      "metadata": {
        "id": "uN305XdjFHDp",
        "colab_type": "code",
        "colab": {}
      },
      "cell_type": "code",
      "source": [
        "#y_Train=final_sorted_time['Score'][0:70000]\n",
        "y_train=final_sorted_time['Score'][0:49000]\n",
        "y_cv=final_sorted_time['Score'][49000:70000]\n",
        "y_test=final_sorted_time['Score'][70000:100000]"
      ],
      "execution_count": 0,
      "outputs": []
    },
    {
      "metadata": {
        "id": "blt1yzTdFJ_k",
        "colab_type": "code",
        "outputId": "301a3c21-918f-486b-a2e9-fbb5aff6a1d9",
        "colab": {
          "base_uri": "https://localhost:8080/",
          "height": 67
        }
      },
      "cell_type": "code",
      "source": [
        "y_train.value_counts()"
      ],
      "execution_count": 27,
      "outputs": [
        {
          "output_type": "execute_result",
          "data": {
            "text/plain": [
              "1    42193\n",
              "0     6807\n",
              "Name: Score, dtype: int64"
            ]
          },
          "metadata": {
            "tags": []
          },
          "execution_count": 27
        }
      ]
    },
    {
      "metadata": {
        "id": "LHU_aA_GFNHN",
        "colab_type": "code",
        "outputId": "11b09886-748a-43ad-c138-7e38adf7e896",
        "colab": {
          "base_uri": "https://localhost:8080/",
          "height": 67
        }
      },
      "cell_type": "code",
      "source": [
        "y_Train.value_counts()"
      ],
      "execution_count": 28,
      "outputs": [
        {
          "output_type": "execute_result",
          "data": {
            "text/plain": [
              "1    59619\n",
              "0    10381\n",
              "Name: Score, dtype: int64"
            ]
          },
          "metadata": {
            "tags": []
          },
          "execution_count": 28
        }
      ]
    },
    {
      "metadata": {
        "id": "dcfmw0krFQRE",
        "colab_type": "code",
        "colab": {}
      },
      "cell_type": "code",
      "source": [
        "Train_data=final_sorted_time['Cleaned_text'][0:70000]\n",
        "train_data=final_sorted_time['Cleaned_text'][0:49000]\n",
        "cv_data=final_sorted_time['Cleaned_text'][49000:70000]\n",
        "test_data=final_sorted_time['Cleaned_text'][70000:100000]"
      ],
      "execution_count": 0,
      "outputs": []
    },
    {
      "metadata": {
        "id": "GjSI0qZqFU_X",
        "colab_type": "text"
      },
      "cell_type": "markdown",
      "source": [
        "# 4. Featurization\n",
        "# 4.1Bag of Words"
      ]
    },
    {
      "metadata": {
        "id": "b4jNLI9qFWoS",
        "colab_type": "code",
        "colab": {}
      },
      "cell_type": "code",
      "source": [
        "count_vector=CountVectorizer()\n",
        "count_vector.fit(train_data)\n",
        "train_bows=count_vector.transform(train_data)\n",
        "cv_bows=count_vector.transform(cv_data)\n",
        "test_bows=count_vector.transform(test_data)"
      ],
      "execution_count": 0,
      "outputs": []
    },
    {
      "metadata": {
        "id": "WINxkX5OFemH",
        "colab_type": "text"
      },
      "cell_type": "markdown",
      "source": [
        "# 4.2 TFIDF"
      ]
    },
    {
      "metadata": {
        "id": "RK4aHITCFdkX",
        "colab_type": "code",
        "colab": {}
      },
      "cell_type": "code",
      "source": [
        "tfidf_vector=TfidfVectorizer()\n",
        "tfidf_vector.fit(train_data)\n",
        "train_tfidf=tfidf_vector.transform(train_data)\n",
        "cv_tfidf=tfidf_vector.transform(cv_data)\n",
        "test_tfidf=tfidf_vector.transform(test_data)"
      ],
      "execution_count": 0,
      "outputs": []
    },
    {
      "metadata": {
        "id": "vFW3X2PZFkoM",
        "colab_type": "text"
      },
      "cell_type": "markdown",
      "source": [
        "# 4.3 Word2Vec"
      ]
    },
    {
      "metadata": {
        "id": "OAHWZtcCFn9-",
        "colab_type": "code",
        "colab": {}
      },
      "cell_type": "code",
      "source": [
        "import gensim\n",
        "from gensim.models import Word2Vec"
      ],
      "execution_count": 0,
      "outputs": []
    },
    {
      "metadata": {
        "id": "Y4ZkL1WDFrTE",
        "colab_type": "code",
        "colab": {}
      },
      "cell_type": "code",
      "source": [
        "#Train own W2V with train data\n",
        "i=0\n",
        "list_of_sentence=[]\n",
        "for sent in train_data.values:\n",
        "  list_of_sentence.append(sent.split())"
      ],
      "execution_count": 0,
      "outputs": []
    },
    {
      "metadata": {
        "id": "EAhcrBGdFuu9",
        "colab_type": "code",
        "colab": {}
      },
      "cell_type": "code",
      "source": [
        "w2v_model=gensim.models.Word2Vec(list_of_sentence,min_count=5,size=50,workers=4)\n",
        "w2v_words = list(w2v_model.wv.vocab)"
      ],
      "execution_count": 0,
      "outputs": []
    },
    {
      "metadata": {
        "id": "HruCx0WgF2Ww",
        "colab_type": "code",
        "outputId": "f23eda6b-f0ea-4231-8d33-9015c146c315",
        "colab": {
          "base_uri": "https://localhost:8080/",
          "height": 50
        }
      },
      "cell_type": "code",
      "source": [
        "# Average W2V with training Data\n",
        "sent_vectors = []; # the avg-w2v for each sentence/review is stored in this list\n",
        "for sent in list_of_sentence: # for each review/sentence\n",
        "    sent_vec = np.zeros(50) # as word vectors are of zero length 50, you might need to change this to 300 if you use google's w2v\n",
        "    cnt_words =0; # num of words with a valid vector in the sentence/review\n",
        "    for word in sent: # for each word in a review/sentence\n",
        "        if word in w2v_words:\n",
        "            vec = w2v_model.wv[word]\n",
        "            #print(\"vec= \",vec)\n",
        "            sent_vec += vec\n",
        "            cnt_words += 1\n",
        "    if cnt_words != 0:\n",
        "        sent_vec /= cnt_words\n",
        "    sent_vectors.append(sent_vec)\n",
        "print(len(sent_vectors))\n",
        "#print(sent_vectors)\n",
        "print(len(sent_vectors[0]))"
      ],
      "execution_count": 35,
      "outputs": [
        {
          "output_type": "stream",
          "text": [
            "49000\n",
            "50\n"
          ],
          "name": "stdout"
        }
      ]
    },
    {
      "metadata": {
        "id": "rS4sZPylF57H",
        "colab_type": "code",
        "colab": {}
      },
      "cell_type": "code",
      "source": [
        "#Train own W2V with cv data\n",
        "i=0\n",
        "list_of_sentence_cv=[]\n",
        "for sent in cv_data.values:\n",
        "  list_of_sentence_cv.append(sent.split())"
      ],
      "execution_count": 0,
      "outputs": []
    },
    {
      "metadata": {
        "id": "0Wy5jn6eF9O2",
        "colab_type": "code",
        "colab": {}
      },
      "cell_type": "code",
      "source": [
        "w2v_model_cv=gensim.models.Word2Vec(list_of_sentence_cv,min_count=5,size=50,workers=4)\n",
        "w2v_words_cv = list(w2v_model_cv.wv.vocab)"
      ],
      "execution_count": 0,
      "outputs": []
    },
    {
      "metadata": {
        "id": "a2aAk8qBGC3_",
        "colab_type": "code",
        "outputId": "6911c4bb-fa04-4060-9c94-303c6b396948",
        "colab": {
          "base_uri": "https://localhost:8080/",
          "height": 50
        }
      },
      "cell_type": "code",
      "source": [
        "# Average W2V with cv Data\n",
        "sent_vectors_cv = []; # the avg-w2v for each sentence/review is stored in this list\n",
        "for sent in list_of_sentence_cv: # for each review/sentence\n",
        "    sent_vec = np.zeros(50) # as word vectors are of zero length 50, you might need to change this to 300 if you use google's w2v\n",
        "    cnt_words =0; # num of words with a valid vector in the sentence/review\n",
        "    for word in sent: # for each word in a review/sentence\n",
        "        if word in w2v_words_cv:\n",
        "            vec = w2v_model_cv.wv[word]\n",
        "            #print(\"vec= \",vec)\n",
        "            sent_vec += vec\n",
        "            cnt_words += 1\n",
        "    if cnt_words != 0:\n",
        "        sent_vec /= cnt_words\n",
        "    sent_vectors_cv.append(sent_vec)\n",
        "print(len(sent_vectors_cv))\n",
        "#print(sent_vectors)\n",
        "print(len(sent_vectors_cv[0]))"
      ],
      "execution_count": 38,
      "outputs": [
        {
          "output_type": "stream",
          "text": [
            "21000\n",
            "50\n"
          ],
          "name": "stdout"
        }
      ]
    },
    {
      "metadata": {
        "id": "fI7xPM2EGGWo",
        "colab_type": "code",
        "colab": {}
      },
      "cell_type": "code",
      "source": [
        "#Train own W2V with Test data\n",
        "i=0\n",
        "list_of_sentence_test=[]\n",
        "for sent in test_data.values:\n",
        "  list_of_sentence_test.append(sent.split())"
      ],
      "execution_count": 0,
      "outputs": []
    },
    {
      "metadata": {
        "id": "djiPEElYGJVe",
        "colab_type": "code",
        "colab": {}
      },
      "cell_type": "code",
      "source": [
        "w2v_model_test=gensim.models.Word2Vec(list_of_sentence_test,min_count=5,size=50,workers=4)\n",
        "w2v_words_test = list(w2v_model_test.wv.vocab)"
      ],
      "execution_count": 0,
      "outputs": []
    },
    {
      "metadata": {
        "id": "TkwxdN4LGPMR",
        "colab_type": "code",
        "outputId": "8f028fbc-d469-49c0-d71d-683dd167d2ab",
        "colab": {
          "base_uri": "https://localhost:8080/",
          "height": 50
        }
      },
      "cell_type": "code",
      "source": [
        "# Average W2V with test Data\n",
        "sent_vectors_test = []; # the avg-w2v for each sentence/review is stored in this list\n",
        "for sent in list_of_sentence_test: # for each review/sentence\n",
        "    sent_vec = np.zeros(50) # as word vectors are of zero length 50, you might need to change this to 300 if you use google's w2v\n",
        "    cnt_words =0; # num of words with a valid vector in the sentence/review\n",
        "    for word in sent: # for each word in a review/sentence\n",
        "        if word in w2v_words_test:\n",
        "            vec = w2v_model_test.wv[word]\n",
        "            #print(\"vec= \",vec)\n",
        "            sent_vec += vec\n",
        "            cnt_words += 1\n",
        "    if cnt_words != 0:\n",
        "        sent_vec /= cnt_words\n",
        "    sent_vectors_test.append(sent_vec)\n",
        "print(len(sent_vectors_test))\n",
        "#print(sent_vectors)\n",
        "print(len(sent_vectors_test[0]))"
      ],
      "execution_count": 41,
      "outputs": [
        {
          "output_type": "stream",
          "text": [
            "30000\n",
            "50\n"
          ],
          "name": "stdout"
        }
      ]
    },
    {
      "metadata": {
        "id": "gSqdfhuHGTw7",
        "colab_type": "text"
      },
      "cell_type": "markdown",
      "source": [
        "# 4.4 TFIDF-W2Vec"
      ]
    },
    {
      "metadata": {
        "id": "xuFkmLgBGY1a",
        "colab_type": "code",
        "colab": {}
      },
      "cell_type": "code",
      "source": [
        "#TF-IDF Avg W2V for train Data\n",
        "model_train = TfidfVectorizer()\n",
        "model_train.fit(train_data)\n",
        "tf_idf_matrix_train = model_train.transform(train_data)\n",
        "dictionary = dict(zip(model_train.get_feature_names(), list(model_train.idf_)))"
      ],
      "execution_count": 0,
      "outputs": []
    },
    {
      "metadata": {
        "id": "uwB-QTG5Gce-",
        "colab_type": "code",
        "colab": {}
      },
      "cell_type": "code",
      "source": [
        "tfidf_feat_train = model_train.get_feature_names() \n",
        "\n",
        "tfidf_sent_vectors_train = []; # the tfidf-w2v for each sentence/review is stored in this list\n",
        "row=0;\n",
        "for sent in list_of_sentence: \n",
        "  sent_vec = np.zeros(50) \n",
        "  weight_sum =0; \n",
        "  for word in sent: \n",
        "    try:\n",
        "      vec = w2v_model.wv[word]\n",
        "      tf_idf = dictionary[word]*(sent.count(word)/len(sent))\n",
        "      sent_vec += (vec * tf_idf)\n",
        "      weight_sum += tf_idf\n",
        "    except:\n",
        "      pass\n",
        "          \n",
        "  if weight_sum != 0:\n",
        "    sent_vec /= weight_sum\n",
        "  tfidf_sent_vectors_train.append(sent_vec)\n",
        "  row += 1"
      ],
      "execution_count": 0,
      "outputs": []
    },
    {
      "metadata": {
        "id": "ZSNymb5xGgdC",
        "colab_type": "code",
        "colab": {}
      },
      "cell_type": "code",
      "source": [
        "#TF-IDF Avg W2V for cv Data\n",
        "model_cv = TfidfVectorizer()\n",
        "tf_idf_matrix_cv = model_cv.fit_transform(cv_data)\n",
        "dictionary = dict(zip(model_cv.get_feature_names(), list(model_cv.idf_)))"
      ],
      "execution_count": 0,
      "outputs": []
    },
    {
      "metadata": {
        "id": "Z-nfaLLQGj4r",
        "colab_type": "code",
        "colab": {}
      },
      "cell_type": "code",
      "source": [
        "tfidf_feat_cv = model_cv.get_feature_names() \n",
        "\n",
        "tfidf_sent_vectors_cv = []; # the tfidf-w2v for each sentence/review is stored in this list\n",
        "row=0;\n",
        "for sent in list_of_sentence_cv: \n",
        "  sent_vec = np.zeros(50) \n",
        "  weight_sum =0; \n",
        "  for word in sent:\n",
        "    try:\n",
        "      vec = w2v_model_cv.wv[word]\n",
        "      tf_idf = dictionary[word]*(sent.count(word)/len(sent))\n",
        "      sent_vec += (vec * tf_idf)\n",
        "      weight_sum += tf_idf\n",
        "    except:\n",
        "      pass\n",
        "          \n",
        "  if weight_sum != 0:\n",
        "    sent_vec /= weight_sum\n",
        "  tfidf_sent_vectors_cv.append(sent_vec)\n",
        "  row += 1"
      ],
      "execution_count": 0,
      "outputs": []
    },
    {
      "metadata": {
        "id": "4APTYrvKGnKC",
        "colab_type": "code",
        "colab": {}
      },
      "cell_type": "code",
      "source": [
        "#TF-IDF Avg W2V for test Data\n",
        "model_test = TfidfVectorizer()\n",
        "tf_idf_matrix_test = model_test.fit_transform(test_data)\n",
        "dictionary = dict(zip(model_test.get_feature_names(), list(model_test.idf_)))"
      ],
      "execution_count": 0,
      "outputs": []
    },
    {
      "metadata": {
        "id": "Wnzw9iyDGqhH",
        "colab_type": "code",
        "colab": {}
      },
      "cell_type": "code",
      "source": [
        "tfidf_feat_test = model_test.get_feature_names() \n",
        "\n",
        "tfidf_sent_vectors_test = []; # the tfidf-w2v for each sentence/review is stored in this list\n",
        "row=0;\n",
        "for sent in list_of_sentence_test: \n",
        "  sent_vec = np.zeros(50) \n",
        "  weight_sum =0; \n",
        "  for word in sent:\n",
        "    try:\n",
        "      vec = w2v_model_test.wv[word]\n",
        "      tf_idf = dictionary[word]*(sent.count(word)/len(sent))\n",
        "      sent_vec += (vec * tf_idf)\n",
        "      weight_sum += tf_idf\n",
        "    except:\n",
        "      pass\n",
        "          \n",
        "  if weight_sum != 0:\n",
        "    sent_vec /= weight_sum\n",
        "  tfidf_sent_vectors_test.append(sent_vec)\n",
        "  row += 1"
      ],
      "execution_count": 0,
      "outputs": []
    },
    {
      "metadata": {
        "id": "diblWz03G1mK",
        "colab_type": "text"
      },
      "cell_type": "markdown",
      "source": [
        "# 5.Random Forest and GBDT"
      ]
    },
    {
      "metadata": {
        "id": "Asm3jswjMAYk",
        "colab_type": "text"
      },
      "cell_type": "markdown",
      "source": [
        "# 5.1.1 Random Forest on BoWs"
      ]
    },
    {
      "metadata": {
        "id": "xjMUcy-HG8Hs",
        "colab_type": "code",
        "colab": {}
      },
      "cell_type": "code",
      "source": [
        "from sklearn.ensemble import RandomForestClassifier"
      ],
      "execution_count": 0,
      "outputs": []
    },
    {
      "metadata": {
        "id": "Ny8DGfSbN0PB",
        "colab_type": "code",
        "colab": {}
      },
      "cell_type": "code",
      "source": [
        "#n_estimators\n",
        "N=[5,10,50,100,500]\n",
        "Depth=[2,3,5,8,10]"
      ],
      "execution_count": 0,
      "outputs": []
    },
    {
      "metadata": {
        "id": "g5gq22pjMssx",
        "colab_type": "code",
        "outputId": "ef2c67c9-e793-4053-f5fc-bc0c2672bd6c",
        "colab": {
          "base_uri": "https://localhost:8080/",
          "height": 1361
        }
      },
      "cell_type": "code",
      "source": [
        "AUC_training=[]\n",
        "AUC_cv=[]\n",
        "for d in Depth:\n",
        "  print(\"========For d= \",d,\"=============\")\n",
        "  for n in N:\n",
        "    print(\" ----n = \",n,\"-----\")\n",
        "    clf=RandomForestClassifier(n_estimators=n,max_depth=d, criterion='gini')\n",
        "    clf.fit(train_bows,y_train)\n",
        "   \n",
        "    \n",
        "    #Training Data\n",
        "    y_predict_training=clf.predict_proba(train_bows)[:,1]\n",
        "    auc=roc_auc_score(y_train,y_predict_training)\n",
        "    AUC_training.append(auc)\n",
        "    print(\"Train AUC = \",auc)\n",
        "    #CV Curve\n",
        "    y_predict_cv=clf.predict_proba(cv_bows)[:,1]\n",
        "    auc=roc_auc_score(y_cv,y_predict_cv)\n",
        "    AUC_cv.append(auc)\n",
        "    print(\"Test AUC = \",auc)\n"
      ],
      "execution_count": 50,
      "outputs": [
        {
          "output_type": "stream",
          "text": [
            "========For d=  2 =============\n",
            " ----n =  5 -----\n",
            "Train AUC =  0.5719601261736142\n",
            "Test AUC =  0.5727486974900854\n",
            " ----n =  10 -----\n",
            "Train AUC =  0.6240350142917975\n",
            "Test AUC =  0.6204096725326202\n",
            " ----n =  50 -----\n",
            "Train AUC =  0.7616374409756094\n",
            "Test AUC =  0.7467720486744781\n",
            " ----n =  100 -----\n",
            "Train AUC =  0.819762059624916\n",
            "Test AUC =  0.8139901648868594\n",
            " ----n =  500 -----\n",
            "Train AUC =  0.870591614012534\n",
            "Test AUC =  0.8601516021284599\n",
            "========For d=  3 =============\n",
            " ----n =  5 -----\n",
            "Train AUC =  0.579735866877771\n",
            "Test AUC =  0.5764281382732105\n",
            " ----n =  10 -----\n",
            "Train AUC =  0.687023429252785\n",
            "Test AUC =  0.6793523766755719\n",
            " ----n =  50 -----\n",
            "Train AUC =  0.8169536117428808\n",
            "Test AUC =  0.8140648591845502\n",
            " ----n =  100 -----\n",
            "Train AUC =  0.8415079368801576\n",
            "Test AUC =  0.8277247635231842\n",
            " ----n =  500 -----\n",
            "Train AUC =  0.8694110922514762\n",
            "Test AUC =  0.8602090358135072\n",
            "========For d=  5 =============\n",
            " ----n =  5 -----\n",
            "Train AUC =  0.6798582135062227\n",
            "Test AUC =  0.6818374071483406\n",
            " ----n =  10 -----\n",
            "Train AUC =  0.7567311353654937\n",
            "Test AUC =  0.754934568309027\n",
            " ----n =  50 -----\n",
            "Train AUC =  0.8321730913174414\n",
            "Test AUC =  0.8266472918564397\n",
            " ----n =  100 -----\n",
            "Train AUC =  0.8576310271654194\n",
            "Test AUC =  0.8430535041741138\n",
            " ----n =  500 -----\n",
            "Train AUC =  0.8860610241678331\n",
            "Test AUC =  0.8731353721429833\n",
            "========For d=  8 =============\n",
            " ----n =  5 -----\n",
            "Train AUC =  0.73146864340719\n",
            "Test AUC =  0.7252018062661131\n",
            " ----n =  10 -----\n",
            "Train AUC =  0.766396149594166\n",
            "Test AUC =  0.7513743220914455\n",
            " ----n =  50 -----\n",
            "Train AUC =  0.8753920676743853\n",
            "Test AUC =  0.8600248610625048\n",
            " ----n =  100 -----\n",
            "Train AUC =  0.8879219297253576\n",
            "Test AUC =  0.8676833065823275\n",
            " ----n =  500 -----\n",
            "Train AUC =  0.9074694749446369\n",
            "Test AUC =  0.8886057300995092\n",
            "========For d=  10 =============\n",
            " ----n =  5 -----\n",
            "Train AUC =  0.7458575169163871\n",
            "Test AUC =  0.7366757061966916\n",
            " ----n =  10 -----\n",
            "Train AUC =  0.8182858303152132\n",
            "Test AUC =  0.7982337865365423\n",
            " ----n =  50 -----\n",
            "Train AUC =  0.8811369335223825\n",
            "Test AUC =  0.8588535719448989\n",
            " ----n =  100 -----\n",
            "Train AUC =  0.8873062255899912\n",
            "Test AUC =  0.8649088196496226\n",
            " ----n =  500 -----\n",
            "Train AUC =  0.9099072347110854\n",
            "Test AUC =  0.8866255043069322\n"
          ],
          "name": "stdout"
        }
      ]
    },
    {
      "metadata": {
        "id": "X4EpyPKFH2zX",
        "colab_type": "code",
        "colab": {}
      },
      "cell_type": "code",
      "source": [
        "#Heatmap Representation\n",
        "AUC_cv_matrices=[AUC_cv[0:5],AUC_cv[5:10],AUC_cv[10:15],AUC_cv[15:20],AUC_cv[20:25]]\n",
        "AUC_training_matrices=[AUC_training[0:5],AUC_training[5:10],AUC_training[10:15],AUC_training[15:20],AUC_training[20:25]]"
      ],
      "execution_count": 0,
      "outputs": []
    },
    {
      "metadata": {
        "id": "3QQpXsweGrWw",
        "colab_type": "code",
        "colab": {}
      },
      "cell_type": "code",
      "source": [
        "df_cv = pd.DataFrame(AUC_cv_matrices, index = [i for i in N],\n",
        "                  columns = [i for i in Depth])\n",
        "df_training = pd.DataFrame(AUC_training_matrices, index = [i for i in N],\n",
        "                  columns = [i for i in Depth])"
      ],
      "execution_count": 0,
      "outputs": []
    },
    {
      "metadata": {
        "id": "nlgpAL5NKIS8",
        "colab_type": "code",
        "colab": {
          "base_uri": "https://localhost:8080/",
          "height": 280
        },
        "outputId": "971baab2-f685-4d20-c2ea-9c3f4f1ca109"
      },
      "cell_type": "code",
      "source": [
        "ax = sns.heatmap(df_training,annot=True, fmt=\".2f\")\n",
        "ax.set_title(\"Train AUC Representation \")\n",
        "ax.collections[0].colorbar.set_label(\"AUC\")"
      ],
      "execution_count": 67,
      "outputs": [
        {
          "output_type": "display_data",
          "data": {
            "image/png": "[encoded data removed]",
            "text/plain": [
              "<Figure size 432x288 with 2 Axes>"
            ]
          },
          "metadata": {
            "tags": []
          }
        }
      ]
    },
    {
      "metadata": {
        "id": "7ntHTePtN7DJ",
        "colab_type": "code",
        "colab": {
          "base_uri": "https://localhost:8080/",
          "height": 280
        },
        "outputId": "28ca520d-e937-4af3-dda9-b12e7c656daf"
      },
      "cell_type": "code",
      "source": [
        "ax = sns.heatmap(df_cv,annot=True, fmt=\".2f\")\n",
        "ax.set_title(\"CV AUC Representation \")\n",
        "ax.collections[0].colorbar.set_label(\"AUC\")"
      ],
      "execution_count": 68,
      "outputs": [
        {
          "output_type": "display_data",
          "data": {
            "image/png": "[encoded data removed]",
            "text/plain": [
              "<Figure size 432x288 with 2 Axes>"
            ]
          },
          "metadata": {
            "tags": []
          }
        }
      ]
    },
    {
      "metadata": {
        "id": "Hakbiiy-NwO2",
        "colab_type": "text"
      },
      "cell_type": "markdown",
      "source": [
        "**Observation:** Optimal value of n_estimators=100 and max_depth=10 having AUC = 0.89"
      ]
    },
    {
      "metadata": {
        "id": "LTAjjtFLOgOF",
        "colab_type": "code",
        "colab": {
          "base_uri": "https://localhost:8080/",
          "height": 327
        },
        "outputId": "4501f120-05b0-4158-bd8d-67991e97a78e"
      },
      "cell_type": "code",
      "source": [
        "clf=RandomForestClassifier(n_estimators=100,max_depth=10, criterion='gini')\n",
        "clf.fit(train_bows,y_train)\n",
        "\n",
        "#Train Curve\n",
        "y_pred_train=clf.predict_proba(train_bows)[:,1]\n",
        "fpr_train, tpr_train, thresholds_train = roc_curve(y_train,y_pred_train)\n",
        "roc_auc_train = metrics.auc(fpr_train, tpr_train)\n",
        "\n",
        "#Test Curve\n",
        "y_pred=clf.predict_proba(test_bows)[:,1]\n",
        "fpr, tpr, thresholds = roc_curve(y_test,y_pred)\n",
        "roc_auc = metrics.auc(fpr, tpr)\n",
        "\n",
        "#Drawing ROC curve\n",
        "print('Train AUC = ',metrics.auc(fpr_train, tpr_train))\n",
        "print('Test AUC = ',metrics.auc(fpr, tpr))\n",
        "plt.figure()\n",
        "plt.plot(fpr, tpr, color='darkorange', lw=1, label=' Test ROC curve (area = %0.2f)' % roc_auc)\n",
        "plt.plot(fpr_train, tpr_train, lw=1, label='Train ROC curve (area = %0.2f)' % roc_auc_train)\n",
        "\n",
        "plt.plot([0, 1], [0, 1], color='navy', lw=1, linestyle='--')\n",
        "plt.xlim([0.0, 1.0])\n",
        "plt.ylim([0.0, 1.05])\n",
        "plt.xlabel('False Positive Rate')\n",
        "plt.ylabel('True Positive Rate')\n",
        "plt.title('Receiver operating characteristic')\n",
        "plt.legend(loc=\"lower right\")\n",
        "plt.show()\n"
      ],
      "execution_count": 71,
      "outputs": [
        {
          "output_type": "stream",
          "text": [
            "Train AUC =  0.8940170019993645\n",
            "Test AUC =  0.8676568533192841\n"
          ],
          "name": "stdout"
        },
        {
          "output_type": "display_data",
          "data": {
            "image/png": "[encoded data removed]",
            "text/plain": [
              "<Figure size 432x288 with 1 Axes>"
            ]
          },
          "metadata": {
            "tags": []
          }
        }
      ]
    },
    {
      "metadata": {
        "id": "xJVDcez9PtyF",
        "colab_type": "code",
        "colab": {
          "base_uri": "https://localhost:8080/",
          "height": 353
        },
        "outputId": "32053591-8ae1-400e-ff20-bf10b109abc0"
      },
      "cell_type": "code",
      "source": [
        "#Confusion_Matrices\n",
        "y_pred_train=clf.predict(train_bows)\n",
        "print(\"Confusion_Matrices Report for Train Data\")\n",
        "print(metrics.classification_report(y_train,y_pred_train))\n",
        "\n",
        "y_pred=clf.predict(test_bows)\n",
        "print(\"Confusion_Matrices Report for Test Data\")\n",
        "print(metrics.classification_report(y_test,y_pred))"
      ],
      "execution_count": 72,
      "outputs": [
        {
          "output_type": "stream",
          "text": [
            "Confusion_Matrices Report for Train Data\n",
            "              precision    recall  f1-score   support\n",
            "\n",
            "           0       1.00      0.00      0.00      6807\n",
            "           1       0.86      1.00      0.93     42193\n",
            "\n",
            "   micro avg       0.86      0.86      0.86     49000\n",
            "   macro avg       0.93      0.50      0.46     49000\n",
            "weighted avg       0.88      0.86      0.80     49000\n",
            "\n",
            "Confusion_Matrices Report for Test Data\n",
            "              precision    recall  f1-score   support\n",
            "\n",
            "           0       0.00      0.00      0.00      5189\n",
            "           1       0.83      1.00      0.91     24811\n",
            "\n",
            "   micro avg       0.83      0.83      0.83     30000\n",
            "   macro avg       0.41      0.50      0.45     30000\n",
            "weighted avg       0.68      0.83      0.75     30000\n",
            "\n"
          ],
          "name": "stdout"
        }
      ]
    },
    {
      "metadata": {
        "id": "RHV9yagqP14t",
        "colab_type": "code",
        "colab": {}
      },
      "cell_type": "code",
      "source": [
        "cnf_matrix = confusion_matrix(y_test,y_pred)\n",
        "cnf_matrix_train = confusion_matrix(y_train,y_pred_train)\n",
        "df_cm = pd.DataFrame(cnf_matrix, index = [i for i in [0,1]],\n",
        "                  columns = [i for i in [0,1]])\n",
        "df_cm_train = pd.DataFrame(cnf_matrix_train, index = [i for i in [0,1]],\n",
        "                  columns = [i for i in [0,1]])"
      ],
      "execution_count": 0,
      "outputs": []
    },
    {
      "metadata": {
        "id": "DOcIUcVeP7Pc",
        "colab_type": "code",
        "colab": {
          "base_uri": "https://localhost:8080/",
          "height": 297
        },
        "outputId": "5f7b48a5-4d04-4fdb-d538-778cd73789e6"
      },
      "cell_type": "code",
      "source": [
        "ax = sns.heatmap(df_cm,annot=True, fmt=\".2f\")\n",
        "ax.set_title(\"Confusion Matrices for test Data\")"
      ],
      "execution_count": 74,
      "outputs": [
        {
          "output_type": "execute_result",
          "data": {
            "text/plain": [
              "Text(0.5, 1.0, 'Confusion Matrices for test Data')"
            ]
          },
          "metadata": {
            "tags": []
          },
          "execution_count": 74
        },
        {
          "output_type": "display_data",
          "data": {
            "image/png": "[encoded data removed]",
            "text/plain": [
              "<Figure size 432x288 with 2 Axes>"
            ]
          },
          "metadata": {
            "tags": []
          }
        }
      ]
    },
    {
      "metadata": {
        "id": "dhzMiEXUQK44",
        "colab_type": "code",
        "colab": {
          "base_uri": "https://localhost:8080/",
          "height": 282
        },
        "outputId": "41d251d3-5a60-4a0a-b54f-22f33a9bc94b"
      },
      "cell_type": "code",
      "source": [
        "print(\"Confusion Matrices for Train Data\")\n",
        "ax_train = sns.heatmap(df_cm_train,annot=True, fmt=\".2f\")"
      ],
      "execution_count": 75,
      "outputs": [
        {
          "output_type": "stream",
          "text": [
            "Confusion Matrices for Train Data\n"
          ],
          "name": "stdout"
        },
        {
          "output_type": "display_data",
          "data": {
            "image/png": "[encoded data removed]",
            "text/plain": [
              "<Figure size 432x288 with 2 Axes>"
            ]
          },
          "metadata": {
            "tags": []
          }
        }
      ]
    },
    {
      "metadata": {
        "id": "0_F3ZEfUSluA",
        "colab_type": "text"
      },
      "cell_type": "markdown",
      "source": [
        "**top 20 important features**"
      ]
    },
    {
      "metadata": {
        "id": "EWqknMBeSuwP",
        "colab_type": "code",
        "colab": {
          "base_uri": "https://localhost:8080/",
          "height": 54
        },
        "outputId": "b66d5af5-4c5b-484b-ea34-8c30e76067d5"
      },
      "cell_type": "code",
      "source": [
        "feature_names=count_vector.get_feature_names()\n",
        "a=clf.feature_importances_\n",
        "top =zip( feature_names,a)\n",
        "top=list(top)\n",
        "top.sort(reverse=True,key=lambda x: x[1])\n",
        "top_20_features_names=top[0:20]\n",
        "#top_20_features_vlues=top[1][0:20]\n",
        "for i in range(1,50):\n",
        "  print(top[i][0],end=\"\\t\")"
      ],
      "execution_count": 106,
      "outputs": [
        {
          "output_type": "stream",
          "text": [
            "waste\tthrew\tgreat\tmoney\tbad\tdisappointment\tdisappointed\tterrible\treceived\tworst\taway\tnot\trefund\tthought\tbest\tlove\twould\tworse\topened\tproduct\tdisappointing\teasy\tawful\thorrible\tdescription\tcompany\treviews\tunpleasant\tthrowing\ttrash\tok\tdelicious\tstuck\tweak\tlabel\tnothing\tgarbage\thighly\tmisleading\tmistake\tbought\twonderful\tdisgusting\tsadly\tunfortunately\tbox\thoping\tguess\tperfect\t"
          ],
          "name": "stdout"
        }
      ]
    },
    {
      "metadata": {
        "id": "acnn1P68iVI8",
        "colab_type": "code",
        "colab": {
          "base_uri": "https://localhost:8080/",
          "height": 353
        },
        "outputId": "a74ec813-d181-40ac-b24a-eec22ca0f42c"
      },
      "cell_type": "code",
      "source": [
        "top_20_features_names"
      ],
      "execution_count": 108,
      "outputs": [
        {
          "output_type": "execute_result",
          "data": {
            "text/plain": [
              "[('return', 0.02122463522407823),\n",
              " ('waste', 0.02080704080272987),\n",
              " ('threw', 0.020586835301481053),\n",
              " ('great', 0.02006533075044536),\n",
              " ('money', 0.01947921529354772),\n",
              " ('bad', 0.017827939390410382),\n",
              " ('disappointment', 0.01653652545749959),\n",
              " ('disappointed', 0.015786509524202665),\n",
              " ('terrible', 0.014431988182127238),\n",
              " ('received', 0.01377616923695415),\n",
              " ('worst', 0.013615114947537517),\n",
              " ('away', 0.01177367712133334),\n",
              " ('not', 0.011561289273913948),\n",
              " ('refund', 0.01125826042682254),\n",
              " ('thought', 0.010709865766916526),\n",
              " ('best', 0.01022043996091729),\n",
              " ('love', 0.010093047294892575),\n",
              " ('would', 0.01000935496895194),\n",
              " ('worse', 0.009768314366140412),\n",
              " ('opened', 0.009612116024992668)]"
            ]
          },
          "metadata": {
            "tags": []
          },
          "execution_count": 108
        }
      ]
    },
    {
      "metadata": {
        "id": "KWlOp28GbrqI",
        "colab_type": "code",
        "colab": {}
      },
      "cell_type": "code",
      "source": [
        "feature_dict={}\n",
        "i=0\n",
        "for f,v in top_20_features_names:\n",
        "  feature_dict[f]=v\n",
        "  "
      ],
      "execution_count": 0,
      "outputs": []
    },
    {
      "metadata": {
        "id": "IpduhmC-h4Ys",
        "colab_type": "code",
        "colab": {
          "base_uri": "https://localhost:8080/",
          "height": 689
        },
        "outputId": "404acc6c-c823-470b-b3a9-7341c7f91c01"
      },
      "cell_type": "code",
      "source": [
        "for f ,v in feature_dict.items():\n",
        "  print(f)\n",
        "  print(v)"
      ],
      "execution_count": 110,
      "outputs": [
        {
          "output_type": "stream",
          "text": [
            "return\n",
            "0.02122463522407823\n",
            "waste\n",
            "0.02080704080272987\n",
            "threw\n",
            "0.020586835301481053\n",
            "great\n",
            "0.02006533075044536\n",
            "money\n",
            "0.01947921529354772\n",
            "bad\n",
            "0.017827939390410382\n",
            "disappointment\n",
            "0.01653652545749959\n",
            "disappointed\n",
            "0.015786509524202665\n",
            "terrible\n",
            "0.014431988182127238\n",
            "received\n",
            "0.01377616923695415\n",
            "worst\n",
            "0.013615114947537517\n",
            "away\n",
            "0.01177367712133334\n",
            "not\n",
            "0.011561289273913948\n",
            "refund\n",
            "0.01125826042682254\n",
            "thought\n",
            "0.010709865766916526\n",
            "best\n",
            "0.01022043996091729\n",
            "love\n",
            "0.010093047294892575\n",
            "would\n",
            "0.01000935496895194\n",
            "worse\n",
            "0.009768314366140412\n",
            "opened\n",
            "0.009612116024992668\n"
          ],
          "name": "stdout"
        }
      ]
    },
    {
      "metadata": {
        "id": "qnrpeLzeWrT9",
        "colab_type": "code",
        "colab": {
          "base_uri": "https://localhost:8080/",
          "height": 470
        },
        "outputId": "b880f4c5-a034-438b-9e86-0f0f5db1551e"
      },
      "cell_type": "code",
      "source": [
        "from wordcloud import WordCloud\n",
        "wordcloud=WordCloud(background_color='black',width=1600,height=800).fit_words(feature_dict)\n",
        "fig=plt.figure(figsize=(15,15))\n",
        "plt.imshow(wordcloud)\n",
        "plt.axis('off')\n",
        "fig.savefig(\"feature.png\")\n",
        "plt.show()"
      ],
      "execution_count": 111,
      "outputs": [
        {
          "output_type": "display_data",
          "data": {
            "image/png": "[encoded data removed]",
            "text/plain": [
              "<Figure size 1080x1080 with 1 Axes>"
            ]
          },
          "metadata": {
            "tags": []
          }
        }
      ]
    },
    {
      "metadata": {
        "id": "1GCawmYYjf3M",
        "colab_type": "code",
        "colab": {}
      },
      "cell_type": "code",
      "source": [
        "from google.colab import files\n",
        "files.download('feature.png')"
      ],
      "execution_count": 0,
      "outputs": []
    },
    {
      "metadata": {
        "id": "uqYUsSrKQtIw",
        "colab_type": "text"
      },
      "cell_type": "markdown",
      "source": [
        "# 5.1.2 Random Forest on TFIDF"
      ]
    },
    {
      "metadata": {
        "id": "v5GdIPx2naq-",
        "colab_type": "code",
        "colab": {}
      },
      "cell_type": "code",
      "source": [
        "y_train=final_sorted_time['Score'][0:49000]\n",
        "y_cv=final_sorted_time['Score'][49000:70000]\n",
        "y_test=final_sorted_time['Score'][70000:100000]"
      ],
      "execution_count": 0,
      "outputs": []
    },
    {
      "metadata": {
        "id": "80Le8nUXQv99",
        "colab_type": "code",
        "colab": {
          "base_uri": "https://localhost:8080/",
          "height": 1361
        },
        "outputId": "42eca0cb-a4d1-46d4-8319-e710d33f866b"
      },
      "cell_type": "code",
      "source": [
        "#n_estimators\n",
        "N=[5,10,50,100,500]\n",
        "Depth=[2,3,5,8,10]\n",
        "AUC_training=[]\n",
        "AUC_cv=[]\n",
        "for d in Depth:\n",
        "  print(\"========For d= \",d,\"=============\")\n",
        "  for n in N:\n",
        "    print(\" ----n = \",n,\"-----\")\n",
        "    clf=RandomForestClassifier(n_estimators=n,max_depth=d, criterion='gini')\n",
        "    clf.fit(train_tfidf,y_train)\n",
        "   \n",
        "    \n",
        "    #Training Data\n",
        "    y_predict_training=clf.predict_proba(train_tfidf)[:,1]\n",
        "    auc=roc_auc_score(y_train,y_predict_training)\n",
        "    AUC_training.append(auc)\n",
        "    print(\"Train AUC = \",auc)\n",
        "    \n",
        "    #CV Curve\n",
        "    y_predict_cv=clf.predict_proba(cv_tfidf)[:,1]\n",
        "    auc=roc_auc_score(y_cv,y_predict_cv)\n",
        "    AUC_cv.append(auc)\n",
        "    print(\"Test AUC = \",auc)"
      ],
      "execution_count": 122,
      "outputs": [
        {
          "output_type": "stream",
          "text": [
            "========For d=  2 =============\n",
            " ----n =  5 -----\n",
            "Train AUC =  0.6003405545277223\n",
            "Test AUC =  0.6007841151111701\n",
            " ----n =  10 -----\n",
            "Train AUC =  0.6245729646063765\n",
            "Test AUC =  0.621548672262295\n",
            " ----n =  50 -----\n",
            "Train AUC =  0.7789598025159147\n",
            "Test AUC =  0.7680061988560019\n",
            " ----n =  100 -----\n",
            "Train AUC =  0.8428637725031314\n",
            "Test AUC =  0.8379974773494199\n",
            " ----n =  500 -----\n",
            "Train AUC =  0.8789164311237546\n",
            "Test AUC =  0.8664245583418662\n",
            "========For d=  3 =============\n",
            " ----n =  5 -----\n",
            "Train AUC =  0.6964287882328078\n",
            "Test AUC =  0.690941071722518\n",
            " ----n =  10 -----\n",
            "Train AUC =  0.6532850431324189\n",
            "Test AUC =  0.6459999919075825\n",
            " ----n =  50 -----\n",
            "Train AUC =  0.8343223177845225\n",
            "Test AUC =  0.8303606999196089\n",
            " ----n =  100 -----\n",
            "Train AUC =  0.8480018249925296\n",
            "Test AUC =  0.8324222352400246\n",
            " ----n =  500 -----\n",
            "Train AUC =  0.8948102518305643\n",
            "Test AUC =  0.8808731843681983\n",
            "========For d=  5 =============\n",
            " ----n =  5 -----\n",
            "Train AUC =  0.6888301910765633\n",
            "Test AUC =  0.6808497709492618\n",
            " ----n =  10 -----\n",
            "Train AUC =  0.7247409750442285\n",
            "Test AUC =  0.7145016955862479\n",
            " ----n =  50 -----\n",
            "Train AUC =  0.8645396133476912\n",
            "Test AUC =  0.8442384251616124\n",
            " ----n =  100 -----\n",
            "Train AUC =  0.8939341194869075\n",
            "Test AUC =  0.8763395921331683\n",
            " ----n =  500 -----\n",
            "Train AUC =  0.9014178955776162\n",
            "Test AUC =  0.8790565410143306\n",
            "========For d=  8 =============\n",
            " ----n =  5 -----\n",
            "Train AUC =  0.6745037740990494\n",
            "Test AUC =  0.6598204038874176\n",
            " ----n =  10 -----\n",
            "Train AUC =  0.7711601209536993\n",
            "Test AUC =  0.753308578457047\n",
            " ----n =  50 -----\n",
            "Train AUC =  0.8778562003363203\n",
            "Test AUC =  0.8513037639182355\n",
            " ----n =  100 -----\n",
            "Train AUC =  0.9041565020297799\n",
            "Test AUC =  0.8767471593527376\n",
            " ----n =  500 -----\n",
            "Train AUC =  0.9143675043087538\n",
            "Test AUC =  0.8866312846051199\n",
            "========For d=  10 =============\n",
            " ----n =  5 -----\n",
            "Train AUC =  0.7306722129515231\n",
            "Test AUC =  0.7121093666456628\n",
            " ----n =  10 -----\n",
            "Train AUC =  0.8011905012967425\n",
            "Test AUC =  0.7743671440529305\n",
            " ----n =  50 -----\n",
            "Train AUC =  0.8891753429732472\n",
            "Test AUC =  0.8569077870956898\n",
            " ----n =  100 -----\n",
            "Train AUC =  0.9149983977974188\n",
            "Test AUC =  0.88497946805971\n",
            " ----n =  500 -----\n",
            "Train AUC =  0.9221512009263289\n",
            "Test AUC =  0.8893181839638987\n"
          ],
          "name": "stdout"
        }
      ]
    },
    {
      "metadata": {
        "id": "gn6o_W2lnstX",
        "colab_type": "text"
      },
      "cell_type": "markdown",
      "source": [
        "**Heatmap Representation**"
      ]
    },
    {
      "metadata": {
        "id": "9uZl1T2lnql8",
        "colab_type": "code",
        "colab": {
          "base_uri": "https://localhost:8080/",
          "height": 280
        },
        "outputId": "dc760116-9216-4f83-95aa-88e1c26ffa7e"
      },
      "cell_type": "code",
      "source": [
        "AUC_cv_matrices=[AUC_cv[0:5],AUC_cv[5:10],AUC_cv[10:15],AUC_cv[15:20],AUC_cv[20:25]]\n",
        "AUC_training_matrices=[AUC_training[0:5],AUC_training[5:10],AUC_training[10:15],AUC_training[15:20],AUC_training[20:25]]\n",
        "df_cv = pd.DataFrame(AUC_cv_matrices, index = [i for i in N],\n",
        "                  columns = [i for i in Depth])\n",
        "df_training = pd.DataFrame(AUC_training_matrices, index = [i for i in N],\n",
        "                  columns = [i for i in Depth])\n",
        "ax = sns.heatmap(df_training,annot=True, fmt=\".2f\")\n",
        "ax.set_title(\"Train AUC Representation \")\n",
        "ax.collections[0].colorbar.set_label(\"AUC\")"
      ],
      "execution_count": 123,
      "outputs": [
        {
          "output_type": "display_data",
          "data": {
            "image/png": "[encoded data removed]",
            "text/plain": [
              "<Figure size 432x288 with 2 Axes>"
            ]
          },
          "metadata": {
            "tags": []
          }
        }
      ]
    },
    {
      "metadata": {
        "id": "BbMxDr8WoH18",
        "colab_type": "code",
        "colab": {
          "base_uri": "https://localhost:8080/",
          "height": 280
        },
        "outputId": "6c177080-db42-4018-e3c0-c37eddb56d16"
      },
      "cell_type": "code",
      "source": [
        "ax = sns.heatmap(df_cv,annot=True, fmt=\".2f\")\n",
        "ax.set_title(\"CV AUC Representation \")\n",
        "ax.collections[0].colorbar.set_label(\"AUC\")"
      ],
      "execution_count": 124,
      "outputs": [
        {
          "output_type": "display_data",
          "data": {
            "image/png": "[encoded data removed]",
            "text/plain": [
              "<Figure size 432x288 with 2 Axes>"
            ]
          },
          "metadata": {
            "tags": []
          }
        }
      ]
    },
    {
      "metadata": {
        "id": "rtMLOe7RoQAt",
        "colab_type": "text"
      },
      "cell_type": "markdown",
      "source": [
        "**observation:** Optimal value of n_estimators=100, max_depth10"
      ]
    },
    {
      "metadata": {
        "id": "MKLjxSUOocIg",
        "colab_type": "code",
        "colab": {
          "base_uri": "https://localhost:8080/",
          "height": 327
        },
        "outputId": "a604fdc9-4ee8-40c9-ab48-3992ba5b56ec"
      },
      "cell_type": "code",
      "source": [
        "clf=RandomForestClassifier(n_estimators=100,max_depth=10, criterion='gini')\n",
        "clf.fit(train_tfidf,y_train)\n",
        "\n",
        "#Train Curve\n",
        "y_pred_train=clf.predict_proba(train_tfidf)[:,1]\n",
        "fpr_train, tpr_train, thresholds_train = roc_curve(y_train,y_pred_train)\n",
        "roc_auc_train = metrics.auc(fpr_train, tpr_train)\n",
        "\n",
        "#Test Curve\n",
        "y_pred=clf.predict_proba(test_tfidf)[:,1]\n",
        "fpr, tpr, thresholds = roc_curve(y_test,y_pred)\n",
        "roc_auc = metrics.auc(fpr, tpr)\n",
        "\n",
        "#Drawing ROC curve\n",
        "print('Train AUC = ',metrics.auc(fpr_train, tpr_train))\n",
        "print('Test AUC = ',metrics.auc(fpr, tpr))\n",
        "plt.figure()\n",
        "plt.plot(fpr, tpr, color='darkorange', lw=1, label=' Test ROC curve (area = %0.2f)' % roc_auc)\n",
        "plt.plot(fpr_train, tpr_train, lw=1, label='Train ROC curve (area = %0.2f)' % roc_auc_train)\n",
        "\n",
        "plt.plot([0, 1], [0, 1], color='navy', lw=1, linestyle='--')\n",
        "plt.xlim([0.0, 1.0])\n",
        "plt.ylim([0.0, 1.05])\n",
        "plt.xlabel('False Positive Rate')\n",
        "plt.ylabel('True Positive Rate')\n",
        "plt.title('Receiver operating characteristic')\n",
        "plt.legend(loc=\"lower right\")\n",
        "plt.show()"
      ],
      "execution_count": 125,
      "outputs": [
        {
          "output_type": "stream",
          "text": [
            "Train AUC =  0.9115198374294571\n",
            "Test AUC =  0.8761964871464308\n"
          ],
          "name": "stdout"
        },
        {
          "output_type": "display_data",
          "data": {
            "image/png": "[encoded data removed]",
            "text/plain": [
              "<Figure size 432x288 with 1 Axes>"
            ]
          },
          "metadata": {
            "tags": []
          }
        }
      ]
    },
    {
      "metadata": {
        "id": "yLULcrxzo20q",
        "colab_type": "code",
        "colab": {
          "base_uri": "https://localhost:8080/",
          "height": 353
        },
        "outputId": "4fa97525-e705-491f-fa0a-16ae65a9d885"
      },
      "cell_type": "code",
      "source": [
        "#Confusion_Matrices\n",
        "y_pred_train=clf.predict(train_tfidf)\n",
        "print(\"Confusion_Matrices Report for Train Data\")\n",
        "print(metrics.classification_report(y_train,y_pred_train))\n",
        "\n",
        "y_pred=clf.predict(test_tfidf)\n",
        "print(\"Confusion_Matrices Report for Test Data\")\n",
        "print(metrics.classification_report(y_test,y_pred))"
      ],
      "execution_count": 126,
      "outputs": [
        {
          "output_type": "stream",
          "text": [
            "Confusion_Matrices Report for Train Data\n",
            "              precision    recall  f1-score   support\n",
            "\n",
            "           0       0.00      0.00      0.00      6807\n",
            "           1       0.86      1.00      0.93     42193\n",
            "\n",
            "   micro avg       0.86      0.86      0.86     49000\n",
            "   macro avg       0.43      0.50      0.46     49000\n",
            "weighted avg       0.74      0.86      0.80     49000\n",
            "\n",
            "Confusion_Matrices Report for Test Data\n",
            "              precision    recall  f1-score   support\n",
            "\n",
            "           0       0.00      0.00      0.00      5189\n",
            "           1       0.83      1.00      0.91     24811\n",
            "\n",
            "   micro avg       0.83      0.83      0.83     30000\n",
            "   macro avg       0.41      0.50      0.45     30000\n",
            "weighted avg       0.68      0.83      0.75     30000\n",
            "\n"
          ],
          "name": "stdout"
        }
      ]
    },
    {
      "metadata": {
        "id": "iCG6E8ODpGDu",
        "colab_type": "code",
        "colab": {
          "base_uri": "https://localhost:8080/",
          "height": 297
        },
        "outputId": "f7cc2103-2210-4f29-e930-b69d9845d8e0"
      },
      "cell_type": "code",
      "source": [
        "cnf_matrix = confusion_matrix(y_test,y_pred)\n",
        "cnf_matrix_train = confusion_matrix(y_train,y_pred_train)\n",
        "df_cm = pd.DataFrame(cnf_matrix, index = [i for i in [0,1]],\n",
        "                  columns = [i for i in [0,1]])\n",
        "df_cm_train = pd.DataFrame(cnf_matrix_train, index = [i for i in [0,1]],\n",
        "                  columns = [i for i in [0,1]])\n",
        "ax = sns.heatmap(df_cm,annot=True, fmt=\".2f\")\n",
        "ax.set_title(\"Confusion Matrices for test Data\")"
      ],
      "execution_count": 127,
      "outputs": [
        {
          "output_type": "execute_result",
          "data": {
            "text/plain": [
              "Text(0.5, 1.0, 'Confusion Matrices for test Data')"
            ]
          },
          "metadata": {
            "tags": []
          },
          "execution_count": 127
        },
        {
          "output_type": "display_data",
          "data": {
            "image/png": "[encoded data removed]",
            "text/plain": [
              "<Figure size 432x288 with 2 Axes>"
            ]
          },
          "metadata": {
            "tags": []
          }
        }
      ]
    },
    {
      "metadata": {
        "id": "Lv8l53HCpSTi",
        "colab_type": "code",
        "colab": {
          "base_uri": "https://localhost:8080/",
          "height": 282
        },
        "outputId": "bef16c1c-88cb-4312-ff34-216fd89cff2e"
      },
      "cell_type": "code",
      "source": [
        "print(\"Confusion Matrices for Train Data\")\n",
        "ax_train = sns.heatmap(df_cm_train,annot=True, fmt=\".2f\")"
      ],
      "execution_count": 128,
      "outputs": [
        {
          "output_type": "stream",
          "text": [
            "Confusion Matrices for Train Data\n"
          ],
          "name": "stdout"
        },
        {
          "output_type": "display_data",
          "data": {
            "image/png": "[encoded data removed]",
            "text/plain": [
              "<Figure size 432x288 with 2 Axes>"
            ]
          },
          "metadata": {
            "tags": []
          }
        }
      ]
    },
    {
      "metadata": {
        "id": "Cxk7DpEGpcO7",
        "colab_type": "text"
      },
      "cell_type": "markdown",
      "source": [
        "**Top 20 Features**"
      ]
    },
    {
      "metadata": {
        "id": "FugPnUespbLO",
        "colab_type": "code",
        "colab": {
          "base_uri": "https://localhost:8080/",
          "height": 54
        },
        "outputId": "073644c5-6824-4aee-d14b-c4c03c1e3778"
      },
      "cell_type": "code",
      "source": [
        "feature_names=tfidf_vector.get_feature_names()\n",
        "a=clf.feature_importances_\n",
        "top =zip( feature_names,a)\n",
        "top=list(top)\n",
        "top.sort(reverse=True,key=lambda x: x[1])\n",
        "top_20_features_names=top[0:20]\n",
        "#top_20_features_vlues=top[1][0:20]\n",
        "for i in range(1,50):\n",
        "  print(top[i][0],end=\"\\t\")"
      ],
      "execution_count": 129,
      "outputs": [
        {
          "output_type": "stream",
          "text": [
            "disappointed\thorrible\twaste\tawful\tworst\tthrew\tbest\tdisappointing\tterrible\tthought\tgreat\twould\trefund\treturn\tdelicious\tmoney\tbad\tlove\treviews\ttrash\tunpleasant\taway\tdescription\thopes\tbroke\tunfortunately\tok\tlabel\tgross\twrong\tbuyer\tcontacted\tgood\tmaybe\tthrowing\tmistake\tdisgusting\titem\tfavorite\tlooked\treceived\thighly\tdisappointment\tworse\tloves\tperfect\tweak\tthinking\tbland\t"
          ],
          "name": "stdout"
        }
      ]
    },
    {
      "metadata": {
        "id": "WU_cOA0cp0KJ",
        "colab_type": "code",
        "colab": {
          "base_uri": "https://localhost:8080/",
          "height": 470
        },
        "outputId": "78c89196-9e44-4b91-89c2-e8c7bc7d71b0"
      },
      "cell_type": "code",
      "source": [
        "feature_dict={}\n",
        "for f,v in top_20_features_names:\n",
        "  feature_dict[f]=v\n",
        "from wordcloud import WordCloud\n",
        "wordcloud=WordCloud(background_color='black',width=1600,height=800).fit_words(feature_dict)\n",
        "fig=plt.figure(figsize=(15,15))\n",
        "plt.imshow(wordcloud)\n",
        "plt.axis('off')\n",
        "fig.savefig(\"feature2.png\")\n",
        "plt.show() \n",
        "from google.colab import files\n",
        "files.download('feature2.png')"
      ],
      "execution_count": 130,
      "outputs": [
        {
          "output_type": "display_data",
          "data": {
            "image/png": "[encoded data removed]",
            "text/plain": [
              "<Figure size 1080x1080 with 1 Axes>"
            ]
          },
          "metadata": {
            "tags": []
          }
        }
      ]
    },
    {
      "metadata": {
        "id": "y1BfBrnSqsRj",
        "colab_type": "text"
      },
      "cell_type": "markdown",
      "source": [
        "# 5.1.3 Random Forest on Word2Vec"
      ]
    },
    {
      "metadata": {
        "id": "6-x_5p0fqviv",
        "colab_type": "code",
        "colab": {}
      },
      "cell_type": "code",
      "source": [
        "y_train=final_sorted_time['Score'][0:49000]\n",
        "y_cv=final_sorted_time['Score'][49000:70000]\n",
        "y_test=final_sorted_time['Score'][70000:100000]"
      ],
      "execution_count": 0,
      "outputs": []
    },
    {
      "metadata": {
        "id": "NvWx1sKJq98L",
        "colab_type": "code",
        "colab": {
          "base_uri": "https://localhost:8080/",
          "height": 1361
        },
        "outputId": "d87c2cb2-7b65-4e5b-9f6c-aa3acc9c063f"
      },
      "cell_type": "code",
      "source": [
        "#n_estimators\n",
        "N=[5,10,50,100,500]\n",
        "Depth=[2,3,5,8,10]\n",
        "AUC_training=[]\n",
        "AUC_cv=[]\n",
        "for d in Depth:\n",
        "  print(\"========For d= \",d,\"=============\")\n",
        "  for n in N:\n",
        "    print(\" ----n = \",n,\"-----\")\n",
        "    clf=RandomForestClassifier(n_estimators=n,max_depth=d, criterion='gini')\n",
        "    clf.fit(sent_vectors,y_train)\n",
        "   \n",
        "    \n",
        "    #Training Data\n",
        "    y_predict_training=clf.predict_proba(sent_vectors)[:,1]\n",
        "    auc=roc_auc_score(y_train,y_predict_training)\n",
        "    AUC_training.append(auc)\n",
        "    print(\"Train AUC = \",auc)\n",
        "    \n",
        "    #CV Curve\n",
        "    y_predict_cv=clf.predict_proba(sent_vectors_cv)[:,1]\n",
        "    auc=roc_auc_score(y_cv,y_predict_cv)\n",
        "    AUC_cv.append(auc)\n",
        "    print(\"Test AUC = \",auc)"
      ],
      "execution_count": 132,
      "outputs": [
        {
          "output_type": "stream",
          "text": [
            "========For d=  2 =============\n",
            " ----n =  5 -----\n",
            "Train AUC =  0.7662430008722154\n",
            "Test AUC =  0.6055716952542018\n",
            " ----n =  10 -----\n",
            "Train AUC =  0.8055657418521411\n",
            "Test AUC =  0.7144113784270665\n",
            " ----n =  50 -----\n",
            "Train AUC =  0.838573719411911\n",
            "Test AUC =  0.7575768389488824\n",
            " ----n =  100 -----\n",
            "Train AUC =  0.8328976400083297\n",
            "Test AUC =  0.7643416262843261\n",
            " ----n =  500 -----\n",
            "Train AUC =  0.8423492233675824\n",
            "Test AUC =  0.7751274298848225\n",
            "========For d=  3 =============\n",
            " ----n =  5 -----\n",
            "Train AUC =  0.8109754687644206\n",
            "Test AUC =  0.6929923630700345\n",
            " ----n =  10 -----\n",
            "Train AUC =  0.8323083888498539\n",
            "Test AUC =  0.7199167592103111\n",
            " ----n =  50 -----\n",
            "Train AUC =  0.8587007406356522\n",
            "Test AUC =  0.7678773222909943\n",
            " ----n =  100 -----\n",
            "Train AUC =  0.8580941953756672\n",
            "Test AUC =  0.7722865417766877\n",
            " ----n =  500 -----\n",
            "Train AUC =  0.8612114510795358\n",
            "Test AUC =  0.7814563907651131\n",
            "========For d=  5 =============\n",
            " ----n =  5 -----\n",
            "Train AUC =  0.852757272905215\n",
            "Test AUC =  0.6687183299870758\n",
            " ----n =  10 -----\n",
            "Train AUC =  0.866227189669404\n",
            "Test AUC =  0.7424668986407372\n",
            " ----n =  50 -----\n",
            "Train AUC =  0.8815389108353138\n",
            "Test AUC =  0.8041902955087533\n",
            " ----n =  100 -----\n",
            "Train AUC =  0.8873103428187076\n",
            "Test AUC =  0.8104418565906735\n",
            " ----n =  500 -----\n",
            "Train AUC =  0.887152060182387\n",
            "Test AUC =  0.8148824261658427\n",
            "========For d=  8 =============\n",
            " ----n =  5 -----\n",
            "Train AUC =  0.8982988345603528\n",
            "Test AUC =  0.6793996466696395\n",
            " ----n =  10 -----\n",
            "Train AUC =  0.9165758308521417\n",
            "Test AUC =  0.7549281457554853\n",
            " ----n =  50 -----\n",
            "Train AUC =  0.9330727150187531\n",
            "Test AUC =  0.7984756117337741\n",
            " ----n =  100 -----\n",
            "Train AUC =  0.9353791917684005\n",
            "Test AUC =  0.8157918436909747\n",
            " ----n =  500 -----\n",
            "Train AUC =  0.9373109676277503\n",
            "Test AUC =  0.8298529970621314\n",
            "========For d=  10 =============\n",
            " ----n =  5 -----\n",
            "Train AUC =  0.9361257698090468\n",
            "Test AUC =  0.6672520690416799\n",
            " ----n =  10 -----\n",
            "Train AUC =  0.9553123550624509\n",
            "Test AUC =  0.6941071497728568\n",
            " ----n =  50 -----\n",
            "Train AUC =  0.970193729207538\n",
            "Test AUC =  0.7720582039418936\n",
            " ----n =  100 -----\n",
            "Train AUC =  0.9716097668965765\n",
            "Test AUC =  0.80136778393194\n",
            " ----n =  500 -----\n",
            "Train AUC =  0.9737967447821421\n",
            "Test AUC =  0.8286224518599105\n"
          ],
          "name": "stdout"
        }
      ]
    },
    {
      "metadata": {
        "id": "hUyeFaLVrXdV",
        "colab_type": "text"
      },
      "cell_type": "markdown",
      "source": [
        "**Heatmap Representation**"
      ]
    },
    {
      "metadata": {
        "id": "kTpQEYQfrWSR",
        "colab_type": "code",
        "colab": {
          "base_uri": "https://localhost:8080/",
          "height": 280
        },
        "outputId": "ec37a80a-f591-406b-ce01-c118955aa29b"
      },
      "cell_type": "code",
      "source": [
        "AUC_cv_matrices=[AUC_cv[0:5],AUC_cv[5:10],AUC_cv[10:15],AUC_cv[15:20],AUC_cv[20:25]]\n",
        "AUC_training_matrices=[AUC_training[0:5],AUC_training[5:10],AUC_training[10:15],AUC_training[15:20],AUC_training[20:25]]\n",
        "df_cv = pd.DataFrame(AUC_cv_matrices, index = [i for i in N],\n",
        "                  columns = [i for i in Depth])\n",
        "df_training = pd.DataFrame(AUC_training_matrices, index = [i for i in N],\n",
        "                  columns = [i for i in Depth])\n",
        "ax = sns.heatmap(df_training,annot=True, fmt=\".2f\")\n",
        "ax.set_title(\"Train AUC Representation \")\n",
        "ax.collections[0].colorbar.set_label(\"AUC\")"
      ],
      "execution_count": 133,
      "outputs": [
        {
          "output_type": "display_data",
          "data": {
            "image/png": "[encoded data removed]",
            "text/plain": [
              "<Figure size 432x288 with 2 Axes>"
            ]
          },
          "metadata": {
            "tags": []
          }
        }
      ]
    },
    {
      "metadata": {
        "id": "5KyVeLShrgUu",
        "colab_type": "code",
        "colab": {
          "base_uri": "https://localhost:8080/",
          "height": 280
        },
        "outputId": "fee5354c-c39f-4b47-807c-8ce74fd426ba"
      },
      "cell_type": "code",
      "source": [
        "ax = sns.heatmap(df_cv,annot=True, fmt=\".2f\")\n",
        "ax.set_title(\"CV AUC Representation \")\n",
        "ax.collections[0].colorbar.set_label(\"AUC\")"
      ],
      "execution_count": 134,
      "outputs": [
        {
          "output_type": "display_data",
          "data": {
            "image/png": "[encoded data removed]",
            "text/plain": [
              "<Figure size 432x288 with 2 Axes>"
            ]
          },
          "metadata": {
            "tags": []
          }
        }
      ]
    },
    {
      "metadata": {
        "id": "QHVbJ4BHrolv",
        "colab_type": "text"
      },
      "cell_type": "markdown",
      "source": [
        "**observation:** Optimal value of n_estimators=100, max_depth10"
      ]
    },
    {
      "metadata": {
        "id": "1ObyJqu4rpkI",
        "colab_type": "code",
        "colab": {
          "base_uri": "https://localhost:8080/",
          "height": 327
        },
        "outputId": "6a61e0d2-2fa0-4e36-e8e9-2bf3f05cb3d3"
      },
      "cell_type": "code",
      "source": [
        "clf=RandomForestClassifier(n_estimators=100,max_depth=10, criterion='gini')\n",
        "clf.fit(sent_vectors,y_train)\n",
        "\n",
        "#Train Curve\n",
        "y_pred_train=clf.predict_proba(sent_vectors)[:,1]\n",
        "fpr_train, tpr_train, thresholds_train = roc_curve(y_train,y_pred_train)\n",
        "roc_auc_train = metrics.auc(fpr_train, tpr_train)\n",
        "\n",
        "#Test Curve\n",
        "y_pred=clf.predict_proba(sent_vectors_test)[:,1]\n",
        "fpr, tpr, thresholds = roc_curve(y_test,y_pred)\n",
        "roc_auc = metrics.auc(fpr, tpr)\n",
        "\n",
        "#Drawing ROC curve\n",
        "print('Train AUC = ',metrics.auc(fpr_train, tpr_train))\n",
        "print('Test AUC = ',metrics.auc(fpr, tpr))\n",
        "plt.figure()\n",
        "plt.plot(fpr, tpr, color='darkorange', lw=1, label=' Test ROC curve (area = %0.2f)' % roc_auc)\n",
        "plt.plot(fpr_train, tpr_train, lw=1, label='Train ROC curve (area = %0.2f)' % roc_auc_train)\n",
        "\n",
        "plt.plot([0, 1], [0, 1], color='navy', lw=1, linestyle='--')\n",
        "plt.xlim([0.0, 1.0])\n",
        "plt.ylim([0.0, 1.05])\n",
        "plt.xlabel('False Positive Rate')\n",
        "plt.ylabel('True Positive Rate')\n",
        "plt.title('Receiver operating characteristic')\n",
        "plt.legend(loc=\"lower right\")\n",
        "plt.show()"
      ],
      "execution_count": 135,
      "outputs": [
        {
          "output_type": "stream",
          "text": [
            "Train AUC =  0.9724408691184663\n",
            "Test AUC =  0.8202436358356552\n"
          ],
          "name": "stdout"
        },
        {
          "output_type": "display_data",
          "data": {
            "image/png": "[encoded data removed]",
            "text/plain": [
              "<Figure size 432x288 with 1 Axes>"
            ]
          },
          "metadata": {
            "tags": []
          }
        }
      ]
    },
    {
      "metadata": {
        "id": "wgDVevcTsDK2",
        "colab_type": "code",
        "colab": {
          "base_uri": "https://localhost:8080/",
          "height": 353
        },
        "outputId": "26bce17e-11bb-4cdd-c3e6-ff709d3ac9cf"
      },
      "cell_type": "code",
      "source": [
        "#Confusion_Matrices\n",
        "y_pred_train=clf.predict(sent_vectors)\n",
        "print(\"Confusion_Matrices Report for Train Data\")\n",
        "print(metrics.classification_report(y_train,y_pred_train))\n",
        "\n",
        "y_pred=clf.predict(sent_vectors_test)\n",
        "print(\"Confusion_Matrices Report for Test Data\")\n",
        "print(metrics.classification_report(y_test,y_pred))"
      ],
      "execution_count": 136,
      "outputs": [
        {
          "output_type": "stream",
          "text": [
            "Confusion_Matrices Report for Train Data\n",
            "              precision    recall  f1-score   support\n",
            "\n",
            "           0       0.95      0.33      0.49      6807\n",
            "           1       0.90      1.00      0.95     42193\n",
            "\n",
            "   micro avg       0.91      0.91      0.91     49000\n",
            "   macro avg       0.93      0.67      0.72     49000\n",
            "weighted avg       0.91      0.91      0.88     49000\n",
            "\n",
            "Confusion_Matrices Report for Test Data\n",
            "              precision    recall  f1-score   support\n",
            "\n",
            "           0       0.77      0.01      0.03      5189\n",
            "           1       0.83      1.00      0.91     24811\n",
            "\n",
            "   micro avg       0.83      0.83      0.83     30000\n",
            "   macro avg       0.80      0.51      0.47     30000\n",
            "weighted avg       0.82      0.83      0.75     30000\n",
            "\n"
          ],
          "name": "stdout"
        }
      ]
    },
    {
      "metadata": {
        "id": "RxpEDwWzsTY2",
        "colab_type": "code",
        "colab": {}
      },
      "cell_type": "code",
      "source": [
        "cnf_matrix = confusion_matrix(y_test,y_pred)\n",
        "cnf_matrix_train = confusion_matrix(y_train,y_pred_train)\n",
        "df_cm = pd.DataFrame(cnf_matrix, index = [i for i in [0,1]],\n",
        "                  columns = [i for i in [0,1]])\n",
        "df_cm_train = pd.DataFrame(cnf_matrix_train, index = [i for i in [0,1]],\n",
        "                  columns = [i for i in [0,1]])"
      ],
      "execution_count": 0,
      "outputs": []
    },
    {
      "metadata": {
        "id": "WS0tILIbwhY9",
        "colab_type": "code",
        "colab": {
          "base_uri": "https://localhost:8080/",
          "height": 297
        },
        "outputId": "8fed4309-7a5a-43e2-b3f0-7ad5f64442f6"
      },
      "cell_type": "code",
      "source": [
        "ax = sns.heatmap(df_cm,annot=True, fmt=\".2f\")\n",
        "ax.set_title(\"Confusion Matrices for test Data\")"
      ],
      "execution_count": 141,
      "outputs": [
        {
          "output_type": "execute_result",
          "data": {
            "text/plain": [
              "Text(0.5, 1.0, 'Confusion Matrices for test Data')"
            ]
          },
          "metadata": {
            "tags": []
          },
          "execution_count": 141
        },
        {
          "output_type": "display_data",
          "data": {
            "image/png": "[encoded data removed]",
            "text/plain": [
              "<Figure size 432x288 with 2 Axes>"
            ]
          },
          "metadata": {
            "tags": []
          }
        }
      ]
    },
    {
      "metadata": {
        "id": "tVV7wWUzsYfF",
        "colab_type": "code",
        "colab": {
          "base_uri": "https://localhost:8080/",
          "height": 282
        },
        "outputId": "3520ac9b-108e-4207-a2f8-33b2bbbae969"
      },
      "cell_type": "code",
      "source": [
        "ax_train = sns.heatmap(df_cm_train,annot=True, fmt=\".2f\")\n",
        "ax.set_title(\"Confusion Matrices for Train Data\")"
      ],
      "execution_count": 138,
      "outputs": [
        {
          "output_type": "execute_result",
          "data": {
            "text/plain": [
              "Text(0.5, 1.0, 'Confusion Matrices for Train Data')"
            ]
          },
          "metadata": {
            "tags": []
          },
          "execution_count": 138
        },
        {
          "output_type": "display_data",
          "data": {
            "image/png": "[encoded data removed]",
            "text/plain": [
              "<Figure size 432x288 with 2 Axes>"
            ]
          },
          "metadata": {
            "tags": []
          }
        }
      ]
    },
    {
      "metadata": {
        "id": "MHkwjzauus-V",
        "colab_type": "text"
      },
      "cell_type": "markdown",
      "source": [
        "# 5.1.4 Random Forest on Word2Vec\n"
      ]
    },
    {
      "metadata": {
        "id": "UU_O1pptvRLJ",
        "colab_type": "code",
        "colab": {}
      },
      "cell_type": "code",
      "source": [
        "y_train=final_sorted_time['Score'][0:49000]\n",
        "y_cv=final_sorted_time['Score'][49000:70000]\n",
        "y_test=final_sorted_time['Score'][70000:100000]"
      ],
      "execution_count": 0,
      "outputs": []
    },
    {
      "metadata": {
        "id": "-T_CG5bgvVYM",
        "colab_type": "code",
        "colab": {
          "base_uri": "https://localhost:8080/",
          "height": 1361
        },
        "outputId": "5b551871-ff2b-458f-d42d-949296c25bdc"
      },
      "cell_type": "code",
      "source": [
        "#n_estimators\n",
        "N=[5,10,50,100,500]\n",
        "Depth=[2,3,5,8,10]\n",
        "AUC_training=[]\n",
        "AUC_cv=[]\n",
        "for d in Depth:\n",
        "  print(\"========For d= \",d,\"=============\")\n",
        "  for n in N:\n",
        "    print(\" ----n = \",n,\"-----\")\n",
        "    clf=RandomForestClassifier(n_estimators=n,max_depth=d, criterion='gini')\n",
        "    clf.fit(tfidf_sent_vectors_train,y_train)\n",
        "   \n",
        "    \n",
        "    #Training Data\n",
        "    y_predict_training=clf.predict_proba(tfidf_sent_vectors_train)[:,1]\n",
        "    auc=roc_auc_score(y_train,y_predict_training)\n",
        "    AUC_training.append(auc)\n",
        "    print(\"Train AUC = \",auc)\n",
        "    \n",
        "    #CV Curve\n",
        "    y_predict_cv=clf.predict_proba(tfidf_sent_vectors_cv)[:,1]\n",
        "    auc=roc_auc_score(y_cv,y_predict_cv)\n",
        "    AUC_cv.append(auc)\n",
        "    print(\"Test AUC = \",auc)"
      ],
      "execution_count": 140,
      "outputs": [
        {
          "output_type": "stream",
          "text": [
            "========For d=  2 =============\n",
            " ----n =  5 -----\n",
            "Train AUC =  0.7320880399916505\n",
            "Test AUC =  0.6207800692235664\n",
            " ----n =  10 -----\n",
            "Train AUC =  0.7671191732565741\n",
            "Test AUC =  0.6742591231249114\n",
            " ----n =  50 -----\n",
            "Train AUC =  0.8117327307089286\n",
            "Test AUC =  0.7149559226572981\n",
            " ----n =  100 -----\n",
            "Train AUC =  0.8062399646031837\n",
            "Test AUC =  0.7364396372130715\n",
            " ----n =  500 -----\n",
            "Train AUC =  0.813123615873445\n",
            "Test AUC =  0.7497096764953359\n",
            "========For d=  3 =============\n",
            " ----n =  5 -----\n",
            "Train AUC =  0.7800217480899392\n",
            "Test AUC =  0.7190008388497181\n",
            " ----n =  10 -----\n",
            "Train AUC =  0.794622624930481\n",
            "Test AUC =  0.7000347492259378\n",
            " ----n =  50 -----\n",
            "Train AUC =  0.8209804233312631\n",
            "Test AUC =  0.7522723636686165\n",
            " ----n =  100 -----\n",
            "Train AUC =  0.832371642713779\n",
            "Test AUC =  0.7461507469012303\n",
            " ----n =  500 -----\n",
            "Train AUC =  0.8290689724456636\n",
            "Test AUC =  0.759699268105066\n",
            "========For d=  5 =============\n",
            " ----n =  5 -----\n",
            "Train AUC =  0.817856137872825\n",
            "Test AUC =  0.7139420262424254\n",
            " ----n =  10 -----\n",
            "Train AUC =  0.8301468054739233\n",
            "Test AUC =  0.7124517690313589\n",
            " ----n =  50 -----\n",
            "Train AUC =  0.855442548623975\n",
            "Test AUC =  0.7648938936351917\n",
            " ----n =  100 -----\n",
            "Train AUC =  0.8594145775682773\n",
            "Test AUC =  0.7626284823807841\n",
            " ----n =  500 -----\n",
            "Train AUC =  0.8622447832196563\n",
            "Test AUC =  0.7784955775259695\n",
            "========For d=  8 =============\n",
            " ----n =  5 -----\n",
            "Train AUC =  0.8781729449216711\n",
            "Test AUC =  0.7034058111007544\n",
            " ----n =  10 -----\n",
            "Train AUC =  0.9000712170891239\n",
            "Test AUC =  0.7083867181335854\n",
            " ----n =  50 -----\n",
            "Train AUC =  0.9208720832885878\n",
            "Test AUC =  0.7750262425537717\n",
            " ----n =  100 -----\n",
            "Train AUC =  0.9237829413594063\n",
            "Test AUC =  0.7725700654027895\n",
            " ----n =  500 -----\n",
            "Train AUC =  0.9257652102850107\n",
            "Test AUC =  0.7851129110602859\n",
            "========For d=  10 =============\n",
            " ----n =  5 -----\n",
            "Train AUC =  0.9232518763046893\n",
            "Test AUC =  0.6548251585038045\n",
            " ----n =  10 -----\n",
            "Train AUC =  0.9446101543408555\n",
            "Test AUC =  0.6860055881996111\n",
            " ----n =  50 -----\n",
            "Train AUC =  0.9641489376099741\n",
            "Test AUC =  0.7432446056491111\n",
            " ----n =  100 -----\n",
            "Train AUC =  0.966620869504319\n",
            "Test AUC =  0.7548274401159503\n",
            " ----n =  500 -----\n",
            "Train AUC =  0.9687829420731755\n",
            "Test AUC =  0.7715794186317378\n"
          ],
          "name": "stdout"
        }
      ]
    },
    {
      "metadata": {
        "id": "YDWfnd0qvsNP",
        "colab_type": "text"
      },
      "cell_type": "markdown",
      "source": [
        "** Representation in Seaborn Heatmap**"
      ]
    },
    {
      "metadata": {
        "id": "gTRf3LPEvrAk",
        "colab_type": "code",
        "colab": {
          "base_uri": "https://localhost:8080/",
          "height": 280
        },
        "outputId": "d5da497f-830f-47e6-e26c-6ae84dd2f86c"
      },
      "cell_type": "code",
      "source": [
        "AUC_cv_matrices=[AUC_cv[0:5],AUC_cv[5:10],AUC_cv[10:15],AUC_cv[15:20],AUC_cv[20:25]]\n",
        "AUC_training_matrices=[AUC_training[0:5],AUC_training[5:10],AUC_training[10:15],AUC_training[15:20],AUC_training[20:25]]\n",
        "df_cv = pd.DataFrame(AUC_cv_matrices, index = [i for i in N],\n",
        "                  columns = [i for i in Depth])\n",
        "df_training = pd.DataFrame(AUC_training_matrices, index = [i for i in N],\n",
        "                  columns = [i for i in Depth])\n",
        "ax = sns.heatmap(df_training,annot=True, fmt=\".2f\")\n",
        "ax.set_title(\"Train AUC Representation \")\n",
        "ax.collections[0].colorbar.set_label(\"AUC\")"
      ],
      "execution_count": 142,
      "outputs": [
        {
          "output_type": "display_data",
          "data": {
            "image/png": "[encoded data removed]",
            "text/plain": [
              "<Figure size 432x288 with 2 Axes>"
            ]
          },
          "metadata": {
            "tags": []
          }
        }
      ]
    },
    {
      "metadata": {
        "id": "eGQ9f-6Ov_Ag",
        "colab_type": "code",
        "colab": {
          "base_uri": "https://localhost:8080/",
          "height": 280
        },
        "outputId": "b12d681d-7f36-433c-9517-8d98ca1570b4"
      },
      "cell_type": "code",
      "source": [
        "ax = sns.heatmap(df_cv,annot=True, fmt=\".2f\")\n",
        "ax.set_title(\"CV AUC Representation \")\n",
        "ax.collections[0].colorbar.set_label(\"AUC\")"
      ],
      "execution_count": 143,
      "outputs": [
        {
          "output_type": "display_data",
          "data": {
            "image/png": "[encoded data removed]",
            "text/plain": [
              "<Figure size 432x288 with 2 Axes>"
            ]
          },
          "metadata": {
            "tags": []
          }
        }
      ]
    },
    {
      "metadata": {
        "id": "u0dmnTjbwNoD",
        "colab_type": "text"
      },
      "cell_type": "markdown",
      "source": [
        "**observation**: Optimal value of n_estimators=100, max_depth10\n",
        "\n"
      ]
    },
    {
      "metadata": {
        "id": "mHgxmExlwPjM",
        "colab_type": "code",
        "colab": {
          "base_uri": "https://localhost:8080/",
          "height": 327
        },
        "outputId": "bc66e7f1-01c8-4d3e-ce8e-1e08bb452140"
      },
      "cell_type": "code",
      "source": [
        "clf=RandomForestClassifier(n_estimators=100,max_depth=10, criterion='gini')\n",
        "clf.fit(tfidf_sent_vectors_train,y_train)\n",
        "\n",
        "#Train Curve\n",
        "y_pred_train=clf.predict_proba(tfidf_sent_vectors_train)[:,1]\n",
        "fpr_train, tpr_train, thresholds_train = roc_curve(y_train,y_pred_train)\n",
        "roc_auc_train = metrics.auc(fpr_train, tpr_train)\n",
        "\n",
        "#Test Curve\n",
        "y_pred=clf.predict_proba(tfidf_sent_vectors_test)[:,1]\n",
        "fpr, tpr, thresholds = roc_curve(y_test,y_pred)\n",
        "roc_auc = metrics.auc(fpr, tpr)\n",
        "\n",
        "#Drawing ROC curve\n",
        "print('Train AUC = ',metrics.auc(fpr_train, tpr_train))\n",
        "print('Test AUC = ',metrics.auc(fpr, tpr))\n",
        "plt.figure()\n",
        "plt.plot(fpr, tpr, color='darkorange', lw=1, label=' Test ROC curve (area = %0.2f)' % roc_auc)\n",
        "plt.plot(fpr_train, tpr_train, lw=1, label='Train ROC curve (area = %0.2f)' % roc_auc_train)\n",
        "\n",
        "plt.plot([0, 1], [0, 1], color='navy', lw=1, linestyle='--')\n",
        "plt.xlim([0.0, 1.0])\n",
        "plt.ylim([0.0, 1.05])\n",
        "plt.xlabel('False Positive Rate')\n",
        "plt.ylabel('True Positive Rate')\n",
        "plt.title('Receiver operating characteristic')\n",
        "plt.legend(loc=\"lower right\")\n",
        "plt.show()"
      ],
      "execution_count": 144,
      "outputs": [
        {
          "output_type": "stream",
          "text": [
            "Train AUC =  0.9673803859144456\n",
            "Test AUC =  0.7666551963835224\n"
          ],
          "name": "stdout"
        },
        {
          "output_type": "display_data",
          "data": {
            "image/png": "[encoded data removed]",
            "text/plain": [
              "<Figure size 432x288 with 1 Axes>"
            ]
          },
          "metadata": {
            "tags": []
          }
        }
      ]
    },
    {
      "metadata": {
        "id": "kVF0JUuRxEHr",
        "colab_type": "code",
        "colab": {
          "base_uri": "https://localhost:8080/",
          "height": 353
        },
        "outputId": "90ac686c-53e6-433b-adae-8ed9ff235ece"
      },
      "cell_type": "code",
      "source": [
        "#Confusion_Matrices Report\n",
        "y_pred_train=clf.predict(tfidf_sent_vectors_train)\n",
        "print(\"Confusion_Matrices Report for Train Data\")\n",
        "print(metrics.classification_report(y_train,y_pred_train))\n",
        "\n",
        "y_pred=clf.predict(tfidf_sent_vectors_test)\n",
        "print(\"Confusion_Matrices Report for Test Data\")\n",
        "print(metrics.classification_report(y_test,y_pred))"
      ],
      "execution_count": 145,
      "outputs": [
        {
          "output_type": "stream",
          "text": [
            "Confusion_Matrices Report for Train Data\n",
            "              precision    recall  f1-score   support\n",
            "\n",
            "           0       0.96      0.24      0.38      6807\n",
            "           1       0.89      1.00      0.94     42193\n",
            "\n",
            "   micro avg       0.89      0.89      0.89     49000\n",
            "   macro avg       0.93      0.62      0.66     49000\n",
            "weighted avg       0.90      0.89      0.86     49000\n",
            "\n",
            "Confusion_Matrices Report for Test Data\n",
            "              precision    recall  f1-score   support\n",
            "\n",
            "           0       0.79      0.00      0.01      5189\n",
            "           1       0.83      1.00      0.91     24811\n",
            "\n",
            "   micro avg       0.83      0.83      0.83     30000\n",
            "   macro avg       0.81      0.50      0.46     30000\n",
            "weighted avg       0.82      0.83      0.75     30000\n",
            "\n"
          ],
          "name": "stdout"
        }
      ]
    },
    {
      "metadata": {
        "id": "5AmsEH1oxUX2",
        "colab_type": "code",
        "colab": {
          "base_uri": "https://localhost:8080/",
          "height": 297
        },
        "outputId": "25ecf938-8b73-4cfc-e123-66b67ec29036"
      },
      "cell_type": "code",
      "source": [
        "cnf_matrix = confusion_matrix(y_test,y_pred)\n",
        "cnf_matrix_train = confusion_matrix(y_train,y_pred_train)\n",
        "df_cm = pd.DataFrame(cnf_matrix, index = [i for i in [0,1]],\n",
        "                  columns = [i for i in [0,1]])\n",
        "df_cm_train = pd.DataFrame(cnf_matrix_train, index = [i for i in [0,1]],\n",
        "                  columns = [i for i in [0,1]])\n",
        "ax = sns.heatmap(df_cm,annot=True, fmt=\".2f\")\n",
        "ax.set_title(\"Confusion Matrices for test Data\")"
      ],
      "execution_count": 146,
      "outputs": [
        {
          "output_type": "execute_result",
          "data": {
            "text/plain": [
              "Text(0.5, 1.0, 'Confusion Matrices for test Data')"
            ]
          },
          "metadata": {
            "tags": []
          },
          "execution_count": 146
        },
        {
          "output_type": "display_data",
          "data": {
            "image/png": "[encoded data removed]",
            "text/plain": [
              "<Figure size 432x288 with 2 Axes>"
            ]
          },
          "metadata": {
            "tags": []
          }
        }
      ]
    },
    {
      "metadata": {
        "id": "d1xRUH8Uxb23",
        "colab_type": "code",
        "colab": {
          "base_uri": "https://localhost:8080/",
          "height": 282
        },
        "outputId": "fe61f456-1f76-4c1a-a381-90deed9daa48"
      },
      "cell_type": "code",
      "source": [
        "ax_train = sns.heatmap(df_cm_train,annot=True, fmt=\".2f\")\n",
        "ax.set_title(\"Confusion Matrices for Train Data\")"
      ],
      "execution_count": 147,
      "outputs": [
        {
          "output_type": "execute_result",
          "data": {
            "text/plain": [
              "Text(0.5, 1.0, 'Confusion Matrices for Train Data')"
            ]
          },
          "metadata": {
            "tags": []
          },
          "execution_count": 147
        },
        {
          "output_type": "display_data",
          "data": {
            "image/png": "[encoded data removed]",
            "text/plain": [
              "<Figure size 432x288 with 2 Axes>"
            ]
          },
          "metadata": {
            "tags": []
          }
        }
      ]
    },
    {
      "metadata": {
        "id": "cwcUII7qQRby",
        "colab_type": "text"
      },
      "cell_type": "markdown",
      "source": [
        "# Conclusion table-1:"
      ]
    },
    {
      "metadata": {
        "id": "PZ2cHaNtQUlO",
        "colab_type": "code",
        "colab": {
          "base_uri": "https://localhost:8080/",
          "height": 151
        },
        "outputId": "bafc6699-11de-491c-b150-1aae8d897166"
      },
      "cell_type": "code",
      "source": [
        "from prettytable import PrettyTable\n",
        "x = PrettyTable()\n",
        "x.field_names = [\"Vectorizer\", \"N_estimators\", \"Max_Depth\", \"AUC\"]\n",
        "x.add_row([\"BOWs\",100, 10, 0.86])\n",
        "x.add_row([\"TFIDF\",100, 10, 0.87])\n",
        "x.add_row([\"W2Vec\",100, 10, 0.82])\n",
        "x.add_row([\"TFIDFW2Vec\",100, 10, 0.76])\n",
        "print (x)"
      ],
      "execution_count": 148,
      "outputs": [
        {
          "output_type": "stream",
          "text": [
            "+------------+--------------+-----------+------+\n",
            "| Vectorizer | N_estimators | Max_Depth | AUC  |\n",
            "+------------+--------------+-----------+------+\n",
            "|    BOWs    |     100      |     10    | 0.86 |\n",
            "|   TFIDF    |     100      |     10    | 0.87 |\n",
            "|   W2Vec    |     100      |     10    | 0.82 |\n",
            "| TFIDFW2Vec |     100      |     10    | 0.76 |\n",
            "+------------+--------------+-----------+------+\n"
          ],
          "name": "stdout"
        }
      ]
    }
  ]
}