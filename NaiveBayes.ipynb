{
  "nbformat": 4,
  "nbformat_minor": 0,
  "metadata": {
    "colab": {
      "name": "NaiveBayes.ipynb",
      "version": "0.3.2",
      "provenance": [],
      "collapsed_sections": [],
      "include_colab_link": true
    },
    "kernelspec": {
      "name": "python3",
      "display_name": "Python 3"
    }
  },
  "cells": [
    {
      "cell_type": "markdown",
      "metadata": {
        "id": "view-in-github",
        "colab_type": "text"
      },
      "source": [
        "<a href=\"https://colab.research.google.com/github/mitesh98/Amazon-Fine-Food-Review/blob/master/NaiveBayes.ipynb\" target=\"_parent\"><img src=\"https://colab.research.google.com/assets/colab-badge.svg\" alt=\"Open In Colab\"/></a>"
      ]
    },
    {
      "metadata": {
        "id": "11nm_oyB3rxq",
        "colab_type": "text"
      },
      "cell_type": "markdown",
      "source": [
        "# Amazon Fine Food Reviews Analysis"
      ]
    },
    {
      "metadata": {
        "id": "uZKu2kuc3xYi",
        "colab_type": "text"
      },
      "cell_type": "markdown",
      "source": [
        "Data Source: https://www.kaggle.com/snap/amazon-fine-food-reviews "
      ]
    },
    {
      "metadata": {
        "id": "sY3bDaQE4C0K",
        "colab_type": "text"
      },
      "cell_type": "markdown",
      "source": [
        "The Amazon Fine Food Reviews dataset consists of reviews of fine foods from Amazon.\n",
        "\n",
        "Number of reviews: 568,454\n",
        "\n",
        "Number of users: 256,059\n",
        "\n",
        "Number of products: 74,258\n",
        "\n",
        "Timespan: Oct 1999 - Oct 2012\n",
        "\n",
        "Number of Attributes/Columns in data: 10\n"
      ]
    },
    {
      "metadata": {
        "id": "IEVeSXYx4Jnu",
        "colab_type": "text"
      },
      "cell_type": "markdown",
      "source": [
        "Attribute Information:\n",
        "\n",
        "Id\n",
        "\n",
        "ProductId - unique identifier for the product\n",
        "\n",
        "UserId - unqiue identifier for the user\n",
        "\n",
        "ProfileName\n",
        "\n",
        "HelpfulnessNumerator - number of users who found the review helpful\n",
        "\n",
        "HelpfulnessDenominator - number of users who indicated whether they found the review helpful or not\n",
        "\n",
        "Score - rating between 1 and 5\n",
        "\n",
        "Time - timestamp for the review\n",
        "\n",
        "Summary - brief summary of the review\n",
        "\n",
        "Text - text of the review\n",
        "\n",
        "Objective:\n",
        "Given a review, determine whether the review is positive (rating of 4 or 5) or negative (rating of 1 or 2).\n",
        "\n"
      ]
    },
    {
      "metadata": {
        "id": "TycMzrPC4fSU",
        "colab_type": "code",
        "colab": {}
      },
      "cell_type": "code",
      "source": [
        "%matplotlib inline\n",
        "import warnings\n",
        "warnings.filterwarnings(\"ignore\")\n",
        "import sqlite3\n",
        "import pandas as pd\n",
        "import numpy as np\n",
        "import matplotlib.pyplot as plt\n",
        "import seaborn as sns\n",
        "from sklearn.feature_extraction.text import CountVectorizer #BOWs\n",
        "from sklearn.feature_extraction.text import TfidfVectorizer #Tfidf\n",
        "from sklearn import metrics\n",
        "from sklearn.metrics import confusion_matrix\n",
        "\n",
        "import nltk\n",
        "from nltk.stem.porter import PorterStemmer\n",
        "\n",
        "import re    \n"
      ],
      "execution_count": 0,
      "outputs": []
    },
    {
      "metadata": {
        "id": "AceErSjK3gTx",
        "colab_type": "code",
        "outputId": "82dfddcd-70c9-4ef3-aacc-fc8067fa0906",
        "colab": {
          "base_uri": "https://localhost:8080/",
          "height": 122
        }
      },
      "cell_type": "code",
      "source": [
        "from google.colab import drive\n",
        "drive.mount('/content/drive')"
      ],
      "execution_count": 2,
      "outputs": [
        {
          "output_type": "stream",
          "text": [
            "Go to this URL in a browser: https://accounts.google.com/o/oauth2/auth?client_id=947318989803-6bn6qk8qdgf4n4g3pfee6491hc0brc4i.apps.googleusercontent.com&redirect_uri=urn%3Aietf%3Awg%3Aoauth%3A2.0%3Aoob&scope=email%20https%3A%2F%2Fwww.googleapis.com%2Fauth%2Fdocs.test%20https%3A%2F%2Fwww.googleapis.com%2Fauth%2Fdrive%20https%3A%2F%2Fwww.googleapis.com%2Fauth%2Fdrive.photos.readonly%20https%3A%2F%2Fwww.googleapis.com%2Fauth%2Fpeopleapi.readonly&response_type=code\n",
            "\n",
            "Enter your authorization code:\n",
            "··········\n",
            "Mounted at /content/drive\n"
          ],
          "name": "stdout"
        }
      ]
    },
    {
      "metadata": {
        "id": "xYAJJCj27VAF",
        "colab_type": "code",
        "colab": {}
      },
      "cell_type": "code",
      "source": [
        "!cp \"/content/drive/My Drive/database.sqlite\" \"database.sqlite\""
      ],
      "execution_count": 0,
      "outputs": []
    },
    {
      "metadata": {
        "id": "AqijH0147aec",
        "colab_type": "text"
      },
      "cell_type": "markdown",
      "source": [
        "# 1.  Reading Data"
      ]
    },
    {
      "metadata": {
        "id": "QZb6Rwbt7c79",
        "colab_type": "code",
        "colab": {}
      },
      "cell_type": "code",
      "source": [
        "con=sqlite3.connect(\"database.sqlite\")"
      ],
      "execution_count": 0,
      "outputs": []
    },
    {
      "metadata": {
        "id": "NYmi3E9a7qSt",
        "colab_type": "code",
        "outputId": "9e859c93-35c9-431f-8289-258f6d379e12",
        "colab": {
          "base_uri": "https://localhost:8080/",
          "height": 323
        }
      },
      "cell_type": "code",
      "source": [
        "filtered_data=pd.read_sql_query(\"SELECT * FROM `Reviews` WHERE `Score` !=3\",con)\n",
        "filtered_data.shape\n",
        "filtered_data.head()"
      ],
      "execution_count": 7,
      "outputs": [
        {
          "output_type": "execute_result",
          "data": {
            "text/html": [
              "<div>\n",
              "<style scoped>\n",
              "    .dataframe tbody tr th:only-of-type {\n",
              "        vertical-align: middle;\n",
              "    }\n",
              "\n",
              "    .dataframe tbody tr th {\n",
              "        vertical-align: top;\n",
              "    }\n",
              "\n",
              "    .dataframe thead th {\n",
              "        text-align: right;\n",
              "    }\n",
              "</style>\n",
              "<table border=\"1\" class=\"dataframe\">\n",
              "  <thead>\n",
              "    <tr style=\"text-align: right;\">\n",
              "      <th></th>\n",
              "      <th>Id</th>\n",
              "      <th>ProductId</th>\n",
              "      <th>UserId</th>\n",
              "      <th>ProfileName</th>\n",
              "      <th>HelpfulnessNumerator</th>\n",
              "      <th>HelpfulnessDenominator</th>\n",
              "      <th>Score</th>\n",
              "      <th>Time</th>\n",
              "      <th>Summary</th>\n",
              "      <th>Text</th>\n",
              "    </tr>\n",
              "  </thead>\n",
              "  <tbody>\n",
              "    <tr>\n",
              "      <th>0</th>\n",
              "      <td>1</td>\n",
              "      <td>B001E4KFG0</td>\n",
              "      <td>A3SGXH7AUHU8GW</td>\n",
              "      <td>delmartian</td>\n",
              "      <td>1</td>\n",
              "      <td>1</td>\n",
              "      <td>5</td>\n",
              "      <td>1303862400</td>\n",
              "      <td>Good Quality Dog Food</td>\n",
              "      <td>I have bought several of the Vitality canned d...</td>\n",
              "    </tr>\n",
              "    <tr>\n",
              "      <th>1</th>\n",
              "      <td>2</td>\n",
              "      <td>B00813GRG4</td>\n",
              "      <td>A1D87F6ZCVE5NK</td>\n",
              "      <td>dll pa</td>\n",
              "      <td>0</td>\n",
              "      <td>0</td>\n",
              "      <td>1</td>\n",
              "      <td>1346976000</td>\n",
              "      <td>Not as Advertised</td>\n",
              "      <td>Product arrived labeled as Jumbo Salted Peanut...</td>\n",
              "    </tr>\n",
              "    <tr>\n",
              "      <th>2</th>\n",
              "      <td>3</td>\n",
              "      <td>B000LQOCH0</td>\n",
              "      <td>ABXLMWJIXXAIN</td>\n",
              "      <td>Natalia Corres \"Natalia Corres\"</td>\n",
              "      <td>1</td>\n",
              "      <td>1</td>\n",
              "      <td>4</td>\n",
              "      <td>1219017600</td>\n",
              "      <td>\"Delight\" says it all</td>\n",
              "      <td>This is a confection that has been around a fe...</td>\n",
              "    </tr>\n",
              "    <tr>\n",
              "      <th>3</th>\n",
              "      <td>4</td>\n",
              "      <td>B000UA0QIQ</td>\n",
              "      <td>A395BORC6FGVXV</td>\n",
              "      <td>Karl</td>\n",
              "      <td>3</td>\n",
              "      <td>3</td>\n",
              "      <td>2</td>\n",
              "      <td>1307923200</td>\n",
              "      <td>Cough Medicine</td>\n",
              "      <td>If you are looking for the secret ingredient i...</td>\n",
              "    </tr>\n",
              "    <tr>\n",
              "      <th>4</th>\n",
              "      <td>5</td>\n",
              "      <td>B006K2ZZ7K</td>\n",
              "      <td>A1UQRSCLF8GW1T</td>\n",
              "      <td>Michael D. Bigham \"M. Wassir\"</td>\n",
              "      <td>0</td>\n",
              "      <td>0</td>\n",
              "      <td>5</td>\n",
              "      <td>1350777600</td>\n",
              "      <td>Great taffy</td>\n",
              "      <td>Great taffy at a great price.  There was a wid...</td>\n",
              "    </tr>\n",
              "  </tbody>\n",
              "</table>\n",
              "</div>"
            ],
            "text/plain": [
              "   Id   ProductId          UserId                      ProfileName  \\\n",
              "0   1  B001E4KFG0  A3SGXH7AUHU8GW                       delmartian   \n",
              "1   2  B00813GRG4  A1D87F6ZCVE5NK                           dll pa   \n",
              "2   3  B000LQOCH0   ABXLMWJIXXAIN  Natalia Corres \"Natalia Corres\"   \n",
              "3   4  B000UA0QIQ  A395BORC6FGVXV                             Karl   \n",
              "4   5  B006K2ZZ7K  A1UQRSCLF8GW1T    Michael D. Bigham \"M. Wassir\"   \n",
              "\n",
              "   HelpfulnessNumerator  HelpfulnessDenominator  Score        Time  \\\n",
              "0                     1                       1      5  1303862400   \n",
              "1                     0                       0      1  1346976000   \n",
              "2                     1                       1      4  1219017600   \n",
              "3                     3                       3      2  1307923200   \n",
              "4                     0                       0      5  1350777600   \n",
              "\n",
              "                 Summary                                               Text  \n",
              "0  Good Quality Dog Food  I have bought several of the Vitality canned d...  \n",
              "1      Not as Advertised  Product arrived labeled as Jumbo Salted Peanut...  \n",
              "2  \"Delight\" says it all  This is a confection that has been around a fe...  \n",
              "3         Cough Medicine  If you are looking for the secret ingredient i...  \n",
              "4            Great taffy  Great taffy at a great price.  There was a wid...  "
            ]
          },
          "metadata": {
            "tags": []
          },
          "execution_count": 7
        }
      ]
    },
    {
      "metadata": {
        "id": "nF6_LIHP8GPx",
        "colab_type": "code",
        "colab": {}
      },
      "cell_type": "code",
      "source": [
        "# Give reviews with Score>3 a positive rating(1), and reviews with a score<3 a negative rating(0).\n",
        "def partition(x):\n",
        "    if x < 3:\n",
        "        return 0\n",
        "    return 1"
      ],
      "execution_count": 0,
      "outputs": []
    },
    {
      "metadata": {
        "id": "IUGCATdD8jcq",
        "colab_type": "code",
        "outputId": "6c74e7d7-0ef7-4b59-96c8-7c56d2191152",
        "colab": {
          "base_uri": "https://localhost:8080/",
          "height": 323
        }
      },
      "cell_type": "code",
      "source": [
        "actual_score=filtered_data['Score']\n",
        "posnegative=actual_score.map(partition)\n",
        "filtered_data['Score']=posnegative\n",
        "filtered_data.head(5)"
      ],
      "execution_count": 9,
      "outputs": [
        {
          "output_type": "execute_result",
          "data": {
            "text/html": [
              "<div>\n",
              "<style scoped>\n",
              "    .dataframe tbody tr th:only-of-type {\n",
              "        vertical-align: middle;\n",
              "    }\n",
              "\n",
              "    .dataframe tbody tr th {\n",
              "        vertical-align: top;\n",
              "    }\n",
              "\n",
              "    .dataframe thead th {\n",
              "        text-align: right;\n",
              "    }\n",
              "</style>\n",
              "<table border=\"1\" class=\"dataframe\">\n",
              "  <thead>\n",
              "    <tr style=\"text-align: right;\">\n",
              "      <th></th>\n",
              "      <th>Id</th>\n",
              "      <th>ProductId</th>\n",
              "      <th>UserId</th>\n",
              "      <th>ProfileName</th>\n",
              "      <th>HelpfulnessNumerator</th>\n",
              "      <th>HelpfulnessDenominator</th>\n",
              "      <th>Score</th>\n",
              "      <th>Time</th>\n",
              "      <th>Summary</th>\n",
              "      <th>Text</th>\n",
              "    </tr>\n",
              "  </thead>\n",
              "  <tbody>\n",
              "    <tr>\n",
              "      <th>0</th>\n",
              "      <td>1</td>\n",
              "      <td>B001E4KFG0</td>\n",
              "      <td>A3SGXH7AUHU8GW</td>\n",
              "      <td>delmartian</td>\n",
              "      <td>1</td>\n",
              "      <td>1</td>\n",
              "      <td>1</td>\n",
              "      <td>1303862400</td>\n",
              "      <td>Good Quality Dog Food</td>\n",
              "      <td>I have bought several of the Vitality canned d...</td>\n",
              "    </tr>\n",
              "    <tr>\n",
              "      <th>1</th>\n",
              "      <td>2</td>\n",
              "      <td>B00813GRG4</td>\n",
              "      <td>A1D87F6ZCVE5NK</td>\n",
              "      <td>dll pa</td>\n",
              "      <td>0</td>\n",
              "      <td>0</td>\n",
              "      <td>0</td>\n",
              "      <td>1346976000</td>\n",
              "      <td>Not as Advertised</td>\n",
              "      <td>Product arrived labeled as Jumbo Salted Peanut...</td>\n",
              "    </tr>\n",
              "    <tr>\n",
              "      <th>2</th>\n",
              "      <td>3</td>\n",
              "      <td>B000LQOCH0</td>\n",
              "      <td>ABXLMWJIXXAIN</td>\n",
              "      <td>Natalia Corres \"Natalia Corres\"</td>\n",
              "      <td>1</td>\n",
              "      <td>1</td>\n",
              "      <td>1</td>\n",
              "      <td>1219017600</td>\n",
              "      <td>\"Delight\" says it all</td>\n",
              "      <td>This is a confection that has been around a fe...</td>\n",
              "    </tr>\n",
              "    <tr>\n",
              "      <th>3</th>\n",
              "      <td>4</td>\n",
              "      <td>B000UA0QIQ</td>\n",
              "      <td>A395BORC6FGVXV</td>\n",
              "      <td>Karl</td>\n",
              "      <td>3</td>\n",
              "      <td>3</td>\n",
              "      <td>0</td>\n",
              "      <td>1307923200</td>\n",
              "      <td>Cough Medicine</td>\n",
              "      <td>If you are looking for the secret ingredient i...</td>\n",
              "    </tr>\n",
              "    <tr>\n",
              "      <th>4</th>\n",
              "      <td>5</td>\n",
              "      <td>B006K2ZZ7K</td>\n",
              "      <td>A1UQRSCLF8GW1T</td>\n",
              "      <td>Michael D. Bigham \"M. Wassir\"</td>\n",
              "      <td>0</td>\n",
              "      <td>0</td>\n",
              "      <td>1</td>\n",
              "      <td>1350777600</td>\n",
              "      <td>Great taffy</td>\n",
              "      <td>Great taffy at a great price.  There was a wid...</td>\n",
              "    </tr>\n",
              "  </tbody>\n",
              "</table>\n",
              "</div>"
            ],
            "text/plain": [
              "   Id   ProductId          UserId                      ProfileName  \\\n",
              "0   1  B001E4KFG0  A3SGXH7AUHU8GW                       delmartian   \n",
              "1   2  B00813GRG4  A1D87F6ZCVE5NK                           dll pa   \n",
              "2   3  B000LQOCH0   ABXLMWJIXXAIN  Natalia Corres \"Natalia Corres\"   \n",
              "3   4  B000UA0QIQ  A395BORC6FGVXV                             Karl   \n",
              "4   5  B006K2ZZ7K  A1UQRSCLF8GW1T    Michael D. Bigham \"M. Wassir\"   \n",
              "\n",
              "   HelpfulnessNumerator  HelpfulnessDenominator  Score        Time  \\\n",
              "0                     1                       1      1  1303862400   \n",
              "1                     0                       0      0  1346976000   \n",
              "2                     1                       1      1  1219017600   \n",
              "3                     3                       3      0  1307923200   \n",
              "4                     0                       0      1  1350777600   \n",
              "\n",
              "                 Summary                                               Text  \n",
              "0  Good Quality Dog Food  I have bought several of the Vitality canned d...  \n",
              "1      Not as Advertised  Product arrived labeled as Jumbo Salted Peanut...  \n",
              "2  \"Delight\" says it all  This is a confection that has been around a fe...  \n",
              "3         Cough Medicine  If you are looking for the secret ingredient i...  \n",
              "4            Great taffy  Great taffy at a great price.  There was a wid...  "
            ]
          },
          "metadata": {
            "tags": []
          },
          "execution_count": 9
        }
      ]
    },
    {
      "metadata": {
        "id": "vUee7bbQ-TGL",
        "colab_type": "text"
      },
      "cell_type": "markdown",
      "source": [
        "# 2. Exploratory Data Analysis"
      ]
    },
    {
      "metadata": {
        "id": "6m2tmiK0-AMY",
        "colab_type": "text"
      },
      "cell_type": "markdown",
      "source": [
        "# 2.1 Data Cleaning: Deduplication"
      ]
    },
    {
      "metadata": {
        "id": "yLBMgOK0976y",
        "colab_type": "text"
      },
      "cell_type": "markdown",
      "source": [
        "It is observed (as shown in the table below) that the reviews data had many duplicate entries. Hence it was necessary to remove duplicates in order to get unbiased results for the analysis of the data. "
      ]
    },
    {
      "metadata": {
        "id": "8rU4LdaL9X6v",
        "colab_type": "code",
        "outputId": "2c55ff53-ec5e-49b9-caeb-e5eb1b384bfe",
        "colab": {
          "base_uri": "https://localhost:8080/",
          "height": 34
        }
      },
      "cell_type": "code",
      "source": [
        "#Sorting data according to ProductId in ascending order\n",
        "sorted_data=filtered_data.sort_values('ProductId',axis=0,ascending=True)\n",
        "sorted_data.shape"
      ],
      "execution_count": 10,
      "outputs": [
        {
          "output_type": "execute_result",
          "data": {
            "text/plain": [
              "(525814, 10)"
            ]
          },
          "metadata": {
            "tags": []
          },
          "execution_count": 10
        }
      ]
    },
    {
      "metadata": {
        "id": "fPlQ-0jCArcI",
        "colab_type": "code",
        "outputId": "b236cb99-377c-4138-88d3-a49bfcbcdf75",
        "colab": {
          "base_uri": "https://localhost:8080/",
          "height": 34
        }
      },
      "cell_type": "code",
      "source": [
        "#Deduplication of entries\n",
        "final=sorted_data.drop_duplicates(subset={'UserId','ProfileName','Time','Text'},keep='first',inplace=False)\n",
        "final.shape"
      ],
      "execution_count": 11,
      "outputs": [
        {
          "output_type": "execute_result",
          "data": {
            "text/plain": [
              "(364173, 10)"
            ]
          },
          "metadata": {
            "tags": []
          },
          "execution_count": 11
        }
      ]
    },
    {
      "metadata": {
        "id": "oAG_O4HKBvh0",
        "colab_type": "text"
      },
      "cell_type": "markdown",
      "source": [
        "**Observation**:- It was also seen that in two rows given below the value of HelpfulnessNumerator is greater than HelpfulnessDenominator which is not practically possible hence these two rows too are removed from calcualtions"
      ]
    },
    {
      "metadata": {
        "id": "pnD92ZxoBx4U",
        "colab_type": "code",
        "outputId": "1356c2ce-6ad6-4cc2-d393-78509dc5aebf",
        "colab": {
          "base_uri": "https://localhost:8080/",
          "height": 34
        }
      },
      "cell_type": "code",
      "source": [
        "final=final[final.HelpfulnessNumerator<=final.HelpfulnessDenominator]\n",
        "final.shape"
      ],
      "execution_count": 12,
      "outputs": [
        {
          "output_type": "execute_result",
          "data": {
            "text/plain": [
              "(364171, 10)"
            ]
          },
          "metadata": {
            "tags": []
          },
          "execution_count": 12
        }
      ]
    },
    {
      "metadata": {
        "id": "ONBlCHisCI3J",
        "colab_type": "code",
        "outputId": "ab60ffb7-62ac-4ea1-9d7b-7dd3048ebf2c",
        "colab": {
          "base_uri": "https://localhost:8080/",
          "height": 68
        }
      },
      "cell_type": "code",
      "source": [
        "final['Score'].value_counts()"
      ],
      "execution_count": 13,
      "outputs": [
        {
          "output_type": "execute_result",
          "data": {
            "text/plain": [
              "1    307061\n",
              "0     57110\n",
              "Name: Score, dtype: int64"
            ]
          },
          "metadata": {
            "tags": []
          },
          "execution_count": 13
        }
      ]
    },
    {
      "metadata": {
        "id": "h5zSITzlCUtD",
        "colab_type": "text"
      },
      "cell_type": "markdown",
      "source": [
        "#3.  Preprocessing"
      ]
    },
    {
      "metadata": {
        "id": "fIHmBhU3D3QU",
        "colab_type": "text"
      },
      "cell_type": "markdown",
      "source": [
        "In the Preprocessing phase we do the following in the order below:-\n",
        "\n",
        "1.Begin by removing the linksand html tags\n",
        "\n",
        "2.Expand English language contractions and Remove any punctuations or limited set of special characters like , or . or # etc.\n",
        "\n",
        "3.Check if the word is made up of english letters and is not alpha-numeric\n",
        "\n",
        "4.Check to see if the length of the word is greater than 2 (as it was researched that there is no adjective in 2-letters)\n",
        "\n",
        "5.Convert the word to lowercase\n",
        "\n",
        "6.Remove Stopwords\n",
        "\n",
        "7.Finally Snowball Stemming the word (it was obsereved to be better than Porter Stemming)"
      ]
    },
    {
      "metadata": {
        "id": "N1HTrtrMCSpI",
        "colab_type": "code",
        "outputId": "e0384285-ccf8-482e-c9df-b64c5e9ecc08",
        "colab": {
          "base_uri": "https://localhost:8080/",
          "height": 425
        }
      },
      "cell_type": "code",
      "source": [
        "#print(link)\n",
        "for i in range(0,1000):\n",
        "  links=re.findall(r'http\\S+',final['Text'].values[i])\n",
        "  for link in links:\n",
        "    print(link)"
      ],
      "execution_count": 14,
      "outputs": [
        {
          "output_type": "stream",
          "text": [
            "http://www.amazon.com/gp/product/B0002DGRSY\">Pro-Treat\n",
            "http://www.amazon.com/gp/product/B0019O5Z0Q\">Charlee\n",
            "http://www.amazon.com/VICTOR-FLY-MAGNET-BAIT-REFILL/dp/B00004RBDY<br\n",
            "http://www.amazon.com/gp/product/B0088EDMMS\">Hocus\n",
            "http://www.amazon.com/gp/product/B001AGXEAG\">Beetlejuice\n",
            "http://www.amazon.com/gp/product/B001AGXEAG\">here</a>.\n",
            "http://www.amazon.com/gp/product/B001AGXEA6\">here</a>.\n",
            "http://www.amazon.com/gp/product/0790700506\">Gremlins</a><br\n",
            "http://www.amazon.com/gp/product/6301871952\">Gremlins\n",
            "http://www.amazon.com/gp/product/6303347657\">Mask</a><br\n",
            "http://www.amazon.com/gp/product/6304826141\">Rocketman</a><br\n",
            "http://www.amazon.com/gp/product/B001B504LI\">The\n",
            "http://www.amazon.com/gp/product/B001AGXEA6\">Beetlejuice\n",
            "http://www.amazon.com/gp/product/B00004RAMX\">Victor\n",
            "http://www.amazon.com/gp/product/B00004RAMY\">Victor\n",
            "http://www.amazon.com/gp/product/B00004RAMY\">Victor\n",
            "http://www.amazon.com/gp/product/B001VJ3FP6\">SentryHOME\n",
            "http://www.amazon.com/gp/product/B0051GCTAW\">Fiproguard\n",
            "http://www.amazon.com/gp/product/B000668Z96\">Victor\n",
            "http://www.amazon.com/gp/product/B000668Z96\">Victor\n",
            "http://www.amazon.com/gp/product/B000BQRQ8C\">Rescue\n",
            "http://www.amazon.com/gp/product/B00004RBDZ\">Victor\n",
            "http://www.amazon.com/gp/product/B00005344V\">Traditional\n",
            "http://www.amazon.com/gp/product/B00005C2M2\">Astronaut\n"
          ],
          "name": "stdout"
        }
      ]
    },
    {
      "metadata": {
        "id": "2RaSGNVHEwIC",
        "colab_type": "code",
        "colab": {}
      },
      "cell_type": "code",
      "source": [
        "for i in range(0,364171):\n",
        "  final['Text'].values[i] = re.sub(r\"http\\S+\", \"\", final['Text'].values[i])"
      ],
      "execution_count": 0,
      "outputs": []
    },
    {
      "metadata": {
        "id": "yMjsY1ZjE8SM",
        "colab_type": "code",
        "colab": {}
      },
      "cell_type": "code",
      "source": [
        "#Remove HTML tags\n",
        "from bs4 import BeautifulSoup\n",
        "for i in range(1,364171):\n",
        "  soup = BeautifulSoup(final['Text'].values[i],'lxml')\n",
        "  text = soup.get_text()\n",
        "  final['Text'].values[i]=text"
      ],
      "execution_count": 0,
      "outputs": []
    },
    {
      "metadata": {
        "id": "7Zitqp4IFHN5",
        "colab_type": "code",
        "colab": {}
      },
      "cell_type": "code",
      "source": [
        "#Expanding English language contractions\n",
        "def decontracted(phrase):\n",
        "  # specific\n",
        "  phrase = re.sub(r\"won\\'t\", \"will not\", phrase)\n",
        "  phrase = re.sub(r\"can\\'t\", \"can not\", phrase)\n",
        "\n",
        "  # general\n",
        "  phrase = re.sub(r\"n\\'t\", \" not\", phrase)\n",
        "  phrase = re.sub(r\"\\'re\", \" are\", phrase)\n",
        "  phrase = re.sub(r\"\\'s\", \" is\", phrase)\n",
        "  phrase = re.sub(r\"\\'d\", \" would\", phrase)\n",
        "  phrase = re.sub(r\"\\'ll\", \" will\", phrase)\n",
        "  phrase = re.sub(r\"\\'t\", \" not\", phrase)\n",
        "  phrase = re.sub(r\"\\'ve\", \" have\", phrase)\n",
        "  phrase = re.sub(r\"\\'m\", \" am\", phrase)\n",
        "  return phrase\n"
      ],
      "execution_count": 0,
      "outputs": []
    },
    {
      "metadata": {
        "id": "5jjyyQmSFKri",
        "colab_type": "code",
        "colab": {}
      },
      "cell_type": "code",
      "source": [
        "for i in range(0,364171):\n",
        "  #print(final['Text'].values[i])\n",
        "  final['Text'].values[i]=decontracted(final['Text'].values[i])\n",
        "  #print(final['Text'].values[i])"
      ],
      "execution_count": 0,
      "outputs": []
    },
    {
      "metadata": {
        "id": "xQ8yL0QbFNY_",
        "colab_type": "code",
        "colab": {}
      },
      "cell_type": "code",
      "source": [
        "#remove words with numbers python\n",
        "for i in range(1,364171):\n",
        "  #print(final['Text'].values[i])\n",
        "  final['Text'].values[i] = re.sub(\"\\S*\\d\\S*\", \"\", final['Text'].values[i]).strip()\n",
        "  #print(final['Text'].values[i])"
      ],
      "execution_count": 0,
      "outputs": []
    },
    {
      "metadata": {
        "id": "Pf5pzDzLFQIC",
        "colab_type": "code",
        "colab": {}
      },
      "cell_type": "code",
      "source": [
        "#remove spacial character:\n",
        "for i in range(1,364171):\n",
        "  final['Text'].values[i]= re.sub('[^A-Za-z0-9]+', ' ', final['Text'].values[i])\n"
      ],
      "execution_count": 0,
      "outputs": []
    },
    {
      "metadata": {
        "id": "frDNG0dWFTkH",
        "colab_type": "code",
        "colab": {}
      },
      "cell_type": "code",
      "source": [
        "#Remove punctution\n",
        "for i in range(1,364171):\n",
        "  final['Text'].values[i]= re.sub(r'[!|#|$\\%|&|*|?|,|.|\\'|/|\"|)|(]',r'', final['Text'].values[i])"
      ],
      "execution_count": 0,
      "outputs": []
    },
    {
      "metadata": {
        "id": "oMqcj3VIFxSQ",
        "colab_type": "code",
        "colab": {}
      },
      "cell_type": "code",
      "source": [
        "# https://gist.github.com/sebleier/554280\n",
        "# we are removing the words from the stop words list: 'no', 'nor', 'not'\n",
        "# <br /><br /> ==> after the above steps, we are getting \"br br\"\n",
        "# we are including them into stop words list\n",
        "# instead of <br /> if we have <br/> these tags would have revmoved in the 1st step\n",
        "\n",
        "stopwords= set(['br', 'the', 'i', 'me', 'my', 'myself', 'we', 'our', 'ours', 'ourselves', 'you', \"you're\", \"you've\",\\\n",
        "            \"you'll\", \"you'd\", 'your', 'yours', 'yourself', 'yourselves', 'he', 'him', 'his', 'himself', \\\n",
        "            'she', \"she's\", 'her', 'hers', 'herself', 'it', \"it's\", 'its', 'itself', 'they', 'them', 'their',\\\n",
        "            'theirs', 'themselves', 'what', 'which', 'who', 'whom', 'this', 'that', \"that'll\", 'these', 'those', \\\n",
        "            'am', 'is', 'are', 'was', 'were', 'be', 'been', 'being', 'have', 'has', 'had', 'having', 'do', 'does', \\\n",
        "            'did', 'doing', 'a', 'an', 'the', 'and', 'but', 'if', 'or', 'because', 'as', 'until', 'while', 'of', \\\n",
        "            'at', 'by', 'for', 'with', 'about', 'against', 'between', 'into', 'through', 'during', 'before', 'after',\\\n",
        "            'above', 'below', 'to', 'from', 'up', 'down', 'in', 'out', 'on', 'off', 'over', 'under', 'again', 'further',\\\n",
        "            'then', 'once', 'here', 'there', 'when', 'where', 'why', 'how', 'all', 'any', 'both', 'each', 'few', 'more',\\\n",
        "            'most', 'other', 'some', 'such', 'only', 'own', 'same', 'so', 'than', 'too', 'very', \\\n",
        "            's', 't', 'can', 'will', 'just', 'don', \"don't\", 'should', \"should've\", 'now', 'd', 'll', 'm', 'o', 're', \\\n",
        "            've', 'y', 'ain', 'aren', \"aren't\", 'couldn', \"couldn't\", 'didn', \"didn't\", 'doesn', \"doesn't\", 'hadn',\\\n",
        "            \"hadn't\", 'hasn', \"hasn't\", 'haven', \"haven't\", 'isn', \"isn't\", 'ma', 'mightn', \"mightn't\", 'mustn',\\\n",
        "            \"mustn't\", 'needn', \"needn't\", 'shan', \"shan't\", 'shouldn', \"shouldn't\", 'wasn', \"wasn't\", 'weren', \"weren't\", \\\n",
        "            'won', \"won't\", 'wouldn', \"wouldn't\"])"
      ],
      "execution_count": 0,
      "outputs": []
    },
    {
      "metadata": {
        "id": "Og1U8GWDF2Fs",
        "colab_type": "code",
        "outputId": "c1415194-0e52-49ce-a1eb-4adc26a43447",
        "colab": {
          "base_uri": "https://localhost:8080/",
          "height": 34
        }
      },
      "cell_type": "code",
      "source": [
        "#tqdm\n",
        "#Instantly make your loops show a smart progress meter\n",
        "# just wrap any iterable with tqdm(iterable), and you’re done!\n",
        "from tqdm import tqdm\n",
        "preprocessed_reviews = []\n",
        "for i in tqdm(range(0,364171)):\n",
        "  sentence=\"\"\n",
        "  #print(final['Text'].values[i])\n",
        "  for word in final['Text'].values[i].split():\n",
        "    #print(word)\n",
        "    word =word.lower()\n",
        "    if word not in stopwords:\n",
        "      sentence+=\" \"+word\n",
        "  #print(sentence)\n",
        "  preprocessed_reviews.append(sentence.strip())"
      ],
      "execution_count": 23,
      "outputs": [
        {
          "output_type": "stream",
          "text": [
            "100%|██████████| 364171/364171 [00:15<00:00, 23191.87it/s]\n"
          ],
          "name": "stderr"
        }
      ]
    },
    {
      "metadata": {
        "id": "kvFiGMpKF_Hl",
        "colab_type": "code",
        "outputId": "fadccb9a-a0b5-4c83-b9e7-69626a57a8fe",
        "colab": {
          "base_uri": "https://localhost:8080/",
          "height": 54
        }
      },
      "cell_type": "code",
      "source": [
        "preprocessed_reviews[364170]"
      ],
      "execution_count": 24,
      "outputs": [
        {
          "output_type": "execute_result",
          "data": {
            "text/plain": [
              "'purchased send son away college delivered right dorm room fast shipping loved much called thank sadly hardly ever calls anymore want kids call home good snack get midterms send'"
            ]
          },
          "metadata": {
            "tags": []
          },
          "execution_count": 24
        }
      ]
    },
    {
      "metadata": {
        "id": "xLXq6PvFGEw5",
        "colab_type": "code",
        "outputId": "975b8a8f-65ab-4207-fc4b-e87245c5dcc2",
        "colab": {
          "base_uri": "https://localhost:8080/",
          "height": 714
        }
      },
      "cell_type": "code",
      "source": [
        "final['Cleaned_text']=preprocessed_reviews\n",
        "final.head()"
      ],
      "execution_count": 25,
      "outputs": [
        {
          "output_type": "execute_result",
          "data": {
            "text/html": [
              "<div>\n",
              "<style scoped>\n",
              "    .dataframe tbody tr th:only-of-type {\n",
              "        vertical-align: middle;\n",
              "    }\n",
              "\n",
              "    .dataframe tbody tr th {\n",
              "        vertical-align: top;\n",
              "    }\n",
              "\n",
              "    .dataframe thead th {\n",
              "        text-align: right;\n",
              "    }\n",
              "</style>\n",
              "<table border=\"1\" class=\"dataframe\">\n",
              "  <thead>\n",
              "    <tr style=\"text-align: right;\">\n",
              "      <th></th>\n",
              "      <th>Id</th>\n",
              "      <th>ProductId</th>\n",
              "      <th>UserId</th>\n",
              "      <th>ProfileName</th>\n",
              "      <th>HelpfulnessNumerator</th>\n",
              "      <th>HelpfulnessDenominator</th>\n",
              "      <th>Score</th>\n",
              "      <th>Time</th>\n",
              "      <th>Summary</th>\n",
              "      <th>Text</th>\n",
              "      <th>Cleaned_text</th>\n",
              "    </tr>\n",
              "  </thead>\n",
              "  <tbody>\n",
              "    <tr>\n",
              "      <th>138706</th>\n",
              "      <td>150524</td>\n",
              "      <td>0006641040</td>\n",
              "      <td>ACITT7DI6IDDL</td>\n",
              "      <td>shari zychinski</td>\n",
              "      <td>0</td>\n",
              "      <td>0</td>\n",
              "      <td>1</td>\n",
              "      <td>939340800</td>\n",
              "      <td>EVERY book is educational</td>\n",
              "      <td>this witty little book makes my son laugh at l...</td>\n",
              "      <td>witty little book makes son laugh loud. recite...</td>\n",
              "    </tr>\n",
              "    <tr>\n",
              "      <th>138688</th>\n",
              "      <td>150506</td>\n",
              "      <td>0006641040</td>\n",
              "      <td>A2IW4PEEKO2R0U</td>\n",
              "      <td>Tracy</td>\n",
              "      <td>1</td>\n",
              "      <td>1</td>\n",
              "      <td>1</td>\n",
              "      <td>1194739200</td>\n",
              "      <td>Love the book, miss the hard cover version</td>\n",
              "      <td>I grew up reading these Sendak books and watch...</td>\n",
              "      <td>grew reading sendak books watching really rosi...</td>\n",
              "    </tr>\n",
              "    <tr>\n",
              "      <th>138689</th>\n",
              "      <td>150507</td>\n",
              "      <td>0006641040</td>\n",
              "      <td>A1S4A3IQ2MU7V4</td>\n",
              "      <td>sally sue \"sally sue\"</td>\n",
              "      <td>1</td>\n",
              "      <td>1</td>\n",
              "      <td>1</td>\n",
              "      <td>1191456000</td>\n",
              "      <td>chicken soup with rice months</td>\n",
              "      <td>This is a fun way for children to learn their ...</td>\n",
              "      <td>fun way children learn months year learn poems...</td>\n",
              "    </tr>\n",
              "    <tr>\n",
              "      <th>138690</th>\n",
              "      <td>150508</td>\n",
              "      <td>0006641040</td>\n",
              "      <td>AZGXZ2UUK6X</td>\n",
              "      <td>Catherine Hallberg \"(Kate)\"</td>\n",
              "      <td>1</td>\n",
              "      <td>1</td>\n",
              "      <td>1</td>\n",
              "      <td>1076025600</td>\n",
              "      <td>a good swingy rhythm for reading aloud</td>\n",
              "      <td>This is a great little book to read aloud it h...</td>\n",
              "      <td>great little book read aloud nice rhythm well ...</td>\n",
              "    </tr>\n",
              "    <tr>\n",
              "      <th>138691</th>\n",
              "      <td>150509</td>\n",
              "      <td>0006641040</td>\n",
              "      <td>A3CMRKGE0P909G</td>\n",
              "      <td>Teresa</td>\n",
              "      <td>3</td>\n",
              "      <td>4</td>\n",
              "      <td>1</td>\n",
              "      <td>1018396800</td>\n",
              "      <td>A great way to learn the months</td>\n",
              "      <td>This is a book of poetry about the months of t...</td>\n",
              "      <td>book poetry months year goes month cute little...</td>\n",
              "    </tr>\n",
              "  </tbody>\n",
              "</table>\n",
              "</div>"
            ],
            "text/plain": [
              "            Id   ProductId          UserId                  ProfileName  \\\n",
              "138706  150524  0006641040   ACITT7DI6IDDL              shari zychinski   \n",
              "138688  150506  0006641040  A2IW4PEEKO2R0U                        Tracy   \n",
              "138689  150507  0006641040  A1S4A3IQ2MU7V4        sally sue \"sally sue\"   \n",
              "138690  150508  0006641040     AZGXZ2UUK6X  Catherine Hallberg \"(Kate)\"   \n",
              "138691  150509  0006641040  A3CMRKGE0P909G                       Teresa   \n",
              "\n",
              "        HelpfulnessNumerator  HelpfulnessDenominator  Score        Time  \\\n",
              "138706                     0                       0      1   939340800   \n",
              "138688                     1                       1      1  1194739200   \n",
              "138689                     1                       1      1  1191456000   \n",
              "138690                     1                       1      1  1076025600   \n",
              "138691                     3                       4      1  1018396800   \n",
              "\n",
              "                                           Summary  \\\n",
              "138706                   EVERY book is educational   \n",
              "138688  Love the book, miss the hard cover version   \n",
              "138689               chicken soup with rice months   \n",
              "138690      a good swingy rhythm for reading aloud   \n",
              "138691             A great way to learn the months   \n",
              "\n",
              "                                                     Text  \\\n",
              "138706  this witty little book makes my son laugh at l...   \n",
              "138688  I grew up reading these Sendak books and watch...   \n",
              "138689  This is a fun way for children to learn their ...   \n",
              "138690  This is a great little book to read aloud it h...   \n",
              "138691  This is a book of poetry about the months of t...   \n",
              "\n",
              "                                             Cleaned_text  \n",
              "138706  witty little book makes son laugh loud. recite...  \n",
              "138688  grew reading sendak books watching really rosi...  \n",
              "138689  fun way children learn months year learn poems...  \n",
              "138690  great little book read aloud nice rhythm well ...  \n",
              "138691  book poetry months year goes month cute little...  "
            ]
          },
          "metadata": {
            "tags": []
          },
          "execution_count": 25
        }
      ]
    },
    {
      "metadata": {
        "id": "OPfQces-LF5o",
        "colab_type": "code",
        "colab": {}
      },
      "cell_type": "code",
      "source": [
        "#Randomly sample Data 60k points\n",
        "random_sample_data = final.sample(n=100000) "
      ],
      "execution_count": 0,
      "outputs": []
    },
    {
      "metadata": {
        "id": "dL7XwFfPI5PU",
        "colab_type": "code",
        "colab": {}
      },
      "cell_type": "code",
      "source": [
        "final_sorted_time=random_sample_data.sort_values('Time',ascending=True,axis=0)"
      ],
      "execution_count": 0,
      "outputs": []
    },
    {
      "metadata": {
        "id": "IxEeCj7OKHM7",
        "colab_type": "text"
      },
      "cell_type": "markdown",
      "source": [
        "**Data Splitting**"
      ]
    },
    {
      "metadata": {
        "id": "fbGY8LxkPd-i",
        "colab_type": "code",
        "colab": {}
      },
      "cell_type": "code",
      "source": [
        "y_Train=final_sorted_time['Score'][0:70000]\n",
        "y_train=final_sorted_time['Score'][0:49000]\n",
        "y_cv=final_sorted_time['Score'][49000:70000]\n",
        "y_test=final_sorted_time['Score'][70000:100000]"
      ],
      "execution_count": 0,
      "outputs": []
    },
    {
      "metadata": {
        "id": "9qTerlQ4KKbQ",
        "colab_type": "code",
        "colab": {}
      },
      "cell_type": "code",
      "source": [
        "Train_data=final_sorted_time['Cleaned_text'][0:70000]\n",
        "train_data=final_sorted_time['Cleaned_text'][0:49000]\n",
        "cv_data=final_sorted_time['Cleaned_text'][49000:70000]\n",
        "test_data=final_sorted_time['Cleaned_text'][70000:100000]"
      ],
      "execution_count": 0,
      "outputs": []
    },
    {
      "metadata": {
        "id": "dJ82jJjWLn5B",
        "colab_type": "text"
      },
      "cell_type": "markdown",
      "source": [
        "# 4. Bag of Words"
      ]
    },
    {
      "metadata": {
        "id": "s3DqlGkmERtb",
        "colab_type": "code",
        "colab": {}
      },
      "cell_type": "code",
      "source": [
        "from sklearn.naive_bayes import MultinomialNB"
      ],
      "execution_count": 0,
      "outputs": []
    },
    {
      "metadata": {
        "id": "7SwYBZIJLxO-",
        "colab_type": "code",
        "colab": {}
      },
      "cell_type": "code",
      "source": [
        "count_vector=CountVectorizer()\n",
        "train_bows=count_vector.fit_transform(train_data)\n",
        "cv_bows=count_vector.transform(cv_data)"
      ],
      "execution_count": 0,
      "outputs": []
    },
    {
      "metadata": {
        "id": "sYoU79dnandR",
        "colab_type": "code",
        "colab": {}
      },
      "cell_type": "code",
      "source": [
        "from sklearn.metrics import roc_curve, auc"
      ],
      "execution_count": 0,
      "outputs": []
    },
    {
      "metadata": {
        "id": "LERMUQ5aCzcN",
        "colab_type": "code",
        "colab": {}
      },
      "cell_type": "code",
      "source": [
        "import math"
      ],
      "execution_count": 0,
      "outputs": []
    },
    {
      "metadata": {
        "id": "YP11zAGWaLF3",
        "colab_type": "code",
        "colab": {}
      },
      "cell_type": "code",
      "source": [
        "#Simple CrossValidation\n",
        "AUC_training=[]\n",
        "AUC_cv=[]\n",
        "ALPHA=[]\n",
        "alpha=0.00001\n",
        "while(alpha<1000000):\n",
        "  ALPHA.append(math.ceil(math.log(alpha,10)))\n",
        "  clf=MultinomialNB(alpha=alpha)\n",
        "  clf.fit(train_bows , y_train)\n",
        "  \n",
        "  #Training Curve\n",
        "  y_predict_training=clf.predict(train_bows)\n",
        "  fpr, tpr, thresholds = roc_curve(y_predict_training, y_train)\n",
        "  AUC_training.append(metrics.auc(fpr, tpr))\n",
        "  \n",
        "  #CV Curve\n",
        "  y_predict_cv=clf.predict(cv_bows)\n",
        "  fpr, tpr, thresholds = roc_curve(y_predict_cv, y_cv)\n",
        "  AUC_cv.append(metrics.auc(fpr, tpr))\n",
        "  alpha*=10"
      ],
      "execution_count": 0,
      "outputs": []
    },
    {
      "metadata": {
        "id": "ITnlgLsvBjOm",
        "colab_type": "code",
        "colab": {
          "base_uri": "https://localhost:8080/",
          "height": 294
        },
        "outputId": "8a3ef4f7-cfa1-4142-ddcc-d9dea270abcf"
      },
      "cell_type": "code",
      "source": [
        "plt.plot(ALPHA[0:9],AUC_training[0:9],label='Training')\n",
        "plt.plot(ALPHA[0:9],AUC_cv[0:9],label=\"CV\")\n",
        "plt.ylabel('AUC')\n",
        "plt.xlabel('Alpha')\n",
        "plt.title('ALpha vs AUC ')\n",
        "plt.legend()\n",
        "plt.show()"
      ],
      "execution_count": 53,
      "outputs": [
        {
          "output_type": "display_data",
          "data": {
            "image/png": "[encoded data removed]",
            "text/plain": [
              "<matplotlib.figure.Figure at 0x7fe992b12400>"
            ]
          },
          "metadata": {
            "tags": []
          }
        }
      ]
    },
    {
      "metadata": {
        "id": "_y3I9EvieVx8",
        "colab_type": "text"
      },
      "cell_type": "markdown",
      "source": [
        "**Observation :** Optimal Alpha value is 1 having AUC=0.88"
      ]
    },
    {
      "metadata": {
        "id": "4su_LmxCQ15g",
        "colab_type": "code",
        "colab": {}
      },
      "cell_type": "code",
      "source": [
        "#For Optimal on test data\n",
        "count_vectorizer=CountVectorizer()\n",
        "Train_bows=count_vectorizer.fit_transform(Train_data)\n",
        "test_bows=count_vectorizer.transform(test_data)\n"
      ],
      "execution_count": 0,
      "outputs": []
    },
    {
      "metadata": {
        "id": "rOb7D9nBSn1A",
        "colab_type": "code",
        "outputId": "b4e4697f-0d4e-43e3-d1a0-0e79c190a531",
        "colab": {
          "base_uri": "https://localhost:8080/",
          "height": 515
        }
      },
      "cell_type": "code",
      "source": [
        "clf=MultinomialNB(alpha=1.0)\n",
        "clf.fit(Train_bows,y_Train)\n",
        "y_pred=clf.predict(test_bows)\n",
        " #Drawing ROC curve\n",
        "fpr, tpr, thresholds = roc_curve(y_pred, y_test)\n",
        "roc_auc = auc(fpr, tpr)\n",
        "print(' AUC = ',metrics.auc(fpr, tpr))\n",
        "plt.figure()\n",
        "plt.plot(fpr, tpr, color='darkorange', lw=1, label='ROC curve (area = %0.2f)' % roc_auc)\n",
        "plt.plot([0, 1], [0, 1], color='navy', lw=1, linestyle='--')\n",
        "plt.xlim([0.0, 1.0])\n",
        "plt.ylim([0.0, 1.05])\n",
        "plt.xlabel('False Positive Rate')\n",
        "plt.ylabel('True Positive Rate')\n",
        "plt.title('Receiver operating characteristic')\n",
        "plt.legend(loc=\"lower right\")\n",
        "plt.show()\n",
        "print(\"\\n\\n\")\n",
        "print(metrics.classification_report(y_test,y_pred))"
      ],
      "execution_count": 56,
      "outputs": [
        {
          "output_type": "stream",
          "text": [
            " AUC =  0.8418896168504832\n"
          ],
          "name": "stdout"
        },
        {
          "output_type": "display_data",
          "data": {
            "image/png": "[encoded data removed]",
            "text/plain": [
              "<matplotlib.figure.Figure at 0x7fe990147c18>"
            ]
          },
          "metadata": {
            "tags": []
          }
        },
        {
          "output_type": "stream",
          "text": [
            "\n",
            "\n",
            "\n",
            "              precision    recall  f1-score   support\n",
            "\n",
            "           0       0.76      0.63      0.69      5191\n",
            "           1       0.92      0.96      0.94     24809\n",
            "\n",
            "   micro avg       0.90      0.90      0.90     30000\n",
            "   macro avg       0.84      0.79      0.81     30000\n",
            "weighted avg       0.90      0.90      0.90     30000\n",
            "\n"
          ],
          "name": "stdout"
        }
      ]
    },
    {
      "metadata": {
        "id": "eBan0PoLAKje",
        "colab_type": "text"
      },
      "cell_type": "markdown",
      "source": [
        "**Top Feature for negative**"
      ]
    },
    {
      "metadata": {
        "id": "M-vt-9GQAIqD",
        "colab_type": "code",
        "colab": {}
      },
      "cell_type": "code",
      "source": [
        "import operator\n"
      ],
      "execution_count": 0,
      "outputs": []
    },
    {
      "metadata": {
        "id": "yL5foFiBN-ZJ",
        "colab_type": "code",
        "colab": {
          "base_uri": "https://localhost:8080/",
          "height": 34
        },
        "outputId": "d3b3bbf6-da34-4fc9-e0aa-8227fe6fe93a"
      },
      "cell_type": "code",
      "source": [
        "feature_names=count_vectorizer.get_feature_names()\n",
        "a=getattr(clf, 'feature_log_prob_')\n",
        "top =zip(a[0], feature_names)\n",
        "top=list(top)\n",
        "top.sort(key=lambda x: x[0])\n",
        "l=len(top)\n",
        "for i in range(1,20):\n",
        "  print(top[l-i][1],end=\"\\t\")\n",
        "   \n"
      ],
      "execution_count": 160,
      "outputs": [
        {
          "output_type": "stream",
          "text": [
            "not\tlike\tproduct\twould\ttaste\tone\tgood\tno\tcoffee\tflavor\ttea\tget\teven\tbuy\tamazon\tfood\tmuch\treally\tcould\t"
          ],
          "name": "stdout"
        }
      ]
    },
    {
      "metadata": {
        "id": "cH_NDrr9AScu",
        "colab_type": "text"
      },
      "cell_type": "markdown",
      "source": [
        "**Top Feature for positive**"
      ]
    },
    {
      "metadata": {
        "id": "G8SOOXKMaze8",
        "colab_type": "code",
        "colab": {
          "base_uri": "https://localhost:8080/",
          "height": 54
        },
        "outputId": "2a5b8094-015a-4910-83b2-9d2314731909"
      },
      "cell_type": "code",
      "source": [
        "feature_names=count_vectorizer.get_feature_names()\n",
        "a=getattr(clf, 'feature_log_prob_')\n",
        "top =zip(a[1], feature_names)\n",
        "top=list(top)\n",
        "top.sort(key=lambda x: x[0])\n",
        "l=len(top)\n",
        "for i in range(1,50):\n",
        "  print(top[l-i][1],end=\"\\t\")\n",
        "   \n"
      ],
      "execution_count": 161,
      "outputs": [
        {
          "output_type": "stream",
          "text": [
            "not\tlike\tgood\tgreat\tone\ttaste\ttea\tflavor\tproduct\tlove\tcoffee\twould\tget\tamazon\tno\treally\tuse\tfood\tbest\talso\tmuch\tfind\tlittle\ttime\tprice\tmake\twell\ttried\tbuy\teven\tbetter\tchocolate\ttry\teat\tsugar\tfound\tused\tfree\tfirst\tsweet\tdelicious\twater\tcould\tstore\tmade\tbag\tcup\tdrink\tday\t"
          ],
          "name": "stdout"
        }
      ]
    },
    {
      "metadata": {
        "id": "RAiWrY422Epn",
        "colab_type": "text"
      },
      "cell_type": "markdown",
      "source": [
        "# TFIDF"
      ]
    },
    {
      "metadata": {
        "id": "pdAgoIK31_Zn",
        "colab_type": "code",
        "colab": {}
      },
      "cell_type": "code",
      "source": [
        "tfidf_vector=TfidfVectorizer()\n",
        "train_tfidf=tfidf_vector.fit_transform(train_data)\n",
        "cv_tfidf=tfidf_vector.transform(cv_data)"
      ],
      "execution_count": 0,
      "outputs": []
    },
    {
      "metadata": {
        "id": "i8WfSGpL2maF",
        "colab_type": "code",
        "colab": {}
      },
      "cell_type": "code",
      "source": [
        "#Simple CrossValidation\n",
        "AUC_training=[]\n",
        "AUC_cv=[]\n",
        "ALPHA=[]\n",
        "alpha=0.00001\n",
        "while(alpha<1000000):\n",
        "  ALPHA.append(math.ceil(math.log(alpha,10)))\n",
        "  clf=MultinomialNB(alpha=alpha)\n",
        "  clf.fit(train_tfidf , y_train)\n",
        "  \n",
        "  #Training Curve\n",
        "  y_predict_training=clf.predict(train_tfidf)\n",
        "  fpr, tpr, thresholds = roc_curve(y_predict_training, y_train)\n",
        "  AUC_training.append(metrics.auc(fpr, tpr))\n",
        " \n",
        "  #CV Cuve\n",
        "  y_predict_cv=clf.predict(cv_tfidf)\n",
        "  fpr, tpr, thresholds = roc_curve(y_predict_cv, y_cv)\n",
        "  AUC_cv.append(metrics.auc(fpr, tpr))\n",
        "  alpha*=10"
      ],
      "execution_count": 0,
      "outputs": []
    },
    {
      "metadata": {
        "id": "wL4tLg44I7c2",
        "colab_type": "code",
        "colab": {
          "base_uri": "https://localhost:8080/",
          "height": 294
        },
        "outputId": "923a089a-c52f-4282-d06d-b72430eee36b"
      },
      "cell_type": "code",
      "source": [
        "plt.plot(ALPHA[0:9],AUC_training[0:9],label='Training')\n",
        "plt.plot(ALPHA[0:9],AUC_cv[0:9],label=\"CV\")\n",
        "plt.ylabel('AUC')\n",
        "plt.xlabel('Alpha')\n",
        "plt.title('ALpha vs AUC ')\n",
        "plt.legend()\n",
        "plt.show()"
      ],
      "execution_count": 153,
      "outputs": [
        {
          "output_type": "display_data",
          "data": {
            "image/png": "[encoded data removed]",
            "text/plain": [
              "<matplotlib.figure.Figure at 0x7fe98dab97b8>"
            ]
          },
          "metadata": {
            "tags": []
          }
        }
      ]
    },
    {
      "metadata": {
        "id": "hMKSs8z_290k",
        "colab_type": "text"
      },
      "cell_type": "markdown",
      "source": [
        "Observation : Optimal Alpha value is 1 having AUC=0.89"
      ]
    },
    {
      "metadata": {
        "id": "FCQgB6gZ28rk",
        "colab_type": "code",
        "colab": {}
      },
      "cell_type": "code",
      "source": [
        "#For Optimal on test data\n",
        "tfidf_vectorizer=CountVectorizer()\n",
        "Train_tfidf=tfidf_vectorizer.fit_transform(Train_data)\n",
        "test_tfidf=tfidf_vectorizer.transform(test_data)"
      ],
      "execution_count": 0,
      "outputs": []
    },
    {
      "metadata": {
        "id": "HTpabpNo3enP",
        "colab_type": "code",
        "outputId": "e0d1abe2-806f-4011-ccf5-4185030c8623",
        "colab": {
          "base_uri": "https://localhost:8080/",
          "height": 515
        }
      },
      "cell_type": "code",
      "source": [
        "clf=MultinomialNB(alpha=1.0)\n",
        "clf.fit(Train_tfidf,y_Train)\n",
        "y_pred=clf.predict(test_tfidf)\n",
        " #Drawing ROC curve\n",
        "fpr, tpr, thresholds = roc_curve(y_pred, y_test)\n",
        "roc_auc = auc(fpr, tpr)\n",
        "print(' AUC = ',metrics.auc(fpr, tpr))\n",
        "plt.figure()\n",
        "plt.plot(fpr, tpr, color='darkorange', lw=1, label='ROC curve (area = %0.2f)' % roc_auc)\n",
        "plt.plot([0, 1], [0, 1], color='navy', lw=1, linestyle='--')\n",
        "plt.xlim([0.0, 1.0])\n",
        "plt.ylim([0.0, 1.05])\n",
        "plt.xlabel('False Positive Rate')\n",
        "plt.ylabel('True Positive Rate')\n",
        "plt.title('Receiver operating characteristic')\n",
        "plt.legend(loc=\"lower right\")\n",
        "plt.show()\n",
        "print(\"\\n\\n\")\n",
        "print(metrics.classification_report(y_test,y_pred))"
      ],
      "execution_count": 155,
      "outputs": [
        {
          "output_type": "stream",
          "text": [
            " AUC =  0.8418896168504832\n"
          ],
          "name": "stdout"
        },
        {
          "output_type": "display_data",
          "data": {
            "image/png": "[encoded data removed]",
            "text/plain": [
              "<matplotlib.figure.Figure at 0x7fe98d48d400>"
            ]
          },
          "metadata": {
            "tags": []
          }
        },
        {
          "output_type": "stream",
          "text": [
            "\n",
            "\n",
            "\n",
            "              precision    recall  f1-score   support\n",
            "\n",
            "           0       0.76      0.63      0.69      5191\n",
            "           1       0.92      0.96      0.94     24809\n",
            "\n",
            "   micro avg       0.90      0.90      0.90     30000\n",
            "   macro avg       0.84      0.79      0.81     30000\n",
            "weighted avg       0.90      0.90      0.90     30000\n",
            "\n"
          ],
          "name": "stdout"
        }
      ]
    },
    {
      "metadata": {
        "id": "CdHdEGqkDwXC",
        "colab_type": "text"
      },
      "cell_type": "markdown",
      "source": [
        "**Top Feature for positive**"
      ]
    },
    {
      "metadata": {
        "id": "kwDyiA8Q39yI",
        "colab_type": "code",
        "outputId": "5f3853af-4768-4637-ab51-b0343f3eaedf",
        "colab": {
          "base_uri": "https://localhost:8080/",
          "height": 54
        }
      },
      "cell_type": "code",
      "source": [
        "feature_names=count_vectorizer.get_feature_names()\n",
        "a=getattr(clf, 'feature_log_prob_')\n",
        "top =zip(a[1], feature_names)\n",
        "top=list(top)\n",
        "top.sort(key=lambda x: x[0])\n",
        "l=len(top)\n",
        "for i in range(1,50):\n",
        "  print(top[l-i][1],end=\"\\t\")\n"
      ],
      "execution_count": 162,
      "outputs": [
        {
          "output_type": "stream",
          "text": [
            "not\tlike\tgood\tgreat\tone\ttaste\ttea\tflavor\tproduct\tlove\tcoffee\twould\tget\tamazon\tno\treally\tuse\tfood\tbest\talso\tmuch\tfind\tlittle\ttime\tprice\tmake\twell\ttried\tbuy\teven\tbetter\tchocolate\ttry\teat\tsugar\tfound\tused\tfree\tfirst\tsweet\tdelicious\twater\tcould\tstore\tmade\tbag\tcup\tdrink\tday\t"
          ],
          "name": "stdout"
        }
      ]
    },
    {
      "metadata": {
        "id": "bqj8FfRIDlfr",
        "colab_type": "text"
      },
      "cell_type": "markdown",
      "source": [
        "**Top Feature for negative**"
      ]
    },
    {
      "metadata": {
        "id": "2XzcT3vNDm8m",
        "colab_type": "code",
        "outputId": "4d35946e-3b3e-40ac-c908-f62b95d7f938",
        "colab": {
          "base_uri": "https://localhost:8080/",
          "height": 34
        }
      },
      "cell_type": "code",
      "source": [
        "feature_names=count_vectorizer.get_feature_names()\n",
        "a=getattr(clf, 'feature_log_prob_')\n",
        "top =zip(a[0], feature_names)\n",
        "top=list(top)\n",
        "top.sort(key=lambda x: x[0])\n",
        "l=len(top)\n",
        "for i in range(1,20):\n",
        "  print(top[l-i][1],end=\"\\t\")\n",
        "   "
      ],
      "execution_count": 163,
      "outputs": [
        {
          "output_type": "stream",
          "text": [
            "not\tlike\tproduct\twould\ttaste\tone\tgood\tno\tcoffee\tflavor\ttea\tget\teven\tbuy\tamazon\tfood\tmuch\treally\tcould\t"
          ],
          "name": "stdout"
        }
      ]
    }
  ]
}